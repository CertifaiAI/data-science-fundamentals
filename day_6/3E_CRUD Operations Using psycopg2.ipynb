{
 "cells": [
  {
   "cell_type": "markdown",
   "metadata": {
    "deletable": false,
    "editable": false
   },
   "source": [
    "![logo](https://user-images.githubusercontent.com/59526258/124226124-27125b80-db3b-11eb-8ba1-488d88018ebb.png)\n",
    "> **Copyright (c) 2021 CertifAI Sdn. Bhd.**<br>\n",
    " <br>\n",
    "This program is part of OSRFramework. You can redistribute it and/or modify\n",
    "<br>it under the terms of the GNU Affero General Public License as published by\n",
    "<br>the Free Software Foundation, either version 3 of the License, or\n",
    "<br>(at your option) any later version.\n",
    "<br>\n",
    "<br>This program is distributed in the hope that it will be useful,\n",
    "<br>but WITHOUT ANY WARRANTY; without even the implied warranty of\n",
    "<br>MERCHANTABILITY or FITNESS FOR A PARTICULAR PURPOSE.  See the\n",
    "<br>GNU Affero General Public License for more details.\n",
    "<br>\n",
    "<br>You should have received a copy of the GNU Affero General Public License\n",
    "<br>along with this program.  If not, see <http://www.gnu.org/licenses/>.\n",
    "<br>"
   ]
  },
  {
   "cell_type": "markdown",
   "metadata": {},
   "source": [
    "# CRUD Operations Using `psycopg2`\n",
    "\n",
    "## Introduction \n",
    "This tutorial is guide readers on how to use `psycopg2` library<sup>[[1]](#1)</sup> to perform create, read, update and delete (CRUD) operations.\n",
    "\n",
    "## What will we accomplish?\n",
    "By using `psycopy2`, readers are able to perform the following in Python:\n",
    "1. Create tables and rows in `PostgreSQL`,\n",
    "2. Read results of tables and rows in `PostgreSQL`,\n",
    "3. Update tables and rows in `PostgreSQL`, and\n",
    "4. Delete tables and rows in `PostgreSQL`.\n",
    "\n",
    "## Instruction\n",
    "You can follow along this notebook by yourself or alongside the instructor.\n",
    "\n",
    "## Notebook Content\n",
    "* [Create Operations](#create)\n",
    "* [Read Operations](#read)\n",
    "* [Update Operations](#update)\n",
    "* [Delete Operations](#delete)\n",
    "* [Exercise](#exercise)\n",
    "* [References](#references)"
   ]
  },
  {
   "cell_type": "markdown",
   "metadata": {},
   "source": [
    "## <a name=\"create\">Create Operations</a>\n",
    "Create operations are done using `INSERT` SQL commands. These commands are used to insert new data into an existing database.\n",
    "\n",
    "Before we get into the actual operations, let's do some setup work first that also serves as a recap of previous notebook - `Introduction to psycopg2`."
   ]
  },
  {
   "cell_type": "code",
   "execution_count": null,
   "metadata": {},
   "outputs": [],
   "source": [
    "# Import package\n",
    "import psycopg2\n",
    "from psycopg2 import sql"
   ]
  },
  {
   "cell_type": "markdown",
   "metadata": {},
   "source": [
    "### Recap"
   ]
  },
  {
   "cell_type": "code",
   "execution_count": null,
   "metadata": {},
   "outputs": [],
   "source": [
    "# Establish connection to Postgres server\n",
    "conn = psycopg2.connect(\n",
    "    host=\"localhost\",\n",
    "    user=\"postgres\",\n",
    "    password=\"admin\",\n",
    "    database=\"postgres\"\n",
    ")\n",
    "\n",
    "# Create a new database\n",
    "conn.autocommit = True\n",
    "cursor = conn.cursor()\n",
    "cursor.execute(\"CREATE DATABASE practice_2;\")\n",
    "\n",
    "# Disconnect from \"postgres\" DB\n",
    "cursor.close()\n",
    "conn.close()\n",
    "\n",
    "# Establish connection to newly created \"practice_2\" DB\n",
    "conn = psycopg2.connect(\n",
    "    host=\"localhost\",\n",
    "    user=\"postgres\",\n",
    "    password=\"admin\",\n",
    "    database=\"practice_2\"\n",
    ")\n",
    "\n",
    "# Create cursor object\n",
    "conn.autocommit = True\n",
    "cursor = conn.cursor()"
   ]
  },
  {
   "cell_type": "markdown",
   "metadata": {},
   "source": [
    "Let's create a new table and populate it with some data."
   ]
  },
  {
   "cell_type": "code",
   "execution_count": null,
   "metadata": {},
   "outputs": [],
   "source": [
    "query = \"\"\"\n",
    "CREATE TABLE country\n",
    "(\n",
    "    country_id INTEGER,\n",
    "    country_name VARCHAR(50) NOT NULL,\n",
    "    country_code VARCHAR(2) UNIQUE NOT NULL,\n",
    "    population INTEGER,\n",
    "    yearly_change NUMERIC(5, 2),\n",
    "    PRIMARY KEY (country_id)\n",
    ");\n",
    "\"\"\"\n",
    "cursor.execute(query)"
   ]
  },
  {
   "cell_type": "code",
   "execution_count": null,
   "metadata": {},
   "outputs": [],
   "source": [
    "# Hardcoded way of INSERT query\n",
    "query = \"\"\"\n",
    "INSERT INTO country (country_id, country_name, country_code, population, yearly_change)\n",
    "VALUES\n",
    "    (1, 'Malaysia', 'MY', 32365999, 1.30),\n",
    "    (2, 'Singapore', 'SG', 5850342, 0.79);\n",
    "\"\"\"\n",
    "cursor.execute(query)"
   ]
  },
  {
   "cell_type": "markdown",
   "metadata": {},
   "source": [
    "Replace the values with the `%s` placeholders in the SQL statement string, it will automatically perform type convertion and replacement when SQL statement string & sequence of values are passed into `cursor.execute()`."
   ]
  },
  {
   "cell_type": "code",
   "execution_count": null,
   "metadata": {},
   "outputs": [],
   "source": [
    "# Alternative way of INSERT query by passing parameters\n",
    "query = \"\"\"\n",
    "INSERT INTO country (country_id, country_name, country_code, population, yearly_change)\n",
    "VALUES (%s, %s, %s, %s, %s);\n",
    "\"\"\"\n",
    "cursor.execute(query, (3, 'Indonesia', 'ID', 126476461, -0.30,))"
   ]
  },
  {
   "cell_type": "markdown",
   "metadata": {},
   "source": [
    "We can validate that the table is created by querying the `pg_catalog.pg_tables` catalog. `WHERE` condition is used to filter out irrelevant system tables."
   ]
  },
  {
   "cell_type": "code",
   "execution_count": null,
   "metadata": {},
   "outputs": [],
   "source": [
    "query = \"\"\"\n",
    "SELECT pg_tables.tablename\n",
    "FROM pg_catalog.pg_tables\n",
    "WHERE schemaname != 'pg_catalog' AND \n",
    "schemaname != 'information_schema';\n",
    "\"\"\"\n",
    "cursor.execute(query)\n",
    "cursor.fetchall()"
   ]
  },
  {
   "cell_type": "markdown",
   "metadata": {},
   "source": [
    "##  <a name=\"read\">Read Operations</a>\n",
    "\n",
    "Read operations pertain with reading the inserted data. This operation corresponds with `SELECT` command in SQL. Below are some demonstrations on how to read data from tables in database."
   ]
  },
  {
   "cell_type": "markdown",
   "metadata": {},
   "source": [
    "To define SQL statement dynamically, we can use SQL string composition. <br>\n",
    "Use `sql.SQL()` to create an instance of SQL string composition, then perform `format()` on it. <br>\n",
    "`sql.Identifier()` usually is used for table name or column name, we cannot pass a normal string to `format()` on `SQL` string composition."
   ]
  },
  {
   "cell_type": "code",
   "execution_count": null,
   "metadata": {},
   "outputs": [],
   "source": [
    "# SELECT * FROM country;\n",
    "\n",
    "SQL_query = sql.SQL(\"SELECT * FROM {};\").format(sql.Identifier('country'))\n",
    "cursor.execute(SQL_query)\n",
    "\n",
    "cursor.fetchall()"
   ]
  },
  {
   "cell_type": "code",
   "execution_count": null,
   "metadata": {
    "ExecuteTime": {
     "end_time": "2021-10-01T10:06:08.859093Z",
     "start_time": "2021-10-01T10:06:08.849094Z"
    }
   },
   "outputs": [],
   "source": [
    "# Show what is the actual query executed in Postgresql\n",
    "print(cursor.query.decode(\"utf-8\"))"
   ]
  },
  {
   "cell_type": "markdown",
   "metadata": {},
   "source": [
    "You might wonder what each column means. We can call `description` attribute for the cursor to display column name."
   ]
  },
  {
   "cell_type": "code",
   "execution_count": null,
   "metadata": {},
   "outputs": [],
   "source": [
    "cursor.description"
   ]
  },
  {
   "cell_type": "markdown",
   "metadata": {},
   "source": [
    "Let's just display the columns `country_name` and `yearly_change` only."
   ]
  },
  {
   "cell_type": "code",
   "execution_count": null,
   "metadata": {},
   "outputs": [],
   "source": [
    "# SELECT country_name, population FROM country;\n",
    "\n",
    "SQL_query = sql.SQL(\"\"\"\n",
    "    SELECT {},{} FROM {};\n",
    "    \"\"\").format(\n",
    "    sql.Identifier('country_name'),\n",
    "    sql.Identifier('population'),\n",
    "    sql.Identifier('country'))\n",
    "\n",
    "cursor.execute(SQL_query)\n",
    "\n",
    "cursor.fetchall()"
   ]
  },
  {
   "cell_type": "code",
   "execution_count": null,
   "metadata": {
    "ExecuteTime": {
     "end_time": "2021-10-01T03:26:18.228448Z",
     "start_time": "2021-10-01T03:26:18.215447Z"
    }
   },
   "outputs": [],
   "source": [
    "cursor.description"
   ]
  },
  {
   "cell_type": "markdown",
   "metadata": {},
   "source": [
    "We can also perform the `JOIN` operation by passing the query in a string to `cursor.execute()`. Before that, let's quickly create another table and populate it with sample data."
   ]
  },
  {
   "cell_type": "code",
   "execution_count": null,
   "metadata": {},
   "outputs": [],
   "source": [
    "# create a new subcountry table\n",
    "query = \"\"\"\n",
    "CREATE TABLE IF NOT EXISTS subcountry\n",
    "(\n",
    "    subcountry_id INTEGER PRIMARY KEY GENERATED ALWAYS AS IDENTITY,\n",
    "    country_id INTEGER,\n",
    "    subcountry_name VARCHAR(100) NOT NULL,\n",
    "    subcountry_code VARCHAR(2) NOT NULL,\n",
    "    subcountry_level VARCHAR(100),\n",
    "    FOREIGN KEY (country_id)\n",
    "        REFERENCES country(country_id) ON DELETE CASCADE\n",
    ");\n",
    "\"\"\"\n",
    "cursor.execute(query)\n",
    "\n",
    "# insert some sample daa\n",
    "query = \"\"\"\n",
    "INSERT INTO subcountry (country_id, subcountry_name, subcountry_code, subcountry_level)\n",
    "VALUES\n",
    "    (1, 'Johor', '01', 'State'),\n",
    "    (1, 'Kedah', '02', 'State'),\n",
    "    (1, 'Kelantan', '03', 'State'),\n",
    "    (1, 'Wilayah Persekutuan Kuala Lumpur', '14', 'Federal Territory'),\n",
    "    (3, 'Aceh', 'AC', 'Special Region'),\n",
    "    (3, 'Bali', 'BA', 'Province'),\n",
    "    (3, 'Bangka Belitung', 'BB', 'Province'),\n",
    "    (3, 'Bengkulu', 'BE', 'Province')\n",
    "RETURNING *;\n",
    "\"\"\"\n",
    "\n",
    "cursor.execute(query)"
   ]
  },
  {
   "cell_type": "markdown",
   "metadata": {},
   "source": [
    "Now, let's run a `INNER JOIN` query to retrieve data from `country` and `subcountry` tables."
   ]
  },
  {
   "cell_type": "code",
   "execution_count": null,
   "metadata": {},
   "outputs": [],
   "source": [
    "# SELECT subcountry_name, subcountry_level, country_name\n",
    "# FROM subcountry\n",
    "# INNER JOIN country\n",
    "# ON subcountry.country_id = country.country_id;\n",
    "\n",
    "SQL_query = sql.SQL(\"\"\"\n",
    "    SELECT {}, {}, {}\n",
    "    FROM {}\n",
    "    INNER JOIN {}\n",
    "    ON subcountry.{} = country.{};\n",
    "    \"\"\").format(\n",
    "    sql.Identifier('subcountry_name'),\n",
    "    sql.Identifier('subcountry_level'),\n",
    "    sql.Identifier('country_name'),\n",
    "    sql.Identifier('subcountry'),\n",
    "    sql.Identifier('country'),\n",
    "    sql.Identifier('country_id'),\n",
    "    sql.Identifier('country_id'))\n",
    "\n",
    "cursor.execute(SQL_query)\n",
    "\n",
    "cursor.fetchall()"
   ]
  },
  {
   "cell_type": "markdown",
   "metadata": {},
   "source": [
    "##  <a name=\"update\">Update Operations</a>\n",
    "Update operations pertain with the act of modifying existing data. The corresponding SQL command for this type of operation is, wait for it, `UPDATE` command."
   ]
  },
  {
   "cell_type": "markdown",
   "metadata": {},
   "source": [
    "`{}` placeholders are used for table or column names formatting while `%s` placeholders are used for values formatting. <br>\n",
    "We can supply index value into `{}` placeholders to indicate which sql Identifier to use."
   ]
  },
  {
   "cell_type": "code",
   "execution_count": null,
   "metadata": {},
   "outputs": [],
   "source": [
    "# UPDATE country\n",
    "# SET population = 9999, yearly_change = 1.07\n",
    "# WHERE country_id = 3\n",
    "# RETURNING *;\n",
    "\n",
    "SQL_query = sql.SQL(\"\"\"\n",
    "    UPDATE {0}\n",
    "    SET {1} = %s, {2} = %s\n",
    "    WHERE {3} = %s\n",
    "    RETURNING *;\n",
    "    \"\"\").format(\n",
    "    sql.Identifier('country'),\n",
    "    sql.Identifier('population'),\n",
    "    sql.Identifier('yearly_change'),\n",
    "    sql.Identifier('country_id'))\n",
    "\n",
    "cursor.execute(SQL_query, (9999, 1.07, 3,))\n",
    "\n",
    "cursor.fetchall()"
   ]
  },
  {
   "cell_type": "code",
   "execution_count": null,
   "metadata": {
    "ExecuteTime": {
     "end_time": "2021-10-01T10:07:13.103988Z",
     "start_time": "2021-10-01T10:07:13.087414Z"
    }
   },
   "outputs": [],
   "source": [
    "print(cursor.query.decode(\"utf-8\"))"
   ]
  },
  {
   "cell_type": "markdown",
   "metadata": {},
   "source": [
    "## <a name=\"delete\">Delete Operations</a>\n",
    "\n",
    "Last but not least, delete operations are used to remove existing data. The corresponding SQL command is `DELETE`."
   ]
  },
  {
   "cell_type": "code",
   "execution_count": null,
   "metadata": {},
   "outputs": [],
   "source": [
    "# DELETE FROM country\n",
    "# WHERE country_name = 'Malaysia'\n",
    "# RETURNING *;\n",
    "\n",
    "SQL_query = sql.SQL(\"\"\"\n",
    "    DELETE FROM {}\n",
    "    WHERE {} = %s\n",
    "    RETURNING *;\n",
    "    \"\"\").format(\n",
    "    sql.Identifier('country'),\n",
    "    sql.Identifier('country_name'))\n",
    "\n",
    "cursor.execute(SQL_query, ('Malaysia',))\n",
    "\n",
    "cursor.fetchall()"
   ]
  },
  {
   "cell_type": "markdown",
   "metadata": {},
   "source": [
    "We can also remove the table from the database."
   ]
  },
  {
   "cell_type": "code",
   "execution_count": null,
   "metadata": {},
   "outputs": [],
   "source": [
    "# DROP TABLE IF EXISTS subcountry;\n",
    "\n",
    "SQL_query = sql.SQL(\"DROP TABLE IF EXISTS {};\").format(sql.Identifier('subcountry'))\n",
    "\n",
    "cursor.execute(SQL_query)"
   ]
  },
  {
   "cell_type": "code",
   "execution_count": null,
   "metadata": {},
   "outputs": [],
   "source": [
    "# DROP TABLE IF EXISTS country;\n",
    "\n",
    "SQL_query = sql.SQL(\"DROP TABLE IF EXISTS {};\").format(sql.Identifier('country'))\n",
    "\n",
    "cursor.execute(SQL_query)"
   ]
  },
  {
   "cell_type": "code",
   "execution_count": null,
   "metadata": {
    "ExecuteTime": {
     "end_time": "2021-10-01T03:28:12.327792Z",
     "start_time": "2021-10-01T03:28:12.317793Z"
    }
   },
   "outputs": [],
   "source": [
    "cursor.close()\n",
    "conn.close()"
   ]
  },
  {
   "cell_type": "markdown",
   "metadata": {},
   "source": [
    "## <a name=\"exercise\">Exercise</a>\n",
    "\n",
    "Below are exercises to practice what we have just learnt. Follow along the instructions provided in the comment."
   ]
  },
  {
   "cell_type": "code",
   "execution_count": null,
   "metadata": {},
   "outputs": [],
   "source": [
    "# Establish connection to \"practice_2\" Postgres database\n",
    "conn = psycopg2.connect(\n",
    "    host=\"localhost\",\n",
    "    user=\"postgres\",\n",
    "    password=\"admin\",\n",
    "    database=\"practice_2\"\n",
    ")\n",
    "\n",
    "# Set autocommit mode & create cursor instance\n",
    "conn.autocommit = True\n",
    "cursor = conn.cursor()"
   ]
  },
  {
   "cell_type": "markdown",
   "metadata": {},
   "source": [
    "You are required to create another table for `titanic_train` with the columns, data types and constraints defined below.\n",
    "\n",
    "| Column name | Data Type    | Constraint  |\n",
    "| ----------- | ------------ | ----------- |\n",
    "| PassengerId | INTEGER      | PRIMARY KEY |\n",
    "| Survived    | BOOLEAN      |             |\n",
    "| Pclass      | INTEGER      |             |\n",
    "| Name        | VARCHAR(255) |             |\n",
    "| Sex         | VARCHAR(255) |             |\n",
    "| Age         | REAL         |             |\n",
    "| SibSp       | INTEGER      |             |\n",
    "| Parch       | INTEGER      |             |\n",
    "| Ticket      | VARCHAR(255) |             |\n",
    "| Fare        | REAL         |             |\n",
    "| Cabin       | VARCHAR(255) |             |\n",
    "| Embarked    | VARCHAR(255) |             |"
   ]
  },
  {
   "cell_type": "code",
   "execution_count": null,
   "metadata": {},
   "outputs": [],
   "source": [
    "# Create titanic_train table by following the schema provided \n",
    "#    at https://www.kaggle.com/c/titanic/data?select=train.csv\n"
   ]
  },
  {
   "cell_type": "code",
   "execution_count": null,
   "metadata": {},
   "outputs": [],
   "source": [
    "# Inspect created table schema\n",
    "query = \"\"\"\n",
    "    SELECT column_name, data_type, character_maximum_length, is_nullable\n",
    "    FROM INFORMATION_SCHEMA.COLUMNS \n",
    "    WHERE table_name = 'titanic_train';\"\"\"\n",
    "\n",
    "cursor.execute(query)\n",
    "cursor.fetchall()"
   ]
  },
  {
   "cell_type": "code",
   "execution_count": null,
   "metadata": {},
   "outputs": [],
   "source": [
    "# Get valid dataset path\n",
    "from pathlib import Path\n",
    "dataset_path = str(Path().resolve().parent/\"data/titanic_train.csv\")\n",
    "\n",
    "# Copy over data from csv file to database table\n",
    "query = \"\"\"\n",
    "COPY titanic_train\n",
    "FROM %s\n",
    "DELIMITER ','\n",
    "CSV HEADER;\n",
    "\"\"\"\n",
    "cursor.execute(query, (dataset_path,))"
   ]
  },
  {
   "cell_type": "code",
   "execution_count": null,
   "metadata": {},
   "outputs": [],
   "source": [
    "# Read first 3 rows of records from titanic_train table\n",
    "# Use \"LIMIT 3;\" in the end of SQL statement\n"
   ]
  },
  {
   "cell_type": "code",
   "execution_count": null,
   "metadata": {},
   "outputs": [],
   "source": [
    "# Update passenger name for PassengerId 1 with your friend's name\n"
   ]
  },
  {
   "cell_type": "code",
   "execution_count": null,
   "metadata": {},
   "outputs": [],
   "source": [
    "# Remove all rows where passengers did not survive\n"
   ]
  },
  {
   "cell_type": "code",
   "execution_count": null,
   "metadata": {},
   "outputs": [],
   "source": [
    "# Remove titanic_train table\n"
   ]
  },
  {
   "cell_type": "markdown",
   "metadata": {},
   "source": [
    "### Clean-up\n",
    "\n",
    "Let's remove the database we created solely for this notebook. You may keep it but we are not going to use it for the remainder of this course."
   ]
  },
  {
   "cell_type": "code",
   "execution_count": null,
   "metadata": {},
   "outputs": [],
   "source": [
    "# Close cursor session & connection\n"
   ]
  },
  {
   "cell_type": "code",
   "execution_count": null,
   "metadata": {},
   "outputs": [],
   "source": [
    "# Reconnect to \"postgres\" database\n",
    "\n",
    "\n",
    "# Set autocommit mode & create cursor instance\n"
   ]
  },
  {
   "cell_type": "code",
   "execution_count": null,
   "metadata": {},
   "outputs": [],
   "source": [
    "# Drop the \"practice_2\" database and return existing DBs\n",
    "\n",
    "\n",
    "# Close current cursor session & connection\n"
   ]
  },
  {
   "cell_type": "markdown",
   "metadata": {},
   "source": [
    "## <a name=\"Summary\">Summary \n",
    "After this tutorial, you should have been able to:\n",
    "\n",
    "1. Create tables and rows in `PostgreSQL`,\n",
    "2. Read results of tables and rows in `PostgreSQL`,\n",
    "3. Update tables and rows in `PostgreSQL`, and\n",
    "4. Delete tables and rows in `PostgreSQL`.\n",
    "\n",
    "Congratulations, that concludes this lesson."
   ]
  },
  {
   "cell_type": "markdown",
   "metadata": {},
   "source": [
    "## Contributors\n",
    "**Author**<br>\n",
    "[Lee Kian Yang](https://github.com/KianYang-Lee)\n"
   ]
  },
  {
   "cell_type": "markdown",
   "metadata": {},
   "source": [
    "## <a name=\"references\">References</a>\n",
    "- <a name=\"1\">[1]</a> [psycopg Official Website](https://www.psycopg.org/)\n",
    "- [PostgreSQL Python: Create Tables](https://www.postgresqltutorial.com/postgresql-python/create-tables/)\n",
    "- [Psycopy 2.9.1 Documentation: Query Parameters](https://www.psycopg.org/docs/usage.html#query-parameters)\n",
    "- [Passing Table Name as a Parameter in psycopg2](https://stackoverflow.com/questions/13793399/passing-table-name-as-a-parameter-in-psycopg2)"
   ]
  }
 ],
 "metadata": {
  "interpreter": {
   "hash": "6e9bd391114542e88ece639d5ee58073c16fde71299433659d3bc0407023ddec"
  },
  "kernelspec": {
   "display_name": "Python 3.7.3 64-bit ('peer2': conda)",
   "name": "python3"
  },
  "language_info": {
   "codemirror_mode": {
    "name": "ipython",
    "version": 3
   },
   "file_extension": ".py",
   "mimetype": "text/x-python",
   "name": "python",
   "nbconvert_exporter": "python",
   "pygments_lexer": "ipython3",
   "version": "3.7.3"
  },
  "varInspector": {
   "cols": {
    "lenName": 16,
    "lenType": 16,
    "lenVar": 40
   },
   "kernels_config": {
    "python": {
     "delete_cmd_postfix": "",
     "delete_cmd_prefix": "del ",
     "library": "var_list.py",
     "varRefreshCmd": "print(var_dic_list())"
    },
    "r": {
     "delete_cmd_postfix": ") ",
     "delete_cmd_prefix": "rm(",
     "library": "var_list.r",
     "varRefreshCmd": "cat(var_dic_list()) "
    }
   },
   "types_to_exclude": [
    "module",
    "function",
    "builtin_function_or_method",
    "instance",
    "_Feature"
   ],
   "window_display": false
  }
 },
 "nbformat": 4,
 "nbformat_minor": 4
}
