{
 "cells": [
  {
   "cell_type": "markdown",
   "source": [
    "![logo](https://user-images.githubusercontent.com/59526258/124226124-27125b80-db3b-11eb-8ba1-488d88018ebb.png)\r\n",
    "\r\n",
    "> **Copyright (c) 2021 CertifAI Sdn. Bhd.**<br>\r\n",
    " <br>\r\n",
    "This program is part of OSRFramework. You can redistribute it and/or modify\r\n",
    "<br>it under the terms of the GNU Affero General Public License as published by\r\n",
    "<br>the Free Software Foundation, either version 3 of the License, or\r\n",
    "<br>(at your option) any later version.\r\n",
    "<br>\r\n",
    "<br>This program is distributed in the hope that it will be useful,\r\n",
    "<br>but WITHOUT ANY WARRANTY; without even the implied warranty of\r\n",
    "<br>MERCHANTABILITY or FITNESS FOR A PARTICULAR PURPOSE.  See the\r\n",
    "<br>GNU Affero General Public License for more details.\r\n",
    "<br>\r\n",
    "<br>You should have received a copy of the GNU Affero General Public License\r\n",
    "<br>along with this program.  If not, see <http://www.gnu.org/licenses/>.\r\n",
    "<br>"
   ],
   "metadata": {
    "deletable": false,
    "editable": false,
    "trustable": true
   }
  },
  {
   "cell_type": "markdown",
   "source": [
    "# Introduction to Support Vector Machines (SVM)"
   ],
   "metadata": {}
  },
  {
   "cell_type": "code",
   "execution_count": null,
   "source": [
    "import numpy as np\r\n",
    "import matplotlib.pyplot as plt\r\n",
    "from sklearn import datasets\r\n",
    "from sklearn import model_selection\r\n",
    "from sklearn import metrics\r\n",
    "from sklearn.metrics import confusion_matrix\r\n",
    "\r\n",
    "#TODO : Import Support Vector Classifier \r\n",
    "from sklearn.svm import \r\n",
    "\r\n",
    "%matplotlib inline"
   ],
   "outputs": [],
   "metadata": {}
  },
  {
   "cell_type": "markdown",
   "source": [
    "Create a dummy dataset"
   ],
   "metadata": {}
  },
  {
   "cell_type": "code",
   "execution_count": null,
   "source": [
    "X, y = datasets.make_classification(n_samples=100, n_features=2,\n",
    "                                    n_redundant=0, n_classes=2,\n",
    "                                    random_state=123)"
   ],
   "outputs": [],
   "metadata": {}
  },
  {
   "cell_type": "markdown",
   "source": [
    "Display the dimension of the data"
   ],
   "metadata": {}
  },
  {
   "cell_type": "code",
   "execution_count": null,
   "source": [
    "X.shape, y.shape"
   ],
   "outputs": [],
   "metadata": {}
  },
  {
   "cell_type": "markdown",
   "source": [
    "Visualizing the data"
   ],
   "metadata": {}
  },
  {
   "cell_type": "code",
   "execution_count": null,
   "source": [
    "plt.figure(figsize=(10, 6))\n",
    "plt.scatter(X[:,0], X[:,1], c=y, cmap=plt.cm.coolwarm, s=100)\n",
    "plt.xlabel('X values')\n",
    "plt.ylabel('Y values')"
   ],
   "outputs": [],
   "metadata": {}
  },
  {
   "cell_type": "markdown",
   "source": [
    "Split the dataset into training set and test set."
   ],
   "metadata": {}
  },
  {
   "cell_type": "code",
   "execution_count": null,
   "source": [
    "#TODO : Split the data into training set and test set\n",
    ", , ,  = model_selection.train_test_split(X, y, test_size=0.3, \n",
    "                                          random_state=123)"
   ],
   "outputs": [],
   "metadata": {}
  },
  {
   "cell_type": "markdown",
   "source": [
    "Create a Linear SVM classifier."
   ],
   "metadata": {}
  },
  {
   "cell_type": "code",
   "execution_count": null,
   "source": [
    "# TODO: Build the classifier\n",
    "params = {'kernel':''}\n",
    "classifier = (**params, gamma='auto')"
   ],
   "outputs": [],
   "metadata": {}
  },
  {
   "cell_type": "markdown",
   "source": [
    "Train the classifier model."
   ],
   "metadata": {}
  },
  {
   "cell_type": "code",
   "execution_count": null,
   "source": [
    "#TODO: Fit the model with the data\n",
    "classifier.(X_train,y_train)"
   ],
   "outputs": [],
   "metadata": {}
  },
  {
   "cell_type": "markdown",
   "source": [
    "Get the predictions."
   ],
   "metadata": {}
  },
  {
   "cell_type": "code",
   "execution_count": null,
   "source": [
    "#TODO: Predict the Test set\n",
    "predictions = classifier.(X_test)"
   ],
   "outputs": [],
   "metadata": {}
  },
  {
   "cell_type": "markdown",
   "source": [
    "Get the confusion matrix."
   ],
   "metadata": {}
  },
  {
   "cell_type": "code",
   "execution_count": null,
   "source": [
    "#TODO: Get the confusion matrix\n",
    "print((y_test,predictions))"
   ],
   "outputs": [],
   "metadata": {}
  },
  {
   "cell_type": "markdown",
   "source": [
    "Get the accuracy score of predicted results versus ground truth labels."
   ],
   "metadata": {}
  },
  {
   "cell_type": "code",
   "execution_count": null,
   "source": [
    "print(metrics.accuracy_score(y_test, predictions))"
   ],
   "outputs": [],
   "metadata": {
    "scrolled": true
   }
  },
  {
   "cell_type": "code",
   "execution_count": null,
   "source": [
    "def plot_decision_boundary(classifier, X_test, y_test):\n",
    "    \n",
    "    # create a mesh to plot in\n",
    "    \n",
    "    h = 0.02  # step size in mesh\n",
    "    x_min, x_max = X_test[:, 0].min() - 1, X_test[:, 0].max() + 1\n",
    "    y_min, y_max = X_test[:, 1].min() - 1, X_test[:, 1].max() + 1\n",
    "    \n",
    "    xx, yy = np.meshgrid(np.arange(x_min, x_max, h),\n",
    "                         np.arange(y_min, y_max, h))\n",
    "    \n",
    "    X_hypo = np.c_[xx.ravel().astype(np.float32),\n",
    "                   yy.ravel().astype(np.float32)]\n",
    "    zz = classifier.predict(X_hypo)\n",
    "    zz = zz.reshape(xx.shape)\n",
    "    \n",
    "    plt.contourf(xx, yy, zz, cmap=plt.cm.coolwarm, alpha=0.9)\n",
    "    plt.scatter(X_test[:, 0], X_test[:, 1], c=y_test, cmap=plt.cm.coolwarm, s=200)"
   ],
   "outputs": [],
   "metadata": {}
  },
  {
   "cell_type": "markdown",
   "source": [
    "Visualizing the decision boundary"
   ],
   "metadata": {}
  },
  {
   "cell_type": "code",
   "execution_count": null,
   "source": [
    "plt.figure(figsize=(10, 6))\n",
    "plot_decision_boundary(classifier, X_test, y_test)"
   ],
   "outputs": [],
   "metadata": {}
  },
  {
   "cell_type": "markdown",
   "source": [
    "# Build a non-linear classifier using SVM"
   ],
   "metadata": {}
  },
  {
   "cell_type": "markdown",
   "source": [
    "Create a SVM classifier that uses **RBF** kernel."
   ],
   "metadata": {}
  },
  {
   "cell_type": "code",
   "execution_count": null,
   "source": [
    "#TODO : Fill in the params for RBF Kernel\n",
    "params = {'':''}\n",
    "classifier = SVC(**params, gamma='auto')\n",
    "classifier.fit(X_train, y_train)\n",
    "predictions = classifier.predict(X_test)\n",
    "\n",
    "print(confusion_matrix(y_test, predictions))\n",
    "print(metrics.accuracy_score(y_test, predictions))"
   ],
   "outputs": [],
   "metadata": {}
  },
  {
   "cell_type": "markdown",
   "source": [
    "The accuracy increased to 95% when we use a non-linear classifier!\n",
    "\n",
    "Since the data has only 2 features, it is easy to plot for visualization.\n",
    "\n",
    "You can visualize the effect of a non-linear SVM classifier on our test dataset."
   ],
   "metadata": {}
  },
  {
   "cell_type": "code",
   "execution_count": null,
   "source": [
    "plt.figure(figsize=(10, 6))\n",
    "plot_decision_boundary(classifier, X_test, y_test)"
   ],
   "outputs": [],
   "metadata": {}
  },
  {
   "cell_type": "markdown",
   "source": [
    "We can test out other non-linear SVM variants available by changing the SVM kernel and visualize the effect on our test dataset."
   ],
   "metadata": {}
  },
  {
   "cell_type": "markdown",
   "source": [
    "Create a SVM classifier that uses **polynomial** kernel."
   ],
   "metadata": {}
  },
  {
   "cell_type": "code",
   "execution_count": null,
   "source": [
    "#TODO : Fill in the params for Polynomial Kernel\n",
    "params = {'':'','degree':3}\n",
    "classifier = SVC(**params, gamma='auto')\n",
    "classifier.fit(X_train,y_train)\n",
    "predictions = classifier.predict(X_test)\n",
    "\n",
    "print(confusion_matrix(y_test,predictions))\n",
    "print(metrics.accuracy_score(y_test, predictions))"
   ],
   "outputs": [],
   "metadata": {}
  },
  {
   "cell_type": "markdown",
   "source": [
    "Visualize the decision boundary of the **polynomial** kernel"
   ],
   "metadata": {}
  },
  {
   "cell_type": "code",
   "execution_count": null,
   "source": [
    "plt.figure(figsize=(10, 6))\n",
    "plot_decision_boundary(classifier, X_test, y_test)"
   ],
   "outputs": [],
   "metadata": {}
  },
  {
   "cell_type": "markdown",
   "source": [
    "Create a SVM classifier that uses **sigmoid** kernel."
   ],
   "metadata": {}
  },
  {
   "cell_type": "code",
   "execution_count": null,
   "source": [
    "params = {'kernel':'sigmoid'}\n",
    "classifier = SVC(**params, gamma='auto')\n",
    "classifier.fit(X_train,y_train)\n",
    "predictions = classifier.predict(X_test)\n",
    "\n",
    "print(confusion_matrix(y_test,predictions))\n",
    "print(metrics.accuracy_score(y_test, predictions))"
   ],
   "outputs": [],
   "metadata": {}
  },
  {
   "cell_type": "markdown",
   "source": [
    "Visualize the decision boundary of the **sigmoid** kernel"
   ],
   "metadata": {}
  },
  {
   "cell_type": "code",
   "execution_count": null,
   "source": [
    "plt.figure(figsize=(10, 6))\n",
    "plot_decision_boundary(classifier, X_test, y_test)"
   ],
   "outputs": [],
   "metadata": {}
  },
  {
   "cell_type": "markdown",
   "source": [
    "# Classifying IRIS dataset by using Support Vector Machine"
   ],
   "metadata": {}
  },
  {
   "cell_type": "markdown",
   "source": [
    "### Load Data\n",
    "Here we will load the IRIS dataset from *scikit-learn*. We will be utilizing `iris.data` and `iris.target` as usual for our features and values."
   ],
   "metadata": {}
  },
  {
   "cell_type": "code",
   "execution_count": null,
   "source": [
    "iris = datasets.load_iris()"
   ],
   "outputs": [],
   "metadata": {}
  },
  {
   "cell_type": "markdown",
   "source": [
    "As usual `dir(iris)` shows the attributes of the iris datasets.<br> \n",
    "- `iris.data.shape` shows the shape of the data.<br>\n",
    "- `iris.target_names` shows the classes that we want to classify.<br>\n",
    "- `iris.feature_names` shows the name of features that we are training."
   ],
   "metadata": {}
  },
  {
   "cell_type": "code",
   "execution_count": null,
   "source": [
    "dir(iris)"
   ],
   "outputs": [],
   "metadata": {
    "scrolled": true
   }
  },
  {
   "cell_type": "code",
   "execution_count": null,
   "source": [
    "iris.data.shape"
   ],
   "outputs": [],
   "metadata": {}
  },
  {
   "cell_type": "code",
   "execution_count": null,
   "source": [
    "iris.target_names"
   ],
   "outputs": [],
   "metadata": {}
  },
  {
   "cell_type": "code",
   "execution_count": null,
   "source": [
    "iris.feature_names"
   ],
   "outputs": [],
   "metadata": {}
  },
  {
   "cell_type": "markdown",
   "source": [
    "The respective integer values assigned for the output(y) for training"
   ],
   "metadata": {}
  },
  {
   "cell_type": "code",
   "execution_count": null,
   "source": [
    "np.unique(iris.target)"
   ],
   "outputs": [],
   "metadata": {}
  },
  {
   "cell_type": "code",
   "execution_count": null,
   "source": [
    "print(iris.target)"
   ],
   "outputs": [],
   "metadata": {}
  },
  {
   "cell_type": "code",
   "execution_count": null,
   "source": [
    "data = iris.data.astype(np.float32)\n",
    "target = iris.target.astype(np.float32)"
   ],
   "outputs": [],
   "metadata": {}
  },
  {
   "cell_type": "code",
   "execution_count": null,
   "source": [
    "print(len(data))\n",
    "print(len(target))"
   ],
   "outputs": [],
   "metadata": {}
  },
  {
   "cell_type": "markdown",
   "source": [
    "Splitting the data into training and test set"
   ],
   "metadata": {}
  },
  {
   "cell_type": "code",
   "execution_count": null,
   "source": [
    "X_train, X_test, y_train, y_test = model_selection.train_test_split(data, \n",
    "                                                                    target,\n",
    "                                                                    test_size=0.3, \n",
    "                                                                    random_state=123)"
   ],
   "outputs": [],
   "metadata": {}
  },
  {
   "cell_type": "code",
   "execution_count": null,
   "source": [
    "X_train.shape, y_train.shape"
   ],
   "outputs": [],
   "metadata": {}
  },
  {
   "cell_type": "code",
   "execution_count": null,
   "source": [
    "X_test.shape, y_test.shape"
   ],
   "outputs": [],
   "metadata": {}
  },
  {
   "cell_type": "markdown",
   "source": [
    "Declaring the parameters for the SVM"
   ],
   "metadata": {}
  },
  {
   "cell_type": "code",
   "execution_count": null,
   "source": [
    "params = {'kernel':'linear'}\n",
    "classifier = SVC(**params, gamma='auto')"
   ],
   "outputs": [],
   "metadata": {}
  },
  {
   "cell_type": "markdown",
   "source": [
    "Train the classifier."
   ],
   "metadata": {}
  },
  {
   "cell_type": "code",
   "execution_count": null,
   "source": [
    "#TODO : Fill in the needed arguments for training\n",
    "classifier.fit(,)"
   ],
   "outputs": [],
   "metadata": {
    "scrolled": true
   }
  },
  {
   "cell_type": "markdown",
   "source": [
    "Get the predictions."
   ],
   "metadata": {}
  },
  {
   "cell_type": "code",
   "execution_count": null,
   "source": [
    "# TODO: Fill in the arguments for classifier.predict\n",
    "predictions = classifier.predict()"
   ],
   "outputs": [],
   "metadata": {}
  },
  {
   "cell_type": "markdown",
   "source": [
    "Visualizing the confusion matrix and accuracy"
   ],
   "metadata": {}
  },
  {
   "cell_type": "code",
   "execution_count": null,
   "source": [
    "print(confusion_matrix(y_test, predictions))"
   ],
   "outputs": [],
   "metadata": {
    "scrolled": false
   }
  },
  {
   "cell_type": "code",
   "execution_count": null,
   "source": [
    "print(metrics.accuracy_score(y_test, predictions))"
   ],
   "outputs": [],
   "metadata": {}
  },
  {
   "cell_type": "markdown",
   "source": [
    "Use SVM with **non-linear** kernels to perform classification.\n",
    "\n",
    "Check with Polynomial, RBF then Sigmoid kernels."
   ],
   "metadata": {}
  },
  {
   "cell_type": "code",
   "execution_count": null,
   "source": [
    "# TODO: Fill the params for each respective kernels\n",
    "\n",
    "poly_params = {'':'', 'degree':3}\n",
    "rbf_params = {'':''}\n",
    "sigmoid_params = {'':''}\n",
    "\n",
    "params_list = [poly_params,rbf_params,sigmoid_params]"
   ],
   "outputs": [],
   "metadata": {}
  },
  {
   "cell_type": "markdown",
   "source": [
    "Use for loop to train models with different kernels"
   ],
   "metadata": {}
  },
  {
   "cell_type": "code",
   "execution_count": null,
   "source": [
    "for params in params_list:\n",
    "    \n",
    "    # TODO: Complete the code for training\n",
    "    classifier = (**params, gamma='auto')\n",
    "    classifier.(X_train, y_train)\n",
    "    predictions = classifier.predict(X_test)\n",
    "\n",
    "    print(\"Kernel: \" + params['kernel'])\n",
    "    print(\"Confusion Matrix:\")\n",
    "    print(confusion_matrix(y_test, predictions))\n",
    "    print(\"Accuracy:\")\n",
    "    print(metrics.accuracy_score(y_test, predictions))\n",
    "    print(\"\")"
   ],
   "outputs": [],
   "metadata": {}
  },
  {
   "cell_type": "markdown",
   "source": [
    "As you can see the rbf and polynomial kernels, slightly improve the accuracy score because the IRIS dataset that we use is almost linearly separable. Sigmoid kernel does not perform well for this dataset."
   ],
   "metadata": {}
  }
 ],
 "metadata": {
  "kernelspec": {
   "display_name": "Python 3",
   "language": "python",
   "name": "python3"
  },
  "language_info": {
   "codemirror_mode": {
    "name": "ipython",
    "version": 3
   },
   "file_extension": ".py",
   "mimetype": "text/x-python",
   "name": "python",
   "nbconvert_exporter": "python",
   "pygments_lexer": "ipython3",
   "version": "3.7.3"
  }
 },
 "nbformat": 4,
 "nbformat_minor": 2
}