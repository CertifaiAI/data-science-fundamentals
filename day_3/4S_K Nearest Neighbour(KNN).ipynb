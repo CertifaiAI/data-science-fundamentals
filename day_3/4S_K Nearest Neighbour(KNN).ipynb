{
 "cells": [
  {
   "cell_type": "markdown",
   "source": [
    "![logo](https://user-images.githubusercontent.com/59526258/124226124-27125b80-db3b-11eb-8ba1-488d88018ebb.png)\r\n",
    "\r\n",
    "> **Copyright (c) 2021 CertifAI Sdn. Bhd.**<br>\r\n",
    " <br>\r\n",
    "This program is part of OSRFramework. You can redistribute it and/or modify\r\n",
    "<br>it under the terms of the GNU Affero General Public License as published by\r\n",
    "<br>the Free Software Foundation, either version 3 of the License, or\r\n",
    "<br>(at your option) any later version.\r\n",
    "<br>\r\n",
    "<br>This program is distributed in the hope that it will be useful,\r\n",
    "<br>but WITHOUT ANY WARRANTY; without even the implied warranty of\r\n",
    "<br>MERCHANTABILITY or FITNESS FOR A PARTICULAR PURPOSE.  See the\r\n",
    "<br>GNU Affero General Public License for more details.\r\n",
    "<br>\r\n",
    "<br>You should have received a copy of the GNU Affero General Public License\r\n",
    "<br>along with this program.  If not, see <http://www.gnu.org/licenses/>.\r\n",
    "<br>"
   ],
   "metadata": {
    "deletable": false,
    "editable": false
   }
  },
  {
   "cell_type": "markdown",
   "source": [
    "# Perform Classification by using K Nearest Neighbour (KNN)"
   ],
   "metadata": {}
  },
  {
   "cell_type": "code",
   "execution_count": 2,
   "source": [
    "import numpy as np\r\n",
    "from sklearn import datasets\r\n",
    "from sklearn import model_selection\r\n",
    "from sklearn import metrics\r\n",
    "from sklearn import preprocessing\r\n",
    "from imblearn.over_sampling import SMOTE\r\n",
    "import pandas as pd\r\n",
    "import requests as req\r\n",
    "\r\n",
    "\r\n",
    "import matplotlib.pyplot as plt\r\n",
    "%matplotlib inline"
   ],
   "outputs": [],
   "metadata": {
    "scrolled": true
   }
  },
  {
   "cell_type": "markdown",
   "source": [
    "## Classifying Iris Dataset With KNN\n",
    "### Load Data\n",
    "Here we will load the IRIS dataset from scikit-learn. We will be utilizing `iris.data` and `iris.target` as usual for our features and values."
   ],
   "metadata": {}
  },
  {
   "cell_type": "code",
   "execution_count": 3,
   "source": [
    "iris = datasets.load_iris()"
   ],
   "outputs": [],
   "metadata": {}
  },
  {
   "cell_type": "markdown",
   "source": [
    "As usual `dir(iris)` shows the attributes of the iris datasets.<br> `iris.data.shape` shows the shape of the data.<br>\n",
    "`iris.target_names` shows the classes that we want to classify.<br>\n",
    "`iris.feature_names` shows the name of features that we are training."
   ],
   "metadata": {}
  },
  {
   "cell_type": "code",
   "execution_count": 4,
   "source": [
    "dir(iris)"
   ],
   "outputs": [
    {
     "output_type": "execute_result",
     "data": {
      "text/plain": [
       "['DESCR',\n",
       " 'data',\n",
       " 'feature_names',\n",
       " 'filename',\n",
       " 'frame',\n",
       " 'target',\n",
       " 'target_names']"
      ]
     },
     "metadata": {},
     "execution_count": 4
    }
   ],
   "metadata": {}
  },
  {
   "cell_type": "code",
   "execution_count": 5,
   "source": [
    "iris.data.shape"
   ],
   "outputs": [
    {
     "output_type": "execute_result",
     "data": {
      "text/plain": [
       "(150, 4)"
      ]
     },
     "metadata": {},
     "execution_count": 5
    }
   ],
   "metadata": {}
  },
  {
   "cell_type": "code",
   "execution_count": 6,
   "source": [
    "iris.target_names"
   ],
   "outputs": [
    {
     "output_type": "execute_result",
     "data": {
      "text/plain": [
       "array(['setosa', 'versicolor', 'virginica'], dtype='<U10')"
      ]
     },
     "metadata": {},
     "execution_count": 6
    }
   ],
   "metadata": {}
  },
  {
   "cell_type": "code",
   "execution_count": 7,
   "source": [
    "iris.feature_names"
   ],
   "outputs": [
    {
     "output_type": "execute_result",
     "data": {
      "text/plain": [
       "['sepal length (cm)',\n",
       " 'sepal width (cm)',\n",
       " 'petal length (cm)',\n",
       " 'petal width (cm)']"
      ]
     },
     "metadata": {},
     "execution_count": 7
    }
   ],
   "metadata": {}
  },
  {
   "cell_type": "code",
   "execution_count": 8,
   "source": [
    "data = iris.data.astype(np.float32)\n",
    "target = iris.target.astype(np.float32)"
   ],
   "outputs": [],
   "metadata": {}
  },
  {
   "cell_type": "markdown",
   "source": [
    "Split data into train and test sets."
   ],
   "metadata": {}
  },
  {
   "cell_type": "code",
   "execution_count": 9,
   "source": [
    "X_train, X_test, y_train, y_test = model_selection.train_test_split(\n",
    "    data, target, test_size=0.3, random_state=123\n",
    ")"
   ],
   "outputs": [],
   "metadata": {}
  },
  {
   "cell_type": "code",
   "execution_count": 10,
   "source": [
    "X_train.shape, y_train.shape"
   ],
   "outputs": [
    {
     "output_type": "execute_result",
     "data": {
      "text/plain": [
       "((105, 4), (105,))"
      ]
     },
     "metadata": {},
     "execution_count": 10
    }
   ],
   "metadata": {}
  },
  {
   "cell_type": "code",
   "execution_count": 11,
   "source": [
    "X_test.shape, y_test.shape"
   ],
   "outputs": [
    {
     "output_type": "execute_result",
     "data": {
      "text/plain": [
       "((45, 4), (45,))"
      ]
     },
     "metadata": {},
     "execution_count": 11
    }
   ],
   "metadata": {}
  },
  {
   "cell_type": "markdown",
   "source": [
    "### Model Training\n",
    "We will use K Nearest Neighbours from scikit learn."
   ],
   "metadata": {}
  },
  {
   "cell_type": "code",
   "execution_count": 12,
   "source": [
    "from sklearn.neighbors import KNeighborsClassifier"
   ],
   "outputs": [],
   "metadata": {}
  },
  {
   "cell_type": "markdown",
   "source": [
    "Initialize the model.<br>\n",
    "Specify the number of neighbors to 3."
   ],
   "metadata": {}
  },
  {
   "cell_type": "code",
   "execution_count": 13,
   "source": [
    "model = KNeighborsClassifier(n_neighbors=3)"
   ],
   "outputs": [],
   "metadata": {}
  },
  {
   "cell_type": "markdown",
   "source": [
    "Train the model by using train dataset."
   ],
   "metadata": {}
  },
  {
   "cell_type": "code",
   "execution_count": 14,
   "source": [
    "# TODO: Enter the code to call fit the training data into the model\n",
    "model.fit(X_train,y_train)"
   ],
   "outputs": [
    {
     "output_type": "execute_result",
     "data": {
      "text/plain": [
       "KNeighborsClassifier(n_neighbors=3)"
      ]
     },
     "metadata": {},
     "execution_count": 14
    }
   ],
   "metadata": {
    "scrolled": true
   }
  },
  {
   "cell_type": "markdown",
   "source": [
    "### Evaluation"
   ],
   "metadata": {}
  },
  {
   "cell_type": "code",
   "execution_count": 15,
   "source": [
    "predictions = model.predict(X_test)"
   ],
   "outputs": [],
   "metadata": {}
  },
  {
   "cell_type": "markdown",
   "source": [
    "The method `metrics.confusion_matrix` will visualize the performance of the model through a confusion matrix. "
   ],
   "metadata": {}
  },
  {
   "cell_type": "code",
   "execution_count": 16,
   "source": [
    "print(metrics.confusion_matrix(y_test,predictions))"
   ],
   "outputs": [
    {
     "output_type": "stream",
     "name": "stdout",
     "text": [
      "[[18  0  0]\n",
      " [ 0  9  1]\n",
      " [ 0  1 16]]\n"
     ]
    }
   ],
   "metadata": {}
  },
  {
   "cell_type": "code",
   "execution_count": 17,
   "source": [
    "metrics.accuracy_score(y_test, predictions)"
   ],
   "outputs": [
    {
     "output_type": "execute_result",
     "data": {
      "text/plain": [
       "0.9555555555555556"
      ]
     },
     "metadata": {},
     "execution_count": 17
    }
   ],
   "metadata": {}
  },
  {
   "cell_type": "markdown",
   "source": [
    "## Classifying Glass Dataset from UCI Machine Learning Repository"
   ],
   "metadata": {}
  },
  {
   "cell_type": "markdown",
   "source": [
    "### Load Data\n",
    "\n",
    "Here, we load the glass data from UCI ML Repository into a Dataframe using **pandas**.<br> `glass` will be storing the dataset, `description` will store the text with the description of the data."
   ],
   "metadata": {}
  },
  {
   "cell_type": "code",
   "execution_count": 18,
   "source": [
    "glass = pd.read_csv(\n",
    "    \"https://archive.ics.uci.edu/ml/machine-learning-databases/glass/glass.data\", \n",
    "    names=['ID','Refractive Index','Na','Mg','Al','Si','K','Ca','Ba','Fe','Class']\n",
    ")\n",
    "description = req.get(\"https://archive.ics.uci.edu/ml/machine-learning-databases/glass/glass.names\").text"
   ],
   "outputs": [],
   "metadata": {}
  },
  {
   "cell_type": "code",
   "execution_count": 19,
   "source": [
    "print(description)"
   ],
   "outputs": [
    {
     "output_type": "stream",
     "name": "stdout",
     "text": [
      "1. Title: Glass Identification Database\n",
      "\n",
      "2. Sources:\n",
      "    (a) Creator: B. German\n",
      "        -- Central Research Establishment\n",
      "           Home Office Forensic Science Service\n",
      "           Aldermaston, Reading, Berkshire RG7 4PN\n",
      "    (b) Donor: Vina Spiehler, Ph.D., DABFT\n",
      "               Diagnostic Products Corporation\n",
      "               (213) 776-0180 (ext 3014)\n",
      "    (c) Date: September, 1987\n",
      "\n",
      "3. Past Usage:\n",
      "    -- Rule Induction in Forensic Science\n",
      "       -- Ian W. Evett and Ernest J. Spiehler\n",
      "       -- Central Research Establishment\n",
      "          Home Office Forensic Science Service\n",
      "          Aldermaston, Reading, Berkshire RG7 4PN\n",
      "       -- Unknown technical note number (sorry, not listed here)\n",
      "       -- General Results: nearest neighbor held its own with respect to the\n",
      "             rule-based system\n",
      "\n",
      "4. Relevant Information:n\n",
      "      Vina conducted a comparison test of her rule-based system, BEAGLE, the\n",
      "      nearest-neighbor algorithm, and discriminant analysis.  BEAGLE is \n",
      "      a product available through VRS Consulting, Inc.; 4676 Admiralty Way,\n",
      "      Suite 206; Marina Del Ray, CA 90292 (213) 827-7890 and FAX: -3189.\n",
      "      In determining whether the glass was a type of \"float\" glass or not,\n",
      "      the following results were obtained (# incorrect answers):\n",
      "\n",
      "             Type of Sample                            Beagle   NN    DA\n",
      "             Windows that were float processed (87)     10      12    21\n",
      "             Windows that were not:            (76)     19      16    22\n",
      "\n",
      "      The study of classification of types of glass was motivated by \n",
      "      criminological investigation.  At the scene of the crime, the glass left\n",
      "      can be used as evidence...if it is correctly identified!\n",
      "\n",
      "5. Number of Instances: 214\n",
      "\n",
      "6. Number of Attributes: 10 (including an Id#) plus the class attribute\n",
      "   -- all attributes are continuously valued\n",
      "\n",
      "7. Attribute Information:\n",
      "   1. Id number: 1 to 214\n",
      "   2. RI: refractive index\n",
      "   3. Na: Sodium (unit measurement: weight percent in corresponding oxide, as \n",
      "                  are attributes 4-10)\n",
      "   4. Mg: Magnesium\n",
      "   5. Al: Aluminum\n",
      "   6. Si: Silicon\n",
      "   7. K: Potassium\n",
      "   8. Ca: Calcium\n",
      "   9. Ba: Barium\n",
      "  10. Fe: Iron\n",
      "  11. Type of glass: (class attribute)\n",
      "      -- 1 building_windows_float_processed\n",
      "      -- 2 building_windows_non_float_processed\n",
      "      -- 3 vehicle_windows_float_processed\n",
      "      -- 4 vehicle_windows_non_float_processed (none in this database)\n",
      "      -- 5 containers\n",
      "      -- 6 tableware\n",
      "      -- 7 headlamps\n",
      "\n",
      "8. Missing Attribute Values: None\n",
      "\n",
      "Summary Statistics:\n",
      "Attribute:   Min     Max      Mean     SD      Correlation with class\n",
      " 2. RI:       1.5112  1.5339   1.5184  0.0030  -0.1642\n",
      " 3. Na:      10.73   17.38    13.4079  0.8166   0.5030\n",
      " 4. Mg:       0       4.49     2.6845  1.4424  -0.7447\n",
      " 5. Al:       0.29    3.5      1.4449  0.4993   0.5988\n",
      " 6. Si:      69.81   75.41    72.6509  0.7745   0.1515\n",
      " 7. K:        0       6.21     0.4971  0.6522  -0.0100\n",
      " 8. Ca:       5.43   16.19     8.9570  1.4232   0.0007\n",
      " 9. Ba:       0       3.15     0.1750  0.4972   0.5751\n",
      "10. Fe:       0       0.51     0.0570  0.0974  -0.1879\n",
      "\n",
      "9. Class Distribution: (out of 214 total instances)\n",
      "    -- 163 Window glass (building windows and vehicle windows)\n",
      "       -- 87 float processed  \n",
      "          -- 70 building windows\n",
      "          -- 17 vehicle windows\n",
      "       -- 76 non-float processed\n",
      "          -- 76 building windows\n",
      "          -- 0 vehicle windows\n",
      "    -- 51 Non-window glass\n",
      "       -- 13 containers\n",
      "       -- 9 tableware\n",
      "       -- 29 headlamps\n",
      "\n",
      "\n",
      "\n",
      "\n",
      "\n"
     ]
    }
   ],
   "metadata": {}
  },
  {
   "cell_type": "markdown",
   "source": [
    "The `glass` dataset is a combination of features and categories. From the description, we know that the features that we are interested are in columns **2 - 10**. <br>It is common practice that most of the data have their **expected value/ categories** in the last column, which is also the case in this dataset.<br><br> Using `iloc`, separate the data into `glass_data` which contains features, and `glass_target` which contains expected values/ categories."
   ],
   "metadata": {}
  },
  {
   "cell_type": "code",
   "execution_count": 20,
   "source": [
    "glass_data = glass.iloc[:,1:-1]\n",
    "glass_target = glass.iloc[:,-1]"
   ],
   "outputs": [],
   "metadata": {}
  },
  {
   "cell_type": "markdown",
   "source": [
    "Notice that the amounts of data in each class varies too much. This is a showcase of what's called **imbalanced data**.<br><br>\n",
    "There are a few ways to tackle this problem. Here, we are choosing to use a method called **oversampling**.<br><br>\n",
    "**Oversampling** refers to increasing the number of data points in the minority classes.<br><br>\n",
    "There are a few techniques for oversampling:\n",
    "1. Random sampling\n",
    "2. SMOTE: Synthetic Minority Over-sampling Technique\n",
    "3. ADASYN: Adaptive Synthetic Sampling\n",
    "\n",
    "For more details about oversampling do refer to https://machinelearningmastery.com/random-oversampling-and-undersampling-for-imbalanced-classification/.<br><br>\n",
    "In this case, we are going to utilize `SMOTE` as `SMOTE` can avoid overfitting.To oversample the data, we are going to utilize a external library called `imblearn`.<br><i>Note: To install this library, run this command: `pip install imblearn` in command line/ terminal."
   ],
   "metadata": {}
  },
  {
   "cell_type": "code",
   "execution_count": 21,
   "source": [
    "!pip install imblearn"
   ],
   "outputs": [
    {
     "output_type": "stream",
     "name": "stdout",
     "text": [
      "Requirement already satisfied: imblearn in c:\\users\\jingzhi.loh\\anaconda3\\envs\\mllab\\lib\\site-packages (0.0)\n",
      "Requirement already satisfied: imbalanced-learn in c:\\users\\jingzhi.loh\\anaconda3\\envs\\mllab\\lib\\site-packages (from imblearn) (0.8.0)\n",
      "Requirement already satisfied: scipy>=0.19.1 in c:\\users\\jingzhi.loh\\anaconda3\\envs\\mllab\\lib\\site-packages (from imbalanced-learn->imblearn) (1.7.0)\n",
      "Requirement already satisfied: scikit-learn>=0.24 in c:\\users\\jingzhi.loh\\anaconda3\\envs\\mllab\\lib\\site-packages (from imbalanced-learn->imblearn) (0.24.2)\n",
      "Requirement already satisfied: joblib>=0.11 in c:\\users\\jingzhi.loh\\anaconda3\\envs\\mllab\\lib\\site-packages (from imbalanced-learn->imblearn) (1.0.1)\n",
      "Requirement already satisfied: numpy>=1.13.3 in c:\\users\\jingzhi.loh\\anaconda3\\envs\\mllab\\lib\\site-packages (from imbalanced-learn->imblearn) (1.21.0)\n",
      "Requirement already satisfied: threadpoolctl>=2.0.0 in c:\\users\\jingzhi.loh\\anaconda3\\envs\\mllab\\lib\\site-packages (from scikit-learn>=0.24->imbalanced-learn->imblearn) (2.1.0)\n"
     ]
    }
   ],
   "metadata": {}
  },
  {
   "cell_type": "code",
   "execution_count": 22,
   "source": [
    "oversample = SMOTE()\n",
    "glass_data, glass_target = oversample.fit_resample(glass_data,glass_target)"
   ],
   "outputs": [],
   "metadata": {}
  },
  {
   "cell_type": "markdown",
   "source": [
    "Split `glass_data` into **test and train data**.<br>Test size = 0.3"
   ],
   "metadata": {}
  },
  {
   "cell_type": "code",
   "execution_count": 23,
   "source": [
    "X_train2, X_test2, y_train2, y_test2 = model_selection.train_test_split(\n",
    "    glass_data, glass_target, test_size=0.3, random_state=123\n",
    ")"
   ],
   "outputs": [],
   "metadata": {}
  },
  {
   "cell_type": "markdown",
   "source": [
    "Perform **feature scaling** on the `X_train2`,`X_test2` into **`X_train2_scaled`** and **`X_test2_scaled`** respectively.<br>\n",
    "<I>Hint: fit_transform on the training data and transform only on the test data"
   ],
   "metadata": {}
  },
  {
   "cell_type": "code",
   "execution_count": 24,
   "source": [
    "scaler = preprocessing.StandardScaler()\n",
    "X_train2_scaled = scaler.fit_transform(X_train2)\n",
    "X_test2_scaled = scaler.transform(X_test2)"
   ],
   "outputs": [],
   "metadata": {}
  },
  {
   "cell_type": "markdown",
   "source": [
    "### Model Training\n",
    "\n",
    "Initialize KNN Model named `model_2` with `k=3`"
   ],
   "metadata": {}
  },
  {
   "cell_type": "code",
   "execution_count": 25,
   "source": [
    "model_2 = KNeighborsClassifier(n_neighbors=3)"
   ],
   "outputs": [],
   "metadata": {}
  },
  {
   "cell_type": "code",
   "execution_count": 26,
   "source": [
    "model_2.fit(X_train2_scaled,y_train2)"
   ],
   "outputs": [
    {
     "output_type": "execute_result",
     "data": {
      "text/plain": [
       "KNeighborsClassifier(n_neighbors=3)"
      ]
     },
     "metadata": {},
     "execution_count": 26
    }
   ],
   "metadata": {}
  },
  {
   "cell_type": "markdown",
   "source": [
    "### Evaluation\n",
    "\n",
    "Predict the values for the test data and do an **`accuracy test`** and a **`confusion matrix`**."
   ],
   "metadata": {}
  },
  {
   "cell_type": "code",
   "execution_count": 27,
   "source": [
    "prediction = model_2.predict(X_test2_scaled)\n",
    "metrics.accuracy_score(y_test2,prediction)"
   ],
   "outputs": [
    {
     "output_type": "execute_result",
     "data": {
      "text/plain": [
       "0.8248175182481752"
      ]
     },
     "metadata": {},
     "execution_count": 27
    }
   ],
   "metadata": {}
  },
  {
   "cell_type": "code",
   "execution_count": 28,
   "source": [
    "metrics.confusion_matrix(y_test2,prediction)"
   ],
   "outputs": [
    {
     "output_type": "execute_result",
     "data": {
      "text/plain": [
       "array([[19,  1,  6,  0,  0,  0],\n",
       "       [ 7,  9,  3,  1,  0,  0],\n",
       "       [ 2,  0, 21,  0,  0,  0],\n",
       "       [ 0,  0,  0, 25,  0,  1],\n",
       "       [ 0,  0,  0,  0, 19,  0],\n",
       "       [ 0,  1,  0,  0,  2, 20]], dtype=int64)"
      ]
     },
     "metadata": {},
     "execution_count": 28
    }
   ],
   "metadata": {}
  },
  {
   "cell_type": "markdown",
   "source": [
    "Besides accuracy score and confusion matrix, **precision** and **recall** both provide some insights to any classification model that you're trying to train.<br>\n",
    "- **`Precision`** : the percentage of your results which are relevant.\n",
    "$$Precision = \\frac{TP}{TP+FP}$$ \n",
    "where: <br>\n",
    "$TP$ = True positive<br>\n",
    "$FP$ = False positive<br><br>\n",
    "- **`Recall`** :the percentage of total relevant results correctly classified by your algorithm. \n",
    "$$Recall = \\frac{TP}{TP+FN}$$ \n",
    "where: <br>\n",
    "$TP$ = True positive<br>\n",
    "$FN$ = False negative<br>\n"
   ],
   "metadata": {}
  },
  {
   "cell_type": "code",
   "execution_count": 29,
   "source": [
    "print(metrics.recall_score(y_test2,prediction,average=None))"
   ],
   "outputs": [
    {
     "output_type": "stream",
     "name": "stdout",
     "text": [
      "[0.73076923 0.45       0.91304348 0.96153846 1.         0.86956522]\n"
     ]
    }
   ],
   "metadata": {}
  },
  {
   "cell_type": "code",
   "execution_count": 30,
   "source": [
    "print(metrics.precision_score(y_test2,prediction,average=None))"
   ],
   "outputs": [
    {
     "output_type": "stream",
     "name": "stdout",
     "text": [
      "[0.67857143 0.81818182 0.7        0.96153846 0.9047619  0.95238095]\n"
     ]
    }
   ],
   "metadata": {
    "scrolled": true
   }
  },
  {
   "cell_type": "code",
   "execution_count": 31,
   "source": [
    "print(metrics.classification_report(y_test2,prediction))"
   ],
   "outputs": [
    {
     "output_type": "stream",
     "name": "stdout",
     "text": [
      "              precision    recall  f1-score   support\n",
      "\n",
      "           1       0.68      0.73      0.70        26\n",
      "           2       0.82      0.45      0.58        20\n",
      "           3       0.70      0.91      0.79        23\n",
      "           5       0.96      0.96      0.96        26\n",
      "           6       0.90      1.00      0.95        19\n",
      "           7       0.95      0.87      0.91        23\n",
      "\n",
      "    accuracy                           0.82       137\n",
      "   macro avg       0.84      0.82      0.82       137\n",
      "weighted avg       0.83      0.82      0.82       137\n",
      "\n"
     ]
    }
   ],
   "metadata": {}
  },
  {
   "cell_type": "markdown",
   "source": [
    "Occasionally we want to see if the model is overfit by the training data. In such cases we may try to measure the accuracy of the predictions by the training data itself.<br><br>\n",
    "Here we try to compare both the results.<br><br>\n",
    "If the accuracy is not that distinct from that of the test data, the model is well-fit."
   ],
   "metadata": {}
  },
  {
   "cell_type": "code",
   "execution_count": 32,
   "source": [
    "print(metrics.accuracy_score(y_train2,model_2.predict(X_train2_scaled)))"
   ],
   "outputs": [
    {
     "output_type": "stream",
     "name": "stdout",
     "text": [
      "0.9310344827586207\n"
     ]
    }
   ],
   "metadata": {}
  },
  {
   "cell_type": "markdown",
   "source": [
    "## References\n",
    "C.L. Blake and C.J. Merz (1998). UCI repository of machine learning databases. University\n",
    "of California. [www http://www.ics.uci.edu/∼mlearn/MLRepository.html]\n",
    "\n",
    "Kohli, S. (2019, November 18). Understanding a Classification Report For Your Machine Learning Model. Retrieved August 06, 2020, from https://medium.com/@kohlishivam5522/understanding-a-classification-report-for-your-machine-learning-model-88815e2ce397"
   ],
   "metadata": {}
  }
 ],
 "metadata": {
  "kernelspec": {
   "display_name": "Python 3",
   "language": "python",
   "name": "python3"
  },
  "language_info": {
   "codemirror_mode": {
    "name": "ipython",
    "version": 3
   },
   "file_extension": ".py",
   "mimetype": "text/x-python",
   "name": "python",
   "nbconvert_exporter": "python",
   "pygments_lexer": "ipython3",
   "version": "3.7.3"
  }
 },
 "nbformat": 4,
 "nbformat_minor": 2
}