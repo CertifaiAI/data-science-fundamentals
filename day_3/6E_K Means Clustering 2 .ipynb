{
 "cells": [
  {
   "cell_type": "markdown",
   "source": [
    "![logo](https://user-images.githubusercontent.com/59526258/124226124-27125b80-db3b-11eb-8ba1-488d88018ebb.png)\r\n",
    "\r\n",
    "> **Copyright (c) 2021 CertifAI Sdn. Bhd.**<br>\r\n",
    " <br>\r\n",
    "This program is part of OSRFramework. You can redistribute it and/or modify\r\n",
    "<br>it under the terms of the GNU Affero General Public License as published by\r\n",
    "<br>the Free Software Foundation, either version 3 of the License, or\r\n",
    "<br>(at your option) any later version.\r\n",
    "<br>\r\n",
    "<br>This program is distributed in the hope that it will be useful,\r\n",
    "<br>but WITHOUT ANY WARRANTY; without even the implied warranty of\r\n",
    "<br>MERCHANTABILITY or FITNESS FOR A PARTICULAR PURPOSE.  See the\r\n",
    "<br>GNU Affero General Public License for more details.\r\n",
    "<br>\r\n",
    "<br>You should have received a copy of the GNU Affero General Public License\r\n",
    "<br>along with this program.  If not, see <http://www.gnu.org/licenses/>.\r\n",
    "<br>"
   ],
   "metadata": {
    "deletable": false,
    "editable": false
   }
  },
  {
   "cell_type": "markdown",
   "source": [
    "# Use K Means to compress color spaces of images"
   ],
   "metadata": {}
  },
  {
   "cell_type": "markdown",
   "source": [
    "One common example of K Means Clustering is to compress the colour spaces of images. An image usually comes with a 24-bit colour depth, meaning 2^24 = 16,777,216 colour variations.\n",
    "\n",
    "K Means can be used to organize the colour variations into the their respective colour clusters. The \"K\" (number of cluster) here will be the the number of colour space. If K is set to 8, the available colour space is 8. "
   ],
   "metadata": {}
  },
  {
   "cell_type": "code",
   "execution_count": null,
   "source": [
    "import numpy as np\r\n",
    "import matplotlib.pyplot as plt\r\n",
    "from skimage import io\r\n",
    "from sklearn.cluster import KMeans \r\n",
    "\r\n",
    "%matplotlib inline"
   ],
   "outputs": [],
   "metadata": {}
  },
  {
   "cell_type": "markdown",
   "source": [
    "Read your image by using skimage and load it into a numpy array."
   ],
   "metadata": {}
  },
  {
   "cell_type": "code",
   "execution_count": null,
   "source": [
    "url = \"https://ia801402.us.archive.org/2/items/ml-fundamentals-data/machine-learning-fundamentals-data/cat.jpg\"\n",
    "image = io.imread(url)"
   ],
   "outputs": [],
   "metadata": {
    "scrolled": true
   }
  },
  {
   "cell_type": "code",
   "execution_count": null,
   "source": [
    "plt.imshow(image)"
   ],
   "outputs": [],
   "metadata": {}
  },
  {
   "cell_type": "markdown",
   "source": [
    "Show the dimension of the input picture, (Height, Width, Depth)"
   ],
   "metadata": {}
  },
  {
   "cell_type": "code",
   "execution_count": null,
   "source": [
    "image.shape"
   ],
   "outputs": [],
   "metadata": {}
  },
  {
   "cell_type": "markdown",
   "source": [
    "Every colour channel has 256 possible values, the number of possible colours is 256 * 256 * 256 = 16,777,216, approx 16 million colours. Let us reduce the color space from 16 million to 8 colours."
   ],
   "metadata": {}
  },
  {
   "cell_type": "code",
   "execution_count": null,
   "source": [
    "image_scaled = image / 255.0 # use 0...1 scale\n",
    "image_scaled = image_scaled.reshape((-1, 3))\n",
    "image_scaled.shape\n"
   ],
   "outputs": [],
   "metadata": {
    "scrolled": true
   }
  },
  {
   "cell_type": "markdown",
   "source": [
    "Train K means model to reduce the color space into 8 clusters"
   ],
   "metadata": {}
  },
  {
   "cell_type": "code",
   "execution_count": null,
   "source": [
    "# TODO: Train a K-means Model\n",
    "num_clusters = 8\n",
    "model = (init='k-means++', n_clusters=num_clusters, n_init=10)"
   ],
   "outputs": [],
   "metadata": {}
  },
  {
   "cell_type": "code",
   "execution_count": null,
   "source": [
    "# TODO: Fit data to the model\n",
    "model.(image_scaled.astype(np.float32))"
   ],
   "outputs": [],
   "metadata": {}
  },
  {
   "cell_type": "markdown",
   "source": [
    "Get the: \n",
    "- cluster_centers_ : Coordinates of cluster centers.\n",
    "- labels_ : Labels of each point\n",
    "- inertia_ : Sum of squared distance from each point to their corresponding center"
   ],
   "metadata": {}
  },
  {
   "cell_type": "code",
   "execution_count": null,
   "source": [
    "# TODO: Assign variables to its respective data\n",
    "centroids = model._\n",
    "labels = model._\n",
    "inertia = model._"
   ],
   "outputs": [],
   "metadata": {}
  },
  {
   "cell_type": "markdown",
   "source": [
    "The generated clusters corresponds to the 8 colors of our reduced color palette.\n",
    "\n",
    "Visual inspection of the centroids array shows that all colours have three channels (B, G, R) with values ranging between 0 and 1."
   ],
   "metadata": {}
  },
  {
   "cell_type": "code",
   "execution_count": null,
   "source": [
    "centroids"
   ],
   "outputs": [],
   "metadata": {
    "scrolled": true
   }
  },
  {
   "cell_type": "markdown",
   "source": [
    "The labels will equal to the number of clusters that we have set."
   ],
   "metadata": {}
  },
  {
   "cell_type": "code",
   "execution_count": null,
   "source": [
    "np.unique(labels)"
   ],
   "outputs": [],
   "metadata": {
    "scrolled": false
   }
  },
  {
   "cell_type": "markdown",
   "source": [
    "These 8 colours correspond to the 8 cluster labels contained in the labels vector.\n",
    "\n",
    "We want all our data points with label 0 to be colored according to row 0 in the centers array whereas all data points with label 1 to be colored according to row 1 in the centers array and same for other labels.\n",
    "\n",
    "We use labels as an index into the centroids array which is also represents our new colours."
   ],
   "metadata": {}
  },
  {
   "cell_type": "code",
   "execution_count": null,
   "source": [
    "new_colours = centroids[labels].reshape((-1, 3))"
   ],
   "outputs": [],
   "metadata": {}
  },
  {
   "cell_type": "code",
   "execution_count": null,
   "source": [
    "image_compressed = new_colours.reshape(image.shape)"
   ],
   "outputs": [],
   "metadata": {}
  },
  {
   "cell_type": "code",
   "execution_count": null,
   "source": [
    "plt.figure(figsize=(10, 10))\n",
    "plt.imshow(image_compressed);\n",
    "plt.title('8 Colour Image')"
   ],
   "outputs": [],
   "metadata": {}
  },
  {
   "cell_type": "markdown",
   "source": [
    "Let try to do another round of color space compression but this time we only manipulate the 1 channel colour space."
   ],
   "metadata": {}
  },
  {
   "cell_type": "code",
   "execution_count": null,
   "source": [
    "url = \"https://ia801402.us.archive.org/2/items/ml-fundamentals-data/machine-learning-fundamentals-data/cat.jpg\"\n",
    "image = io.imread(url, as_gray=True)"
   ],
   "outputs": [],
   "metadata": {}
  },
  {
   "cell_type": "code",
   "execution_count": null,
   "source": [
    "plt.imshow(image, cmap='gray')"
   ],
   "outputs": [],
   "metadata": {}
  },
  {
   "cell_type": "code",
   "execution_count": null,
   "source": [
    "image.shape"
   ],
   "outputs": [],
   "metadata": {}
  },
  {
   "cell_type": "markdown",
   "source": [
    "Scale the pixel values into a range of 0 to 1."
   ],
   "metadata": {}
  },
  {
   "cell_type": "code",
   "execution_count": null,
   "source": [
    "image_scaled = image / 255.0 \n",
    "image_scaled = image_scaled.reshape((-1, 1))\n",
    "image_scaled.shape"
   ],
   "outputs": [],
   "metadata": {}
  },
  {
   "cell_type": "code",
   "execution_count": null,
   "source": [
    "image_scaled"
   ],
   "outputs": [],
   "metadata": {}
  },
  {
   "cell_type": "markdown",
   "source": [
    "Specify **num clusters** to 4."
   ],
   "metadata": {}
  },
  {
   "cell_type": "code",
   "execution_count": null,
   "source": [
    "#TODO: Fill in the number of clusters\n",
    "num_clusters = \n",
    "model = KMeans(init='k-means++', n_clusters=num_clusters, n_init=10)"
   ],
   "outputs": [],
   "metadata": {}
  },
  {
   "cell_type": "code",
   "execution_count": null,
   "source": [
    "model.fit(image_scaled.astype(np.float32))"
   ],
   "outputs": [],
   "metadata": {}
  },
  {
   "cell_type": "code",
   "execution_count": null,
   "source": [
    "centroids = model.cluster_centers_\n",
    "labels = model.labels_\n",
    "inertia = model.inertia_"
   ],
   "outputs": [],
   "metadata": {}
  },
  {
   "cell_type": "code",
   "execution_count": null,
   "source": [
    "centroids"
   ],
   "outputs": [],
   "metadata": {}
  },
  {
   "cell_type": "code",
   "execution_count": null,
   "source": [
    "new_colours = centroids[labels].reshape((-1, 1))"
   ],
   "outputs": [],
   "metadata": {}
  },
  {
   "cell_type": "code",
   "execution_count": null,
   "source": [
    "image_compressed = new_colours.reshape(image.shape)"
   ],
   "outputs": [],
   "metadata": {}
  },
  {
   "cell_type": "code",
   "execution_count": null,
   "source": [
    "plt.figure(figsize=(10, 10))\n",
    "plt.imshow(image_compressed, cmap='gray');\n",
    "plt.title('4 Colour Image')"
   ],
   "outputs": [],
   "metadata": {}
  },
  {
   "cell_type": "markdown",
   "source": [
    "# Try With Your Own Image"
   ],
   "metadata": {}
  },
  {
   "cell_type": "markdown",
   "source": [
    "On this section, let us try using your own image to try out the colour reduction\n",
    "<br>Do remember upload your file into the data folder"
   ],
   "metadata": {}
  },
  {
   "cell_type": "code",
   "execution_count": null,
   "source": [
    "# TODO: Replace the path with your filename.png/jpg/jpeg\n",
    "path = \"../data/YOUR FILE NAME\""
   ],
   "outputs": [],
   "metadata": {}
  },
  {
   "cell_type": "code",
   "execution_count": null,
   "source": [
    "self_image = io.imread(path)\n",
    "plt.imshow(self_image)"
   ],
   "outputs": [],
   "metadata": {}
  },
  {
   "cell_type": "code",
   "execution_count": null,
   "source": [
    "self_image_scale = self_image / 255 #Scale to value between 0 to 1\n",
    "self_image_scale = self_image_scale.reshape((-1, 3))"
   ],
   "outputs": [],
   "metadata": {}
  },
  {
   "cell_type": "markdown",
   "source": [
    "Using Elbow method to visualize the best cluster to pick"
   ],
   "metadata": {}
  },
  {
   "cell_type": "code",
   "execution_count": null,
   "source": [
    "k_values = np.arange(2,10)\n",
    "inertia = []\n",
    "for k in k_values:\n",
    "    model = KMeans(init='k-means++', n_clusters=k, n_init=10)\n",
    "    model.fit(self_image_scale)\n",
    "    inertia.append(model.inertia_)"
   ],
   "outputs": [],
   "metadata": {}
  },
  {
   "cell_type": "code",
   "execution_count": null,
   "source": [
    "plt.figure(figsize=(10, 6))\n",
    "plt.plot(k_values,inertia,\"o-m\",linewidth=4, markersize=12)\n",
    "plt.title(\"Number of clusters against Inertia\",fontsize=20)\n",
    "plt.xlabel(\"Number of clusters, K \")\n",
    "plt.ylabel(\"Inertia\")"
   ],
   "outputs": [],
   "metadata": {}
  },
  {
   "cell_type": "markdown",
   "source": [
    "From the graph, pick the number of cluster before the inertia stop dropping significantly"
   ],
   "metadata": {}
  },
  {
   "cell_type": "code",
   "execution_count": null,
   "source": [
    "# TODO: Define how many cluster you want, take note that larger cluster, the training time will be longer\n",
    "cluster = \n",
    "\n",
    "# TODO: Build K Means model and fit your data\n",
    "model = KMeans()\n",
    "model.fit()"
   ],
   "outputs": [],
   "metadata": {}
  },
  {
   "cell_type": "markdown",
   "source": [
    "Declaring useful variables"
   ],
   "metadata": {}
  },
  {
   "cell_type": "code",
   "execution_count": null,
   "source": [
    "centroids = model.cluster_centers_\n",
    "labels = model.labels_\n",
    "inertia = model.inertia_"
   ],
   "outputs": [],
   "metadata": {}
  },
  {
   "cell_type": "code",
   "execution_count": null,
   "source": [
    "new_colours = centroids[labels].reshape((-1, 3))\n",
    "image_compressed = new_colours.reshape(self_image.shape)\n",
    "plt.figure(figsize=(10, 10))\n",
    "plt.imshow(image_compressed);"
   ],
   "outputs": [],
   "metadata": {}
  }
 ],
 "metadata": {
  "kernelspec": {
   "display_name": "Python 3",
   "language": "python",
   "name": "python3"
  },
  "language_info": {
   "codemirror_mode": {
    "name": "ipython",
    "version": 3
   },
   "file_extension": ".py",
   "mimetype": "text/x-python",
   "name": "python",
   "nbconvert_exporter": "python",
   "pygments_lexer": "ipython3",
   "version": "3.7.3"
  }
 },
 "nbformat": 4,
 "nbformat_minor": 2
}