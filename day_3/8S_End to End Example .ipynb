{
 "cells": [
  {
   "cell_type": "markdown",
   "metadata": {},
   "source": [
    "![license_header_logo](https://user-images.githubusercontent.com/59526258/124226124-27125b80-db3b-11eb-8ba1-488d88018ebb.png)\n",
    "> **Copyright (c) 2020-2021 CertifAI Sdn. Bhd.**<br>\n",
    " <br>\n",
    "This program is part of OSRFramework. You can redistribute it and/or modify\n",
    "<br>it under the terms of the GNU Affero General Public License as published by\n",
    "<br>the Free Software Foundation, either version 3 of the License, or\n",
    "<br>(at your option) any later version.\n",
    "<br>\n",
    "<br>This program is distributed in the hope that it will be useful,\n",
    "<br>but WITHOUT ANY WARRANTY; without even the implied warranty of\n",
    "<br>MERCHANTABILITY or FITNESS FOR A PARTICULAR PURPOSE.  See the\n",
    "<br>GNU Affero General Public License for more details.\n",
    "<br>\n",
    "<br>You should have received a copy of the GNU Affero General Public License\n",
    "<br>along with this program.  If not, see <http://www.gnu.org/licenses/>.\n",
    "<br>"
   ]
  },
  {
   "cell_type": "markdown",
   "metadata": {},
   "source": [
    "# End to End Data Science Example\n",
    "## Introduction \n",
    "In this notebook, we will be using the famous titanic datasets and perform machine learning ( supervised learning ) to predict either the person survives or not\n",
    "![image](https://miro.medium.com/max/2000/1*qTqs-DD_i5dqUtTuaVzfWw.png)\n",
    "## What will we accomplish?\n",
    "By the end of the notebook:\n",
    "1. Trainee will understand the overall process of creating machine learning model.\n",
    "2. Trainee will learn how to make the model for the titanic dataset.\n",
    "3.  The trainee will learn the steps involved in the data science project.\n",
    "\n",
    "## Notebook Content\n",
    "* [Question or problem definition](#Question)\n",
    "* [Acquire Data](#Acquire)\n",
    "* [Exploratory Data Analysis (EDA)](#EDA)\n",
    "* [Analyze](#Analyze)\n",
    "* [Wrangle Data](#Wrangle)\n",
    "* [Model training ](#model)\n",
    "* [Data Preprocessing Pipeline](#Pipeline)\n",
    "* [Model Selection Pipeline](#ModelSelection)\n",
    "* [K-Fold Cross Validation](#K-Fold)\n",
    "* [Feature Importance](#Feature)\n",
    "* [Feature Selection](#FeatureSelection)\n",
    "* [PCA](#PCA)\n",
    "* [Grid Search Hyperparameter Tuning](#Grid)\n",
    "* [Further evaluation on test set](#Further)\n",
    "* [Precision-Recall Curve](#Precision)\n",
    "* [Summary](#Summary)\n",
    "* [Contributors](#Contributors)\n",
    "* [Reference](#Reference)\n",
    "\n",
    "## Workflow stages\n",
    "1. Question or problem definition.\n",
    "2. Acquire data.\n",
    "3. Exploratory Data Analysis(EDA) (*The order can be difference between cases*)\n",
    "    1. Wrangle, prepare, cleanse the data.\n",
    "    2. Analyze, identify patterns, visualizing and explore the data.\n",
    "    3. Dimension Reduction, Feature Engineering，Statistical Inference\n",
    "6. Modeling, predict and solve the problem.\n",
    "7. Visualize, report, and present the problem solving steps and final solution.\n",
    "8. Supply or submit the results. "
   ]
  },
  {
   "cell_type": "markdown",
   "metadata": {},
   "source": [
    "##  <a name=\"Question\"> Question or Problem Definition\n",
    "Before starting any project, we must know about the project summary, definite the problem we need to solve and understand the dataset's data dictionary and variable notes.\n",
    "\n",
    "**Project Summary**: \n",
    "* The sinking of the RMS Titanic is one of the most infamous shipwrecks in history. \n",
    "* On April 15, 1912, the Titanic sank after colliding with an iceberg during her maiden voyage, killing 1502 out of 2224 passengers and crew. \n",
    "* This sensational tragedy shocked the international community and led to better safety regulations for ships.\n",
    "* One of the reasons the shipwreck led to such loss of life was that there were not enough lifeboats for the passengers and crew.\n",
    "* Although luck was involved in surviving the sinking, some people were more likely to survive than others, such as women, children, and the upper class.\n",
    "\n",
    "**Problem definition**:\n",
    "* Complete the analysis of what sorts of people were likely to survive. \n",
    "* Apply the tools of machine learning to predict which passengers survived the tragedy."
   ]
  },
  {
   "cell_type": "code",
   "execution_count": 1,
   "metadata": {},
   "outputs": [],
   "source": [
    "# data analysis and wrangling\n",
    "from sklearn.metrics import accuracy_score\n",
    "from sklearn.metrics import classification_report\n",
    "from sklearn.metrics import confusion_matrix\n",
    "from sklearn.tree import DecisionTreeClassifier\n",
    "from sklearn.neighbors import KNeighborsClassifier\n",
    "from sklearn.ensemble import RandomForestClassifier\n",
    "from sklearn.svm import SVC\n",
    "from sklearn.linear_model import LogisticRegression\n",
    "import pandas as pd\n",
    "import numpy as np\n",
    "import random as rnd\n",
    "\n",
    "# visualization\n",
    "import seaborn as sns\n",
    "import matplotlib.pyplot as plt\n",
    "%matplotlib inline\n",
    "\n",
    "# machine learning\n",
    "\n",
    "# model evaluation"
   ]
  },
  {
   "cell_type": "markdown",
   "metadata": {},
   "source": [
    "##  <a name=\"Acquire\">Acquire Data"
   ]
  },
  {
   "cell_type": "code",
   "execution_count": 2,
   "metadata": {},
   "outputs": [],
   "source": [
    "x_train = pd.read_csv('../data/titanic_train.csv')\n",
    "x_test = pd.read_csv('../data/titanic_test.csv')"
   ]
  },
  {
   "cell_type": "code",
   "execution_count": 3,
   "metadata": {},
   "outputs": [
    {
     "data": {
      "text/html": [
       "<div>\n",
       "<style scoped>\n",
       "    .dataframe tbody tr th:only-of-type {\n",
       "        vertical-align: middle;\n",
       "    }\n",
       "\n",
       "    .dataframe tbody tr th {\n",
       "        vertical-align: top;\n",
       "    }\n",
       "\n",
       "    .dataframe thead th {\n",
       "        text-align: right;\n",
       "    }\n",
       "</style>\n",
       "<table border=\"1\" class=\"dataframe\">\n",
       "  <thead>\n",
       "    <tr style=\"text-align: right;\">\n",
       "      <th></th>\n",
       "      <th>PassengerId</th>\n",
       "      <th>Survived</th>\n",
       "      <th>Pclass</th>\n",
       "      <th>Name</th>\n",
       "      <th>Sex</th>\n",
       "      <th>Age</th>\n",
       "      <th>SibSp</th>\n",
       "      <th>Parch</th>\n",
       "      <th>Ticket</th>\n",
       "      <th>Fare</th>\n",
       "      <th>Cabin</th>\n",
       "      <th>Embarked</th>\n",
       "    </tr>\n",
       "  </thead>\n",
       "  <tbody>\n",
       "    <tr>\n",
       "      <th>0</th>\n",
       "      <td>1</td>\n",
       "      <td>0</td>\n",
       "      <td>3</td>\n",
       "      <td>Braund, Mr. Owen Harris</td>\n",
       "      <td>male</td>\n",
       "      <td>22.0</td>\n",
       "      <td>1</td>\n",
       "      <td>0</td>\n",
       "      <td>A/5 21171</td>\n",
       "      <td>7.2500</td>\n",
       "      <td>NaN</td>\n",
       "      <td>S</td>\n",
       "    </tr>\n",
       "    <tr>\n",
       "      <th>1</th>\n",
       "      <td>2</td>\n",
       "      <td>1</td>\n",
       "      <td>1</td>\n",
       "      <td>Cumings, Mrs. John Bradley (Florence Briggs Th...</td>\n",
       "      <td>female</td>\n",
       "      <td>38.0</td>\n",
       "      <td>1</td>\n",
       "      <td>0</td>\n",
       "      <td>PC 17599</td>\n",
       "      <td>71.2833</td>\n",
       "      <td>C85</td>\n",
       "      <td>C</td>\n",
       "    </tr>\n",
       "    <tr>\n",
       "      <th>2</th>\n",
       "      <td>3</td>\n",
       "      <td>1</td>\n",
       "      <td>3</td>\n",
       "      <td>Heikkinen, Miss. Laina</td>\n",
       "      <td>female</td>\n",
       "      <td>26.0</td>\n",
       "      <td>0</td>\n",
       "      <td>0</td>\n",
       "      <td>STON/O2. 3101282</td>\n",
       "      <td>7.9250</td>\n",
       "      <td>NaN</td>\n",
       "      <td>S</td>\n",
       "    </tr>\n",
       "    <tr>\n",
       "      <th>3</th>\n",
       "      <td>4</td>\n",
       "      <td>1</td>\n",
       "      <td>1</td>\n",
       "      <td>Futrelle, Mrs. Jacques Heath (Lily May Peel)</td>\n",
       "      <td>female</td>\n",
       "      <td>35.0</td>\n",
       "      <td>1</td>\n",
       "      <td>0</td>\n",
       "      <td>113803</td>\n",
       "      <td>53.1000</td>\n",
       "      <td>C123</td>\n",
       "      <td>S</td>\n",
       "    </tr>\n",
       "    <tr>\n",
       "      <th>4</th>\n",
       "      <td>5</td>\n",
       "      <td>0</td>\n",
       "      <td>3</td>\n",
       "      <td>Allen, Mr. William Henry</td>\n",
       "      <td>male</td>\n",
       "      <td>35.0</td>\n",
       "      <td>0</td>\n",
       "      <td>0</td>\n",
       "      <td>373450</td>\n",
       "      <td>8.0500</td>\n",
       "      <td>NaN</td>\n",
       "      <td>S</td>\n",
       "    </tr>\n",
       "    <tr>\n",
       "      <th>5</th>\n",
       "      <td>6</td>\n",
       "      <td>0</td>\n",
       "      <td>3</td>\n",
       "      <td>Moran, Mr. James</td>\n",
       "      <td>male</td>\n",
       "      <td>NaN</td>\n",
       "      <td>0</td>\n",
       "      <td>0</td>\n",
       "      <td>330877</td>\n",
       "      <td>8.4583</td>\n",
       "      <td>NaN</td>\n",
       "      <td>Q</td>\n",
       "    </tr>\n",
       "    <tr>\n",
       "      <th>6</th>\n",
       "      <td>7</td>\n",
       "      <td>0</td>\n",
       "      <td>1</td>\n",
       "      <td>McCarthy, Mr. Timothy J</td>\n",
       "      <td>male</td>\n",
       "      <td>54.0</td>\n",
       "      <td>0</td>\n",
       "      <td>0</td>\n",
       "      <td>17463</td>\n",
       "      <td>51.8625</td>\n",
       "      <td>E46</td>\n",
       "      <td>S</td>\n",
       "    </tr>\n",
       "    <tr>\n",
       "      <th>7</th>\n",
       "      <td>8</td>\n",
       "      <td>0</td>\n",
       "      <td>3</td>\n",
       "      <td>Palsson, Master. Gosta Leonard</td>\n",
       "      <td>male</td>\n",
       "      <td>2.0</td>\n",
       "      <td>3</td>\n",
       "      <td>1</td>\n",
       "      <td>349909</td>\n",
       "      <td>21.0750</td>\n",
       "      <td>NaN</td>\n",
       "      <td>S</td>\n",
       "    </tr>\n",
       "  </tbody>\n",
       "</table>\n",
       "</div>"
      ],
      "text/plain": [
       "   PassengerId  Survived  Pclass  \\\n",
       "0            1         0       3   \n",
       "1            2         1       1   \n",
       "2            3         1       3   \n",
       "3            4         1       1   \n",
       "4            5         0       3   \n",
       "5            6         0       3   \n",
       "6            7         0       1   \n",
       "7            8         0       3   \n",
       "\n",
       "                                                Name     Sex   Age  SibSp  \\\n",
       "0                            Braund, Mr. Owen Harris    male  22.0      1   \n",
       "1  Cumings, Mrs. John Bradley (Florence Briggs Th...  female  38.0      1   \n",
       "2                             Heikkinen, Miss. Laina  female  26.0      0   \n",
       "3       Futrelle, Mrs. Jacques Heath (Lily May Peel)  female  35.0      1   \n",
       "4                           Allen, Mr. William Henry    male  35.0      0   \n",
       "5                                   Moran, Mr. James    male   NaN      0   \n",
       "6                            McCarthy, Mr. Timothy J    male  54.0      0   \n",
       "7                     Palsson, Master. Gosta Leonard    male   2.0      3   \n",
       "\n",
       "   Parch            Ticket     Fare Cabin Embarked  \n",
       "0      0         A/5 21171   7.2500   NaN        S  \n",
       "1      0          PC 17599  71.2833   C85        C  \n",
       "2      0  STON/O2. 3101282   7.9250   NaN        S  \n",
       "3      0            113803  53.1000  C123        S  \n",
       "4      0            373450   8.0500   NaN        S  \n",
       "5      0            330877   8.4583   NaN        Q  \n",
       "6      0             17463  51.8625   E46        S  \n",
       "7      1            349909  21.0750   NaN        S  "
      ]
     },
     "execution_count": 3,
     "metadata": {},
     "output_type": "execute_result"
    }
   ],
   "source": [
    "x_train.head(8)"
   ]
  },
  {
   "cell_type": "code",
   "execution_count": 4,
   "metadata": {},
   "outputs": [
    {
     "data": {
      "text/plain": [
       "array(['PassengerId', 'Survived', 'Pclass', 'Name', 'Sex', 'Age', 'SibSp',\n",
       "       'Parch', 'Ticket', 'Fare', 'Cabin', 'Embarked'], dtype=object)"
      ]
     },
     "execution_count": 4,
     "metadata": {},
     "output_type": "execute_result"
    }
   ],
   "source": [
    "x_train.columns.values"
   ]
  },
  {
   "cell_type": "markdown",
   "metadata": {},
   "source": [
    "**Data Dictionary**<br>\n",
    "![image](https://user-images.githubusercontent.com/59526258/133946732-6a5b5841-cc2e-4bc3-8d5b-0bc0c9d8567d.png)\n",
    "**Variable Notes** <br>\n",
    "\n",
    "**pclass**: A proxy for socio-economic status (SES)<br>\n",
    "1st = Upper<br>\n",
    "2nd = Middle<br>\n",
    "3rd = Lower<br>\n",
    "\n",
    "**age**: Age is fractional if less than 1. If the age is estimated, is it in the form of xx.5<br>\n",
    "\n",
    "**sibsp**: The dataset defines family relations in this way: <br>\n",
    "Sibling = brother, sister, stepbrother, stepsister<br>\n",
    "Spouse = husband, wife (mistresses and fiancés were ignored)<br>\n",
    "\n",
    "**parch**: The dataset defines family relations in this way:<br>\n",
    "Parent = mother, father<br>\n",
    "Child = daughter, son, stepdaughter, stepson<br>\n",
    "Some children traveled only with a nanny, therefore parch=0 for them.<br>"
   ]
  },
  {
   "cell_type": "markdown",
   "metadata": {},
   "source": [
    "**Ask questions about your data.**<br>\n",
    "\n",
    "> - ***Which features are categorical?***<br>\n",
    "The characteristic of categorical values is to classify the samples into sets of similar pieces. Within categorical features are the values nominal, ordinal, ratio, or interval-based? Among other things, this helps us select the appropriate plots for visualization.<br>\n",
    "    ***Categorical: `Survived`, `Sex`, and `Embarked`.***<br>\n",
    "    ***Ordinal: `Pclass`***<br>\n",
    "\n",
    "> - ***Which features are numerical?***<br>\n",
    "Which features are numerical? The characteristic of numerical is changing from sample to sample. Within numerical features, are the values discrete, continuous, or time series based? Among other things, this helps us select the appropriate plots for visualization.<br>\n",
    "    ***Continous: `Age`, `Fare`.*** <br>\n",
    "    ***Discrete: `SibSp`, `Parch`.***<br>\n",
    "    \n",
    "> - ***Which features are mixed data types?***<br>\n",
    "    ***`Ticket`*** and ***`Cabin`*** is a mix of numeric and alphanumeric data types"
   ]
  },
  {
   "cell_type": "markdown",
   "metadata": {},
   "source": [
    "##  <a name=\"EDA\"> Exploratory Data Analysis (EDA)\n",
    "### Analyze, identify patterns, visualizing and explore the data.\n",
    "#### Explore the data"
   ]
  },
  {
   "cell_type": "markdown",
   "metadata": {},
   "source": [
    "From the overall analysis, we know that some of the columns will not affect a person's survival, which later we will remove if needed."
   ]
  },
  {
   "cell_type": "code",
   "execution_count": 5,
   "metadata": {},
   "outputs": [
    {
     "name": "stdout",
     "output_type": "stream",
     "text": [
      "<class 'pandas.core.frame.DataFrame'>\n",
      "RangeIndex: 891 entries, 0 to 890\n",
      "Data columns (total 12 columns):\n",
      " #   Column       Non-Null Count  Dtype  \n",
      "---  ------       --------------  -----  \n",
      " 0   PassengerId  891 non-null    int64  \n",
      " 1   Survived     891 non-null    int64  \n",
      " 2   Pclass       891 non-null    int64  \n",
      " 3   Name         891 non-null    object \n",
      " 4   Sex          891 non-null    object \n",
      " 5   Age          714 non-null    float64\n",
      " 6   SibSp        891 non-null    int64  \n",
      " 7   Parch        891 non-null    int64  \n",
      " 8   Ticket       891 non-null    object \n",
      " 9   Fare         891 non-null    float64\n",
      " 10  Cabin        204 non-null    object \n",
      " 11  Embarked     889 non-null    object \n",
      "dtypes: float64(2), int64(5), object(5)\n",
      "memory usage: 83.7+ KB\n"
     ]
    }
   ],
   "source": [
    "x_train.info()"
   ]
  },
  {
   "cell_type": "code",
   "execution_count": 6,
   "metadata": {},
   "outputs": [
    {
     "name": "stdout",
     "output_type": "stream",
     "text": [
      "<class 'pandas.core.frame.DataFrame'>\n",
      "RangeIndex: 418 entries, 0 to 417\n",
      "Data columns (total 11 columns):\n",
      " #   Column       Non-Null Count  Dtype  \n",
      "---  ------       --------------  -----  \n",
      " 0   PassengerId  418 non-null    int64  \n",
      " 1   Pclass       418 non-null    int64  \n",
      " 2   Name         418 non-null    object \n",
      " 3   Sex          418 non-null    object \n",
      " 4   Age          332 non-null    float64\n",
      " 5   SibSp        418 non-null    int64  \n",
      " 6   Parch        418 non-null    int64  \n",
      " 7   Ticket       418 non-null    object \n",
      " 8   Fare         417 non-null    float64\n",
      " 9   Cabin        91 non-null     object \n",
      " 10  Embarked     418 non-null    object \n",
      "dtypes: float64(2), int64(4), object(5)\n",
      "memory usage: 36.0+ KB\n"
     ]
    }
   ],
   "source": [
    "x_test.info()"
   ]
  },
  {
   "cell_type": "markdown",
   "metadata": {},
   "source": [
    "**Ask questions about your data.**<br>\n",
    "> - ***What are the data types for various features?***<br>\n",
    "    ***Seven features are integer or floats.***<br>\n",
    "    ***Five features are strings (object).***\n",
    "    \n",
    "\n",
    "> - ***Which features contain blank, null or empty values?***<br>\n",
    "Here we will look at the data type and its non-null count. The summary showed that the maximum number of rows of data is 891. However, there are some of the column data which have fewer rows of data compare to 891.<br> \n",
    "    ***`Age`, `Cabin`, `Embarked`***"
   ]
  },
  {
   "cell_type": "markdown",
   "metadata": {},
   "source": [
    "Since we know there is null in the dataset, we will look at the percentage of the null value for each column. "
   ]
  },
  {
   "cell_type": "code",
   "execution_count": 7,
   "metadata": {},
   "outputs": [
    {
     "data": {
      "text/html": [
       "<div>\n",
       "<style scoped>\n",
       "    .dataframe tbody tr th:only-of-type {\n",
       "        vertical-align: middle;\n",
       "    }\n",
       "\n",
       "    .dataframe tbody tr th {\n",
       "        vertical-align: top;\n",
       "    }\n",
       "\n",
       "    .dataframe thead th {\n",
       "        text-align: right;\n",
       "    }\n",
       "</style>\n",
       "<table border=\"1\" class=\"dataframe\">\n",
       "  <thead>\n",
       "    <tr style=\"text-align: right;\">\n",
       "      <th></th>\n",
       "      <th>Total</th>\n",
       "      <th>%</th>\n",
       "    </tr>\n",
       "  </thead>\n",
       "  <tbody>\n",
       "    <tr>\n",
       "      <th>Cabin</th>\n",
       "      <td>687</td>\n",
       "      <td>77.1</td>\n",
       "    </tr>\n",
       "    <tr>\n",
       "      <th>Age</th>\n",
       "      <td>177</td>\n",
       "      <td>19.9</td>\n",
       "    </tr>\n",
       "    <tr>\n",
       "      <th>Embarked</th>\n",
       "      <td>2</td>\n",
       "      <td>0.2</td>\n",
       "    </tr>\n",
       "    <tr>\n",
       "      <th>PassengerId</th>\n",
       "      <td>0</td>\n",
       "      <td>0.0</td>\n",
       "    </tr>\n",
       "    <tr>\n",
       "      <th>Survived</th>\n",
       "      <td>0</td>\n",
       "      <td>0.0</td>\n",
       "    </tr>\n",
       "  </tbody>\n",
       "</table>\n",
       "</div>"
      ],
      "text/plain": [
       "             Total     %\n",
       "Cabin          687  77.1\n",
       "Age            177  19.9\n",
       "Embarked         2   0.2\n",
       "PassengerId      0   0.0\n",
       "Survived         0   0.0"
      ]
     },
     "execution_count": 7,
     "metadata": {},
     "output_type": "execute_result"
    }
   ],
   "source": [
    "total = x_train.isnull().sum().sort_values(ascending=False)\n",
    "percent = x_train.isnull().sum()/x_train.isnull().count()*100\n",
    "percent_rounded = (round(percent, 1)).sort_values(ascending=False)\n",
    "missing = pd.concat([total, percent_rounded], axis=1, keys=['Total', '%'])\n",
    "missing.head(5)"
   ]
  },
  {
   "cell_type": "markdown",
   "metadata": {},
   "source": [
    "From this analysis, we know that cabin account for have a lot of missing data (71%) which needed to be addressed, and age which is 19.9% and lastly embarked 0.2% and these low number missing data will be easier to handle later during cleaning."
   ]
  },
  {
   "cell_type": "markdown",
   "metadata": {},
   "source": [
    "#### Data Validation and Data Exploration"
   ]
  },
  {
   "cell_type": "code",
   "execution_count": 8,
   "metadata": {},
   "outputs": [
    {
     "data": {
      "text/html": [
       "<div>\n",
       "<style scoped>\n",
       "    .dataframe tbody tr th:only-of-type {\n",
       "        vertical-align: middle;\n",
       "    }\n",
       "\n",
       "    .dataframe tbody tr th {\n",
       "        vertical-align: top;\n",
       "    }\n",
       "\n",
       "    .dataframe thead th {\n",
       "        text-align: right;\n",
       "    }\n",
       "</style>\n",
       "<table border=\"1\" class=\"dataframe\">\n",
       "  <thead>\n",
       "    <tr style=\"text-align: right;\">\n",
       "      <th></th>\n",
       "      <th>PassengerId</th>\n",
       "      <th>Survived</th>\n",
       "      <th>Pclass</th>\n",
       "      <th>Age</th>\n",
       "      <th>SibSp</th>\n",
       "      <th>Parch</th>\n",
       "      <th>Fare</th>\n",
       "    </tr>\n",
       "  </thead>\n",
       "  <tbody>\n",
       "    <tr>\n",
       "      <th>count</th>\n",
       "      <td>891.000000</td>\n",
       "      <td>891.000000</td>\n",
       "      <td>891.000000</td>\n",
       "      <td>714.000000</td>\n",
       "      <td>891.000000</td>\n",
       "      <td>891.000000</td>\n",
       "      <td>891.000000</td>\n",
       "    </tr>\n",
       "    <tr>\n",
       "      <th>mean</th>\n",
       "      <td>446.000000</td>\n",
       "      <td>0.383838</td>\n",
       "      <td>2.308642</td>\n",
       "      <td>29.699118</td>\n",
       "      <td>0.523008</td>\n",
       "      <td>0.381594</td>\n",
       "      <td>32.204208</td>\n",
       "    </tr>\n",
       "    <tr>\n",
       "      <th>std</th>\n",
       "      <td>257.353842</td>\n",
       "      <td>0.486592</td>\n",
       "      <td>0.836071</td>\n",
       "      <td>14.526497</td>\n",
       "      <td>1.102743</td>\n",
       "      <td>0.806057</td>\n",
       "      <td>49.693429</td>\n",
       "    </tr>\n",
       "    <tr>\n",
       "      <th>min</th>\n",
       "      <td>1.000000</td>\n",
       "      <td>0.000000</td>\n",
       "      <td>1.000000</td>\n",
       "      <td>0.420000</td>\n",
       "      <td>0.000000</td>\n",
       "      <td>0.000000</td>\n",
       "      <td>0.000000</td>\n",
       "    </tr>\n",
       "    <tr>\n",
       "      <th>25%</th>\n",
       "      <td>223.500000</td>\n",
       "      <td>0.000000</td>\n",
       "      <td>2.000000</td>\n",
       "      <td>20.125000</td>\n",
       "      <td>0.000000</td>\n",
       "      <td>0.000000</td>\n",
       "      <td>7.910400</td>\n",
       "    </tr>\n",
       "    <tr>\n",
       "      <th>50%</th>\n",
       "      <td>446.000000</td>\n",
       "      <td>0.000000</td>\n",
       "      <td>3.000000</td>\n",
       "      <td>28.000000</td>\n",
       "      <td>0.000000</td>\n",
       "      <td>0.000000</td>\n",
       "      <td>14.454200</td>\n",
       "    </tr>\n",
       "    <tr>\n",
       "      <th>75%</th>\n",
       "      <td>668.500000</td>\n",
       "      <td>1.000000</td>\n",
       "      <td>3.000000</td>\n",
       "      <td>38.000000</td>\n",
       "      <td>1.000000</td>\n",
       "      <td>0.000000</td>\n",
       "      <td>31.000000</td>\n",
       "    </tr>\n",
       "    <tr>\n",
       "      <th>max</th>\n",
       "      <td>891.000000</td>\n",
       "      <td>1.000000</td>\n",
       "      <td>3.000000</td>\n",
       "      <td>80.000000</td>\n",
       "      <td>8.000000</td>\n",
       "      <td>6.000000</td>\n",
       "      <td>512.329200</td>\n",
       "    </tr>\n",
       "  </tbody>\n",
       "</table>\n",
       "</div>"
      ],
      "text/plain": [
       "       PassengerId    Survived      Pclass         Age       SibSp  \\\n",
       "count   891.000000  891.000000  891.000000  714.000000  891.000000   \n",
       "mean    446.000000    0.383838    2.308642   29.699118    0.523008   \n",
       "std     257.353842    0.486592    0.836071   14.526497    1.102743   \n",
       "min       1.000000    0.000000    1.000000    0.420000    0.000000   \n",
       "25%     223.500000    0.000000    2.000000   20.125000    0.000000   \n",
       "50%     446.000000    0.000000    3.000000   28.000000    0.000000   \n",
       "75%     668.500000    1.000000    3.000000   38.000000    1.000000   \n",
       "max     891.000000    1.000000    3.000000   80.000000    8.000000   \n",
       "\n",
       "            Parch        Fare  \n",
       "count  891.000000  891.000000  \n",
       "mean     0.381594   32.204208  \n",
       "std      0.806057   49.693429  \n",
       "min      0.000000    0.000000  \n",
       "25%      0.000000    7.910400  \n",
       "50%      0.000000   14.454200  \n",
       "75%      0.000000   31.000000  \n",
       "max      6.000000  512.329200  "
      ]
     },
     "execution_count": 8,
     "metadata": {},
     "output_type": "execute_result"
    }
   ],
   "source": [
    "x_train.describe()"
   ]
  },
  {
   "cell_type": "code",
   "execution_count": 9,
   "metadata": {},
   "outputs": [
    {
     "data": {
      "text/plain": [
       "array([[<AxesSubplot:title={'center':'PassengerId'}>,\n",
       "        <AxesSubplot:title={'center':'Survived'}>,\n",
       "        <AxesSubplot:title={'center':'Pclass'}>],\n",
       "       [<AxesSubplot:title={'center':'Age'}>,\n",
       "        <AxesSubplot:title={'center':'SibSp'}>,\n",
       "        <AxesSubplot:title={'center':'Parch'}>],\n",
       "       [<AxesSubplot:title={'center':'Fare'}>, <AxesSubplot:>,\n",
       "        <AxesSubplot:>]], dtype=object)"
      ]
     },
     "execution_count": 9,
     "metadata": {},
     "output_type": "execute_result"
    },
    {
     "data": {
      "image/png": "[encoded data removed]",
      "text/plain": [
       "<Figure size 864x576 with 9 Axes>"
      ]
     },
     "metadata": {
      "needs_background": "light"
     },
     "output_type": "display_data"
    }
   ],
   "source": [
    "import warnings\n",
    "warnings.filterwarnings('ignore')\n",
    "fig = plt.figure(figsize=(12, 8))\n",
    "x_train.hist(ax=fig.gca())"
   ]
  },
  {
   "cell_type": "code",
   "execution_count": 10,
   "metadata": {},
   "outputs": [
    {
     "data": {
      "image/png": "[encoded data removed]",
      "text/plain": [
       "<Figure size 756x432 with 6 Axes>"
      ]
     },
     "metadata": {
      "needs_background": "light"
     },
     "output_type": "display_data"
    }
   ],
   "source": [
    "cols = ['Survived', 'Sex', 'Pclass', 'SibSp', 'Parch', 'Embarked']\n",
    "nr_rows = 2\n",
    "nr_cols = 3\n",
    "\n",
    "fig, axs = plt.subplots(nr_rows, nr_cols, figsize=(nr_cols*3.5, nr_rows*3))\n",
    "\n",
    "for r in range(0, nr_rows):\n",
    "    for c in range(0, nr_cols):\n",
    "\n",
    "        i = r*nr_cols+c\n",
    "        ax = axs[r][c]\n",
    "        sns.countplot(x_train[cols[i]], hue=x_train[\"Survived\"], ax=ax)\n",
    "        ax.set_title(cols[i], fontsize=14, fontweight='bold')\n",
    "        ax.legend(title=\"survived\", loc='upper center')\n",
    "\n",
    "plt.tight_layout()"
   ]
  },
  {
   "cell_type": "markdown",
   "metadata": {},
   "source": [
    "**Ask questions about your data.**<br>\n",
    "> - ***What is the distribution of numerical feature values across the samples?***<br>\n",
    "The distributions help us determine, among other early insights, how representative is the training dataset of the actual problem domain. Based on the research and info, we can determine that:<br>\n",
    "    - ***Data Validation***\n",
    "        - Total samples are 891 or 40% of the [actual number of passengers on board the Titanic (2,224)](https://www.history.com/topics/early-20th-century-us/titanic).\n",
    "        - Around 38% of samples survived (by referring to mean), [representative of the actual survival rate at 32%](https://www.dummies.com/education/history/titanic-passenger-survival-rates/).<br>\n",
    "    - ***Data Exploration***\n",
    "        - Survived is a categorical feature with 0 or 1 values.\n",
    "        - Most passengers (> 75%) did not travel with parents or children.\n",
    "        - Most of the passengers had siblings and spouses aboard.\n",
    "        - Fares varied significantly with few passengers paying as high as $512.\n",
    "        - Few elderly passengers within age range 60-80."
   ]
  },
  {
   "cell_type": "code",
   "execution_count": 11,
   "metadata": {},
   "outputs": [
    {
     "data": {
      "text/html": [
       "<div>\n",
       "<style scoped>\n",
       "    .dataframe tbody tr th:only-of-type {\n",
       "        vertical-align: middle;\n",
       "    }\n",
       "\n",
       "    .dataframe tbody tr th {\n",
       "        vertical-align: top;\n",
       "    }\n",
       "\n",
       "    .dataframe thead th {\n",
       "        text-align: right;\n",
       "    }\n",
       "</style>\n",
       "<table border=\"1\" class=\"dataframe\">\n",
       "  <thead>\n",
       "    <tr style=\"text-align: right;\">\n",
       "      <th></th>\n",
       "      <th>Name</th>\n",
       "      <th>Sex</th>\n",
       "      <th>Ticket</th>\n",
       "      <th>Cabin</th>\n",
       "      <th>Embarked</th>\n",
       "    </tr>\n",
       "  </thead>\n",
       "  <tbody>\n",
       "    <tr>\n",
       "      <th>count</th>\n",
       "      <td>891</td>\n",
       "      <td>891</td>\n",
       "      <td>891</td>\n",
       "      <td>204</td>\n",
       "      <td>889</td>\n",
       "    </tr>\n",
       "    <tr>\n",
       "      <th>unique</th>\n",
       "      <td>891</td>\n",
       "      <td>2</td>\n",
       "      <td>681</td>\n",
       "      <td>147</td>\n",
       "      <td>3</td>\n",
       "    </tr>\n",
       "    <tr>\n",
       "      <th>top</th>\n",
       "      <td>Braund, Mr. Owen Harris</td>\n",
       "      <td>male</td>\n",
       "      <td>347082</td>\n",
       "      <td>B96 B98</td>\n",
       "      <td>S</td>\n",
       "    </tr>\n",
       "    <tr>\n",
       "      <th>freq</th>\n",
       "      <td>1</td>\n",
       "      <td>577</td>\n",
       "      <td>7</td>\n",
       "      <td>4</td>\n",
       "      <td>644</td>\n",
       "    </tr>\n",
       "  </tbody>\n",
       "</table>\n",
       "</div>"
      ],
      "text/plain": [
       "                           Name   Sex  Ticket    Cabin Embarked\n",
       "count                       891   891     891      204      889\n",
       "unique                      891     2     681      147        3\n",
       "top     Braund, Mr. Owen Harris  male  347082  B96 B98        S\n",
       "freq                          1   577       7        4      644"
      ]
     },
     "execution_count": 11,
     "metadata": {},
     "output_type": "execute_result"
    }
   ],
   "source": [
    "x_train.describe(include=['O'])"
   ]
  },
  {
   "cell_type": "markdown",
   "metadata": {},
   "source": [
    "**Ask questions about your data.**<br>\n",
    "> - ***What is the distribution of categorical features?***<br>\n",
    "    - Names are unique across the dataset (count=unique=891)\n",
    "    - Sex variable as two possible values with 65% male (top=male, freq=577/count=891).\n",
    "    - Cabin values have several duplicates across samples. Alternatively, several passengers shared a cabin.\n",
    "    - Embarked takes three possible values. S port used by most passengers (top=S)\n",
    "    - The ticket feature has a high ratio (22%) of duplicate values (unique=681)."
   ]
  },
  {
   "cell_type": "markdown",
   "metadata": {},
   "source": [
    "### Heatmap Correlation\n",
    "***Correlating***<br>\n",
    "The first step of the analysis is to analyze the:\n",
    "- Correlation between each feature \n",
    "- Correlation between feature and the label itself"
   ]
  },
  {
   "cell_type": "code",
   "execution_count": 12,
   "metadata": {},
   "outputs": [
    {
     "data": {
      "image/png": "[encoded data removed]",
      "text/plain": [
       "<Figure size 720x432 with 2 Axes>"
      ]
     },
     "metadata": {
      "needs_background": "light"
     },
     "output_type": "display_data"
    }
   ],
   "source": [
    "# Correlation between each feature\n",
    "df_corr = x_train.corr()\n",
    "plt.figure(figsize=(10, 6))\n",
    "mask = np.triu(np.ones_like(x_train.corr(), dtype=np.bool))\n",
    "sns.heatmap(df_corr, mask=mask, vmin=-1, vmax=1, annot=True, cmap='BrBG')\n",
    "plt.title('Correlation Heatmap', fontdict={'fontsize': 12}, pad=12)"
   ]
  },
  {
   "cell_type": "code",
   "execution_count": 13,
   "metadata": {},
   "outputs": [
    {
     "data": {
      "image/png": "[encoded data removed]",
      "text/plain": [
       "<Figure size 432x288 with 2 Axes>"
      ]
     },
     "metadata": {
      "needs_background": "light"
     },
     "output_type": "display_data"
    }
   ],
   "source": [
    "# Correlation between feature and the label itself\n",
    "heatmap = sns.heatmap(x_train.corr()[['Survived']].sort_values(\n",
    "    by='Survived', ascending=False), vmin=-1, vmax=1, annot=True, cmap='BrBG')"
   ]
  },
  {
   "cell_type": "markdown",
   "metadata": {},
   "source": [
    "**Ask questions about your data.**<br>\n",
    "> - ***Observations.***<br>\n",
    "    - Correlation between each feature\n",
    "        - `Pclass` and `Fare` have a negative correlation (-0.55)\n",
    "        - `Pclass` and `Age` have a negative correlation (-0.37)\n",
    "        - `Age` and `SibSp` have a negative correlation (-0.31)\n",
    "        - `SibSp` and `Parch` have a positive correlation (0.41)\n",
    "    - Correlation between feature and the label itself\n",
    "        - The lowest correlation is between `PassengerId` and `Survived` \n",
    "        \n",
    "> - ***Assumptions***<br>\n",
    "    - Can we assume that the `Pclass` will affect the `Survived`? \n",
    "    - The higher the `Pclass` (highest class = 1), the pay more `Fare` to take the ship?\n",
    "    - The younger(`Age`) the passenger, the more siblings and spouse(`SibSp`)?\n",
    "    - The younger(`Age`) the passenger, the more opportunity to `Survived`?\n",
    "    - The more `Fare` the passenger, the more chance to `Survived`?\n",
    "    \n",
    "> - ***Decisions.***<br>\n",
    "    - The assumption needs to investigate further\n",
    "    - We may consider dropping the `PassengerId` since this feature does not relate to the `Survived`"
   ]
  },
  {
   "cell_type": "markdown",
   "metadata": {},
   "source": [
    "##  <a name=\"Analyze\">Analyze\n",
    "To confirm our observations and assumptions, we can quickly analyze our feature correlations by pivoting features against each other. We can only do so at this stage for features that do not have any empty values. It also makes sense to do so only for features which are categorical (`Sex`), ordinal (`Pclass`) or discrete (`SibSp`, `Parch`) type.\n",
    "### Analyze `Pclass` correlation with `Survived`"
   ]
  },
  {
   "cell_type": "code",
   "execution_count": 14,
   "metadata": {},
   "outputs": [
    {
     "data": {
      "text/html": [
       "<div>\n",
       "<style scoped>\n",
       "    .dataframe tbody tr th:only-of-type {\n",
       "        vertical-align: middle;\n",
       "    }\n",
       "\n",
       "    .dataframe tbody tr th {\n",
       "        vertical-align: top;\n",
       "    }\n",
       "\n",
       "    .dataframe thead th {\n",
       "        text-align: right;\n",
       "    }\n",
       "</style>\n",
       "<table border=\"1\" class=\"dataframe\">\n",
       "  <thead>\n",
       "    <tr style=\"text-align: right;\">\n",
       "      <th></th>\n",
       "      <th>Pclass</th>\n",
       "      <th>Survived</th>\n",
       "    </tr>\n",
       "  </thead>\n",
       "  <tbody>\n",
       "    <tr>\n",
       "      <th>0</th>\n",
       "      <td>1</td>\n",
       "      <td>0.629630</td>\n",
       "    </tr>\n",
       "    <tr>\n",
       "      <th>1</th>\n",
       "      <td>2</td>\n",
       "      <td>0.472826</td>\n",
       "    </tr>\n",
       "    <tr>\n",
       "      <th>2</th>\n",
       "      <td>3</td>\n",
       "      <td>0.242363</td>\n",
       "    </tr>\n",
       "  </tbody>\n",
       "</table>\n",
       "</div>"
      ],
      "text/plain": [
       "   Pclass  Survived\n",
       "0       1  0.629630\n",
       "1       2  0.472826\n",
       "2       3  0.242363"
      ]
     },
     "execution_count": 14,
     "metadata": {},
     "output_type": "execute_result"
    }
   ],
   "source": [
    "x_train[['Pclass', 'Survived']].groupby(\n",
    "    ['Pclass'], as_index=False).mean().sort_values(by='Survived', ascending=False)"
   ]
  },
  {
   "cell_type": "markdown",
   "metadata": {},
   "source": [
    "So here we it clearly observed that passenger from Pclass 1 will have better chance to survive than other class."
   ]
  },
  {
   "cell_type": "code",
   "execution_count": 15,
   "metadata": {},
   "outputs": [
    {
     "data": {
      "text/plain": [
       "<AxesSubplot:xlabel='Pclass', ylabel='Survived'>"
      ]
     },
     "execution_count": 15,
     "metadata": {},
     "output_type": "execute_result"
    },
    {
     "data": {
      "image/png": "[encoded data removed]",
      "text/plain": [
       "<Figure size 432x288 with 1 Axes>"
      ]
     },
     "metadata": {
      "needs_background": "light"
     },
     "output_type": "display_data"
    }
   ],
   "source": [
    "sns.barplot(x='Pclass', y='Survived', data=x_train)"
   ]
  },
  {
   "cell_type": "markdown",
   "metadata": {},
   "source": [
    "**Ask questions about your data.**<br>\n",
    "> - ***Pclass***<br>\n",
    "We observe that there is a correlation between Pclass=1 and Survived. We have decided to include this feature in our model."
   ]
  },
  {
   "cell_type": "markdown",
   "metadata": {},
   "source": [
    "### Analyze `Sex` correlation with `Survived`"
   ]
  },
  {
   "cell_type": "code",
   "execution_count": 16,
   "metadata": {},
   "outputs": [
    {
     "data": {
      "text/html": [
       "<div>\n",
       "<style scoped>\n",
       "    .dataframe tbody tr th:only-of-type {\n",
       "        vertical-align: middle;\n",
       "    }\n",
       "\n",
       "    .dataframe tbody tr th {\n",
       "        vertical-align: top;\n",
       "    }\n",
       "\n",
       "    .dataframe thead th {\n",
       "        text-align: right;\n",
       "    }\n",
       "</style>\n",
       "<table border=\"1\" class=\"dataframe\">\n",
       "  <thead>\n",
       "    <tr style=\"text-align: right;\">\n",
       "      <th></th>\n",
       "      <th>Sex</th>\n",
       "      <th>Survived</th>\n",
       "    </tr>\n",
       "  </thead>\n",
       "  <tbody>\n",
       "    <tr>\n",
       "      <th>0</th>\n",
       "      <td>female</td>\n",
       "      <td>0.742038</td>\n",
       "    </tr>\n",
       "    <tr>\n",
       "      <th>1</th>\n",
       "      <td>male</td>\n",
       "      <td>0.188908</td>\n",
       "    </tr>\n",
       "  </tbody>\n",
       "</table>\n",
       "</div>"
      ],
      "text/plain": [
       "      Sex  Survived\n",
       "0  female  0.742038\n",
       "1    male  0.188908"
      ]
     },
     "execution_count": 16,
     "metadata": {},
     "output_type": "execute_result"
    }
   ],
   "source": [
    "x_train[[\"Sex\", \"Survived\"]].groupby(\n",
    "    ['Sex'], as_index=False).mean().sort_values(by='Survived', ascending=False)"
   ]
  },
  {
   "cell_type": "markdown",
   "metadata": {},
   "source": [
    "**Asking questions about your data.**<br>\n",
    "> - ***Sex***<br>\n",
    "We confirm the observation during problem definition that Sex=female had very high survival rate at 74%. So we may keep `Sex` as our important features."
   ]
  },
  {
   "cell_type": "markdown",
   "metadata": {},
   "source": [
    "### Analyze `SibSp` correlation with `Survived`"
   ]
  },
  {
   "cell_type": "code",
   "execution_count": 17,
   "metadata": {},
   "outputs": [
    {
     "data": {
      "text/html": [
       "<div>\n",
       "<style scoped>\n",
       "    .dataframe tbody tr th:only-of-type {\n",
       "        vertical-align: middle;\n",
       "    }\n",
       "\n",
       "    .dataframe tbody tr th {\n",
       "        vertical-align: top;\n",
       "    }\n",
       "\n",
       "    .dataframe thead th {\n",
       "        text-align: right;\n",
       "    }\n",
       "</style>\n",
       "<table border=\"1\" class=\"dataframe\">\n",
       "  <thead>\n",
       "    <tr style=\"text-align: right;\">\n",
       "      <th></th>\n",
       "      <th>SibSp</th>\n",
       "      <th>Survived</th>\n",
       "    </tr>\n",
       "  </thead>\n",
       "  <tbody>\n",
       "    <tr>\n",
       "      <th>1</th>\n",
       "      <td>1</td>\n",
       "      <td>0.535885</td>\n",
       "    </tr>\n",
       "    <tr>\n",
       "      <th>2</th>\n",
       "      <td>2</td>\n",
       "      <td>0.464286</td>\n",
       "    </tr>\n",
       "    <tr>\n",
       "      <th>0</th>\n",
       "      <td>0</td>\n",
       "      <td>0.345395</td>\n",
       "    </tr>\n",
       "    <tr>\n",
       "      <th>3</th>\n",
       "      <td>3</td>\n",
       "      <td>0.250000</td>\n",
       "    </tr>\n",
       "    <tr>\n",
       "      <th>4</th>\n",
       "      <td>4</td>\n",
       "      <td>0.166667</td>\n",
       "    </tr>\n",
       "    <tr>\n",
       "      <th>5</th>\n",
       "      <td>5</td>\n",
       "      <td>0.000000</td>\n",
       "    </tr>\n",
       "    <tr>\n",
       "      <th>6</th>\n",
       "      <td>8</td>\n",
       "      <td>0.000000</td>\n",
       "    </tr>\n",
       "  </tbody>\n",
       "</table>\n",
       "</div>"
      ],
      "text/plain": [
       "   SibSp  Survived\n",
       "1      1  0.535885\n",
       "2      2  0.464286\n",
       "0      0  0.345395\n",
       "3      3  0.250000\n",
       "4      4  0.166667\n",
       "5      5  0.000000\n",
       "6      8  0.000000"
      ]
     },
     "execution_count": 17,
     "metadata": {},
     "output_type": "execute_result"
    }
   ],
   "source": [
    "x_train[[\"SibSp\", \"Survived\"]].groupby(\n",
    "    ['SibSp'], as_index=False).mean().sort_values(by='Survived', ascending=False)"
   ]
  },
  {
   "cell_type": "markdown",
   "metadata": {},
   "source": [
    "### Analyze `Parch` correlation with `Survived`"
   ]
  },
  {
   "cell_type": "code",
   "execution_count": 18,
   "metadata": {},
   "outputs": [
    {
     "data": {
      "text/html": [
       "<div>\n",
       "<style scoped>\n",
       "    .dataframe tbody tr th:only-of-type {\n",
       "        vertical-align: middle;\n",
       "    }\n",
       "\n",
       "    .dataframe tbody tr th {\n",
       "        vertical-align: top;\n",
       "    }\n",
       "\n",
       "    .dataframe thead th {\n",
       "        text-align: right;\n",
       "    }\n",
       "</style>\n",
       "<table border=\"1\" class=\"dataframe\">\n",
       "  <thead>\n",
       "    <tr style=\"text-align: right;\">\n",
       "      <th></th>\n",
       "      <th>Parch</th>\n",
       "      <th>Survived</th>\n",
       "    </tr>\n",
       "  </thead>\n",
       "  <tbody>\n",
       "    <tr>\n",
       "      <th>3</th>\n",
       "      <td>3</td>\n",
       "      <td>0.600000</td>\n",
       "    </tr>\n",
       "    <tr>\n",
       "      <th>1</th>\n",
       "      <td>1</td>\n",
       "      <td>0.550847</td>\n",
       "    </tr>\n",
       "    <tr>\n",
       "      <th>2</th>\n",
       "      <td>2</td>\n",
       "      <td>0.500000</td>\n",
       "    </tr>\n",
       "    <tr>\n",
       "      <th>0</th>\n",
       "      <td>0</td>\n",
       "      <td>0.343658</td>\n",
       "    </tr>\n",
       "    <tr>\n",
       "      <th>5</th>\n",
       "      <td>5</td>\n",
       "      <td>0.200000</td>\n",
       "    </tr>\n",
       "    <tr>\n",
       "      <th>4</th>\n",
       "      <td>4</td>\n",
       "      <td>0.000000</td>\n",
       "    </tr>\n",
       "    <tr>\n",
       "      <th>6</th>\n",
       "      <td>6</td>\n",
       "      <td>0.000000</td>\n",
       "    </tr>\n",
       "  </tbody>\n",
       "</table>\n",
       "</div>"
      ],
      "text/plain": [
       "   Parch  Survived\n",
       "3      3  0.600000\n",
       "1      1  0.550847\n",
       "2      2  0.500000\n",
       "0      0  0.343658\n",
       "5      5  0.200000\n",
       "4      4  0.000000\n",
       "6      6  0.000000"
      ]
     },
     "execution_count": 18,
     "metadata": {},
     "output_type": "execute_result"
    }
   ],
   "source": [
    "x_train[[\"Parch\", \"Survived\"]].groupby(\n",
    "    ['Parch'], as_index=False).mean().sort_values(by='Survived', ascending=False)"
   ]
  },
  {
   "cell_type": "markdown",
   "metadata": {},
   "source": [
    "**Ask questions about your data.**<br>\n",
    "> - ***SibSp and Parch***<br>\n",
    "These features have zero correlation for specific values. It may be best to derive a feature or a set of features from these individual features"
   ]
  },
  {
   "cell_type": "markdown",
   "metadata": {},
   "source": [
    "### Analyze by visualizing data\n",
    "***Correlating numerical features***<br>\n",
    "Let us start by understanding correlations between numerical features and our solution goal (Survived). A histogram chart is useful for analysing continuous numerical variables like age, where banding or ranges will help identify useful patterns. The histogram can indicate the distribution of samples using automatically defined bins or equally ranged bands. This helps us answer questions relating to specific bands. (Did infants have a better survival rate?)"
   ]
  },
  {
   "cell_type": "markdown",
   "metadata": {},
   "source": [
    "### Analyze `Age` correlation with `Survived`"
   ]
  },
  {
   "cell_type": "code",
   "execution_count": 19,
   "metadata": {},
   "outputs": [
    {
     "data": {
      "text/plain": [
       "<matplotlib.legend.Legend at 0x2553a34fb70>"
      ]
     },
     "execution_count": 19,
     "metadata": {},
     "output_type": "execute_result"
    },
    {
     "data": {
      "image/png": "[encoded data removed]",
      "text/plain": [
       "<Figure size 720x288 with 1 Axes>"
      ]
     },
     "metadata": {
      "needs_background": "light"
     },
     "output_type": "display_data"
    }
   ],
   "source": [
    "survived = 'survived'\n",
    "not_survived = 'not survived'\n",
    "fig, axes = plt.subplots(nrows=1, ncols=1, figsize=(10, 4))\n",
    "ax = sns.histplot(x_train[x_train['Survived'] == 1].Age.dropna(\n",
    "), color=\"red\", bins=18, label=survived, kde=False)\n",
    "ax = sns.histplot(x_train[x_train['Survived'] == 0].Age.dropna(\n",
    "), bins=40, label=not_survived, kde=False)\n",
    "ax.legend()"
   ]
  },
  {
   "cell_type": "markdown",
   "metadata": {},
   "source": [
    "**Ask questions about your data.**<br>\n",
    "> - ***Observations***<br>\n",
    "    - Infants (aged =4 approximately) had a high survival rate.\n",
    "    - Oldest passengers (`Age = 80`) survived.\n",
    "    - Large number of 15-25 year olds did not survive.\n",
    "    - Most passengers are in 15-35 age range.\n",
    "> - ***Decisions***<br>\n",
    "This simple analysis confirms our assumptions as decisions for subsequent workflow stages.\n",
    "    - We should consider `Age` in our model training.\n",
    "    - Complete the `Age` feature for null values.\n",
    "    - We should band `Age` groups."
   ]
  },
  {
   "cell_type": "markdown",
   "metadata": {},
   "source": [
    "***Correlating numerical and ordinal features***<br>\n",
    "**Analyze Pclass together with Age correlation withSurvived**<br>\n",
    "We can combine multiple features to identify correlations using a single plot. This can be done with numerical and categorical features which have numeric values."
   ]
  },
  {
   "cell_type": "code",
   "execution_count": 20,
   "metadata": {},
   "outputs": [
    {
     "data": {
      "image/png": "[encoded data removed]",
      "text/plain": [
       "<Figure size 514.88x475.2 with 6 Axes>"
      ]
     },
     "metadata": {
      "needs_background": "light"
     },
     "output_type": "display_data"
    }
   ],
   "source": [
    "grid = sns.FacetGrid(x_train, col='Survived',\n",
    "                     row='Pclass', height=2.2, aspect=1.6)\n",
    "grid.map(plt.hist, 'Age', alpha=.5, bins=20)\n",
    "grid.add_legend()"
   ]
  },
  {
   "cell_type": "markdown",
   "metadata": {},
   "source": [
    "Here we can get a detailed view of the impact of `Pclass` on the survival of the pessanger, and from this view we can observe the wide difference between  `Pclass=3` and `Pclass=1`"
   ]
  },
  {
   "cell_type": "markdown",
   "metadata": {},
   "source": [
    "**Ask questions about your data.**<br>\n",
    "> - ***Observations.***<br>\n",
    "    - `Pclass`=3 had the most passengers, but most did not survive. \n",
    "    - Infant passengers in `Pclass` = 2 and `Pclass` = 3 mostly survived.\n",
    "    - Most passengers in `Pclass`=1 survived. \n",
    "    - `Pclass` varies in terms of the age distribution of passengers.\n",
    "> - ***Decisions.***<br>\n",
    "    - Consider `Pclass` for model training."
   ]
  },
  {
   "cell_type": "markdown",
   "metadata": {},
   "source": [
    "***Identifying and correlating categorical features***<br>\n",
    "**Examine the `Sex` correlation with `Survive`.**<br>"
   ]
  },
  {
   "cell_type": "markdown",
   "metadata": {},
   "source": [
    "Visually view the relationship between gender and sex and their chance of survival."
   ]
  },
  {
   "cell_type": "code",
   "execution_count": 21,
   "metadata": {},
   "outputs": [
    {
     "data": {
      "image/png": "[encoded data removed]",
      "text/plain": [
       "<Figure size 720x288 with 2 Axes>"
      ]
     },
     "metadata": {
      "needs_background": "light"
     },
     "output_type": "display_data"
    }
   ],
   "source": [
    "survived = 'survived'\n",
    "not_survived = 'not survived'\n",
    "fig, axes = plt.subplots(nrows=1, ncols=2, figsize=(10, 4))\n",
    "women = x_train[x_train['Sex'] == 'female']\n",
    "men = x_train[x_train['Sex'] == 'male']\n",
    "ax = sns.histplot(women[women['Survived'] == 1].Age.dropna(\n",
    "), color=\"red\", bins=18, label=survived, ax=axes[0], kde=False)\n",
    "ax = sns.histplot(women[women['Survived'] == 0].Age.dropna(\n",
    "), bins=40, label=not_survived, ax=axes[0], kde=False)\n",
    "ax.legend()\n",
    "ax.set_title('Female')\n",
    "ax = sns.histplot(men[men['Survived'] == 1].Age.dropna(\n",
    "), color=\"red\", bins=18, label=survived, ax=axes[1], kde=False)\n",
    "ax = sns.histplot(men[men['Survived'] == 0].Age.dropna(),\n",
    "                  bins=40, label=not_survived, ax=axes[1], kde=False)\n",
    "ax.legend()\n",
    "_ = ax.set_title('Male')"
   ]
  },
  {
   "cell_type": "markdown",
   "metadata": {},
   "source": [
    "Here we can observe that the survival of females is higher than males. For males, we can observe that males from 0-10 (kids) is the only region where the number of survivors is higher than those who did not survive in the male section. This can be assumed because during evacuation, they are prioritising children and women."
   ]
  },
  {
   "cell_type": "markdown",
   "metadata": {},
   "source": [
    "**Analyze `Embarked`, `Pclass`, `Sex` correlation with `Survived`**<br>"
   ]
  },
  {
   "cell_type": "code",
   "execution_count": 22,
   "metadata": {},
   "outputs": [
    {
     "data": {
      "text/plain": [
       "<seaborn.axisgrid.FacetGrid at 0x2553a3eed30>"
      ]
     },
     "execution_count": 22,
     "metadata": {},
     "output_type": "execute_result"
    },
    {
     "data": {
      "image/png": "[encoded data removed]",
      "text/plain": [
       "<Figure size 588.9x972 with 3 Axes>"
      ]
     },
     "metadata": {
      "needs_background": "light"
     },
     "output_type": "display_data"
    }
   ],
   "source": [
    "FacetGrid = sns.FacetGrid(x_train, row='Embarked', height=4.5, aspect=1.6)\n",
    "FacetGrid.map(sns.pointplot, 'Pclass', 'Survived', 'Sex',\n",
    "              palette=None,  order=None, hue_order=None)\n",
    "FacetGrid.add_legend()"
   ]
  },
  {
   "cell_type": "markdown",
   "metadata": {},
   "source": [
    "We can see here that the embark influences the survial of the passenger based on the person's gender and `Pclass`.The first observeable aspect is that women from both ports Q and S have a higher chance of surviving compared to men, but the opposite is true for port C. The class also influenced the survival rate, as we will see better later."
   ]
  },
  {
   "cell_type": "markdown",
   "metadata": {},
   "source": [
    "**Ask questions about your data.**<br>\n",
    "> - ***Observations.***<br>\n",
    "    - Female passengers had a much better survival rate than males.\n",
    "    - In `Embarked`=C, where males had a higher survival rate. This could be a correlation between `Pclass` and `Embarked`, and in turn, `Pclass` and `Survived`, not necessarily a direct correlation between `Embarked` and `Survived`.\n",
    "    - Males had a better survival rate in `Pclass`=3 when compared with `Pclass=2` for C and Q ports. \n",
    "    - Ports of embarkation have varying survival rates for Pclass=3 and among male passengers. \n",
    "> - ***Decisions.***<br>\n",
    "    - Add the `Sex` feature to model training.\n",
    "    - Complete and add the `Embarked` feature to model training."
   ]
  },
  {
   "cell_type": "markdown",
   "metadata": {},
   "source": [
    "***Correlating discrete features***<br>\n",
    "**Combine `SibSp` and `Parch` to form a new feature and correlation with `Survived`**<br>\n",
    "Since both `SibSp` and `Parch` can be in the same category, which is relative, we will combine the data to make our data easier to analyze."
   ]
  },
  {
   "cell_type": "code",
   "execution_count": 23,
   "metadata": {},
   "outputs": [],
   "source": [
    "data = [x_train, x_test]\n",
    "for dataset in data:\n",
    "    dataset['relatives'] = dataset['SibSp'] + dataset['Parch']"
   ]
  },
  {
   "cell_type": "code",
   "execution_count": 24,
   "metadata": {},
   "outputs": [
    {
     "data": {
      "text/plain": [
       "<AxesSubplot:xlabel='relatives', ylabel='Survived'>"
      ]
     },
     "execution_count": 24,
     "metadata": {},
     "output_type": "execute_result"
    },
    {
     "data": {
      "image/png": "[encoded data removed]",
      "text/plain": [
       "<Figure size 432x288 with 1 Axes>"
      ]
     },
     "metadata": {
      "needs_background": "light"
     },
     "output_type": "display_data"
    }
   ],
   "source": [
    "sns.barplot(x='relatives', y='Survived', data=x_train)"
   ]
  },
  {
   "cell_type": "markdown",
   "metadata": {},
   "source": [
    "**Ask questions about your data.**<br>\n",
    "> - ***Observations.***<br>\n",
    "    - One to three-person relatives have a better chance of survival compared to others.\n",
    "    - Assuming that passengers with a higher number of relatives will take more time to evacuate, and that people with no relatives will find it hard to evacuate as they will have less help during evacuation decisions\n",
    "> - ***Decisions.***<br>\n",
    "    - Create new feature by combing `SibSp` and `Parch`"
   ]
  },
  {
   "cell_type": "markdown",
   "metadata": {},
   "source": [
    "***Correlating categorical and numerical features***<br>\n",
    "**Examine the relationship between `Embarked`, `Fare`, and `Sex`and `Survived`.**<br>\n",
    "We may also want to correlate categorical features (with non-numeric values) and numeric features. We can consider correlating `Embarked` (Categorical non-numeric), `Sex` (Categorical non-numeric), `Fare` (Numeric continuous), with `Survived` (Categorical numeric)."
   ]
  },
  {
   "cell_type": "code",
   "execution_count": 25,
   "metadata": {},
   "outputs": [
    {
     "data": {
      "text/plain": [
       "<seaborn.axisgrid.FacetGrid at 0x2553ac2f518>"
      ]
     },
     "execution_count": 25,
     "metadata": {},
     "output_type": "execute_result"
    },
    {
     "data": {
      "image/png": "[encoded data removed]",
      "text/plain": [
       "<Figure size 514.88x475.2 with 6 Axes>"
      ]
     },
     "metadata": {
      "needs_background": "light"
     },
     "output_type": "display_data"
    }
   ],
   "source": [
    "grid = sns.FacetGrid(x_train, row='Embarked',\n",
    "                     col='Survived', size=2.2, aspect=1.6)\n",
    "grid.map(sns.barplot, 'Sex', 'Fare', alpha=.5, ci=None)\n",
    "grid.add_legend()"
   ]
  },
  {
   "cell_type": "markdown",
   "metadata": {},
   "source": [
    "**Ask questions about your data.**<br>\n",
    "> - ***Observations.***<br>\n",
    "    - Higher fare-paying passengers had better survival.\n",
    "    - The port of embarkation correlates with survival rates.\n",
    "\n",
    "> - ***Decisions.***<br>\n",
    "    - Consider banding `Fare` feature"
   ]
  },
  {
   "cell_type": "markdown",
   "metadata": {},
   "source": [
    "### Check Assumptions\n",
    "We arrive at the following assumptions based on the data analysis done so far. We may validate these assumptions further before taking appropriate actions.\n",
    "> - ***Correlating***<br>\n",
    "    1. We need to know how well each feature correlates with survival. So that we can match these quick correlations with modelled correlations later in the project.\n",
    "> - ***Completing***<br>\n",
    "    1. may want to complete the `Age` feature as it is definitely correlated to survival.\n",
    "    2. We may want to complete the `Embarked` feature as it may also correlate with survival or another important feature.\n",
    "> - ***Correcting***<br>\n",
    "    1. `Ticket` feature may be dropped from our analysis as it contains high ratio of duplicates (22%) and because it is a random\n",
    "    2. `Cabin` feature may be dropped as it is highly incomplete or contains many null values both in training and test dataset.\n",
    "    3. `PassengerId` may be dropped from training dataset as it does not contribute to survival.\n",
    "    4. `Name` feature is relatively non-standard, may not contribute directly to survival, so maybe dropped.   \n",
    "> - ***Creating (Feature Enginnering)***<br>\n",
    "    1. We may want to create a new feature called `Family` based on `Parch` and `SibSp` to get total count of family members on board.\n",
    "    2. We may want to feature engineer the `Name` feature to extract `Title` as a new feature.\n",
    "    3. We may want to create new feature for `Age` bands. This turns a continous numerical feature into an ordinal categorical feature.\n",
    "    4. We may also want to create a `Fare` range feature if it helps our analysis."
   ]
  },
  {
   "cell_type": "markdown",
   "metadata": {},
   "source": [
    "###  <a name=\"Wrangle\">Wrangle Data"
   ]
  },
  {
   "cell_type": "markdown",
   "metadata": {},
   "source": [
    "***Correcting by dropping features***<br>\n",
    "In this section, we will do the necessary processes to prepare the data for the training."
   ]
  },
  {
   "cell_type": "markdown",
   "metadata": {},
   "source": [
    "Drop unnecessary columns."
   ]
  },
  {
   "cell_type": "code",
   "execution_count": 26,
   "metadata": {},
   "outputs": [],
   "source": [
    "x_train = x_train.drop(['Cabin', 'Ticket', 'PassengerId'], axis=1)\n",
    "x_test = x_test.drop(['Cabin', 'Ticket', 'PassengerId'], axis=1)"
   ]
  },
  {
   "cell_type": "markdown",
   "metadata": {},
   "source": [
    "***Creating new features taking what is already there***<br>\n",
    "We want to analyse if the Name feature can be engineered to extract titles and test the correlation between titles and survival, before dropping the Name and PassengerId features."
   ]
  },
  {
   "cell_type": "code",
   "execution_count": 27,
   "metadata": {},
   "outputs": [
    {
     "data": {
      "text/html": [
       "<div>\n",
       "<style scoped>\n",
       "    .dataframe tbody tr th:only-of-type {\n",
       "        vertical-align: middle;\n",
       "    }\n",
       "\n",
       "    .dataframe tbody tr th {\n",
       "        vertical-align: top;\n",
       "    }\n",
       "\n",
       "    .dataframe thead th {\n",
       "        text-align: right;\n",
       "    }\n",
       "</style>\n",
       "<table border=\"1\" class=\"dataframe\">\n",
       "  <thead>\n",
       "    <tr style=\"text-align: right;\">\n",
       "      <th>Sex</th>\n",
       "      <th>female</th>\n",
       "      <th>male</th>\n",
       "    </tr>\n",
       "    <tr>\n",
       "      <th>Title</th>\n",
       "      <th></th>\n",
       "      <th></th>\n",
       "    </tr>\n",
       "  </thead>\n",
       "  <tbody>\n",
       "    <tr>\n",
       "      <th>Col</th>\n",
       "      <td>0</td>\n",
       "      <td>2</td>\n",
       "    </tr>\n",
       "    <tr>\n",
       "      <th>Dona</th>\n",
       "      <td>1</td>\n",
       "      <td>0</td>\n",
       "    </tr>\n",
       "    <tr>\n",
       "      <th>Dr</th>\n",
       "      <td>0</td>\n",
       "      <td>1</td>\n",
       "    </tr>\n",
       "    <tr>\n",
       "      <th>Master</th>\n",
       "      <td>0</td>\n",
       "      <td>21</td>\n",
       "    </tr>\n",
       "    <tr>\n",
       "      <th>Miss</th>\n",
       "      <td>78</td>\n",
       "      <td>0</td>\n",
       "    </tr>\n",
       "    <tr>\n",
       "      <th>Mr</th>\n",
       "      <td>0</td>\n",
       "      <td>240</td>\n",
       "    </tr>\n",
       "    <tr>\n",
       "      <th>Mrs</th>\n",
       "      <td>72</td>\n",
       "      <td>0</td>\n",
       "    </tr>\n",
       "    <tr>\n",
       "      <th>Ms</th>\n",
       "      <td>1</td>\n",
       "      <td>0</td>\n",
       "    </tr>\n",
       "    <tr>\n",
       "      <th>Rev</th>\n",
       "      <td>0</td>\n",
       "      <td>2</td>\n",
       "    </tr>\n",
       "  </tbody>\n",
       "</table>\n",
       "</div>"
      ],
      "text/plain": [
       "Sex     female  male\n",
       "Title               \n",
       "Col          0     2\n",
       "Dona         1     0\n",
       "Dr           0     1\n",
       "Master       0    21\n",
       "Miss        78     0\n",
       "Mr           0   240\n",
       "Mrs         72     0\n",
       "Ms           1     0\n",
       "Rev          0     2"
      ]
     },
     "execution_count": 27,
     "metadata": {},
     "output_type": "execute_result"
    }
   ],
   "source": [
    "data = [x_train, x_test]\n",
    "for dataset in data:\n",
    "    dataset['Title'] = dataset.Name.str.extract(' ([A-Za-z]+)\\.', expand=False)\n",
    "\n",
    "pd.crosstab(dataset['Title'], dataset['Sex'])"
   ]
  },
  {
   "cell_type": "markdown",
   "metadata": {},
   "source": [
    "We can replace the less common titles with more common names like `Other`."
   ]
  },
  {
   "cell_type": "code",
   "execution_count": 28,
   "metadata": {},
   "outputs": [
    {
     "data": {
      "text/html": [
       "<div>\n",
       "<style scoped>\n",
       "    .dataframe tbody tr th:only-of-type {\n",
       "        vertical-align: middle;\n",
       "    }\n",
       "\n",
       "    .dataframe tbody tr th {\n",
       "        vertical-align: top;\n",
       "    }\n",
       "\n",
       "    .dataframe thead th {\n",
       "        text-align: right;\n",
       "    }\n",
       "</style>\n",
       "<table border=\"1\" class=\"dataframe\">\n",
       "  <thead>\n",
       "    <tr style=\"text-align: right;\">\n",
       "      <th></th>\n",
       "      <th>Title</th>\n",
       "      <th>Survived</th>\n",
       "    </tr>\n",
       "  </thead>\n",
       "  <tbody>\n",
       "    <tr>\n",
       "      <th>0</th>\n",
       "      <td>Master</td>\n",
       "      <td>0.575000</td>\n",
       "    </tr>\n",
       "    <tr>\n",
       "      <th>1</th>\n",
       "      <td>Miss</td>\n",
       "      <td>0.702703</td>\n",
       "    </tr>\n",
       "    <tr>\n",
       "      <th>2</th>\n",
       "      <td>Mr</td>\n",
       "      <td>0.156673</td>\n",
       "    </tr>\n",
       "    <tr>\n",
       "      <th>3</th>\n",
       "      <td>Mrs</td>\n",
       "      <td>0.793651</td>\n",
       "    </tr>\n",
       "    <tr>\n",
       "      <th>4</th>\n",
       "      <td>Other</td>\n",
       "      <td>0.347826</td>\n",
       "    </tr>\n",
       "  </tbody>\n",
       "</table>\n",
       "</div>"
      ],
      "text/plain": [
       "    Title  Survived\n",
       "0  Master  0.575000\n",
       "1    Miss  0.702703\n",
       "2      Mr  0.156673\n",
       "3     Mrs  0.793651\n",
       "4   Other  0.347826"
      ]
     },
     "execution_count": 28,
     "metadata": {},
     "output_type": "execute_result"
    }
   ],
   "source": [
    "data = [x_train, x_test]\n",
    "for dataset in data:\n",
    "    dataset['Title'] = dataset['Title'].replace(['Lady', 'Countess', 'Capt', 'Col',\n",
    "                                                 'Don', 'Dr', 'Major', 'Rev', 'Sir', 'Jonkheer', 'Dona'], 'Other')\n",
    "\n",
    "    dataset['Title'] = dataset['Title'].replace('Mlle', 'Miss')\n",
    "    dataset['Title'] = dataset['Title'].replace('Ms', 'Miss')\n",
    "    dataset['Title'] = dataset['Title'].replace('Mme', 'Mrs')\n",
    "\n",
    "x_train[['Title', 'Survived']].groupby(['Title'], as_index=False).mean()"
   ]
  },
  {
   "cell_type": "code",
   "execution_count": 29,
   "metadata": {},
   "outputs": [
    {
     "data": {
      "image/png": "[encoded data removed]",
      "text/plain": [
       "<Figure size 720x432 with 1 Axes>"
      ]
     },
     "metadata": {
      "needs_background": "light"
     },
     "output_type": "display_data"
    }
   ],
   "source": [
    "plt.subplots(figsize=(10, 6))\n",
    "sns.barplot(x='Title', y='Survived', data=x_train)\n",
    "plt.ylabel(\"Survival Rate\")\n",
    "plt.title(\"Survival as function of Title\")\n",
    "plt.show()"
   ]
  },
  {
   "cell_type": "markdown",
   "metadata": {},
   "source": [
    "We can convert the categorical `Title` to ordinal."
   ]
  },
  {
   "cell_type": "code",
   "execution_count": 30,
   "metadata": {},
   "outputs": [
    {
     "data": {
      "text/html": [
       "<div>\n",
       "<style scoped>\n",
       "    .dataframe tbody tr th:only-of-type {\n",
       "        vertical-align: middle;\n",
       "    }\n",
       "\n",
       "    .dataframe tbody tr th {\n",
       "        vertical-align: top;\n",
       "    }\n",
       "\n",
       "    .dataframe thead th {\n",
       "        text-align: right;\n",
       "    }\n",
       "</style>\n",
       "<table border=\"1\" class=\"dataframe\">\n",
       "  <thead>\n",
       "    <tr style=\"text-align: right;\">\n",
       "      <th></th>\n",
       "      <th>Survived</th>\n",
       "      <th>Pclass</th>\n",
       "      <th>Name</th>\n",
       "      <th>Sex</th>\n",
       "      <th>Age</th>\n",
       "      <th>SibSp</th>\n",
       "      <th>Parch</th>\n",
       "      <th>Fare</th>\n",
       "      <th>Embarked</th>\n",
       "      <th>relatives</th>\n",
       "      <th>Title</th>\n",
       "    </tr>\n",
       "  </thead>\n",
       "  <tbody>\n",
       "    <tr>\n",
       "      <th>0</th>\n",
       "      <td>0</td>\n",
       "      <td>3</td>\n",
       "      <td>Braund, Mr. Owen Harris</td>\n",
       "      <td>male</td>\n",
       "      <td>22.0</td>\n",
       "      <td>1</td>\n",
       "      <td>0</td>\n",
       "      <td>7.2500</td>\n",
       "      <td>S</td>\n",
       "      <td>1</td>\n",
       "      <td>1.0</td>\n",
       "    </tr>\n",
       "    <tr>\n",
       "      <th>1</th>\n",
       "      <td>1</td>\n",
       "      <td>1</td>\n",
       "      <td>Cumings, Mrs. John Bradley (Florence Briggs Th...</td>\n",
       "      <td>female</td>\n",
       "      <td>38.0</td>\n",
       "      <td>1</td>\n",
       "      <td>0</td>\n",
       "      <td>71.2833</td>\n",
       "      <td>C</td>\n",
       "      <td>1</td>\n",
       "      <td>3.0</td>\n",
       "    </tr>\n",
       "    <tr>\n",
       "      <th>2</th>\n",
       "      <td>1</td>\n",
       "      <td>3</td>\n",
       "      <td>Heikkinen, Miss. Laina</td>\n",
       "      <td>female</td>\n",
       "      <td>26.0</td>\n",
       "      <td>0</td>\n",
       "      <td>0</td>\n",
       "      <td>7.9250</td>\n",
       "      <td>S</td>\n",
       "      <td>0</td>\n",
       "      <td>2.0</td>\n",
       "    </tr>\n",
       "    <tr>\n",
       "      <th>3</th>\n",
       "      <td>1</td>\n",
       "      <td>1</td>\n",
       "      <td>Futrelle, Mrs. Jacques Heath (Lily May Peel)</td>\n",
       "      <td>female</td>\n",
       "      <td>35.0</td>\n",
       "      <td>1</td>\n",
       "      <td>0</td>\n",
       "      <td>53.1000</td>\n",
       "      <td>S</td>\n",
       "      <td>1</td>\n",
       "      <td>3.0</td>\n",
       "    </tr>\n",
       "    <tr>\n",
       "      <th>4</th>\n",
       "      <td>0</td>\n",
       "      <td>3</td>\n",
       "      <td>Allen, Mr. William Henry</td>\n",
       "      <td>male</td>\n",
       "      <td>35.0</td>\n",
       "      <td>0</td>\n",
       "      <td>0</td>\n",
       "      <td>8.0500</td>\n",
       "      <td>S</td>\n",
       "      <td>0</td>\n",
       "      <td>1.0</td>\n",
       "    </tr>\n",
       "  </tbody>\n",
       "</table>\n",
       "</div>"
      ],
      "text/plain": [
       "   Survived  Pclass                                               Name  \\\n",
       "0         0       3                            Braund, Mr. Owen Harris   \n",
       "1         1       1  Cumings, Mrs. John Bradley (Florence Briggs Th...   \n",
       "2         1       3                             Heikkinen, Miss. Laina   \n",
       "3         1       1       Futrelle, Mrs. Jacques Heath (Lily May Peel)   \n",
       "4         0       3                           Allen, Mr. William Henry   \n",
       "\n",
       "      Sex   Age  SibSp  Parch     Fare Embarked  relatives  Title  \n",
       "0    male  22.0      1      0   7.2500        S          1    1.0  \n",
       "1  female  38.0      1      0  71.2833        C          1    3.0  \n",
       "2  female  26.0      0      0   7.9250        S          0    2.0  \n",
       "3  female  35.0      1      0  53.1000        S          1    3.0  \n",
       "4    male  35.0      0      0   8.0500        S          0    1.0  "
      ]
     },
     "execution_count": 30,
     "metadata": {},
     "output_type": "execute_result"
    }
   ],
   "source": [
    "title_mapping = {\"Mr\": 1, \"Miss\": 2, \"Mrs\": 3, \"Master\": 4, \"Rare\": 5}\n",
    "for dataset in data:\n",
    "    dataset['Title'] = dataset['Title'].map(title_mapping)\n",
    "    dataset['Title'] = dataset['Title'].fillna(0)\n",
    "\n",
    "x_train.head()"
   ]
  },
  {
   "cell_type": "markdown",
   "metadata": {},
   "source": [
    "Now we can safely drop the `Name` feature from training and testing datasets. We also do not need the `PassengerId` feature in the training dataset."
   ]
  },
  {
   "cell_type": "code",
   "execution_count": 31,
   "metadata": {},
   "outputs": [],
   "source": [
    "x_train = x_train.drop(['Name'], axis=1)\n",
    "x_test = x_test.drop(['Name'], axis=1)"
   ]
  },
  {
   "cell_type": "markdown",
   "metadata": {},
   "source": [
    "***Converting a categorical feature***<br>\n",
    "Now we can convert features which contain strings to numerical values. This is required by most model algorithms. Doing so will also help us in achieving the feature completing goal. Start by converting the Sex feature where female=1 and male=0."
   ]
  },
  {
   "cell_type": "code",
   "execution_count": 32,
   "metadata": {},
   "outputs": [
    {
     "data": {
      "text/html": [
       "<div>\n",
       "<style scoped>\n",
       "    .dataframe tbody tr th:only-of-type {\n",
       "        vertical-align: middle;\n",
       "    }\n",
       "\n",
       "    .dataframe tbody tr th {\n",
       "        vertical-align: top;\n",
       "    }\n",
       "\n",
       "    .dataframe thead th {\n",
       "        text-align: right;\n",
       "    }\n",
       "</style>\n",
       "<table border=\"1\" class=\"dataframe\">\n",
       "  <thead>\n",
       "    <tr style=\"text-align: right;\">\n",
       "      <th></th>\n",
       "      <th>Survived</th>\n",
       "      <th>Pclass</th>\n",
       "      <th>Sex</th>\n",
       "      <th>Age</th>\n",
       "      <th>SibSp</th>\n",
       "      <th>Parch</th>\n",
       "      <th>Fare</th>\n",
       "      <th>Embarked</th>\n",
       "      <th>relatives</th>\n",
       "      <th>Title</th>\n",
       "    </tr>\n",
       "  </thead>\n",
       "  <tbody>\n",
       "    <tr>\n",
       "      <th>0</th>\n",
       "      <td>0</td>\n",
       "      <td>3</td>\n",
       "      <td>0</td>\n",
       "      <td>22.0</td>\n",
       "      <td>1</td>\n",
       "      <td>0</td>\n",
       "      <td>7.2500</td>\n",
       "      <td>S</td>\n",
       "      <td>1</td>\n",
       "      <td>1.0</td>\n",
       "    </tr>\n",
       "    <tr>\n",
       "      <th>1</th>\n",
       "      <td>1</td>\n",
       "      <td>1</td>\n",
       "      <td>1</td>\n",
       "      <td>38.0</td>\n",
       "      <td>1</td>\n",
       "      <td>0</td>\n",
       "      <td>71.2833</td>\n",
       "      <td>C</td>\n",
       "      <td>1</td>\n",
       "      <td>3.0</td>\n",
       "    </tr>\n",
       "    <tr>\n",
       "      <th>2</th>\n",
       "      <td>1</td>\n",
       "      <td>3</td>\n",
       "      <td>1</td>\n",
       "      <td>26.0</td>\n",
       "      <td>0</td>\n",
       "      <td>0</td>\n",
       "      <td>7.9250</td>\n",
       "      <td>S</td>\n",
       "      <td>0</td>\n",
       "      <td>2.0</td>\n",
       "    </tr>\n",
       "    <tr>\n",
       "      <th>3</th>\n",
       "      <td>1</td>\n",
       "      <td>1</td>\n",
       "      <td>1</td>\n",
       "      <td>35.0</td>\n",
       "      <td>1</td>\n",
       "      <td>0</td>\n",
       "      <td>53.1000</td>\n",
       "      <td>S</td>\n",
       "      <td>1</td>\n",
       "      <td>3.0</td>\n",
       "    </tr>\n",
       "    <tr>\n",
       "      <th>4</th>\n",
       "      <td>0</td>\n",
       "      <td>3</td>\n",
       "      <td>0</td>\n",
       "      <td>35.0</td>\n",
       "      <td>0</td>\n",
       "      <td>0</td>\n",
       "      <td>8.0500</td>\n",
       "      <td>S</td>\n",
       "      <td>0</td>\n",
       "      <td>1.0</td>\n",
       "    </tr>\n",
       "  </tbody>\n",
       "</table>\n",
       "</div>"
      ],
      "text/plain": [
       "   Survived  Pclass  Sex   Age  SibSp  Parch     Fare Embarked  relatives  \\\n",
       "0         0       3    0  22.0      1      0   7.2500        S          1   \n",
       "1         1       1    1  38.0      1      0  71.2833        C          1   \n",
       "2         1       3    1  26.0      0      0   7.9250        S          0   \n",
       "3         1       1    1  35.0      1      0  53.1000        S          1   \n",
       "4         0       3    0  35.0      0      0   8.0500        S          0   \n",
       "\n",
       "   Title  \n",
       "0    1.0  \n",
       "1    3.0  \n",
       "2    2.0  \n",
       "3    3.0  \n",
       "4    1.0  "
      ]
     },
     "execution_count": 32,
     "metadata": {},
     "output_type": "execute_result"
    }
   ],
   "source": [
    "data = [x_train, x_test]\n",
    "for dataset in data:\n",
    "    dataset['Sex'] = dataset['Sex'].map({'female': 1, 'male': 0}).astype(int)\n",
    "x_train.head()"
   ]
  },
  {
   "cell_type": "markdown",
   "metadata": {},
   "source": [
    "***Completing a numerical continuous feature***<br>\n",
    "Now we should start estimating and completing features with missing or null values. We will first do this for the Age feature. We can consider three methods to complete a numerical continuous feature.<br>\n",
    "\n",
    "1. A simple way is to generate random numbers between the mean and standard deviation.<br>\n",
    "\n",
    "2. A more accurate way of guessing missing values is to use other correlated features. In our case, we note a correlation among `Age`, `Sex`, and `Pclass`. Estimate `Age` values by comparing median age values across sets of `Pclass` and `Sex` feature combinations. So, the median age for `Pclass=1` and `Sex=0`, `Pclass=1`and `Gender=1`, and so on...<br>\n",
    "\n",
    "3. Combine methods 1 and 2. So instead of guessing age values based on median, use random numbers between mean and standard deviation, based on sets of `Pclass` and `Gender` combinations.<br>\n",
    "\n",
    "Method 1 and 3 will introduce random noise into our models. The results from multiple executions might vary. We will prefer method 2.<br>"
   ]
  },
  {
   "cell_type": "code",
   "execution_count": 33,
   "metadata": {},
   "outputs": [
    {
     "data": {
      "text/plain": [
       "<seaborn.axisgrid.FacetGrid at 0x2553b111198>"
      ]
     },
     "execution_count": 33,
     "metadata": {},
     "output_type": "execute_result"
    },
    {
     "data": {
      "image/png": "[encoded data removed]",
      "text/plain": [
       "<Figure size 514.88x475.2 with 6 Axes>"
      ]
     },
     "metadata": {
      "needs_background": "light"
     },
     "output_type": "display_data"
    }
   ],
   "source": [
    "# grid = sns.FacetGrid(x_train, col='Pclass', hue='Gender')\n",
    "grid = sns.FacetGrid(x_train, row='Pclass', col='Sex', size=2.2, aspect=1.6)\n",
    "grid.map(plt.hist, 'Age', alpha=.5, bins=20)\n",
    "grid.add_legend()"
   ]
  },
  {
   "cell_type": "markdown",
   "metadata": {},
   "source": [
    "Let us start by preparing an empty array to contain guessed `Age` values based on `Pclass` x `Sex` combinations."
   ]
  },
  {
   "cell_type": "code",
   "execution_count": 34,
   "metadata": {},
   "outputs": [],
   "source": [
    "guess_ages = np.zeros((2, 3))"
   ]
  },
  {
   "cell_type": "markdown",
   "metadata": {},
   "source": [
    "Now we iterate over Sex (0 or 1) and Pclass (1, 2, 3) to calculate guessed values of Age for the six combinations."
   ]
  },
  {
   "cell_type": "code",
   "execution_count": 35,
   "metadata": {},
   "outputs": [],
   "source": [
    "data = [x_train, x_test]\n",
    "for dataset in data:\n",
    "    for i in range(0, 2):\n",
    "        for j in range(0, 3):\n",
    "            guess_df = dataset[(dataset['Sex'] == i) & (\n",
    "                dataset['Pclass'] == j+1)]['Age'].dropna()\n",
    "\n",
    "            age_guess = guess_df.median()\n",
    "\n",
    "            # Convert random age float to nearest .5 age\n",
    "            # guess_ages[i,j] = int( age_guess/0.5 + 0.5 ) * 0.5\n",
    "            guess_ages[i, j] = age_guess\n",
    "\n",
    "    for i in range(0, 2):\n",
    "        for j in range(0, 3):\n",
    "            dataset.loc[(dataset.Age.isnull()) & (dataset.Sex == i) & (\n",
    "                dataset.Pclass == j+1), 'Age'] = guess_ages[i, j]\n",
    "\n",
    "    dataset['Age'] = dataset['Age'].astype(int)"
   ]
  },
  {
   "cell_type": "code",
   "execution_count": 36,
   "metadata": {},
   "outputs": [
    {
     "data": {
      "text/html": [
       "<div>\n",
       "<style scoped>\n",
       "    .dataframe tbody tr th:only-of-type {\n",
       "        vertical-align: middle;\n",
       "    }\n",
       "\n",
       "    .dataframe tbody tr th {\n",
       "        vertical-align: top;\n",
       "    }\n",
       "\n",
       "    .dataframe thead th {\n",
       "        text-align: right;\n",
       "    }\n",
       "</style>\n",
       "<table border=\"1\" class=\"dataframe\">\n",
       "  <thead>\n",
       "    <tr style=\"text-align: right;\">\n",
       "      <th></th>\n",
       "      <th>Survived</th>\n",
       "      <th>Pclass</th>\n",
       "      <th>Sex</th>\n",
       "      <th>Age</th>\n",
       "      <th>SibSp</th>\n",
       "      <th>Parch</th>\n",
       "      <th>Fare</th>\n",
       "      <th>Embarked</th>\n",
       "      <th>relatives</th>\n",
       "      <th>Title</th>\n",
       "    </tr>\n",
       "  </thead>\n",
       "  <tbody>\n",
       "    <tr>\n",
       "      <th>0</th>\n",
       "      <td>0</td>\n",
       "      <td>3</td>\n",
       "      <td>0</td>\n",
       "      <td>22</td>\n",
       "      <td>1</td>\n",
       "      <td>0</td>\n",
       "      <td>7.2500</td>\n",
       "      <td>S</td>\n",
       "      <td>1</td>\n",
       "      <td>1.0</td>\n",
       "    </tr>\n",
       "    <tr>\n",
       "      <th>1</th>\n",
       "      <td>1</td>\n",
       "      <td>1</td>\n",
       "      <td>1</td>\n",
       "      <td>38</td>\n",
       "      <td>1</td>\n",
       "      <td>0</td>\n",
       "      <td>71.2833</td>\n",
       "      <td>C</td>\n",
       "      <td>1</td>\n",
       "      <td>3.0</td>\n",
       "    </tr>\n",
       "    <tr>\n",
       "      <th>2</th>\n",
       "      <td>1</td>\n",
       "      <td>3</td>\n",
       "      <td>1</td>\n",
       "      <td>26</td>\n",
       "      <td>0</td>\n",
       "      <td>0</td>\n",
       "      <td>7.9250</td>\n",
       "      <td>S</td>\n",
       "      <td>0</td>\n",
       "      <td>2.0</td>\n",
       "    </tr>\n",
       "    <tr>\n",
       "      <th>3</th>\n",
       "      <td>1</td>\n",
       "      <td>1</td>\n",
       "      <td>1</td>\n",
       "      <td>35</td>\n",
       "      <td>1</td>\n",
       "      <td>0</td>\n",
       "      <td>53.1000</td>\n",
       "      <td>S</td>\n",
       "      <td>1</td>\n",
       "      <td>3.0</td>\n",
       "    </tr>\n",
       "    <tr>\n",
       "      <th>4</th>\n",
       "      <td>0</td>\n",
       "      <td>3</td>\n",
       "      <td>0</td>\n",
       "      <td>35</td>\n",
       "      <td>0</td>\n",
       "      <td>0</td>\n",
       "      <td>8.0500</td>\n",
       "      <td>S</td>\n",
       "      <td>0</td>\n",
       "      <td>1.0</td>\n",
       "    </tr>\n",
       "  </tbody>\n",
       "</table>\n",
       "</div>"
      ],
      "text/plain": [
       "   Survived  Pclass  Sex  Age  SibSp  Parch     Fare Embarked  relatives  \\\n",
       "0         0       3    0   22      1      0   7.2500        S          1   \n",
       "1         1       1    1   38      1      0  71.2833        C          1   \n",
       "2         1       3    1   26      0      0   7.9250        S          0   \n",
       "3         1       1    1   35      1      0  53.1000        S          1   \n",
       "4         0       3    0   35      0      0   8.0500        S          0   \n",
       "\n",
       "   Title  \n",
       "0    1.0  \n",
       "1    3.0  \n",
       "2    2.0  \n",
       "3    3.0  \n",
       "4    1.0  "
      ]
     },
     "execution_count": 36,
     "metadata": {},
     "output_type": "execute_result"
    }
   ],
   "source": [
    "x_train.head()"
   ]
  },
  {
   "cell_type": "code",
   "execution_count": 37,
   "metadata": {},
   "outputs": [
    {
     "data": {
      "text/plain": [
       "Survived     0\n",
       "Pclass       0\n",
       "Sex          0\n",
       "Age          0\n",
       "SibSp        0\n",
       "Parch        0\n",
       "Fare         0\n",
       "Embarked     2\n",
       "relatives    0\n",
       "Title        0\n",
       "dtype: int64"
      ]
     },
     "execution_count": 37,
     "metadata": {},
     "output_type": "execute_result"
    }
   ],
   "source": [
    "# Sanity check the null value in dataframe\n",
    "x_train.isnull().sum()"
   ]
  },
  {
   "cell_type": "markdown",
   "metadata": {},
   "source": [
    "Here we create age bands and see the correlation with survival."
   ]
  },
  {
   "cell_type": "code",
   "execution_count": 38,
   "metadata": {},
   "outputs": [
    {
     "data": {
      "text/html": [
       "<div>\n",
       "<style scoped>\n",
       "    .dataframe tbody tr th:only-of-type {\n",
       "        vertical-align: middle;\n",
       "    }\n",
       "\n",
       "    .dataframe tbody tr th {\n",
       "        vertical-align: top;\n",
       "    }\n",
       "\n",
       "    .dataframe thead th {\n",
       "        text-align: right;\n",
       "    }\n",
       "</style>\n",
       "<table border=\"1\" class=\"dataframe\">\n",
       "  <thead>\n",
       "    <tr style=\"text-align: right;\">\n",
       "      <th></th>\n",
       "      <th>AgeBand</th>\n",
       "      <th>Survived</th>\n",
       "    </tr>\n",
       "  </thead>\n",
       "  <tbody>\n",
       "    <tr>\n",
       "      <th>0</th>\n",
       "      <td>(-0.08, 16.0]</td>\n",
       "      <td>0.550000</td>\n",
       "    </tr>\n",
       "    <tr>\n",
       "      <th>1</th>\n",
       "      <td>(16.0, 32.0]</td>\n",
       "      <td>0.337374</td>\n",
       "    </tr>\n",
       "    <tr>\n",
       "      <th>2</th>\n",
       "      <td>(32.0, 48.0]</td>\n",
       "      <td>0.412037</td>\n",
       "    </tr>\n",
       "    <tr>\n",
       "      <th>3</th>\n",
       "      <td>(48.0, 64.0]</td>\n",
       "      <td>0.434783</td>\n",
       "    </tr>\n",
       "    <tr>\n",
       "      <th>4</th>\n",
       "      <td>(64.0, 80.0]</td>\n",
       "      <td>0.090909</td>\n",
       "    </tr>\n",
       "  </tbody>\n",
       "</table>\n",
       "</div>"
      ],
      "text/plain": [
       "         AgeBand  Survived\n",
       "0  (-0.08, 16.0]  0.550000\n",
       "1   (16.0, 32.0]  0.337374\n",
       "2   (32.0, 48.0]  0.412037\n",
       "3   (48.0, 64.0]  0.434783\n",
       "4   (64.0, 80.0]  0.090909"
      ]
     },
     "execution_count": 38,
     "metadata": {},
     "output_type": "execute_result"
    }
   ],
   "source": [
    "x_train['AgeBand'] = pd.cut(x_train['Age'], 5)\n",
    "x_train[['AgeBand', 'Survived']].groupby(\n",
    "    ['AgeBand'], as_index=False).mean().sort_values(by='AgeBand', ascending=True)"
   ]
  },
  {
   "cell_type": "markdown",
   "metadata": {},
   "source": [
    "From the age band, we observe that it is possible to use this instead of just age, so we create an ordinal based on the band and drop the `Age`. This is done to reduce the complexity of the data and get better accuracy. "
   ]
  },
  {
   "cell_type": "code",
   "execution_count": 39,
   "metadata": {},
   "outputs": [],
   "source": [
    "data = [x_train, x_test]\n",
    "for dataset in data:\n",
    "    dataset.loc[dataset['Age'] <= 16, 'Age'] = 0\n",
    "    dataset.loc[(dataset['Age'] > 16) & (dataset['Age'] <= 32), 'Age'] = 1\n",
    "    dataset.loc[(dataset['Age'] > 32) & (dataset['Age'] <= 48), 'Age'] = 2\n",
    "    dataset.loc[(dataset['Age'] > 48) & (dataset['Age'] <= 64), 'Age'] = 3\n",
    "    dataset.loc[dataset['Age'] > 64, 'Age']\n",
    "x_train = x_train.drop(['AgeBand'], axis=1)"
   ]
  },
  {
   "cell_type": "markdown",
   "metadata": {},
   "source": [
    "You may notice that your age is categorise base on the `AgeBand`"
   ]
  },
  {
   "cell_type": "code",
   "execution_count": 40,
   "metadata": {},
   "outputs": [
    {
     "data": {
      "text/html": [
       "<div>\n",
       "<style scoped>\n",
       "    .dataframe tbody tr th:only-of-type {\n",
       "        vertical-align: middle;\n",
       "    }\n",
       "\n",
       "    .dataframe tbody tr th {\n",
       "        vertical-align: top;\n",
       "    }\n",
       "\n",
       "    .dataframe thead th {\n",
       "        text-align: right;\n",
       "    }\n",
       "</style>\n",
       "<table border=\"1\" class=\"dataframe\">\n",
       "  <thead>\n",
       "    <tr style=\"text-align: right;\">\n",
       "      <th></th>\n",
       "      <th>Survived</th>\n",
       "      <th>Pclass</th>\n",
       "      <th>Sex</th>\n",
       "      <th>Age</th>\n",
       "      <th>SibSp</th>\n",
       "      <th>Parch</th>\n",
       "      <th>Fare</th>\n",
       "      <th>Embarked</th>\n",
       "      <th>relatives</th>\n",
       "      <th>Title</th>\n",
       "    </tr>\n",
       "  </thead>\n",
       "  <tbody>\n",
       "    <tr>\n",
       "      <th>0</th>\n",
       "      <td>0</td>\n",
       "      <td>3</td>\n",
       "      <td>0</td>\n",
       "      <td>1</td>\n",
       "      <td>1</td>\n",
       "      <td>0</td>\n",
       "      <td>7.2500</td>\n",
       "      <td>S</td>\n",
       "      <td>1</td>\n",
       "      <td>1.0</td>\n",
       "    </tr>\n",
       "    <tr>\n",
       "      <th>1</th>\n",
       "      <td>1</td>\n",
       "      <td>1</td>\n",
       "      <td>1</td>\n",
       "      <td>2</td>\n",
       "      <td>1</td>\n",
       "      <td>0</td>\n",
       "      <td>71.2833</td>\n",
       "      <td>C</td>\n",
       "      <td>1</td>\n",
       "      <td>3.0</td>\n",
       "    </tr>\n",
       "    <tr>\n",
       "      <th>2</th>\n",
       "      <td>1</td>\n",
       "      <td>3</td>\n",
       "      <td>1</td>\n",
       "      <td>1</td>\n",
       "      <td>0</td>\n",
       "      <td>0</td>\n",
       "      <td>7.9250</td>\n",
       "      <td>S</td>\n",
       "      <td>0</td>\n",
       "      <td>2.0</td>\n",
       "    </tr>\n",
       "    <tr>\n",
       "      <th>3</th>\n",
       "      <td>1</td>\n",
       "      <td>1</td>\n",
       "      <td>1</td>\n",
       "      <td>2</td>\n",
       "      <td>1</td>\n",
       "      <td>0</td>\n",
       "      <td>53.1000</td>\n",
       "      <td>S</td>\n",
       "      <td>1</td>\n",
       "      <td>3.0</td>\n",
       "    </tr>\n",
       "    <tr>\n",
       "      <th>4</th>\n",
       "      <td>0</td>\n",
       "      <td>3</td>\n",
       "      <td>0</td>\n",
       "      <td>2</td>\n",
       "      <td>0</td>\n",
       "      <td>0</td>\n",
       "      <td>8.0500</td>\n",
       "      <td>S</td>\n",
       "      <td>0</td>\n",
       "      <td>1.0</td>\n",
       "    </tr>\n",
       "  </tbody>\n",
       "</table>\n",
       "</div>"
      ],
      "text/plain": [
       "   Survived  Pclass  Sex  Age  SibSp  Parch     Fare Embarked  relatives  \\\n",
       "0         0       3    0    1      1      0   7.2500        S          1   \n",
       "1         1       1    1    2      1      0  71.2833        C          1   \n",
       "2         1       3    1    1      0      0   7.9250        S          0   \n",
       "3         1       1    1    2      1      0  53.1000        S          1   \n",
       "4         0       3    0    2      0      0   8.0500        S          0   \n",
       "\n",
       "   Title  \n",
       "0    1.0  \n",
       "1    3.0  \n",
       "2    2.0  \n",
       "3    3.0  \n",
       "4    1.0  "
      ]
     },
     "execution_count": 40,
     "metadata": {},
     "output_type": "execute_result"
    }
   ],
   "source": [
    "x_train.head()"
   ]
  },
  {
   "cell_type": "markdown",
   "metadata": {},
   "source": [
    "We use the same method as before for fare, where we create a `FareBand` and drop the `Fare`. As we can notice from the sanity check of the `None` value, the fare only has 1 missing value in the test data. Hence, we will fill in the `None` value."
   ]
  },
  {
   "cell_type": "code",
   "execution_count": 41,
   "metadata": {},
   "outputs": [
    {
     "data": {
      "text/plain": [
       "Survived     0\n",
       "Pclass       0\n",
       "Sex          0\n",
       "Age          0\n",
       "SibSp        0\n",
       "Parch        0\n",
       "Fare         0\n",
       "Embarked     2\n",
       "relatives    0\n",
       "Title        0\n",
       "dtype: int64"
      ]
     },
     "execution_count": 41,
     "metadata": {},
     "output_type": "execute_result"
    }
   ],
   "source": [
    "x_train.isnull().sum()"
   ]
  },
  {
   "cell_type": "code",
   "execution_count": 42,
   "metadata": {},
   "outputs": [
    {
     "data": {
      "text/plain": [
       "Pclass       0\n",
       "Sex          0\n",
       "Age          0\n",
       "SibSp        0\n",
       "Parch        0\n",
       "Fare         1\n",
       "Embarked     0\n",
       "relatives    0\n",
       "Title        0\n",
       "dtype: int64"
      ]
     },
     "execution_count": 42,
     "metadata": {},
     "output_type": "execute_result"
    }
   ],
   "source": [
    "x_test.isnull().sum()"
   ]
  },
  {
   "cell_type": "code",
   "execution_count": 43,
   "metadata": {},
   "outputs": [
    {
     "data": {
      "text/html": [
       "<div>\n",
       "<style scoped>\n",
       "    .dataframe tbody tr th:only-of-type {\n",
       "        vertical-align: middle;\n",
       "    }\n",
       "\n",
       "    .dataframe tbody tr th {\n",
       "        vertical-align: top;\n",
       "    }\n",
       "\n",
       "    .dataframe thead th {\n",
       "        text-align: right;\n",
       "    }\n",
       "</style>\n",
       "<table border=\"1\" class=\"dataframe\">\n",
       "  <thead>\n",
       "    <tr style=\"text-align: right;\">\n",
       "      <th></th>\n",
       "      <th>FareBand</th>\n",
       "      <th>Survived</th>\n",
       "    </tr>\n",
       "  </thead>\n",
       "  <tbody>\n",
       "    <tr>\n",
       "      <th>0</th>\n",
       "      <td>(-0.001, 7.91]</td>\n",
       "      <td>0.197309</td>\n",
       "    </tr>\n",
       "    <tr>\n",
       "      <th>1</th>\n",
       "      <td>(7.91, 14.454]</td>\n",
       "      <td>0.303571</td>\n",
       "    </tr>\n",
       "    <tr>\n",
       "      <th>2</th>\n",
       "      <td>(14.454, 31.0]</td>\n",
       "      <td>0.454955</td>\n",
       "    </tr>\n",
       "    <tr>\n",
       "      <th>3</th>\n",
       "      <td>(31.0, 512.329]</td>\n",
       "      <td>0.581081</td>\n",
       "    </tr>\n",
       "  </tbody>\n",
       "</table>\n",
       "</div>"
      ],
      "text/plain": [
       "          FareBand  Survived\n",
       "0   (-0.001, 7.91]  0.197309\n",
       "1   (7.91, 14.454]  0.303571\n",
       "2   (14.454, 31.0]  0.454955\n",
       "3  (31.0, 512.329]  0.581081"
      ]
     },
     "execution_count": 43,
     "metadata": {},
     "output_type": "execute_result"
    }
   ],
   "source": [
    "x_test['Fare'].fillna(x_train['Fare'].dropna().median(), inplace=True)\n",
    "x_train['FareBand'] = pd.qcut(x_train['Fare'], 4)\n",
    "x_train[['FareBand', 'Survived']].groupby(\n",
    "    ['FareBand'], as_index=False).mean().sort_values(by='FareBand', ascending=True)"
   ]
  },
  {
   "cell_type": "code",
   "execution_count": 44,
   "metadata": {},
   "outputs": [],
   "source": [
    "data = [x_train, x_test]\n",
    "for dataset in data:\n",
    "    dataset.loc[dataset['Fare'] <= 7.91, 'Fare'] = 0\n",
    "    dataset.loc[(dataset['Fare'] > 7.91) & (\n",
    "        dataset['Fare'] <= 14.454), 'Fare'] = 1\n",
    "    dataset.loc[(dataset['Fare'] > 14.454) & (\n",
    "        dataset['Fare'] <= 31), 'Fare'] = 2\n",
    "    dataset.loc[dataset['Fare'] > 31, 'Fare'] = 3\n",
    "    dataset['Fare'] = dataset['Fare']\n",
    "x_train = x_train.drop(['FareBand'], axis=1)"
   ]
  },
  {
   "cell_type": "code",
   "execution_count": 45,
   "metadata": {},
   "outputs": [
    {
     "data": {
      "text/html": [
       "<div>\n",
       "<style scoped>\n",
       "    .dataframe tbody tr th:only-of-type {\n",
       "        vertical-align: middle;\n",
       "    }\n",
       "\n",
       "    .dataframe tbody tr th {\n",
       "        vertical-align: top;\n",
       "    }\n",
       "\n",
       "    .dataframe thead th {\n",
       "        text-align: right;\n",
       "    }\n",
       "</style>\n",
       "<table border=\"1\" class=\"dataframe\">\n",
       "  <thead>\n",
       "    <tr style=\"text-align: right;\">\n",
       "      <th></th>\n",
       "      <th>Survived</th>\n",
       "      <th>Pclass</th>\n",
       "      <th>Sex</th>\n",
       "      <th>Age</th>\n",
       "      <th>SibSp</th>\n",
       "      <th>Parch</th>\n",
       "      <th>Fare</th>\n",
       "      <th>Embarked</th>\n",
       "      <th>relatives</th>\n",
       "      <th>Title</th>\n",
       "    </tr>\n",
       "  </thead>\n",
       "  <tbody>\n",
       "    <tr>\n",
       "      <th>0</th>\n",
       "      <td>0</td>\n",
       "      <td>3</td>\n",
       "      <td>0</td>\n",
       "      <td>1</td>\n",
       "      <td>1</td>\n",
       "      <td>0</td>\n",
       "      <td>0.0</td>\n",
       "      <td>S</td>\n",
       "      <td>1</td>\n",
       "      <td>1.0</td>\n",
       "    </tr>\n",
       "    <tr>\n",
       "      <th>1</th>\n",
       "      <td>1</td>\n",
       "      <td>1</td>\n",
       "      <td>1</td>\n",
       "      <td>2</td>\n",
       "      <td>1</td>\n",
       "      <td>0</td>\n",
       "      <td>3.0</td>\n",
       "      <td>C</td>\n",
       "      <td>1</td>\n",
       "      <td>3.0</td>\n",
       "    </tr>\n",
       "    <tr>\n",
       "      <th>2</th>\n",
       "      <td>1</td>\n",
       "      <td>3</td>\n",
       "      <td>1</td>\n",
       "      <td>1</td>\n",
       "      <td>0</td>\n",
       "      <td>0</td>\n",
       "      <td>1.0</td>\n",
       "      <td>S</td>\n",
       "      <td>0</td>\n",
       "      <td>2.0</td>\n",
       "    </tr>\n",
       "    <tr>\n",
       "      <th>3</th>\n",
       "      <td>1</td>\n",
       "      <td>1</td>\n",
       "      <td>1</td>\n",
       "      <td>2</td>\n",
       "      <td>1</td>\n",
       "      <td>0</td>\n",
       "      <td>3.0</td>\n",
       "      <td>S</td>\n",
       "      <td>1</td>\n",
       "      <td>3.0</td>\n",
       "    </tr>\n",
       "    <tr>\n",
       "      <th>4</th>\n",
       "      <td>0</td>\n",
       "      <td>3</td>\n",
       "      <td>0</td>\n",
       "      <td>2</td>\n",
       "      <td>0</td>\n",
       "      <td>0</td>\n",
       "      <td>1.0</td>\n",
       "      <td>S</td>\n",
       "      <td>0</td>\n",
       "      <td>1.0</td>\n",
       "    </tr>\n",
       "    <tr>\n",
       "      <th>5</th>\n",
       "      <td>0</td>\n",
       "      <td>3</td>\n",
       "      <td>0</td>\n",
       "      <td>1</td>\n",
       "      <td>0</td>\n",
       "      <td>0</td>\n",
       "      <td>1.0</td>\n",
       "      <td>Q</td>\n",
       "      <td>0</td>\n",
       "      <td>1.0</td>\n",
       "    </tr>\n",
       "    <tr>\n",
       "      <th>6</th>\n",
       "      <td>0</td>\n",
       "      <td>1</td>\n",
       "      <td>0</td>\n",
       "      <td>3</td>\n",
       "      <td>0</td>\n",
       "      <td>0</td>\n",
       "      <td>3.0</td>\n",
       "      <td>S</td>\n",
       "      <td>0</td>\n",
       "      <td>1.0</td>\n",
       "    </tr>\n",
       "    <tr>\n",
       "      <th>7</th>\n",
       "      <td>0</td>\n",
       "      <td>3</td>\n",
       "      <td>0</td>\n",
       "      <td>0</td>\n",
       "      <td>3</td>\n",
       "      <td>1</td>\n",
       "      <td>2.0</td>\n",
       "      <td>S</td>\n",
       "      <td>4</td>\n",
       "      <td>4.0</td>\n",
       "    </tr>\n",
       "    <tr>\n",
       "      <th>8</th>\n",
       "      <td>1</td>\n",
       "      <td>3</td>\n",
       "      <td>1</td>\n",
       "      <td>1</td>\n",
       "      <td>0</td>\n",
       "      <td>2</td>\n",
       "      <td>1.0</td>\n",
       "      <td>S</td>\n",
       "      <td>2</td>\n",
       "      <td>3.0</td>\n",
       "    </tr>\n",
       "    <tr>\n",
       "      <th>9</th>\n",
       "      <td>1</td>\n",
       "      <td>2</td>\n",
       "      <td>1</td>\n",
       "      <td>0</td>\n",
       "      <td>1</td>\n",
       "      <td>0</td>\n",
       "      <td>2.0</td>\n",
       "      <td>C</td>\n",
       "      <td>1</td>\n",
       "      <td>3.0</td>\n",
       "    </tr>\n",
       "  </tbody>\n",
       "</table>\n",
       "</div>"
      ],
      "text/plain": [
       "   Survived  Pclass  Sex  Age  SibSp  Parch  Fare Embarked  relatives  Title\n",
       "0         0       3    0    1      1      0   0.0        S          1    1.0\n",
       "1         1       1    1    2      1      0   3.0        C          1    3.0\n",
       "2         1       3    1    1      0      0   1.0        S          0    2.0\n",
       "3         1       1    1    2      1      0   3.0        S          1    3.0\n",
       "4         0       3    0    2      0      0   1.0        S          0    1.0\n",
       "5         0       3    0    1      0      0   1.0        Q          0    1.0\n",
       "6         0       1    0    3      0      0   3.0        S          0    1.0\n",
       "7         0       3    0    0      3      1   2.0        S          4    4.0\n",
       "8         1       3    1    1      0      2   1.0        S          2    3.0\n",
       "9         1       2    1    0      1      0   2.0        C          1    3.0"
      ]
     },
     "execution_count": 45,
     "metadata": {},
     "output_type": "execute_result"
    }
   ],
   "source": [
    "x_train.head(10)"
   ]
  },
  {
   "cell_type": "code",
   "execution_count": 46,
   "metadata": {},
   "outputs": [
    {
     "data": {
      "text/html": [
       "<div>\n",
       "<style scoped>\n",
       "    .dataframe tbody tr th:only-of-type {\n",
       "        vertical-align: middle;\n",
       "    }\n",
       "\n",
       "    .dataframe tbody tr th {\n",
       "        vertical-align: top;\n",
       "    }\n",
       "\n",
       "    .dataframe thead th {\n",
       "        text-align: right;\n",
       "    }\n",
       "</style>\n",
       "<table border=\"1\" class=\"dataframe\">\n",
       "  <thead>\n",
       "    <tr style=\"text-align: right;\">\n",
       "      <th></th>\n",
       "      <th>Pclass</th>\n",
       "      <th>Sex</th>\n",
       "      <th>Age</th>\n",
       "      <th>SibSp</th>\n",
       "      <th>Parch</th>\n",
       "      <th>Fare</th>\n",
       "      <th>Embarked</th>\n",
       "      <th>relatives</th>\n",
       "      <th>Title</th>\n",
       "    </tr>\n",
       "  </thead>\n",
       "  <tbody>\n",
       "    <tr>\n",
       "      <th>0</th>\n",
       "      <td>3</td>\n",
       "      <td>0</td>\n",
       "      <td>2</td>\n",
       "      <td>0</td>\n",
       "      <td>0</td>\n",
       "      <td>0.0</td>\n",
       "      <td>Q</td>\n",
       "      <td>0</td>\n",
       "      <td>1.0</td>\n",
       "    </tr>\n",
       "    <tr>\n",
       "      <th>1</th>\n",
       "      <td>3</td>\n",
       "      <td>1</td>\n",
       "      <td>2</td>\n",
       "      <td>1</td>\n",
       "      <td>0</td>\n",
       "      <td>0.0</td>\n",
       "      <td>S</td>\n",
       "      <td>1</td>\n",
       "      <td>3.0</td>\n",
       "    </tr>\n",
       "    <tr>\n",
       "      <th>2</th>\n",
       "      <td>2</td>\n",
       "      <td>0</td>\n",
       "      <td>3</td>\n",
       "      <td>0</td>\n",
       "      <td>0</td>\n",
       "      <td>1.0</td>\n",
       "      <td>Q</td>\n",
       "      <td>0</td>\n",
       "      <td>1.0</td>\n",
       "    </tr>\n",
       "    <tr>\n",
       "      <th>3</th>\n",
       "      <td>3</td>\n",
       "      <td>0</td>\n",
       "      <td>1</td>\n",
       "      <td>0</td>\n",
       "      <td>0</td>\n",
       "      <td>1.0</td>\n",
       "      <td>S</td>\n",
       "      <td>0</td>\n",
       "      <td>1.0</td>\n",
       "    </tr>\n",
       "    <tr>\n",
       "      <th>4</th>\n",
       "      <td>3</td>\n",
       "      <td>1</td>\n",
       "      <td>1</td>\n",
       "      <td>1</td>\n",
       "      <td>1</td>\n",
       "      <td>1.0</td>\n",
       "      <td>S</td>\n",
       "      <td>2</td>\n",
       "      <td>3.0</td>\n",
       "    </tr>\n",
       "    <tr>\n",
       "      <th>5</th>\n",
       "      <td>3</td>\n",
       "      <td>0</td>\n",
       "      <td>0</td>\n",
       "      <td>0</td>\n",
       "      <td>0</td>\n",
       "      <td>1.0</td>\n",
       "      <td>S</td>\n",
       "      <td>0</td>\n",
       "      <td>1.0</td>\n",
       "    </tr>\n",
       "    <tr>\n",
       "      <th>6</th>\n",
       "      <td>3</td>\n",
       "      <td>1</td>\n",
       "      <td>1</td>\n",
       "      <td>0</td>\n",
       "      <td>0</td>\n",
       "      <td>0.0</td>\n",
       "      <td>Q</td>\n",
       "      <td>0</td>\n",
       "      <td>2.0</td>\n",
       "    </tr>\n",
       "    <tr>\n",
       "      <th>7</th>\n",
       "      <td>2</td>\n",
       "      <td>0</td>\n",
       "      <td>1</td>\n",
       "      <td>1</td>\n",
       "      <td>1</td>\n",
       "      <td>2.0</td>\n",
       "      <td>S</td>\n",
       "      <td>2</td>\n",
       "      <td>1.0</td>\n",
       "    </tr>\n",
       "    <tr>\n",
       "      <th>8</th>\n",
       "      <td>3</td>\n",
       "      <td>1</td>\n",
       "      <td>1</td>\n",
       "      <td>0</td>\n",
       "      <td>0</td>\n",
       "      <td>0.0</td>\n",
       "      <td>C</td>\n",
       "      <td>0</td>\n",
       "      <td>3.0</td>\n",
       "    </tr>\n",
       "    <tr>\n",
       "      <th>9</th>\n",
       "      <td>3</td>\n",
       "      <td>0</td>\n",
       "      <td>1</td>\n",
       "      <td>2</td>\n",
       "      <td>0</td>\n",
       "      <td>2.0</td>\n",
       "      <td>S</td>\n",
       "      <td>2</td>\n",
       "      <td>1.0</td>\n",
       "    </tr>\n",
       "  </tbody>\n",
       "</table>\n",
       "</div>"
      ],
      "text/plain": [
       "   Pclass  Sex  Age  SibSp  Parch  Fare Embarked  relatives  Title\n",
       "0       3    0    2      0      0   0.0        Q          0    1.0\n",
       "1       3    1    2      1      0   0.0        S          1    3.0\n",
       "2       2    0    3      0      0   1.0        Q          0    1.0\n",
       "3       3    0    1      0      0   1.0        S          0    1.0\n",
       "4       3    1    1      1      1   1.0        S          2    3.0\n",
       "5       3    0    0      0      0   1.0        S          0    1.0\n",
       "6       3    1    1      0      0   0.0        Q          0    2.0\n",
       "7       2    0    1      1      1   2.0        S          2    1.0\n",
       "8       3    1    1      0      0   0.0        C          0    3.0\n",
       "9       3    0    1      2      0   2.0        S          2    1.0"
      ]
     },
     "execution_count": 46,
     "metadata": {},
     "output_type": "execute_result"
    }
   ],
   "source": [
    "x_test.head(10)"
   ]
  },
  {
   "cell_type": "markdown",
   "metadata": {},
   "source": [
    "***Create a new feature by combining existing features***<br>\n",
    "This step is included in the analysis part already.\n",
    "Then we will drop some redundent data such as `SibSp` and `Parch`, which we have already merged as relatives."
   ]
  },
  {
   "cell_type": "code",
   "execution_count": 47,
   "metadata": {},
   "outputs": [],
   "source": [
    "x_train = x_train.drop(['SibSp', 'Parch'], axis=1)\n",
    "x_test = x_test.drop(['SibSp', 'Parch'], axis=1)"
   ]
  },
  {
   "cell_type": "markdown",
   "metadata": {},
   "source": [
    "***Completing and converting numerical features from categorical features***<br>\n",
    "We impute the `Embarked` feature by using mode and converting it to one-hot encoding."
   ]
  },
  {
   "cell_type": "code",
   "execution_count": 48,
   "metadata": {},
   "outputs": [
    {
     "data": {
      "text/html": [
       "<div>\n",
       "<style scoped>\n",
       "    .dataframe tbody tr th:only-of-type {\n",
       "        vertical-align: middle;\n",
       "    }\n",
       "\n",
       "    .dataframe tbody tr th {\n",
       "        vertical-align: top;\n",
       "    }\n",
       "\n",
       "    .dataframe thead th {\n",
       "        text-align: right;\n",
       "    }\n",
       "</style>\n",
       "<table border=\"1\" class=\"dataframe\">\n",
       "  <thead>\n",
       "    <tr style=\"text-align: right;\">\n",
       "      <th></th>\n",
       "      <th>Survived</th>\n",
       "      <th>Pclass</th>\n",
       "      <th>Sex</th>\n",
       "      <th>Age</th>\n",
       "      <th>Fare</th>\n",
       "      <th>Embarked</th>\n",
       "      <th>relatives</th>\n",
       "      <th>Title</th>\n",
       "    </tr>\n",
       "  </thead>\n",
       "  <tbody>\n",
       "    <tr>\n",
       "      <th>0</th>\n",
       "      <td>0</td>\n",
       "      <td>3</td>\n",
       "      <td>0</td>\n",
       "      <td>1</td>\n",
       "      <td>0.0</td>\n",
       "      <td>S</td>\n",
       "      <td>1</td>\n",
       "      <td>1.0</td>\n",
       "    </tr>\n",
       "    <tr>\n",
       "      <th>1</th>\n",
       "      <td>1</td>\n",
       "      <td>1</td>\n",
       "      <td>1</td>\n",
       "      <td>2</td>\n",
       "      <td>3.0</td>\n",
       "      <td>C</td>\n",
       "      <td>1</td>\n",
       "      <td>3.0</td>\n",
       "    </tr>\n",
       "    <tr>\n",
       "      <th>2</th>\n",
       "      <td>1</td>\n",
       "      <td>3</td>\n",
       "      <td>1</td>\n",
       "      <td>1</td>\n",
       "      <td>1.0</td>\n",
       "      <td>S</td>\n",
       "      <td>0</td>\n",
       "      <td>2.0</td>\n",
       "    </tr>\n",
       "    <tr>\n",
       "      <th>3</th>\n",
       "      <td>1</td>\n",
       "      <td>1</td>\n",
       "      <td>1</td>\n",
       "      <td>2</td>\n",
       "      <td>3.0</td>\n",
       "      <td>S</td>\n",
       "      <td>1</td>\n",
       "      <td>3.0</td>\n",
       "    </tr>\n",
       "    <tr>\n",
       "      <th>4</th>\n",
       "      <td>0</td>\n",
       "      <td>3</td>\n",
       "      <td>0</td>\n",
       "      <td>2</td>\n",
       "      <td>1.0</td>\n",
       "      <td>S</td>\n",
       "      <td>0</td>\n",
       "      <td>1.0</td>\n",
       "    </tr>\n",
       "  </tbody>\n",
       "</table>\n",
       "</div>"
      ],
      "text/plain": [
       "   Survived  Pclass  Sex  Age  Fare Embarked  relatives  Title\n",
       "0         0       3    0    1   0.0        S          1    1.0\n",
       "1         1       1    1    2   3.0        C          1    3.0\n",
       "2         1       3    1    1   1.0        S          0    2.0\n",
       "3         1       1    1    2   3.0        S          1    3.0\n",
       "4         0       3    0    2   1.0        S          0    1.0"
      ]
     },
     "execution_count": 48,
     "metadata": {},
     "output_type": "execute_result"
    }
   ],
   "source": [
    "x_train.head()"
   ]
  },
  {
   "cell_type": "markdown",
   "metadata": {},
   "source": [
    "Next, we will handle the missing data in Embarked by inserting the highest frequency value"
   ]
  },
  {
   "cell_type": "code",
   "execution_count": 49,
   "metadata": {},
   "outputs": [
    {
     "data": {
      "text/plain": [
       "count     889\n",
       "unique      3\n",
       "top         S\n",
       "freq      644\n",
       "Name: Embarked, dtype: object"
      ]
     },
     "execution_count": 49,
     "metadata": {},
     "output_type": "execute_result"
    }
   ],
   "source": [
    "x_train['Embarked'].describe()"
   ]
  },
  {
   "cell_type": "markdown",
   "metadata": {},
   "source": [
    "Here we know that the highest frequency value is `S`. So we will substitute the null value with `S`"
   ]
  },
  {
   "cell_type": "code",
   "execution_count": 50,
   "metadata": {},
   "outputs": [
    {
     "data": {
      "text/html": [
       "<div>\n",
       "<style scoped>\n",
       "    .dataframe tbody tr th:only-of-type {\n",
       "        vertical-align: middle;\n",
       "    }\n",
       "\n",
       "    .dataframe tbody tr th {\n",
       "        vertical-align: top;\n",
       "    }\n",
       "\n",
       "    .dataframe thead th {\n",
       "        text-align: right;\n",
       "    }\n",
       "</style>\n",
       "<table border=\"1\" class=\"dataframe\">\n",
       "  <thead>\n",
       "    <tr style=\"text-align: right;\">\n",
       "      <th></th>\n",
       "      <th>Survived</th>\n",
       "      <th>Pclass</th>\n",
       "      <th>Sex</th>\n",
       "      <th>Age</th>\n",
       "      <th>Fare</th>\n",
       "      <th>relatives</th>\n",
       "      <th>Title</th>\n",
       "      <th>Embarked_C</th>\n",
       "      <th>Embarked_Q</th>\n",
       "      <th>Embarked_S</th>\n",
       "    </tr>\n",
       "  </thead>\n",
       "  <tbody>\n",
       "    <tr>\n",
       "      <th>0</th>\n",
       "      <td>0</td>\n",
       "      <td>3</td>\n",
       "      <td>0</td>\n",
       "      <td>1</td>\n",
       "      <td>0.0</td>\n",
       "      <td>1</td>\n",
       "      <td>1.0</td>\n",
       "      <td>0</td>\n",
       "      <td>0</td>\n",
       "      <td>1</td>\n",
       "    </tr>\n",
       "    <tr>\n",
       "      <th>1</th>\n",
       "      <td>1</td>\n",
       "      <td>1</td>\n",
       "      <td>1</td>\n",
       "      <td>2</td>\n",
       "      <td>3.0</td>\n",
       "      <td>1</td>\n",
       "      <td>3.0</td>\n",
       "      <td>1</td>\n",
       "      <td>0</td>\n",
       "      <td>0</td>\n",
       "    </tr>\n",
       "    <tr>\n",
       "      <th>2</th>\n",
       "      <td>1</td>\n",
       "      <td>3</td>\n",
       "      <td>1</td>\n",
       "      <td>1</td>\n",
       "      <td>1.0</td>\n",
       "      <td>0</td>\n",
       "      <td>2.0</td>\n",
       "      <td>0</td>\n",
       "      <td>0</td>\n",
       "      <td>1</td>\n",
       "    </tr>\n",
       "    <tr>\n",
       "      <th>3</th>\n",
       "      <td>1</td>\n",
       "      <td>1</td>\n",
       "      <td>1</td>\n",
       "      <td>2</td>\n",
       "      <td>3.0</td>\n",
       "      <td>1</td>\n",
       "      <td>3.0</td>\n",
       "      <td>0</td>\n",
       "      <td>0</td>\n",
       "      <td>1</td>\n",
       "    </tr>\n",
       "    <tr>\n",
       "      <th>4</th>\n",
       "      <td>0</td>\n",
       "      <td>3</td>\n",
       "      <td>0</td>\n",
       "      <td>2</td>\n",
       "      <td>1.0</td>\n",
       "      <td>0</td>\n",
       "      <td>1.0</td>\n",
       "      <td>0</td>\n",
       "      <td>0</td>\n",
       "      <td>1</td>\n",
       "    </tr>\n",
       "  </tbody>\n",
       "</table>\n",
       "</div>"
      ],
      "text/plain": [
       "   Survived  Pclass  Sex  Age  Fare  relatives  Title  Embarked_C  Embarked_Q  \\\n",
       "0         0       3    0    1   0.0          1    1.0           0           0   \n",
       "1         1       1    1    2   3.0          1    3.0           1           0   \n",
       "2         1       3    1    1   1.0          0    2.0           0           0   \n",
       "3         1       1    1    2   3.0          1    3.0           0           0   \n",
       "4         0       3    0    2   1.0          0    1.0           0           0   \n",
       "\n",
       "   Embarked_S  \n",
       "0           1  \n",
       "1           0  \n",
       "2           1  \n",
       "3           1  \n",
       "4           1  "
      ]
     },
     "execution_count": 50,
     "metadata": {},
     "output_type": "execute_result"
    }
   ],
   "source": [
    "data = [x_train, x_test]\n",
    "common_value = 'S'\n",
    "for dataset in data:\n",
    "    dataset['Embarked'] = dataset['Embarked'].fillna(common_value)\n",
    "\n",
    "x_train = pd.get_dummies(x_train, columns=['Embarked'])\n",
    "x_test = pd.get_dummies(x_test, columns=['Embarked'])\n",
    "x_train.head()"
   ]
  },
  {
   "cell_type": "markdown",
   "metadata": {},
   "source": [
    "Before we continue, we perform sanity and make sure no null value in our data frame."
   ]
  },
  {
   "cell_type": "code",
   "execution_count": 51,
   "metadata": {},
   "outputs": [
    {
     "data": {
      "text/plain": [
       "Survived      0\n",
       "Pclass        0\n",
       "Sex           0\n",
       "Age           0\n",
       "Fare          0\n",
       "relatives     0\n",
       "Title         0\n",
       "Embarked_C    0\n",
       "Embarked_Q    0\n",
       "Embarked_S    0\n",
       "dtype: int64"
      ]
     },
     "execution_count": 51,
     "metadata": {},
     "output_type": "execute_result"
    }
   ],
   "source": [
    "x_train.isnull().sum()"
   ]
  },
  {
   "cell_type": "code",
   "execution_count": 52,
   "metadata": {},
   "outputs": [
    {
     "data": {
      "text/plain": [
       "Pclass        0\n",
       "Sex           0\n",
       "Age           0\n",
       "Fare          0\n",
       "relatives     0\n",
       "Title         0\n",
       "Embarked_C    0\n",
       "Embarked_Q    0\n",
       "Embarked_S    0\n",
       "dtype: int64"
      ]
     },
     "execution_count": 52,
     "metadata": {},
     "output_type": "execute_result"
    }
   ],
   "source": [
    "x_test.isnull().sum()"
   ]
  },
  {
   "cell_type": "code",
   "execution_count": 53,
   "metadata": {},
   "outputs": [],
   "source": [
    "y_train = x_train['Survived']\n",
    "y_test = pd.read_csv('../data/titanic_test_result.csv')\n",
    "y_test = y_test['Survived']"
   ]
  },
  {
   "cell_type": "code",
   "execution_count": 54,
   "metadata": {},
   "outputs": [],
   "source": [
    "x_train = x_train.drop(['Survived'], axis=1)"
   ]
  },
  {
   "cell_type": "markdown",
   "metadata": {},
   "source": [
    "## <a name=\"model\"> Model Training \n",
    "\n",
    "In this section we will start our training and our measure is the accuracy of our model which we will use the test data to get the model accuracy. These models' accuracy is compared and the results are open for discussion.\n",
    "\n",
    "The model that we are using is:\n",
    "1. Logistic regression\n",
    "2. Support vector machines\n",
    "3. K Nearest Neighbours \n",
    "4. Random Forest\n",
    "5. Decision Tree"
   ]
  },
  {
   "cell_type": "markdown",
   "metadata": {},
   "source": [
    "#### Logistic regression"
   ]
  },
  {
   "cell_type": "code",
   "execution_count": 55,
   "metadata": {},
   "outputs": [
    {
     "name": "stdout",
     "output_type": "stream",
     "text": [
      "0.916267942583732\n",
      "[[242  24]\n",
      " [ 11 141]]\n",
      "              precision    recall  f1-score   support\n",
      "\n",
      "           0       0.96      0.91      0.93       266\n",
      "           1       0.85      0.93      0.89       152\n",
      "\n",
      "    accuracy                           0.92       418\n",
      "   macro avg       0.91      0.92      0.91       418\n",
      "weighted avg       0.92      0.92      0.92       418\n",
      "\n"
     ]
    }
   ],
   "source": [
    "logreg = LogisticRegression(solver=\"liblinear\")\n",
    "logreg.fit(x_train, y_train)\n",
    "logistic_prediction = logreg.predict(x_test)\n",
    "logistic_accuracy = accuracy_score(y_test, logistic_prediction)\n",
    "print(logistic_accuracy)\n",
    "print(confusion_matrix(y_test, logistic_prediction))\n",
    "print(classification_report(y_test, logistic_prediction))"
   ]
  },
  {
   "cell_type": "markdown",
   "metadata": {},
   "source": [
    "#### Support vector machines"
   ]
  },
  {
   "cell_type": "code",
   "execution_count": 56,
   "metadata": {},
   "outputs": [
    {
     "name": "stdout",
     "output_type": "stream",
     "text": [
      "0.9473684210526315\n",
      "[[250  16]\n",
      " [  6 146]]\n",
      "              precision    recall  f1-score   support\n",
      "\n",
      "           0       0.98      0.94      0.96       266\n",
      "           1       0.90      0.96      0.93       152\n",
      "\n",
      "    accuracy                           0.95       418\n",
      "   macro avg       0.94      0.95      0.94       418\n",
      "weighted avg       0.95      0.95      0.95       418\n",
      "\n"
     ]
    }
   ],
   "source": [
    "svm = SVC(kernel='linear')\n",
    "svm.fit(x_train, y_train)\n",
    "svm_prediction = svm.predict(x_test)\n",
    "svm_accuracy = accuracy_score(y_test, svm_prediction)\n",
    "print(svm_accuracy)\n",
    "print(confusion_matrix(y_test, svm_prediction))\n",
    "print(classification_report(y_test, svm_prediction))"
   ]
  },
  {
   "cell_type": "markdown",
   "metadata": {},
   "source": [
    "#### K Nearest Neighbours"
   ]
  },
  {
   "cell_type": "code",
   "execution_count": 57,
   "metadata": {},
   "outputs": [
    {
     "name": "stdout",
     "output_type": "stream",
     "text": [
      "0.8349282296650717\n",
      "[[242  24]\n",
      " [ 45 107]]\n",
      "              precision    recall  f1-score   support\n",
      "\n",
      "           0       0.84      0.91      0.88       266\n",
      "           1       0.82      0.70      0.76       152\n",
      "\n",
      "    accuracy                           0.83       418\n",
      "   macro avg       0.83      0.81      0.82       418\n",
      "weighted avg       0.83      0.83      0.83       418\n",
      "\n"
     ]
    }
   ],
   "source": [
    "knn = KNeighborsClassifier(n_neighbors=4)\n",
    "knn.fit(x_train, y_train)\n",
    "knn_prediction = knn.predict(x_test)\n",
    "knn_accuracy = accuracy_score(y_test, knn_prediction)\n",
    "print(knn_accuracy)\n",
    "print(confusion_matrix(y_test, knn_prediction))\n",
    "print(classification_report(y_test, knn_prediction))"
   ]
  },
  {
   "cell_type": "markdown",
   "metadata": {},
   "source": [
    "#### Random Forest"
   ]
  },
  {
   "cell_type": "code",
   "execution_count": 58,
   "metadata": {},
   "outputs": [
    {
     "name": "stdout",
     "output_type": "stream",
     "text": [
      "0.84688995215311\n",
      "[[230  36]\n",
      " [ 28 124]]\n",
      "              precision    recall  f1-score   support\n",
      "\n",
      "           0       0.89      0.86      0.88       266\n",
      "           1       0.78      0.82      0.79       152\n",
      "\n",
      "    accuracy                           0.85       418\n",
      "   macro avg       0.83      0.84      0.84       418\n",
      "weighted avg       0.85      0.85      0.85       418\n",
      "\n"
     ]
    }
   ],
   "source": [
    "random_forest = RandomForestClassifier(n_estimators=100)\n",
    "random_forest.fit(x_train, y_train)\n",
    "rf_prediction = random_forest.predict(x_test)\n",
    "rf_accuracy = accuracy_score(y_test, rf_prediction)\n",
    "print(rf_accuracy)\n",
    "print(confusion_matrix(y_test, rf_prediction))\n",
    "print(classification_report(y_test, rf_prediction))"
   ]
  },
  {
   "cell_type": "markdown",
   "metadata": {},
   "source": [
    "#### Decision Tree"
   ]
  },
  {
   "cell_type": "code",
   "execution_count": 59,
   "metadata": {},
   "outputs": [
    {
     "name": "stdout",
     "output_type": "stream",
     "text": [
      "0.8421052631578947\n",
      "[[231  35]\n",
      " [ 31 121]]\n",
      "              precision    recall  f1-score   support\n",
      "\n",
      "           0       0.88      0.87      0.88       266\n",
      "           1       0.78      0.80      0.79       152\n",
      "\n",
      "    accuracy                           0.84       418\n",
      "   macro avg       0.83      0.83      0.83       418\n",
      "weighted avg       0.84      0.84      0.84       418\n",
      "\n"
     ]
    }
   ],
   "source": [
    "decision_tree = DecisionTreeClassifier()\n",
    "decision_tree.fit(x_train, y_train)\n",
    "dt_prediction = decision_tree.predict(x_test)\n",
    "dt_accuracy = accuracy_score(y_test, dt_prediction)\n",
    "print(dt_accuracy)\n",
    "print(confusion_matrix(y_test, dt_prediction))\n",
    "print(classification_report(y_test, dt_prediction))"
   ]
  },
  {
   "cell_type": "markdown",
   "metadata": {},
   "source": [
    "Overall model comparison"
   ]
  },
  {
   "cell_type": "code",
   "execution_count": 60,
   "metadata": {},
   "outputs": [
    {
     "data": {
      "text/html": [
       "<div>\n",
       "<style scoped>\n",
       "    .dataframe tbody tr th:only-of-type {\n",
       "        vertical-align: middle;\n",
       "    }\n",
       "\n",
       "    .dataframe tbody tr th {\n",
       "        vertical-align: top;\n",
       "    }\n",
       "\n",
       "    .dataframe thead th {\n",
       "        text-align: right;\n",
       "    }\n",
       "</style>\n",
       "<table border=\"1\" class=\"dataframe\">\n",
       "  <thead>\n",
       "    <tr style=\"text-align: right;\">\n",
       "      <th></th>\n",
       "      <th>Model</th>\n",
       "      <th>Score</th>\n",
       "    </tr>\n",
       "  </thead>\n",
       "  <tbody>\n",
       "    <tr>\n",
       "      <th>0</th>\n",
       "      <td>Support Vector Machines</td>\n",
       "      <td>0.947368</td>\n",
       "    </tr>\n",
       "    <tr>\n",
       "      <th>2</th>\n",
       "      <td>Logistic Regression</td>\n",
       "      <td>0.916268</td>\n",
       "    </tr>\n",
       "    <tr>\n",
       "      <th>3</th>\n",
       "      <td>Random Forest</td>\n",
       "      <td>0.846890</td>\n",
       "    </tr>\n",
       "    <tr>\n",
       "      <th>4</th>\n",
       "      <td>Decision Tree</td>\n",
       "      <td>0.842105</td>\n",
       "    </tr>\n",
       "    <tr>\n",
       "      <th>1</th>\n",
       "      <td>KNN</td>\n",
       "      <td>0.834928</td>\n",
       "    </tr>\n",
       "  </tbody>\n",
       "</table>\n",
       "</div>"
      ],
      "text/plain": [
       "                     Model     Score\n",
       "0  Support Vector Machines  0.947368\n",
       "2      Logistic Regression  0.916268\n",
       "3            Random Forest  0.846890\n",
       "4            Decision Tree  0.842105\n",
       "1                      KNN  0.834928"
      ]
     },
     "execution_count": 60,
     "metadata": {},
     "output_type": "execute_result"
    }
   ],
   "source": [
    "models = pd.DataFrame({\n",
    "    'Model': ['Support Vector Machines', 'KNN', 'Logistic Regression',\n",
    "              'Random Forest', 'Decision Tree'],\n",
    "    'Score': [svm_accuracy, knn_accuracy, logistic_accuracy,\n",
    "              rf_accuracy, dt_accuracy]})\n",
    "models.sort_values(by='Score', ascending=False)"
   ]
  },
  {
   "cell_type": "markdown",
   "metadata": {},
   "source": [
    "Here we observe that the SVM model is the perfect model for our prediction "
   ]
  },
  {
   "cell_type": "markdown",
   "metadata": {},
   "source": [
    "##  <a name=\"Pipeline\">Data Preprocessing Pipeline\n",
    "In a data science project, the common practice is to put the data preprocessing steps into a pipelines manner. Pipeline helps to enforce desired order of application steps, creating a convenient work-flow, which makes sure of the reproducibility of the work."
   ]
  },
  {
   "cell_type": "markdown",
   "metadata": {},
   "source": [
    "![image](https://user-images.githubusercontent.com/59526258/134346459-760c7baa-dbdf-4bad-90b6-c2bfeee5e755.png)\n"
   ]
  },
  {
   "cell_type": "code",
   "execution_count": 61,
   "metadata": {},
   "outputs": [],
   "source": [
    "from sklearn.pipeline import Pipeline\n",
    "from sklearn.preprocessing import LabelEncoder"
   ]
  },
  {
   "cell_type": "code",
   "execution_count": 62,
   "metadata": {},
   "outputs": [],
   "source": [
    "class DropData():\n",
    "    def __init__(self, columns, axis=1):\n",
    "        self.axis = axis\n",
    "        self.columns = columns\n",
    "\n",
    "    def fit(self, X, y=None):\n",
    "        return self\n",
    "\n",
    "    def transform(self, X, y=None):\n",
    "        X = X.drop(self.columns, self.axis)\n",
    "        return X"
   ]
  },
  {
   "cell_type": "code",
   "execution_count": 63,
   "metadata": {},
   "outputs": [],
   "source": [
    "class CreateTitle():\n",
    "\n",
    "    def fit(self, X, y=None):\n",
    "        return self\n",
    "\n",
    "    def transform(self, X, y=None):\n",
    "\n",
    "        title_mapping = {\"Mr\": 1, \"Miss\": 2, \"Mrs\": 3, \"Master\": 4, \"Rare\": 5}\n",
    "        X['Title'] = X.Name.str.extract(' ([A-Za-z]+)\\.', expand=False)\n",
    "        X['Title'] = X['Title'].replace(['Lady', 'Countess', 'Capt', 'Col',\n",
    "                                         'Don', 'Dr', 'Major', 'Rev', 'Sir', 'Jonkheer', 'Dona'], 'Other')\n",
    "        X['Title'] = X['Title'].replace('Mlle', 'Miss')\n",
    "        X['Title'] = X['Title'].replace('Ms', 'Miss')\n",
    "        X['Title'] = X['Title'].replace('Mme', 'Mrs')\n",
    "        X['Title'] = X['Title'].map(title_mapping)\n",
    "        X['Title'] = X['Title'].fillna(0)\n",
    "\n",
    "        return X"
   ]
  },
  {
   "cell_type": "code",
   "execution_count": 64,
   "metadata": {},
   "outputs": [],
   "source": [
    "class ModifiedLabelEncoder(LabelEncoder):\n",
    "\n",
    "    def __init__(self, columns):\n",
    "        self.columns = columns\n",
    "\n",
    "    def fit_transform(self, X, *args, **kwargs):\n",
    "        X = X.copy()\n",
    "        X[self.columns] = super().fit_transform(X[self.columns])\n",
    "        return X"
   ]
  },
  {
   "cell_type": "code",
   "execution_count": 65,
   "metadata": {},
   "outputs": [],
   "source": [
    "class Impute():\n",
    "\n",
    "    def __init__(self, columns, impute_methods):\n",
    "        self.columns = columns\n",
    "        self.impute_methods = impute_methods\n",
    "\n",
    "    def fit(self, X, y=None):\n",
    "        return self\n",
    "\n",
    "    def transform(self, X, y=None):\n",
    "\n",
    "        if y == None:\n",
    "            y = X\n",
    "        if(self.impute_methods == \"median\"):\n",
    "            impute_value = X[self.columns].median()\n",
    "        elif(self.impute_methods == \"mean\"):\n",
    "            impute_value = X[self.columns].mean()\n",
    "        elif(self.impute_methods == \"mode\"):\n",
    "            impute_value = 'S'\n",
    "        else:\n",
    "            print(\"impute methods error\")\n",
    "\n",
    "        y[self.columns] = y[self.columns].fillna(impute_value)\n",
    "        return y"
   ]
  },
  {
   "cell_type": "code",
   "execution_count": 66,
   "metadata": {},
   "outputs": [],
   "source": [
    "class CustomOneHotEncoder():\n",
    "    def __init__(self, columns):\n",
    "        self.columns = columns\n",
    "\n",
    "    def fit(self, X, y=None):\n",
    "        return self\n",
    "\n",
    "    def transform(self, X, *args, **kwargs):\n",
    "        embarked_dummies = pd.get_dummies(\n",
    "            X, columns=[self.columns], prefix=self.columns)\n",
    "        return embarked_dummies"
   ]
  },
  {
   "cell_type": "code",
   "execution_count": 67,
   "metadata": {},
   "outputs": [],
   "source": [
    "def AgeBin(input_df):\n",
    "    input_df['Age'] = input_df['Age'].astype(int)\n",
    "    input_df.loc[input_df['Age'] <= 16, 'Age'] = 0\n",
    "    input_df.loc[(input_df['Age'] > 16) & (input_df['Age'] <= 32), 'Age'] = 1\n",
    "    input_df.loc[(input_df['Age'] > 32) & (input_df['Age'] <= 48), 'Age'] = 2\n",
    "    input_df.loc[(input_df['Age'] > 48) & (input_df['Age'] <= 64), 'Age'] = 3\n",
    "    input_df.loc[input_df['Age'] > 64, 'Age']\n",
    "    return input_df\n",
    "\n",
    "\n",
    "def FareBin(input_df):\n",
    "    input_df.loc[input_df['Fare'] <= 7.91, 'Fare'] = 0\n",
    "    input_df.loc[(input_df['Fare'] > 7.91) & (\n",
    "        input_df['Fare'] <= 14.454), 'Fare'] = 1\n",
    "    input_df.loc[(input_df['Fare'] > 14.454) & (\n",
    "        input_df['Fare'] <= 31), 'Fare'] = 2\n",
    "    input_df.loc[input_df['Fare'] > 31, 'Fare'] = 3\n",
    "    return input_df"
   ]
  },
  {
   "cell_type": "code",
   "execution_count": 68,
   "metadata": {},
   "outputs": [],
   "source": [
    "class Binning():\n",
    "    def __init__(self, func):\n",
    "        self.func = func\n",
    "\n",
    "    def fit(self, input_df, y=None):\n",
    "        return self\n",
    "\n",
    "    def transform(self, input_df, *args, **kwargs):\n",
    "        return self.func(input_df)"
   ]
  },
  {
   "cell_type": "code",
   "execution_count": 69,
   "metadata": {},
   "outputs": [],
   "source": [
    "preprocess_pipe = Pipeline(steps=[\n",
    "    ('Drop', DropData(['Survived', 'Cabin', 'Ticket', 'PassengerId'])),\n",
    "    ('CreateTitle', CreateTitle()),\n",
    "    ('DropName', DropData(['Name'])),\n",
    "    ('LabelEncode', ModifiedLabelEncoder('Sex')),\n",
    "    ('ImputeFare', Impute('Fare', 'median')),\n",
    "    ('ImputeAge', Impute('Age', 'median')),\n",
    "    ('ImputeEmbarked', Impute('Embarked', \"mode\")),\n",
    "    ('OneHotEncoder', CustomOneHotEncoder('Embarked'))\n",
    "    #     ('AgeBinining',Binning(AgeBin)),\n",
    "    #     ('FareBinining',Binning(FareBin))\n",
    "])"
   ]
  },
  {
   "cell_type": "code",
   "execution_count": 70,
   "metadata": {},
   "outputs": [],
   "source": [
    "from sklearn.model_selection import train_test_split\n",
    "train_data = pd.read_csv('../data/titanic_train.csv')\n",
    "test_fea_data = pd.read_csv('../data/titanic_test.csv')\n",
    "test_result = pd.read_csv('../data/titanic_test_result.csv')\n",
    "\n",
    "test_data = pd.concat([test_fea_data, test_result.Survived], axis=1)\n",
    "valid_set, test_set = train_test_split(test_data, shuffle=False)\n",
    "\n",
    "# Prepare data into feature and label\n",
    "x_train = preprocess_pipe.fit_transform(train_data)\n",
    "y_train = train_data.Survived\n",
    "\n",
    "x_valid = preprocess_pipe.fit_transform(valid_set)\n",
    "y_valid = valid_set.Survived\n",
    "\n",
    "x_test = preprocess_pipe.fit_transform(test_set)\n",
    "y_test = test_set.Survived"
   ]
  },
  {
   "cell_type": "markdown",
   "metadata": {},
   "source": [
    "##  <a name=\"ModelSelection\">Model Selection Pipeline\n",
    "This section will build a model selection pipeline to return us the best model with the highest accuracy score."
   ]
  },
  {
   "cell_type": "code",
   "execution_count": 71,
   "metadata": {},
   "outputs": [],
   "source": [
    "class MLModels():\n",
    "    def __init__(self, model_n, model, x_test, y_test):\n",
    "        self.model_n = model_n\n",
    "        self.model = model\n",
    "        self.x_test = x_test\n",
    "        self.y_test = y_test\n",
    "\n",
    "    def fit(self, x_train, y=y_train):\n",
    "        return self\n",
    "\n",
    "    def transform(self, x_train, y=y_train):\n",
    "        zipped_model = zip(self.model_n, self.model)\n",
    "        acc_score = []\n",
    "\n",
    "        for n, m in zipped_model:\n",
    "            model_fit = m.fit(x_train, y)\n",
    "            y_pred = model_fit.predict(self.x_test)\n",
    "            acc = accuracy_score(self.y_test, y_pred)\n",
    "            acc_score.append(acc)\n",
    "\n",
    "        report = pd.DataFrame({\n",
    "            'Model': self.model_n,\n",
    "            'Score': acc_score,\n",
    "            'Model_func': self.model})\n",
    "        model_rank = report.sort_values(by='Score', ascending=False)\n",
    "        print(model_rank.iloc[:, :2])\n",
    "\n",
    "        return model_rank.iloc[0]"
   ]
  },
  {
   "cell_type": "code",
   "execution_count": 72,
   "metadata": {},
   "outputs": [
    {
     "name": "stdout",
     "output_type": "stream",
     "text": [
      "                 Model     Score\n",
      "0                  SVM  0.952077\n",
      "2  Logistic Regression  0.923323\n",
      "3        Random Forest  0.801917\n",
      "4        Decision Tree  0.718850\n",
      "1                  KNN  0.715655\n"
     ]
    },
    {
     "data": {
      "text/plain": [
       "SVC(kernel='linear', probability=True)"
      ]
     },
     "execution_count": 72,
     "metadata": {},
     "output_type": "execute_result"
    }
   ],
   "source": [
    "model_names = ['SVM', 'KNN', 'Logistic Regression',\n",
    "               'Random Forest', 'Decision Tree']\n",
    "\n",
    "models = [SVC(kernel='linear', probability=True), KNeighborsClassifier(n_neighbors=4), LogisticRegression(solver=\"liblinear\"),\n",
    "          RandomForestClassifier(n_estimators=100), DecisionTreeClassifier()]\n",
    "\n",
    "mlpipe = Pipeline(steps=[\n",
    "    ('MLModels', MLModels(model_names, models, x_valid, y_valid))\n",
    "])\n",
    "\n",
    "best_model = mlpipe.fit_transform(x_train, y_train).Model_func\n",
    "best_model"
   ]
  },
  {
   "cell_type": "markdown",
   "metadata": {},
   "source": [
    "##  <a name=\"K-Fold\">K-Fold Cross Validation"
   ]
  },
  {
   "cell_type": "code",
   "execution_count": 73,
   "metadata": {},
   "outputs": [
    {
     "name": "stdout",
     "output_type": "stream",
     "text": [
      "Scores: [0.83333333 0.86516854 0.7752809  0.87640449 0.83146067 0.79775281\n",
      " 0.7752809  0.7752809  0.86516854 0.84269663]\n",
      "Mean: 0.8237827715355804\n",
      "Standard Deviation: 0.03799652694999573\n"
     ]
    }
   ],
   "source": [
    "from sklearn.model_selection import cross_val_score\n",
    "\n",
    "\n",
    "def k_fold(model, x, y, n_fold=10):\n",
    "    scores = cross_val_score(model, x, y, cv=n_fold, scoring=\"accuracy\")\n",
    "    print(\"Scores:\", scores)\n",
    "    print(\"Mean:\", scores.mean())\n",
    "    print(\"Standard Deviation:\", scores.std())\n",
    "\n",
    "\n",
    "k_fold(best_model, x_train, y_train)"
   ]
  },
  {
   "cell_type": "markdown",
   "metadata": {},
   "source": [
    "This looks much more realistic than before. Our model has an average accuracy of 82% with a standard deviation of 4 %. The standard deviation shows us how precise the estimates are. This means in our case that the accuracy of our model can differ + — 4%.<br>\n",
    "\n",
    "The training set accuracy is still excellent, but we will try to increase its performance even further in the following section."
   ]
  },
  {
   "cell_type": "code",
   "execution_count": 74,
   "metadata": {},
   "outputs": [
    {
     "name": "stdout",
     "output_type": "stream",
     "text": [
      "Scores: [1. 1. 1. 1. 1. 1. 1. 1. 1. 1.]\n",
      "Mean: 1.0\n",
      "Standard Deviation: 0.0\n"
     ]
    }
   ],
   "source": [
    "# Cross Validate for the Validation Set\n",
    "k_fold(best_model, x_valid, y_valid)"
   ]
  },
  {
   "cell_type": "markdown",
   "metadata": {},
   "source": [
    "The validation set has an average accuracy of 100% with a standard deviation of 0%. Based on the cross-validation on validation, we can consider accepting this model. However, for learning purposes, we try to improve the training accuracy in the following section."
   ]
  },
  {
   "cell_type": "markdown",
   "metadata": {},
   "source": [
    "##  <a name=\"Feature\">Feature Importance\n",
    "### What is feature importance?\n",
    "Techniques that assign a score to input features depending on how valuable they predict a target variable are known as feature importance.\n",
    "\n",
    "### How does feature importance work?\n",
    "Feature importance scores are essential in a predictive modeling project because they provide insight into the data, information into the model, and the foundation for dimensionality reduction and feature selection, which may enhance the efficiency and efficacy of a predictive model on the problem.\n",
    "The scores are helpful and may apply in a variety of scenarios in a predictive modeling issue, including:\n",
    "- Improved data understanding.\n",
    "- Improved understanding of a model.\n",
    "- Reduce the number of input features.\n",
    "\n",
    "In this section, the `RandomForestClassifier` is used to study the feature importance by examining the score."
   ]
  },
  {
   "cell_type": "code",
   "execution_count": 75,
   "metadata": {},
   "outputs": [
    {
     "data": {
      "text/plain": [
       "array([0.08237237, 0.11521565, 0.21640544, 0.05461864, 0.03258236,\n",
       "       0.25048545, 0.2161885 , 0.01188891, 0.00727993, 0.01296275])"
      ]
     },
     "execution_count": 75,
     "metadata": {},
     "output_type": "execute_result"
    }
   ],
   "source": [
    "# Instantiate the RandomForestClassifier\n",
    "random_forest_fi = RandomForestClassifier(n_estimators=100)\n",
    "random_forest_fi.fit(x_train, y_train)\n",
    "random_forest_fi.feature_importances_"
   ]
  },
  {
   "cell_type": "code",
   "execution_count": 76,
   "metadata": {},
   "outputs": [
    {
     "data": {
      "image/png": "[encoded data removed]",
      "text/plain": [
       "<Figure size 720x432 with 1 Axes>"
      ]
     },
     "metadata": {
      "needs_background": "light"
     },
     "output_type": "display_data"
    }
   ],
   "source": [
    "# Output the feature importance scores\n",
    "feature_imp = pd.Series(random_forest_fi.feature_importances_,\n",
    "                        index=x_train.columns).sort_values(ascending=False)\n",
    "plt.figure(figsize=(10, 6))\n",
    "sns.barplot(x=feature_imp, y=feature_imp.index)\n",
    "# Add labels to your graph\n",
    "plt.xlabel('Feature Importance Score')\n",
    "plt.ylabel('Features')\n",
    "plt.title(\"Visualizing Important Features\")\n",
    "plt.tight_layout()"
   ]
  },
  {
   "cell_type": "markdown",
   "metadata": {},
   "source": [
    "The top 5 features will be `Fare`, `Age`,`Title`,`Sex`,`Pclass`. `SibSp` and `Parch` may discard low feature importance scores. <br>\n",
    ">*Note:* We cannot discard the `Embarked_S`, `Embarked_C`, `Embarked_Q` because it is the one-hot encoded output from the `Embarked` feature. Hence, we may ignore the `Embarked` in this case."
   ]
  },
  {
   "cell_type": "markdown",
   "metadata": {},
   "source": [
    "##  <a name=\"FeatureSelection\">Feature Selection\n",
    "### What is feature selection?  \n",
    "When constructing a predictive model, feature selection is the process of decreasing the number of input variables. It is preferable to decrease the number of input variables to reduce computational modeling costs and, in certain circumstances, increase model performance.<br>\n",
    "After studying the feature importance score in the previous session, we may manually select the top 5 features: `Fare`, `Age`, `Title`, `Sex`, `Pclass`, and the encoded feature `Embarked`.\n",
    "Besides that, we may use the `sklearn` library such as `SelectKBest` to help us auto select the importance feature given the `k` arguments.<br>\n",
    "Please feel free to change the `k` arguments to observe what are the feature selected by the `SelectKBest`. The `k` is 5 for this session since we want the `SelectKBest` to choose the top 5 models."
   ]
  },
  {
   "cell_type": "code",
   "execution_count": 77,
   "metadata": {},
   "outputs": [],
   "source": [
    "from sklearn.feature_selection import SelectKBest, chi2"
   ]
  },
  {
   "cell_type": "code",
   "execution_count": 78,
   "metadata": {},
   "outputs": [
    {
     "data": {
      "text/html": [
       "<div>\n",
       "<style scoped>\n",
       "    .dataframe tbody tr th:only-of-type {\n",
       "        vertical-align: middle;\n",
       "    }\n",
       "\n",
       "    .dataframe tbody tr th {\n",
       "        vertical-align: top;\n",
       "    }\n",
       "\n",
       "    .dataframe thead th {\n",
       "        text-align: right;\n",
       "    }\n",
       "</style>\n",
       "<table border=\"1\" class=\"dataframe\">\n",
       "  <thead>\n",
       "    <tr style=\"text-align: right;\">\n",
       "      <th></th>\n",
       "      <th>Pclass</th>\n",
       "      <th>Sex</th>\n",
       "      <th>Age</th>\n",
       "      <th>Fare</th>\n",
       "      <th>Title</th>\n",
       "    </tr>\n",
       "  </thead>\n",
       "  <tbody>\n",
       "    <tr>\n",
       "      <th>0</th>\n",
       "      <td>3.0</td>\n",
       "      <td>1.0</td>\n",
       "      <td>22.0</td>\n",
       "      <td>7.2500</td>\n",
       "      <td>1.0</td>\n",
       "    </tr>\n",
       "    <tr>\n",
       "      <th>1</th>\n",
       "      <td>1.0</td>\n",
       "      <td>0.0</td>\n",
       "      <td>38.0</td>\n",
       "      <td>71.2833</td>\n",
       "      <td>3.0</td>\n",
       "    </tr>\n",
       "    <tr>\n",
       "      <th>2</th>\n",
       "      <td>3.0</td>\n",
       "      <td>0.0</td>\n",
       "      <td>26.0</td>\n",
       "      <td>7.9250</td>\n",
       "      <td>2.0</td>\n",
       "    </tr>\n",
       "    <tr>\n",
       "      <th>3</th>\n",
       "      <td>1.0</td>\n",
       "      <td>0.0</td>\n",
       "      <td>35.0</td>\n",
       "      <td>53.1000</td>\n",
       "      <td>3.0</td>\n",
       "    </tr>\n",
       "    <tr>\n",
       "      <th>4</th>\n",
       "      <td>3.0</td>\n",
       "      <td>1.0</td>\n",
       "      <td>35.0</td>\n",
       "      <td>8.0500</td>\n",
       "      <td>1.0</td>\n",
       "    </tr>\n",
       "    <tr>\n",
       "      <th>...</th>\n",
       "      <td>...</td>\n",
       "      <td>...</td>\n",
       "      <td>...</td>\n",
       "      <td>...</td>\n",
       "      <td>...</td>\n",
       "    </tr>\n",
       "    <tr>\n",
       "      <th>886</th>\n",
       "      <td>2.0</td>\n",
       "      <td>1.0</td>\n",
       "      <td>27.0</td>\n",
       "      <td>13.0000</td>\n",
       "      <td>0.0</td>\n",
       "    </tr>\n",
       "    <tr>\n",
       "      <th>887</th>\n",
       "      <td>1.0</td>\n",
       "      <td>0.0</td>\n",
       "      <td>19.0</td>\n",
       "      <td>30.0000</td>\n",
       "      <td>2.0</td>\n",
       "    </tr>\n",
       "    <tr>\n",
       "      <th>888</th>\n",
       "      <td>3.0</td>\n",
       "      <td>0.0</td>\n",
       "      <td>28.0</td>\n",
       "      <td>23.4500</td>\n",
       "      <td>2.0</td>\n",
       "    </tr>\n",
       "    <tr>\n",
       "      <th>889</th>\n",
       "      <td>1.0</td>\n",
       "      <td>1.0</td>\n",
       "      <td>26.0</td>\n",
       "      <td>30.0000</td>\n",
       "      <td>1.0</td>\n",
       "    </tr>\n",
       "    <tr>\n",
       "      <th>890</th>\n",
       "      <td>3.0</td>\n",
       "      <td>1.0</td>\n",
       "      <td>32.0</td>\n",
       "      <td>7.7500</td>\n",
       "      <td>1.0</td>\n",
       "    </tr>\n",
       "  </tbody>\n",
       "</table>\n",
       "<p>891 rows × 5 columns</p>\n",
       "</div>"
      ],
      "text/plain": [
       "     Pclass  Sex   Age     Fare  Title\n",
       "0       3.0  1.0  22.0   7.2500    1.0\n",
       "1       1.0  0.0  38.0  71.2833    3.0\n",
       "2       3.0  0.0  26.0   7.9250    2.0\n",
       "3       1.0  0.0  35.0  53.1000    3.0\n",
       "4       3.0  1.0  35.0   8.0500    1.0\n",
       "..      ...  ...   ...      ...    ...\n",
       "886     2.0  1.0  27.0  13.0000    0.0\n",
       "887     1.0  0.0  19.0  30.0000    2.0\n",
       "888     3.0  0.0  28.0  23.4500    2.0\n",
       "889     1.0  1.0  26.0  30.0000    1.0\n",
       "890     3.0  1.0  32.0   7.7500    1.0\n",
       "\n",
       "[891 rows x 5 columns]"
      ]
     },
     "execution_count": 78,
     "metadata": {},
     "output_type": "execute_result"
    }
   ],
   "source": [
    "x_train_newf = SelectKBest(score_func=chi2, k=5)\n",
    "x_train_newf.fit(x_train, y_train)\n",
    "ix = x_train_newf.get_support()\n",
    "feature_s = pd.DataFrame(x_train_newf.transform(\n",
    "    x_train), columns=x_train.columns.values[ix])\n",
    "feature_s"
   ]
  },
  {
   "cell_type": "markdown",
   "metadata": {},
   "source": [
    "##  <a name=\"PCA\">PCA\n",
    "### What is PCA?\n",
    "PCA is a popular approach for reducing the dimensionality of extensive data collection. Reducing the number of components or characteristics reduces accuracy while making the vast data collection more straightforward, easier to study, and display. PCA also decreases the computational complexity of the model, allowing machine learning techniques to run quicker.\n",
    "\n",
    "### Steps Involved in PCA\n",
    "1. Standardize the data. (with mean =0 and variance = 1)\n",
    "2. Use sklearn PCA to calculate the PCA.\n",
    "3. Visualize 2D Projection using score plot.\n",
    "4. Analyze using PCA scree plot, cumulative plot, loading plot, and biplot.\n",
    "\n",
    "### Step 1 - Standardization\n",
    "The reason why standardization is so important before using PCA is that PCA is extremely sensitive to variations. In other words, if there are substantial variations in the sizes (ranges) of the characteristics, those with greater scales will dominate those with small scales."
   ]
  },
  {
   "cell_type": "code",
   "execution_count": 79,
   "metadata": {},
   "outputs": [
    {
     "data": {
      "text/html": [
       "<div>\n",
       "<style scoped>\n",
       "    .dataframe tbody tr th:only-of-type {\n",
       "        vertical-align: middle;\n",
       "    }\n",
       "\n",
       "    .dataframe tbody tr th {\n",
       "        vertical-align: top;\n",
       "    }\n",
       "\n",
       "    .dataframe thead th {\n",
       "        text-align: right;\n",
       "    }\n",
       "</style>\n",
       "<table border=\"1\" class=\"dataframe\">\n",
       "  <thead>\n",
       "    <tr style=\"text-align: right;\">\n",
       "      <th></th>\n",
       "      <th>Pclass</th>\n",
       "      <th>Sex</th>\n",
       "      <th>Age</th>\n",
       "      <th>SibSp</th>\n",
       "      <th>Parch</th>\n",
       "      <th>Fare</th>\n",
       "      <th>Title</th>\n",
       "      <th>Embarked_C</th>\n",
       "      <th>Embarked_Q</th>\n",
       "      <th>Embarked_S</th>\n",
       "    </tr>\n",
       "  </thead>\n",
       "  <tbody>\n",
       "    <tr>\n",
       "      <th>0</th>\n",
       "      <td>0.827377</td>\n",
       "      <td>0.737695</td>\n",
       "      <td>-0.565736</td>\n",
       "      <td>0.432793</td>\n",
       "      <td>-0.473674</td>\n",
       "      <td>-0.502445</td>\n",
       "      <td>-0.652387</td>\n",
       "      <td>-0.482043</td>\n",
       "      <td>-0.307562</td>\n",
       "      <td>0.615838</td>\n",
       "    </tr>\n",
       "    <tr>\n",
       "      <th>1</th>\n",
       "      <td>-1.566107</td>\n",
       "      <td>-1.355574</td>\n",
       "      <td>0.663861</td>\n",
       "      <td>0.432793</td>\n",
       "      <td>-0.473674</td>\n",
       "      <td>0.786845</td>\n",
       "      <td>1.524679</td>\n",
       "      <td>2.074505</td>\n",
       "      <td>-0.307562</td>\n",
       "      <td>-1.623803</td>\n",
       "    </tr>\n",
       "    <tr>\n",
       "      <th>2</th>\n",
       "      <td>0.827377</td>\n",
       "      <td>-1.355574</td>\n",
       "      <td>-0.258337</td>\n",
       "      <td>-0.474545</td>\n",
       "      <td>-0.473674</td>\n",
       "      <td>-0.488854</td>\n",
       "      <td>0.436146</td>\n",
       "      <td>-0.482043</td>\n",
       "      <td>-0.307562</td>\n",
       "      <td>0.615838</td>\n",
       "    </tr>\n",
       "    <tr>\n",
       "      <th>3</th>\n",
       "      <td>-1.566107</td>\n",
       "      <td>-1.355574</td>\n",
       "      <td>0.433312</td>\n",
       "      <td>0.432793</td>\n",
       "      <td>-0.473674</td>\n",
       "      <td>0.420730</td>\n",
       "      <td>1.524679</td>\n",
       "      <td>-0.482043</td>\n",
       "      <td>-0.307562</td>\n",
       "      <td>0.615838</td>\n",
       "    </tr>\n",
       "    <tr>\n",
       "      <th>4</th>\n",
       "      <td>0.827377</td>\n",
       "      <td>0.737695</td>\n",
       "      <td>0.433312</td>\n",
       "      <td>-0.474545</td>\n",
       "      <td>-0.473674</td>\n",
       "      <td>-0.486337</td>\n",
       "      <td>-0.652387</td>\n",
       "      <td>-0.482043</td>\n",
       "      <td>-0.307562</td>\n",
       "      <td>0.615838</td>\n",
       "    </tr>\n",
       "    <tr>\n",
       "      <th>...</th>\n",
       "      <td>...</td>\n",
       "      <td>...</td>\n",
       "      <td>...</td>\n",
       "      <td>...</td>\n",
       "      <td>...</td>\n",
       "      <td>...</td>\n",
       "      <td>...</td>\n",
       "      <td>...</td>\n",
       "      <td>...</td>\n",
       "      <td>...</td>\n",
       "    </tr>\n",
       "    <tr>\n",
       "      <th>886</th>\n",
       "      <td>-0.369365</td>\n",
       "      <td>0.737695</td>\n",
       "      <td>-0.181487</td>\n",
       "      <td>-0.474545</td>\n",
       "      <td>-0.473674</td>\n",
       "      <td>-0.386671</td>\n",
       "      <td>-1.740920</td>\n",
       "      <td>-0.482043</td>\n",
       "      <td>-0.307562</td>\n",
       "      <td>0.615838</td>\n",
       "    </tr>\n",
       "    <tr>\n",
       "      <th>887</th>\n",
       "      <td>-1.566107</td>\n",
       "      <td>-1.355574</td>\n",
       "      <td>-0.796286</td>\n",
       "      <td>-0.474545</td>\n",
       "      <td>-0.473674</td>\n",
       "      <td>-0.044381</td>\n",
       "      <td>0.436146</td>\n",
       "      <td>-0.482043</td>\n",
       "      <td>-0.307562</td>\n",
       "      <td>0.615838</td>\n",
       "    </tr>\n",
       "    <tr>\n",
       "      <th>888</th>\n",
       "      <td>0.827377</td>\n",
       "      <td>-1.355574</td>\n",
       "      <td>-0.104637</td>\n",
       "      <td>0.432793</td>\n",
       "      <td>2.008933</td>\n",
       "      <td>-0.176263</td>\n",
       "      <td>0.436146</td>\n",
       "      <td>-0.482043</td>\n",
       "      <td>-0.307562</td>\n",
       "      <td>0.615838</td>\n",
       "    </tr>\n",
       "    <tr>\n",
       "      <th>889</th>\n",
       "      <td>-1.566107</td>\n",
       "      <td>0.737695</td>\n",
       "      <td>-0.258337</td>\n",
       "      <td>-0.474545</td>\n",
       "      <td>-0.473674</td>\n",
       "      <td>-0.044381</td>\n",
       "      <td>-0.652387</td>\n",
       "      <td>2.074505</td>\n",
       "      <td>-0.307562</td>\n",
       "      <td>-1.623803</td>\n",
       "    </tr>\n",
       "    <tr>\n",
       "      <th>890</th>\n",
       "      <td>0.827377</td>\n",
       "      <td>0.737695</td>\n",
       "      <td>0.202762</td>\n",
       "      <td>-0.474545</td>\n",
       "      <td>-0.473674</td>\n",
       "      <td>-0.492378</td>\n",
       "      <td>-0.652387</td>\n",
       "      <td>-0.482043</td>\n",
       "      <td>3.251373</td>\n",
       "      <td>-1.623803</td>\n",
       "    </tr>\n",
       "  </tbody>\n",
       "</table>\n",
       "<p>891 rows × 10 columns</p>\n",
       "</div>"
      ],
      "text/plain": [
       "       Pclass       Sex       Age     SibSp     Parch      Fare     Title  \\\n",
       "0    0.827377  0.737695 -0.565736  0.432793 -0.473674 -0.502445 -0.652387   \n",
       "1   -1.566107 -1.355574  0.663861  0.432793 -0.473674  0.786845  1.524679   \n",
       "2    0.827377 -1.355574 -0.258337 -0.474545 -0.473674 -0.488854  0.436146   \n",
       "3   -1.566107 -1.355574  0.433312  0.432793 -0.473674  0.420730  1.524679   \n",
       "4    0.827377  0.737695  0.433312 -0.474545 -0.473674 -0.486337 -0.652387   \n",
       "..        ...       ...       ...       ...       ...       ...       ...   \n",
       "886 -0.369365  0.737695 -0.181487 -0.474545 -0.473674 -0.386671 -1.740920   \n",
       "887 -1.566107 -1.355574 -0.796286 -0.474545 -0.473674 -0.044381  0.436146   \n",
       "888  0.827377 -1.355574 -0.104637  0.432793  2.008933 -0.176263  0.436146   \n",
       "889 -1.566107  0.737695 -0.258337 -0.474545 -0.473674 -0.044381 -0.652387   \n",
       "890  0.827377  0.737695  0.202762 -0.474545 -0.473674 -0.492378 -0.652387   \n",
       "\n",
       "     Embarked_C  Embarked_Q  Embarked_S  \n",
       "0     -0.482043   -0.307562    0.615838  \n",
       "1      2.074505   -0.307562   -1.623803  \n",
       "2     -0.482043   -0.307562    0.615838  \n",
       "3     -0.482043   -0.307562    0.615838  \n",
       "4     -0.482043   -0.307562    0.615838  \n",
       "..          ...         ...         ...  \n",
       "886   -0.482043   -0.307562    0.615838  \n",
       "887   -0.482043   -0.307562    0.615838  \n",
       "888   -0.482043   -0.307562    0.615838  \n",
       "889    2.074505   -0.307562   -1.623803  \n",
       "890   -0.482043    3.251373   -1.623803  \n",
       "\n",
       "[891 rows x 10 columns]"
      ]
     },
     "execution_count": 79,
     "metadata": {},
     "output_type": "execute_result"
    }
   ],
   "source": [
    "# Perform standardlization column by column\n",
    "from sklearn.preprocessing import StandardScaler\n",
    "scalers = dict()\n",
    "x_train_scale = x_train.copy()\n",
    "for columns in x_train.columns:\n",
    "    x_train_scale[columns] = StandardScaler().fit_transform(\n",
    "        x_train[columns].values.reshape(-1, 1))\n",
    "x_train_scale"
   ]
  },
  {
   "cell_type": "markdown",
   "metadata": {},
   "source": [
    "### Step 2 - Use `sklearn` PCA library to calculate the PCA."
   ]
  },
  {
   "cell_type": "code",
   "execution_count": 80,
   "metadata": {},
   "outputs": [
    {
     "data": {
      "text/html": [
       "<div>\n",
       "<style scoped>\n",
       "    .dataframe tbody tr th:only-of-type {\n",
       "        vertical-align: middle;\n",
       "    }\n",
       "\n",
       "    .dataframe tbody tr th {\n",
       "        vertical-align: top;\n",
       "    }\n",
       "\n",
       "    .dataframe thead th {\n",
       "        text-align: right;\n",
       "    }\n",
       "</style>\n",
       "<table border=\"1\" class=\"dataframe\">\n",
       "  <thead>\n",
       "    <tr style=\"text-align: right;\">\n",
       "      <th></th>\n",
       "      <th>principal component 1</th>\n",
       "      <th>principal component 2</th>\n",
       "    </tr>\n",
       "  </thead>\n",
       "  <tbody>\n",
       "    <tr>\n",
       "      <th>0</th>\n",
       "      <td>-1.244207</td>\n",
       "      <td>-0.928570</td>\n",
       "    </tr>\n",
       "    <tr>\n",
       "      <th>1</th>\n",
       "      <td>2.757380</td>\n",
       "      <td>2.224435</td>\n",
       "    </tr>\n",
       "    <tr>\n",
       "      <th>2</th>\n",
       "      <td>-0.108132</td>\n",
       "      <td>-0.997593</td>\n",
       "    </tr>\n",
       "    <tr>\n",
       "      <th>3</th>\n",
       "      <td>1.441518</td>\n",
       "      <td>-0.193385</td>\n",
       "    </tr>\n",
       "    <tr>\n",
       "      <th>4</th>\n",
       "      <td>-1.655706</td>\n",
       "      <td>-0.308547</td>\n",
       "    </tr>\n",
       "    <tr>\n",
       "      <th>...</th>\n",
       "      <td>...</td>\n",
       "      <td>...</td>\n",
       "    </tr>\n",
       "    <tr>\n",
       "      <th>886</th>\n",
       "      <td>-1.808702</td>\n",
       "      <td>0.231983</td>\n",
       "    </tr>\n",
       "    <tr>\n",
       "      <th>887</th>\n",
       "      <td>0.635586</td>\n",
       "      <td>-0.169024</td>\n",
       "    </tr>\n",
       "    <tr>\n",
       "      <th>888</th>\n",
       "      <td>1.220387</td>\n",
       "      <td>-1.832241</td>\n",
       "    </tr>\n",
       "    <tr>\n",
       "      <th>889</th>\n",
       "      <td>0.321431</td>\n",
       "      <td>2.715243</td>\n",
       "    </tr>\n",
       "    <tr>\n",
       "      <th>890</th>\n",
       "      <td>-1.132238</td>\n",
       "      <td>0.800486</td>\n",
       "    </tr>\n",
       "  </tbody>\n",
       "</table>\n",
       "<p>891 rows × 2 columns</p>\n",
       "</div>"
      ],
      "text/plain": [
       "     principal component 1  principal component 2\n",
       "0                -1.244207              -0.928570\n",
       "1                 2.757380               2.224435\n",
       "2                -0.108132              -0.997593\n",
       "3                 1.441518              -0.193385\n",
       "4                -1.655706              -0.308547\n",
       "..                     ...                    ...\n",
       "886              -1.808702               0.231983\n",
       "887               0.635586              -0.169024\n",
       "888               1.220387              -1.832241\n",
       "889               0.321431               2.715243\n",
       "890              -1.132238               0.800486\n",
       "\n",
       "[891 rows x 2 columns]"
      ]
     },
     "execution_count": 80,
     "metadata": {},
     "output_type": "execute_result"
    }
   ],
   "source": [
    "from sklearn.decomposition import PCA\n",
    "pca = PCA(n_components=2)\n",
    "principalComponents = pca.fit_transform(x_train_scale)\n",
    "principalDf = pd.DataFrame(data=principalComponents, columns=['principal component 1',\n",
    "                                                              'principal component 2'])\n",
    "principalDf"
   ]
  },
  {
   "cell_type": "markdown",
   "metadata": {},
   "source": [
    "### Step 3 - Visualize 2D Projection using score plot\n",
    "We would need to map our data into high-dimensional space to accurately picture it (7 dimensions). Instead, we project our data in 2D. This allows us to see whether particular groups of passengers were more likely to survive than others. If survival is not random, we will observe that those that survived are extremely closely grouped when we plot our data."
   ]
  },
  {
   "cell_type": "code",
   "execution_count": 81,
   "metadata": {},
   "outputs": [
    {
     "data": {
      "text/html": [
       "<div>\n",
       "<style scoped>\n",
       "    .dataframe tbody tr th:only-of-type {\n",
       "        vertical-align: middle;\n",
       "    }\n",
       "\n",
       "    .dataframe tbody tr th {\n",
       "        vertical-align: top;\n",
       "    }\n",
       "\n",
       "    .dataframe thead th {\n",
       "        text-align: right;\n",
       "    }\n",
       "</style>\n",
       "<table border=\"1\" class=\"dataframe\">\n",
       "  <thead>\n",
       "    <tr style=\"text-align: right;\">\n",
       "      <th></th>\n",
       "      <th>principal component 1</th>\n",
       "      <th>principal component 2</th>\n",
       "      <th>Survived</th>\n",
       "    </tr>\n",
       "  </thead>\n",
       "  <tbody>\n",
       "    <tr>\n",
       "      <th>0</th>\n",
       "      <td>-1.244207</td>\n",
       "      <td>-0.928570</td>\n",
       "      <td>0</td>\n",
       "    </tr>\n",
       "    <tr>\n",
       "      <th>1</th>\n",
       "      <td>2.757380</td>\n",
       "      <td>2.224435</td>\n",
       "      <td>1</td>\n",
       "    </tr>\n",
       "    <tr>\n",
       "      <th>2</th>\n",
       "      <td>-0.108132</td>\n",
       "      <td>-0.997593</td>\n",
       "      <td>1</td>\n",
       "    </tr>\n",
       "    <tr>\n",
       "      <th>3</th>\n",
       "      <td>1.441518</td>\n",
       "      <td>-0.193385</td>\n",
       "      <td>1</td>\n",
       "    </tr>\n",
       "    <tr>\n",
       "      <th>4</th>\n",
       "      <td>-1.655706</td>\n",
       "      <td>-0.308547</td>\n",
       "      <td>0</td>\n",
       "    </tr>\n",
       "    <tr>\n",
       "      <th>...</th>\n",
       "      <td>...</td>\n",
       "      <td>...</td>\n",
       "      <td>...</td>\n",
       "    </tr>\n",
       "    <tr>\n",
       "      <th>886</th>\n",
       "      <td>-1.808702</td>\n",
       "      <td>0.231983</td>\n",
       "      <td>0</td>\n",
       "    </tr>\n",
       "    <tr>\n",
       "      <th>887</th>\n",
       "      <td>0.635586</td>\n",
       "      <td>-0.169024</td>\n",
       "      <td>1</td>\n",
       "    </tr>\n",
       "    <tr>\n",
       "      <th>888</th>\n",
       "      <td>1.220387</td>\n",
       "      <td>-1.832241</td>\n",
       "      <td>0</td>\n",
       "    </tr>\n",
       "    <tr>\n",
       "      <th>889</th>\n",
       "      <td>0.321431</td>\n",
       "      <td>2.715243</td>\n",
       "      <td>1</td>\n",
       "    </tr>\n",
       "    <tr>\n",
       "      <th>890</th>\n",
       "      <td>-1.132238</td>\n",
       "      <td>0.800486</td>\n",
       "      <td>0</td>\n",
       "    </tr>\n",
       "  </tbody>\n",
       "</table>\n",
       "<p>891 rows × 3 columns</p>\n",
       "</div>"
      ],
      "text/plain": [
       "     principal component 1  principal component 2  Survived\n",
       "0                -1.244207              -0.928570         0\n",
       "1                 2.757380               2.224435         1\n",
       "2                -0.108132              -0.997593         1\n",
       "3                 1.441518              -0.193385         1\n",
       "4                -1.655706              -0.308547         0\n",
       "..                     ...                    ...       ...\n",
       "886              -1.808702               0.231983         0\n",
       "887               0.635586              -0.169024         1\n",
       "888               1.220387              -1.832241         0\n",
       "889               0.321431               2.715243         1\n",
       "890              -1.132238               0.800486         0\n",
       "\n",
       "[891 rows x 3 columns]"
      ]
     },
     "execution_count": 81,
     "metadata": {},
     "output_type": "execute_result"
    }
   ],
   "source": [
    "pca_df = pd.concat([principalDf, y_train], axis=1)\n",
    "pca_df"
   ]
  },
  {
   "cell_type": "code",
   "execution_count": 82,
   "metadata": {},
   "outputs": [
    {
     "data": {
      "image/png": "[encoded data removed]",
      "text/plain": [
       "<Figure size 576x576 with 1 Axes>"
      ]
     },
     "metadata": {
      "needs_background": "light"
     },
     "output_type": "display_data"
    }
   ],
   "source": [
    "def score_plot(pca_dataframe):\n",
    "    fig = plt.figure(figsize=(8, 8))\n",
    "    sns.set(font_scale=1.5)\n",
    "    sns.scatterplot(\n",
    "        x=pca_dataframe['principal component 1'], y=pca_dataframe['principal component 2'],\n",
    "        hue=pca_dataframe['Survived'],\n",
    "        palette=sns.color_palette(['red', 'green']),\n",
    "\n",
    "        data=pca_dataframe['Survived'],\n",
    "        legend=\"full\",\n",
    "    )\n",
    "    plt.grid()\n",
    "    plt.title('2 component PCA')\n",
    "\n",
    "\n",
    "score_plot(pca_df)"
   ]
  },
  {
   "cell_type": "markdown",
   "metadata": {},
   "source": [
    "Though there is some mixing, we see that the data is indeed clustered. We see data points representing passengers that survived are grouped."
   ]
  },
  {
   "cell_type": "markdown",
   "metadata": {},
   "source": [
    "### Step 4 - Analyse using PCA scree plot, cummulative plot, loading plot and biplot.\n",
    "#### Scree plot and Cummulative plot\n",
    "On the other hand, a scree plot is a diagnostic tool for determining whether or not PCA works effectively on your data. The following are the principal components, constructed according to the amount of variance they cover: PC1 (principal component 1) captures the most variance, followed by PC2 and so on. Each of them provides some data information, and there are as many principle components as there are features in a PCA."
   ]
  },
  {
   "cell_type": "code",
   "execution_count": 83,
   "metadata": {},
   "outputs": [
    {
     "data": {
      "text/plain": [
       "array([0.23378291, 0.20820762])"
      ]
     },
     "execution_count": 83,
     "metadata": {},
     "output_type": "execute_result"
    }
   ],
   "source": [
    "pca_ = PCA(random_state=42)\n",
    "x_pca = pca_.fit_transform(x_train_scale)\n",
    "pca.explained_variance_ratio_"
   ]
  },
  {
   "cell_type": "code",
   "execution_count": 84,
   "metadata": {},
   "outputs": [
    {
     "data": {
      "text/plain": [
       "[Text(0.5, 0, 'Component'),\n",
       " Text(0, 0.5, 'Percent of Explained variance'),\n",
       " Text(0.5, 1.0, 'Cumulative Variance'),\n",
       " (0.0, 1.0)]"
      ]
     },
     "execution_count": 84,
     "metadata": {},
     "output_type": "execute_result"
    },
    {
     "data": {
      "image/png": "[encoded data removed]",
      "text/plain": [
       "<Figure size 720x432 with 2 Axes>"
      ]
     },
     "metadata": {},
     "output_type": "display_data"
    }
   ],
   "source": [
    "fig, axes = plt.subplots(1, 2, figsize=(10, 6))\n",
    "axes[0].plot(pca_.explained_variance_ratio_)\n",
    "axes[0].set(\n",
    "    xlabel=\"Component\",\n",
    "    ylabel=\"Percent of Explained variance\",\n",
    "    title=\"Scree Plot\",\n",
    "    ylim=(0, 1))\n",
    "axes[1].plot(np.cumsum(pca_.explained_variance_ratio_))\n",
    "axes[1].set(\n",
    "    xlabel=\"Component\",\n",
    "    ylabel=\"Percent of Explained variance\",\n",
    "    title=\"Cumulative Variance\",\n",
    "    ylim=(0, 1))"
   ]
  },
  {
   "cell_type": "markdown",
   "metadata": {},
   "source": [
    "From the cumulative variance plot, it appears that we keep around 90% of the variance if we use just 5 of the PCA components. But how much do features impact the principal component? We can use a heatmap to visualize how each column has affected the PC; the darker the color, the more the feature column contributes to the component."
   ]
  },
  {
   "cell_type": "code",
   "execution_count": 85,
   "metadata": {},
   "outputs": [
    {
     "data": {
      "text/plain": [
       "<matplotlib.colorbar.Colorbar at 0x2553c4e2ef0>"
      ]
     },
     "execution_count": 85,
     "metadata": {},
     "output_type": "execute_result"
    },
    {
     "data": {
      "image/png": "[encoded data removed]",
      "text/plain": [
       "<Figure size 432x288 with 2 Axes>"
      ]
     },
     "metadata": {},
     "output_type": "display_data"
    }
   ],
   "source": [
    "fig, ax = plt.subplots(figsize=(6, 4))\n",
    "plt.imshow(\n",
    "    pca_.components_.T,\n",
    "    cmap=\"Spectral\",\n",
    "    vmin=-1,\n",
    "    vmax=1)\n",
    "plt.yticks(range(len(x_train_scale.columns)), x_train_scale.columns)\n",
    "plt.xticks(range(10), range(1, 11))\n",
    "plt.xlabel(\"Principal Component\")\n",
    "plt.ylabel(\"Contribution\")\n",
    "plt.title(\"Contribution of Features to Components\")\n",
    "plt.colorbar()"
   ]
  },
  {
   "cell_type": "markdown",
   "metadata": {},
   "source": [
    "#### Loading plot\n",
    "A loading plot shows how strongly each characteristic influences a principal component."
   ]
  },
  {
   "cell_type": "code",
   "execution_count": 86,
   "metadata": {},
   "outputs": [
    {
     "data": {
      "image/png": "[encoded data removed]",
      "text/plain": [
       "<Figure size 432x288 with 1 Axes>"
      ]
     },
     "metadata": {},
     "output_type": "display_data"
    }
   ],
   "source": [
    "def loading_plot(pca, data_scaled):\n",
    "    x_idx = 0  # x_pca\n",
    "    y_idx = 1  # y_pca\n",
    "    comps = pd.DataFrame(pca.components_, columns=data_scaled.columns)\n",
    "    scale = 8\n",
    "    for idx, s in comps.T.iterrows():\n",
    "        plt.arrow(0, 0, s[x_idx] * scale, s[y_idx] * scale, color=\"k\")\n",
    "        plt.text(s[x_idx] * scale, s[y_idx] * scale, idx, weight=\"bold\")\n",
    "\n",
    "\n",
    "loading_plot(pca, x_train_scale)"
   ]
  },
  {
   "cell_type": "markdown",
   "metadata": {},
   "source": [
    "See how these vectors are pinned at the origin of PCAs. The project values on each PCA show how much weight they have on that PCA. In this example, Sex has strongly influence PC1. The nice thing about loading plots is the angles between the vectors tell us how characteristics correlate with one another.\n",
    "* When two vectors are close, forming a small angle, the two variables they represent are positively correlated. Example: `SibSp` and `Parch`\n",
    "* If they meet each other at 90°, they are not likely to be correlated. Example: `Fare` and `Age`\n",
    "* When they diverge and form a large angle (close to 180°), they are negative correlated.Example: `Pclass` and `Fare`\n",
    "Now that you know all that, reading a PCA biplot is a piece of cake."
   ]
  },
  {
   "cell_type": "markdown",
   "metadata": {},
   "source": [
    "#### Biplot with scatter plot and loading plot"
   ]
  },
  {
   "cell_type": "code",
   "execution_count": 87,
   "metadata": {},
   "outputs": [
    {
     "data": {
      "image/png": "[encoded data removed]",
      "text/plain": [
       "<Figure size 576x576 with 1 Axes>"
      ]
     },
     "metadata": {},
     "output_type": "display_data"
    }
   ],
   "source": [
    "score_plot(pca_df)\n",
    "loading_plot(pca, x_train_scale)"
   ]
  },
  {
   "cell_type": "markdown",
   "metadata": {},
   "source": [
    "In short, base on the PCA we know that the idea number of the component to reduce the curse of dimensionality is 5, which mean we can understand it as only five feature is essential to our model to make the prediction. After the exam, the feature importance and perform the feature selection. We may need to drop the `SibSp` and `Parch` features.\n",
    "\n",
    "> *Notes:* There are few more ways to reduce dimension, such as `UMAP`, `t_SNE` and `LDA`. You may go [here](https://towardsdatascience.com/dimensionality-reduction-for-data-visualization-pca-vs-tsne-vs-umap-be4aa7b1cb29) to study it further."
   ]
  },
  {
   "cell_type": "code",
   "execution_count": 88,
   "metadata": {},
   "outputs": [],
   "source": [
    "feature_pipe = Pipeline(\n",
    "    steps=[('DropSibSpParch', DropData(['SibSp', 'Parch']))])\n",
    "x_train_exp1 = feature_pipe.fit_transform(x_train)\n",
    "x_valid_exp1 = feature_pipe.fit_transform(x_valid)\n",
    "x_test_exp1 = feature_pipe.fit_transform(x_test)"
   ]
  },
  {
   "cell_type": "code",
   "execution_count": 89,
   "metadata": {},
   "outputs": [
    {
     "name": "stdout",
     "output_type": "stream",
     "text": [
      "                 Model     Score\n",
      "0                  SVM  1.000000\n",
      "2  Logistic Regression  0.910543\n",
      "3        Random Forest  0.811502\n",
      "4        Decision Tree  0.744409\n",
      "1                  KNN  0.709265\n"
     ]
    }
   ],
   "source": [
    "mlpipe_af = Pipeline(steps=[\n",
    "    ('MLModels', MLModels(model_names, models, x_valid_exp1, y_valid))\n",
    "])\n",
    "\n",
    "best_model = mlpipe_af.fit_transform(x_train_exp1, y_train).Model_func\n",
    "k_fold(best_model, x_train, y_train)"
   ]
  },
  {
   "cell_type": "markdown",
   "metadata": {},
   "source": [
    "Based on the model summary, the accuracy score has been improving from 0.95 to 1. It is shown that the feature selection does help in enhancing the training accuracy. In the next session, we will use grid search to optimize the model hyperparameter."
   ]
  },
  {
   "cell_type": "markdown",
   "metadata": {},
   "source": [
    "## <a name=\"Grid\"> Grid Search Hyperparameter Tuning"
   ]
  },
  {
   "cell_type": "code",
   "execution_count": 90,
   "metadata": {},
   "outputs": [
    {
     "data": {
      "text/plain": [
       "dict_keys(['C', 'break_ties', 'cache_size', 'class_weight', 'coef0', 'decision_function_shape', 'degree', 'gamma', 'kernel', 'max_iter', 'probability', 'random_state', 'shrinking', 'tol', 'verbose'])"
      ]
     },
     "execution_count": 90,
     "metadata": {},
     "output_type": "execute_result"
    }
   ],
   "source": [
    "best_model.get_params().keys()"
   ]
  },
  {
   "cell_type": "code",
   "execution_count": 91,
   "metadata": {},
   "outputs": [],
   "source": [
    "parameteres = {'C': [0.001, 0.1, 10, 100, 10e5], 'gamma': [0.1, 0.01]}"
   ]
  },
  {
   "cell_type": "code",
   "execution_count": 92,
   "metadata": {},
   "outputs": [],
   "source": [
    "from sklearn.model_selection import GridSearchCV\n",
    "grid = GridSearchCV(best_model, param_grid=parameteres, cv=2)"
   ]
  },
  {
   "cell_type": "code",
   "execution_count": 93,
   "metadata": {},
   "outputs": [
    {
     "data": {
      "text/html": [
       "<div>\n",
       "<style scoped>\n",
       "    .dataframe tbody tr th:only-of-type {\n",
       "        vertical-align: middle;\n",
       "    }\n",
       "\n",
       "    .dataframe tbody tr th {\n",
       "        vertical-align: top;\n",
       "    }\n",
       "\n",
       "    .dataframe thead th {\n",
       "        text-align: right;\n",
       "    }\n",
       "</style>\n",
       "<table border=\"1\" class=\"dataframe\">\n",
       "  <thead>\n",
       "    <tr style=\"text-align: right;\">\n",
       "      <th></th>\n",
       "      <th>Pclass</th>\n",
       "      <th>Sex</th>\n",
       "      <th>Age</th>\n",
       "      <th>SibSp</th>\n",
       "      <th>Parch</th>\n",
       "      <th>Fare</th>\n",
       "      <th>Title</th>\n",
       "      <th>Embarked_C</th>\n",
       "      <th>Embarked_Q</th>\n",
       "      <th>Embarked_S</th>\n",
       "    </tr>\n",
       "  </thead>\n",
       "  <tbody>\n",
       "    <tr>\n",
       "      <th>0</th>\n",
       "      <td>3</td>\n",
       "      <td>1</td>\n",
       "      <td>34.5</td>\n",
       "      <td>0</td>\n",
       "      <td>0</td>\n",
       "      <td>7.8292</td>\n",
       "      <td>1.0</td>\n",
       "      <td>0</td>\n",
       "      <td>1</td>\n",
       "      <td>0</td>\n",
       "    </tr>\n",
       "    <tr>\n",
       "      <th>1</th>\n",
       "      <td>3</td>\n",
       "      <td>0</td>\n",
       "      <td>47.0</td>\n",
       "      <td>1</td>\n",
       "      <td>0</td>\n",
       "      <td>7.0000</td>\n",
       "      <td>3.0</td>\n",
       "      <td>0</td>\n",
       "      <td>0</td>\n",
       "      <td>1</td>\n",
       "    </tr>\n",
       "    <tr>\n",
       "      <th>2</th>\n",
       "      <td>2</td>\n",
       "      <td>1</td>\n",
       "      <td>62.0</td>\n",
       "      <td>0</td>\n",
       "      <td>0</td>\n",
       "      <td>9.6875</td>\n",
       "      <td>1.0</td>\n",
       "      <td>0</td>\n",
       "      <td>1</td>\n",
       "      <td>0</td>\n",
       "    </tr>\n",
       "    <tr>\n",
       "      <th>3</th>\n",
       "      <td>3</td>\n",
       "      <td>1</td>\n",
       "      <td>27.0</td>\n",
       "      <td>0</td>\n",
       "      <td>0</td>\n",
       "      <td>8.6625</td>\n",
       "      <td>1.0</td>\n",
       "      <td>0</td>\n",
       "      <td>0</td>\n",
       "      <td>1</td>\n",
       "    </tr>\n",
       "    <tr>\n",
       "      <th>4</th>\n",
       "      <td>3</td>\n",
       "      <td>0</td>\n",
       "      <td>22.0</td>\n",
       "      <td>1</td>\n",
       "      <td>1</td>\n",
       "      <td>12.2875</td>\n",
       "      <td>3.0</td>\n",
       "      <td>0</td>\n",
       "      <td>0</td>\n",
       "      <td>1</td>\n",
       "    </tr>\n",
       "    <tr>\n",
       "      <th>...</th>\n",
       "      <td>...</td>\n",
       "      <td>...</td>\n",
       "      <td>...</td>\n",
       "      <td>...</td>\n",
       "      <td>...</td>\n",
       "      <td>...</td>\n",
       "      <td>...</td>\n",
       "      <td>...</td>\n",
       "      <td>...</td>\n",
       "      <td>...</td>\n",
       "    </tr>\n",
       "    <tr>\n",
       "      <th>308</th>\n",
       "      <td>1</td>\n",
       "      <td>1</td>\n",
       "      <td>55.0</td>\n",
       "      <td>1</td>\n",
       "      <td>1</td>\n",
       "      <td>93.5000</td>\n",
       "      <td>1.0</td>\n",
       "      <td>0</td>\n",
       "      <td>0</td>\n",
       "      <td>1</td>\n",
       "    </tr>\n",
       "    <tr>\n",
       "      <th>309</th>\n",
       "      <td>3</td>\n",
       "      <td>0</td>\n",
       "      <td>45.0</td>\n",
       "      <td>1</td>\n",
       "      <td>0</td>\n",
       "      <td>14.1083</td>\n",
       "      <td>3.0</td>\n",
       "      <td>0</td>\n",
       "      <td>0</td>\n",
       "      <td>1</td>\n",
       "    </tr>\n",
       "    <tr>\n",
       "      <th>310</th>\n",
       "      <td>3</td>\n",
       "      <td>1</td>\n",
       "      <td>18.0</td>\n",
       "      <td>0</td>\n",
       "      <td>0</td>\n",
       "      <td>8.6625</td>\n",
       "      <td>1.0</td>\n",
       "      <td>0</td>\n",
       "      <td>0</td>\n",
       "      <td>1</td>\n",
       "    </tr>\n",
       "    <tr>\n",
       "      <th>311</th>\n",
       "      <td>3</td>\n",
       "      <td>1</td>\n",
       "      <td>22.0</td>\n",
       "      <td>0</td>\n",
       "      <td>0</td>\n",
       "      <td>7.2250</td>\n",
       "      <td>1.0</td>\n",
       "      <td>1</td>\n",
       "      <td>0</td>\n",
       "      <td>0</td>\n",
       "    </tr>\n",
       "    <tr>\n",
       "      <th>312</th>\n",
       "      <td>3</td>\n",
       "      <td>1</td>\n",
       "      <td>27.0</td>\n",
       "      <td>0</td>\n",
       "      <td>0</td>\n",
       "      <td>7.5750</td>\n",
       "      <td>1.0</td>\n",
       "      <td>0</td>\n",
       "      <td>0</td>\n",
       "      <td>1</td>\n",
       "    </tr>\n",
       "  </tbody>\n",
       "</table>\n",
       "<p>313 rows × 10 columns</p>\n",
       "</div>"
      ],
      "text/plain": [
       "     Pclass  Sex   Age  SibSp  Parch     Fare  Title  Embarked_C  Embarked_Q  \\\n",
       "0         3    1  34.5      0      0   7.8292    1.0           0           1   \n",
       "1         3    0  47.0      1      0   7.0000    3.0           0           0   \n",
       "2         2    1  62.0      0      0   9.6875    1.0           0           1   \n",
       "3         3    1  27.0      0      0   8.6625    1.0           0           0   \n",
       "4         3    0  22.0      1      1  12.2875    3.0           0           0   \n",
       "..      ...  ...   ...    ...    ...      ...    ...         ...         ...   \n",
       "308       1    1  55.0      1      1  93.5000    1.0           0           0   \n",
       "309       3    0  45.0      1      0  14.1083    3.0           0           0   \n",
       "310       3    1  18.0      0      0   8.6625    1.0           0           0   \n",
       "311       3    1  22.0      0      0   7.2250    1.0           1           0   \n",
       "312       3    1  27.0      0      0   7.5750    1.0           0           0   \n",
       "\n",
       "     Embarked_S  \n",
       "0             0  \n",
       "1             1  \n",
       "2             0  \n",
       "3             1  \n",
       "4             1  \n",
       "..          ...  \n",
       "308           1  \n",
       "309           1  \n",
       "310           1  \n",
       "311           0  \n",
       "312           1  \n",
       "\n",
       "[313 rows x 10 columns]"
      ]
     },
     "execution_count": 93,
     "metadata": {},
     "output_type": "execute_result"
    }
   ],
   "source": [
    "x_valid"
   ]
  },
  {
   "cell_type": "code",
   "execution_count": 94,
   "metadata": {},
   "outputs": [
    {
     "data": {
      "text/plain": [
       "GridSearchCV(cv=2, estimator=SVC(kernel='linear', probability=True),\n",
       "             param_grid={'C': [0.001, 0.1, 10, 100, 1000000.0],\n",
       "                         'gamma': [0.1, 0.01]})"
      ]
     },
     "execution_count": 94,
     "metadata": {},
     "output_type": "execute_result"
    }
   ],
   "source": [
    "grid.fit(x_valid_exp1, y_valid)"
   ]
  },
  {
   "cell_type": "code",
   "execution_count": 95,
   "metadata": {},
   "outputs": [
    {
     "name": "stdout",
     "output_type": "stream",
     "text": [
      "score = 1.00\n"
     ]
    }
   ],
   "source": [
    "print(\"score = %3.2f\" % (grid.score(x_valid_exp1, y_valid)))"
   ]
  },
  {
   "cell_type": "code",
   "execution_count": 96,
   "metadata": {},
   "outputs": [
    {
     "name": "stdout",
     "output_type": "stream",
     "text": [
      "{'C': 0.1, 'gamma': 0.1}\n"
     ]
    }
   ],
   "source": [
    "print(grid.best_params_)"
   ]
  },
  {
   "cell_type": "code",
   "execution_count": 97,
   "metadata": {},
   "outputs": [
    {
     "name": "stdout",
     "output_type": "stream",
     "text": [
      "SVC(C=0.1, gamma=0.1, kernel='linear', probability=True)\n"
     ]
    }
   ],
   "source": [
    "# Stores the optimum model in best_pipe\n",
    "best_ml = grid.best_estimator_\n",
    "print(best_ml)"
   ]
  },
  {
   "cell_type": "markdown",
   "metadata": {},
   "source": [
    "## <a name=\"Further\">Further evaluation on the test set\n",
    "After optimizing our model using several techniques like feature selection and cross-validation, we may start applying our model with the test set to evaluate the result further.\n",
    "### Confusion Matrix\n",
    "A confusion matrix is a table used to describe the performance of a classification model (or \"classifier\") on a set of test data for which the actual values are known."
   ]
  },
  {
   "cell_type": "code",
   "execution_count": 98,
   "metadata": {},
   "outputs": [
    {
     "data": {
      "text/html": [
       "<div>\n",
       "<style scoped>\n",
       "    .dataframe tbody tr th:only-of-type {\n",
       "        vertical-align: middle;\n",
       "    }\n",
       "\n",
       "    .dataframe tbody tr th {\n",
       "        vertical-align: top;\n",
       "    }\n",
       "\n",
       "    .dataframe thead th {\n",
       "        text-align: right;\n",
       "    }\n",
       "</style>\n",
       "<table border=\"1\" class=\"dataframe\">\n",
       "  <thead>\n",
       "    <tr style=\"text-align: right;\">\n",
       "      <th></th>\n",
       "      <th>Pclass</th>\n",
       "      <th>Sex</th>\n",
       "      <th>Age</th>\n",
       "      <th>Fare</th>\n",
       "      <th>Title</th>\n",
       "      <th>Embarked_C</th>\n",
       "      <th>Embarked_Q</th>\n",
       "      <th>Embarked_S</th>\n",
       "    </tr>\n",
       "  </thead>\n",
       "  <tbody>\n",
       "    <tr>\n",
       "      <th>313</th>\n",
       "      <td>3</td>\n",
       "      <td>0</td>\n",
       "      <td>37.0</td>\n",
       "      <td>7.7500</td>\n",
       "      <td>2.0</td>\n",
       "      <td>0</td>\n",
       "      <td>1</td>\n",
       "      <td>0</td>\n",
       "    </tr>\n",
       "    <tr>\n",
       "      <th>314</th>\n",
       "      <td>1</td>\n",
       "      <td>0</td>\n",
       "      <td>55.0</td>\n",
       "      <td>135.6333</td>\n",
       "      <td>3.0</td>\n",
       "      <td>1</td>\n",
       "      <td>0</td>\n",
       "      <td>0</td>\n",
       "    </tr>\n",
       "    <tr>\n",
       "      <th>315</th>\n",
       "      <td>3</td>\n",
       "      <td>0</td>\n",
       "      <td>17.0</td>\n",
       "      <td>7.7333</td>\n",
       "      <td>2.0</td>\n",
       "      <td>0</td>\n",
       "      <td>1</td>\n",
       "      <td>0</td>\n",
       "    </tr>\n",
       "    <tr>\n",
       "      <th>316</th>\n",
       "      <td>1</td>\n",
       "      <td>1</td>\n",
       "      <td>57.0</td>\n",
       "      <td>146.5208</td>\n",
       "      <td>1.0</td>\n",
       "      <td>1</td>\n",
       "      <td>0</td>\n",
       "      <td>0</td>\n",
       "    </tr>\n",
       "    <tr>\n",
       "      <th>317</th>\n",
       "      <td>2</td>\n",
       "      <td>1</td>\n",
       "      <td>19.0</td>\n",
       "      <td>10.5000</td>\n",
       "      <td>1.0</td>\n",
       "      <td>0</td>\n",
       "      <td>0</td>\n",
       "      <td>1</td>\n",
       "    </tr>\n",
       "    <tr>\n",
       "      <th>...</th>\n",
       "      <td>...</td>\n",
       "      <td>...</td>\n",
       "      <td>...</td>\n",
       "      <td>...</td>\n",
       "      <td>...</td>\n",
       "      <td>...</td>\n",
       "      <td>...</td>\n",
       "      <td>...</td>\n",
       "    </tr>\n",
       "    <tr>\n",
       "      <th>413</th>\n",
       "      <td>3</td>\n",
       "      <td>1</td>\n",
       "      <td>27.0</td>\n",
       "      <td>8.0500</td>\n",
       "      <td>1.0</td>\n",
       "      <td>0</td>\n",
       "      <td>0</td>\n",
       "      <td>1</td>\n",
       "    </tr>\n",
       "    <tr>\n",
       "      <th>414</th>\n",
       "      <td>1</td>\n",
       "      <td>0</td>\n",
       "      <td>39.0</td>\n",
       "      <td>108.9000</td>\n",
       "      <td>0.0</td>\n",
       "      <td>1</td>\n",
       "      <td>0</td>\n",
       "      <td>0</td>\n",
       "    </tr>\n",
       "    <tr>\n",
       "      <th>415</th>\n",
       "      <td>3</td>\n",
       "      <td>1</td>\n",
       "      <td>38.5</td>\n",
       "      <td>7.2500</td>\n",
       "      <td>1.0</td>\n",
       "      <td>0</td>\n",
       "      <td>0</td>\n",
       "      <td>1</td>\n",
       "    </tr>\n",
       "    <tr>\n",
       "      <th>416</th>\n",
       "      <td>3</td>\n",
       "      <td>1</td>\n",
       "      <td>27.0</td>\n",
       "      <td>8.0500</td>\n",
       "      <td>1.0</td>\n",
       "      <td>0</td>\n",
       "      <td>0</td>\n",
       "      <td>1</td>\n",
       "    </tr>\n",
       "    <tr>\n",
       "      <th>417</th>\n",
       "      <td>3</td>\n",
       "      <td>1</td>\n",
       "      <td>27.0</td>\n",
       "      <td>22.3583</td>\n",
       "      <td>4.0</td>\n",
       "      <td>1</td>\n",
       "      <td>0</td>\n",
       "      <td>0</td>\n",
       "    </tr>\n",
       "  </tbody>\n",
       "</table>\n",
       "<p>105 rows × 8 columns</p>\n",
       "</div>"
      ],
      "text/plain": [
       "     Pclass  Sex   Age      Fare  Title  Embarked_C  Embarked_Q  Embarked_S\n",
       "313       3    0  37.0    7.7500    2.0           0           1           0\n",
       "314       1    0  55.0  135.6333    3.0           1           0           0\n",
       "315       3    0  17.0    7.7333    2.0           0           1           0\n",
       "316       1    1  57.0  146.5208    1.0           1           0           0\n",
       "317       2    1  19.0   10.5000    1.0           0           0           1\n",
       "..      ...  ...   ...       ...    ...         ...         ...         ...\n",
       "413       3    1  27.0    8.0500    1.0           0           0           1\n",
       "414       1    0  39.0  108.9000    0.0           1           0           0\n",
       "415       3    1  38.5    7.2500    1.0           0           0           1\n",
       "416       3    1  27.0    8.0500    1.0           0           0           1\n",
       "417       3    1  27.0   22.3583    4.0           1           0           0\n",
       "\n",
       "[105 rows x 8 columns]"
      ]
     },
     "execution_count": 98,
     "metadata": {},
     "output_type": "execute_result"
    }
   ],
   "source": [
    "x_test_exp1"
   ]
  },
  {
   "cell_type": "code",
   "execution_count": 99,
   "metadata": {},
   "outputs": [
    {
     "data": {
      "text/plain": [
       "array([[66,  0],\n",
       "       [ 0, 39]], dtype=int64)"
      ]
     },
     "execution_count": 99,
     "metadata": {},
     "output_type": "execute_result"
    }
   ],
   "source": [
    "from sklearn.metrics import confusion_matrix\n",
    "y_pred = best_ml.predict(x_test_exp1)\n",
    "cf_matrix = confusion_matrix(y_test, y_pred)\n",
    "cf_matrix"
   ]
  },
  {
   "cell_type": "code",
   "execution_count": 100,
   "metadata": {},
   "outputs": [
    {
     "name": "stdout",
     "output_type": "stream",
     "text": [
      "Precision: 1.0\n",
      "Recall: 1.0\n",
      "F1-Score: 1.0\n"
     ]
    },
    {
     "data": {
      "image/png": "[encoded data removed]",
      "text/plain": [
       "<Figure size 432x288 with 2 Axes>"
      ]
     },
     "metadata": {},
     "output_type": "display_data"
    }
   ],
   "source": [
    "from sklearn.metrics import precision_score, recall_score\n",
    "from sklearn.metrics import f1_score\n",
    "\n",
    "group_names = ['True Neg', 'False Pos', 'False Neg', 'True Pos']\n",
    "group_counts = [\"{0:0.0f}\".format(value) for value in\n",
    "                cf_matrix.flatten()]\n",
    "group_percentages = [\"{0:.2%}\".format(value) for value in\n",
    "                     cf_matrix.flatten()/np.sum(cf_matrix)]\n",
    "labels = [f\"{v1}\\n{v2}\\n{v3}\" for v1, v2, v3 in\n",
    "          zip(group_names, group_counts, group_percentages)]\n",
    "labels = np.asarray(labels).reshape(2, 2)\n",
    "sns.heatmap(cf_matrix, annot=labels, fmt='', cmap='Blues')\n",
    "plt.ylabel('True label')\n",
    "plt.xlabel('Predicted label')\n",
    "\n",
    "print(\"Precision:\", precision_score(y_test, y_pred))\n",
    "print(\"Recall:\", recall_score(y_test, y_pred))\n",
    "print(\"F1-Score:\", f1_score(y_test, y_pred))"
   ]
  },
  {
   "cell_type": "markdown",
   "metadata": {},
   "source": [
    "## <a name=\"Precision\">Precision-Recall Curve\n",
    "For each person, the classification algorithm has to classify. It computes a probability based on a function and classifies the person as survived (when the score is more significant than the threshold) or not survived (when the score is smaller than the threshold). That’s why the threshold plays an important part."
   ]
  },
  {
   "cell_type": "code",
   "execution_count": 101,
   "metadata": {},
   "outputs": [
    {
     "data": {
      "image/png": "[encoded data removed]",
      "text/plain": [
       "<Figure size 1008x504 with 1 Axes>"
      ]
     },
     "metadata": {},
     "output_type": "display_data"
    }
   ],
   "source": [
    "from sklearn.metrics import precision_recall_curve\n",
    "y_scores = best_ml.predict_proba(x_valid_exp1)\n",
    "y_scores = y_scores[:, 1]\n",
    "precision, recall, threshold = precision_recall_curve(y_valid, y_scores)\n",
    "\n",
    "\n",
    "def plot_precision_and_recall(precision, recall, threshold):\n",
    "    plt.plot(threshold, precision[:-1], \"r-\", label=\"precision\", linewidth=5)\n",
    "    plt.plot(threshold, recall[:-1], \"b\", label=\"recall\", linewidth=5)\n",
    "    plt.xlabel(\"threshold\", fontsize=19)\n",
    "    plt.legend(loc=\"upper right\", fontsize=19)\n",
    "    plt.ylim([0, 1])\n",
    "\n",
    "\n",
    "plt.figure(figsize=(14, 7))\n",
    "plot_precision_and_recall(precision, recall, threshold)\n",
    "plt.show()"
   ]
  },
  {
   "cell_type": "markdown",
   "metadata": {},
   "source": [
    "Above, you can see that the recall is falling rapidly at a precision of around 95%. Because of that, you may want to select the precision/recall tradeoff before that — maybe at about 97%. You can now choose a threshold that gives you the best precision/recall tradeoff for your current machine learning problem. For example, if you want a precision of 100%, you can quickly look at the plots and see that you would need a threshold of around 0.991290. Then you could train a model with precisely that threshold and would get the desired accuracy."
   ]
  },
  {
   "cell_type": "markdown",
   "metadata": {},
   "source": [
    "## <a name=\"Summary\">Summary\n",
    "Let's build an inference pipeline and inference the model with some dummy data.\n",
    "### Will Jack and survive during titanic?\n",
    "![image](https://user-images.githubusercontent.com/59526258/136179823-7cc66b02-0bf8-4fc8-8ce8-f38e0c8f0cb5.png)"
   ]
  },
  {
   "cell_type": "code",
   "execution_count": 102,
   "metadata": {},
   "outputs": [
    {
     "data": {
      "text/html": [
       "<div>\n",
       "<style scoped>\n",
       "    .dataframe tbody tr th:only-of-type {\n",
       "        vertical-align: middle;\n",
       "    }\n",
       "\n",
       "    .dataframe tbody tr th {\n",
       "        vertical-align: top;\n",
       "    }\n",
       "\n",
       "    .dataframe thead th {\n",
       "        text-align: right;\n",
       "    }\n",
       "</style>\n",
       "<table border=\"1\" class=\"dataframe\">\n",
       "  <thead>\n",
       "    <tr style=\"text-align: right;\">\n",
       "      <th></th>\n",
       "      <th>PassengerId</th>\n",
       "      <th>Pclass</th>\n",
       "      <th>Name</th>\n",
       "      <th>Sex</th>\n",
       "      <th>Age</th>\n",
       "      <th>SibSp</th>\n",
       "      <th>Parch</th>\n",
       "      <th>Ticket</th>\n",
       "      <th>Fare</th>\n",
       "      <th>Cabin</th>\n",
       "      <th>Embarked</th>\n",
       "    </tr>\n",
       "  </thead>\n",
       "  <tbody>\n",
       "    <tr>\n",
       "      <th>0</th>\n",
       "      <td>99</td>\n",
       "      <td>3</td>\n",
       "      <td>Jack Dawson</td>\n",
       "      <td>male</td>\n",
       "      <td>20.0</td>\n",
       "      <td>0</td>\n",
       "      <td>0</td>\n",
       "      <td>ABC123</td>\n",
       "      <td>3.0</td>\n",
       "      <td>None</td>\n",
       "      <td>None</td>\n",
       "    </tr>\n",
       "    <tr>\n",
       "      <th>1</th>\n",
       "      <td>100</td>\n",
       "      <td>1</td>\n",
       "      <td>Rose DeWitt Bukater</td>\n",
       "      <td>female</td>\n",
       "      <td>20.0</td>\n",
       "      <td>0</td>\n",
       "      <td>0</td>\n",
       "      <td>ABC124</td>\n",
       "      <td>70.0</td>\n",
       "      <td>None</td>\n",
       "      <td>C</td>\n",
       "    </tr>\n",
       "    <tr>\n",
       "      <th>2</th>\n",
       "      <td>101</td>\n",
       "      <td>2</td>\n",
       "      <td>BK Yeoh</td>\n",
       "      <td>male</td>\n",
       "      <td>26.0</td>\n",
       "      <td>0</td>\n",
       "      <td>0</td>\n",
       "      <td>ABC125</td>\n",
       "      <td>20.0</td>\n",
       "      <td>None</td>\n",
       "      <td>Q</td>\n",
       "    </tr>\n",
       "  </tbody>\n",
       "</table>\n",
       "</div>"
      ],
      "text/plain": [
       "   PassengerId  Pclass                 Name     Sex   Age  SibSp  Parch  \\\n",
       "0           99       3          Jack Dawson    male  20.0      0      0   \n",
       "1          100       1  Rose DeWitt Bukater  female  20.0      0      0   \n",
       "2          101       2              BK Yeoh    male  26.0      0      0   \n",
       "\n",
       "   Ticket  Fare Cabin Embarked  \n",
       "0  ABC123   3.0  None     None  \n",
       "1  ABC124  70.0  None        C  \n",
       "2  ABC125  20.0  None        Q  "
      ]
     },
     "execution_count": 102,
     "metadata": {},
     "output_type": "execute_result"
    }
   ],
   "source": [
    "new_input = {'PassengerId': [99, 100, 101], 'Pclass': [3, 1, 2], 'Name': [\"Jack Dawson\", \"Rose DeWitt Bukater\", \"BK Yeoh\"],\n",
    "             'Sex': [\"male\", \"female\", \"male\"],\n",
    "             'Age': [20.0, 20.0, 26.0], 'SibSp': [0, 0, 0], 'Parch': [0, 0, 0], 'Ticket': [\"ABC123\", \"ABC124\", \"ABC125\"], 'Fare': [3.0, 70.0, 20.0], 'Cabin': [None, None, None], 'Embarked': [None, \"C\", \"Q\"]}\n",
    "\n",
    "new_df = pd.DataFrame(new_input)\n",
    "new_df"
   ]
  },
  {
   "cell_type": "markdown",
   "metadata": {},
   "source": [
    "![image](https://user-images.githubusercontent.com/59526258/135563156-c82ecf6c-803b-4c96-b082-11aed171011f.png)\n",
    "In the inference pipeline, we will add one new component which is the data validation. The data validation act as a checker to check the data source is meet with our predefined schema using the `pandera` library. This is to make sure that the data source is aligned with the format that our data preprocessing pipeline. If some edges cases are not able to solve by our data preprocessing pipeline. The `pandera` will generate a report base on the column that causes the error. "
   ]
  },
  {
   "cell_type": "code",
   "execution_count": 103,
   "metadata": {},
   "outputs": [],
   "source": [
    "import pandera as pa\n",
    "\n",
    "\n",
    "def schema(input_df):\n",
    "\n",
    "    schema = pa.DataFrameSchema({\n",
    "        \"PassengerId\": pa.Column(pa.Int, nullable=False),\n",
    "        \"Pclass\": pa.Column(pa.Int, nullable=False),\n",
    "        \"Name\": pa.Column(pa.String, nullable=False),\n",
    "        \"Sex\": pa.Column(pa.String, nullable=False),\n",
    "        \"Age\": pa.Column(pa.Float, nullable=True),\n",
    "        \"SibSp\": pa.Column(pa.Int),\n",
    "        \"Parch\": pa.Column(pa.Int, nullable=False),\n",
    "        \"Ticket\": pa.Column(pa.String),\n",
    "        \"Fare\": pa.Column(pa.Float, nullable=True),\n",
    "        \"Cabin\": pa.Column(pa.String, nullable=True),\n",
    "        \"Embarked\": pa.Column(pa.String, nullable=True),\n",
    "    })\n",
    "\n",
    "    schema.validate(input_df, lazy=True)\n",
    "\n",
    "\n",
    "class CheckSchema():\n",
    "    def __init__(self, func):\n",
    "        self.func = func\n",
    "\n",
    "    def fit(self, input_df, y=None):\n",
    "        return self\n",
    "\n",
    "    def transform(self, input_df, *args, **kwargs):\n",
    "        self.func(input_df)\n",
    "        return input_df"
   ]
  },
  {
   "cell_type": "code",
   "execution_count": 104,
   "metadata": {},
   "outputs": [],
   "source": [
    "preprocess_pipe = Pipeline(steps=[\n",
    "    ('CheckSchema', CheckSchema(schema)),\n",
    "    ('Drop', DropData(['Cabin', 'Ticket', 'PassengerId'])),\n",
    "    ('CreateTitle', CreateTitle()),\n",
    "    ('DropName', DropData(['Name'])),\n",
    "    ('LabelEncode', ModifiedLabelEncoder('Sex')),\n",
    "    ('ImputeAge', Impute('Age', 'median')),\n",
    "    ('ImputeFare', Impute('Fare', 'median')),\n",
    "    ('ImputeEmbarked', Impute('Embarked', \"mode\")),\n",
    "    ('OneHotEncoder', CustomOneHotEncoder('Embarked')),\n",
    "    ('DropSibSpParch', DropData(['SibSp', 'Parch']))])\n",
    "\n",
    "ml_pipe = Pipeline(steps=[\n",
    "    ('BestML', best_ml)])"
   ]
  },
  {
   "cell_type": "code",
   "execution_count": 105,
   "metadata": {},
   "outputs": [
    {
     "data": {
      "text/html": [
       "<div>\n",
       "<style scoped>\n",
       "    .dataframe tbody tr th:only-of-type {\n",
       "        vertical-align: middle;\n",
       "    }\n",
       "\n",
       "    .dataframe tbody tr th {\n",
       "        vertical-align: top;\n",
       "    }\n",
       "\n",
       "    .dataframe thead th {\n",
       "        text-align: right;\n",
       "    }\n",
       "</style>\n",
       "<table border=\"1\" class=\"dataframe\">\n",
       "  <thead>\n",
       "    <tr style=\"text-align: right;\">\n",
       "      <th></th>\n",
       "      <th>Pclass</th>\n",
       "      <th>Sex</th>\n",
       "      <th>Age</th>\n",
       "      <th>Fare</th>\n",
       "      <th>Title</th>\n",
       "      <th>Embarked_C</th>\n",
       "      <th>Embarked_Q</th>\n",
       "      <th>Embarked_S</th>\n",
       "    </tr>\n",
       "  </thead>\n",
       "  <tbody>\n",
       "    <tr>\n",
       "      <th>0</th>\n",
       "      <td>3</td>\n",
       "      <td>1</td>\n",
       "      <td>20.0</td>\n",
       "      <td>3.0</td>\n",
       "      <td>0.0</td>\n",
       "      <td>0</td>\n",
       "      <td>0</td>\n",
       "      <td>1</td>\n",
       "    </tr>\n",
       "    <tr>\n",
       "      <th>1</th>\n",
       "      <td>1</td>\n",
       "      <td>0</td>\n",
       "      <td>20.0</td>\n",
       "      <td>70.0</td>\n",
       "      <td>0.0</td>\n",
       "      <td>1</td>\n",
       "      <td>0</td>\n",
       "      <td>0</td>\n",
       "    </tr>\n",
       "    <tr>\n",
       "      <th>2</th>\n",
       "      <td>2</td>\n",
       "      <td>1</td>\n",
       "      <td>26.0</td>\n",
       "      <td>20.0</td>\n",
       "      <td>0.0</td>\n",
       "      <td>0</td>\n",
       "      <td>1</td>\n",
       "      <td>0</td>\n",
       "    </tr>\n",
       "  </tbody>\n",
       "</table>\n",
       "</div>"
      ],
      "text/plain": [
       "   Pclass  Sex   Age  Fare  Title  Embarked_C  Embarked_Q  Embarked_S\n",
       "0       3    1  20.0   3.0    0.0           0           0           1\n",
       "1       1    0  20.0  70.0    0.0           1           0           0\n",
       "2       2    1  26.0  20.0    0.0           0           1           0"
      ]
     },
     "execution_count": 105,
     "metadata": {},
     "output_type": "execute_result"
    }
   ],
   "source": [
    "new_data = preprocess_pipe.fit_transform(new_df)\n",
    "new_data"
   ]
  },
  {
   "cell_type": "code",
   "execution_count": 106,
   "metadata": {},
   "outputs": [
    {
     "data": {
      "text/plain": [
       "array([0, 1, 0], dtype=int64)"
      ]
     },
     "execution_count": 106,
     "metadata": {},
     "output_type": "execute_result"
    }
   ],
   "source": [
    "ml_pipe.predict(new_data)"
   ]
  },
  {
   "cell_type": "markdown",
   "metadata": {},
   "source": [
    "Based on the our model performance, there is very high chance that the Jack and the author himself will not survive in the titanic incident. 😭"
   ]
  },
  {
   "cell_type": "markdown",
   "metadata": {},
   "source": [
    "## <a name=\"Contributors\">Contributors\n",
    "### Author\n",
    "BK Yeoh (boonkhai.yeoh@skymind.my)\n",
    "\n",
    "### Other Contributors\n",
    "Jing Zhi (jingzhi.loh@skymind.my), Azhar"
   ]
  },
  {
   "cell_type": "markdown",
   "metadata": {},
   "source": [
    "## <a name=\"Reference\">Reference"
   ]
  },
  {
   "cell_type": "markdown",
   "metadata": {},
   "source": [
    "1. [Machine Learning with the Titanic Dataset](https://towardsdatascience.com/machine-learning-with-the-titanic-dataset-7f6909e58280)\n",
    "2. [Titanic Data Science Solutions](https://www.kaggle.com/startupsci/titanic-data-science-solutions/notebook)\n",
    "3. [A Data Science Framework: To Achieve 99% Accuracy](https://www.kaggle.com/ldfreeman3/a-data-science-framework-to-achieve-99-accuracy)\n",
    "4. [Titanic Survival: Seaborn and Ensembles](https://www.kaggle.com/dejavu23/titanic-survival-seaborn-and-ensembles)\n",
    "5. [Hypothesis Testing Intuitively Explained using the Titanic Dataset in Python.](https://medium.datadriveninvestor.com/hypothesis-testing-intuitively-explained-using-the-titanic-dataset-in-python-5afa1e580ba6)\n",
    "6. [Titanic Dataset Inferences](https://rstudio-pubs-static.s3.amazonaws.com/362695_73c469aa99d9411b89a0d0b6bf516c4e.html)\n",
    "7. [How Automated Data Validation using Pandera Made Me More Productive!](https://towardsdatascience.com/how-automated-data-validation-made-me-more-productive-7d6b396776)\n",
    "8. [A Deep Dive Into Sklearn Pipelines](https://www.kaggle.com/baghern/a-deep-dive-into-sklearn-pipelines)\n",
    "9. [Titanic with Sklearn Pipelines](https://www.kaggle.com/wanderfj/titanic-with-sklearn-pipelines)\n",
    "10. [Predicting the Survival of Titanic Passengers](https://towardsdatascience.com/predicting-the-survival-of-titanic-passengers-30870ccc7e8)\n",
    "11. [Confusion Matrix Visualization](https://medium.com/@dtuk81/confusion-matrix-visualization-fc31e3f30fea)"
   ]
  }
 ],
 "metadata": {
  "kernelspec": {
   "display_name": "machine",
   "language": "python",
   "name": "machine"
  },
  "language_info": {
   "codemirror_mode": {
    "name": "ipython",
    "version": 3
   },
   "file_extension": ".py",
   "mimetype": "text/x-python",
   "name": "python",
   "nbconvert_exporter": "python",
   "pygments_lexer": "ipython3",
   "version": "3.7.3"
  }
 },
 "nbformat": 4,
 "nbformat_minor": 4
}
