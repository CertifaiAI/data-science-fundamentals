{
 "cells": [
  {
   "cell_type": "markdown",
   "source": [
    "![logo](https://user-images.githubusercontent.com/59526258/124226124-27125b80-db3b-11eb-8ba1-488d88018ebb.png)\r\n",
    "\r\n",
    "> **Copyright (c) 2021 CertifAI Sdn. Bhd.**<br>\r\n",
    " <br>\r\n",
    "This program is part of OSRFramework. You can redistribute it and/or modify\r\n",
    "<br>it under the terms of the GNU Affero General Public License as published by\r\n",
    "<br>the Free Software Foundation, either version 3 of the License, or\r\n",
    "<br>(at your option) any later version.\r\n",
    "<br>\r\n",
    "<br>This program is distributed in the hope that it will be useful,\r\n",
    "<br>but WITHOUT ANY WARRANTY; without even the implied warranty of\r\n",
    "<br>MERCHANTABILITY or FITNESS FOR A PARTICULAR PURPOSE.  See the\r\n",
    "<br>GNU Affero General Public License for more details.\r\n",
    "<br>\r\n",
    "<br>You should have received a copy of the GNU Affero General Public License\r\n",
    "<br>along with this program.  If not, see <http://www.gnu.org/licenses/>.\r\n",
    "<br>"
   ],
   "metadata": {
    "deletable": false,
    "editable": false
   }
  },
  {
   "cell_type": "markdown",
   "source": [
    "# Predict house price using Linear Regression"
   ],
   "metadata": {}
  },
  {
   "cell_type": "markdown",
   "source": [
    "## 1 - Import necessary packages\n",
    "\n",
    "Let's first import all the packages that you will need during this assignment.\n",
    "\n",
    "- **numpy** is the main package for scientific computing with Python.\n",
    "- **matplotlib** is a library to plot graphs in Python.\n",
    "- **sklearn** features various algorithms of machine learning in Python.\n",
    "- **pandas** is a high-level data manipulation tool in Python."
   ],
   "metadata": {}
  },
  {
   "cell_type": "code",
   "execution_count": null,
   "source": [
    "import numpy as np\r\n",
    "from sklearn import datasets\r\n",
    "from sklearn import model_selection\r\n",
    "from sklearn import metrics\r\n",
    "from sklearn.model_selection import train_test_split\r\n",
    "from sklearn.linear_model import LinearRegression\r\n",
    "import pandas as pd\r\n",
    "\r\n",
    "import matplotlib.pyplot as plt\r\n",
    "%matplotlib inline"
   ],
   "outputs": [],
   "metadata": {}
  },
  {
   "cell_type": "markdown",
   "source": [
    "## 2 - Load dataset\n",
    "\n",
    "Let's load our sample dataset which is provided by sklearn."
   ],
   "metadata": {}
  },
  {
   "cell_type": "code",
   "execution_count": null,
   "source": [
    "bhouse = datasets.load_boston()"
   ],
   "outputs": [],
   "metadata": {}
  },
  {
   "cell_type": "markdown",
   "source": [
    "`dir()` method tries to return a list of valid attributes of the object."
   ],
   "metadata": {}
  },
  {
   "cell_type": "code",
   "execution_count": null,
   "source": [
    "dir(bhouse)"
   ],
   "outputs": [],
   "metadata": {}
  },
  {
   "cell_type": "markdown",
   "source": [
    "**DESCR**: str\n",
    "<br>\n",
    "The full description of the dataset.\n",
    "\n",
    "**data**: ndarray of shape\n",
    "<br>\n",
    "The data matrix.\n",
    "\n",
    "**feature_names**: ndarray\n",
    "<br>\n",
    "The names of the features.\n",
    "\n",
    "**filename**: str\n",
    "<br>\n",
    "The physical location of boston csv dataset.\n",
    "\n",
    "**target**: ndarray of shape\n",
    "<br>\n",
    "The regression target."
   ],
   "metadata": {}
  },
  {
   "cell_type": "markdown",
   "source": [
    "Check the number of data."
   ],
   "metadata": {}
  },
  {
   "cell_type": "code",
   "execution_count": null,
   "source": [
    "bhouse.target.shape"
   ],
   "outputs": [],
   "metadata": {}
  },
  {
   "cell_type": "markdown",
   "source": [
    "Check feature names"
   ],
   "metadata": {}
  },
  {
   "cell_type": "code",
   "execution_count": null,
   "source": [
    "# TODO: Replace {} with your solution to check feature names\n",
    "bhouse.{}"
   ],
   "outputs": [],
   "metadata": {}
  },
  {
   "cell_type": "markdown",
   "source": [
    "Load features and targets"
   ],
   "metadata": {}
  },
  {
   "cell_type": "code",
   "execution_count": null,
   "source": [
    "# TODO: Replace {} with your solution to load features to \"data\"\n",
    "{} = bhouse.data.astype(np.float32)\n",
    "\n",
    "# TODO: Replace {} with your solution to load targets to \"target\"\n",
    "{} = bhouse.target.astype(np.float32)"
   ],
   "outputs": [],
   "metadata": {}
  },
  {
   "cell_type": "markdown",
   "source": [
    "Split the dataset"
   ],
   "metadata": {}
  },
  {
   "cell_type": "code",
   "execution_count": null,
   "source": [
    "# TODO: Replace {} with your solution to split the dataset into training and testing subset with ratio 7:3\n",
    "X_train, X_test, y_train, y_test = {}split(data, target, test_size=0.{}, random_state=123)"
   ],
   "outputs": [],
   "metadata": {}
  },
  {
   "cell_type": "markdown",
   "source": [
    "## 3 - Linear Regression"
   ],
   "metadata": {}
  },
  {
   "cell_type": "markdown",
   "source": [
    "Load linear regression model"
   ],
   "metadata": {}
  },
  {
   "cell_type": "code",
   "execution_count": null,
   "source": [
    "# TODO: Replace {} with your solution to Load Linear Regression Model\n",
    "model = {}Regression()"
   ],
   "outputs": [],
   "metadata": {}
  },
  {
   "cell_type": "markdown",
   "source": [
    "Fit the model with training data"
   ],
   "metadata": {}
  },
  {
   "cell_type": "code",
   "execution_count": null,
   "source": [
    "# TODO: Replace {} with your solution to fit the training data into the model\n",
    "model.{}(X_train, y_train)"
   ],
   "outputs": [],
   "metadata": {}
  },
  {
   "cell_type": "markdown",
   "source": [
    "Print out the coefficients.\n",
    "- A positive coefficient means as the value of the independent variable increases, the dependent variable also tends to increase. \n",
    "- A negative coefficient means as the value of the independent variable increases, the dependent variable tends to decrease."
   ],
   "metadata": {}
  },
  {
   "cell_type": "code",
   "execution_count": null,
   "source": [
    "# TODO: Replace {} with your solution to print out the coefficients.\n",
    "print(model.{})"
   ],
   "outputs": [],
   "metadata": {
    "scrolled": true
   }
  },
  {
   "cell_type": "markdown",
   "source": [
    "> The coefficients are the weights."
   ],
   "metadata": {}
  },
  {
   "cell_type": "code",
   "execution_count": null,
   "source": [
    "print(len(model.coef_))"
   ],
   "outputs": [],
   "metadata": {
    "scrolled": true
   }
  },
  {
   "cell_type": "markdown",
   "source": [
    "> There are 13 coefficients because there are 13 columns of features."
   ],
   "metadata": {}
  },
  {
   "cell_type": "markdown",
   "source": [
    "Print out the intercept."
   ],
   "metadata": {}
  },
  {
   "cell_type": "code",
   "execution_count": null,
   "source": [
    "# TODO: Replace {} with your solution to print out the intercept\n",
    "print(model.{})"
   ],
   "outputs": [],
   "metadata": {
    "scrolled": true
   }
  },
  {
   "cell_type": "markdown",
   "source": [
    "> The intercept of the equation is also the bias."
   ],
   "metadata": {}
  },
  {
   "cell_type": "markdown",
   "source": [
    "## 4 - Predict using the model"
   ],
   "metadata": {}
  },
  {
   "cell_type": "markdown",
   "source": [
    "Predict the results by using the trained model"
   ],
   "metadata": {}
  },
  {
   "cell_type": "code",
   "execution_count": null,
   "source": [
    "# TODO: Replace {} with your solution to predict the result using the traiined model\n",
    "# Input data is the test dataset.\n",
    "predictions = model.{}(X_test)"
   ],
   "outputs": [],
   "metadata": {}
  },
  {
   "cell_type": "markdown",
   "source": [
    "Plot the result."
   ],
   "metadata": {}
  },
  {
   "cell_type": "code",
   "execution_count": null,
   "source": [
    "plt.scatter(y_test, predictions)\n",
    "plt.xlabel('Y Test')\n",
    "plt.ylabel('Predicted Y')"
   ],
   "outputs": [],
   "metadata": {}
  },
  {
   "cell_type": "markdown",
   "source": [
    "## 5 - Evaluating the model"
   ],
   "metadata": {}
  },
  {
   "cell_type": "markdown",
   "source": [
    "RMSE, MSE and MAE are the common metrics used to evaluate a regression model.\n",
    "- MAE : Mean absolute error regression loss\n",
    "- MSE : Mean squared error regression loss\n",
    "- RMSE : Square root of Mean squared error regression loss"
   ],
   "metadata": {}
  },
  {
   "cell_type": "markdown",
   "source": [
    "Print out the MAE, MSE and RMSE."
   ],
   "metadata": {}
  },
  {
   "cell_type": "code",
   "execution_count": null,
   "source": [
    "# TODO: Replace {} with your solution to print out MAE\n",
    "print('MAE:', metrics.mean{}_error(y_test, predictions))\n",
    "\n",
    "# TODO: Replace {} with your solution to print out MSE\n",
    "print('MSE:', metrics.mean{}_error(y_test, predictions))\n",
    "\n",
    "# TODO: Replace {} with your solution to print out RMSE\n",
    "print('RMSE:', np.{}(metrics.mean_squared_error(y_test, predictions)))"
   ],
   "outputs": [],
   "metadata": {}
  },
  {
   "cell_type": "markdown",
   "source": [
    "# Exercise: Predict medical cost"
   ],
   "metadata": {}
  },
  {
   "cell_type": "markdown",
   "source": [
    "> Dataset from Kaggle: [Medical Cost Personal Datasets](https://www.kaggle.com/mirichoi0218/insurance/notebooks)"
   ],
   "metadata": {}
  },
  {
   "cell_type": "markdown",
   "source": [
    "## 1 - Load Dataset"
   ],
   "metadata": {}
  },
  {
   "cell_type": "code",
   "execution_count": null,
   "source": [
    "df = pd.read_csv(\"../data/insurance.csv\")\n",
    "df.head(10)"
   ],
   "outputs": [],
   "metadata": {}
  },
  {
   "cell_type": "code",
   "execution_count": null,
   "source": [
    "# TODO: Replace {} with your solution to check the shape of the dataset\n",
    "df.{}"
   ],
   "outputs": [],
   "metadata": {}
  },
  {
   "cell_type": "markdown",
   "source": [
    "> This dataset has 1338 examples with 7 features"
   ],
   "metadata": {}
  },
  {
   "cell_type": "markdown",
   "source": [
    "Make sure the dataset has no null value."
   ],
   "metadata": {}
  },
  {
   "cell_type": "code",
   "execution_count": null,
   "source": [
    "# TODO: Replace {} with your solution to check whether the dataset contains null value\n",
    "df.{}().sum()"
   ],
   "outputs": [],
   "metadata": {}
  },
  {
   "cell_type": "markdown",
   "source": [
    "Display the features and target."
   ],
   "metadata": {}
  },
  {
   "cell_type": "code",
   "execution_count": null,
   "source": [
    "df.columns"
   ],
   "outputs": [],
   "metadata": {}
  },
  {
   "cell_type": "markdown",
   "source": [
    "Features:\n",
    "\n",
    "- age: age of the patient.\n",
    "- sex: sex of the patient.\n",
    "- bmi: bmi of the patient.\n",
    "- children: is the patient a child.\n",
    "- smoker: is the patient a smoker.\n",
    "- region: region where the patient lived.\n",
    "\n",
    "Target:\n",
    "\n",
    "- charges: medical cost charged on the patient."
   ],
   "metadata": {}
  },
  {
   "cell_type": "markdown",
   "source": [
    "Change categorical data into binary."
   ],
   "metadata": {}
  },
  {
   "cell_type": "code",
   "execution_count": null,
   "source": [
    "dummies = pd.get_dummies(df[['sex', 'smoker', 'region']], drop_first=True) \n",
    "df.drop(['sex', 'smoker', 'region'], axis=1, inplace=True)\n",
    "df = pd.concat([df, dummies], axis=1)\n",
    "df.head(10)"
   ],
   "outputs": [],
   "metadata": {}
  },
  {
   "cell_type": "markdown",
   "source": [
    "Load the features into 'x' and the targets into 'y'."
   ],
   "metadata": {}
  },
  {
   "cell_type": "code",
   "execution_count": null,
   "source": [
    "x = df.drop(['charges'], axis=1)\n",
    "y = df.charges"
   ],
   "outputs": [],
   "metadata": {}
  },
  {
   "cell_type": "markdown",
   "source": [
    "Split the dataset into training set and test set with ratio 7:3"
   ],
   "metadata": {}
  },
  {
   "cell_type": "code",
   "execution_count": null,
   "source": [
    "# TODO: Replace {} with your solution to split the dataset into 70% training set and 30% test set\n",
    "x_train, x_test, y_train, y_test = {}(x, y, test_size={}, random_state=123)"
   ],
   "outputs": [],
   "metadata": {}
  },
  {
   "cell_type": "markdown",
   "source": [
    "## 2 - Linear Regression"
   ],
   "metadata": {}
  },
  {
   "cell_type": "code",
   "execution_count": null,
   "source": [
    "# TODO: Replace {} with your solution to load the linear regression model\n",
    "model = {}\n",
    "\n",
    "# TODO: Replace {} with your solution to fit the training data into model\n",
    "model.fit({}, {})"
   ],
   "outputs": [],
   "metadata": {}
  },
  {
   "cell_type": "markdown",
   "source": [
    "Print the model's coefficients.\n",
    "- A positive coefficient means as the value of the independent variable increases, the dependent variable also tends to increase. \n",
    "- A negative coefficient means as the value of the independent variable increases, the dependent variable tends to decrease."
   ],
   "metadata": {}
  },
  {
   "cell_type": "code",
   "execution_count": null,
   "source": [
    "for i in range(len(x.columns)):\n",
    "    print(x.columns[i], model.coef_[i])"
   ],
   "outputs": [],
   "metadata": {}
  },
  {
   "cell_type": "markdown",
   "source": [
    "Model's coefficients analysis:\n",
    "- 'smoker_yes' has very high positive coefficient, which means that if the patient is smoker, then the cost charges on the patient will increase.\n",
    "- 'sex_male' has negative coefficient, which means that if the patient is male, then the cost charges on the patient will decrease."
   ],
   "metadata": {}
  },
  {
   "cell_type": "markdown",
   "source": [
    "Print the intercept."
   ],
   "metadata": {}
  },
  {
   "cell_type": "code",
   "execution_count": null,
   "source": [
    "# TODO: Replace {} with your solution to print the intercept\n",
    "print(model.{})"
   ],
   "outputs": [],
   "metadata": {}
  },
  {
   "cell_type": "markdown",
   "source": [
    "## 3 - Evaluate Model"
   ],
   "metadata": {}
  },
  {
   "cell_type": "code",
   "execution_count": null,
   "source": [
    "# # TODO: Replace {} with your solution to make prediction with test set\n",
    "predictions = model.predict({})"
   ],
   "outputs": [],
   "metadata": {}
  },
  {
   "cell_type": "markdown",
   "source": [
    "Plot the results."
   ],
   "metadata": {}
  },
  {
   "cell_type": "code",
   "execution_count": null,
   "source": [
    "plt.scatter(y_test, predictions)\n",
    "plt.xlabel('Y Test')\n",
    "plt.ylabel('Predicted Y')"
   ],
   "outputs": [],
   "metadata": {}
  },
  {
   "cell_type": "markdown",
   "source": [
    "Print the model's score."
   ],
   "metadata": {}
  },
  {
   "cell_type": "code",
   "execution_count": null,
   "source": [
    "print(model.score(x_test, y_test))"
   ],
   "outputs": [],
   "metadata": {}
  },
  {
   "cell_type": "markdown",
   "source": [
    "Print the MAE, MSE, RMSE of the model."
   ],
   "metadata": {}
  },
  {
   "cell_type": "code",
   "execution_count": null,
   "source": [
    "# TODO: Replace {} with your solution to print out MAE\n",
    "print('MAE:', metrics.{}(y_test, predictions))\n",
    "\n",
    "# TODO: Replace {} with your solution to print out MSE\n",
    "print('MSE:', metrics.{}(y_test, predictions))\n",
    "\n",
    "# TODO: Replace {} with your solution to print out RMSE\n",
    "print('RMSE:', np.{}(metrics.{}(y_test, predictions)))"
   ],
   "outputs": [],
   "metadata": {}
  },
  {
   "cell_type": "markdown",
   "source": [
    "- MAE is less biased for higher values and may not adequately reflect the performance when dealing with larger error values. MAE also does not necessarily penalize large errors.\n",
    "- MSE is higly biased for higher values and it penalize large errors.\n",
    "- RMSE works better in reflecting performance when dealing with larger error values. RMSE also penalize large errors.\n",
    "\n",
    "In this case, RMSE is better to be the evaluation metric for the error analysis."
   ],
   "metadata": {}
  }
 ],
 "metadata": {
  "kernelspec": {
   "display_name": "Python 3",
   "language": "python",
   "name": "python3"
  },
  "language_info": {
   "codemirror_mode": {
    "name": "ipython",
    "version": 3
   },
   "file_extension": ".py",
   "mimetype": "text/x-python",
   "name": "python",
   "nbconvert_exporter": "python",
   "pygments_lexer": "ipython3",
   "version": "3.7.3"
  }
 },
 "nbformat": 4,
 "nbformat_minor": 2
}