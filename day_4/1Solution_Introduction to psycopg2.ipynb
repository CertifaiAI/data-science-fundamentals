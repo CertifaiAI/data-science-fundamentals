{
 "cells": [
  {
   "cell_type": "markdown",
   "source": [
    "![logo](https://user-images.githubusercontent.com/59526258/124226124-27125b80-db3b-11eb-8ba1-488d88018ebb.png)\r\n",
    "> **Copyright (c) 2021 CertifAI Sdn. Bhd.**<br>\r\n",
    " <br>\r\n",
    "This program is part of OSRFramework. You can redistribute it and/or modify\r\n",
    "<br>it under the terms of the GNU Affero General Public License as published by\r\n",
    "<br>the Free Software Foundation, either version 3 of the License, or\r\n",
    "<br>(at your option) any later version.\r\n",
    "<br>\r\n",
    "<br>This program is distributed in the hope that it will be useful,\r\n",
    "<br>but WITHOUT ANY WARRANTY; without even the implied warranty of\r\n",
    "<br>MERCHANTABILITY or FITNESS FOR A PARTICULAR PURPOSE.  See the\r\n",
    "<br>GNU Affero General Public License for more details.\r\n",
    "<br>\r\n",
    "<br>You should have received a copy of the GNU Affero General Public License\r\n",
    "<br>along with this program.  If not, see <http://www.gnu.org/licenses/>.\r\n",
    "<br>"
   ],
   "metadata": {
    "deletable": false,
    "editable": false
   }
  },
  {
   "cell_type": "markdown",
   "source": [
    "# Introduction to psycopg2\r\n",
    "\r\n",
    "## Introduction \r\n",
    "This tutorial is to introduce the library `psycopg2`, which is a third-party Python SQL driver to interact with PostgreSQL.\r\n",
    "\r\n",
    "## What will we accomplish?\r\n",
    "1. Able to explain what is `psycopg2`\r\n",
    "2. Able to create connection with `PostgreSQL` using `psycopg2`\r\n",
    "3. Able to create new database in `PostgreSQL` using `psycopg2`\r\n",
    "\r\n",
    "\r\n",
    "## Instruction\r\n",
    "You can follow along this notebook by yourself or alongside the instructor.\r\n",
    "\r\n",
    "## Notebook Content\r\n",
    "* [psycopg2](#psycopg2)\r\n",
    "* [Create Connection](#create-connection)\r\n",
    "* [Create and Drop Database](#create-and-drop-database)\r\n",
    "* [Exercise](#exercise)\r\n",
    "* [References](#references)"
   ],
   "metadata": {}
  },
  {
   "cell_type": "markdown",
   "source": [
    "## <a name=\"psycopg2\">psycopg2</a>\r\n",
    "\r\n",
    "Psycopg is the most popular PostgreSQL adapter for Python. Its follows Python DB API 2.0 specifications for its implementations. Used along with other extensions, it allow access to many of the features offered by PostgreSQL. <sup>[[1]](#1)</sup>\r\n",
    "\r\n",
    "Use the following command to import `psycopg` into the environment:"
   ],
   "metadata": {}
  },
  {
   "cell_type": "code",
   "execution_count": null,
   "source": [
    "import psycopg2"
   ],
   "outputs": [],
   "metadata": {
    "ExecuteTime": {
     "end_time": "2021-10-01T09:58:13.569169Z",
     "start_time": "2021-10-01T09:58:13.525168Z"
    }
   }
  },
  {
   "cell_type": "markdown",
   "source": [
    "##  <a name=\"create-connection\">Create Connection</a>\r\n",
    "\r\n",
    "First thing we have to do is to establish connection to a PostgreSQL server from our Python application. We can use `connect` method to achieve this.\r\n",
    "\r\n",
    "The parameters are self-explanatory, where:\r\n",
    "- database: database to connect to\r\n",
    "- user: user role to be used\r\n",
    "- password: password for user authentication\r\n",
    "- port: port where PostgreSQL server is listening\r\n",
    "- host: host for PostgreSQL server"
   ],
   "metadata": {}
  },
  {
   "cell_type": "code",
   "execution_count": null,
   "source": [
    "conn = psycopg2.connect(\r\n",
    "    database=\"postgres\",\r\n",
    "    user=\"postgres\",\r\n",
    "    password=\"admin\",\r\n",
    "    port=\"5432\",\r\n",
    "    host=\"localhost\"\r\n",
    ")\r\n",
    "type(conn)"
   ],
   "outputs": [],
   "metadata": {
    "ExecuteTime": {
     "end_time": "2021-10-01T09:58:25.847598Z",
     "start_time": "2021-10-01T09:58:25.729601Z"
    }
   }
  },
  {
   "cell_type": "markdown",
   "source": [
    "The resultant `conn` is now a `connection` object which encapsulates a database session."
   ],
   "metadata": {}
  },
  {
   "cell_type": "markdown",
   "source": [
    "##  <a name=\"create-and-drop-database\">Create and Drop Database</a>\r\n",
    "We can now create a `cursor` object by calling `cursor` method of `connection` object. We can then execute SQL commands using the `cursor` object.\r\n",
    "\r\n",
    "`execute` method takes SQL query in `str` data type as argument and returns `None`.\r\n",
    "\r\n",
    "To create a new database, we need to set the connection to `autocommit` mode, where no transaction is automatically open and commands have immediate effect."
   ],
   "metadata": {}
  },
  {
   "cell_type": "code",
   "execution_count": null,
   "source": [
    "conn.autocommit = True\r\n",
    "cursor = conn.cursor()"
   ],
   "outputs": [],
   "metadata": {}
  },
  {
   "cell_type": "code",
   "execution_count": null,
   "source": [
    "query = \"CREATE DATABASE intro;\"\r\n",
    "\r\n",
    "cursor.execute(query)"
   ],
   "outputs": [],
   "metadata": {
    "ExecuteTime": {
     "end_time": "2021-10-01T09:58:44.470068Z",
     "start_time": "2021-10-01T09:58:43.604070Z"
    }
   }
  },
  {
   "cell_type": "markdown",
   "source": [
    "Let's take a view on the available databases in this particular PostgreSQL server. `pg_database` is a system table holding information related to databases in the server, and `datname` is the database name.\r\n",
    "\r\n",
    "Either `fetchone`, `fetchmany` or `fetchall` method needs to be called after executing a `SELECT` statement to return query results."
   ],
   "metadata": {}
  },
  {
   "cell_type": "code",
   "execution_count": null,
   "source": [
    "query = \"SELECT datname FROM pg_database;\"\r\n",
    "\r\n",
    "cursor.execute(query)\r\n",
    "cursor.fetchall()"
   ],
   "outputs": [],
   "metadata": {
    "ExecuteTime": {
     "end_time": "2021-10-01T10:00:07.390480Z",
     "start_time": "2021-10-01T10:00:07.376487Z"
    }
   }
  },
  {
   "cell_type": "markdown",
   "source": [
    "Dropping database is as straightforward as executing the correct command in SQL."
   ],
   "metadata": {}
  },
  {
   "cell_type": "code",
   "execution_count": null,
   "source": [
    "cursor.execute(\"DROP DATABASE IF EXISTS intro;\")"
   ],
   "outputs": [],
   "metadata": {
    "ExecuteTime": {
     "end_time": "2021-10-01T10:00:44.497690Z",
     "start_time": "2021-10-01T10:00:44.247526Z"
    }
   }
  },
  {
   "cell_type": "code",
   "execution_count": null,
   "source": [
    "cursor.execute(\"SELECT datname FROM pg_database;\")\r\n",
    "cursor.fetchall()"
   ],
   "outputs": [],
   "metadata": {
    "ExecuteTime": {
     "end_time": "2021-10-01T02:30:01.191853Z",
     "start_time": "2021-10-01T02:30:01.179854Z"
    }
   }
  },
  {
   "cell_type": "markdown",
   "source": [
    "Finally, we can close a `cursor` object and `connection` object by calling `close` method. The `closed` property of that object indicates its status, where `0` is open and `-1` is closed. \r\n",
    "\r\n",
    "You can also use context manager for both connection session and cursor, but exiting the context manager does not close the connection."
   ],
   "metadata": {}
  },
  {
   "cell_type": "code",
   "execution_count": null,
   "source": [
    "cursor.close()\r\n",
    "conn.close()"
   ],
   "outputs": [],
   "metadata": {
    "ExecuteTime": {
     "end_time": "2021-10-01T10:01:01.202130Z",
     "start_time": "2021-10-01T10:01:01.191133Z"
    }
   }
  },
  {
   "cell_type": "markdown",
   "source": [
    "## <a name=\"exercise\">Exercise</a>\r\n",
    "\r\n",
    "Below are exercises to practice what we have just learnt. Follow along the instructions provided in the comment."
   ],
   "metadata": {}
  },
  {
   "cell_type": "code",
   "execution_count": null,
   "source": [
    "# Create a connection to \"postgres\" DB using user \"postgres\"\r\n",
    "conn = psycopg2.connect(\r\n",
    "    database=\"postgres\",\r\n",
    "    host=\"localhost\",\r\n",
    "    user=\"postgres\",\r\n",
    "    password=\"admin\"\r\n",
    ")"
   ],
   "outputs": [],
   "metadata": {}
  },
  {
   "cell_type": "code",
   "execution_count": null,
   "source": [
    "# Set autocommit mode & create a cursor object\r\n",
    "conn.autocommit = True\r\n",
    "cursor = conn.cursor()"
   ],
   "outputs": [],
   "metadata": {}
  },
  {
   "cell_type": "code",
   "execution_count": null,
   "source": [
    "# Create a new database named \"practice\"\r\n",
    "cursor.execute(\"CREATE DATABASE practice;\")"
   ],
   "outputs": [],
   "metadata": {}
  },
  {
   "cell_type": "code",
   "execution_count": null,
   "source": [
    "# Query and return existing DBs in the connected Postgres server\r\n",
    "cursor.execute(\"SELECT datname FROM pg_database;\")\r\n",
    "cursor.fetchall()"
   ],
   "outputs": [],
   "metadata": {}
  },
  {
   "cell_type": "code",
   "execution_count": null,
   "source": [
    "# Drop the \"practice\" database and return existing DBs\r\n",
    "cursor.execute(\"DROP DATABASE IF EXISTS practice\")\r\n",
    "cursor.execute(\"SELECT datname FROM pg_database;\")\r\n",
    "cursor.fetchall()"
   ],
   "outputs": [],
   "metadata": {}
  },
  {
   "cell_type": "code",
   "execution_count": null,
   "source": [
    "# Close cursor and connection\r\n",
    "cursor.close()\r\n",
    "conn.close()"
   ],
   "outputs": [],
   "metadata": {}
  },
  {
   "cell_type": "markdown",
   "source": [
    "## <a name=\"Summary\">Summary \r\n",
    "After this tutorial, you should have been able to:\r\n",
    "\r\n",
    "1. Explain what is `psycopg2`\r\n",
    "2. Create connection with `PostgreSQL` using `psycopg2`\r\n",
    "3. Create and drop database in `PostgreSQL` using `psycopg2`\r\n",
    "\r\n",
    "Congratulations, that concludes this lesson."
   ],
   "metadata": {}
  },
  {
   "cell_type": "markdown",
   "source": [
    "## Contributors\r\n",
    "**Author**<br>\r\n",
    "[Lee Kian Yang](https://github.com/KianYang-Lee)\r\n"
   ],
   "metadata": {}
  },
  {
   "cell_type": "markdown",
   "source": [
    "## <a name=\"references\">References</a>\r\n",
    "- <a name=\"1\">[1]</a> [psycopg Official Website](https://www.psycopg.org/)\r\n",
    "- [Psycopy 2.9.1 documentation: The `connection` class](https://www.psycopg.org/docs/connection.html)\r\n",
    "- [Psycopy 2.9.1 documentation: The `cursor` class](https://www.psycopg.org/docs/cursor.html)\r\n"
   ],
   "metadata": {}
  }
 ],
 "metadata": {
  "interpreter": {
   "hash": "6e9bd391114542e88ece639d5ee58073c16fde71299433659d3bc0407023ddec"
  },
  "kernelspec": {
   "name": "python3",
   "display_name": "Python 3.7.3 64-bit ('peer2': conda)"
  },
  "language_info": {
   "codemirror_mode": {
    "name": "ipython",
    "version": 3
   },
   "file_extension": ".py",
   "mimetype": "text/x-python",
   "name": "python",
   "nbconvert_exporter": "python",
   "pygments_lexer": "ipython3",
   "version": "3.7.3"
  },
  "varInspector": {
   "cols": {
    "lenName": 16,
    "lenType": 16,
    "lenVar": 40
   },
   "kernels_config": {
    "python": {
     "delete_cmd_postfix": "",
     "delete_cmd_prefix": "del ",
     "library": "var_list.py",
     "varRefreshCmd": "print(var_dic_list())"
    },
    "r": {
     "delete_cmd_postfix": ") ",
     "delete_cmd_prefix": "rm(",
     "library": "var_list.r",
     "varRefreshCmd": "cat(var_dic_list()) "
    }
   },
   "types_to_exclude": [
    "module",
    "function",
    "builtin_function_or_method",
    "instance",
    "_Feature"
   ],
   "window_display": false
  }
 },
 "nbformat": 4,
 "nbformat_minor": 4
}