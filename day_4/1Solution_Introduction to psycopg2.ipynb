{
 "cells": [
  {
   "cell_type": "markdown",
   "source": [
    "![logo](https://user-images.githubusercontent.com/59526258/124226124-27125b80-db3b-11eb-8ba1-488d88018ebb.png)\n",
    "> **Copyright (c) 2021 CertifAI Sdn. Bhd.**<br>\n",
    " <br>\n",
    "This program is part of OSRFramework. You can redistribute it and/or modify\n",
    "<br>it under the terms of the GNU Affero General Public License as published by\n",
    "<br>the Free Software Foundation, either version 3 of the License, or\n",
    "<br>(at your option) any later version.\n",
    "<br>\n",
    "<br>This program is distributed in the hope that it will be useful,\n",
    "<br>but WITHOUT ANY WARRANTY; without even the implied warranty of\n",
    "<br>MERCHANTABILITY or FITNESS FOR A PARTICULAR PURPOSE.  See the\n",
    "<br>GNU Affero General Public License for more details.\n",
    "<br>\n",
    "<br>You should have received a copy of the GNU Affero General Public License\n",
    "<br>along with this program.  If not, see <http://www.gnu.org/licenses/>.\n",
    "<br>"
   ],
   "metadata": {
    "deletable": false,
    "editable": false
   }
  },
  {
   "cell_type": "markdown",
   "source": [
    "# Introduction to psycopg2\n",
    "\n",
    "## Introduction \n",
    "This tutorial is to introduce the library `psycopg2`, which is a third-party Python SQL driver to interact with PostgreSQL.\n",
    "\n",
    "## What will we accomplish?\n",
    "1. Able to explain what is `psycopg2`\n",
    "2. Able to create connection with `PostgreSQL` using `psycopg2`\n",
    "3. Able to create new database in `PostgreSQL` using `psycopg2`\n",
    "\n",
    "\n",
    "## Instruction\n",
    "You can follow along this notebook by yourself or alongside the instructor.\n",
    "\n",
    "## Notebook Content\n",
    "* [psycopg2](#psycopg2)\n",
    "* [Create Connection](#create-connection)\n",
    "* [Create and Drop Database](#create-and-drop-database)\n",
    "* [Exercise](#exercise)\n",
    "* [References](#references)"
   ],
   "metadata": {}
  },
  {
   "cell_type": "markdown",
   "source": [
    "## <a name=\"psycopg2\">psycopg2</a>\n",
    "\n",
    "Psycopg is the most popular PostgreSQL adapter for Python. Its follows Python DB API 2.0 specifications for its implementations. Used along with other extensions, it allow access to many of the features offered by PostgreSQL. <sup>[[1]](#1)</sup>\n",
    "\n",
    "Use the following command to import `psycopg` into the environment:"
   ],
   "metadata": {}
  },
  {
   "cell_type": "code",
   "execution_count": 1,
   "source": [
    "import psycopg2"
   ],
   "outputs": [],
   "metadata": {}
  },
  {
   "cell_type": "markdown",
   "source": [
    "##  <a name=\"create-connection\">Create Connection</a>\n",
    "\n",
    "First thing we have to do is to establish connection to a PostgreSQL server from our Python application. We can use `connect` method to achieve this.\n",
    "\n",
    "The parameters are self-explanatory, where:\n",
    "- database: database to connect to\n",
    "- user: user role to be used\n",
    "- password: password for user authentication\n",
    "- port: port where PostgreSQL server is listening\n",
    "- host: host for PostgreSQL server"
   ],
   "metadata": {}
  },
  {
   "cell_type": "code",
   "execution_count": 2,
   "source": [
    "conn = psycopg2.connect(\n",
    "    database=\"postgres\",\n",
    "    user=\"postgres\",\n",
    "    password=\"asd\",\n",
    "    port=\"5432\",\n",
    "    host=\"localhost\"\n",
    ")\n",
    "type(conn)\n"
   ],
   "outputs": [
    {
     "output_type": "execute_result",
     "data": {
      "text/plain": [
       "psycopg2.extensions.connection"
      ]
     },
     "metadata": {},
     "execution_count": 2
    }
   ],
   "metadata": {}
  },
  {
   "cell_type": "markdown",
   "source": [
    "The resultant `conn` is now a `connection` object which encapsulates a database session."
   ],
   "metadata": {}
  },
  {
   "cell_type": "markdown",
   "source": [
    "##  <a name=\"create-and-drop-database\">Create and Drop Database</a>\n",
    "We can now create a `cursor` object by calling `cursor` method of `connection` object. We can then execute SQL commands using the `cursor` object.\n",
    "\n",
    "`execute` method takes SQL query in `str` data type as argument and returns `None`.\n",
    "\n",
    "To create a new database, we need to set the connection to `autocommit` mode, where no transaction is automatically open and commands have immediate effect."
   ],
   "metadata": {}
  },
  {
   "cell_type": "code",
   "execution_count": 3,
   "source": [
    "query = \"CREATE DATABASE intro\"\n",
    "\n",
    "conn.autocommit = True\n",
    "cursor = conn.cursor()\n",
    "cursor.execute(query)"
   ],
   "outputs": [],
   "metadata": {}
  },
  {
   "cell_type": "markdown",
   "source": [
    "Let's take a view on the available databases in this particular PostgreSQL server. `pg_database` is a system table holding information related to databases in the server, and `datname` is the database name.\n",
    "\n",
    "Either `fetchone`, `fetchmany` or `fetchall` method needs to be called after executing a `SELECT` statement to return query results."
   ],
   "metadata": {}
  },
  {
   "cell_type": "code",
   "execution_count": 4,
   "source": [
    "cursor.execute(\"SELECT datname FROM pg_database;\")\n",
    "cursor.fetchall()"
   ],
   "outputs": [
    {
     "output_type": "execute_result",
     "data": {
      "text/plain": [
       "[('postgres',), ('suppliers',), ('template1',), ('template0',), ('intro',)]"
      ]
     },
     "metadata": {},
     "execution_count": 4
    }
   ],
   "metadata": {}
  },
  {
   "cell_type": "markdown",
   "source": [
    "Dropping database is as straightforward as executing the correct command in SQL."
   ],
   "metadata": {}
  },
  {
   "cell_type": "code",
   "execution_count": 5,
   "source": [
    "cursor.execute(\"DROP DATABASE IF EXISTS intro;\")"
   ],
   "outputs": [],
   "metadata": {}
  },
  {
   "cell_type": "code",
   "execution_count": 6,
   "source": [
    "cursor.execute(\"SELECT datname FROM pg_database;\")\n",
    "cursor.fetchall()"
   ],
   "outputs": [
    {
     "output_type": "execute_result",
     "data": {
      "text/plain": [
       "[('postgres',), ('suppliers',), ('template1',), ('template0',)]"
      ]
     },
     "metadata": {},
     "execution_count": 6
    }
   ],
   "metadata": {}
  },
  {
   "cell_type": "markdown",
   "source": [
    "Finally, we can close a `cursor` object and `connection` object by calling `close` method. The `closed` property of that object indicates its status, where `0` is open and `-1` is closed. \n",
    "\n",
    "You can also use context manager for both connection session and cursor, but exiting the context manager does not close the connection."
   ],
   "metadata": {}
  },
  {
   "cell_type": "code",
   "execution_count": 7,
   "source": [
    "cursor.close()"
   ],
   "outputs": [],
   "metadata": {}
  },
  {
   "cell_type": "code",
   "execution_count": 8,
   "source": [
    "conn.close()"
   ],
   "outputs": [],
   "metadata": {}
  },
  {
   "cell_type": "markdown",
   "source": [
    "## <a name=\"exercise\">Exercise</a>\n",
    "\n",
    "Below are exercises to practice what we have just learnt. Follow along the instructions provided in the comment."
   ],
   "metadata": {}
  },
  {
   "cell_type": "code",
   "execution_count": 9,
   "source": [
    "# Create a connection to \"postgres\" DB using user \"postgres\"\n",
    "conn = psycopg2.connect(\n",
    "    database=\"postgres\",\n",
    "    host=\"localhost\",\n",
    "    user=\"postgres\",\n",
    "    password=\"asd\"\n",
    ")"
   ],
   "outputs": [],
   "metadata": {}
  },
  {
   "cell_type": "code",
   "execution_count": 10,
   "source": [
    "# Create a new database named \"practice\"\n",
    "conn.autocommit = True\n",
    "cursor = conn.cursor()\n",
    "cursor.execute(\"CREATE DATABASE practice;\")"
   ],
   "outputs": [],
   "metadata": {}
  },
  {
   "cell_type": "code",
   "execution_count": 11,
   "source": [
    "# Query and return existing DBs in the connected Postgres server\n",
    "cursor.execute(\"SELECT datname FROM pg_database;\")\n",
    "cursor.fetchall()"
   ],
   "outputs": [
    {
     "output_type": "execute_result",
     "data": {
      "text/plain": [
       "[('postgres',), ('suppliers',), ('template1',), ('template0',), ('practice',)]"
      ]
     },
     "metadata": {},
     "execution_count": 11
    }
   ],
   "metadata": {}
  },
  {
   "cell_type": "code",
   "execution_count": 12,
   "source": [
    "# Drop the \"practice\" database and return existing DBs\n",
    "cursor.execute(\"DROP DATABASE IF EXISTS practice\")\n",
    "cursor.execute(\"SELECT datname FROM pg_database;\")\n",
    "cursor.fetchall()"
   ],
   "outputs": [
    {
     "output_type": "execute_result",
     "data": {
      "text/plain": [
       "[('postgres',), ('suppliers',), ('template1',), ('template0',)]"
      ]
     },
     "metadata": {},
     "execution_count": 12
    }
   ],
   "metadata": {}
  },
  {
   "cell_type": "code",
   "execution_count": 13,
   "source": [
    "# Close cursor and connection\n",
    "cursor.close()\n",
    "conn.close()"
   ],
   "outputs": [],
   "metadata": {}
  },
  {
   "cell_type": "markdown",
   "source": [
    "## <a name=\"Summary\">Summary \n",
    "After this tutorial, you should have been able to:\n",
    "\n",
    "1. Explain what is `psycopg2`\n",
    "2. Create connection with `PostgreSQL` using `psycopg2`\n",
    "3. Create and drop database in `PostgreSQL` using `psycopg2`\n",
    "\n",
    "Congratulations, that concludes this lesson."
   ],
   "metadata": {}
  },
  {
   "cell_type": "markdown",
   "source": [
    "## Contributors\n",
    "**Author**<br>\n",
    "[Lee Kian Yang](https://github.com/KianYang-Lee)\n"
   ],
   "metadata": {}
  },
  {
   "cell_type": "markdown",
   "source": [
    "## <a name=\"references\">References</a>\n",
    "- <a name=\"1\">[1]</a> [psycopg Official Website](https://www.psycopg.org/)\n",
    "- [Psycopy 2.9.1 documentation: The `connection` class](https://www.psycopg.org/docs/connection.html)\n",
    "- [Psycopy 2.9.1 documentation: The `cursor` class](https://www.psycopg.org/docs/cursor.html)\n"
   ],
   "metadata": {}
  }
 ],
 "metadata": {
  "kernelspec": {
   "name": "python3",
   "display_name": "Python 3.8.5 64-bit ('venv': venv)"
  },
  "language_info": {
   "codemirror_mode": {
    "name": "ipython",
    "version": 3
   },
   "file_extension": ".py",
   "mimetype": "text/x-python",
   "name": "python",
   "nbconvert_exporter": "python",
   "pygments_lexer": "ipython3",
   "version": "3.8.5"
  },
  "varInspector": {
   "cols": {
    "lenName": 16,
    "lenType": 16,
    "lenVar": 40
   },
   "kernels_config": {
    "python": {
     "delete_cmd_postfix": "",
     "delete_cmd_prefix": "del ",
     "library": "var_list.py",
     "varRefreshCmd": "print(var_dic_list())"
    },
    "r": {
     "delete_cmd_postfix": ") ",
     "delete_cmd_prefix": "rm(",
     "library": "var_list.r",
     "varRefreshCmd": "cat(var_dic_list()) "
    }
   },
   "types_to_exclude": [
    "module",
    "function",
    "builtin_function_or_method",
    "instance",
    "_Feature"
   ],
   "window_display": false
  },
  "interpreter": {
   "hash": "630afd8129cc56065ed4d4d81af6eae2da5cb255f0e412d08dc57eebcc4b11ee"
  }
 },
 "nbformat": 4,
 "nbformat_minor": 4
}