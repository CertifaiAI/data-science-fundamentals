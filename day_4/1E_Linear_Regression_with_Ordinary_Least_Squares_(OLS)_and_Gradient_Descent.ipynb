{
 "cells": [
  {
   "cell_type": "markdown",
   "metadata": {
    "id": "ZSI8_T5E276y"
   },
   "source": [
    "![license_header_logo](https://user-images.githubusercontent.com/59526258/124226124-27125b80-db3b-11eb-8ba1-488d88018ebb.png)\n",
    "> **Copyright (c) 2021 CertifAI Sdn. Bhd.**<br>\n",
    " <br>\n",
    "This program is part of OSRFramework. You can redistribute it and/or modify\n",
    "<br>it under the terms of the GNU Affero General Public License as published by\n",
    "<br>the Free Software Foundation, either version 3 of the License, or\n",
    "<br>(at your option) any later version.\n",
    "<br>\n",
    "<br>This program is distributed in the hope that it will be useful,\n",
    "<br>but WITHOUT ANY WARRANTY; without even the implied warranty of\n",
    "<br>MERCHANTABILITY or FITNESS FOR A PARTICULAR PURPOSE.  See the\n",
    "<br>GNU Affero General Public License for more details.\n",
    "<br>\n",
    "<br>You should have received a copy of the GNU Affero General Public License\n",
    "<br>along with this program.  If not, see <http://www.gnu.org/licenses/>.\n",
    "<br>"
   ]
  },
  {
   "cell_type": "markdown",
   "metadata": {
    "id": "4wFzSZqvImPH"
   },
   "source": [
    "# **1.0  Introduction to Linear Regression**\n",
    "\n",
    "## 1.1  Linear Regression \n",
    "Linear regression is a linear approach to modelling the relationship between two or more continuous variables. When we have only one independent variable it is called simple linear regression. For more than one independent variable, the relationship is called multiple linear regression. \n",
    "\n",
    "*Note: In this tutorial, we will only be touching on simple linear regression model.*\n",
    "## 1.2  Simple Linear Regression Model\n",
    "Let *y* be the dependent variable and *x* be the independent variable. We will define a linear relationship between these two variables as follows:  \n",
    "\n",
    "\\\\[ y = mx + c \\\\]  \n",
    "\n",
    "Recall that this is the equation for a line that you studied in high school where *m* is the slope of the line and *c* is the y-intercept. In this tutorial, we will use this equation to train our model for a given dataset and predict the value of *y* for any given value of *x*. "
   ]
  },
  {
   "cell_type": "markdown",
   "metadata": {
    "id": "SRz9TLVP1xZs"
   },
   "source": [
    "# **2.0  Linear Regression with Ordinary Least Squares (OLS)** \n",
    "  \n",
    "To determine the value of our model parameters *m* and *c* which gives us the minimum error for the given dataset, we will first use the **Ordinary Least Squares** approach.  \n",
    "\n",
    "## 2.1  Finding the Error \n",
    "We find the best fitting line for our data through minimizing the sum of squares of the vertical deviations from each data point to the line. Since the \"deviations\" are squared, then summed, there are no cancellations between positive and negative values. The error function can be defined as: \n",
    "  \n",
    "\\\\[ L(x) = \\sum_{i=1}^n (y_i - \\hat{y}_i)^2\\\\]   \n",
    "  \n",
    "## 2.2  Ordinary Least Squares Method  \n",
    "Now that we have determined the error function, the only thing left to do is to minimize it. This is done by finding the partial derivative of *L*, equating it to 0 and then finding an expression for *m* and *c*. After we do the math, we are left with these equations:    \n",
    "  \n",
    "\\\\[m = \\frac{\\sum_{i=1}^n (x_i - \\hat x)(y_i - \\hat y)}{\\sum_{i=1}^n (x_i - \\hat x)^2}\\\\]  \n",
    "  \n",
    "\\\\[c = \\hat y - m\\hat x\\\\]  \n",
    "  \n",
    "Here $\\hat x$ is the mean of all the values in the input *x* and $\\hat y$ is the mean of all the values in the desired output *y*. \n",
    "Now we will implement this in python code.  \n"
   ]
  },
  {
   "cell_type": "markdown",
   "metadata": {
    "id": "kK9u-thZ1xZz"
   },
   "source": [
    "## 2.3  Implementing the Model"
   ]
  },
  {
   "cell_type": "markdown",
   "metadata": {
    "id": "QlumjyAWCa-H"
   },
   "source": [
    "Let's first import all the packages that you will need during this assignment.\n",
    "\n",
    "- **numpy** is the main package for scientific computing with Python.\n",
    "- **matplotlib** is a library to plot graphs in Python.\n",
    "- **sklearn** features various algorithms of machine learning in Python.\n",
    "- **pandas** is a high-level data manipulation tool in Python."
   ]
  },
  {
   "cell_type": "code",
   "execution_count": 1,
   "metadata": {
    "id": "V3QWKJSV1xZ0"
   },
   "outputs": [],
   "source": [
    "# Making imports\n",
    "import pandas as pd\n",
    "import numpy as np\n",
    "import matplotlib.pyplot as plt\n",
    "plt.rcParams['figure.figsize'] = (12.0, 9.0)"
   ]
  },
  {
   "cell_type": "markdown",
   "metadata": {
    "id": "I3qoGqWeC4j4"
   },
   "source": [
    "Next, we load our input data using the pandas package. We then plot them on a scatter plot to show the relation between our two variables *x* and *y*. Upon inspection, it is clear that there exists a linear relation between our dependent and independent variable."
   ]
  },
  {
   "cell_type": "code",
   "execution_count": 2,
   "metadata": {
    "colab": {
     "base_uri": "https://localhost:8080/",
     "height": 265
    },
    "id": "igxzWH541xZ1",
    "outputId": "09095332-164b-4f8b-8341-f65cc294e026"
   },
   "outputs": [
    {
     "data": {
      "image/png": "[encoded data removed]",
      "text/plain": [
       "<Figure size 864x648 with 1 Axes>"
      ]
     },
     "metadata": {
      "needs_background": "light"
     },
     "output_type": "display_data"
    }
   ],
   "source": [
    "# Preprocessing Input data\n",
    "data = pd.read_csv('../data/data.csv')\n",
    "X = data.iloc[:, 0]\n",
    "Y = data.iloc[:, 1]\n",
    "plt.scatter(X, Y)\n",
    "plt.show()"
   ]
  },
  {
   "cell_type": "markdown",
   "metadata": {
    "id": "dGWFxlJkFAMt"
   },
   "source": [
    "Now, we are ready to build our model in order to estimate our model parameters **m** and **c** which gives us the minimum error for the given dataset."
   ]
  },
  {
   "cell_type": "code",
   "execution_count": 3,
   "metadata": {
    "colab": {
     "base_uri": "https://localhost:8080/"
    },
    "id": "dxEcIs9R1xZ3",
    "outputId": "82797218-c5f9-4fa1-9bc0-cd9e248d9b5f"
   },
   "outputs": [
    {
     "name": "stdout",
     "output_type": "stream",
     "text": [
      "1.2873573700109315 9.90860619032653\n"
     ]
    }
   ],
   "source": [
    "# Building the model\n",
    "X_mean = np.mean(X)\n",
    "Y_mean = np.mean(Y)\n",
    "\n",
    "num = 0\n",
    "den = 0\n",
    "#the for loop will iterate through all the rows in our dataset\n",
    "for i in range(len(X)):\n",
    "    num += (X[i] - X_mean)*(Y[i] - Y_mean)\n",
    "    den += (X[i] - X_mean)**2\n",
    "m = num / den\n",
    "c = Y_mean - m*X_mean\n",
    "\n",
    "print (m, c)"
   ]
  },
  {
   "cell_type": "markdown",
   "metadata": {
    "id": "DWvTsJSMHB6_"
   },
   "source": [
    "Lastly, we plot our linear regression model using the parameter values that we obtained earlier along with the scatter plot our data."
   ]
  },
  {
   "cell_type": "code",
   "execution_count": 4,
   "metadata": {
    "id": "Esle9CQz1xZ4",
    "outputId": "4ef897f1-1b15-479d-d827-cd7d696d6ad0"
   },
   "outputs": [
    {
     "data": {
      "image/png": "[encoded data removed]",
      "text/plain": [
       "<Figure size 864x648 with 1 Axes>"
      ]
     },
     "metadata": {
      "needs_background": "light"
     },
     "output_type": "display_data"
    }
   ],
   "source": [
    "# Making predictions\n",
    "Y_pred = m*X + c\n",
    "\n",
    "plt.scatter(X, Y) # actual\n",
    "plt.plot([min(X), max(X)], [min(Y_pred), max(Y_pred)], color='red') # predicted\n",
    "plt.show()"
   ]
  },
  {
   "cell_type": "markdown",
   "metadata": {
    "id": "41RFgWdoJKdz"
   },
   "source": [
    "# **3.0  Linear Regression with Gradient Descent** "
   ]
  },
  {
   "cell_type": "markdown",
   "metadata": {
    "id": "V2SA4W11Jg6U"
   },
   "source": [
    "## 3.1 Understanding Gradient Descent\n",
    "Unlike least squares method, gradient descent **finds the model parameters iteratively**. Gradient descent is an iterative algorithm that relies on gradient information to help direct the search for a minimum through optimizing our loss function.\n",
    "\n",
    "Recall that, gradient descent perform these two steps iteratively:\n",
    "*   Compute the gradient of the first order derivative of our loss function at that point\n",
    "*   Make incremental steps in the direction opposite to the gradient and adjust the parameter values\n",
    "\n",
    "\n",
    "## 3.2 Defining Our Loss Function\n",
    "The loss is again the error of our predicted value from the actual value. Our goal is to minimize this loss to obtain values of *m* and *c* which gives us the best fitting line.  \n",
    "We will use the **Mean Squared Error** function to calculate the loss. Thus, our loss function can be defined as:\n",
    "\\\\[ L(x) = \\frac{1}{n} \\sum_{i=0}^n (y_i - \\hat y_i)^2\\\\]  \n",
    "Here $y_i$ is the actual value and $\\hat y_i$ is the predicted value. Lets substitute the value of $\\hat y_i$\n",
    "\\\\[ L(x) = \\frac{1}{n} \\sum_{i=0}^n (y_i - (mx_i + c))^2\\\\]\n",
    "Since we squared the error and find the mean, hence the name, Mean Squared Error.\n",
    "\n",
    "\n",
    "## 3.3 Implementing Gradient Descent\n",
    "1. Initially let m = 0 and c = 0. Let a be our learning rate in which the learning rate controls the step size we take to determine our next point. \n",
    "2. Calculate the partial derivative of the loss function with respect to m, and plug in the current values of x, y, m and c in it.  \n",
    "\\\\[ D_m = \\frac{-2}{n} \\sum_{i=0}^n x_i(y_i - (mx_i + c)) \\\\]\n",
    "\\\\[ D_m = \\frac{-2}{n} \\sum_{i=0}^n x_i(y_i - \\hat y_i) \\\\]  \n",
    "Similarly, we find the partial derivative with respect to *c*, $D_c$ :  \n",
    "\\\\[ D_c = \\frac{-2}{n} \\sum_{i=0}^n (y_i - \\hat y_i) \\\\]\n",
    "3. Now we update our parameter values using the following equation: \n",
    "\\\\[ m = m - a \\times D_m\\\\]  \n",
    "\\\\[ c = c - a \\times D_c\\\\]  \n",
    "4. We repeat this process untill our loss function is very small or ideally 0 (which however rarely be the case). The value that we obtained for *m* and *c* are the parameter values of our slope and y-intercept for our linear regression model."
   ]
  },
  {
   "cell_type": "markdown",
   "metadata": {
    "id": "8p-bw7xf0pyI"
   },
   "source": [
    "## 3.4 Implementing the Model\n",
    "\n",
    "Using the same dataset that we have earlier, we find the best fitting line for our simple linear regression model that fits the data best. That is, we find the parameters *m* and *b* using gradient descent."
   ]
  },
  {
   "cell_type": "markdown",
   "metadata": {
    "id": "REjFTUGwQ9Ri"
   },
   "source": [
    "Similarly, we extract the first column from our dataset into our independent variable, *X1* and the second column into our dependent variable, *Y1*. "
   ]
  },
  {
   "cell_type": "code",
   "execution_count": 5,
   "metadata": {
    "id": "_ZcRA7lZ9Wg6"
   },
   "outputs": [],
   "source": [
    "# Preprocessing Input data\n",
    "X1 = data.iloc[:, 0]\n",
    "Y1 = data.iloc[:, 1]"
   ]
  },
  {
   "cell_type": "markdown",
   "metadata": {
    "id": "gH0i5Q6tFsB5"
   },
   "source": [
    "We are now ready to build and train our linear regression model using the gradient descent approach.\n",
    "\n",
    "\n"
   ]
  },
  {
   "cell_type": "code",
   "execution_count": 6,
   "metadata": {
    "colab": {
     "base_uri": "https://localhost:8080/"
    },
    "id": "PPW7Wu0Y9aqD",
    "outputId": "3afc177e-9530-4cd4-ff52-3d619c99b870"
   },
   "outputs": [
    {
     "name": "stdout",
     "output_type": "stream",
     "text": [
      "1.2873573700109313 0.025241304602481533\n"
     ]
    }
   ],
   "source": [
    "# Building the model\n",
    "m1 = 0\n",
    "c1 = 0\n",
    "\n",
    "a = 0.0001  # The learning Rate\n",
    "epochs = 100  # The number of iterations to perform gradient descent\n",
    "n = float(len(X1)) # Number of elements in X\n",
    "\n",
    "# Performing Gradient Descent \n",
    "for i in range(epochs): \n",
    "    Y1_pred = m1*X1 + c  # The current predicted value of Y\n",
    "    D_m = (-2/n) * sum(X1 * (Y1 - Y1_pred))  # Derivative wrt m\n",
    "    D_c = (-2/n) * sum(Y1 - Y1_pred)  # Derivative wrt c\n",
    "    m1 = m1 - a * D_m  # Update m\n",
    "    c1 = c1 - a * D_c  # Update c\n",
    "    \n",
    "print (m1, c1)"
   ]
  },
  {
   "cell_type": "markdown",
   "metadata": {
    "id": "Ax7q8uRiHHwB"
   },
   "source": [
    "Lastly, we plot our linear regression model along with the scatter plots using the parameters we obtained for our slope and y-intercept respectively."
   ]
  },
  {
   "cell_type": "code",
   "execution_count": 7,
   "metadata": {
    "colab": {
     "base_uri": "https://localhost:8080/",
     "height": 537
    },
    "id": "00Jm9zORQRi7",
    "outputId": "fbff4aad-1129-4df8-ec31-383b9f194ea7"
   },
   "outputs": [
    {
     "data": {
      "image/png": "[encoded data removed]",
      "text/plain": [
       "<Figure size 864x648 with 1 Axes>"
      ]
     },
     "metadata": {
      "needs_background": "light"
     },
     "output_type": "display_data"
    }
   ],
   "source": [
    "# Making predictions\n",
    "Y1_pred = m*X1 + c\n",
    "\n",
    "plt.scatter(X1, Y1)\n",
    "plt.plot([min(X1), max(X1)], [min(Y1_pred), max(Y1_pred)], color='red') # predicted\n",
    "plt.show()"
   ]
  },
  {
   "cell_type": "markdown",
   "metadata": {
    "id": "S9lliZoyiuqJ"
   },
   "source": [
    "# **Exercises**"
   ]
  },
  {
   "cell_type": "markdown",
   "metadata": {
    "id": "SS75FAgBy0EV"
   },
   "source": [
    "Using least squares and gradient descent approach, find the regression parameters *m* and *b* which gives us the best fitting line for our linear regression model for the \"SATvsGPAScore.csv\" dataset."
   ]
  },
  {
   "cell_type": "markdown",
   "metadata": {
    "id": "YKXmmbqYIKrm"
   },
   "source": [
    "Answer:"
   ]
  },
  {
   "cell_type": "code",
   "execution_count": 8,
   "metadata": {
    "id": "pSNArergINEt"
   },
   "outputs": [],
   "source": [
    "#Insert your codes here"
   ]
  },
  {
   "cell_type": "markdown",
   "metadata": {
    "id": "mMrU8GYMB3eF"
   },
   "source": [
    "Source: [Machine Learning Algorithms Implemented in Python from Scratch by ChasingInfinity](https://github.com/chasinginfinity/ml-from-scratch)"
   ]
  }
 ],
 "metadata": {
  "colab": {
   "name": "Linear Regression with Ordinary Least Squares (OLS) and Gradient Descent.ipynb",
   "provenance": []
  },
  "kernelspec": {
   "display_name": "cdle",
   "language": "python",
   "name": "cdle"
  },
  "language_info": {
   "codemirror_mode": {
    "name": "ipython",
    "version": 3
   },
   "file_extension": ".py",
   "mimetype": "text/x-python",
   "name": "python",
   "nbconvert_exporter": "python",
   "pygments_lexer": "ipython3",
   "version": "3.7.3"
  }
 },
 "nbformat": 4,
 "nbformat_minor": 1
}
