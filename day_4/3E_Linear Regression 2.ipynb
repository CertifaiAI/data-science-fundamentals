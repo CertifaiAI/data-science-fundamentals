{
 "cells": [
  {
   "cell_type": "markdown",
   "source": [
    "![logo](https://user-images.githubusercontent.com/59526258/124226124-27125b80-db3b-11eb-8ba1-488d88018ebb.png)\r\n",
    "\r\n",
    "> **Copyright (c) 2021 CertifAI Sdn. Bhd.**<br>\r\n",
    " <br>\r\n",
    "This program is part of OSRFramework. You can redistribute it and/or modify\r\n",
    "<br>it under the terms of the GNU Affero General Public License as published by\r\n",
    "<br>the Free Software Foundation, either version 3 of the License, or\r\n",
    "<br>(at your option) any later version.\r\n",
    "<br>\r\n",
    "<br>This program is distributed in the hope that it will be useful,\r\n",
    "<br>but WITHOUT ANY WARRANTY; without even the implied warranty of\r\n",
    "<br>MERCHANTABILITY or FITNESS FOR A PARTICULAR PURPOSE.  See the\r\n",
    "<br>GNU Affero General Public License for more details.\r\n",
    "<br>\r\n",
    "<br>You should have received a copy of the GNU Affero General Public License\r\n",
    "<br>along with this program.  If not, see <http://www.gnu.org/licenses/>.\r\n",
    "<br>"
   ],
   "metadata": {
    "deletable": false,
    "editable": false
   }
  },
  {
   "cell_type": "markdown",
   "source": [
    "# Predicting Intel Stock Price using Linear Regression"
   ],
   "metadata": {}
  },
  {
   "cell_type": "code",
   "execution_count": null,
   "source": [
    "import numpy as np\r\n",
    "import pandas as pd\r\n",
    "from sklearn import datasets\r\n",
    "from sklearn import model_selection\r\n",
    "from sklearn import metrics\r\n",
    "from sklearn.linear_model import LinearRegression\r\n",
    "from sklearn.linear_model import LinearRegression\r\n",
    "\r\n",
    "import matplotlib.pyplot as plt\r\n",
    "%matplotlib inline"
   ],
   "outputs": [],
   "metadata": {}
  },
  {
   "cell_type": "markdown",
   "source": [
    "## View data"
   ],
   "metadata": {}
  },
  {
   "cell_type": "markdown",
   "source": [
    "Get the latest Intel Stock Price from https://finance.yahoo.com/quote/intc/history/"
   ],
   "metadata": {}
  },
  {
   "cell_type": "code",
   "execution_count": null,
   "source": [
    "df = pd.read_csv(\"https://archive.org/download/ml-fundamentals-data/machine-learning-fundamentals-data/INTC.csv\")"
   ],
   "outputs": [],
   "metadata": {}
  },
  {
   "cell_type": "markdown",
   "source": [
    "Read the csv file and display the first 5 rows of your dataframe."
   ],
   "metadata": {}
  },
  {
   "cell_type": "code",
   "execution_count": null,
   "source": [
    "df.()"
   ],
   "outputs": [],
   "metadata": {
    "scrolled": true
   }
  },
  {
   "cell_type": "markdown",
   "source": [
    "Show some of the information about your data, e.g. how many rows, what data types"
   ],
   "metadata": {}
  },
  {
   "cell_type": "code",
   "execution_count": null,
   "source": [
    "df.()"
   ],
   "outputs": [],
   "metadata": {}
  },
  {
   "cell_type": "markdown",
   "source": [
    "Plot the graph of Stock Prices against Date by using dataframe.plot() from pandas. Volume is excluded because it has a different scale."
   ],
   "metadata": {}
  },
  {
   "cell_type": "code",
   "execution_count": null,
   "source": [
    "df.(x=\"Date\",y=[\"Close\",\"Open\",\"High\",\"Low\",\"Adj Close\"])"
   ],
   "outputs": [],
   "metadata": {}
  },
  {
   "cell_type": "markdown",
   "source": [
    "## Prepare data"
   ],
   "metadata": {}
  },
  {
   "cell_type": "markdown",
   "source": [
    "Since various stock prices and Volume data points has different scales, if you want to plot the graph out and visualize, we will use **matplotlib** to plot."
   ],
   "metadata": {}
  },
  {
   "cell_type": "code",
   "execution_count": null,
   "source": [
    "# Define Date as the X-axis and convert dataframe to a numpy array\n",
    "print(type(df))\n",
    "x = df[\"Date\"].values\n",
    "print(type(x))"
   ],
   "outputs": [],
   "metadata": {}
  },
  {
   "cell_type": "code",
   "execution_count": null,
   "source": [
    "# Print out the values and check the size\n",
    "# print(x)\n",
    "print(len(x))"
   ],
   "outputs": [],
   "metadata": {
    "scrolled": false
   }
  },
  {
   "cell_type": "code",
   "execution_count": null,
   "source": [
    "# define the first y-axis which is all stock prices by dropping/removing the Date(x-axis) and Volume(data with different scale)\n",
    "df2 = df.drop(columns=[\"Date\",\"Volume\"])\n",
    "df2.head()\n",
    "y1 = df2.values\n",
    "# print(y1)\n",
    "print(len(y1))"
   ],
   "outputs": [],
   "metadata": {}
  },
  {
   "cell_type": "code",
   "execution_count": null,
   "source": [
    "y2 = df[\"Volume\"].values\n",
    "# print(y2)\n",
    "print(len(y2))"
   ],
   "outputs": [],
   "metadata": {}
  },
  {
   "cell_type": "code",
   "execution_count": null,
   "source": [
    "fig = plt.figure(figsize=(12, 6))\n",
    "ax1 = fig.add_subplot(111)\n",
    "ax1.plot(x,y1)\n",
    "plt.title('Stock features against Date',fontsize=20)\n",
    "ax1.set_xlabel('Date')\n",
    "ax1.set_ylabel('Stock prices')\n",
    "ax2 = ax1.twinx()\n",
    "ax2.set_ylabel('Volume')\n",
    "ax2.plot(x,y2,'c')"
   ],
   "outputs": [],
   "metadata": {}
  },
  {
   "cell_type": "markdown",
   "source": [
    "When creating the Linear Regression Model, \"Date\" can be considered as a contributing factor or feature in training the model. \n",
    "\n",
    "In plain sight, \"Date\" is just a string, but we can convert it directly into a timestamp by using pandas. \n",
    "\n",
    "From the timestamp data-type, we can extract more meaningful features to be used to train our model, e.g. month, quarter, week."
   ],
   "metadata": {}
  },
  {
   "cell_type": "code",
   "execution_count": null,
   "source": [
    "df[\"Date\"] = pd.to_datetime(df.Date,format='%Y-%m-%d')"
   ],
   "outputs": [],
   "metadata": {}
  },
  {
   "cell_type": "code",
   "execution_count": null,
   "source": [
    "df.info()"
   ],
   "outputs": [],
   "metadata": {}
  },
  {
   "cell_type": "markdown",
   "source": [
    "Scikit-learn will not accept String or Timestamp as the data, so we will need to convert the \"Date\" into a much simplier data that scikitlearn can accept."
   ],
   "metadata": {}
  },
  {
   "cell_type": "code",
   "execution_count": null,
   "source": [
    "newdate = df[\"Date\"]\n",
    "\n",
    "df4 = pd.DataFrame({\"year\": newdate.dt.year,\n",
    "              \"month\": newdate.dt.month,\n",
    "              \"day\": newdate.dt.day,\n",
    "              \"hour\": newdate.dt.hour,\n",
    "              \"dayofyear\": newdate.dt.dayofyear,\n",
    "              \"week\": newdate.dt.week,\n",
    "              \"weekofyear\": newdate.dt.weekofyear,\n",
    "              \"dayofweek\": newdate.dt.dayofweek,\n",
    "              \"weekday\": newdate.dt.weekday,\n",
    "              \"quarter\": newdate.dt.quarter,\n",
    "             })\n"
   ],
   "outputs": [],
   "metadata": {
    "scrolled": false
   }
  },
  {
   "cell_type": "code",
   "execution_count": null,
   "source": [
    "df3 = df.drop(columns=[\"Date\"])\n",
    "df5 = pd.concat([df4,df3],axis=1)\n",
    "df5.head()"
   ],
   "outputs": [],
   "metadata": {}
  },
  {
   "cell_type": "markdown",
   "source": [
    "Our data is now ready for model training."
   ],
   "metadata": {}
  },
  {
   "cell_type": "code",
   "execution_count": null,
   "source": [
    "df5.info()"
   ],
   "outputs": [],
   "metadata": {}
  },
  {
   "cell_type": "markdown",
   "source": [
    "Split the data by using this way instead of using train_test_split because we are treating our stock data as a time series data"
   ],
   "metadata": {}
  },
  {
   "cell_type": "code",
   "execution_count": null,
   "source": [
    "train = df5[:200]\n",
    "test = df5[200:]"
   ],
   "outputs": [],
   "metadata": {}
  },
  {
   "cell_type": "code",
   "execution_count": null,
   "source": [
    "train.info()"
   ],
   "outputs": [],
   "metadata": {}
  },
  {
   "cell_type": "code",
   "execution_count": null,
   "source": [
    "test.info()"
   ],
   "outputs": [],
   "metadata": {}
  },
  {
   "cell_type": "code",
   "execution_count": null,
   "source": [
    "X_train = train.drop(\"Close\",axis=1)\n",
    "y_train = train[\"Close\"]\n",
    "X_test = test.drop(\"Close\",axis=1)\n",
    "y_test = test[\"Close\"]"
   ],
   "outputs": [],
   "metadata": {}
  },
  {
   "cell_type": "markdown",
   "source": [
    "## Train model"
   ],
   "metadata": {}
  },
  {
   "cell_type": "code",
   "execution_count": null,
   "source": [
    "model = LinearRegression()\n",
    "model.fit(X_train,y_train)"
   ],
   "outputs": [],
   "metadata": {}
  },
  {
   "cell_type": "markdown",
   "source": [
    "There are 15 coefficients because we have 15 features."
   ],
   "metadata": {}
  },
  {
   "cell_type": "code",
   "execution_count": null,
   "source": [
    "print(model.coef_)\n",
    "print(len(model.coef_))"
   ],
   "outputs": [],
   "metadata": {
    "scrolled": true
   }
  },
  {
   "cell_type": "markdown",
   "source": [
    "## Evaluate"
   ],
   "metadata": {}
  },
  {
   "cell_type": "code",
   "execution_count": null,
   "source": [
    "predictions = model.predict(X_test)"
   ],
   "outputs": [],
   "metadata": {}
  },
  {
   "cell_type": "code",
   "execution_count": null,
   "source": [
    "print('MAE:', metrics.mean_absolute_error(y_test, predictions))\n",
    "print('MSE:', metrics.mean_squared_error(y_test, predictions))\n",
    "print('RMSE:', np.sqrt(metrics.mean_squared_error(y_test, predictions)))"
   ],
   "outputs": [],
   "metadata": {
    "scrolled": true
   }
  },
  {
   "cell_type": "markdown",
   "source": [
    "The evaluation metrics are low which shows that the model is generalizing the data well"
   ],
   "metadata": {}
  },
  {
   "cell_type": "code",
   "execution_count": null,
   "source": [
    "test.insert(16,\"Predictions\",predictions)"
   ],
   "outputs": [],
   "metadata": {}
  },
  {
   "cell_type": "code",
   "execution_count": null,
   "source": [
    "test[[\"Close\",\"Predictions\"]].tail()"
   ],
   "outputs": [],
   "metadata": {}
  },
  {
   "cell_type": "code",
   "execution_count": null,
   "source": [
    "fig = plt.figure(figsize=(14, 6))\n",
    "plt.title(\"Stock Closing Price against Date\",fontsize=20)\n",
    "plt.xlabel(\"Date\")\n",
    "plt.ylabel(\"Stock Closing Price\")\n",
    "plt.plot(train[\"Close\"])\n",
    "plt.plot(test[[\"Close\",\"Predictions\"]])\n"
   ],
   "outputs": [],
   "metadata": {
    "scrolled": false
   }
  },
  {
   "cell_type": "code",
   "execution_count": null,
   "source": [
    "model.score(X_test, y_test)"
   ],
   "outputs": [],
   "metadata": {}
  },
  {
   "cell_type": "markdown",
   "source": [
    "Seems like the model is doing a very good job at predicting the stock price. It could be due to that we are using a small dataset with low number of features.\n",
    "\n",
    "Let us try to build another linear regression model with the same dataset, but this time, let us use the \"date\" as the only feature."
   ],
   "metadata": {}
  },
  {
   "cell_type": "markdown",
   "source": [
    "## Train model using date only"
   ],
   "metadata": {}
  },
  {
   "cell_type": "code",
   "execution_count": null,
   "source": [
    "df5.info()"
   ],
   "outputs": [],
   "metadata": {}
  },
  {
   "cell_type": "code",
   "execution_count": null,
   "source": [
    "train = df5[:200]\n",
    "test = df5[200:]"
   ],
   "outputs": [],
   "metadata": {}
  },
  {
   "cell_type": "code",
   "execution_count": null,
   "source": [
    "X_train = train.drop([\"Close\",\"Open\",\"High\",\"Low\",\"Adj Close\",\"Volume\"],axis=1)\n",
    "y_train = train[\"Close\"]\n",
    "X_test = test.drop([\"Close\",\"Open\",\"High\",\"Low\",\"Adj Close\",\"Volume\"],axis=1)\n",
    "y_test = test[\"Close\"]"
   ],
   "outputs": [],
   "metadata": {}
  },
  {
   "cell_type": "code",
   "execution_count": null,
   "source": [
    "model = LinearRegression()\n",
    "model.fit(X_train,y_train)"
   ],
   "outputs": [],
   "metadata": {}
  },
  {
   "cell_type": "code",
   "execution_count": null,
   "source": [
    "print(model.coef_)\n",
    "print(len(model.coef_))"
   ],
   "outputs": [],
   "metadata": {}
  },
  {
   "cell_type": "markdown",
   "source": [
    "### Understanding coefficients\n",
    "The coefficients are the mathematical representations of the features to the label. In this example, there are ten coefficients. Every value corresponds to each feature in the data. The value can be negative or positive.\n",
    "\n",
    "The sign(positive or negative) of the coefficient indicates that correlation between independent and dependent variable.\n",
    "- Independent variable: Feature(One column)\n",
    "- Dependent variable: target\n",
    "\n",
    "All coefficient values lie between -1 and 1. \n",
    "\n",
    "#### Towards +1\n",
    "As the value of the independent variable increase, the value of the dependent variable tends to increase.\n",
    "\n",
    "#### Towards -1\n",
    "As the value of the independent variable decrease(more negative), the value of the dependent variable tends to increase.\n",
    "\n",
    "#### Close to zero\n",
    "The value that is close to 0 indicates that the independent variable has no significant contribution to the dependent variable."
   ],
   "metadata": {}
  },
  {
   "cell_type": "markdown",
   "source": [
    "## Evaluate"
   ],
   "metadata": {}
  },
  {
   "cell_type": "code",
   "execution_count": null,
   "source": [
    "predictions = model.predict(X_test)\n",
    "print('MAE:', metrics.mean_absolute_error(y_test, predictions))\n",
    "print('MSE:', metrics.mean_squared_error(y_test, predictions))\n",
    "print('RMSE:', np.sqrt(metrics.mean_squared_error(y_test, predictions)))"
   ],
   "outputs": [],
   "metadata": {}
  },
  {
   "cell_type": "markdown",
   "source": [
    "Compared to the model before, the metric produce higher value which indicates the value has higher error than the previous model.\n",
    "\n",
    "The previous model works better."
   ],
   "metadata": {}
  },
  {
   "cell_type": "code",
   "execution_count": null,
   "source": [
    "test.insert(11,\"Predictions\",predictions)\n",
    "test[[\"Close\",\"Predictions\"]].tail()"
   ],
   "outputs": [],
   "metadata": {}
  },
  {
   "cell_type": "code",
   "execution_count": null,
   "source": [
    "fig = plt.figure(figsize=(14, 6))\n",
    "plt.title(\"Stock Closing Price against Date\",fontsize=20)\n",
    "plt.xlabel(\"Date\")\n",
    "plt.ylabel(\"Stock Closing Price\")\n",
    "plt.plot(train[\"Close\"])\n",
    "plt.plot(test[[\"Close\",\"Predictions\"]])"
   ],
   "outputs": [],
   "metadata": {}
  },
  {
   "cell_type": "code",
   "execution_count": null,
   "source": [
    "model.score(X_test, y_test)"
   ],
   "outputs": [],
   "metadata": {}
  },
  {
   "cell_type": "markdown",
   "source": [
    "As you can see, the prediction is very bad when you predict the stock price solely based on the date."
   ],
   "metadata": {}
  }
 ],
 "metadata": {
  "kernelspec": {
   "display_name": "Python 3",
   "language": "python",
   "name": "python3"
  },
  "language_info": {
   "codemirror_mode": {
    "name": "ipython",
    "version": 3
   },
   "file_extension": ".py",
   "mimetype": "text/x-python",
   "name": "python",
   "nbconvert_exporter": "python",
   "pygments_lexer": "ipython3",
   "version": "3.7.3"
  }
 },
 "nbformat": 4,
 "nbformat_minor": 2
}