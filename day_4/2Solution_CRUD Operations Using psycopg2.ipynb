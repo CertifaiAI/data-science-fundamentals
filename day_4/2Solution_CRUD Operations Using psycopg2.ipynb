{
 "cells": [
  {
   "cell_type": "markdown",
   "source": [
    "![logo](https://user-images.githubusercontent.com/59526258/124226124-27125b80-db3b-11eb-8ba1-488d88018ebb.png)\n",
    "> **Copyright (c) 2021 CertifAI Sdn. Bhd.**<br>\n",
    " <br>\n",
    "This program is part of OSRFramework. You can redistribute it and/or modify\n",
    "<br>it under the terms of the GNU Affero General Public License as published by\n",
    "<br>the Free Software Foundation, either version 3 of the License, or\n",
    "<br>(at your option) any later version.\n",
    "<br>\n",
    "<br>This program is distributed in the hope that it will be useful,\n",
    "<br>but WITHOUT ANY WARRANTY; without even the implied warranty of\n",
    "<br>MERCHANTABILITY or FITNESS FOR A PARTICULAR PURPOSE.  See the\n",
    "<br>GNU Affero General Public License for more details.\n",
    "<br>\n",
    "<br>You should have received a copy of the GNU Affero General Public License\n",
    "<br>along with this program.  If not, see <http://www.gnu.org/licenses/>.\n",
    "<br>"
   ],
   "metadata": {
    "deletable": false,
    "editable": false
   }
  },
  {
   "cell_type": "markdown",
   "source": [
    "# CRUD Operations Using `psycopg2`\n",
    "\n",
    "## Introduction \n",
    "This tutorial is guide readers on how to use `psycopg2` library<sup>[[1]](#1)</sup> to perform create, read, update and delete (CRUD) operations.\n",
    "\n",
    "## What will we accomplish?\n",
    "By using `psycopy2`, readers are able to perform the following in Python:\n",
    "1. Create tables and rows in `PostgreSQL`,\n",
    "2. Read results of tables and rows in `PostgreSQL`,\n",
    "3. Update tables and rows in `PostgreSQL`, and\n",
    "4. Delete tables and rows in `PostgreSQL`.\n",
    "\n",
    "## Instruction\n",
    "You can follow along this notebook by yourself or alongside the instructor.\n",
    "\n",
    "## Notebook Content\n",
    "* [Create Operations](#create)\n",
    "* [Read Operations](#read)\n",
    "* [Update Operations](#update)\n",
    "* [Delete Operations](#delete)\n",
    "* [Exercise](#exercise)\n",
    "* [References](#references)"
   ],
   "metadata": {}
  },
  {
   "cell_type": "markdown",
   "source": [
    "## <a name=\"create\">Create Operations</a>\n",
    "Create operations are done using `INSERT` SQL commands. These commands are used to insert new data into an existing database.\n",
    "\n",
    "Before we get into the actual operations, let's do some setup work first that also serves as a recap of previous notebook - `Introduction to psycopg2`."
   ],
   "metadata": {}
  },
  {
   "cell_type": "markdown",
   "source": [
    "### Recap"
   ],
   "metadata": {}
  },
  {
   "cell_type": "code",
   "execution_count": 28,
   "source": [
    "# Import package\n",
    "import psycopg2\n",
    "from psycopg2 import sql\n",
    "\n",
    "# Establish connection to Postgres server\n",
    "conn = psycopg2.connect(\n",
    "    host=\"localhost\",\n",
    "    user=\"postgres\",\n",
    "    password=\"asd\",\n",
    "    database=\"postgres\"\n",
    ")\n",
    "\n",
    "# Create a new database\n",
    "conn.autocommit = True\n",
    "cursor = conn.cursor()\n",
    "cursor.execute(\"CREATE DATABASE psycopg;\")\n",
    "\n",
    "# Disconnect from \"postgres\" DB\n",
    "cursor.close()\n",
    "conn.close()\n",
    "\n",
    "# Establish connection to newly created \"psycopy\" DB\n",
    "conn = psycopg2.connect(\n",
    "    host=\"localhost\",\n",
    "    user=\"postgres\",\n",
    "    password=\"asd\",\n",
    "    database=\"psycopg\"\n",
    ")\n",
    "\n",
    "# Create cursor object\n",
    "conn.autocommit = True\n",
    "cursor = conn.cursor()"
   ],
   "outputs": [],
   "metadata": {}
  },
  {
   "cell_type": "markdown",
   "source": [
    "Let's create a new table and populate it with some data."
   ],
   "metadata": {}
  },
  {
   "cell_type": "code",
   "execution_count": 29,
   "source": [
    "query = \"\"\"CREATE TABLE country\n",
    "(\n",
    "    country_id INTEGER,\n",
    "    country_name VARCHAR(50) NOT NULL,\n",
    "    country_code VARCHAR(2) UNIQUE NOT NULL,\n",
    "    population INTEGER,\n",
    "    yearly_change NUMERIC(5, 2),\n",
    "    PRIMARY KEY (country_id)\n",
    ");\n",
    "\"\"\"\n",
    "cursor.execute(query)\n"
   ],
   "outputs": [],
   "metadata": {}
  },
  {
   "cell_type": "code",
   "execution_count": 30,
   "source": [
    "# First way of INSERT query by using parameters\n",
    "query = \"\"\"\n",
    "    INSERT INTO country (country_id, country_name, country_code, population, yearly_change)\n",
    "    VALUES (%s, %s, %s, %s, %s);\n",
    "\"\"\"\n",
    "cursor.execute(query, (1, 'Malaysia', 'MY', 32365999, 1.30,))"
   ],
   "outputs": [],
   "metadata": {}
  },
  {
   "cell_type": "code",
   "execution_count": 31,
   "source": [
    "# Alternative way of INSERT query\n",
    "query = \"\"\"\n",
    "    INSERT INTO country (country_id, country_name, country_code, population, yearly_change)\n",
    "VALUES\n",
    "    (2, 'Singapore', 'SG', 5850342, 0.79),\n",
    "    (3, 'Indonesia', 'ID', 126476461, -0.30);\n",
    "\"\"\"\n",
    "cursor.execute(query)"
   ],
   "outputs": [],
   "metadata": {}
  },
  {
   "cell_type": "markdown",
   "source": [
    "We can validate that the table is created by querying the `pg_catalog.pg_tables` catalog. `WHERE` condition is used to filter out irrelevant system tables."
   ],
   "metadata": {}
  },
  {
   "cell_type": "code",
   "execution_count": 32,
   "source": [
    "query = \"\"\"\n",
    "    SELECT pg_tables.tablename\n",
    "    FROM pg_catalog.pg_tables\n",
    "    WHERE schemaname != 'pg_catalog' AND \n",
    "    schemaname != 'information_schema';\n",
    "\"\"\"\n",
    "cursor.execute(query)\n",
    "cursor.fetchall()\n"
   ],
   "outputs": [
    {
     "output_type": "execute_result",
     "data": {
      "text/plain": [
       "[('country',)]"
      ]
     },
     "metadata": {},
     "execution_count": 32
    }
   ],
   "metadata": {}
  },
  {
   "cell_type": "markdown",
   "source": [
    "##  <a name=\"read\">Read Operations</a>\n",
    "\n",
    "Read operations pertain with reading the inserted data. This operation corresponds with `SELECT` command in SQL. Below are some demonstrations on how to read data from tables in database."
   ],
   "metadata": {}
  },
  {
   "cell_type": "markdown",
   "source": [
    "The resultant `conn` is now a `connection` object which encapsulates a database session."
   ],
   "metadata": {}
  },
  {
   "cell_type": "code",
   "execution_count": 33,
   "source": [
    "SELECT_ALL_QUERY = \"SELECT * FROM {};\".format('country')\n",
    "cursor.execute(sql.SQL(SELECT_ALL_QUERY))\n",
    "# Show what is the actual query executed in Postgresql\n",
    "print(cursor.query)\n",
    "\n",
    "cursor.fetchall()"
   ],
   "outputs": [
    {
     "output_type": "stream",
     "name": "stdout",
     "text": [
      "b'SELECT * FROM country;'\n"
     ]
    },
    {
     "output_type": "execute_result",
     "data": {
      "text/plain": [
       "[(1, 'Malaysia', 'MY', 32365999, Decimal('1.30')),\n",
       " (2, 'Singapore', 'SG', 5850342, Decimal('0.79')),\n",
       " (3, 'Indonesia', 'ID', 126476461, Decimal('-0.30'))]"
      ]
     },
     "metadata": {},
     "execution_count": 33
    }
   ],
   "metadata": {}
  },
  {
   "cell_type": "markdown",
   "source": [
    "You might wonder what each column means. We can call `description` attribute for the cursor to display column name."
   ],
   "metadata": {}
  },
  {
   "cell_type": "code",
   "execution_count": 34,
   "source": [
    "cursor.description"
   ],
   "outputs": [
    {
     "output_type": "execute_result",
     "data": {
      "text/plain": [
       "(Column(name='country_id', type_code=23),\n",
       " Column(name='country_name', type_code=1043),\n",
       " Column(name='country_code', type_code=1043),\n",
       " Column(name='population', type_code=23),\n",
       " Column(name='yearly_change', type_code=1700))"
      ]
     },
     "metadata": {},
     "execution_count": 34
    }
   ],
   "metadata": {}
  },
  {
   "cell_type": "markdown",
   "source": [
    "Let's just display the columns `country_name` and `yearly_change` only."
   ],
   "metadata": {}
  },
  {
   "cell_type": "code",
   "execution_count": 35,
   "source": [
    "query = \"\"\"\n",
    "    SELECT {},{} FROM {};\n",
    "    \"\"\".format('country_name', 'population', 'country')\n",
    "cursor.execute(sql.SQL(query))\n",
    "print(cursor.description)\n",
    "cursor.fetchall()\n"
   ],
   "outputs": [
    {
     "output_type": "stream",
     "name": "stdout",
     "text": [
      "(Column(name='country_name', type_code=1043), Column(name='population', type_code=23))\n"
     ]
    },
    {
     "output_type": "execute_result",
     "data": {
      "text/plain": [
       "[('Malaysia', 32365999), ('Singapore', 5850342), ('Indonesia', 126476461)]"
      ]
     },
     "metadata": {},
     "execution_count": 35
    }
   ],
   "metadata": {}
  },
  {
   "cell_type": "markdown",
   "source": [
    "##  <a name=\"update\">Update Operations</a>\n",
    "Update operations pertain with the act of modifying existing data. The corresponding SQL command for this type of operation is, wait for it, `UPDATE` command."
   ],
   "metadata": {}
  },
  {
   "cell_type": "code",
   "execution_count": 36,
   "source": [
    "update_query = \"\"\"\n",
    "    UPDATE {}\n",
    "    SET population = {}, yearly_change = {}\n",
    "    WHERE country_id = 3\n",
    "\"\"\".format('country', 9999, 1.07)\n",
    "cursor.execute(sql.SQL(update_query))\n",
    "cursor.execute(SELECT_ALL_QUERY)\n",
    "cursor.fetchall()"
   ],
   "outputs": [
    {
     "output_type": "execute_result",
     "data": {
      "text/plain": [
       "[(1, 'Malaysia', 'MY', 32365999, Decimal('1.30')),\n",
       " (2, 'Singapore', 'SG', 5850342, Decimal('0.79')),\n",
       " (3, 'Indonesia', 'ID', 9999, Decimal('1.07'))]"
      ]
     },
     "metadata": {},
     "execution_count": 36
    }
   ],
   "metadata": {}
  },
  {
   "cell_type": "markdown",
   "source": [
    "## <a name=\"delete\">Delete Operations</a>\n",
    "\n",
    "Last but not least, delete operations are used to remove existing data. The corresponding SQL command is `DELETE`."
   ],
   "metadata": {}
  },
  {
   "cell_type": "code",
   "execution_count": 37,
   "source": [
    "query = \"\"\"\n",
    "    DELETE FROM {}\n",
    "    WHERE country_name = '{}'\n",
    "\"\"\".format('country', 'Malaysia')\n",
    "cursor.execute(sql.SQL(query))"
   ],
   "outputs": [],
   "metadata": {}
  },
  {
   "cell_type": "markdown",
   "source": [
    "We can also remove the table from the database."
   ],
   "metadata": {}
  },
  {
   "cell_type": "code",
   "execution_count": 38,
   "source": [
    "cursor.execute(sql.SQL(\"DROP TABLE IF EXISTS {};\".format('country')))"
   ],
   "outputs": [],
   "metadata": {}
  },
  {
   "cell_type": "markdown",
   "source": [
    "## <a name=\"exercise\">Exercise</a>\n",
    "\n",
    "Below are exercises to practice what we have just learnt. Follow along the instructions provided in the comment."
   ],
   "metadata": {}
  },
  {
   "cell_type": "code",
   "execution_count": 39,
   "source": [
    "# Create titanic_train table by following the schema provided \n",
    "#    at https://www.kaggle.com/c/titanic/data?select=train.csv\n",
    "query = \"\"\"\n",
    "CREATE TABLE titanic_train\n",
    "(\n",
    "    PassengerId INTEGER PRIMARY KEY,\n",
    "    Survived BOOLEAN NOT NULL,\n",
    "    Pclass INTEGER NOT NULL,\n",
    "    Name VARCHAR(255) NOT NULL,\n",
    "    Sex CHAR(10) NOT NULL,\n",
    "    Age REAL,\n",
    "    SibSp INTEGER NOT NULL,\n",
    "    Parch INTEGER NOT NULL,\n",
    "    Ticket VARCHAR(255) NOT NULL,\n",
    "    Fare REAL NOT NULL,\n",
    "    Cabin CHAR(20),\n",
    "    Embarked CHAR(3)\n",
    ");\n",
    "\"\"\"\n",
    "cursor.execute(query)\n",
    "\n",
    "# Inspect created table schema\n",
    "query = \"\"\"\n",
    "    SELECT column_name, data_type, character_maximum_length, is_nullable\n",
    "    FROM INFORMATION_SCHEMA.COLUMNS \n",
    "    WHERE table_name = 'titanic_train';\"\"\"\n",
    "\n",
    "cursor.execute(query)\n",
    "cursor.fetchall()\n"
   ],
   "outputs": [
    {
     "output_type": "execute_result",
     "data": {
      "text/plain": [
       "[('passengerid', 'integer', None, 'NO'),\n",
       " ('survived', 'boolean', None, 'NO'),\n",
       " ('pclass', 'integer', None, 'NO'),\n",
       " ('age', 'real', None, 'YES'),\n",
       " ('sibsp', 'integer', None, 'NO'),\n",
       " ('parch', 'integer', None, 'NO'),\n",
       " ('fare', 'real', None, 'NO'),\n",
       " ('cabin', 'character', 20, 'YES'),\n",
       " ('name', 'character varying', 255, 'NO'),\n",
       " ('sex', 'character', 10, 'NO'),\n",
       " ('ticket', 'character varying', 255, 'NO'),\n",
       " ('embarked', 'character', 3, 'YES')]"
      ]
     },
     "metadata": {},
     "execution_count": 39
    }
   ],
   "metadata": {}
  },
  {
   "cell_type": "code",
   "execution_count": 40,
   "source": [
    "# Get valid dataset path\n",
    "from pathlib import Path\n",
    "dataset_path = str(Path().resolve().parent/\"data/titanic_train.csv\")\n",
    "\n",
    "# Copy over data from csv file to DB\n",
    "query = \"\"\"\n",
    "COPY titanic_train\n",
    "FROM '{0}'\n",
    "DELIMITER ','\n",
    "CSV HEADER;\n",
    "\"\"\".format(dataset_path)\n",
    "cursor.execute(query)"
   ],
   "outputs": [],
   "metadata": {}
  },
  {
   "cell_type": "code",
   "execution_count": 41,
   "source": [
    "# Read first 3 rows ordered by PassengerId\n",
    "cursor.execute(\"SELECT * FROM titanic_train ORDER BY PassengerId LIMIT 3;\")\n",
    "cursor.fetchall()"
   ],
   "outputs": [
    {
     "output_type": "execute_result",
     "data": {
      "text/plain": [
       "[(1,\n",
       "  False,\n",
       "  3,\n",
       "  'Braund, Mr. Owen Harris',\n",
       "  'male      ',\n",
       "  22.0,\n",
       "  1,\n",
       "  0,\n",
       "  'A/5 21171',\n",
       "  7.25,\n",
       "  None,\n",
       "  'S  '),\n",
       " (2,\n",
       "  True,\n",
       "  1,\n",
       "  'Cumings, Mrs. John Bradley (Florence Briggs Thayer)',\n",
       "  'female    ',\n",
       "  38.0,\n",
       "  1,\n",
       "  0,\n",
       "  'PC 17599',\n",
       "  71.2833,\n",
       "  'C85                 ',\n",
       "  'C  '),\n",
       " (3,\n",
       "  True,\n",
       "  3,\n",
       "  'Heikkinen, Miss. Laina',\n",
       "  'female    ',\n",
       "  26.0,\n",
       "  0,\n",
       "  0,\n",
       "  'STON/O2. 3101282',\n",
       "  7.925,\n",
       "  None,\n",
       "  'S  ')]"
      ]
     },
     "metadata": {},
     "execution_count": 41
    }
   ],
   "metadata": {}
  },
  {
   "cell_type": "code",
   "execution_count": 42,
   "source": [
    "# Update passenger name for PassengerId 1 with your friend's name\n",
    "cursor.execute(\"\"\"\n",
    "    UPDATE titanic_train\n",
    "    SET name = 'Mark Zuck'\n",
    "    WHERE PassengerId = 1;\n",
    "    \"\"\")"
   ],
   "outputs": [],
   "metadata": {}
  },
  {
   "cell_type": "code",
   "execution_count": 43,
   "source": [
    "# Remove all rows where passengers did not survive\n",
    "cursor.execute(\"\"\"\n",
    "    DELETE FROM titanic_train\n",
    "    WHERE survived = false;\n",
    "\"\"\")\n",
    "\n",
    "# Remove titanic_train table\n",
    "cursor.execute(\"DROP TABLE IF EXISTS titanic_train\")"
   ],
   "outputs": [],
   "metadata": {}
  },
  {
   "cell_type": "markdown",
   "source": [
    "### Clean-up\n",
    "\n",
    "Let's remove the database we created solely for this notebook. You may keep it but we are not going to use it for the remainder of this course."
   ],
   "metadata": {}
  },
  {
   "cell_type": "code",
   "execution_count": 45,
   "source": [
    "# Drop the \"practice\" database and return existing DBs\n",
    "cursor.close()\n",
    "conn.close()\n",
    "conn = psycopg2.connect(\n",
    "    user=\"postgres\",\n",
    "    password=\"asd\",\n",
    "    host=\"localhost\",\n",
    "    database=\"postgres\"\n",
    ")\n",
    "conn.autocommit = True\n",
    "cursor = conn.cursor()\n",
    "cursor.execute(\"DROP DATABASE IF EXISTS psycopg\")\n",
    "cursor.execute(\"SELECT datname FROM pg_database;\")\n",
    "display(cursor.fetchall())\n",
    "cursor.close()\n",
    "conn.close()"
   ],
   "outputs": [
    {
     "output_type": "display_data",
     "data": {
      "text/plain": [
       "[('postgres',), ('suppliers',), ('template1',), ('template0',)]"
      ]
     },
     "metadata": {}
    }
   ],
   "metadata": {}
  },
  {
   "cell_type": "markdown",
   "source": [
    "## <a name=\"Summary\">Summary \n",
    "After this tutorial, you should have been able to:\n",
    "\n",
    "1. Create tables and rows in `PostgreSQL`,\n",
    "2. Read results of tables and rows in `PostgreSQL`,\n",
    "3. Update tables and rows in `PostgreSQL`, and\n",
    "4. Delete tables and rows in `PostgreSQL`.\n",
    "\n",
    "Congratulations, that concludes this lesson."
   ],
   "metadata": {}
  },
  {
   "cell_type": "markdown",
   "source": [
    "## Contributors\n",
    "**Author**<br>\n",
    "[Lee Kian Yang](https://github.com/KianYang-Lee)\n"
   ],
   "metadata": {}
  },
  {
   "cell_type": "markdown",
   "source": [
    "## <a name=\"references\">References</a>\n",
    "- <a name=\"1\">[1]</a> [psycopg Official Website](https://www.psycopg.org/)\n",
    "- [PostgreSQL Python: Create Tables](https://www.postgresqltutorial.com/postgresql-python/create-tables/)\n",
    "- [Psycopy 2.9.1 Documentation: Query Parameters](https://www.psycopg.org/docs/usage.html#query-parameters)\n",
    "- [Passing Table Name as a Parameter in psycopg2](https://stackoverflow.com/questions/13793399/passing-table-name-as-a-parameter-in-psycopg2)"
   ],
   "metadata": {}
  }
 ],
 "metadata": {
  "kernelspec": {
   "name": "python3",
   "display_name": "Python 3.8.5 64-bit ('venv': venv)"
  },
  "language_info": {
   "codemirror_mode": {
    "name": "ipython",
    "version": 3
   },
   "file_extension": ".py",
   "mimetype": "text/x-python",
   "name": "python",
   "nbconvert_exporter": "python",
   "pygments_lexer": "ipython3",
   "version": "3.8.5"
  },
  "varInspector": {
   "cols": {
    "lenName": 16,
    "lenType": 16,
    "lenVar": 40
   },
   "kernels_config": {
    "python": {
     "delete_cmd_postfix": "",
     "delete_cmd_prefix": "del ",
     "library": "var_list.py",
     "varRefreshCmd": "print(var_dic_list())"
    },
    "r": {
     "delete_cmd_postfix": ") ",
     "delete_cmd_prefix": "rm(",
     "library": "var_list.r",
     "varRefreshCmd": "cat(var_dic_list()) "
    }
   },
   "types_to_exclude": [
    "module",
    "function",
    "builtin_function_or_method",
    "instance",
    "_Feature"
   ],
   "window_display": false
  },
  "interpreter": {
   "hash": "630afd8129cc56065ed4d4d81af6eae2da5cb255f0e412d08dc57eebcc4b11ee"
  }
 },
 "nbformat": 4,
 "nbformat_minor": 4
}