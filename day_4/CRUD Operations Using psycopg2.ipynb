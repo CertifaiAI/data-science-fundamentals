{
 "cells": [
  {
   "cell_type": "markdown",
   "metadata": {
    "deletable": false,
    "editable": false
   },
   "source": [
    "![license_header_logo](images/license_header_logo.png)\n",
    "> **Copyright (c) 2021 CertifAI Sdn. Bhd.**<br>\n",
    " <br>\n",
    "This program is part of OSRFramework. You can redistribute it and/or modify\n",
    "<br>it under the terms of the GNU Affero General Public License as published by\n",
    "<br>the Free Software Foundation, either version 3 of the License, or\n",
    "<br>(at your option) any later version.\n",
    "<br>\n",
    "<br>This program is distributed in the hope that it will be useful,\n",
    "<br>but WITHOUT ANY WARRANTY; without even the implied warranty of\n",
    "<br>MERCHANTABILITY or FITNESS FOR A PARTICULAR PURPOSE.  See the\n",
    "<br>GNU Affero General Public License for more details.\n",
    "<br>\n",
    "<br>You should have received a copy of the GNU Affero General Public License\n",
    "<br>along with this program.  If not, see <http://www.gnu.org/licenses/>.\n",
    "<br>"
   ]
  },
  {
   "cell_type": "markdown",
   "metadata": {},
   "source": [
    "# CRUD Operations Using `psycopg2`\n",
    "\n",
    "## Introduction \n",
    "This tutorial is guide readers on how to use `psycopg2` library<sup>[[1]](#1)</sup> to perform create, read, update and delete (CRUD) operations.\n",
    "\n",
    "## What will we accomplish?\n",
    "By using `psycopy2`, readers are able to perform the following in Python:\n",
    "1. Create tables and rows in `PostgreSQL`,\n",
    "2. Read results of tables and rows in `PostgreSQL`,\n",
    "3. Update tables and rows in `PostgreSQL`, and\n",
    "4. Delete tables and rows in `PostgreSQL`.\n",
    "\n",
    "## Instruction\n",
    "You can follow along this notebook by yourself or alongside the instructor.\n",
    "\n",
    "## Notebook Content\n",
    "* [Create Operations](#create)\n",
    "* [Read Operations](#read)\n",
    "* [Update Operations](#update)\n",
    "* [Delete Operations](#delete)\n",
    "* [Exercise](#exercise)\n",
    "* [References](#references)"
   ]
  },
  {
   "cell_type": "markdown",
   "metadata": {},
   "source": [
    "## <a name=\"create\">Create Operations</a>\n",
    "Create operations are done using `INSERT` SQL commands. These commands are used to insert new data into an existing database.\n",
    "\n",
    "Before we get into the actual operations, let's do some setup work first that also serves as a recap of previous notebook - `Introduction to psycopg2`."
   ]
  },
  {
   "cell_type": "markdown",
   "metadata": {},
   "source": [
    "### Recap"
   ]
  },
  {
   "cell_type": "code",
   "execution_count": 3,
   "metadata": {},
   "outputs": [],
   "source": [
    "# Import package\n",
    "import psycopg2\n",
    "\n",
    "# Establish connection to Postgres server\n",
    "conn = psycopg2.connect(\n",
    "    host=\"localhost\",\n",
    "    user=\"postgres\",\n",
    "    password=\"asd\",\n",
    "    database=\"postgres\"\n",
    ")\n",
    "\n",
    "# Create a new database\n",
    "conn.autocommit = True\n",
    "cursor = conn.cursor()\n",
    "cursor.execute(\"CREATE DATABASE psycopg;\")\n",
    "\n",
    "# Disconnect from \"postgres\" DB\n",
    "cursor.close()\n",
    "conn.close()\n",
    "\n",
    "# Establish connection to newly created \"psycopy\" DB\n",
    "conn = psycopg2.connect(\n",
    "    host=\"localhost\",\n",
    "    user=\"postgres\",\n",
    "    password=\"asd\",\n",
    "    database=\"psycopg\"\n",
    ")\n",
    "\n",
    "# Create cursor object\n",
    "conn.autocommit = True\n",
    "cursor = conn.cursor()"
   ]
  },
  {
   "cell_type": "markdown",
   "metadata": {},
   "source": [
    "Let's create a new table and populate it with some data."
   ]
  },
  {
   "cell_type": "code",
   "execution_count": 4,
   "metadata": {},
   "outputs": [],
   "source": [
    "query = \"\"\"CREATE TABLE country\n",
    "(\n",
    "    country_id INTEGER,\n",
    "    country_name VARCHAR(50) NOT NULL,\n",
    "    country_code VARCHAR(2) UNIQUE NOT NULL,\n",
    "    population INTEGER,\n",
    "    yearly_change NUMERIC(5, 2),\n",
    "    PRIMARY KEY (country_id)\n",
    ");\"\"\"\n",
    "cursor.execute(query)"
   ]
  },
  {
   "cell_type": "code",
   "execution_count": 19,
   "metadata": {},
   "outputs": [
    {
     "ename": "UniqueViolation",
     "evalue": "duplicate key value violates unique constraint \"country_pkey\"\nDETAIL:  Key (country_id)=(1) already exists.\n",
     "output_type": "error",
     "traceback": [
      "\u001b[0;31m---------------------------------------------------------------------------\u001b[0m",
      "\u001b[0;31mUniqueViolation\u001b[0m                           Traceback (most recent call last)",
      "\u001b[0;32m/tmp/ipykernel_14455/1362789187.py\u001b[0m in \u001b[0;36m<module>\u001b[0;34m\u001b[0m\n\u001b[1;32m      3\u001b[0m     \u001b[0mVALUES\u001b[0m \u001b[0;34m(\u001b[0m\u001b[0;36m1\u001b[0m\u001b[0;34m,\u001b[0m \u001b[0;34m'Malaysia'\u001b[0m\u001b[0;34m,\u001b[0m \u001b[0;34m'MY'\u001b[0m\u001b[0;34m,\u001b[0m \u001b[0;36m32365999\u001b[0m\u001b[0;34m,\u001b[0m \u001b[0;36m1.30\u001b[0m\u001b[0;34m)\u001b[0m\u001b[0;34m;\u001b[0m\u001b[0;34m\u001b[0m\u001b[0;34m\u001b[0m\u001b[0m\n\u001b[1;32m      4\u001b[0m \"\"\"\n\u001b[0;32m----> 5\u001b[0;31m \u001b[0mcursor\u001b[0m\u001b[0;34m.\u001b[0m\u001b[0mexecute\u001b[0m\u001b[0;34m(\u001b[0m\u001b[0mquery\u001b[0m\u001b[0;34m)\u001b[0m\u001b[0;34m\u001b[0m\u001b[0;34m\u001b[0m\u001b[0m\n\u001b[0m",
      "\u001b[0;31mUniqueViolation\u001b[0m: duplicate key value violates unique constraint \"country_pkey\"\nDETAIL:  Key (country_id)=(1) already exists.\n"
     ]
    }
   ],
   "source": [
    "# First way of INSERT query\n",
    "query = \"\"\"\n",
    "    INSERT INTO country (country_id, country_name, country_code, population, yearly_change)\n",
    "    VALUES (1, 'Malaysia', 'MY', 32365999, 1.30);\n",
    "\"\"\"\n",
    "cursor.execute(query)"
   ]
  },
  {
   "cell_type": "code",
   "execution_count": 20,
   "metadata": {},
   "outputs": [],
   "source": [
    "# Alternative way of INSERT query\n",
    "query = \"\"\"\n",
    "    INSERT INTO country (country_id, country_name, country_code, population, yearly_change)\n",
    "VALUES\n",
    "    (2, 'Singapore', 'SG', 5850342, 0.79),\n",
    "    (3, 'Indonesia', 'ID', 126476461, -0.30);\n",
    "\"\"\"\n",
    "cursor.execute(query)"
   ]
  },
  {
   "cell_type": "markdown",
   "metadata": {},
   "source": [
    "We can validate that the table is created by querying the `pg_catalog.pg_tables` catalog. `WHERE` condition is used to filter out irrelevant system tables."
   ]
  },
  {
   "cell_type": "code",
   "execution_count": 16,
   "metadata": {},
   "outputs": [
    {
     "data": {
      "text/plain": [
       "[('country',)]"
      ]
     },
     "execution_count": 16,
     "metadata": {},
     "output_type": "execute_result"
    }
   ],
   "source": [
    "query = \"\"\"\n",
    "    SELECT pg_tables.tablename\n",
    "    FROM pg_catalog.pg_tables\n",
    "    WHERE schemaname != 'pg_catalog' AND \n",
    "    schemaname != 'information_schema';\n",
    "\"\"\"\n",
    "cursor.execute(query)\n",
    "cursor.fetchall()"
   ]
  },
  {
   "cell_type": "markdown",
   "metadata": {},
   "source": [
    "##  <a name=\"read\">Read Operations</a>\n",
    "\n",
    "Read operations pertain with reading the inserted data. This operation corresponds with `SELECT` command in SQL. Below are some demonstrations on how to read data from tables in database."
   ]
  },
  {
   "cell_type": "markdown",
   "metadata": {},
   "source": [
    "The resultant `conn` is now a `connection` object which encapsulates a database session."
   ]
  },
  {
   "cell_type": "code",
   "execution_count": 21,
   "metadata": {},
   "outputs": [
    {
     "data": {
      "text/plain": [
       "[(1, 'Malaysia', 'MY', 32365999, Decimal('1.30')),\n",
       " (2, 'Singapore', 'SG', 5850342, Decimal('0.79')),\n",
       " (3, 'Indonesia', 'ID', 126476461, Decimal('-0.30'))]"
      ]
     },
     "execution_count": 21,
     "metadata": {},
     "output_type": "execute_result"
    }
   ],
   "source": [
    "cursor.execute(\"SELECT * FROM country;\")\n",
    "cursor.fetchall()"
   ]
  },
  {
   "cell_type": "markdown",
   "metadata": {},
   "source": [
    "You might wonder what each column means. We can call `description` attribute for the cursor to display column name."
   ]
  },
  {
   "cell_type": "code",
   "execution_count": 23,
   "metadata": {},
   "outputs": [
    {
     "data": {
      "text/plain": [
       "(Column(name='country_id', type_code=23),\n",
       " Column(name='country_name', type_code=1043),\n",
       " Column(name='country_code', type_code=1043),\n",
       " Column(name='population', type_code=23),\n",
       " Column(name='yearly_change', type_code=1700))"
      ]
     },
     "execution_count": 23,
     "metadata": {},
     "output_type": "execute_result"
    }
   ],
   "source": [
    "cursor.description"
   ]
  },
  {
   "cell_type": "markdown",
   "metadata": {},
   "source": [
    "Let's just display the columns `country_name` and `yearly_change` only."
   ]
  },
  {
   "cell_type": "code",
   "execution_count": 25,
   "metadata": {},
   "outputs": [
    {
     "name": "stdout",
     "output_type": "stream",
     "text": [
      "(Column(name='country_name', type_code=1043), Column(name='population', type_code=23))\n"
     ]
    },
    {
     "data": {
      "text/plain": [
       "[('Malaysia', 32365999), ('Singapore', 5850342), ('Indonesia', 126476461)]"
      ]
     },
     "execution_count": 25,
     "metadata": {},
     "output_type": "execute_result"
    }
   ],
   "source": [
    "cursor.execute(\"SELECT country_name, population FROM country;\")\n",
    "print(cursor.description)\n",
    "cursor.fetchall()"
   ]
  },
  {
   "cell_type": "markdown",
   "metadata": {},
   "source": [
    "##  <a name=\"update\">Update Operations</a>\n",
    "Update operations pertain with the act of modifying existing data. The corresponding SQL command for this type of operation is, wait for it, `UPDATE` command."
   ]
  },
  {
   "cell_type": "code",
   "execution_count": 30,
   "metadata": {},
   "outputs": [
    {
     "data": {
      "text/plain": [
       "[(1, 'Malaysia', 'MY', 32365999, Decimal('1.30')),\n",
       " (2, 'Singapore', 'SG', 5850342, Decimal('0.79')),\n",
       " (3, 'Indonesia', 'ID', 9999, Decimal('1.07'))]"
      ]
     },
     "execution_count": 30,
     "metadata": {},
     "output_type": "execute_result"
    }
   ],
   "source": [
    "update_query = \"\"\"\n",
    "    UPDATE country\n",
    "    SET population = 9999, yearly_change = 1.07\n",
    "    WHERE country_id = 3\n",
    "\"\"\"\n",
    "cursor.execute(update_query)\n",
    "cursor.execute(\"SELECT * FROM country;\")\n",
    "cursor.fetchall()"
   ]
  },
  {
   "cell_type": "markdown",
   "metadata": {},
   "source": [
    "## <a name=\"delete\">Delete Operations</a>\n",
    "\n",
    "Last but not least, delete operations are used to remove existing data. The corresponding SQL command is `DELETE`."
   ]
  },
  {
   "cell_type": "code",
   "execution_count": 33,
   "metadata": {},
   "outputs": [
    {
     "data": {
      "text/plain": [
       "[(1, 'Malaysia', 'MY', 32365999, Decimal('1.30')),\n",
       " (2, 'Singapore', 'SG', 5850342, Decimal('0.79'))]"
      ]
     },
     "execution_count": 33,
     "metadata": {},
     "output_type": "execute_result"
    }
   ],
   "source": [
    "query = \"\"\"\n",
    "    DELETE FROM country\n",
    "    WHERE country_name = 'Indonesia'\n",
    "\"\"\"\n",
    "cursor.execute(query)\n",
    "cursor.execute(\"SELECT * FROM country;\")\n",
    "cursor.fetchall()"
   ]
  },
  {
   "cell_type": "markdown",
   "metadata": {},
   "source": [
    "We can also remove the table from the database."
   ]
  },
  {
   "cell_type": "code",
   "execution_count": 34,
   "metadata": {},
   "outputs": [],
   "source": [
    "cursor.execute(\"DROP TABLE IF EXISTS country;\")"
   ]
  },
  {
   "cell_type": "markdown",
   "metadata": {},
   "source": [
    "## <a name=\"exercise\">Exercise</a>\n",
    "\n",
    "Below are exercises to practice what we have just learnt. Follow along the instructions provided in the comment."
   ]
  },
  {
   "cell_type": "code",
   "execution_count": null,
   "metadata": {},
   "outputs": [],
   "source": [
    "# Create titanic_train table\n",
    "query = \"\"\"\n",
    "CREATE TABLE university\n",
    "(\n",
    "    university_id INTEGER,\n",
    "    university_name VARCHAR(255) UNIQUE NOT NULL,\n",
    "    phone_num VARCHAR(255),\n",
    "    email VARCHAR(255),\n",
    "    PRIMARY KEY (university_id)\n",
    ");\n",
    "\"\"\"\n",
    "cursor.execute(query)"
   ]
  },
  {
   "cell_type": "markdown",
   "metadata": {},
   "source": [
    "### Clean-up\n",
    "\n",
    "Let's remove the database we created solely for this notebook. You may keep it but we are not going to use it for the remainder of this course."
   ]
  },
  {
   "cell_type": "code",
   "execution_count": 2,
   "metadata": {},
   "outputs": [
    {
     "data": {
      "text/plain": [
       "[('postgres',), ('suppliers',), ('template1',), ('template0',)]"
      ]
     },
     "metadata": {},
     "output_type": "display_data"
    }
   ],
   "source": [
    "# Drop the \"practice\" database and return existing DBs\n",
    "cursor.close()\n",
    "conn.close()\n",
    "conn = psycopg2.connect(\n",
    "    user=\"postgres\",\n",
    "    password=\"asd\",\n",
    "    host=\"localhost\",\n",
    "    database=\"postgres\"\n",
    ")\n",
    "conn.autocommit = True\n",
    "cursor = conn.cursor()\n",
    "cursor.execute(\"DROP DATABASE IF EXISTS psycopg\")\n",
    "cursor.execute(\"SELECT datname FROM pg_database;\")\n",
    "display(cursor.fetchall())\n",
    "cursor.close()\n",
    "conn.close()"
   ]
  },
  {
   "cell_type": "markdown",
   "metadata": {},
   "source": [
    "## <a name=\"Summary\">Summary \n",
    "After this tutorial, you should have been able to:\n",
    "\n",
    "1. Create tables and rows in `PostgreSQL`,\n",
    "2. Read results of tables and rows in `PostgreSQL`,\n",
    "3. Update tables and rows in `PostgreSQL`, and\n",
    "4. Delete tables and rows in `PostgreSQL`.\n",
    "\n",
    "Congratulations, that concludes this lesson."
   ]
  },
  {
   "cell_type": "markdown",
   "metadata": {},
   "source": [
    "## Contributors\n",
    "**Author**<br>\n",
    "[Lee Kian Yang](https://github.com/KianYang-Lee)\n"
   ]
  },
  {
   "cell_type": "markdown",
   "metadata": {},
   "source": [
    "## <a name=\"references\">References</a>\n",
    "- <a name=\"1\">[1]</a> [psycopg Official Website](https://www.psycopg.org/)\n",
    "- [PostgreSQL Python: Create Tables](https://www.postgresqltutorial.com/postgresql-python/create-tables/)\n"
   ]
  }
 ],
 "metadata": {
  "kernelspec": {
   "display_name": "Python 3 (ipykernel)",
   "language": "python",
   "name": "python3"
  },
  "language_info": {
   "codemirror_mode": {
    "name": "ipython",
    "version": 3
   },
   "file_extension": ".py",
   "mimetype": "text/x-python",
   "name": "python",
   "nbconvert_exporter": "python",
   "pygments_lexer": "ipython3",
   "version": "3.8.5"
  },
  "varInspector": {
   "cols": {
    "lenName": 16,
    "lenType": 16,
    "lenVar": 40
   },
   "kernels_config": {
    "python": {
     "delete_cmd_postfix": "",
     "delete_cmd_prefix": "del ",
     "library": "var_list.py",
     "varRefreshCmd": "print(var_dic_list())"
    },
    "r": {
     "delete_cmd_postfix": ") ",
     "delete_cmd_prefix": "rm(",
     "library": "var_list.r",
     "varRefreshCmd": "cat(var_dic_list()) "
    }
   },
   "types_to_exclude": [
    "module",
    "function",
    "builtin_function_or_method",
    "instance",
    "_Feature"
   ],
   "window_display": false
  }
 },
 "nbformat": 4,
 "nbformat_minor": 4
}
