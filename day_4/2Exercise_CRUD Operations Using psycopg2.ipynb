{
 "cells": [
  {
   "cell_type": "markdown",
   "source": [
    "![logo](https://user-images.githubusercontent.com/59526258/124226124-27125b80-db3b-11eb-8ba1-488d88018ebb.png)\r\n",
    "> **Copyright (c) 2021 CertifAI Sdn. Bhd.**<br>\r\n",
    " <br>\r\n",
    "This program is part of OSRFramework. You can redistribute it and/or modify\r\n",
    "<br>it under the terms of the GNU Affero General Public License as published by\r\n",
    "<br>the Free Software Foundation, either version 3 of the License, or\r\n",
    "<br>(at your option) any later version.\r\n",
    "<br>\r\n",
    "<br>This program is distributed in the hope that it will be useful,\r\n",
    "<br>but WITHOUT ANY WARRANTY; without even the implied warranty of\r\n",
    "<br>MERCHANTABILITY or FITNESS FOR A PARTICULAR PURPOSE.  See the\r\n",
    "<br>GNU Affero General Public License for more details.\r\n",
    "<br>\r\n",
    "<br>You should have received a copy of the GNU Affero General Public License\r\n",
    "<br>along with this program.  If not, see <http://www.gnu.org/licenses/>.\r\n",
    "<br>"
   ],
   "metadata": {
    "deletable": false,
    "editable": false
   }
  },
  {
   "cell_type": "markdown",
   "source": [
    "# CRUD Operations Using `psycopg2`\r\n",
    "\r\n",
    "## Introduction \r\n",
    "This tutorial is guide readers on how to use `psycopg2` library<sup>[[1]](#1)</sup> to perform create, read, update and delete (CRUD) operations.\r\n",
    "\r\n",
    "## What will we accomplish?\r\n",
    "By using `psycopy2`, readers are able to perform the following in Python:\r\n",
    "1. Create tables and rows in `PostgreSQL`,\r\n",
    "2. Read results of tables and rows in `PostgreSQL`,\r\n",
    "3. Update tables and rows in `PostgreSQL`, and\r\n",
    "4. Delete tables and rows in `PostgreSQL`.\r\n",
    "\r\n",
    "## Instruction\r\n",
    "You can follow along this notebook by yourself or alongside the instructor.\r\n",
    "\r\n",
    "## Notebook Content\r\n",
    "* [Create Operations](#create)\r\n",
    "* [Read Operations](#read)\r\n",
    "* [Update Operations](#update)\r\n",
    "* [Delete Operations](#delete)\r\n",
    "* [Exercise](#exercise)\r\n",
    "* [References](#references)"
   ],
   "metadata": {}
  },
  {
   "cell_type": "markdown",
   "source": [
    "## <a name=\"create\">Create Operations</a>\r\n",
    "Create operations are done using `INSERT` SQL commands. These commands are used to insert new data into an existing database.\r\n",
    "\r\n",
    "Before we get into the actual operations, let's do some setup work first that also serves as a recap of previous notebook - `Introduction to psycopg2`."
   ],
   "metadata": {}
  },
  {
   "cell_type": "code",
   "execution_count": null,
   "source": [
    "# Import package\r\n",
    "import psycopg2\r\n",
    "from psycopg2 import sql"
   ],
   "outputs": [],
   "metadata": {}
  },
  {
   "cell_type": "markdown",
   "source": [
    "### Recap"
   ],
   "metadata": {}
  },
  {
   "cell_type": "code",
   "execution_count": null,
   "source": [
    "# Establish connection to Postgres server\r\n",
    "conn = psycopg2.connect(\r\n",
    "    host=\"localhost\",\r\n",
    "    user=\"postgres\",\r\n",
    "    password=\"admin\",\r\n",
    "    database=\"postgres\"\r\n",
    ")\r\n",
    "\r\n",
    "# Create a new database\r\n",
    "conn.autocommit = True\r\n",
    "cursor = conn.cursor()\r\n",
    "cursor.execute(\"CREATE DATABASE practice_2;\")\r\n",
    "\r\n",
    "# Disconnect from \"postgres\" DB\r\n",
    "cursor.close()\r\n",
    "conn.close()\r\n",
    "\r\n",
    "# Establish connection to newly created \"practice_2\" DB\r\n",
    "conn = psycopg2.connect(\r\n",
    "    host=\"localhost\",\r\n",
    "    user=\"postgres\",\r\n",
    "    password=\"admin\",\r\n",
    "    database=\"practice_2\"\r\n",
    ")\r\n",
    "\r\n",
    "# Create cursor object\r\n",
    "conn.autocommit = True\r\n",
    "cursor = conn.cursor()"
   ],
   "outputs": [],
   "metadata": {}
  },
  {
   "cell_type": "markdown",
   "source": [
    "Let's create a new table and populate it with some data."
   ],
   "metadata": {}
  },
  {
   "cell_type": "code",
   "execution_count": null,
   "source": [
    "query = \"\"\"\r\n",
    "CREATE TABLE country\r\n",
    "(\r\n",
    "    country_id INTEGER,\r\n",
    "    country_name VARCHAR(50) NOT NULL,\r\n",
    "    country_code VARCHAR(2) UNIQUE NOT NULL,\r\n",
    "    population INTEGER,\r\n",
    "    yearly_change NUMERIC(5, 2),\r\n",
    "    PRIMARY KEY (country_id)\r\n",
    ");\r\n",
    "\"\"\"\r\n",
    "cursor.execute(query)"
   ],
   "outputs": [],
   "metadata": {}
  },
  {
   "cell_type": "code",
   "execution_count": null,
   "source": [
    "# Hardcoded way of INSERT query\r\n",
    "query = \"\"\"\r\n",
    "INSERT INTO country (country_id, country_name, country_code, population, yearly_change)\r\n",
    "VALUES\r\n",
    "    (1, 'Malaysia', 'MY', 32365999, 1.30),\r\n",
    "    (2, 'Singapore', 'SG', 5850342, 0.79);\r\n",
    "\"\"\"\r\n",
    "cursor.execute(query)"
   ],
   "outputs": [],
   "metadata": {}
  },
  {
   "cell_type": "markdown",
   "source": [
    "Replace the values with the `%s` placeholders in the SQL statement string, it will automatically perform type convertion and replacement when SQL statement string & sequence of values are passed into `cursor.execute()`."
   ],
   "metadata": {}
  },
  {
   "cell_type": "code",
   "execution_count": null,
   "source": [
    "# Alternative way of INSERT query by passing parameters\r\n",
    "query = \"\"\"\r\n",
    "INSERT INTO country (country_id, country_name, country_code, population, yearly_change)\r\n",
    "VALUES (%s, %s, %s, %s, %s);\r\n",
    "\"\"\"\r\n",
    "cursor.execute(query, (3, 'Indonesia', 'ID', 126476461, -0.30,))"
   ],
   "outputs": [],
   "metadata": {}
  },
  {
   "cell_type": "markdown",
   "source": [
    "We can validate that the table is created by querying the `pg_catalog.pg_tables` catalog. `WHERE` condition is used to filter out irrelevant system tables."
   ],
   "metadata": {}
  },
  {
   "cell_type": "code",
   "execution_count": null,
   "source": [
    "query = \"\"\"\r\n",
    "SELECT pg_tables.tablename\r\n",
    "FROM pg_catalog.pg_tables\r\n",
    "WHERE schemaname != 'pg_catalog' AND \r\n",
    "schemaname != 'information_schema';\r\n",
    "\"\"\"\r\n",
    "cursor.execute(query)\r\n",
    "cursor.fetchall()"
   ],
   "outputs": [],
   "metadata": {}
  },
  {
   "cell_type": "markdown",
   "source": [
    "##  <a name=\"read\">Read Operations</a>\r\n",
    "\r\n",
    "Read operations pertain with reading the inserted data. This operation corresponds with `SELECT` command in SQL. Below are some demonstrations on how to read data from tables in database."
   ],
   "metadata": {}
  },
  {
   "cell_type": "markdown",
   "source": [
    "To define SQL statement dynamically, we can use SQL string composition. <br>\r\n",
    "Use `sql.SQL()` to create an instance of SQL string composition, then perform `format()` on it. <br>\r\n",
    "`sql.Identifier()` usually is used for table name or column name, we cannot pass a normal string to `format()` on `SQL` string composition."
   ],
   "metadata": {}
  },
  {
   "cell_type": "code",
   "execution_count": null,
   "source": [
    "# SELECT * FROM country;\r\n",
    "\r\n",
    "SQL_query = sql.SQL(\"SELECT * FROM {};\").format(sql.Identifier('country'))\r\n",
    "cursor.execute(SQL_query)\r\n",
    "\r\n",
    "cursor.fetchall()"
   ],
   "outputs": [],
   "metadata": {}
  },
  {
   "cell_type": "code",
   "execution_count": null,
   "source": [
    "# Show what is the actual query executed in Postgresql\r\n",
    "print(cursor.query.decode(\"utf-8\"))"
   ],
   "outputs": [],
   "metadata": {
    "ExecuteTime": {
     "end_time": "2021-10-01T10:06:08.859093Z",
     "start_time": "2021-10-01T10:06:08.849094Z"
    }
   }
  },
  {
   "cell_type": "markdown",
   "source": [
    "You might wonder what each column means. We can call `description` attribute for the cursor to display column name."
   ],
   "metadata": {}
  },
  {
   "cell_type": "code",
   "execution_count": null,
   "source": [
    "cursor.description"
   ],
   "outputs": [],
   "metadata": {}
  },
  {
   "cell_type": "markdown",
   "source": [
    "Let's just display the columns `country_name` and `yearly_change` only."
   ],
   "metadata": {}
  },
  {
   "cell_type": "code",
   "execution_count": null,
   "source": [
    "# SELECT country_name, population FROM country;\r\n",
    "\r\n",
    "SQL_query = sql.SQL(\"\"\"\r\n",
    "    SELECT {},{} FROM {};\r\n",
    "    \"\"\").format(\r\n",
    "    sql.Identifier('country_name'),\r\n",
    "    sql.Identifier('population'),\r\n",
    "    sql.Identifier('country'))\r\n",
    "\r\n",
    "cursor.execute(SQL_query)\r\n",
    "\r\n",
    "cursor.fetchall()"
   ],
   "outputs": [],
   "metadata": {}
  },
  {
   "cell_type": "markdown",
   "source": [
    "##  <a name=\"update\">Update Operations</a>\n",
    "Update operations pertain with the act of modifying existing data. The corresponding SQL command for this type of operation is, wait for it, `UPDATE` command."
   ],
   "metadata": {}
  },
  {
   "cell_type": "markdown",
   "source": [
    "`{}` placeholders are used for table or column names formatting while `%s` placeholders are used for values formatting. <br>\r\n",
    "We can supply index value into `{}` placeholders to indicate which sql Identifier to use."
   ],
   "metadata": {}
  },
  {
   "cell_type": "code",
   "execution_count": null,
   "source": [
    "# UPDATE country\r\n",
    "# SET population = 9999, yearly_change = 1.07\r\n",
    "# WHERE country_id = 3\r\n",
    "# RETURNING *;\r\n",
    "\r\n",
    "SQL_query = sql.SQL(\"\"\"\r\n",
    "    UPDATE {0}\r\n",
    "    SET {1} = %s, {2} = %s\r\n",
    "    WHERE {3} = %s\r\n",
    "    RETURNING *;\r\n",
    "    \"\"\").format(\r\n",
    "    sql.Identifier('country'),\r\n",
    "    sql.Identifier('population'),\r\n",
    "    sql.Identifier('yearly_change'),\r\n",
    "    sql.Identifier('country_id'))\r\n",
    "\r\n",
    "cursor.execute(SQL_query, (9999, 1.07, 3,))\r\n",
    "\r\n",
    "cursor.fetchall()"
   ],
   "outputs": [],
   "metadata": {}
  },
  {
   "cell_type": "code",
   "execution_count": null,
   "source": [
    "print(cursor.query.decode(\"utf-8\"))"
   ],
   "outputs": [],
   "metadata": {
    "ExecuteTime": {
     "end_time": "2021-10-01T10:07:13.103988Z",
     "start_time": "2021-10-01T10:07:13.087414Z"
    }
   }
  },
  {
   "cell_type": "markdown",
   "source": [
    "## <a name=\"delete\">Delete Operations</a>\n",
    "\n",
    "Last but not least, delete operations are used to remove existing data. The corresponding SQL command is `DELETE`."
   ],
   "metadata": {}
  },
  {
   "cell_type": "code",
   "execution_count": null,
   "source": [
    "# DELETE FROM country\r\n",
    "# WHERE country_name = 'Malaysia'\r\n",
    "# RETURNING *;\r\n",
    "\r\n",
    "SQL_query = sql.SQL(\"\"\"\r\n",
    "    DELETE FROM {}\r\n",
    "    WHERE {} = %s\r\n",
    "    RETURNING *;\r\n",
    "    \"\"\").format(\r\n",
    "    sql.Identifier('country'),\r\n",
    "    sql.Identifier('country_name'))\r\n",
    "\r\n",
    "cursor.execute(SQL_query, ('Malaysia',))\r\n",
    "\r\n",
    "cursor.fetchall()"
   ],
   "outputs": [],
   "metadata": {}
  },
  {
   "cell_type": "markdown",
   "source": [
    "We can also remove the table from the database."
   ],
   "metadata": {}
  },
  {
   "cell_type": "code",
   "execution_count": null,
   "source": [
    "# DROP TABLE IF EXISTS country;\r\n",
    "\r\n",
    "SQL_query = sql.SQL(\"DROP TABLE IF EXISTS {};\").format(sql.Identifier('country'))\r\n",
    "\r\n",
    "cursor.execute(SQL_query)"
   ],
   "outputs": [],
   "metadata": {}
  },
  {
   "cell_type": "code",
   "execution_count": null,
   "source": [
    "cursor.close()\r\n",
    "conn.close()"
   ],
   "outputs": [],
   "metadata": {
    "ExecuteTime": {
     "end_time": "2021-10-01T03:28:12.327792Z",
     "start_time": "2021-10-01T03:28:12.317793Z"
    }
   }
  },
  {
   "cell_type": "markdown",
   "source": [
    "## <a name=\"exercise\">Exercise</a>\n",
    "\n",
    "Below are exercises to practice what we have just learnt. Follow along the instructions provided in the comment."
   ],
   "metadata": {}
  },
  {
   "cell_type": "code",
   "execution_count": null,
   "source": [
    "# Establish connection to \"practice_2\" Postgres database\r\n",
    "conn = psycopg2.connect(\r\n",
    "    host=\"localhost\",\r\n",
    "    user=\"postgres\",\r\n",
    "    password=\"admin\",\r\n",
    "    database=\"practice_2\"\r\n",
    ")\r\n",
    "\r\n",
    "# Set autocommit mode & create cursor instance\r\n",
    "conn.autocommit = True\r\n",
    "cursor = conn.cursor()"
   ],
   "outputs": [],
   "metadata": {}
  },
  {
   "cell_type": "markdown",
   "source": [
    "You are required to create another table for `titanic_train` with the columns, data types and constraints defined below.\r\n",
    "\r\n",
    "| Column name | Data Type    | Constraint  |\r\n",
    "| ----------- | ------------ | ----------- |\r\n",
    "| PassengerId | INTEGER      | PRIMARY KEY |\r\n",
    "| Survived    | BOOLEAN      |             |\r\n",
    "| Pclass      | INTEGER      |             |\r\n",
    "| Name        | VARCHAR(255) |             |\r\n",
    "| Sex         | VARCHAR(255) |             |\r\n",
    "| Age         | INTEGER      |             |\r\n",
    "| SibSp       | INTEGER      |             |\r\n",
    "| Parch       | INTEGER      |             |\r\n",
    "| Ticket      | VARCHAR(255) |             |\r\n",
    "| Fare        | REAL         |             |\r\n",
    "| Cabin       | VARCHAR(255) |             |\r\n",
    "| Embarked    | VARCHAR(255) |             |"
   ],
   "metadata": {}
  },
  {
   "cell_type": "code",
   "execution_count": null,
   "source": [
    "# Create titanic_train table by following the schema provided \r\n",
    "#    at https://www.kaggle.com/c/titanic/data?select=train.csv\r\n"
   ],
   "outputs": [],
   "metadata": {}
  },
  {
   "cell_type": "code",
   "execution_count": null,
   "source": [
    "# Inspect created table schema\r\n",
    "query = \"\"\"\r\n",
    "    SELECT column_name, data_type, character_maximum_length, is_nullable\r\n",
    "    FROM INFORMATION_SCHEMA.COLUMNS \r\n",
    "    WHERE table_name = 'titanic_train';\"\"\"\r\n",
    "\r\n",
    "cursor.execute(query)\r\n",
    "cursor.fetchall()"
   ],
   "outputs": [],
   "metadata": {}
  },
  {
   "cell_type": "code",
   "execution_count": null,
   "source": [
    "# Get valid dataset path\r\n",
    "from pathlib import Path\r\n",
    "dataset_path = str(Path().resolve().parent/\"data/titanic_train.csv\")\r\n",
    "\r\n",
    "# Copy over data from csv file to database table\r\n",
    "query = \"\"\"\r\n",
    "COPY titanic_train\r\n",
    "FROM %s\r\n",
    "DELIMITER ','\r\n",
    "CSV HEADER;\r\n",
    "\"\"\"\r\n",
    "cursor.execute(query, (dataset_path,))"
   ],
   "outputs": [],
   "metadata": {}
  },
  {
   "cell_type": "code",
   "execution_count": null,
   "source": [
    "# Read first 3 rows of records from titanic_train table\r\n",
    "# Use \"LIMIT 3;\" in the end of SQL statement\r\n"
   ],
   "outputs": [],
   "metadata": {}
  },
  {
   "cell_type": "code",
   "execution_count": null,
   "source": [
    "# Update passenger name for PassengerId 1 with your friend's name\r\n"
   ],
   "outputs": [],
   "metadata": {}
  },
  {
   "cell_type": "code",
   "execution_count": null,
   "source": [
    "# Remove all rows where passengers did not survive\r\n"
   ],
   "outputs": [],
   "metadata": {}
  },
  {
   "cell_type": "code",
   "execution_count": null,
   "source": [
    "# Remove titanic_train table\r\n"
   ],
   "outputs": [],
   "metadata": {}
  },
  {
   "cell_type": "markdown",
   "source": [
    "### Clean-up\n",
    "\n",
    "Let's remove the database we created solely for this notebook. You may keep it but we are not going to use it for the remainder of this course."
   ],
   "metadata": {}
  },
  {
   "cell_type": "code",
   "execution_count": null,
   "source": [
    "# Close cursor session & connection\r\n"
   ],
   "outputs": [],
   "metadata": {}
  },
  {
   "cell_type": "code",
   "execution_count": null,
   "source": [
    "# Reconnect to \"postgres\" database\r\n",
    "\r\n",
    "\r\n",
    "# Set autocommit mode & create cursor instance\r\n"
   ],
   "outputs": [],
   "metadata": {}
  },
  {
   "cell_type": "code",
   "execution_count": null,
   "source": [
    "# Drop the \"practice_2\" database and return existing DBs\r\n",
    "\r\n",
    "\r\n",
    "# Close current cursor session & connection\r\n"
   ],
   "outputs": [],
   "metadata": {}
  },
  {
   "cell_type": "markdown",
   "source": [
    "## <a name=\"Summary\">Summary \n",
    "After this tutorial, you should have been able to:\n",
    "\n",
    "1. Create tables and rows in `PostgreSQL`,\n",
    "2. Read results of tables and rows in `PostgreSQL`,\n",
    "3. Update tables and rows in `PostgreSQL`, and\n",
    "4. Delete tables and rows in `PostgreSQL`.\n",
    "\n",
    "Congratulations, that concludes this lesson."
   ],
   "metadata": {}
  },
  {
   "cell_type": "markdown",
   "source": [
    "## Contributors\n",
    "**Author**<br>\n",
    "[Lee Kian Yang](https://github.com/KianYang-Lee)\n"
   ],
   "metadata": {}
  },
  {
   "cell_type": "markdown",
   "source": [
    "## <a name=\"references\">References</a>\n",
    "- <a name=\"1\">[1]</a> [psycopg Official Website](https://www.psycopg.org/)\n",
    "- [PostgreSQL Python: Create Tables](https://www.postgresqltutorial.com/postgresql-python/create-tables/)\n",
    "- [Psycopy 2.9.1 Documentation: Query Parameters](https://www.psycopg.org/docs/usage.html#query-parameters)\n",
    "- [Passing Table Name as a Parameter in psycopg2](https://stackoverflow.com/questions/13793399/passing-table-name-as-a-parameter-in-psycopg2)"
   ],
   "metadata": {}
  }
 ],
 "metadata": {
  "kernelspec": {
   "name": "python3",
   "display_name": "Python 3.8.5 64-bit ('venv': venv)"
  },
  "language_info": {
   "codemirror_mode": {
    "name": "ipython",
    "version": 3
   },
   "file_extension": ".py",
   "mimetype": "text/x-python",
   "name": "python",
   "nbconvert_exporter": "python",
   "pygments_lexer": "ipython3",
   "version": "3.8.5"
  },
  "varInspector": {
   "cols": {
    "lenName": 16,
    "lenType": 16,
    "lenVar": 40
   },
   "kernels_config": {
    "python": {
     "delete_cmd_postfix": "",
     "delete_cmd_prefix": "del ",
     "library": "var_list.py",
     "varRefreshCmd": "print(var_dic_list())"
    },
    "r": {
     "delete_cmd_postfix": ") ",
     "delete_cmd_prefix": "rm(",
     "library": "var_list.r",
     "varRefreshCmd": "cat(var_dic_list()) "
    }
   },
   "types_to_exclude": [
    "module",
    "function",
    "builtin_function_or_method",
    "instance",
    "_Feature"
   ],
   "window_display": false
  },
  "interpreter": {
   "hash": "630afd8129cc56065ed4d4d81af6eae2da5cb255f0e412d08dc57eebcc4b11ee"
  }
 },
 "nbformat": 4,
 "nbformat_minor": 4
}