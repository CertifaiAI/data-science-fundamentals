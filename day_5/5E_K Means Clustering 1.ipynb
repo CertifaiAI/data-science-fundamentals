{
 "cells": [
  {
   "cell_type": "markdown",
   "metadata": {
    "deletable": false,
    "editable": false
   },
   "source": [
    "![license_header_logo](https://user-images.githubusercontent.com/59526258/124226124-27125b80-db3b-11eb-8ba1-488d88018ebb.png)\n",
    "> **Copyright (c) 2020-2021 CertifAI Sdn. Bhd.**<br>\n",
    " <br>\n",
    "This program is part of OSRFramework. You can redistribute it and/or modify\n",
    "<br>it under the terms of the GNU Affero General Public License as published by\n",
    "<br>the Free Software Foundation, either version 3 of the License, or\n",
    "<br>(at your option) any later version.\n",
    "<br>\n",
    "<br>This program is distributed in the hope that it will be useful,\n",
    "<br>but WITHOUT ANY WARRANTY; without even the implied warranty of\n",
    "<br>MERCHANTABILITY or FITNESS FOR A PARTICULAR PURPOSE.  See the\n",
    "<br>GNU Affero General Public License for more details.\n",
    "<br>\n",
    "<br>You should have received a copy of the GNU Affero General Public License\n",
    "<br>along with this program.  If not, see <http://www.gnu.org/licenses/>.\n",
    "<br>"
   ]
  },
  {
   "cell_type": "markdown",
   "metadata": {},
   "source": [
    "# Use K Means Clustering for Unsupervised Learning"
   ]
  },
  {
   "cell_type": "markdown",
   "metadata": {},
   "source": [
    "## 1 - Import necessary packages\n",
    "\n",
    "Let's first import all the packages that you will need during this assignment.\n",
    "\n",
    "- **numpy** is the main package for scientific computing with Python.\n",
    "- **matplotlib** is a library to plot graphs in Python.\n",
    "- **sklearn** features various algorithms of machine learning in Python."
   ]
  },
  {
   "cell_type": "code",
   "execution_count": null,
   "metadata": {},
   "outputs": [],
   "source": [
    "import numpy as np\n",
    "import matplotlib.pyplot as plt\n",
    "%matplotlib inline"
   ]
  },
  {
   "cell_type": "markdown",
   "metadata": {},
   "source": [
    "## 2 - Load Dataset"
   ]
  },
  {
   "cell_type": "markdown",
   "metadata": {},
   "source": [
    "Generate  random blobs of points by determining number of clusters and plot it out to visualize."
   ]
  },
  {
   "cell_type": "code",
   "execution_count": null,
   "metadata": {},
   "outputs": [],
   "source": [
    "from sklearn.datasets import make_blobs\n",
    "X, y_true = make_blobs(n_samples=400, centers=4,\n",
    "                       cluster_std=1.0, random_state=6)\n",
    "plt.figure(figsize=(8, 6))\n",
    "plt.scatter(X[:, 0], X[:, 1], s=100)"
   ]
  },
  {
   "cell_type": "markdown",
   "metadata": {},
   "source": [
    "## 3 - K Means Clustering\n",
    "\n",
    "Import scikit learn's K Means clustering algorithm and train the model."
   ]
  },
  {
   "cell_type": "code",
   "execution_count": null,
   "metadata": {},
   "outputs": [],
   "source": [
    "# TODO: Replace {} with ypur solution to import K Means clustering algorithm\n",
    "from sklearn.cluster import {}"
   ]
  },
  {
   "cell_type": "markdown",
   "metadata": {},
   "source": [
    "Specify number of clusters to 4"
   ]
  },
  {
   "cell_type": "code",
   "execution_count": null,
   "metadata": {},
   "outputs": [],
   "source": [
    "# TODO: Replace {} with ypur solution to specify the number of clusters to 4\n",
    "num_clusters = {}"
   ]
  },
  {
   "cell_type": "markdown",
   "metadata": {},
   "source": [
    "## 4 - Train Model\n",
    "\n",
    "Train the KMeans clustering model."
   ]
  },
  {
   "cell_type": "code",
   "execution_count": null,
   "metadata": {},
   "outputs": [],
   "source": [
    "# TODO: Replace {} with your solution to implement KMeans clustering model\n",
    "model = {}(init='k-means++', n_clusters=num_clusters, n_init=10)\n",
    "model.fit(X)"
   ]
  },
  {
   "cell_type": "markdown",
   "metadata": {},
   "source": [
    "> `init` specify method for initialization. **K-means++** selects initial cluster centers for k-mean clustering in a smart way to speed up convergence. It avoiding the sometimes poor clusterings found by the standard k-means algorithm. "
   ]
  },
  {
   "cell_type": "markdown",
   "metadata": {},
   "source": [
    "## 5 - Make Prediction\n",
    "\n",
    "Perform the prediction by using the trained model."
   ]
  },
  {
   "cell_type": "code",
   "execution_count": null,
   "metadata": {},
   "outputs": [],
   "source": [
    "# Step size of the mesh \n",
    "step_size = 0.01 \n",
    " \n",
    "# Plot the Decision Boundaries \n",
    "x_min, x_max = min(X[:, 0]) - 1, max(X[:, 0]) + 1 \n",
    "y_min, y_max = min(X[:, 1]) - 1, max(X[:, 1]) + 1 \n",
    "x_values, y_values = np.meshgrid(np.arange(x_min, x_max, step_size), np.arange(y_min, y_max, step_size)) \n",
    " \n",
    "# Predict labels for all points in the mesh \n",
    "predictions = model.predict(np.c_[x_values.ravel(), y_values.ravel()]) "
   ]
  },
  {
   "cell_type": "markdown",
   "metadata": {},
   "source": [
    "## 6 - Plot Result"
   ]
  },
  {
   "cell_type": "markdown",
   "metadata": {},
   "source": [
    "Draw the ground truth and draw the predictions by using decision boundaries to represent the respective clusters."
   ]
  },
  {
   "cell_type": "code",
   "execution_count": null,
   "metadata": {},
   "outputs": [],
   "source": [
    "# Plot the results \n",
    "predictions = predictions.reshape(x_values.shape) \n",
    "plt.figure(figsize=(8,6)) \n",
    "plt.imshow(predictions, interpolation='nearest', \n",
    "           extent=(x_values.min(), x_values.max(), y_values.min(), y_values.max()), \n",
    "           cmap=plt.cm.Spectral, aspect='auto', origin='lower') \n",
    " \n",
    "plt.scatter(X[:,0], X[:,1], marker='o', \n",
    "    facecolors='none', edgecolors='w', s=30) "
   ]
  },
  {
   "cell_type": "markdown",
   "metadata": {},
   "source": [
    "Draw the centroids by using model.**cluster_centers_**."
   ]
  },
  {
   "cell_type": "code",
   "execution_count": null,
   "metadata": {},
   "outputs": [],
   "source": [
    "# Plot the boundaries \n",
    "predictions = predictions.reshape(x_values.shape) \n",
    "plt.figure(figsize=(8,6)) \n",
    "plt.imshow(predictions, interpolation='nearest', \n",
    "           extent=(x_values.min(), x_values.max(), y_values.min(), y_values.max()), \n",
    "           cmap=plt.cm.Spectral, aspect='auto', origin='lower') \n",
    " \n",
    "plt.scatter(X[:,0], X[:,1], marker='o', \n",
    "            facecolors='none', edgecolors='w', s=30) \n",
    "\n",
    "\n",
    "# TODO: Replace {} with your solution to plot the centroids of the clusters\n",
    "centroids = model.{} \n",
    "plt.scatter(centroids[:,0], centroids[:,1], marker='o', s=200, linewidths=3, \n",
    "            color='k', zorder=10, facecolors='black') \n",
    "x_min, x_max = min(X[:, 0]) - 1, max(X[:, 0]) + 1 \n",
    "y_min, y_max = min(X[:, 1]) - 1, max(X[:, 1]) + 1 \n",
    "plt.title('Centroids and boundaries calculated using KMeans Clustering', fontsize=16) \n",
    "plt.xlim(x_min, x_max) \n",
    "plt.ylim(y_min, y_max) \n",
    "plt.show() "
   ]
  },
  {
   "cell_type": "markdown",
   "metadata": {},
   "source": [
    "> Take note of the **inertia_** which is the **sum of squared distance from each point to their corresponding center**."
   ]
  },
  {
   "cell_type": "code",
   "execution_count": null,
   "metadata": {},
   "outputs": [],
   "source": [
    "model.inertia_"
   ]
  },
  {
   "cell_type": "code",
   "execution_count": null,
   "metadata": {},
   "outputs": [],
   "source": [
    "k_values = np.arange(2,10)\n",
    "inertia = []\n",
    "\n",
    "# TODO: Replace {} with your solution to store model's inertia into inertia list\n",
    "for k in k_values:\n",
    "    model = KMeans(init='k-means++', n_clusters=k, n_init=10)\n",
    "    model.fit(X)\n",
    "    inertia.append(model.{})"
   ]
  },
  {
   "cell_type": "code",
   "execution_count": null,
   "metadata": {},
   "outputs": [],
   "source": [
    "plt.figure(figsize=(10, 6))\n",
    "plt.plot(k_values,inertia,\"o-m\",linewidth=4, markersize=12)\n",
    "plt.title(\"Number of clusters against Inertia\", fontsize=20)\n",
    "plt.xlabel(\"Number of clusters, K \")\n",
    "plt.ylabel(\"Inertia\")"
   ]
  },
  {
   "cell_type": "markdown",
   "metadata": {},
   "source": [
    "By following the elbow rule, we will choose 4 as our number of clusters(K). If we choose 5 or more, the inertia would not decrease significantly. "
   ]
  },
  {
   "cell_type": "markdown",
   "metadata": {},
   "source": [
    "# Exercise: Customer Clustering Analysis"
   ]
  },
  {
   "cell_type": "markdown",
   "metadata": {},
   "source": [
    "> Dataset from Kaggle: [Mall Customer Segmentation Data](https://www.kaggle.com/vjchoudhary7/customer-segmentation-tutorial-in-python)"
   ]
  },
  {
   "cell_type": "markdown",
   "metadata": {},
   "source": [
    "## 1 - Load Dataset"
   ]
  },
  {
   "cell_type": "code",
   "execution_count": null,
   "metadata": {},
   "outputs": [],
   "source": [
    "import pandas as pd"
   ]
  },
  {
   "cell_type": "code",
   "execution_count": null,
   "metadata": {},
   "outputs": [],
   "source": [
    "df = pd.read_csv(\"../data/Mall_Customers.csv\")\n",
    "df.head(10)"
   ]
  },
  {
   "cell_type": "code",
   "execution_count": null,
   "metadata": {},
   "outputs": [],
   "source": [
    "df.shape"
   ]
  },
  {
   "cell_type": "markdown",
   "metadata": {},
   "source": [
    "> This dataset has 200 examples with 5 features"
   ]
  },
  {
   "cell_type": "markdown",
   "metadata": {},
   "source": [
    "Make sure the dataset has no null value."
   ]
  },
  {
   "cell_type": "code",
   "execution_count": null,
   "metadata": {},
   "outputs": [],
   "source": [
    "df.isnull().sum()"
   ]
  },
  {
   "cell_type": "markdown",
   "metadata": {},
   "source": [
    "## 2 - Segmentation by Age and Spending Score"
   ]
  },
  {
   "cell_type": "code",
   "execution_count": null,
   "metadata": {},
   "outputs": [],
   "source": [
    "X = df[['Age', 'Spending Score (1-100)']].iloc[: , :].values"
   ]
  },
  {
   "cell_type": "code",
   "execution_count": null,
   "metadata": {},
   "outputs": [],
   "source": [
    "plt.scatter(X[:, 0], X[:, 1], marker='o')"
   ]
  },
  {
   "cell_type": "markdown",
   "metadata": {},
   "source": [
    "> From the plot, we can aggregated the customers into 4 different categories, which are Priority Customers, Young Target Customers, Senior Target Customers, and Normal Customers."
   ]
  },
  {
   "cell_type": "markdown",
   "metadata": {},
   "source": [
    "## 3 - K Means Clustering"
   ]
  },
  {
   "cell_type": "code",
   "execution_count": null,
   "metadata": {},
   "outputs": [],
   "source": [
    "# TODO: Replace {} with your solution to specify number of clusters\n",
    "k = {}"
   ]
  },
  {
   "cell_type": "code",
   "execution_count": null,
   "metadata": {},
   "outputs": [],
   "source": [
    "# TODO: Replace {} with your solution to specify 'k-means++' for initialization method\n",
    "model = KMeans(init={}, n_clusters=k, n_init=10)\n",
    "\n",
    "# TODO: Replace {} with your solution to fit data into the model\n",
    "model.{}(X)"
   ]
  },
  {
   "cell_type": "code",
   "execution_count": null,
   "metadata": {},
   "outputs": [],
   "source": [
    "# TODO: Replace {} with your solution to specify 0.01 step size of the mesh \n",
    "step_size = {}"
   ]
  },
  {
   "cell_type": "code",
   "execution_count": null,
   "metadata": {},
   "outputs": [],
   "source": [
    "# Plot the Decision Boundaries \n",
    "x_min, x_max = min(X[:, 0]) - 1, max(X[:, 0]) + 1 \n",
    "y_min, y_max = min(X[:, 1]) - 1, max(X[:, 1]) + 1 \n",
    "x_values, y_values = np.meshgrid(np.arange(x_min, x_max, step_size), \n",
    "                                 np.arange(y_min, y_max, step_size)) \n",
    " \n",
    "# TODO: Replace {} with your solution to predict labels for all points in the mesh \n",
    "predictions = model.{}(np.c_[x_values.ravel(), y_values.ravel()]) "
   ]
  },
  {
   "cell_type": "markdown",
   "metadata": {},
   "source": [
    "## 4 - Plotting"
   ]
  },
  {
   "cell_type": "code",
   "execution_count": null,
   "metadata": {},
   "outputs": [],
   "source": [
    "# Plot the results \n",
    "predictions = predictions.reshape(x_values.shape) \n",
    "plt.figure(figsize=(8,6)) \n",
    "plt.imshow(predictions, interpolation='nearest', \n",
    "           extent=(x_values.min(), x_values.max(), y_values.min(), y_values.max()), \n",
    "           cmap=plt.cm.Spectral, aspect='auto', origin='lower') \n",
    " \n",
    "plt.scatter(X[:,0], X[:,1], marker='o', \n",
    "            facecolors='none', edgecolors='w', s=30) "
   ]
  },
  {
   "cell_type": "code",
   "execution_count": null,
   "metadata": {},
   "outputs": [],
   "source": [
    "# Plot the boundaries \n",
    "predictions = predictions.reshape(x_values.shape) \n",
    "plt.figure(figsize=(8,6)) \n",
    "plt.imshow(predictions, interpolation='nearest', \n",
    "           extent=(x_values.min(), x_values.max(), y_values.min(), y_values.max()), \n",
    "           cmap=plt.cm.Spectral, aspect='auto', origin='lower') \n",
    " \n",
    "plt.scatter(X[:,0], X[:,1], marker='o', \n",
    "            facecolors='none', edgecolors='w', s=30) \n",
    "\n",
    "# Plot the centroids of the clusters\n",
    "centroids = model.cluster_centers_ \n",
    "plt.scatter(centroids[:,0], centroids[:,1], marker='o', s=200, \n",
    "            linewidths=3, color='k', zorder=10, facecolors='black') \n",
    "x_min, x_max = min(X[:, 0]) - 1, max(X[:, 0]) + 1 \n",
    "y_min, y_max = min(X[:, 1]) - 1, max(X[:, 1]) + 1 \n",
    "plt.title('Centroids and boundaries calculated using KMeans Clustering', fontsize=16) \n",
    "plt.xlabel('Age')\n",
    "plt.ylabel('Spending Score of Customer')\n",
    "plt.xlim(x_min, x_max) \n",
    "plt.ylim(y_min, y_max) \n",
    "plt.show() "
   ]
  },
  {
   "cell_type": "markdown",
   "metadata": {},
   "source": [
    "Result analysis:\n",
    "\n",
    "- The most top cluster is Priority Customers, the customers belong to this cluster has higher spending score of above 70.\n",
    "- The centre left cluster is Young Target Customers. The customers belong to this cluster are around age 15-45 with spending score of 25-70.\n",
    "- The centre right cluster is Senior Target Customers. The customers belong to this cluster are above 45 age with spending score between 25-70.\n",
    "- The bottom cluster is Normal Customers. The customers belong to this cluster have lower spending score of below 30.\n",
    "\n",
    "We can use different marketing strategies to optimize the spending score of the customers in the mall!"
   ]
  },
  {
   "cell_type": "code",
   "execution_count": null,
   "metadata": {},
   "outputs": [],
   "source": [
    "# TODO: Replace {} with your solution to check model's inertia\n",
    "model.{}"
   ]
  },
  {
   "cell_type": "code",
   "execution_count": null,
   "metadata": {},
   "outputs": [],
   "source": [
    "# TODO: Replace {} with your solution to append inertia into the list\n",
    "k_values = np.arange(2,10)\n",
    "inertia = []\n",
    "for k in k_values:\n",
    "    model = KMeans(init='k-means++', n_clusters=k, n_init=10)\n",
    "    model.fit(X)\n",
    "    inertia.{}(model.inertia_)"
   ]
  },
  {
   "cell_type": "code",
   "execution_count": null,
   "metadata": {},
   "outputs": [],
   "source": [
    "plt.figure(figsize=(10, 6))\n",
    "plt.plot(k_values, inertia,\"o-m\", linewidth=4, markersize=12)\n",
    "plt.title(\"Number of clusters against Inertia\", fontsize=20)\n",
    "plt.xlabel(\"Number of clusters, K \")\n",
    "plt.ylabel(\"Inertia\")"
   ]
  },
  {
   "cell_type": "markdown",
   "metadata": {},
   "source": [
    "By following the elbow rule, we will choose 4 as our number of clusters(K). If we choose 5 or more, the inertia would not decrease significantly. "
   ]
  },
  {
   "cell_type": "code",
   "execution_count": null,
   "metadata": {},
   "outputs": [],
   "source": []
  }
 ],
 "metadata": {
  "kernelspec": {
   "display_name": "cdle",
   "language": "python",
   "name": "cdle"
  },
  "language_info": {
   "codemirror_mode": {
    "name": "ipython",
    "version": 3
   },
   "file_extension": ".py",
   "mimetype": "text/x-python",
   "name": "python",
   "nbconvert_exporter": "python",
   "pygments_lexer": "ipython3",
   "version": "3.7.3"
  }
 },
 "nbformat": 4,
 "nbformat_minor": 2
}
