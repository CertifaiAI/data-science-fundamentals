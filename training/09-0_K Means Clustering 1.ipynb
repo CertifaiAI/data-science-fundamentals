{
 "cells": [
  {
   "cell_type": "markdown",
   "metadata": {},
   "source": [
    "# Use K Means Clustering for Unsupervised Learning"
   ]
  },
  {
   "cell_type": "code",
   "execution_count": null,
   "metadata": {},
   "outputs": [],
   "source": [
    "import numpy as np\n",
    "import matplotlib.pyplot as plt\n",
    "%matplotlib inline"
   ]
  },
  {
   "cell_type": "markdown",
   "metadata": {},
   "source": [
    "Generate  random blobs of points by determining number of clusters and plot it out to visualize."
   ]
  },
  {
   "cell_type": "code",
   "execution_count": null,
   "metadata": {
    "scrolled": true
   },
   "outputs": [],
   "source": [
    "from sklearn.datasets.samples_generator import make_blobs\n",
    "X, y_true = make_blobs(n_samples=400, centers=4,\n",
    "                       cluster_std=1.0, random_state=6)\n",
    "plt.figure(figsize=(8, 6))\n",
    "plt.scatter(X[:, 0], X[:, 1], s=100);"
   ]
  },
  {
   "cell_type": "markdown",
   "metadata": {},
   "source": [
    "Import scikit learn's K Means clustering algorithm and train the model."
   ]
  },
  {
   "cell_type": "code",
   "execution_count": null,
   "metadata": {},
   "outputs": [],
   "source": [
    "from sklearn.cluster import  "
   ]
  },
  {
   "cell_type": "markdown",
   "metadata": {},
   "source": [
    "Specify number of clusters to 4"
   ]
  },
  {
   "cell_type": "code",
   "execution_count": null,
   "metadata": {},
   "outputs": [],
   "source": [
    "num_clusters = "
   ]
  },
  {
   "cell_type": "markdown",
   "metadata": {},
   "source": [
    "Train the KMeans clustering model."
   ]
  },
  {
   "cell_type": "code",
   "execution_count": null,
   "metadata": {},
   "outputs": [],
   "source": [
    "model = (init='k-means++', n_clusters=num_clusters, n_init=10)\n",
    "model.fit(X)"
   ]
  },
  {
   "cell_type": "markdown",
   "metadata": {},
   "source": [
    "Perform the prediction by using the trained model."
   ]
  },
  {
   "cell_type": "code",
   "execution_count": null,
   "metadata": {},
   "outputs": [],
   "source": [
    "# Step size of the mesh \n",
    "step_size = 0.01 \n",
    " \n",
    "# Plot the Decision Boundaries \n",
    "x_min, x_max = min(X[:, 0]) - 1, max(X[:, 0]) + 1 \n",
    "y_min, y_max = min(X[:, 1]) - 1, max(X[:, 1]) + 1 \n",
    "x_values, y_values = np.meshgrid(np.arange(x_min, x_max, step_size), np.arange(y_min, y_max, step_size)) \n",
    " \n",
    "# Predict labels for all points in the mesh \n",
    "predictions = model.predict(np.c_[x_values.ravel(), y_values.ravel()]) "
   ]
  },
  {
   "cell_type": "markdown",
   "metadata": {},
   "source": [
    "Draw the ground truth and draw the predictions by using decision boundaries to represent the respective clusters."
   ]
  },
  {
   "cell_type": "code",
   "execution_count": null,
   "metadata": {},
   "outputs": [],
   "source": [
    "# Plot the results \n",
    "predictions = predictions.reshape(x_values.shape) \n",
    "plt.figure(figsize=(8,6)) \n",
    "plt.imshow(predictions, interpolation='nearest', \n",
    "           extent=(x_values.min(), x_values.max(), y_values.min(), y_values.max()), \n",
    "                 cmap=plt.cm.Spectral, aspect='auto', origin='lower') \n",
    " \n",
    "plt.scatter(X[:,0], X[:,1], marker='o', \n",
    "    facecolors='none', edgecolors='w', s=30) "
   ]
  },
  {
   "cell_type": "markdown",
   "metadata": {},
   "source": [
    "Draw the centroids by using model.**cluster_centers_**."
   ]
  },
  {
   "cell_type": "code",
   "execution_count": null,
   "metadata": {},
   "outputs": [],
   "source": [
    "# Plot the boundaries \n",
    "predictions = predictions.reshape(x_values.shape) \n",
    "plt.figure(figsize=(8,6)) \n",
    "plt.imshow(predictions, interpolation='nearest', \n",
    "           extent=(x_values.min(), x_values.max(), y_values.min(), y_values.max()), \n",
    "                 cmap=plt.cm.Spectral, aspect='auto', origin='lower') \n",
    " \n",
    "plt.scatter(X[:,0], X[:,1], marker='o', \n",
    "    facecolors='none', edgecolors='w', s=30) \n",
    "\n",
    "\n",
    "# Plot the centroids of the clusters\n",
    "centroids = model._ \n",
    "plt.scatter(centroids[:,0], centroids[:,1], marker='o', s=200, linewidths=3, \n",
    "        color='k', zorder=10, facecolors='black') \n",
    "x_min, x_max = min(X[:, 0]) - 1, max(X[:, 0]) + 1 \n",
    "y_min, y_max = min(X[:, 1]) - 1, max(X[:, 1]) + 1 \n",
    "plt.title('Centroids and boundaries calculated using KMeans Clustering',fontsize=16) \n",
    "plt.xlim(x_min, x_max) \n",
    "plt.ylim(y_min, y_max) \n",
    "plt.show() "
   ]
  },
  {
   "cell_type": "markdown",
   "metadata": {},
   "source": [
    "Take note of the **inertia_** which is the **sum of squared distance from each point to their corresponding center**."
   ]
  },
  {
   "cell_type": "code",
   "execution_count": null,
   "metadata": {},
   "outputs": [],
   "source": [
    "model.inertia_"
   ]
  },
  {
   "cell_type": "code",
   "execution_count": null,
   "metadata": {},
   "outputs": [],
   "source": [
    "k_values = np.arange(2,10)\n",
    "inertia = []\n",
    "for k in k_values:\n",
    "    model = KMeans(init='k-means++', n_clusters=k, n_init=10)\n",
    "    model.fit(X)\n",
    "    inertia.append(model._)\n",
    "    "
   ]
  },
  {
   "cell_type": "code",
   "execution_count": null,
   "metadata": {},
   "outputs": [],
   "source": [
    "plt.figure(figsize=(10, 6))\n",
    "plt.plot(k_values,inertia,\"o-m\",linewidth=4, markersize=12)\n",
    "plt.title(\"Number of clusters against Inertia\",fontsize=20)\n",
    "plt.xlabel(\"Number of clusters, K \")\n",
    "plt.ylabel(\"Inertia\")"
   ]
  },
  {
   "cell_type": "markdown",
   "metadata": {},
   "source": [
    "By following the elbow rule, we will choose 4 as our number of clusters(K). If we choose 5 or more, the inertia would not decrease significantly. "
   ]
  }
 ],
 "metadata": {
  "kernelspec": {
   "display_name": "Python 3",
   "language": "python",
   "name": "python3"
  },
  "language_info": {
   "codemirror_mode": {
    "name": "ipython",
    "version": 3
   },
   "file_extension": ".py",
   "mimetype": "text/x-python",
   "name": "python",
   "nbconvert_exporter": "python",
   "pygments_lexer": "ipython3",
   "version": "3.7.3"
  }
 },
 "nbformat": 4,
 "nbformat_minor": 2
}
