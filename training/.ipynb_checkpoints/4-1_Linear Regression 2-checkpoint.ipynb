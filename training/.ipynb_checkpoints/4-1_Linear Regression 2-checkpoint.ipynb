{
 "cells": [
  {
   "cell_type": "markdown",
   "metadata": {},
   "source": [
    "# Predicting Intel Stock Price using Linear Regression"
   ]
  },
  {
   "cell_type": "code",
   "execution_count": 1,
   "metadata": {},
   "outputs": [],
   "source": [
    "import numpy as np\n",
    "import pandas as pd\n",
    "from sklearn import datasets\n",
    "from sklearn import model_selection\n",
    "from sklearn import metrics\n",
    "\n",
    "import matplotlib.pyplot as plt\n",
    "%matplotlib inline"
   ]
  },
  {
   "cell_type": "markdown",
   "metadata": {},
   "source": [
    "Get the latest Intel Stock Price from https://finance.yahoo.com/quote/intc/history/"
   ]
  },
  {
   "cell_type": "code",
   "execution_count": 2,
   "metadata": {},
   "outputs": [],
   "source": [
    "df = pd.read_csv(\"data/INTC.csv\")"
   ]
  },
  {
   "cell_type": "code",
   "execution_count": null,
   "metadata": {},
   "outputs": [],
   "source": [
    "Display the first 5 rows of your dataframe"
   ]
  },
  {
   "cell_type": "code",
   "execution_count": 3,
   "metadata": {
    "scrolled": true
   },
   "outputs": [
    {
     "data": {
      "text/html": [
       "<div>\n",
       "<style scoped>\n",
       "    .dataframe tbody tr th:only-of-type {\n",
       "        vertical-align: middle;\n",
       "    }\n",
       "\n",
       "    .dataframe tbody tr th {\n",
       "        vertical-align: top;\n",
       "    }\n",
       "\n",
       "    .dataframe thead th {\n",
       "        text-align: right;\n",
       "    }\n",
       "</style>\n",
       "<table border=\"1\" class=\"dataframe\">\n",
       "  <thead>\n",
       "    <tr style=\"text-align: right;\">\n",
       "      <th></th>\n",
       "      <th>Date</th>\n",
       "      <th>Open</th>\n",
       "      <th>High</th>\n",
       "      <th>Low</th>\n",
       "      <th>Close</th>\n",
       "      <th>Adj Close</th>\n",
       "      <th>Volume</th>\n",
       "    </tr>\n",
       "  </thead>\n",
       "  <tbody>\n",
       "    <tr>\n",
       "      <th>0</th>\n",
       "      <td>2018-09-10</td>\n",
       "      <td>46.560001</td>\n",
       "      <td>46.759998</td>\n",
       "      <td>46.230000</td>\n",
       "      <td>46.299999</td>\n",
       "      <td>45.137581</td>\n",
       "      <td>21522400</td>\n",
       "    </tr>\n",
       "    <tr>\n",
       "      <th>1</th>\n",
       "      <td>2018-09-11</td>\n",
       "      <td>46.000000</td>\n",
       "      <td>46.029999</td>\n",
       "      <td>44.889999</td>\n",
       "      <td>44.930000</td>\n",
       "      <td>43.801979</td>\n",
       "      <td>32455300</td>\n",
       "    </tr>\n",
       "    <tr>\n",
       "      <th>2</th>\n",
       "      <td>2018-09-12</td>\n",
       "      <td>44.560001</td>\n",
       "      <td>44.980000</td>\n",
       "      <td>44.060001</td>\n",
       "      <td>44.930000</td>\n",
       "      <td>43.801979</td>\n",
       "      <td>29778700</td>\n",
       "    </tr>\n",
       "    <tr>\n",
       "      <th>3</th>\n",
       "      <td>2018-09-13</td>\n",
       "      <td>45.680000</td>\n",
       "      <td>45.849998</td>\n",
       "      <td>45.110001</td>\n",
       "      <td>45.570000</td>\n",
       "      <td>44.425911</td>\n",
       "      <td>18657100</td>\n",
       "    </tr>\n",
       "    <tr>\n",
       "      <th>4</th>\n",
       "      <td>2018-09-14</td>\n",
       "      <td>45.779999</td>\n",
       "      <td>45.970001</td>\n",
       "      <td>45.349998</td>\n",
       "      <td>45.540001</td>\n",
       "      <td>44.396664</td>\n",
       "      <td>22998700</td>\n",
       "    </tr>\n",
       "  </tbody>\n",
       "</table>\n",
       "</div>"
      ],
      "text/plain": [
       "         Date       Open       High        Low      Close  Adj Close    Volume\n",
       "0  2018-09-10  46.560001  46.759998  46.230000  46.299999  45.137581  21522400\n",
       "1  2018-09-11  46.000000  46.029999  44.889999  44.930000  43.801979  32455300\n",
       "2  2018-09-12  44.560001  44.980000  44.060001  44.930000  43.801979  29778700\n",
       "3  2018-09-13  45.680000  45.849998  45.110001  45.570000  44.425911  18657100\n",
       "4  2018-09-14  45.779999  45.970001  45.349998  45.540001  44.396664  22998700"
      ]
     },
     "execution_count": 3,
     "metadata": {},
     "output_type": "execute_result"
    }
   ],
   "source": [
    "df.head()"
   ]
  },
  {
   "cell_type": "markdown",
   "metadata": {},
   "source": [
    "Show some of the information about your data, e.g. how many rows, what data types"
   ]
  },
  {
   "cell_type": "code",
   "execution_count": null,
   "metadata": {},
   "outputs": [],
   "source": [
    "df.info()"
   ]
  },
  {
   "cell_type": "markdown",
   "metadata": {},
   "source": [
    "Plotting the graph of Stock Prices against Date "
   ]
  },
  {
   "cell_type": "code",
   "execution_count": null,
   "metadata": {},
   "outputs": [],
   "source": [
    "df.plot(x=\"Date\",y=[\"Close\",\"Open\",\"High\",\"Low\",\"Adj Close\"])"
   ]
  },
  {
   "cell_type": "markdown",
   "metadata": {},
   "source": [
    "The various stock prices tend to follow the same trend, we will pick only 1 type of stock price to predict which is \"Close\", the closing price of the stock on a particular day."
   ]
  },
  {
   "cell_type": "markdown",
   "metadata": {},
   "source": [
    "Various stock prices and Volume data has different scales, if you want to visualize and plot the graph out, we will use matplotlib directly to plot"
   ]
  },
  {
   "cell_type": "code",
   "execution_count": null,
   "metadata": {},
   "outputs": [],
   "source": [
    "# Define Date as the X-axis and convert dataframe to a numpy array\n",
    "print(type(df))\n",
    "x=df[\"Date\"].values\n",
    "print(type(x))"
   ]
  },
  {
   "cell_type": "code",
   "execution_count": null,
   "metadata": {
    "scrolled": false
   },
   "outputs": [],
   "source": [
    "# Print out the values and check the size\n",
    "# print(x)\n",
    "print(len(x))"
   ]
  },
  {
   "cell_type": "code",
   "execution_count": null,
   "metadata": {},
   "outputs": [],
   "source": [
    "# define the first y-axis which is all stock prices by dropping/removing the Date(x-axis) and Volume(data with different scale)\n",
    "df2=df.drop(columns=[\"Date\",\"Volume\"])\n",
    "df2.head()\n",
    "y1=df2.values\n",
    "# print(y1)\n",
    "print(len(y1))"
   ]
  },
  {
   "cell_type": "code",
   "execution_count": null,
   "metadata": {},
   "outputs": [],
   "source": [
    "y2=df[\"Volume\"].values\n",
    "# print(y2)\n",
    "print(len(y2))"
   ]
  },
  {
   "cell_type": "code",
   "execution_count": null,
   "metadata": {},
   "outputs": [],
   "source": [
    "fig=plt.figure(figsize=(12, 6))\n",
    "ax1=fig.add_subplot(111)\n",
    "ax1.plot(x,y1)\n",
    "plt.title('Stock features against Date',fontsize=20)\n",
    "ax1.set_xlabel('Date')\n",
    "ax1.set_ylabel('Stock prices')\n",
    "ax2 = ax1.twinx()\n",
    "ax2.set_ylabel('Volume')\n",
    "ax2.plot(x,y2,'c')\n"
   ]
  },
  {
   "cell_type": "markdown",
   "metadata": {},
   "source": [
    "When creating the Linear Regression Model, \"Date\" is a sensitive factor\n",
    "Date is a string and it can mean"
   ]
  },
  {
   "cell_type": "code",
   "execution_count": null,
   "metadata": {},
   "outputs": [],
   "source": [
    "df[\"Date\"] = pd.to_datetime(df.Date,format='%Y-%m-%d')"
   ]
  },
  {
   "cell_type": "code",
   "execution_count": null,
   "metadata": {},
   "outputs": [],
   "source": [
    "df.info()"
   ]
  },
  {
   "cell_type": "markdown",
   "metadata": {},
   "source": [
    "Scikit-learn will not accept String or Timestamp as the data, so we will need to convert the \"Date\" into a much simplier data that scikitlearn can accept"
   ]
  },
  {
   "cell_type": "code",
   "execution_count": null,
   "metadata": {
    "scrolled": false
   },
   "outputs": [],
   "source": [
    "newdate = df[\"Date\"]\n",
    "\n",
    "df4=pd.DataFrame({\"year\": newdate.dt.year,\n",
    "              \"month\": newdate.dt.month,\n",
    "              \"day\": newdate.dt.day,\n",
    "              \"hour\": newdate.dt.hour,\n",
    "              \"dayofyear\": newdate.dt.dayofyear,\n",
    "              \"week\": newdate.dt.week,\n",
    "              \"weekofyear\": newdate.dt.weekofyear,\n",
    "              \"dayofweek\": newdate.dt.dayofweek,\n",
    "              \"weekday\": newdate.dt.weekday,\n",
    "              \"quarter\": newdate.dt.quarter,\n",
    "             })\n"
   ]
  },
  {
   "cell_type": "code",
   "execution_count": null,
   "metadata": {},
   "outputs": [],
   "source": [
    "df3=df.drop(columns=[\"Date\"])\n",
    "df5=pd.concat([df4,df3],axis=1)\n",
    "df5.head()"
   ]
  },
  {
   "cell_type": "markdown",
   "metadata": {},
   "source": [
    "Our data is now ready for model training."
   ]
  },
  {
   "cell_type": "code",
   "execution_count": null,
   "metadata": {},
   "outputs": [],
   "source": [
    "df5.info()"
   ]
  },
  {
   "cell_type": "code",
   "execution_count": null,
   "metadata": {},
   "outputs": [],
   "source": [
    "# Suggest to split the data using this way since the data is a time series data\n",
    "train=df5[:200]\n",
    "test=df5[200:]"
   ]
  },
  {
   "cell_type": "code",
   "execution_count": null,
   "metadata": {},
   "outputs": [],
   "source": [
    "train.info()"
   ]
  },
  {
   "cell_type": "code",
   "execution_count": null,
   "metadata": {},
   "outputs": [],
   "source": [
    "test.info()"
   ]
  },
  {
   "cell_type": "code",
   "execution_count": null,
   "metadata": {},
   "outputs": [],
   "source": [
    "X_train=train.drop(\"Close\",axis=1)\n",
    "y_train=train[\"Close\"]\n",
    "X_test=test.drop(\"Close\",axis=1)\n",
    "y_test=test[\"Close\"]"
   ]
  },
  {
   "cell_type": "code",
   "execution_count": null,
   "metadata": {},
   "outputs": [],
   "source": [
    "from sklearn.linear_model import LinearRegression\n",
    "model = LinearRegression()\n",
    "model.fit(X_train,y_train)"
   ]
  },
  {
   "cell_type": "code",
   "execution_count": null,
   "metadata": {},
   "outputs": [],
   "source": [
    "print(model.coef_)\n",
    "print(len(model.coef_))"
   ]
  },
  {
   "cell_type": "code",
   "execution_count": null,
   "metadata": {},
   "outputs": [],
   "source": [
    "predictions=model.predict(X_test)"
   ]
  },
  {
   "cell_type": "code",
   "execution_count": null,
   "metadata": {
    "scrolled": true
   },
   "outputs": [],
   "source": [
    "print('MAE:', metrics.mean_absolute_error(y_test, predictions))\n",
    "print('MSE:', metrics.mean_squared_error(y_test, predictions))\n",
    "print('RMSE:', np.sqrt(metrics.mean_squared_error(y_test, predictions)))"
   ]
  },
  {
   "cell_type": "code",
   "execution_count": null,
   "metadata": {},
   "outputs": [],
   "source": [
    "train=df5[:200]\n",
    "test=df5[200:]"
   ]
  },
  {
   "cell_type": "code",
   "execution_count": null,
   "metadata": {},
   "outputs": [],
   "source": [
    "test.insert(16,\"Predictions\",predictions)"
   ]
  },
  {
   "cell_type": "code",
   "execution_count": null,
   "metadata": {},
   "outputs": [],
   "source": [
    "test[[\"Close\",\"Predictions\"]].tail()"
   ]
  },
  {
   "cell_type": "code",
   "execution_count": null,
   "metadata": {
    "scrolled": false
   },
   "outputs": [],
   "source": [
    "fig=plt.figure(figsize=(14, 6))\n",
    "plt.title(\"Stock Closing Price against Date\",fontsize=20)\n",
    "plt.xlabel(\"Date\")\n",
    "plt.ylabel(\"Stock Closing Price\")\n",
    "plt.plot(train[\"Close\"])\n",
    "plt.plot(test[[\"Close\",\"Predictions\"]])\n"
   ]
  },
  {
   "cell_type": "code",
   "execution_count": null,
   "metadata": {},
   "outputs": [],
   "source": [
    "model.score(X_test, y_test)"
   ]
  },
  {
   "cell_type": "markdown",
   "metadata": {},
   "source": [
    "Seems like the model is doing a very good job at predicting the stock price. It almost seems too good to be true.\n",
    "Let us try to build another model with the same dataset, but this time, let us only rely on the date as the feature."
   ]
  },
  {
   "cell_type": "code",
   "execution_count": null,
   "metadata": {},
   "outputs": [],
   "source": [
    "df5.info()"
   ]
  },
  {
   "cell_type": "code",
   "execution_count": null,
   "metadata": {},
   "outputs": [],
   "source": [
    "train=df5[:200]\n",
    "test=df5[200:]"
   ]
  },
  {
   "cell_type": "code",
   "execution_count": null,
   "metadata": {},
   "outputs": [],
   "source": [
    "X_train=train.drop([\"Close\",\"Open\",\"High\",\"Low\",\"Adj Close\",\"Volume\"],axis=1)\n",
    "y_train=train[\"Close\"]\n",
    "X_test=test.drop([\"Close\",\"Open\",\"High\",\"Low\",\"Adj Close\",\"Volume\"],axis=1)\n",
    "y_test=test[\"Close\"]"
   ]
  },
  {
   "cell_type": "code",
   "execution_count": null,
   "metadata": {},
   "outputs": [],
   "source": [
    "from sklearn.linear_model import LinearRegression\n",
    "model = LinearRegression()\n",
    "model.fit(X_train,y_train)"
   ]
  },
  {
   "cell_type": "code",
   "execution_count": null,
   "metadata": {},
   "outputs": [],
   "source": [
    "print(model.coef_)\n",
    "print(len(model.coef_))"
   ]
  },
  {
   "cell_type": "code",
   "execution_count": null,
   "metadata": {},
   "outputs": [],
   "source": [
    "predictions=model.predict(X_test)\n",
    "print('MAE:', metrics.mean_absolute_error(y_test, predictions))\n",
    "print('MSE:', metrics.mean_squared_error(y_test, predictions))\n",
    "print('RMSE:', np.sqrt(metrics.mean_squared_error(y_test, predictions)))"
   ]
  },
  {
   "cell_type": "code",
   "execution_count": null,
   "metadata": {},
   "outputs": [],
   "source": [
    "test.insert(11,\"Predictions\",predictions)\n",
    "test[[\"Close\",\"Predictions\"]].tail()"
   ]
  },
  {
   "cell_type": "code",
   "execution_count": null,
   "metadata": {},
   "outputs": [],
   "source": [
    "fig=plt.figure(figsize=(14, 6))\n",
    "plt.title(\"Stock Closing Price against Date\",fontsize=20)\n",
    "plt.xlabel(\"Date\")\n",
    "plt.ylabel(\"Stock Closing Price\")\n",
    "plt.plot(train[\"Close\"])\n",
    "plt.plot(test[[\"Close\",\"Predictions\"]])"
   ]
  },
  {
   "cell_type": "code",
   "execution_count": null,
   "metadata": {},
   "outputs": [],
   "source": [
    "model.score(X_test, y_test)"
   ]
  },
  {
   "cell_type": "markdown",
   "metadata": {},
   "source": [
    "As you can see, the prediction is very bad when you predict the stock price solely based on the date."
   ]
  }
 ],
 "metadata": {
  "kernelspec": {
   "display_name": "Python 3",
   "language": "python",
   "name": "python3"
  },
  "language_info": {
   "codemirror_mode": {
    "name": "ipython",
    "version": 3
   },
   "file_extension": ".py",
   "mimetype": "text/x-python",
   "name": "python",
   "nbconvert_exporter": "python",
   "pygments_lexer": "ipython3",
   "version": "3.7.3"
  }
 },
 "nbformat": 4,
 "nbformat_minor": 2
}
