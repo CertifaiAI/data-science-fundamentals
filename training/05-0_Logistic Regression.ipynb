{
 "cells": [
  {
   "cell_type": "code",
   "execution_count": null,
   "metadata": {
    "deletable": false,
    "editable": false
   },
   "outputs": [],
   "source": [
    "# Copyright (c) 2020-2021 CertifAI Sdn. Bhd.\n",
    "# \n",
    "# This program is part of OSRFramework. You can redistribute it and/or modify\n",
    "# it under the terms of the GNU Affero General Public License as published by\n",
    "# the Free Software Foundation, either version 3 of the License, or\n",
    "# (at your option) any later version.\n",
    "# \n",
    "# This program is distributed in the hope that it will be useful,\n",
    "# but WITHOUT ANY WARRANTY; without even the implied warranty of\n",
    "# MERCHANTABILITY or FITNESS FOR A PARTICULAR PURPOSE.  See the\n",
    "# GNU Affero General Public License for more details.\n",
    "# \n",
    "# You should have received a copy of the GNU Affero General Public License\n",
    "# along with this program.  If not, see <http://www.gnu.org/licenses/>."
   ]
  },
  {
   "cell_type": "markdown",
   "metadata": {},
   "source": [
    "# Logistic Regression"
   ]
  },
  {
   "cell_type": "markdown",
   "metadata": {},
   "source": [
    "Logistic regression is commonly used for binary classification.\n",
    "First, let us prepare a dataset that has only 2 classes as its labels."
   ]
  },
  {
   "cell_type": "markdown",
   "metadata": {},
   "source": [
    "## 1 - Import necessary packages\n",
    "\n",
    "Let's first import all the packages that you will need during this assignment.\n",
    "\n",
    "- **numpy** is the main package for scientific computing with Python.\n",
    "- **matplotlib** is a library to plot graphs in Python.\n",
    "- **sklearn** features various algorithms of machine learning in Python."
   ]
  },
  {
   "cell_type": "code",
   "execution_count": null,
   "metadata": {},
   "outputs": [],
   "source": [
    "import numpy as np\n",
    "from sklearn import datasets\n",
    "from sklearn import model_selection\n",
    "from sklearn.linear_model import LogisticRegression\n",
    "from sklearn.metrics import accuracy_score\n",
    "from sklearn.metrics import classification_report\n",
    "from sklearn.metrics import confusion_matrix\n",
    "import matplotlib.pyplot as plt\n",
    "%matplotlib inline"
   ]
  },
  {
   "cell_type": "markdown",
   "metadata": {},
   "source": [
    "## 2 - Load dataset"
   ]
  },
  {
   "cell_type": "markdown",
   "metadata": {},
   "source": [
    "Here we will load the IRIS dataset from **scikit-learn**. We will be utilizing `iris.data` and `iris.target` as usual for our features and values."
   ]
  },
  {
   "cell_type": "code",
   "execution_count": null,
   "metadata": {},
   "outputs": [],
   "source": [
    "# TODO: Replace {} with your solution to load the iris dataset\n",
    "iris = datasets.load_{}()"
   ]
  },
  {
   "cell_type": "markdown",
   "metadata": {},
   "source": [
    "As usual `dir(iris)` shows the attributes of the iris datasets.\n",
    "- `iris.data.shape` shows the shape of the data.\n",
    "- `iris.target_names` shows the classes that we want to classify.\n",
    "- `iris.feature_names` shows the name of features that we are training."
   ]
  },
  {
   "cell_type": "code",
   "execution_count": null,
   "metadata": {
    "scrolled": true
   },
   "outputs": [],
   "source": [
    "dir(iris)"
   ]
  },
  {
   "cell_type": "code",
   "execution_count": null,
   "metadata": {},
   "outputs": [],
   "source": [
    "iris.data.shape"
   ]
  },
  {
   "cell_type": "code",
   "execution_count": null,
   "metadata": {},
   "outputs": [],
   "source": [
    "iris.target_names"
   ]
  },
  {
   "cell_type": "code",
   "execution_count": null,
   "metadata": {},
   "outputs": [],
   "source": [
    "iris.feature_names"
   ]
  },
  {
   "cell_type": "markdown",
   "metadata": {},
   "source": [
    "Check the available classes/labels in IRIS dataset."
   ]
  },
  {
   "cell_type": "code",
   "execution_count": null,
   "metadata": {},
   "outputs": [],
   "source": [
    "np.unique(iris.target)"
   ]
  },
  {
   "cell_type": "markdown",
   "metadata": {},
   "source": [
    "Remove the data entries with label 2."
   ]
  },
  {
   "cell_type": "code",
   "execution_count": null,
   "metadata": {},
   "outputs": [],
   "source": [
    "# TODO: Replace {} with your solution to remove the data entries with label 2\n",
    "idx = iris.target != {}"
   ]
  },
  {
   "cell_type": "code",
   "execution_count": null,
   "metadata": {},
   "outputs": [],
   "source": [
    "print(iris.target)"
   ]
  },
  {
   "cell_type": "code",
   "execution_count": null,
   "metadata": {},
   "outputs": [],
   "source": [
    "print(idx)"
   ]
  },
  {
   "cell_type": "markdown",
   "metadata": {},
   "source": [
    "Load features to \"data\" and load targets to \"target\"."
   ]
  },
  {
   "cell_type": "code",
   "execution_count": null,
   "metadata": {},
   "outputs": [],
   "source": [
    "# TODO: Replace {} with your solution to load features to \"data\"\n",
    "{} = iris.data[idx].astype(np.float32)\n",
    "\n",
    "# TODO: Replace {} with your solution to load targets to \"target\"\n",
    "{} = iris.target[idx].astype(np.float32)"
   ]
  },
  {
   "cell_type": "markdown",
   "metadata": {},
   "source": [
    "The target has only 2 classes, 0 or 1"
   ]
  },
  {
   "cell_type": "code",
   "execution_count": null,
   "metadata": {
    "scrolled": true
   },
   "outputs": [],
   "source": [
    "print(target)"
   ]
  },
  {
   "cell_type": "markdown",
   "metadata": {},
   "source": [
    "If you plot out all the new datapoints which consists of 2 classes, you can see that the dataset can be well separated linearly."
   ]
  },
  {
   "cell_type": "code",
   "execution_count": null,
   "metadata": {},
   "outputs": [],
   "source": [
    "plt.figure(figsize=(10, 6))\n",
    "plt.scatter(data[:, 0], data[:, 1], c=target, cmap=plt.cm.coolwarm, s=100)\n",
    "plt.xlabel(iris.feature_names[0])\n",
    "plt.ylabel(iris.feature_names[1])"
   ]
  },
  {
   "cell_type": "markdown",
   "metadata": {},
   "source": [
    "Split the dataset 70% train 30% test."
   ]
  },
  {
   "cell_type": "code",
   "execution_count": null,
   "metadata": {},
   "outputs": [],
   "source": [
    "# TODO: Replace {} with your solution to split the dataset into 70% training set and 30% test set\n",
    "X_train, X_test, y_train, y_test = model_selection.train_test_split(\n",
    "    data, target, test_size={}, random_state=123\n",
    ")"
   ]
  },
  {
   "cell_type": "code",
   "execution_count": null,
   "metadata": {},
   "outputs": [],
   "source": [
    "X_train.shape, y_train.shape"
   ]
  },
  {
   "cell_type": "code",
   "execution_count": null,
   "metadata": {},
   "outputs": [],
   "source": [
    "X_test.shape, y_test.shape"
   ]
  },
  {
   "cell_type": "markdown",
   "metadata": {},
   "source": [
    "## 3 - Logistic Regression"
   ]
  },
  {
   "cell_type": "markdown",
   "metadata": {},
   "source": [
    "Select `LogisticRegression` from `sklearn.linear_model` to use the logistic regression model."
   ]
  },
  {
   "cell_type": "code",
   "execution_count": null,
   "metadata": {},
   "outputs": [],
   "source": [
    "# TODO: Replace {} to implement logistic regression model\n",
    "model = {}(solver=\"liblinear\")"
   ]
  },
  {
   "cell_type": "markdown",
   "metadata": {},
   "source": [
    "> `solver` is to specify which algorithm to use in the optimization problem, by default is 'lbfgs'. In this case, we use 'liblinear' algorithm fot the optimization because it works well in small dataset."
   ]
  },
  {
   "cell_type": "code",
   "execution_count": null,
   "metadata": {},
   "outputs": [],
   "source": [
    "model.fit(X_train, y_train)"
   ]
  },
  {
   "cell_type": "code",
   "execution_count": null,
   "metadata": {},
   "outputs": [],
   "source": [
    "predictions = model.predict(X_test)"
   ]
  },
  {
   "cell_type": "markdown",
   "metadata": {},
   "source": [
    "## 4 - Evaluating Model"
   ]
  },
  {
   "cell_type": "markdown",
   "metadata": {},
   "source": [
    "Get the classification report."
   ]
  },
  {
   "cell_type": "code",
   "execution_count": null,
   "metadata": {},
   "outputs": [],
   "source": [
    "# TODO: Replace {} with your solution to print the classfication report\n",
    "print({}(y_test, predictions))"
   ]
  },
  {
   "cell_type": "markdown",
   "metadata": {},
   "source": [
    "**Precision** : the percentage of your results which are relevant. $$TP=\\frac{TP}{(TP+FP)}$$\n",
    "\n",
    "**Recall** : the percentage of total relevant results correctly classified by your algorithm.\n",
    "$$TP=\\frac{TP}{(TP+FN)}$$\n",
    "\n",
    "**F1-score** : conveys the balance between the precision and the recall.\n",
    "$$F1=2*\\frac{Precision * Recall}{Precision + Recall}$$\n",
    "\n",
    "**macro avg** : the average `F1 score` of each label without considering the proportions of data for each label.\n",
    "$$MacroAvg = \\frac{\\sum{F1}}{n}$$   \n",
    "**weighted avg** : the average of `F1 score` of each label which takes the proportions of data (weights) for each label into considerations.\n",
    "$$WeightedAvg = \\frac{\\sum{(w\\times F1)}}{n}$$"
   ]
  },
  {
   "cell_type": "markdown",
   "metadata": {},
   "source": [
    "Get the confusion matrix."
   ]
  },
  {
   "cell_type": "code",
   "execution_count": null,
   "metadata": {},
   "outputs": [],
   "source": [
    "# TODO: Replace {} with your solution to print the confusion matrix\n",
    "print({}(y_test, predictions))"
   ]
  },
  {
   "cell_type": "markdown",
   "metadata": {},
   "source": [
    "Since our evaluation metrics such as accuracy, precision and recall get 1.00, we can see from confusion matrix that the model has classified correctly without errors. \n",
    "- The first row first column indicates all 15 labelled with class 0 was classified correctly by the model into class 0. \n",
    "- The first row second column, there is no class 1 classified as class 0.\n",
    "- The second row first column, there is no class 0 classified as class 1.\n",
    "- The second row second column indicates all 15 labelled with class 1 was classified correctly by the model into class 1."
   ]
  },
  {
   "cell_type": "markdown",
   "metadata": {},
   "source": [
    "# Logistic Regression: Multiclass Classification\n",
    "\n",
    "Logistic regression can also be tweaked into a multiclass classifier. To attempt this feat, we will be utilizing a concept named **\"One-versus-all classification\"**. For this example, we are going to reuse the above IRIS dataset for clarification purposes."
   ]
  },
  {
   "cell_type": "code",
   "execution_count": null,
   "metadata": {},
   "outputs": [],
   "source": [
    "X = iris.data\n",
    "y = iris.target"
   ]
  },
  {
   "cell_type": "markdown",
   "metadata": {},
   "source": [
    "The basic workings of this algorithm, **\"one-versus-all\"**, is that for $n$ classes, we will have to train $n$ logistic models, one for each class.<br><br>\n",
    "Following that, we will try to classify a specific data point by throwing the data point into the $n$ logistic models, and each model will return a **degree of confidence(probability)** that the data point is from its class.<br><br>\n",
    "Based on the matrix of probabilities of the data point being true in the models, the highest one from class $k$ will be returned and hence will be classified as $k$.<br><br>\n",
    "Seems like a lot of work, doesn't it? But good news is that we don't have to manually perform these model trainings $n$ times ourselves. The peeps from `sklearn` have already developed a function for this multiclass use case in their class `LogisticRegression`.<br><br>\n",
    "All we have to do is to pass in params `multi_class='ovr'` into the LogisticRegression model and the model will handle it.<br>\n",
    "> For `multi_class='ovr'`, the solver `liblinear` is unavailable, hence we will use `lbfgs` as our solver."
   ]
  },
  {
   "cell_type": "code",
   "execution_count": null,
   "metadata": {},
   "outputs": [],
   "source": [
    "X_train2, X_test2, y_train2, y_test2 = model_selection.train_test_split(X, y, test_size=0.3, random_state=123)\n",
    "\n",
    "# TODO: Replace {} with your solution to use 'lbfgs' as solver\n",
    "model = LogisticRegression(multi_class='ovr', solver={})\n",
    "\n",
    "model.fit(X_train2, y_train2)\n",
    "predictions = model.predict(X_test2)"
   ]
  },
  {
   "cell_type": "markdown",
   "metadata": {},
   "source": [
    "Visuallizing the performance of the model through `accuracy_score`, `confusion_matrix` and attributes of `classification_report`"
   ]
  },
  {
   "cell_type": "code",
   "execution_count": null,
   "metadata": {},
   "outputs": [],
   "source": [
    "print('Accuracy score: ' + str(accuracy_score(y_test2, predictions)), end = '\\n\\n')\n",
    "print('Confusion Matrix: \\n\\n' + str(confusion_matrix(y_test2, predictions)), end='\\n\\n')\n",
    "print('Classification Report: \\n\\n' + str(classification_report(y_test2, predictions)))"
   ]
  },
  {
   "cell_type": "markdown",
   "metadata": {},
   "source": [
    "From the confusion matrix, we can see that in the third row second column, there is 2 labelled with class 2 was classified wrongly by the model into class 1. Hence the precision and recall of class 1 is below 1.00, and the overall accuracy of the model is 0.96."
   ]
  },
  {
   "cell_type": "markdown",
   "metadata": {},
   "source": [
    "# Exercise: Binary Classification of Breast Cancer dataset"
   ]
  },
  {
   "cell_type": "markdown",
   "metadata": {},
   "source": [
    "## 1 - Load dataset"
   ]
  },
  {
   "cell_type": "code",
   "execution_count": null,
   "metadata": {},
   "outputs": [],
   "source": [
    "# TODO: Replace {} with your solution to load the breast cancer dataset\n",
    "bcancer = datasets.{}()"
   ]
  },
  {
   "cell_type": "code",
   "execution_count": null,
   "metadata": {},
   "outputs": [],
   "source": [
    "dir(bcancer)"
   ]
  },
  {
   "cell_type": "code",
   "execution_count": null,
   "metadata": {},
   "outputs": [],
   "source": [
    "bcancer.target_names"
   ]
  },
  {
   "cell_type": "code",
   "execution_count": null,
   "metadata": {},
   "outputs": [],
   "source": [
    "bcancer.data.shape, bcancer.target.shape"
   ]
  },
  {
   "cell_type": "markdown",
   "metadata": {},
   "source": [
    "Load the features to \"data\" and load targets to \"target\"."
   ]
  },
  {
   "cell_type": "code",
   "execution_count": null,
   "metadata": {},
   "outputs": [],
   "source": [
    "# TODO: Replace {} with your solution to load the features to \"data\"\n",
    "data = bcancer.{}.astype(np.float32)\n",
    "\n",
    "# TODO: Replace {} with your solution to load the targets to \"target\"\n",
    "target = bcancer.{}.astype(np.float32)"
   ]
  },
  {
   "cell_type": "code",
   "execution_count": null,
   "metadata": {},
   "outputs": [],
   "source": [
    "# TODO: Replace {} with your solution to split the dataset into 70% training set and 30% test set\n",
    "X_train, X_test, y_train, y_test = model_selection.{}(\n",
    "    {}, {}, test_size=0.3, random_state=123\n",
    ")"
   ]
  },
  {
   "cell_type": "markdown",
   "metadata": {},
   "source": [
    "## 2 - Logistic Regression"
   ]
  },
  {
   "cell_type": "code",
   "execution_count": null,
   "metadata": {},
   "outputs": [],
   "source": [
    "# TODO: Replace {} with your solution to implement logistic regression model\n",
    "model = {}(solver=\"liblinear\")\n",
    "\n",
    "model.fit(X_train, y_train)\n",
    "\n",
    "# TODO: Replace {} with your solution to make the prediction using the trained model\n",
    "predictions = model.{}(X_test)"
   ]
  },
  {
   "cell_type": "markdown",
   "metadata": {},
   "source": [
    "## 3 - Evaluating Model"
   ]
  },
  {
   "cell_type": "code",
   "execution_count": null,
   "metadata": {},
   "outputs": [],
   "source": [
    "# TODO: Replace {} with your solution to print confussion matrix\n",
    "print(confusion_matrix(y_test, {}))"
   ]
  },
  {
   "cell_type": "markdown",
   "metadata": {},
   "source": [
    "From the confusion matrix, we can see that there are 2 labelled with class 0 was classified wrongly into class 1, and 1 labelled with class 1 was classified wrongly into class 0."
   ]
  },
  {
   "cell_type": "code",
   "execution_count": null,
   "metadata": {},
   "outputs": [],
   "source": [
    "# TODO: Replace {} with your solution to print classification report\n",
    "print(classification_report({}, predictions))"
   ]
  }
 ],
 "metadata": {
  "kernelspec": {
   "display_name": "Python 3",
   "language": "python",
   "name": "python3"
  },
  "language_info": {
   "codemirror_mode": {
    "name": "ipython",
    "version": 3
   },
   "file_extension": ".py",
   "mimetype": "text/x-python",
   "name": "python",
   "nbconvert_exporter": "python",
   "pygments_lexer": "ipython3",
   "version": "3.8.3"
  }
 },
 "nbformat": 4,
 "nbformat_minor": 2
}