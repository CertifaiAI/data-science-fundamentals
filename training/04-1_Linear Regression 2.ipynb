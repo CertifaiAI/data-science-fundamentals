{
 "cells": [
  {
   "cell_type": "markdown",
   "metadata": {},
   "source": [
    "# Predicting Intel Stock Price using Linear Regression"
   ]
  },
  {
   "cell_type": "code",
   "execution_count": null,
   "metadata": {},
   "outputs": [],
   "source": [
    "import numpy as np\n",
    "import pandas as pd\n",
    "from sklearn import datasets\n",
    "from sklearn import model_selection\n",
    "from sklearn import metrics\n",
    "from sklearn.linear_model import LinearRegression\n",
    "from sklearn.linear_model import LinearRegression\n",
    "\n",
    "import matplotlib.pyplot as plt\n",
    "%matplotlib inline"
   ]
  },
  {
   "cell_type": "markdown",
   "metadata": {},
   "source": [
    "## View data"
   ]
  },
  {
   "cell_type": "markdown",
   "metadata": {},
   "source": [
    "Get the latest Intel Stock Price from https://finance.yahoo.com/quote/intc/history/"
   ]
  },
  {
   "cell_type": "code",
   "execution_count": null,
   "metadata": {},
   "outputs": [],
   "source": [
    "df = pd.read_csv(\"https://archive.org/download/ml-fundamentals-data/machine-learning-fundamentals-data/INTC.csv\")"
   ]
  },
  {
   "cell_type": "markdown",
   "metadata": {},
   "source": [
    "Read the csv file and display the first 5 rows of your dataframe."
   ]
  },
  {
   "cell_type": "code",
   "execution_count": null,
   "metadata": {
    "scrolled": true
   },
   "outputs": [],
   "source": [
    "df.()"
   ]
  },
  {
   "cell_type": "markdown",
   "metadata": {},
   "source": [
    "Show some of the information about your data, e.g. how many rows, what data types"
   ]
  },
  {
   "cell_type": "code",
   "execution_count": null,
   "metadata": {},
   "outputs": [],
   "source": [
    "df.()"
   ]
  },
  {
   "cell_type": "markdown",
   "metadata": {},
   "source": [
    "Plot the graph of Stock Prices against Date by using dataframe.plot() from pandas. Volume is excluded because it has a different scale."
   ]
  },
  {
   "cell_type": "code",
   "execution_count": null,
   "metadata": {},
   "outputs": [],
   "source": [
    "df.(x=\"Date\",y=[\"Close\",\"Open\",\"High\",\"Low\",\"Adj Close\"])"
   ]
  },
  {
   "cell_type": "markdown",
   "metadata": {},
   "source": [
    "## Prepare data"
   ]
  },
  {
   "cell_type": "markdown",
   "metadata": {},
   "source": [
    "Since various stock prices and Volume data points has different scales, if you want to plot the graph out and visualize, we will use **matplotlib** to plot."
   ]
  },
  {
   "cell_type": "code",
   "execution_count": null,
   "metadata": {},
   "outputs": [],
   "source": [
    "# Define Date as the X-axis and convert dataframe to a numpy array\n",
    "print(type(df))\n",
    "x = df[\"Date\"].values\n",
    "print(type(x))"
   ]
  },
  {
   "cell_type": "code",
   "execution_count": null,
   "metadata": {
    "scrolled": false
   },
   "outputs": [],
   "source": [
    "# Print out the values and check the size\n",
    "# print(x)\n",
    "print(len(x))"
   ]
  },
  {
   "cell_type": "code",
   "execution_count": null,
   "metadata": {},
   "outputs": [],
   "source": [
    "# define the first y-axis which is all stock prices by dropping/removing the Date(x-axis) and Volume(data with different scale)\n",
    "df2 = df.drop(columns=[\"Date\",\"Volume\"])\n",
    "df2.head()\n",
    "y1 = df2.values\n",
    "# print(y1)\n",
    "print(len(y1))"
   ]
  },
  {
   "cell_type": "code",
   "execution_count": null,
   "metadata": {},
   "outputs": [],
   "source": [
    "y2 = df[\"Volume\"].values\n",
    "# print(y2)\n",
    "print(len(y2))"
   ]
  },
  {
   "cell_type": "code",
   "execution_count": null,
   "metadata": {},
   "outputs": [],
   "source": [
    "fig = plt.figure(figsize=(12, 6))\n",
    "ax1 = fig.add_subplot(111)\n",
    "ax1.plot(x,y1)\n",
    "plt.title('Stock features against Date',fontsize=20)\n",
    "ax1.set_xlabel('Date')\n",
    "ax1.set_ylabel('Stock prices')\n",
    "ax2 = ax1.twinx()\n",
    "ax2.set_ylabel('Volume')\n",
    "ax2.plot(x,y2,'c')"
   ]
  },
  {
   "cell_type": "markdown",
   "metadata": {},
   "source": [
    "When creating the Linear Regression Model, \"Date\" can be considered as a contributing factor or feature in training the model. \n",
    "\n",
    "In plain sight, \"Date\" is just a string, but we can convert it directly into a timestamp by using pandas. \n",
    "\n",
    "From the timestamp data-type, we can extract more meaningful features to be used to train our model, e.g. month, quarter, week."
   ]
  },
  {
   "cell_type": "code",
   "execution_count": null,
   "metadata": {},
   "outputs": [],
   "source": [
    "df[\"Date\"] = pd.to_datetime(df.Date,format='%Y-%m-%d')"
   ]
  },
  {
   "cell_type": "code",
   "execution_count": null,
   "metadata": {},
   "outputs": [],
   "source": [
    "df.info()"
   ]
  },
  {
   "cell_type": "markdown",
   "metadata": {},
   "source": [
    "Scikit-learn will not accept String or Timestamp as the data, so we will need to convert the \"Date\" into a much simplier data that scikitlearn can accept."
   ]
  },
  {
   "cell_type": "code",
   "execution_count": null,
   "metadata": {
    "scrolled": false
   },
   "outputs": [],
   "source": [
    "newdate = df[\"Date\"]\n",
    "\n",
    "df4 = pd.DataFrame({\"year\": newdate.dt.year,\n",
    "              \"month\": newdate.dt.month,\n",
    "              \"day\": newdate.dt.day,\n",
    "              \"hour\": newdate.dt.hour,\n",
    "              \"dayofyear\": newdate.dt.dayofyear,\n",
    "              \"week\": newdate.dt.week,\n",
    "              \"weekofyear\": newdate.dt.weekofyear,\n",
    "              \"dayofweek\": newdate.dt.dayofweek,\n",
    "              \"weekday\": newdate.dt.weekday,\n",
    "              \"quarter\": newdate.dt.quarter,\n",
    "             })\n"
   ]
  },
  {
   "cell_type": "code",
   "execution_count": null,
   "metadata": {},
   "outputs": [],
   "source": [
    "df3 = df.drop(columns=[\"Date\"])\n",
    "df5 = pd.concat([df4,df3],axis=1)\n",
    "df5.head()"
   ]
  },
  {
   "cell_type": "markdown",
   "metadata": {},
   "source": [
    "Our data is now ready for model training."
   ]
  },
  {
   "cell_type": "code",
   "execution_count": null,
   "metadata": {},
   "outputs": [],
   "source": [
    "df5.info()"
   ]
  },
  {
   "cell_type": "markdown",
   "metadata": {},
   "source": [
    "Split the data by using this way instead of using train_test_split because we are treating our stock data as a time series data"
   ]
  },
  {
   "cell_type": "code",
   "execution_count": null,
   "metadata": {},
   "outputs": [],
   "source": [
    "train = df5[:200]\n",
    "test = df5[200:]"
   ]
  },
  {
   "cell_type": "code",
   "execution_count": null,
   "metadata": {},
   "outputs": [],
   "source": [
    "train.info()"
   ]
  },
  {
   "cell_type": "code",
   "execution_count": null,
   "metadata": {},
   "outputs": [],
   "source": [
    "test.info()"
   ]
  },
  {
   "cell_type": "code",
   "execution_count": null,
   "metadata": {},
   "outputs": [],
   "source": [
    "X_train = train.drop(\"Close\",axis=1)\n",
    "y_train = train[\"Close\"]\n",
    "X_test = test.drop(\"Close\",axis=1)\n",
    "y_test = test[\"Close\"]"
   ]
  },
  {
   "cell_type": "markdown",
   "metadata": {},
   "source": [
    "## Train model"
   ]
  },
  {
   "cell_type": "code",
   "execution_count": null,
   "metadata": {},
   "outputs": [],
   "source": [
    "model = LinearRegression()\n",
    "model.fit(X_train,y_train)"
   ]
  },
  {
   "cell_type": "markdown",
   "metadata": {},
   "source": [
    "There are 15 coefficients because we have 15 features."
   ]
  },
  {
   "cell_type": "code",
   "execution_count": null,
   "metadata": {
    "scrolled": true
   },
   "outputs": [],
   "source": [
    "print(model.coef_)\n",
    "print(len(model.coef_))"
   ]
  },
  {
   "cell_type": "markdown",
   "metadata": {},
   "source": [
    "## Evaluate"
   ]
  },
  {
   "cell_type": "code",
   "execution_count": null,
   "metadata": {},
   "outputs": [],
   "source": [
    "predictions = model.predict(X_test)"
   ]
  },
  {
   "cell_type": "code",
   "execution_count": null,
   "metadata": {
    "scrolled": true
   },
   "outputs": [],
   "source": [
    "print('MAE:', metrics.mean_absolute_error(y_test, predictions))\n",
    "print('MSE:', metrics.mean_squared_error(y_test, predictions))\n",
    "print('RMSE:', np.sqrt(metrics.mean_squared_error(y_test, predictions)))"
   ]
  },
  {
   "cell_type": "markdown",
   "metadata": {},
   "source": [
    "The evaluation metrics are low which shows that the model is generalizing the data well"
   ]
  },
  {
   "cell_type": "code",
   "execution_count": null,
   "metadata": {},
   "outputs": [],
   "source": [
    "test.insert(16,\"Predictions\",predictions)"
   ]
  },
  {
   "cell_type": "code",
   "execution_count": null,
   "metadata": {},
   "outputs": [],
   "source": [
    "test[[\"Close\",\"Predictions\"]].tail()"
   ]
  },
  {
   "cell_type": "code",
   "execution_count": null,
   "metadata": {
    "scrolled": false
   },
   "outputs": [],
   "source": [
    "fig = plt.figure(figsize=(14, 6))\n",
    "plt.title(\"Stock Closing Price against Date\",fontsize=20)\n",
    "plt.xlabel(\"Date\")\n",
    "plt.ylabel(\"Stock Closing Price\")\n",
    "plt.plot(train[\"Close\"])\n",
    "plt.plot(test[[\"Close\",\"Predictions\"]])\n"
   ]
  },
  {
   "cell_type": "code",
   "execution_count": null,
   "metadata": {},
   "outputs": [],
   "source": [
    "model.score(X_test, y_test)"
   ]
  },
  {
   "cell_type": "markdown",
   "metadata": {},
   "source": [
    "Seems like the model is doing a very good job at predicting the stock price. It could be due to that we are using a small dataset with low number of features.\n",
    "\n",
    "Let us try to build another linear regression model with the same dataset, but this time, let us use the \"date\" as the only feature."
   ]
  },
  {
   "cell_type": "markdown",
   "metadata": {},
   "source": [
    "## Train model using date only"
   ]
  },
  {
   "cell_type": "code",
   "execution_count": null,
   "metadata": {},
   "outputs": [],
   "source": [
    "df5.info()"
   ]
  },
  {
   "cell_type": "code",
   "execution_count": null,
   "metadata": {},
   "outputs": [],
   "source": [
    "train = df5[:200]\n",
    "test = df5[200:]"
   ]
  },
  {
   "cell_type": "code",
   "execution_count": null,
   "metadata": {},
   "outputs": [],
   "source": [
    "X_train = train.drop([\"Close\",\"Open\",\"High\",\"Low\",\"Adj Close\",\"Volume\"],axis=1)\n",
    "y_train = train[\"Close\"]\n",
    "X_test = test.drop([\"Close\",\"Open\",\"High\",\"Low\",\"Adj Close\",\"Volume\"],axis=1)\n",
    "y_test = test[\"Close\"]"
   ]
  },
  {
   "cell_type": "code",
   "execution_count": null,
   "metadata": {},
   "outputs": [],
   "source": [
    "model = LinearRegression()\n",
    "model.fit(X_train,y_train)"
   ]
  },
  {
   "cell_type": "code",
   "execution_count": null,
   "metadata": {},
   "outputs": [],
   "source": [
    "print(model.coef_)\n",
    "print(len(model.coef_))"
   ]
  },
  {
   "cell_type": "markdown",
   "metadata": {},
   "source": [
    "### Understanding coefficients\n",
    "The coefficients are the mathematical representations of the features to the label. In this example, there are ten coefficients. Every value corresponds to each feature in the data. The value can be negative or positive.\n",
    "\n",
    "The sign(positive or negative) of the coefficient indicates that correlation between independent and dependent variable.\n",
    "- Independent variable: Feature(One column)\n",
    "- Dependent variable: target\n",
    "\n",
    "All coefficient values lie between -1 and 1. \n",
    "\n",
    "#### Towards +1\n",
    "As the value of the independent variable increase, the value of the dependent variable tends to increase.\n",
    "\n",
    "#### Towards -1\n",
    "As the value of the independent variable decrease(more negative), the value of the dependent variable tends to increase.\n",
    "\n",
    "#### Close to zero\n",
    "The value that is close to 0 indicates that the independent variable has no significant contribution to the dependent variable."
   ]
  },
  {
   "cell_type": "markdown",
   "metadata": {},
   "source": [
    "## Evaluate"
   ]
  },
  {
   "cell_type": "code",
   "execution_count": null,
   "metadata": {},
   "outputs": [],
   "source": [
    "predictions = model.predict(X_test)\n",
    "print('MAE:', metrics.mean_absolute_error(y_test, predictions))\n",
    "print('MSE:', metrics.mean_squared_error(y_test, predictions))\n",
    "print('RMSE:', np.sqrt(metrics.mean_squared_error(y_test, predictions)))"
   ]
  },
  {
   "cell_type": "markdown",
   "metadata": {},
   "source": [
    "Compared to the model before, the metric produce higher value which indicates the value has higher error than the previous model.\n",
    "\n",
    "The previous model works better."
   ]
  },
  {
   "cell_type": "code",
   "execution_count": null,
   "metadata": {},
   "outputs": [],
   "source": [
    "test.insert(11,\"Predictions\",predictions)\n",
    "test[[\"Close\",\"Predictions\"]].tail()"
   ]
  },
  {
   "cell_type": "code",
   "execution_count": null,
   "metadata": {},
   "outputs": [],
   "source": [
    "fig = plt.figure(figsize=(14, 6))\n",
    "plt.title(\"Stock Closing Price against Date\",fontsize=20)\n",
    "plt.xlabel(\"Date\")\n",
    "plt.ylabel(\"Stock Closing Price\")\n",
    "plt.plot(train[\"Close\"])\n",
    "plt.plot(test[[\"Close\",\"Predictions\"]])"
   ]
  },
  {
   "cell_type": "code",
   "execution_count": null,
   "metadata": {},
   "outputs": [],
   "source": [
    "model.score(X_test, y_test)"
   ]
  },
  {
   "cell_type": "markdown",
   "metadata": {},
   "source": [
    "As you can see, the prediction is very bad when you predict the stock price solely based on the date."
   ]
  }
 ],
 "metadata": {
  "kernelspec": {
   "display_name": "Python 3",
   "language": "python",
   "name": "python3"
  },
  "language_info": {
   "codemirror_mode": {
    "name": "ipython",
    "version": 3
   },
   "file_extension": ".py",
   "mimetype": "text/x-python",
   "name": "python",
   "nbconvert_exporter": "python",
   "pygments_lexer": "ipython3",
   "version": "3.7.7"
  }
 },
 "nbformat": 4,
 "nbformat_minor": 2
}
