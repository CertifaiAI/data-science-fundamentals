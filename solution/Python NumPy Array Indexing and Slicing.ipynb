{
 "cells": [
  {
   "cell_type": "code",
   "execution_count": null,
   "metadata": {},
   "outputs": [],
   "source": [
    "# Copyright (c) 2020-2021 CertifAI Sdn. Bhd.\n",
    "# \n",
    "# This program is part of OSRFramework. You can redistribute it and/or modify\n",
    "# it under the terms of the GNU Affero General Public License as published by\n",
    "# the Free Software Foundation, either version 3 of the License, or\n",
    "# (at your option) any later version.\n",
    "# \n",
    "# This program is distributed in the hope that it will be useful,\n",
    "# but WITHOUT ANY WARRANTY; without even the implied warranty of\n",
    "# MERCHANTABILITY or FITNESS FOR A PARTICULAR PURPOSE.  See the\n",
    "# GNU Affero General Public License for more details.\n",
    "# \n",
    "# You should have received a copy of the GNU Affero General Public License\n",
    "# along with this program.  If not, see <http://www.gnu.org/licenses/>."
   ]
  },
  {
   "cell_type": "markdown",
   "metadata": {},
   "source": [
    "# Array Indexing and Slicing"
   ]
  },
  {
   "cell_type": "markdown",
   "metadata": {},
   "source": [
    "Array indexing and slicing are methods used in Python to access, modify or restructure the contents stored in data structure objects. <br> In indexing and slicing, we use `[]` or so-called `square brackets` to index/slice data structures. Examples of data structures that could be sliced are lists, tuples, NumPy arrays etc. "
   ]
  },
  {
   "cell_type": "code",
   "execution_count": 2,
   "metadata": {},
   "outputs": [],
   "source": [
    "import numpy as np\n",
    "import sklearn.datasets as dataset"
   ]
  },
  {
   "cell_type": "markdown",
   "metadata": {},
   "source": [
    "## Indexing\n",
    "Indexing refers to accessing elements through the use of indices. Most programming languages follows zero-based index.That is index of an array with $n$ elements will start from 0 and end at $n-1$. For example, the first element of an array will have index of 0."
   ]
  },
  {
   "cell_type": "markdown",
   "metadata": {},
   "source": [
    "### 1-Dimension Array"
   ]
  },
  {
   "cell_type": "markdown",
   "metadata": {},
   "source": [
    "Let's try to access the **second element of the array** and name it as variable **`elem`**.\n",
    "<i> Reminder: 2nd element corresponds to index 1."
   ]
  },
  {
   "cell_type": "code",
   "execution_count": 3,
   "metadata": {},
   "outputs": [],
   "source": [
    "array_1d = np.array([1,2,3,4,5])\n",
    "array_1d.shape\n",
    "elem = array_1d[1]"
   ]
  },
  {
   "cell_type": "markdown",
   "metadata": {},
   "source": [
    "### 2-Dimension Matrix"
   ]
  },
  {
   "cell_type": "markdown",
   "metadata": {},
   "source": [
    "For 2 or more dimensions (>2d tensors), indexing will start from higher dimensions. In matrices, row is a higher dimension than columns, so we will have to specify the row which the element is in, and then the column as well.<br><br>\n",
    "Let's initialize a $3\\times5$ matrix."
   ]
  },
  {
   "cell_type": "code",
   "execution_count": 4,
   "metadata": {},
   "outputs": [
    {
     "data": {
      "text/plain": [
       "(3, 5)"
      ]
     },
     "execution_count": 4,
     "metadata": {},
     "output_type": "execute_result"
    }
   ],
   "source": [
    "# 2d matrix\n",
    "mat_2d = np.array([[1,4,5,6,7],\n",
    "                   [2,4,8,5,9],\n",
    "                   [0,5,4,7,2]])\n",
    "mat_2d.shape"
   ]
  },
  {
   "cell_type": "markdown",
   "metadata": {},
   "source": [
    "Acessing the value **9**, which is the $5^{th}$ element from the $2^{nd}$ row.<br>\n",
    "<i>Reminder: index = n-1"
   ]
  },
  {
   "cell_type": "code",
   "execution_count": 5,
   "metadata": {},
   "outputs": [
    {
     "data": {
      "text/plain": [
       "9"
      ]
     },
     "execution_count": 5,
     "metadata": {},
     "output_type": "execute_result"
    }
   ],
   "source": [
    "mat_2d[1][4]"
   ]
  },
  {
   "cell_type": "markdown",
   "metadata": {},
   "source": [
    "### N-Dimension Tensor"
   ]
  },
  {
   "cell_type": "markdown",
   "metadata": {},
   "source": [
    "For high-dimensionss tensors, indexing will be similar, from high dimensions to low dimensions. We can try this on a 3-dimension tensor. Accesing the element located at depth = 1, row = 2, column = 3, which has the value `2`."
   ]
  },
  {
   "cell_type": "code",
   "execution_count": 6,
   "metadata": {},
   "outputs": [
    {
     "data": {
      "text/plain": [
       "(3, 4, 3)"
      ]
     },
     "execution_count": 6,
     "metadata": {},
     "output_type": "execute_result"
    }
   ],
   "source": [
    "tensor_3d = np.array([[[1,2,3],\n",
    "                       [3,2,2],\n",
    "                       [6,4,1],\n",
    "                       [3,4,5]],\n",
    "                      [[4,6,7],\n",
    "                       [5,6,7],\n",
    "                       [6,6,6],\n",
    "                       [8,8,8]],\n",
    "                      [[6,0,1],\n",
    "                       [2,3,6],\n",
    "                       [4,5,1],\n",
    "                       [2,3,7]]])\n",
    "tensor_3d.shape"
   ]
  },
  {
   "cell_type": "code",
   "execution_count": 7,
   "metadata": {},
   "outputs": [
    {
     "data": {
      "text/plain": [
       "2"
      ]
     },
     "execution_count": 7,
     "metadata": {},
     "output_type": "execute_result"
    }
   ],
   "source": [
    "tensor_3d[0][1][2]"
   ]
  },
  {
   "cell_type": "markdown",
   "metadata": {},
   "source": [
    "## Slicing"
   ]
  },
  {
   "cell_type": "markdown",
   "metadata": {},
   "source": [
    "Slicing is just another way to access values, multiple objects at a time. In slicing, we use `[start:stop:step]` to indicate what we want to slice.<br>\n",
    "1. `start`: the index which to start. The default will be 0 if not specified.\n",
    "2. `stop`: the index which slicing stops. This index will not be included into the sliced result. The default will be `len(array)` if not specified.\n",
    "3. `step`: how much index per step is taken. The default will be 1 if not specified.<br>"
   ]
  },
  {
   "cell_type": "markdown",
   "metadata": {},
   "source": [
    "Let's use the predefined `array_1d` for example. We want to slice the values from $2^{nd}$ to the $4^{th}$ element."
   ]
  },
  {
   "cell_type": "code",
   "execution_count": 10,
   "metadata": {},
   "outputs": [
    {
     "name": "stdout",
     "output_type": "stream",
     "text": [
      "[2 3 4]\n"
     ]
    }
   ],
   "source": [
    "print(array_1d[1:4])"
   ]
  },
  {
   "cell_type": "markdown",
   "metadata": {},
   "source": [
    "### 2-dimension matrix"
   ]
  },
  {
   "cell_type": "markdown",
   "metadata": {},
   "source": [
    "In slicing, unlike indexing all dimensions are defined in a single square brackets. The start-stop-step for each dimension will be spllit using a `,` <br><br>\n",
    "`[start1:stop1:step1, start2:stop2:step2]`.<br><br>Like indexing, the sequence of dimensions are also arranged from high to low. "
   ]
  },
  {
   "cell_type": "markdown",
   "metadata": {},
   "source": [
    "We'll try to slice `mat_2d` out to obtain the slices that contain the last three elements of the first two rows. `rows = 1->2`,`columns = 3->5`."
   ]
  },
  {
   "cell_type": "code",
   "execution_count": 11,
   "metadata": {},
   "outputs": [
    {
     "data": {
      "text/plain": [
       "array([[5, 6, 7],\n",
       "       [8, 5, 9]])"
      ]
     },
     "execution_count": 11,
     "metadata": {},
     "output_type": "execute_result"
    }
   ],
   "source": [
    "# 2D matrix slicing\n",
    "mat_2d[0:2,2:5]"
   ]
  },
  {
   "cell_type": "markdown",
   "metadata": {},
   "source": [
    "Slicing techniques are really handy when it comes to handling real datasets. Here, we are going to try and slice a dataset imported from sklearn."
   ]
  },
  {
   "cell_type": "code",
   "execution_count": 19,
   "metadata": {},
   "outputs": [
    {
     "name": "stdout",
     "output_type": "stream",
     "text": [
      ".. _breast_cancer_dataset:\n",
      "\n",
      "Breast cancer wisconsin (diagnostic) dataset\n",
      "--------------------------------------------\n",
      "\n",
      "**Data Set Characteristics:**\n",
      "\n",
      "    :Number of Instances: 569\n",
      "\n",
      "    :Number of Attributes: 30 numeric, predictive attributes and the class\n",
      "\n",
      "    :Attribute Information:\n",
      "        - radius (mean of distances from center to points on the perimeter)\n",
      "        - texture (standard deviation of gray-scale values)\n",
      "        - perimeter\n",
      "        - area\n",
      "        - smoothness (local variation in radius lengths)\n",
      "        - compactness (perimeter^2 / area - 1.0)\n",
      "        - concavity (severity of concave portions of the contour)\n",
      "        - concave points (number of concave portions of the contour)\n",
      "        - symmetry\n",
      "        - fractal dimension (\"coastline approximation\" - 1)\n",
      "\n",
      "        The mean, standard error, and \"worst\" or largest (mean of the three\n",
      "        worst/largest values) of these features were computed for each image,\n",
      "        resulting in 30 features.  For instance, field 0 is Mean Radius, field\n",
      "        10 is Radius SE, field 20 is Worst Radius.\n",
      "\n",
      "        - class:\n",
      "                - WDBC-Malignant\n",
      "                - WDBC-Benign\n",
      "\n",
      "    :Summary Statistics:\n",
      "\n",
      "    ===================================== ====== ======\n",
      "                                           Min    Max\n",
      "    ===================================== ====== ======\n",
      "    radius (mean):                        6.981  28.11\n",
      "    texture (mean):                       9.71   39.28\n",
      "    perimeter (mean):                     43.79  188.5\n",
      "    area (mean):                          143.5  2501.0\n",
      "    smoothness (mean):                    0.053  0.163\n",
      "    compactness (mean):                   0.019  0.345\n",
      "    concavity (mean):                     0.0    0.427\n",
      "    concave points (mean):                0.0    0.201\n",
      "    symmetry (mean):                      0.106  0.304\n",
      "    fractal dimension (mean):             0.05   0.097\n",
      "    radius (standard error):              0.112  2.873\n",
      "    texture (standard error):             0.36   4.885\n",
      "    perimeter (standard error):           0.757  21.98\n",
      "    area (standard error):                6.802  542.2\n",
      "    smoothness (standard error):          0.002  0.031\n",
      "    compactness (standard error):         0.002  0.135\n",
      "    concavity (standard error):           0.0    0.396\n",
      "    concave points (standard error):      0.0    0.053\n",
      "    symmetry (standard error):            0.008  0.079\n",
      "    fractal dimension (standard error):   0.001  0.03\n",
      "    radius (worst):                       7.93   36.04\n",
      "    texture (worst):                      12.02  49.54\n",
      "    perimeter (worst):                    50.41  251.2\n",
      "    area (worst):                         185.2  4254.0\n",
      "    smoothness (worst):                   0.071  0.223\n",
      "    compactness (worst):                  0.027  1.058\n",
      "    concavity (worst):                    0.0    1.252\n",
      "    concave points (worst):               0.0    0.291\n",
      "    symmetry (worst):                     0.156  0.664\n",
      "    fractal dimension (worst):            0.055  0.208\n",
      "    ===================================== ====== ======\n",
      "\n",
      "    :Missing Attribute Values: None\n",
      "\n",
      "    :Class Distribution: 212 - Malignant, 357 - Benign\n",
      "\n",
      "    :Creator:  Dr. William H. Wolberg, W. Nick Street, Olvi L. Mangasarian\n",
      "\n",
      "    :Donor: Nick Street\n",
      "\n",
      "    :Date: November, 1995\n",
      "\n",
      "This is a copy of UCI ML Breast Cancer Wisconsin (Diagnostic) datasets.\n",
      "https://goo.gl/U2Uwz2\n",
      "\n",
      "Features are computed from a digitized image of a fine needle\n",
      "aspirate (FNA) of a breast mass.  They describe\n",
      "characteristics of the cell nuclei present in the image.\n",
      "\n",
      "Separating plane described above was obtained using\n",
      "Multisurface Method-Tree (MSM-T) [K. P. Bennett, \"Decision Tree\n",
      "Construction Via Linear Programming.\" Proceedings of the 4th\n",
      "Midwest Artificial Intelligence and Cognitive Science Society,\n",
      "pp. 97-101, 1992], a classification method which uses linear\n",
      "programming to construct a decision tree.  Relevant features\n",
      "were selected using an exhaustive search in the space of 1-4\n",
      "features and 1-3 separating planes.\n",
      "\n",
      "The actual linear program used to obtain the separating plane\n",
      "in the 3-dimensional space is that described in:\n",
      "[K. P. Bennett and O. L. Mangasarian: \"Robust Linear\n",
      "Programming Discrimination of Two Linearly Inseparable Sets\",\n",
      "Optimization Methods and Software 1, 1992, 23-34].\n",
      "\n",
      "This database is also available through the UW CS ftp server:\n",
      "\n",
      "ftp ftp.cs.wisc.edu\n",
      "cd math-prog/cpo-dataset/machine-learn/WDBC/\n",
      "\n",
      ".. topic:: References\n",
      "\n",
      "   - W.N. Street, W.H. Wolberg and O.L. Mangasarian. Nuclear feature extraction \n",
      "     for breast tumor diagnosis. IS&T/SPIE 1993 International Symposium on \n",
      "     Electronic Imaging: Science and Technology, volume 1905, pages 861-870,\n",
      "     San Jose, CA, 1993.\n",
      "   - O.L. Mangasarian, W.N. Street and W.H. Wolberg. Breast cancer diagnosis and \n",
      "     prognosis via linear programming. Operations Research, 43(4), pages 570-577, \n",
      "     July-August 1995.\n",
      "   - W.H. Wolberg, W.N. Street, and O.L. Mangasarian. Machine learning techniques\n",
      "     to diagnose breast cancer from fine-needle aspirates. Cancer Letters 77 (1994) \n",
      "     163-171.\n"
     ]
    }
   ],
   "source": [
    "data = dataset.load_breast_cancer()\n",
    "print(data.DESCR)"
   ]
  },
  {
   "cell_type": "markdown",
   "metadata": {},
   "source": [
    "`dataset.load_breast_cancer()` will return us a dataset containing 569 instances regarding breast cancer and the corresponding attributes/characteristics *(e.g area, perimeter and smoothness)* of the tumor. "
   ]
  },
  {
   "cell_type": "markdown",
   "metadata": {},
   "source": [
    "For demonstration purposes, let's say that the researcher only wants 5 attriibutes from the first 50 samples. Here we can perform slicing which is very helpful."
   ]
  },
  {
   "cell_type": "code",
   "execution_count": 13,
   "metadata": {},
   "outputs": [
    {
     "data": {
      "text/plain": [
       "((569, 30), (569,))"
      ]
     },
     "execution_count": 13,
     "metadata": {},
     "output_type": "execute_result"
    }
   ],
   "source": [
    "# data.data will return us all the features or attributes of all 569 instances of breast cancer\n",
    "X = data.data \n",
    "# data.target will return us 0 or 1, which is the target label of the corresponding instances, \n",
    "# showing whether or not the tumor is cancerous\n",
    "y = data.target\n",
    "\n",
    "# We only want 50 samples and the first 5 attributes of the data\n",
    "X.shape, y.shape"
   ]
  },
  {
   "cell_type": "code",
   "execution_count": 16,
   "metadata": {},
   "outputs": [],
   "source": [
    "X = X[0:50,0:5]\n",
    "y = y[0:50]"
   ]
  },
  {
   "cell_type": "code",
   "execution_count": 17,
   "metadata": {},
   "outputs": [
    {
     "name": "stdout",
     "output_type": "stream",
     "text": [
      "(50, 5)\n",
      "50\n"
     ]
    }
   ],
   "source": [
    "print(X.shape)\n",
    "print(len(y))"
   ]
  },
  {
   "cell_type": "markdown",
   "metadata": {},
   "source": [
    "## Exercise"
   ]
  },
  {
   "cell_type": "markdown",
   "metadata": {},
   "source": [
    "1. Initialize a random tensor with 3 dimensions with `shape: 5,3,4` as **`t_1`**.<br>\n",
    "Print out `t_1`.<br>\n",
    "<i> Hint: use `np.random.rand()`"
   ]
  },
  {
   "cell_type": "code",
   "execution_count": 18,
   "metadata": {},
   "outputs": [
    {
     "name": "stdout",
     "output_type": "stream",
     "text": [
      "[[[0.61263696 0.53370284 0.74737916 0.71485898]\n",
      "  [0.28819845 0.12920936 0.56991834 0.99955624]\n",
      "  [0.69057516 0.02568579 0.48194794 0.52605437]]\n",
      "\n",
      " [[0.04873142 0.92735274 0.5287637  0.90389785]\n",
      "  [0.96709623 0.96066719 0.56698611 0.78494301]\n",
      "  [0.55177537 0.76763515 0.4399508  0.24230362]]\n",
      "\n",
      " [[0.50927244 0.32257385 0.60250987 0.3687013 ]\n",
      "  [0.53895145 0.14641481 0.75668748 0.05168186]\n",
      "  [0.27855938 0.76249359 0.33111207 0.14115507]]\n",
      "\n",
      " [[0.10657944 0.4451757  0.05375945 0.12566576]\n",
      "  [0.35420905 0.57058442 0.36785375 0.90403231]\n",
      "  [0.32689537 0.67290278 0.56058587 0.15957834]]\n",
      "\n",
      " [[0.42411558 0.60763741 0.84964214 0.23079858]\n",
      "  [0.82072962 0.72075187 0.68063451 0.62713932]\n",
      "  [0.2752349  0.2150857  0.29600081 0.45597582]]]\n"
     ]
    }
   ],
   "source": [
    "t_1 = np.random.rand(5,3,4)\n",
    "print(t_1)"
   ]
  },
  {
   "cell_type": "markdown",
   "metadata": {},
   "source": [
    "2. Index the elements of these dimensions.\n",
    "<ul>\n",
    "    <li> column = 2, row = 2, depth = 1\n",
    "    <li> column = 3, row = 1, depth = 5\n",
    "        "
   ]
  },
  {
   "cell_type": "code",
   "execution_count": 14,
   "metadata": {},
   "outputs": [
    {
     "name": "stdout",
     "output_type": "stream",
     "text": [
      "0.40096134726406774\n",
      "0.8789875876196123\n"
     ]
    }
   ],
   "source": [
    "print(t_1[0][1][1])\n",
    "print(t_1[4][0][2])"
   ]
  },
  {
   "cell_type": "markdown",
   "metadata": {},
   "source": [
    "3. Load iris dataset from `sklearn.datasets`. Slice the dataset down to 3 attributes and 30 instances."
   ]
  },
  {
   "cell_type": "code",
   "execution_count": 15,
   "metadata": {},
   "outputs": [],
   "source": [
    "import sklearn.datasets as dataset\n",
    "data = dataset.load_iris()\n",
    "X = data.data[:30,:3]"
   ]
  },
  {
   "cell_type": "code",
   "execution_count": 16,
   "metadata": {},
   "outputs": [
    {
     "data": {
      "text/plain": [
       "(30, 3)"
      ]
     },
     "execution_count": 16,
     "metadata": {},
     "output_type": "execute_result"
    }
   ],
   "source": [
    "X.shape"
   ]
  },
  {
   "cell_type": "code",
   "execution_count": 17,
   "metadata": {},
   "outputs": [
    {
     "name": "stdout",
     "output_type": "stream",
     "text": [
      "[[5.1 3.5 1.4]\n",
      " [4.9 3.  1.4]\n",
      " [4.7 3.2 1.3]\n",
      " [4.6 3.1 1.5]\n",
      " [5.  3.6 1.4]\n",
      " [5.4 3.9 1.7]\n",
      " [4.6 3.4 1.4]\n",
      " [5.  3.4 1.5]\n",
      " [4.4 2.9 1.4]\n",
      " [4.9 3.1 1.5]\n",
      " [5.4 3.7 1.5]\n",
      " [4.8 3.4 1.6]\n",
      " [4.8 3.  1.4]\n",
      " [4.3 3.  1.1]\n",
      " [5.8 4.  1.2]\n",
      " [5.7 4.4 1.5]\n",
      " [5.4 3.9 1.3]\n",
      " [5.1 3.5 1.4]\n",
      " [5.7 3.8 1.7]\n",
      " [5.1 3.8 1.5]\n",
      " [5.4 3.4 1.7]\n",
      " [5.1 3.7 1.5]\n",
      " [4.6 3.6 1. ]\n",
      " [5.1 3.3 1.7]\n",
      " [4.8 3.4 1.9]\n",
      " [5.  3.  1.6]\n",
      " [5.  3.4 1.6]\n",
      " [5.2 3.5 1.5]\n",
      " [5.2 3.4 1.4]\n",
      " [4.7 3.2 1.6]]\n"
     ]
    }
   ],
   "source": [
    "print(X)"
   ]
  }
 ],
 "metadata": {
  "kernelspec": {
   "display_name": "Python 3",
   "language": "python",
   "name": "python3"
  },
  "language_info": {
   "codemirror_mode": {
    "name": "ipython",
    "version": 3
   },
   "file_extension": ".py",
   "mimetype": "text/x-python",
   "name": "python",
   "nbconvert_exporter": "python",
   "pygments_lexer": "ipython3",
   "version": "3.8.5"
  }
 },
 "nbformat": 4,
 "nbformat_minor": 4
}