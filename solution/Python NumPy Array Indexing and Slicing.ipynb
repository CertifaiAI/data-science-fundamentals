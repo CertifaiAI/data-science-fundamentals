{
 "cells": [
  {
   "cell_type": "markdown",
   "metadata": {},
   "source": [
    "# Array Indexing and Slicing"
   ]
  },
  {
   "cell_type": "markdown",
   "metadata": {},
   "source": [
    "Array indexing and slicing are methods used in Python to access, modify or restructure the contents stored in data structure objects. <br> In indexing and slicing, we use `[]` or so-called `square brackets` to index/slice data structures. Examples of data structures that could be sliced are lists, tuples, NumPy arrays etc. "
   ]
  },
  {
   "cell_type": "code",
   "execution_count": 1,
   "metadata": {},
   "outputs": [],
   "source": [
    "import numpy as np\n",
    "import sklearn.datasets as dataset"
   ]
  },
  {
   "cell_type": "markdown",
   "metadata": {},
   "source": [
    "## Indexing\n",
    "Indexing refers to accessing elements through the use of indices. Most programming languages follows zero-based index.That is index of an array with $n$ elements will start from 0 and end at $n-1$. For example, the first element of an array will have index of 0."
   ]
  },
  {
   "cell_type": "markdown",
   "metadata": {},
   "source": [
    "### 1-Dimension Array"
   ]
  },
  {
   "cell_type": "markdown",
   "metadata": {},
   "source": [
    "Let's try to access the **second element of the array** and name it as variable **`elem`**.\n",
    "<i> Reminder: 2nd element corresponds to index 1."
   ]
  },
  {
   "cell_type": "code",
   "execution_count": 2,
   "metadata": {},
   "outputs": [],
   "source": [
    "array_1d = np.array([1,2,3,4,5])\n",
    "array_1d.shape\n",
    "elem = array_1d[1]"
   ]
  },
  {
   "cell_type": "markdown",
   "metadata": {},
   "source": [
    "### 2-Dimension Matrix"
   ]
  },
  {
   "cell_type": "markdown",
   "metadata": {},
   "source": [
    "For 2 or more dimensions (>2d tensors), indexing will start from higher dimensions. In matrices, row is a higher dimension than columns, so we will have to specify the row which the element is in, and then the column as well.<br><br>\n",
    "Let's initialize a $3\\times5$ matrix."
   ]
  },
  {
   "cell_type": "code",
   "execution_count": 3,
   "metadata": {},
   "outputs": [
    {
     "data": {
      "text/plain": [
       "(3, 5)"
      ]
     },
     "execution_count": 3,
     "metadata": {},
     "output_type": "execute_result"
    }
   ],
   "source": [
    "# 2d matrix\n",
    "mat_2d = np.array([[1,4,5,6,7],\n",
    "                   [2,4,8,5,9],\n",
    "                   [0,5,4,7,2]])\n",
    "mat_2d.shape"
   ]
  },
  {
   "cell_type": "markdown",
   "metadata": {},
   "source": [
    "Acessing the value **9**, which is the $5^{th}$ element from the $2^{nd}$ row.<br>\n",
    "<i>Reminder: index = n-1"
   ]
  },
  {
   "cell_type": "code",
   "execution_count": 4,
   "metadata": {},
   "outputs": [
    {
     "data": {
      "text/plain": [
       "9"
      ]
     },
     "execution_count": 4,
     "metadata": {},
     "output_type": "execute_result"
    }
   ],
   "source": [
    "mat_2d[1][4]"
   ]
  },
  {
   "cell_type": "markdown",
   "metadata": {},
   "source": [
    "### N-Dimension Tensor"
   ]
  },
  {
   "cell_type": "markdown",
   "metadata": {},
   "source": [
    "For high-dimensionss tensors, indexing will be similar, from high dimensions to low dimensions. We can try this on a 3-dimension tensor. Accesing the element located at depth = 1, row = 2, column = 3, which has the value `2`."
   ]
  },
  {
   "cell_type": "code",
   "execution_count": 5,
   "metadata": {},
   "outputs": [
    {
     "data": {
      "text/plain": [
       "(3, 4, 3)"
      ]
     },
     "execution_count": 5,
     "metadata": {},
     "output_type": "execute_result"
    }
   ],
   "source": [
    "tensor_3d = np.array([[[1,2,3],\n",
    "                       [3,2,2],\n",
    "                       [6,4,1],\n",
    "                       [3,4,5]],\n",
    "                      [[4,6,7],\n",
    "                       [5,6,7],\n",
    "                       [6,6,6],\n",
    "                       [8,8,8]],\n",
    "                      [[6,0,1],\n",
    "                       [2,3,6],\n",
    "                       [4,5,1],\n",
    "                       [2,3,7]]])\n",
    "tensor_3d.shape"
   ]
  },
  {
   "cell_type": "code",
   "execution_count": 6,
   "metadata": {},
   "outputs": [
    {
     "data": {
      "text/plain": [
       "2"
      ]
     },
     "execution_count": 6,
     "metadata": {},
     "output_type": "execute_result"
    }
   ],
   "source": [
    "tensor_3d[0][1][2]"
   ]
  },
  {
   "cell_type": "markdown",
   "metadata": {},
   "source": [
    "## Slicing"
   ]
  },
  {
   "cell_type": "markdown",
   "metadata": {},
   "source": [
    "Slicing is just another way to access values, multiple objects at a time. In slicing, we use `[start:stop:step]` to indicate what we want to slice.<br>\n",
    "1. `start`: the index which to start. The default will be 0 if not specified.\n",
    "2. `stop`: the index which slicing stops. This index will not be included into the sliced result. The default will be `len(array)` if not specified.\n",
    "3. `step`: how much index per step is taken. The default will be 1 if not specified.<br>"
   ]
  },
  {
   "cell_type": "markdown",
   "metadata": {},
   "source": [
    "Let's use the predifined `array_1d` for example. We want to slice the values from $2^{nd}$ to the $4^{th}$ element."
   ]
  },
  {
   "cell_type": "code",
   "execution_count": 7,
   "metadata": {},
   "outputs": [
    {
     "name": "stdout",
     "output_type": "stream",
     "text": [
      "[3 4 5]\n"
     ]
    }
   ],
   "source": [
    "print(array_1d[2:5])"
   ]
  },
  {
   "cell_type": "markdown",
   "metadata": {},
   "source": [
    "### 2-dimension matrix"
   ]
  },
  {
   "cell_type": "markdown",
   "metadata": {},
   "source": [
    "In slicing, unlike indexing all dimensions are defined in a single square brackets. The start-stop-step for each dimension will be spllit using a `,` <br><br>\n",
    "`[start1:stop1:step1, start2:stop2:step2]`.<br><br>Like indexing, the sequence of dimensions are also arranged from high to low. "
   ]
  },
  {
   "cell_type": "markdown",
   "metadata": {},
   "source": [
    "We'll try to slice `mat_2d` out to obtain the slices that contain the last three elements of the first two rows. `rows = 1->2`,`columns = 3->5`."
   ]
  },
  {
   "cell_type": "code",
   "execution_count": 8,
   "metadata": {},
   "outputs": [
    {
     "data": {
      "text/plain": [
       "array([[5, 6, 7],\n",
       "       [8, 5, 9]])"
      ]
     },
     "execution_count": 8,
     "metadata": {},
     "output_type": "execute_result"
    }
   ],
   "source": [
    "# 2D matrix slicing\n",
    "mat_2d[0:2,2:5]"
   ]
  },
  {
   "cell_type": "markdown",
   "metadata": {},
   "source": [
    "Slicing techniques are really handy when it comes to handling real datasets. Here, we are going to try and slice a dataset imported from sklearn."
   ]
  },
  {
   "cell_type": "code",
   "execution_count": 9,
   "metadata": {},
   "outputs": [],
   "source": [
    "data = dataset.load_breast_cancer()"
   ]
  },
  {
   "cell_type": "markdown",
   "metadata": {},
   "source": [
    "For demonstration purposes, let's say that the researcher only wants the first 50 samples and only 5 attributes. Here we can perform slicing which is very helpful."
   ]
  },
  {
   "cell_type": "code",
   "execution_count": 10,
   "metadata": {},
   "outputs": [
    {
     "data": {
      "text/plain": [
       "((569, 30), (569,))"
      ]
     },
     "execution_count": 10,
     "metadata": {},
     "output_type": "execute_result"
    }
   ],
   "source": [
    "X = data.data\n",
    "y = data.target\n",
    "\n",
    "# We only want 50 samples and the first 5 attributes of the data\n",
    "X.shape, y.shape"
   ]
  },
  {
   "cell_type": "code",
   "execution_count": 11,
   "metadata": {},
   "outputs": [],
   "source": [
    "X = X[0:51,0:6]\n",
    "y = y[0:51]"
   ]
  },
  {
   "cell_type": "code",
   "execution_count": 12,
   "metadata": {},
   "outputs": [
    {
     "name": "stdout",
     "output_type": "stream",
     "text": [
      "51\n",
      "51\n"
     ]
    }
   ],
   "source": [
    "print(len(X))\n",
    "print(len(y))"
   ]
  },
  {
   "cell_type": "markdown",
   "metadata": {},
   "source": [
    "## Exercise"
   ]
  },
  {
   "cell_type": "markdown",
   "metadata": {},
   "source": [
    "1. Initialize a random tensor with 3 dimensions with `shape: 4,3,5` as **`t_1`**.<br>\n",
    "Print out `t_1`.<br>\n",
    "<i> Hint: use `np.random.rand()`"
   ]
  },
  {
   "cell_type": "code",
   "execution_count": 13,
   "metadata": {},
   "outputs": [
    {
     "name": "stdout",
     "output_type": "stream",
     "text": [
      "[[[0.3700905  0.14111316 0.54295378 0.02864503]\n",
      "  [0.72032326 0.40096135 0.61231836 0.85396175]\n",
      "  [0.18921522 0.43302193 0.01705158 0.37309041]]\n",
      "\n",
      " [[0.66907635 0.51175778 0.28471508 0.99631568]\n",
      "  [0.28098545 0.26556543 0.03030671 0.69184659]\n",
      "  [0.4496471  0.7299634  0.81131992 0.13790986]]\n",
      "\n",
      " [[0.20831324 0.73748997 0.35089648 0.0947607 ]\n",
      "  [0.47417513 0.97667316 0.97539758 0.67948589]\n",
      "  [0.2432138  0.39900329 0.56654368 0.92470028]]\n",
      "\n",
      " [[0.52392922 0.66920179 0.56307211 0.08973273]\n",
      "  [0.37106134 0.08180103 0.61906946 0.35747787]\n",
      "  [0.42385947 0.75037602 0.40110625 0.31725548]]\n",
      "\n",
      " [[0.32502916 0.98020135 0.87898759 0.75420282]\n",
      "  [0.92275826 0.38140878 0.83514057 0.90349204]\n",
      "  [0.85688373 0.04278598 0.43721119 0.53021002]]]\n"
     ]
    }
   ],
   "source": [
    "t_1 = np.random.rand(5,3,4)\n",
    "print(t_1)"
   ]
  },
  {
   "cell_type": "markdown",
   "metadata": {},
   "source": [
    "2. Index the elements of these dimensions.\n",
    "<ul>\n",
    "    <li> column = 2, row = 2, depth = 1\n",
    "    <li> column = 3, row = 1, depth = 5\n",
    "        "
   ]
  },
  {
   "cell_type": "code",
   "execution_count": 14,
   "metadata": {},
   "outputs": [
    {
     "name": "stdout",
     "output_type": "stream",
     "text": [
      "0.40096134726406774\n",
      "0.8789875876196123\n"
     ]
    }
   ],
   "source": [
    "print(t_1[0][1][1])\n",
    "print(t_1[4][0][2])"
   ]
  },
  {
   "cell_type": "markdown",
   "metadata": {},
   "source": [
    "3. Load iris dataset from `sklearn.datasets`. Slice the dataset down to 3 attributes and 30 instances."
   ]
  },
  {
   "cell_type": "code",
   "execution_count": 15,
   "metadata": {},
   "outputs": [],
   "source": [
    "import sklearn.datasets as dataset\n",
    "data = dataset.load_iris()\n",
    "X = data.data[:30,:3]"
   ]
  },
  {
   "cell_type": "code",
   "execution_count": 16,
   "metadata": {},
   "outputs": [
    {
     "data": {
      "text/plain": [
       "(30, 3)"
      ]
     },
     "execution_count": 16,
     "metadata": {},
     "output_type": "execute_result"
    }
   ],
   "source": [
    "X.shape"
   ]
  },
  {
   "cell_type": "code",
   "execution_count": 17,
   "metadata": {},
   "outputs": [
    {
     "name": "stdout",
     "output_type": "stream",
     "text": [
      "[[5.1 3.5 1.4]\n",
      " [4.9 3.  1.4]\n",
      " [4.7 3.2 1.3]\n",
      " [4.6 3.1 1.5]\n",
      " [5.  3.6 1.4]\n",
      " [5.4 3.9 1.7]\n",
      " [4.6 3.4 1.4]\n",
      " [5.  3.4 1.5]\n",
      " [4.4 2.9 1.4]\n",
      " [4.9 3.1 1.5]\n",
      " [5.4 3.7 1.5]\n",
      " [4.8 3.4 1.6]\n",
      " [4.8 3.  1.4]\n",
      " [4.3 3.  1.1]\n",
      " [5.8 4.  1.2]\n",
      " [5.7 4.4 1.5]\n",
      " [5.4 3.9 1.3]\n",
      " [5.1 3.5 1.4]\n",
      " [5.7 3.8 1.7]\n",
      " [5.1 3.8 1.5]\n",
      " [5.4 3.4 1.7]\n",
      " [5.1 3.7 1.5]\n",
      " [4.6 3.6 1. ]\n",
      " [5.1 3.3 1.7]\n",
      " [4.8 3.4 1.9]\n",
      " [5.  3.  1.6]\n",
      " [5.  3.4 1.6]\n",
      " [5.2 3.5 1.5]\n",
      " [5.2 3.4 1.4]\n",
      " [4.7 3.2 1.6]]\n"
     ]
    }
   ],
   "source": [
    "print(X)"
   ]
  }
 ],
 "metadata": {
  "kernelspec": {
   "display_name": "Python 3",
   "language": "python",
   "name": "python3"
  },
  "language_info": {
   "codemirror_mode": {
    "name": "ipython",
    "version": 3
   },
   "file_extension": ".py",
   "mimetype": "text/x-python",
   "name": "python",
   "nbconvert_exporter": "python",
   "pygments_lexer": "ipython3",
   "version": "3.7.3"
  }
 },
 "nbformat": 4,
 "nbformat_minor": 4
}
