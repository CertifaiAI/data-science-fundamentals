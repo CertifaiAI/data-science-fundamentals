{
 "cells": [
  {
   "cell_type": "markdown",
   "metadata": {},
   "source": [
    "# Predicting Intel Stock Price using Linear Regression"
   ]
  },
  {
   "cell_type": "code",
   "execution_count": 1,
   "metadata": {},
   "outputs": [],
   "source": [
    "import numpy as np\n",
    "import pandas as pd\n",
    "from sklearn import datasets\n",
    "from sklearn import model_selection\n",
    "from sklearn import metrics\n",
    "\n",
    "import matplotlib.pyplot as plt\n",
    "%matplotlib inline"
   ]
  },
  {
   "cell_type": "code",
   "execution_count": 2,
   "metadata": {},
   "outputs": [],
   "source": [
    "df = pd.read_csv(\"data/INTC.csv\")"
   ]
  },
  {
   "cell_type": "code",
   "execution_count": 3,
   "metadata": {},
   "outputs": [
    {
     "data": {
      "text/html": [
       "<div>\n",
       "<style scoped>\n",
       "    .dataframe tbody tr th:only-of-type {\n",
       "        vertical-align: middle;\n",
       "    }\n",
       "\n",
       "    .dataframe tbody tr th {\n",
       "        vertical-align: top;\n",
       "    }\n",
       "\n",
       "    .dataframe thead th {\n",
       "        text-align: right;\n",
       "    }\n",
       "</style>\n",
       "<table border=\"1\" class=\"dataframe\">\n",
       "  <thead>\n",
       "    <tr style=\"text-align: right;\">\n",
       "      <th></th>\n",
       "      <th>Date</th>\n",
       "      <th>Open</th>\n",
       "      <th>High</th>\n",
       "      <th>Low</th>\n",
       "      <th>Close</th>\n",
       "      <th>Adj Close</th>\n",
       "      <th>Volume</th>\n",
       "    </tr>\n",
       "  </thead>\n",
       "  <tbody>\n",
       "    <tr>\n",
       "      <th>0</th>\n",
       "      <td>2018-09-10</td>\n",
       "      <td>46.560001</td>\n",
       "      <td>46.759998</td>\n",
       "      <td>46.230000</td>\n",
       "      <td>46.299999</td>\n",
       "      <td>45.137581</td>\n",
       "      <td>21522400</td>\n",
       "    </tr>\n",
       "    <tr>\n",
       "      <th>1</th>\n",
       "      <td>2018-09-11</td>\n",
       "      <td>46.000000</td>\n",
       "      <td>46.029999</td>\n",
       "      <td>44.889999</td>\n",
       "      <td>44.930000</td>\n",
       "      <td>43.801979</td>\n",
       "      <td>32455300</td>\n",
       "    </tr>\n",
       "    <tr>\n",
       "      <th>2</th>\n",
       "      <td>2018-09-12</td>\n",
       "      <td>44.560001</td>\n",
       "      <td>44.980000</td>\n",
       "      <td>44.060001</td>\n",
       "      <td>44.930000</td>\n",
       "      <td>43.801979</td>\n",
       "      <td>29778700</td>\n",
       "    </tr>\n",
       "    <tr>\n",
       "      <th>3</th>\n",
       "      <td>2018-09-13</td>\n",
       "      <td>45.680000</td>\n",
       "      <td>45.849998</td>\n",
       "      <td>45.110001</td>\n",
       "      <td>45.570000</td>\n",
       "      <td>44.425911</td>\n",
       "      <td>18657100</td>\n",
       "    </tr>\n",
       "    <tr>\n",
       "      <th>4</th>\n",
       "      <td>2018-09-14</td>\n",
       "      <td>45.779999</td>\n",
       "      <td>45.970001</td>\n",
       "      <td>45.349998</td>\n",
       "      <td>45.540001</td>\n",
       "      <td>44.396664</td>\n",
       "      <td>22998700</td>\n",
       "    </tr>\n",
       "  </tbody>\n",
       "</table>\n",
       "</div>"
      ],
      "text/plain": [
       "         Date       Open       High        Low      Close  Adj Close    Volume\n",
       "0  2018-09-10  46.560001  46.759998  46.230000  46.299999  45.137581  21522400\n",
       "1  2018-09-11  46.000000  46.029999  44.889999  44.930000  43.801979  32455300\n",
       "2  2018-09-12  44.560001  44.980000  44.060001  44.930000  43.801979  29778700\n",
       "3  2018-09-13  45.680000  45.849998  45.110001  45.570000  44.425911  18657100\n",
       "4  2018-09-14  45.779999  45.970001  45.349998  45.540001  44.396664  22998700"
      ]
     },
     "execution_count": 3,
     "metadata": {},
     "output_type": "execute_result"
    }
   ],
   "source": [
    "df.head()"
   ]
  },
  {
   "cell_type": "markdown",
   "metadata": {},
   "source": [
    "Show some of the information about your data, e.g. how many rows, what data types"
   ]
  },
  {
   "cell_type": "code",
   "execution_count": null,
   "metadata": {},
   "outputs": [],
   "source": [
    "df.info()"
   ]
  },
  {
   "cell_type": "markdown",
   "metadata": {},
   "source": [
    "Plotting the graph of Stock Prices against Date "
   ]
  },
  {
   "cell_type": "code",
   "execution_count": null,
   "metadata": {},
   "outputs": [],
   "source": [
    "df.plot(x=\"Date\",y=[\"Close\",\"Open\",\"High\",\"Low\",\"Adj Close\"])"
   ]
  },
  {
   "cell_type": "markdown",
   "metadata": {},
   "source": [
    "The various stock prices tend to follow the same trend, we will pick only 1 type of stock price to predict which is \"Close\", the closing price of the stock on a particular day."
   ]
  },
  {
   "cell_type": "markdown",
   "metadata": {},
   "source": [
    "Various stock prices and Volume data has different scales, if you want to visualize and plot the graph out, we will use matplotlib directly to plot"
   ]
  },
  {
   "cell_type": "code",
   "execution_count": null,
   "metadata": {},
   "outputs": [],
   "source": [
    "# Define Date as the X-axis and convert dataframe to a numpy array\n",
    "print(type(df))\n",
    "x=df[\"Date\"].values\n",
    "print(type(x))"
   ]
  },
  {
   "cell_type": "code",
   "execution_count": null,
   "metadata": {
    "scrolled": false
   },
   "outputs": [],
   "source": [
    "# Print out the values and check the size\n",
    "# print(x)\n",
    "print(len(x))"
   ]
  },
  {
   "cell_type": "code",
   "execution_count": null,
   "metadata": {},
   "outputs": [],
   "source": [
    "# define the first y-axis which is all stock prices by dropping/removing the Date(x-axis) and Volume(data with different scale)\n",
    "df2=df.drop(columns=[\"Date\",\"Volume\"])\n",
    "df2.head()\n",
    "y1=df2.values\n",
    "# print(y1)\n",
    "print(len(y1))"
   ]
  },
  {
   "cell_type": "code",
   "execution_count": null,
   "metadata": {},
   "outputs": [],
   "source": [
    "y2=df[\"Volume\"].values\n",
    "# print(y2)\n",
    "print(len(y2))"
   ]
  },
  {
   "cell_type": "code",
   "execution_count": null,
   "metadata": {},
   "outputs": [],
   "source": [
    "fig=plt.figure(figsize=(12, 6))\n",
    "ax1=fig.add_subplot(111)\n",
    "ax1.plot(x,y1)\n",
    "plt.title('Stock features against Date',fontsize=20)\n",
    "ax1.set_xlabel('Date')\n",
    "ax1.set_ylabel('Stock prices')\n",
    "ax2 = ax1.twinx()\n",
    "ax2.set_ylabel('Volume')\n",
    "ax2.plot(x,y2,'c')\n"
   ]
  },
  {
   "cell_type": "markdown",
   "metadata": {},
   "source": [
    "When creating the Linear Regression Model, \"Date\" is a sensitive factor\n",
    "Date is a string and it can mean"
   ]
  },
  {
   "cell_type": "code",
   "execution_count": 4,
   "metadata": {},
   "outputs": [],
   "source": [
    "df[\"Date\"] = pd.to_datetime(df.Date,format='%Y-%m-%d')"
   ]
  },
  {
   "cell_type": "code",
   "execution_count": 5,
   "metadata": {},
   "outputs": [
    {
     "name": "stdout",
     "output_type": "stream",
     "text": [
      "<class 'pandas.core.frame.DataFrame'>\n",
      "RangeIndex: 251 entries, 0 to 250\n",
      "Data columns (total 7 columns):\n",
      "Date         251 non-null datetime64[ns]\n",
      "Open         251 non-null float64\n",
      "High         251 non-null float64\n",
      "Low          251 non-null float64\n",
      "Close        251 non-null float64\n",
      "Adj Close    251 non-null float64\n",
      "Volume       251 non-null int64\n",
      "dtypes: datetime64[ns](1), float64(5), int64(1)\n",
      "memory usage: 13.8 KB\n"
     ]
    }
   ],
   "source": [
    "df.info()"
   ]
  },
  {
   "cell_type": "markdown",
   "metadata": {},
   "source": [
    "Scikit-learn will not accept String or Timestamp as the data, so we will need to convert the \"Date\" into a much simplier data that scikitlearn can accept"
   ]
  },
  {
   "cell_type": "code",
   "execution_count": 6,
   "metadata": {
    "scrolled": false
   },
   "outputs": [],
   "source": [
    "newdate = df[\"Date\"]\n",
    "\n",
    "df4=pd.DataFrame({\"year\": newdate.dt.year,\n",
    "              \"month\": newdate.dt.month,\n",
    "              \"day\": newdate.dt.day,\n",
    "              \"hour\": newdate.dt.hour,\n",
    "              \"dayofyear\": newdate.dt.dayofyear,\n",
    "              \"week\": newdate.dt.week,\n",
    "              \"weekofyear\": newdate.dt.weekofyear,\n",
    "              \"dayofweek\": newdate.dt.dayofweek,\n",
    "              \"weekday\": newdate.dt.weekday,\n",
    "              \"quarter\": newdate.dt.quarter,\n",
    "             })\n"
   ]
  },
  {
   "cell_type": "code",
   "execution_count": 7,
   "metadata": {},
   "outputs": [
    {
     "data": {
      "text/html": [
       "<div>\n",
       "<style scoped>\n",
       "    .dataframe tbody tr th:only-of-type {\n",
       "        vertical-align: middle;\n",
       "    }\n",
       "\n",
       "    .dataframe tbody tr th {\n",
       "        vertical-align: top;\n",
       "    }\n",
       "\n",
       "    .dataframe thead th {\n",
       "        text-align: right;\n",
       "    }\n",
       "</style>\n",
       "<table border=\"1\" class=\"dataframe\">\n",
       "  <thead>\n",
       "    <tr style=\"text-align: right;\">\n",
       "      <th></th>\n",
       "      <th>year</th>\n",
       "      <th>month</th>\n",
       "      <th>day</th>\n",
       "      <th>hour</th>\n",
       "      <th>dayofyear</th>\n",
       "      <th>week</th>\n",
       "      <th>weekofyear</th>\n",
       "      <th>dayofweek</th>\n",
       "      <th>weekday</th>\n",
       "      <th>quarter</th>\n",
       "      <th>Open</th>\n",
       "      <th>High</th>\n",
       "      <th>Low</th>\n",
       "      <th>Close</th>\n",
       "      <th>Adj Close</th>\n",
       "      <th>Volume</th>\n",
       "    </tr>\n",
       "  </thead>\n",
       "  <tbody>\n",
       "    <tr>\n",
       "      <th>0</th>\n",
       "      <td>2018</td>\n",
       "      <td>9</td>\n",
       "      <td>10</td>\n",
       "      <td>0</td>\n",
       "      <td>253</td>\n",
       "      <td>37</td>\n",
       "      <td>37</td>\n",
       "      <td>0</td>\n",
       "      <td>0</td>\n",
       "      <td>3</td>\n",
       "      <td>46.560001</td>\n",
       "      <td>46.759998</td>\n",
       "      <td>46.230000</td>\n",
       "      <td>46.299999</td>\n",
       "      <td>45.137581</td>\n",
       "      <td>21522400</td>\n",
       "    </tr>\n",
       "    <tr>\n",
       "      <th>1</th>\n",
       "      <td>2018</td>\n",
       "      <td>9</td>\n",
       "      <td>11</td>\n",
       "      <td>0</td>\n",
       "      <td>254</td>\n",
       "      <td>37</td>\n",
       "      <td>37</td>\n",
       "      <td>1</td>\n",
       "      <td>1</td>\n",
       "      <td>3</td>\n",
       "      <td>46.000000</td>\n",
       "      <td>46.029999</td>\n",
       "      <td>44.889999</td>\n",
       "      <td>44.930000</td>\n",
       "      <td>43.801979</td>\n",
       "      <td>32455300</td>\n",
       "    </tr>\n",
       "    <tr>\n",
       "      <th>2</th>\n",
       "      <td>2018</td>\n",
       "      <td>9</td>\n",
       "      <td>12</td>\n",
       "      <td>0</td>\n",
       "      <td>255</td>\n",
       "      <td>37</td>\n",
       "      <td>37</td>\n",
       "      <td>2</td>\n",
       "      <td>2</td>\n",
       "      <td>3</td>\n",
       "      <td>44.560001</td>\n",
       "      <td>44.980000</td>\n",
       "      <td>44.060001</td>\n",
       "      <td>44.930000</td>\n",
       "      <td>43.801979</td>\n",
       "      <td>29778700</td>\n",
       "    </tr>\n",
       "    <tr>\n",
       "      <th>3</th>\n",
       "      <td>2018</td>\n",
       "      <td>9</td>\n",
       "      <td>13</td>\n",
       "      <td>0</td>\n",
       "      <td>256</td>\n",
       "      <td>37</td>\n",
       "      <td>37</td>\n",
       "      <td>3</td>\n",
       "      <td>3</td>\n",
       "      <td>3</td>\n",
       "      <td>45.680000</td>\n",
       "      <td>45.849998</td>\n",
       "      <td>45.110001</td>\n",
       "      <td>45.570000</td>\n",
       "      <td>44.425911</td>\n",
       "      <td>18657100</td>\n",
       "    </tr>\n",
       "    <tr>\n",
       "      <th>4</th>\n",
       "      <td>2018</td>\n",
       "      <td>9</td>\n",
       "      <td>14</td>\n",
       "      <td>0</td>\n",
       "      <td>257</td>\n",
       "      <td>37</td>\n",
       "      <td>37</td>\n",
       "      <td>4</td>\n",
       "      <td>4</td>\n",
       "      <td>3</td>\n",
       "      <td>45.779999</td>\n",
       "      <td>45.970001</td>\n",
       "      <td>45.349998</td>\n",
       "      <td>45.540001</td>\n",
       "      <td>44.396664</td>\n",
       "      <td>22998700</td>\n",
       "    </tr>\n",
       "  </tbody>\n",
       "</table>\n",
       "</div>"
      ],
      "text/plain": [
       "   year  month  day  hour  dayofyear  week  weekofyear  dayofweek  weekday  \\\n",
       "0  2018      9   10     0        253    37          37          0        0   \n",
       "1  2018      9   11     0        254    37          37          1        1   \n",
       "2  2018      9   12     0        255    37          37          2        2   \n",
       "3  2018      9   13     0        256    37          37          3        3   \n",
       "4  2018      9   14     0        257    37          37          4        4   \n",
       "\n",
       "   quarter       Open       High        Low      Close  Adj Close    Volume  \n",
       "0        3  46.560001  46.759998  46.230000  46.299999  45.137581  21522400  \n",
       "1        3  46.000000  46.029999  44.889999  44.930000  43.801979  32455300  \n",
       "2        3  44.560001  44.980000  44.060001  44.930000  43.801979  29778700  \n",
       "3        3  45.680000  45.849998  45.110001  45.570000  44.425911  18657100  \n",
       "4        3  45.779999  45.970001  45.349998  45.540001  44.396664  22998700  "
      ]
     },
     "execution_count": 7,
     "metadata": {},
     "output_type": "execute_result"
    }
   ],
   "source": [
    "df3=df.drop(columns=[\"Date\"])\n",
    "df5=pd.concat([df4,df3],axis=1)\n",
    "df5.head()"
   ]
  },
  {
   "cell_type": "markdown",
   "metadata": {},
   "source": [
    "Our data is now ready for model training."
   ]
  },
  {
   "cell_type": "code",
   "execution_count": 8,
   "metadata": {},
   "outputs": [
    {
     "name": "stdout",
     "output_type": "stream",
     "text": [
      "<class 'pandas.core.frame.DataFrame'>\n",
      "RangeIndex: 251 entries, 0 to 250\n",
      "Data columns (total 16 columns):\n",
      "year          251 non-null int64\n",
      "month         251 non-null int64\n",
      "day           251 non-null int64\n",
      "hour          251 non-null int64\n",
      "dayofyear     251 non-null int64\n",
      "week          251 non-null int64\n",
      "weekofyear    251 non-null int64\n",
      "dayofweek     251 non-null int64\n",
      "weekday       251 non-null int64\n",
      "quarter       251 non-null int64\n",
      "Open          251 non-null float64\n",
      "High          251 non-null float64\n",
      "Low           251 non-null float64\n",
      "Close         251 non-null float64\n",
      "Adj Close     251 non-null float64\n",
      "Volume        251 non-null int64\n",
      "dtypes: float64(5), int64(11)\n",
      "memory usage: 31.5 KB\n"
     ]
    }
   ],
   "source": [
    "df5.info()"
   ]
  },
  {
   "cell_type": "code",
   "execution_count": 65,
   "metadata": {},
   "outputs": [],
   "source": [
    "# Suggest to split the data using this way since the data is a time series data\n",
    "train=df5[:200]\n",
    "test=df5[200:]"
   ]
  },
  {
   "cell_type": "code",
   "execution_count": 10,
   "metadata": {},
   "outputs": [
    {
     "name": "stdout",
     "output_type": "stream",
     "text": [
      "<class 'pandas.core.frame.DataFrame'>\n",
      "RangeIndex: 200 entries, 0 to 199\n",
      "Data columns (total 16 columns):\n",
      "year          200 non-null int64\n",
      "month         200 non-null int64\n",
      "day           200 non-null int64\n",
      "hour          200 non-null int64\n",
      "dayofyear     200 non-null int64\n",
      "week          200 non-null int64\n",
      "weekofyear    200 non-null int64\n",
      "dayofweek     200 non-null int64\n",
      "weekday       200 non-null int64\n",
      "quarter       200 non-null int64\n",
      "Open          200 non-null float64\n",
      "High          200 non-null float64\n",
      "Low           200 non-null float64\n",
      "Close         200 non-null float64\n",
      "Adj Close     200 non-null float64\n",
      "Volume        200 non-null int64\n",
      "dtypes: float64(5), int64(11)\n",
      "memory usage: 25.1 KB\n"
     ]
    }
   ],
   "source": [
    "train.info()"
   ]
  },
  {
   "cell_type": "code",
   "execution_count": 11,
   "metadata": {},
   "outputs": [
    {
     "name": "stdout",
     "output_type": "stream",
     "text": [
      "<class 'pandas.core.frame.DataFrame'>\n",
      "RangeIndex: 51 entries, 200 to 250\n",
      "Data columns (total 16 columns):\n",
      "year          51 non-null int64\n",
      "month         51 non-null int64\n",
      "day           51 non-null int64\n",
      "hour          51 non-null int64\n",
      "dayofyear     51 non-null int64\n",
      "week          51 non-null int64\n",
      "weekofyear    51 non-null int64\n",
      "dayofweek     51 non-null int64\n",
      "weekday       51 non-null int64\n",
      "quarter       51 non-null int64\n",
      "Open          51 non-null float64\n",
      "High          51 non-null float64\n",
      "Low           51 non-null float64\n",
      "Close         51 non-null float64\n",
      "Adj Close     51 non-null float64\n",
      "Volume        51 non-null int64\n",
      "dtypes: float64(5), int64(11)\n",
      "memory usage: 6.5 KB\n"
     ]
    }
   ],
   "source": [
    "test.info()"
   ]
  },
  {
   "cell_type": "code",
   "execution_count": 66,
   "metadata": {},
   "outputs": [],
   "source": [
    "X_train=train.drop(\"Close\",axis=1)\n",
    "y_train=train[\"Close\"]\n",
    "X_test=test.drop(\"Close\",axis=1)\n",
    "y_test=test[\"Close\"]"
   ]
  },
  {
   "cell_type": "code",
   "execution_count": 67,
   "metadata": {},
   "outputs": [
    {
     "data": {
      "text/plain": [
       "LinearRegression(copy_X=True, fit_intercept=True, n_jobs=None, normalize=False)"
      ]
     },
     "execution_count": 67,
     "metadata": {},
     "output_type": "execute_result"
    }
   ],
   "source": [
    "from sklearn.linear_model import LinearRegression\n",
    "model = LinearRegression()\n",
    "model.fit(X_train,y_train)"
   ]
  },
  {
   "cell_type": "code",
   "execution_count": 68,
   "metadata": {},
   "outputs": [
    {
     "name": "stdout",
     "output_type": "stream",
     "text": [
      "[-1.21623421e+00  6.62642253e-01  2.42293886e-02 -6.93889390e-15\n",
      " -2.63146982e-02 -8.27803876e-04 -8.27803876e-04 -4.81336617e-04\n",
      " -4.81336617e-04  1.16100807e-01 -4.26645834e-02  8.21747101e-02\n",
      "  5.46547253e-03  9.69176032e-01 -2.97479413e-10]\n",
      "15\n"
     ]
    }
   ],
   "source": [
    "print(model.coef_)\n",
    "print(len(model.coef_))"
   ]
  },
  {
   "cell_type": "code",
   "execution_count": 69,
   "metadata": {},
   "outputs": [],
   "source": [
    "predictions=model.predict(X_test)"
   ]
  },
  {
   "cell_type": "code",
   "execution_count": 70,
   "metadata": {
    "scrolled": true
   },
   "outputs": [
    {
     "name": "stdout",
     "output_type": "stream",
     "text": [
      "MAE: 0.05985087521131732\n",
      "MSE: 0.005049702326482933\n",
      "RMSE: 0.07106125756333709\n"
     ]
    }
   ],
   "source": [
    "print('MAE:', metrics.mean_absolute_error(y_test, predictions))\n",
    "print('MSE:', metrics.mean_squared_error(y_test, predictions))\n",
    "print('RMSE:', np.sqrt(metrics.mean_squared_error(y_test, predictions)))"
   ]
  },
  {
   "cell_type": "code",
   "execution_count": 71,
   "metadata": {},
   "outputs": [],
   "source": [
    "train=df5[:200]\n",
    "test=df5[200:]"
   ]
  },
  {
   "cell_type": "code",
   "execution_count": 72,
   "metadata": {},
   "outputs": [],
   "source": [
    "test.insert(16,\"Predictions\",predictions)"
   ]
  },
  {
   "cell_type": "code",
   "execution_count": 73,
   "metadata": {},
   "outputs": [
    {
     "data": {
      "text/html": [
       "<div>\n",
       "<style scoped>\n",
       "    .dataframe tbody tr th:only-of-type {\n",
       "        vertical-align: middle;\n",
       "    }\n",
       "\n",
       "    .dataframe tbody tr th {\n",
       "        vertical-align: top;\n",
       "    }\n",
       "\n",
       "    .dataframe thead th {\n",
       "        text-align: right;\n",
       "    }\n",
       "</style>\n",
       "<table border=\"1\" class=\"dataframe\">\n",
       "  <thead>\n",
       "    <tr style=\"text-align: right;\">\n",
       "      <th></th>\n",
       "      <th>Close</th>\n",
       "      <th>Predictions</th>\n",
       "    </tr>\n",
       "  </thead>\n",
       "  <tbody>\n",
       "    <tr>\n",
       "      <th>246</th>\n",
       "      <td>46.980000</td>\n",
       "      <td>46.893889</td>\n",
       "    </tr>\n",
       "    <tr>\n",
       "      <th>247</th>\n",
       "      <td>48.919998</td>\n",
       "      <td>48.897602</td>\n",
       "    </tr>\n",
       "    <tr>\n",
       "      <th>248</th>\n",
       "      <td>50.099998</td>\n",
       "      <td>50.130276</td>\n",
       "    </tr>\n",
       "    <tr>\n",
       "      <th>249</th>\n",
       "      <td>50.919998</td>\n",
       "      <td>50.898453</td>\n",
       "    </tr>\n",
       "    <tr>\n",
       "      <th>250</th>\n",
       "      <td>51.590000</td>\n",
       "      <td>51.598743</td>\n",
       "    </tr>\n",
       "  </tbody>\n",
       "</table>\n",
       "</div>"
      ],
      "text/plain": [
       "         Close  Predictions\n",
       "246  46.980000    46.893889\n",
       "247  48.919998    48.897602\n",
       "248  50.099998    50.130276\n",
       "249  50.919998    50.898453\n",
       "250  51.590000    51.598743"
      ]
     },
     "execution_count": 73,
     "metadata": {},
     "output_type": "execute_result"
    }
   ],
   "source": [
    "test[[\"Close\",\"Predictions\"]].tail()"
   ]
  },
  {
   "cell_type": "code",
   "execution_count": 74,
   "metadata": {
    "scrolled": false
   },
   "outputs": [
    {
     "data": {
      "text/plain": [
       "[<matplotlib.lines.Line2D at 0x1ef50a2b0b8>,\n",
       " <matplotlib.lines.Line2D at 0x1ef50a5f128>]"
      ]
     },
     "execution_count": 74,
     "metadata": {},
     "output_type": "execute_result"
    },
    {
     "data": {
      "image/png": "[encoded data removed]",
      "text/plain": [
       "<Figure size 1008x432 with 1 Axes>"
      ]
     },
     "metadata": {
      "needs_background": "light"
     },
     "output_type": "display_data"
    }
   ],
   "source": [
    "fig=plt.figure(figsize=(14, 6))\n",
    "plt.title(\"Stock Closing Price against Date\",fontsize=20)\n",
    "plt.xlabel(\"Date\")\n",
    "plt.ylabel(\"Stock Closing Price\")\n",
    "plt.plot(train[\"Close\"])\n",
    "plt.plot(test[[\"Close\",\"Predictions\"]])\n"
   ]
  },
  {
   "cell_type": "code",
   "execution_count": 75,
   "metadata": {},
   "outputs": [
    {
     "data": {
      "text/plain": [
       "0.9988429450683003"
      ]
     },
     "execution_count": 75,
     "metadata": {},
     "output_type": "execute_result"
    }
   ],
   "source": [
    "model.score(X_test, y_test)"
   ]
  },
  {
   "cell_type": "markdown",
   "metadata": {},
   "source": [
    "Seems like the model is doing a very good job at predicting the stock price. It almost seems too good to be true.\n",
    "Let us try to build another model with the same dataset, but this time, let us only rely on the date as the feature."
   ]
  },
  {
   "cell_type": "code",
   "execution_count": 44,
   "metadata": {},
   "outputs": [
    {
     "name": "stdout",
     "output_type": "stream",
     "text": [
      "<class 'pandas.core.frame.DataFrame'>\n",
      "RangeIndex: 251 entries, 0 to 250\n",
      "Data columns (total 16 columns):\n",
      "year          251 non-null int64\n",
      "month         251 non-null int64\n",
      "day           251 non-null int64\n",
      "hour          251 non-null int64\n",
      "dayofyear     251 non-null int64\n",
      "week          251 non-null int64\n",
      "weekofyear    251 non-null int64\n",
      "dayofweek     251 non-null int64\n",
      "weekday       251 non-null int64\n",
      "quarter       251 non-null int64\n",
      "Open          251 non-null float64\n",
      "High          251 non-null float64\n",
      "Low           251 non-null float64\n",
      "Close         251 non-null float64\n",
      "Adj Close     251 non-null float64\n",
      "Volume        251 non-null int64\n",
      "dtypes: float64(5), int64(11)\n",
      "memory usage: 31.5 KB\n"
     ]
    }
   ],
   "source": [
    "df5.info()"
   ]
  },
  {
   "cell_type": "code",
   "execution_count": 45,
   "metadata": {},
   "outputs": [],
   "source": [
    "train=df5[:200]\n",
    "test=df5[200:]"
   ]
  },
  {
   "cell_type": "code",
   "execution_count": 48,
   "metadata": {},
   "outputs": [],
   "source": [
    "X_train=train.drop([\"Close\",\"Open\",\"High\",\"Low\",\"Adj Close\",\"Volume\"],axis=1)\n",
    "y_train=train[\"Close\"]\n",
    "X_test=test.drop([\"Close\",\"Open\",\"High\",\"Low\",\"Adj Close\",\"Volume\"],axis=1)\n",
    "y_test=test[\"Close\"]"
   ]
  },
  {
   "cell_type": "code",
   "execution_count": 53,
   "metadata": {},
   "outputs": [
    {
     "data": {
      "text/plain": [
       "LinearRegression(copy_X=True, fit_intercept=True, n_jobs=None, normalize=False)"
      ]
     },
     "execution_count": 53,
     "metadata": {},
     "output_type": "execute_result"
    }
   ],
   "source": [
    "from sklearn.linear_model import LinearRegression\n",
    "model = LinearRegression()\n",
    "model.fit(X_train,y_train)"
   ]
  },
  {
   "cell_type": "code",
   "execution_count": 54,
   "metadata": {},
   "outputs": [
    {
     "name": "stdout",
     "output_type": "stream",
     "text": [
      "[-1.14424323e+00  3.62399513e+01  1.18257173e+00  6.21724894e-14\n",
      " -1.21377433e+00 -1.53524349e-02 -1.53524349e-02 -2.65088625e-02\n",
      " -2.65088625e-02  7.07019270e-01]\n",
      "10\n"
     ]
    }
   ],
   "source": [
    "print(model.coef_)\n",
    "print(len(model.coef_))"
   ]
  },
  {
   "cell_type": "code",
   "execution_count": 55,
   "metadata": {},
   "outputs": [
    {
     "name": "stdout",
     "output_type": "stream",
     "text": [
      "MAE: 1.6052635062080687\n",
      "MSE: 3.9873103434482577\n",
      "RMSE: 1.9968250658102873\n"
     ]
    }
   ],
   "source": [
    "predictions=model.predict(X_test)\n",
    "print('MAE:', metrics.mean_absolute_error(y_test, predictions))\n",
    "print('MSE:', metrics.mean_squared_error(y_test, predictions))\n",
    "print('RMSE:', np.sqrt(metrics.mean_squared_error(y_test, predictions)))"
   ]
  },
  {
   "cell_type": "code",
   "execution_count": 56,
   "metadata": {},
   "outputs": [
    {
     "data": {
      "text/html": [
       "<div>\n",
       "<style scoped>\n",
       "    .dataframe tbody tr th:only-of-type {\n",
       "        vertical-align: middle;\n",
       "    }\n",
       "\n",
       "    .dataframe tbody tr th {\n",
       "        vertical-align: top;\n",
       "    }\n",
       "\n",
       "    .dataframe thead th {\n",
       "        text-align: right;\n",
       "    }\n",
       "</style>\n",
       "<table border=\"1\" class=\"dataframe\">\n",
       "  <thead>\n",
       "    <tr style=\"text-align: right;\">\n",
       "      <th></th>\n",
       "      <th>Close</th>\n",
       "      <th>Predictions</th>\n",
       "    </tr>\n",
       "  </thead>\n",
       "  <tbody>\n",
       "    <tr>\n",
       "      <th>246</th>\n",
       "      <td>46.980000</td>\n",
       "      <td>46.558332</td>\n",
       "    </tr>\n",
       "    <tr>\n",
       "      <th>247</th>\n",
       "      <td>48.919998</td>\n",
       "      <td>46.474112</td>\n",
       "    </tr>\n",
       "    <tr>\n",
       "      <th>248</th>\n",
       "      <td>50.099998</td>\n",
       "      <td>46.389892</td>\n",
       "    </tr>\n",
       "    <tr>\n",
       "      <th>249</th>\n",
       "      <td>50.919998</td>\n",
       "      <td>46.305672</td>\n",
       "    </tr>\n",
       "    <tr>\n",
       "      <th>250</th>\n",
       "      <td>51.590000</td>\n",
       "      <td>46.393430</td>\n",
       "    </tr>\n",
       "  </tbody>\n",
       "</table>\n",
       "</div>"
      ],
      "text/plain": [
       "         Close  Predictions\n",
       "246  46.980000    46.558332\n",
       "247  48.919998    46.474112\n",
       "248  50.099998    46.389892\n",
       "249  50.919998    46.305672\n",
       "250  51.590000    46.393430"
      ]
     },
     "execution_count": 56,
     "metadata": {},
     "output_type": "execute_result"
    }
   ],
   "source": [
    "test.insert(11,\"Predictions\",predictions)\n",
    "test[[\"Close\",\"Predictions\"]].tail()"
   ]
  },
  {
   "cell_type": "code",
   "execution_count": 63,
   "metadata": {},
   "outputs": [
    {
     "data": {
      "text/plain": [
       "[<matplotlib.lines.Line2D at 0x1ef50984ba8>,\n",
       " <matplotlib.lines.Line2D at 0x1ef5098f048>]"
      ]
     },
     "execution_count": 63,
     "metadata": {},
     "output_type": "execute_result"
    },
    {
     "data": {
      "image/png": "[encoded data removed]",
      "text/plain": [
       "<Figure size 1008x432 with 1 Axes>"
      ]
     },
     "metadata": {
      "needs_background": "light"
     },
     "output_type": "display_data"
    }
   ],
   "source": [
    "fig=plt.figure(figsize=(14, 6))\n",
    "plt.title(\"Stock Closing Price against Date\",fontsize=20)\n",
    "plt.xlabel(\"Date\")\n",
    "plt.ylabel(\"Stock Closing Price\")\n",
    "plt.plot(train[\"Close\"])\n",
    "plt.plot(test[[\"Close\",\"Predictions\"]])"
   ]
  },
  {
   "cell_type": "code",
   "execution_count": 58,
   "metadata": {},
   "outputs": [
    {
     "data": {
      "text/plain": [
       "0.0863744437154641"
      ]
     },
     "execution_count": 58,
     "metadata": {},
     "output_type": "execute_result"
    }
   ],
   "source": [
    "model.score(X_test, y_test)"
   ]
  },
  {
   "cell_type": "markdown",
   "metadata": {},
   "source": [
    "As you can see, the prediction is very bad when you predict the stock price solely based on the date."
   ]
  },
  {
   "cell_type": "code",
   "execution_count": null,
   "metadata": {},
   "outputs": [],
   "source": []
  }
 ],
 "metadata": {
  "kernelspec": {
   "display_name": "Python 3",
   "language": "python",
   "name": "python3"
  },
  "language_info": {
   "codemirror_mode": {
    "name": "ipython",
    "version": 3
   },
   "file_extension": ".py",
   "mimetype": "text/x-python",
   "name": "python",
   "nbconvert_exporter": "python",
   "pygments_lexer": "ipython3",
   "version": "3.7.3"
  }
 },
 "nbformat": 4,
 "nbformat_minor": 2
}
