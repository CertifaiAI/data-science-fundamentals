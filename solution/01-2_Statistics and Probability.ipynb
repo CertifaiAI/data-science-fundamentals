{
 "cells": [
  {
   "cell_type": "markdown",
   "metadata": {},
   "source": [
    "# Statistics and Probability: Fundamentals"
   ]
  },
  {
   "cell_type": "code",
   "execution_count": 1,
   "metadata": {},
   "outputs": [],
   "source": [
    "import pandas as pd"
   ]
  },
  {
   "cell_type": "code",
   "execution_count": 2,
   "metadata": {},
   "outputs": [],
   "source": [
    "import matplotlib.pyplot as plt\n",
    "import seaborn as sns \n",
    "import numpy as np\n",
    "import matplotlib.pyplot as plt"
   ]
  },
  {
   "cell_type": "markdown",
   "metadata": {},
   "source": [
    "# Standardisation\n",
    "\n",
    "We consider the grades dataset, which contains Physics, Biology and Maths scores for 26 students:"
   ]
  },
  {
   "cell_type": "code",
   "execution_count": 3,
   "metadata": {},
   "outputs": [
    {
     "name": "stdout",
     "output_type": "stream",
     "text": [
      "(26, 4)\n"
     ]
    },
    {
     "data": {
      "text/html": [
       "<div>\n",
       "<style scoped>\n",
       "    .dataframe tbody tr th:only-of-type {\n",
       "        vertical-align: middle;\n",
       "    }\n",
       "\n",
       "    .dataframe tbody tr th {\n",
       "        vertical-align: top;\n",
       "    }\n",
       "\n",
       "    .dataframe thead th {\n",
       "        text-align: right;\n",
       "    }\n",
       "</style>\n",
       "<table border=\"1\" class=\"dataframe\">\n",
       "  <thead>\n",
       "    <tr style=\"text-align: right;\">\n",
       "      <th></th>\n",
       "      <th>Physics</th>\n",
       "      <th>Biology</th>\n",
       "      <th>Maths</th>\n",
       "    </tr>\n",
       "  </thead>\n",
       "  <tbody>\n",
       "    <tr>\n",
       "      <th>mean</th>\n",
       "      <td>63.769231</td>\n",
       "      <td>67.038462</td>\n",
       "      <td>69.769231</td>\n",
       "    </tr>\n",
       "    <tr>\n",
       "      <th>var</th>\n",
       "      <td>517.224615</td>\n",
       "      <td>456.758462</td>\n",
       "      <td>300.664615</td>\n",
       "    </tr>\n",
       "    <tr>\n",
       "      <th>std</th>\n",
       "      <td>22.742573</td>\n",
       "      <td>21.371908</td>\n",
       "      <td>17.339683</td>\n",
       "    </tr>\n",
       "  </tbody>\n",
       "</table>\n",
       "</div>"
      ],
      "text/plain": [
       "         Physics     Biology       Maths\n",
       "mean   63.769231   67.038462   69.769231\n",
       "var   517.224615  456.758462  300.664615\n",
       "std    22.742573   21.371908   17.339683"
      ]
     },
     "execution_count": 3,
     "metadata": {},
     "output_type": "execute_result"
    }
   ],
   "source": [
    "grades = pd.read_csv(\"data/grades.csv\")\n",
    "print(grades.shape)\n",
    "grades.agg([\"mean\", \"var\", \"std\"])"
   ]
  },
  {
   "cell_type": "code",
   "execution_count": 4,
   "metadata": {},
   "outputs": [
    {
     "data": {
      "text/plain": [
       "<seaborn.axisgrid.FacetGrid at 0x1875b114400>"
      ]
     },
     "execution_count": 4,
     "metadata": {},
     "output_type": "execute_result"
    },
    {
     "data": {
      "image/png": "[encoded data removed]",
      "text/plain": [
       "<Figure size 648x216 with 3 Axes>"
      ]
     },
     "metadata": {
      "needs_background": "light"
     },
     "output_type": "display_data"
    }
   ],
   "source": [
    "g = sns.FacetGrid(grades.melt(\"Name\"), col=\"variable\")\n",
    "g.map(plt.hist, \"value\")"
   ]
  },
  {
   "cell_type": "markdown",
   "metadata": {},
   "source": [
    "Suppose the instructor wanted to provide the students with an idea of how well they are performing relative to their peers, but not their exact score. This can be done by **standardising** the scores. This is done by subtracting the mean and re-scaling the data to be in units of standard deviations.  "
   ]
  },
  {
   "cell_type": "code",
   "execution_count": 5,
   "metadata": {},
   "outputs": [],
   "source": [
    "grades[\"Physics_std\"] = (grades[\"Physics\"] - grades[\"Physics\"].mean()) / grades[\"Physics\"].std()"
   ]
  },
  {
   "cell_type": "code",
   "execution_count": 6,
   "metadata": {},
   "outputs": [
    {
     "data": {
      "text/html": [
       "<div>\n",
       "<style scoped>\n",
       "    .dataframe tbody tr th:only-of-type {\n",
       "        vertical-align: middle;\n",
       "    }\n",
       "\n",
       "    .dataframe tbody tr th {\n",
       "        vertical-align: top;\n",
       "    }\n",
       "\n",
       "    .dataframe thead th {\n",
       "        text-align: right;\n",
       "    }\n",
       "</style>\n",
       "<table border=\"1\" class=\"dataframe\">\n",
       "  <thead>\n",
       "    <tr style=\"text-align: right;\">\n",
       "      <th></th>\n",
       "      <th>Name</th>\n",
       "      <th>Physics</th>\n",
       "      <th>Biology</th>\n",
       "      <th>Maths</th>\n",
       "      <th>Physics_std</th>\n",
       "    </tr>\n",
       "  </thead>\n",
       "  <tbody>\n",
       "    <tr>\n",
       "      <th>0</th>\n",
       "      <td>Arnold</td>\n",
       "      <td>80</td>\n",
       "      <td>78</td>\n",
       "      <td>70</td>\n",
       "      <td>0.713673</td>\n",
       "    </tr>\n",
       "    <tr>\n",
       "      <th>1</th>\n",
       "      <td>Bob</td>\n",
       "      <td>60</td>\n",
       "      <td>98</td>\n",
       "      <td>45</td>\n",
       "      <td>-0.165735</td>\n",
       "    </tr>\n",
       "    <tr>\n",
       "      <th>2</th>\n",
       "      <td>Cassandra</td>\n",
       "      <td>34</td>\n",
       "      <td>56</td>\n",
       "      <td>65</td>\n",
       "      <td>-1.308965</td>\n",
       "    </tr>\n",
       "    <tr>\n",
       "      <th>3</th>\n",
       "      <td>Donovan</td>\n",
       "      <td>56</td>\n",
       "      <td>65</td>\n",
       "      <td>32</td>\n",
       "      <td>-0.341616</td>\n",
       "    </tr>\n",
       "    <tr>\n",
       "      <th>4</th>\n",
       "      <td>Emily</td>\n",
       "      <td>98</td>\n",
       "      <td>23</td>\n",
       "      <td>55</td>\n",
       "      <td>1.505141</td>\n",
       "    </tr>\n",
       "  </tbody>\n",
       "</table>\n",
       "</div>"
      ],
      "text/plain": [
       "        Name  Physics  Biology  Maths  Physics_std\n",
       "0     Arnold       80       78     70     0.713673\n",
       "1        Bob       60       98     45    -0.165735\n",
       "2  Cassandra       34       56     65    -1.308965\n",
       "3    Donovan       56       65     32    -0.341616\n",
       "4      Emily       98       23     55     1.505141"
      ]
     },
     "execution_count": 6,
     "metadata": {},
     "output_type": "execute_result"
    }
   ],
   "source": [
    "grades.head()"
   ]
  },
  {
   "cell_type": "markdown",
   "metadata": {},
   "source": [
    "What can we conclude? \n",
    "\n",
    "Firstly, Arnold and Emily are above average Physics students, whereas Bob, Cassandra and Donovan are below average. \n",
    "\n",
    "Also, Emily's scores are **1.5 standard deviations above the mean**, whereas Cassandra's scores are **1.3 standard deviations below the mean**. \n",
    "\n",
    "More importantly, standardisation allows us to compare the results from different exams. Standardisation allows each of the variables to be expressed in common units: their respective standard deviation. \n",
    "\n",
    "We can do the same for Math scores, which have a lower variance than Physics scores: "
   ]
  },
  {
   "cell_type": "code",
   "execution_count": 7,
   "metadata": {},
   "outputs": [
    {
     "data": {
      "text/html": [
       "<div>\n",
       "<style scoped>\n",
       "    .dataframe tbody tr th:only-of-type {\n",
       "        vertical-align: middle;\n",
       "    }\n",
       "\n",
       "    .dataframe tbody tr th {\n",
       "        vertical-align: top;\n",
       "    }\n",
       "\n",
       "    .dataframe thead th {\n",
       "        text-align: right;\n",
       "    }\n",
       "</style>\n",
       "<table border=\"1\" class=\"dataframe\">\n",
       "  <thead>\n",
       "    <tr style=\"text-align: right;\">\n",
       "      <th></th>\n",
       "      <th>Name</th>\n",
       "      <th>Physics</th>\n",
       "      <th>Biology</th>\n",
       "      <th>Maths</th>\n",
       "      <th>Physics_std</th>\n",
       "      <th>Maths_std</th>\n",
       "    </tr>\n",
       "  </thead>\n",
       "  <tbody>\n",
       "    <tr>\n",
       "      <th>0</th>\n",
       "      <td>Arnold</td>\n",
       "      <td>80</td>\n",
       "      <td>78</td>\n",
       "      <td>70</td>\n",
       "      <td>0.713673</td>\n",
       "      <td>0.013309</td>\n",
       "    </tr>\n",
       "    <tr>\n",
       "      <th>1</th>\n",
       "      <td>Bob</td>\n",
       "      <td>60</td>\n",
       "      <td>98</td>\n",
       "      <td>45</td>\n",
       "      <td>-0.165735</td>\n",
       "      <td>-1.428471</td>\n",
       "    </tr>\n",
       "    <tr>\n",
       "      <th>2</th>\n",
       "      <td>Cassandra</td>\n",
       "      <td>34</td>\n",
       "      <td>56</td>\n",
       "      <td>65</td>\n",
       "      <td>-1.308965</td>\n",
       "      <td>-0.275047</td>\n",
       "    </tr>\n",
       "    <tr>\n",
       "      <th>3</th>\n",
       "      <td>Donovan</td>\n",
       "      <td>56</td>\n",
       "      <td>65</td>\n",
       "      <td>32</td>\n",
       "      <td>-0.341616</td>\n",
       "      <td>-2.178196</td>\n",
       "    </tr>\n",
       "    <tr>\n",
       "      <th>4</th>\n",
       "      <td>Emily</td>\n",
       "      <td>98</td>\n",
       "      <td>23</td>\n",
       "      <td>55</td>\n",
       "      <td>1.505141</td>\n",
       "      <td>-0.851759</td>\n",
       "    </tr>\n",
       "  </tbody>\n",
       "</table>\n",
       "</div>"
      ],
      "text/plain": [
       "        Name  Physics  Biology  Maths  Physics_std  Maths_std\n",
       "0     Arnold       80       78     70     0.713673   0.013309\n",
       "1        Bob       60       98     45    -0.165735  -1.428471\n",
       "2  Cassandra       34       56     65    -1.308965  -0.275047\n",
       "3    Donovan       56       65     32    -0.341616  -2.178196\n",
       "4      Emily       98       23     55     1.505141  -0.851759"
      ]
     },
     "execution_count": 7,
     "metadata": {},
     "output_type": "execute_result"
    }
   ],
   "source": [
    "grades[\"Maths_std\"] = (grades[\"Maths\"] - grades[\"Maths\"].mean()) / grades[\"Maths\"].std()\n",
    "grades.head()"
   ]
  },
  {
   "cell_type": "markdown",
   "metadata": {},
   "source": [
    "What do we observe? \n",
    "\n",
    " - While Arnold is doing really well in Physics, he's barely above average in Maths. \n",
    " - Bob, Cassandra and Donovan are below average in both Physics and Maths. \n",
    " - While Emily seems to be an above average Physics student, she's quite the opposite when it comes to Maths. "
   ]
  },
  {
   "cell_type": "markdown",
   "metadata": {},
   "source": [
    "# Fundamentals of Probability\n",
    "\n",
    "For your reference, the rules of probability are reproduced as follows: \n",
    "1. The probability of an event A is between 0 and 1 (inclusive): $0 \\leq p(A)\\leq 1$\n",
    "2. The sum of the probability of all possible events (the *sample space*) is 1. $\\Sigma^n_{i=0} p(A_i)=1$\n",
    "3. The sum of the probability of an event and its complement is 1. $p(A^C)+p(A) = 1$\n",
    "4. (Addition Rule) The probability of event A *or* event B happening is equal to the sum of the probabilities of event A and event B happening respectively, *less* the probability of event A **and** event B. $p(A \\cup B)= p(A) + p(B) - p(AB)$\n",
    "5. (Multiplicative Rule) If events A and B are independent, then the probability of event A and B jointly occuring is the product of the probabilities of events A and B respectively. $p(AB) = p(A)p(B)$\n",
    "\n",
    "<div class=\"alert alert-info\">\n",
    "📝 <b>Note:</b> Events A and B are independent if the occurence of event A doesn't change the likelihood of Event B occuring. Do not confuse this with <b>mutually exclusive</b> events. If events A and B are mutually exclusive (disjoint), they cannot both happen. \n",
    "</div>"
   ]
  },
  {
   "cell_type": "markdown",
   "metadata": {},
   "source": [
    "## Conditional Probability \n",
    "|Sex/Handedness|Right handed| Left handed|\n",
    "|--------------|-----------:|-----------:|\n",
    "|Male          |43          | 9          |\n",
    "|Female        |44          | 4          |\n",
    "\n",
    "The contingency table above summarises some fake data collected from 100 respondents on genders and handedness. \n",
    "\n",
    "**What is the probability that any one respondent in our survey is female?** To calculate the probability, divide the number of events by the sample space: $\\frac{44+4}{100}=.48$. It is a little more likely that our respondents are male than female. \n",
    "\n",
    "However, what is the probability that a female in our sample is **left-handed**? Quite unlikely. To quantify the likelihood, we could divide the number of left-handed females by the number of females in our sample: $\\frac{4}{48}=\\frac{1}{12}$. \n",
    "\n",
    "$\\frac{1}{12}$ is a **conditional probability**: a probability under a condition. Note that to calculate the conditional probability, we restrict the sample space under consideration to a condition, and then recalculate the probability as if the condition were the entire sample space. \n",
    "\n",
    "A general formula for conditional probability is as follows. The conditional probability of A given B is \n",
    "\n",
    "$$P(A|B)=\\frac{P(A\\cap B)}{P(B)}$$\n",
    "\n",
    "We take the joint probability $P(A\\cap B)$ and 'inflate' it with the probability of $P(B)$. \n",
    "\n",
    "Conditional probabilities are fundamental to the idea of **independence**. Recall that we defined independence of two events A and B as \n",
    "\n",
    "> the probability of event A is not changed by the occurence of event B. \n",
    "\n",
    "We can restate the definition above as \n",
    "\n",
    "$$P(A|B)=P(A)$$\n",
    "\n",
    "Consider whether handedness is independent of sex. The probability of being left-handed is $11/100$, or 0.11. As you might expect, it's close to the conditional probability $P(left$-$handed|female)=0.12$. "
   ]
  },
  {
   "cell_type": "markdown",
   "metadata": {},
   "source": [
    "## Law of Total Probability\n",
    "\n",
    "Let $A_1, \\dots A_n$ be mutually exclusive and exhaustive events, where $P(A)\\neq 0$ for all $A$. Then, the probability of $P(B)$ can be defined as \n",
    "\n",
    "$$P(B)=\\sum^n_{i=1}P(B|A_i)P(A_i)$$\n",
    "\n",
    "### Example \n",
    "\n",
    "The probability that any given person in the population has a disease is 0.1. The likelihood of testing positive for a disease if you have it is 0.95. The probability of testing positive in the absence of the disease (a false positive) is 0.10. \n",
    "\n",
    "What is the probability of testing positive for the disease? \n",
    "\n",
    "$$P(T = 1|D = 1) = 0.95$$\n",
    "$$P(T = 1|D = 0) = 0.10$$\n",
    "$$P(D = 1) = 0.1$$\n",
    "\n",
    "\n",
    "$$\\begin{align}\n",
    "P(T=1)&=P(T=1|D=1)P(D=1) + P(T=1|D=0)P(D=0)\\\\\n",
    "&= 0.95\\times 0.1 + 0.10*0.90\\\\\n",
    "&=0.14\n",
    "\\end{align}$$"
   ]
  },
  {
   "cell_type": "markdown",
   "metadata": {},
   "source": [
    "# Bayes' Theorem\n",
    "\n",
    "$$P(A|B)=\\frac{P(B|A)P(A)}{P(B)}$$\n",
    "\n",
    "$$Posterior=\\frac{Likelihood\\times Prior}{Evidence}$$\n",
    "\n",
    "An informal way of putting Bayes' Theorem: \n",
    "\n",
    "$$P(pred|data)=\\frac{P(data|actual)P(actual)}{P(data)}$$\n",
    "\n",
    "The proof for Bayes' Theorem follows from the definition of conditional independence. We know that \n",
    "\n",
    "$$\\begin{align}\n",
    "P(A\\cap B)&=P(A|B)\\times P(B)\\\\\n",
    "&=P(B|A)\\times P(A)\n",
    "\\end{align}$$\n",
    "\n",
    "This can be rearranged to state Bayes's Theorem: \n",
    "\n",
    "$$P(A|B)=\\frac{P(B|A)P(A)}{P(B)}$$\n",
    "\n"
   ]
  },
  {
   "cell_type": "markdown",
   "metadata": {},
   "source": [
    "## Example 1\n",
    "\n",
    "You want to go for a picnic today but it is cloudy in the morning. From experience, you know that:\n",
    "\n",
    "- the probability of raining on any given day is 10%, \n",
    "- the probability that it is cloudy on any given day is 40%, and \n",
    "- 50% of all rainy days start off cloudy. \n",
    "\n",
    "What is the probability of raining given that it is cloudy?\n",
    "\n",
    "$P(Rain | Cloud) = \\frac {P(Cloud | rain) \\times P(rain)}{P(Cloud}=\\frac{.5\\times .1}{.4}=0.125$\n"
   ]
  },
  {
   "cell_type": "markdown",
   "metadata": {},
   "source": [
    "## Example 2\n",
    "\n",
    "The probability that any given person in the population has a disease is 0.1. The likelihood of testing positive for a disease if you have it is 0.95. The probability of testing positive in the absence of the disease (a false positive) is 0.10. \n",
    "\n",
    "If you have been tested positive for a disease. What is the probability that you actually have the disease? \n",
    "\n",
    "What is the probability of actually getting the disease given tested positive?\n",
    "\n",
    "$$P(T = 1|D = 1) = 0.95$$\n",
    "$$P(T = 1|D = 0) = 0.10$$\n",
    "$$P(D = 1) = 0.1$$\n",
    "\n",
    "As we've done earlier, we can use the law of total probability to find $P(T=1)$: \n",
    "\n",
    "$$\\begin{align}\n",
    "P(T=1)&=P(T=1|D=1)P(D=1) + P(T=1|D=0)P(D=0)\\\\\n",
    "&= 0.95\\times 0.1 + 0.10*0.90\\\\\n",
    "&=0.14\\end{align}$$\n",
    "\n",
    "Note that $$P(T = 1|D = 1) = 0.95$$ is the likelihood and $$P(D = 1) = 0.1$$ is the prior. \n",
    "\n",
    "\n",
    "$\\begin{align}\n",
    "P(D=1|T=1)&=\\frac{P(T=1|D=1)P(D=1)}{P(T=1)}\\\\\n",
    "&=\\frac{0.95\\times 0.1}{0.14}\\\\\n",
    "&=.68\n",
    "\\end{align}$"
   ]
  },
  {
   "cell_type": "markdown",
   "metadata": {},
   "source": [
    "# Probability Distributions \n",
    "A random variable is a variable whose possible values are the outcomes of a non-deterministic process. \n",
    "\n",
    "## Random variables \n",
    "- A **continuous random variable** takes on infinitely many values/real numbers. In fact, the probability of a continuous random variable taking on any one value is 0. \n",
    "- A **discrete random variable** takes on a finite set of values, e.g. counts.\n",
    "\n",
    "## Binomial distribution\n",
    "\n",
    "We start with the **binomial distribution**. The binomial distribution models the probability of $k$ successes in $n$ independent trials. \n",
    "\n",
    "Let's redo the lecture example with `scipy`. Import the `binom` class from `scipy.stats`: "
   ]
  },
  {
   "cell_type": "code",
   "execution_count": 8,
   "metadata": {},
   "outputs": [],
   "source": [
    "from scipy.stats import binom"
   ]
  },
  {
   "cell_type": "markdown",
   "metadata": {},
   "source": [
    "If the chance of winning a game is 0.75, what is the probability of losing all 5 games?\n",
    "\n",
    "Assume the chance of winning each game is independent. Then we can solve this problem using the binomial distribution. \n",
    "\n",
    "We use the `.pmf` method of the `binom` class. `pmf` stands for **probability mass function**: a function that states the probability that a discrete random variable is equal to any one value. "
   ]
  },
  {
   "cell_type": "code",
   "execution_count": 9,
   "metadata": {},
   "outputs": [
    {
     "data": {
      "text/plain": [
       "0.0009765625"
      ]
     },
     "execution_count": 9,
     "metadata": {},
     "output_type": "execute_result"
    }
   ],
   "source": [
    "binom.pmf(k=5, n=5, p=.25)"
   ]
  },
  {
   "cell_type": "markdown",
   "metadata": {},
   "source": [
    "The answer is what we should expect. If we win 3 in 4 games, it's unlikely we lose 5 in 5 games. \n",
    "\n",
    "Now, suppose we want to know what is the probability of winning 3 games or less. We want to find $P(X \\leq 3)$. \n",
    "\n",
    "Note $P(X \\leq 3) = P(X=0)+ P(X=1)+P(X=2)+P(X=3)$. \n",
    "\n",
    "By the **complement rule**, $P(X \\leq 3) = 1 - P(X=5)-P(X=4)$. \n",
    "\n"
   ]
  },
  {
   "cell_type": "code",
   "execution_count": 10,
   "metadata": {},
   "outputs": [
    {
     "data": {
      "text/plain": [
       "0.36718749999999994"
      ]
     },
     "execution_count": 10,
     "metadata": {},
     "output_type": "execute_result"
    }
   ],
   "source": [
    "1 - binom.pmf(k=4, n=5, p=.75) - binom.pmf(k=5, n=5, p=.75)"
   ]
  },
  {
   "cell_type": "markdown",
   "metadata": {},
   "source": [
    "Note that we could also answer this by referring to the value of the **cumulative density function** at $X=3$. \n",
    "\n",
    "The cumulative density function, $F(x)$, is defined as \n",
    "\n",
    "$$F(x)=P(X\\leq x)$$"
   ]
  },
  {
   "cell_type": "code",
   "execution_count": 11,
   "metadata": {},
   "outputs": [
    {
     "data": {
      "text/plain": [
       "0.3671875"
      ]
     },
     "execution_count": 11,
     "metadata": {},
     "output_type": "execute_result"
    }
   ],
   "source": [
    "binom.cdf(3, n=5, p=.75)"
   ]
  },
  {
   "cell_type": "markdown",
   "metadata": {},
   "source": [
    "## Normal distribution\n",
    "\n",
    "We move on to the **normal distribution**. There are some key properties that are important to know about this distribution: \n",
    "\n",
    "- The mean, median and mode of the distribution is the same.\n",
    "- The curve is bell-shaped.\n",
    "- The total area under the curve is 1.\n",
    "- Symmetric about the mean.\n",
    "\n",
    "There are two key **shape parameters** that define the location and spread of the normal distribution: the mean, commonly denoted as $\\mu$; and the standard deviation, commonly denoted as $\\sigma$. \n",
    "\n",
    "Again, start by importing the `norm` class from `scipy.stats`: "
   ]
  },
  {
   "cell_type": "code",
   "execution_count": 12,
   "metadata": {},
   "outputs": [],
   "source": [
    "from scipy.stats import norm"
   ]
  },
  {
   "cell_type": "markdown",
   "metadata": {},
   "source": [
    "### Standard normal distribution\n",
    "\n",
    "A normally distributed random variable with mean 0 and standard deviation 1 is said to follow the standard normal distribution, also known as the **z-distribution**. \n",
    "\n",
    "A normally distributed random variable can be converted into the standard normal distribution by standardisation: \n",
    "\n",
    "$$Z = \\frac{X-\\mu}{\\sigma}$$\n",
    "\n",
    "<div class=\"alert alert-info\">\n",
    "    <b>Note:</b> The <code>.pdf</code> method refers to the <b>probability density function</b>, which is the counterpart of the probability mass function for continuous random variables. \n",
    "</div>"
   ]
  },
  {
   "cell_type": "code",
   "execution_count": 13,
   "metadata": {},
   "outputs": [
    {
     "data": {
      "text/plain": [
       "Text(0.5, 1.0, '$\\\\mu$ and $\\\\sigma$ affect the shape of the normal distribution')"
      ]
     },
     "execution_count": 13,
     "metadata": {},
     "output_type": "execute_result"
    },
    {
     "data": {
      "image/png": "[encoded data removed]",
      "text/plain": [
       "<Figure size 432x288 with 1 Axes>"
      ]
     },
     "metadata": {
      "needs_background": "light"
     },
     "output_type": "display_data"
    }
   ],
   "source": [
    "x = np.linspace(-10, 10, 100)\n",
    "f1 = norm.pdf(x, loc=0, scale=1)\n",
    "f2 = norm.pdf(x, loc=1, scale=1)\n",
    "f3 = norm.pdf(x, loc=0, scale=2)\n",
    "\n",
    "plt.plot(x, f1, label=\"$\\mu=0, \\sigma=1$\")\n",
    "plt.plot(x, f2, label=\"$\\mu=1, \\sigma=1$\")\n",
    "plt.plot(x, f3, label=\"$\\mu=0, \\sigma=2$\")\n",
    "plt.vlines(x=0, ymin=0, ymax=0.5, linestyles=\"dotted\")\n",
    "\n",
    "plt.legend()\n",
    "plt.title(\"$\\mu$ and $\\sigma$ affect the shape of the normal distribution\")"
   ]
  },
  {
   "cell_type": "markdown",
   "metadata": {},
   "source": [
    "With continuous distributions, we do not want to find the probability of a random variable at any given value. Since the range is infinite, the probability that a continuous random variable takes on any given value is zero. \n",
    "\n",
    "We are usually interested in finding out the probability that the random variable lies between two values. \n",
    "\n"
   ]
  },
  {
   "cell_type": "markdown",
   "metadata": {},
   "source": [
    "### Programmatic solutions: percent point function\n",
    "\n",
    "Recall the definition of the **cumulative density function**: \n",
    "\n",
    "$$F(x)=P(X\\leq x)$$\n",
    "\n",
    "The CDF returns the probability that a random variable is less than $x$. For instance, because of the symmetric shape of the normal distribution, the CDF of the standard normal distribution at 0 is expected to be 0.5. "
   ]
  },
  {
   "cell_type": "code",
   "execution_count": 14,
   "metadata": {},
   "outputs": [
    {
     "data": {
      "text/plain": [
       "0.5"
      ]
     },
     "execution_count": 14,
     "metadata": {},
     "output_type": "execute_result"
    }
   ],
   "source": [
    "norm.cdf(0)"
   ]
  },
  {
   "cell_type": "markdown",
   "metadata": {},
   "source": [
    "We will also use the **percent point function**, available via the `ppf()` method. The percent point function does the inverse of the cumulative density function. It returns the percent point given the value of the CDF: "
   ]
  },
  {
   "cell_type": "code",
   "execution_count": 15,
   "metadata": {},
   "outputs": [
    {
     "data": {
      "text/plain": [
       "0.0"
      ]
     },
     "execution_count": 15,
     "metadata": {},
     "output_type": "execute_result"
    }
   ],
   "source": [
    "norm.ppf(0.5)"
   ]
  },
  {
   "cell_type": "markdown",
   "metadata": {},
   "source": [
    "### Standard deviation rule/empirical rule \n",
    "\n",
    "A useful rule of thumb is the **standard deviation rule**, or empirical rule. \n",
    "\n",
    "This rule states that for a normally distributed random variable, \n",
    "- 68% of data lies within 1 standard deviation of the mean.\n",
    "- 95% of data lies within 2 standard deviations of the mean, and \n",
    "- 99.7% of data lies within 3 standard deviations of the mean."
   ]
  },
  {
   "cell_type": "markdown",
   "metadata": {},
   "source": [
    "### Example: height\n",
    "\n",
    "Maalysian males' heights are normally distributed with mean 169.57 and standard deviation 7.57. Answer the following questions programmatically and using the empirical rule. \n",
    "\n",
    "- 84% of Malaysians have height of less than ... cm. "
   ]
  },
  {
   "cell_type": "code",
   "execution_count": 16,
   "metadata": {},
   "outputs": [
    {
     "data": {
      "text/plain": [
       "177.09804617589782"
      ]
     },
     "execution_count": 16,
     "metadata": {},
     "output_type": "execute_result"
    }
   ],
   "source": [
    "norm.ppf(.84, loc = 169.57, scale = 7.57)"
   ]
  },
  {
   "cell_type": "code",
   "execution_count": 17,
   "metadata": {},
   "outputs": [
    {
     "data": {
      "text/plain": [
       "177.14"
      ]
     },
     "execution_count": 17,
     "metadata": {},
     "output_type": "execute_result"
    }
   ],
   "source": [
    "169.57 + 7.57"
   ]
  },
  {
   "cell_type": "markdown",
   "metadata": {},
   "source": [
    "- The tallest 2.5% of Malaysians are taller than ... cm "
   ]
  },
  {
   "cell_type": "code",
   "execution_count": 18,
   "metadata": {},
   "outputs": [
    {
     "data": {
      "text/plain": [
       "184.4069273629682"
      ]
     },
     "execution_count": 18,
     "metadata": {},
     "output_type": "execute_result"
    }
   ],
   "source": [
    "norm.ppf(.975, loc = 169.57, scale = 7.57)"
   ]
  },
  {
   "cell_type": "code",
   "execution_count": 19,
   "metadata": {},
   "outputs": [
    {
     "data": {
      "text/plain": [
       "184.70999999999998"
      ]
     },
     "execution_count": 19,
     "metadata": {},
     "output_type": "execute_result"
    }
   ],
   "source": [
    "169.57 + 2 * 7.57"
   ]
  },
  {
   "cell_type": "markdown",
   "metadata": {},
   "source": [
    "- The shortest 0.15% of Malaysians are shorter than ... cm"
   ]
  },
  {
   "cell_type": "code",
   "execution_count": 20,
   "metadata": {},
   "outputs": [
    {
     "data": {
      "text/plain": [
       "147.10422390516268"
      ]
     },
     "execution_count": 20,
     "metadata": {},
     "output_type": "execute_result"
    }
   ],
   "source": [
    "norm.ppf(.0015, loc = 169.57, scale = 7.57)"
   ]
  },
  {
   "cell_type": "code",
   "execution_count": 21,
   "metadata": {},
   "outputs": [
    {
     "data": {
      "text/plain": [
       "146.85999999999999"
      ]
     },
     "execution_count": 21,
     "metadata": {},
     "output_type": "execute_result"
    }
   ],
   "source": [
    "169.57 - 3 * 7.57"
   ]
  },
  {
   "cell_type": "markdown",
   "metadata": {},
   "source": [
    "## Poisson distribution\n",
    "\n",
    "The Poisson distribution models the number of events that occur in a fixed time interval. \n",
    "\n",
    "Use the Poisson distribution when: \n",
    "- events occur at random points of time and space, and\n",
    "- our interest lies is the number of occurrences of the event.\n",
    "\n",
    "The most important property of the Poisson variable is that the waiting time between events is **memoryless**: \n",
    "- the time when events occur do not affect the number of successes in an interval;  \n",
    "- only the length of time affects the number of successes.\n",
    "\n",
    "The Poisson distribution has a single parameter: lambda ($\\lambda$). The mean and variance of the Poisson distribution coincides with the shape parameter $\\lambda$. \n",
    "\n",
    "The probability mass function of the Poisson distribution is as follows:\n",
    "\n",
    "$$p(X=k) = \\frac{e^{-\\lambda}\\lambda^{k}}{k!}$$"
   ]
  },
  {
   "cell_type": "code",
   "execution_count": 22,
   "metadata": {},
   "outputs": [],
   "source": [
    "from scipy.stats import poisson"
   ]
  },
  {
   "cell_type": "code",
   "execution_count": 23,
   "metadata": {},
   "outputs": [
    {
     "data": {
      "text/plain": [
       "<matplotlib.legend.Legend at 0x1875c6b73c8>"
      ]
     },
     "execution_count": 23,
     "metadata": {},
     "output_type": "execute_result"
    },
    {
     "data": {
      "image/png": "[encoded data removed]",
      "text/plain": [
       "<Figure size 432x288 with 1 Axes>"
      ]
     },
     "metadata": {
      "needs_background": "light"
     },
     "output_type": "display_data"
    }
   ],
   "source": [
    "# a Poisson distribution with lambda=1 can be interpreted as: \n",
    "# on average, 1 event occurs within the set time interval. \n",
    "# naturally, it is less likely that more than 1 event occurs. \n",
    "\n",
    "x = np.arange(10)\n",
    "f1 = poisson.pmf(x, mu = 1)\n",
    "f2 = poisson.pmf(x, mu = 2)\n",
    "f3 = poisson.pmf(x, mu = 3)\n",
    "\n",
    "plt.bar(x, f1, label=\"$\\lambda=1$\")\n",
    "plt.legend()\n"
   ]
  },
  {
   "cell_type": "code",
   "execution_count": 24,
   "metadata": {},
   "outputs": [
    {
     "data": {
      "text/plain": [
       "0.999998874797402"
      ]
     },
     "execution_count": 24,
     "metadata": {},
     "output_type": "execute_result"
    }
   ],
   "source": [
    "# the average can be calculated by multiplying the inputs with the values of the PMF\n",
    "x @ f1\n",
    "# see that this is equal to lambda "
   ]
  },
  {
   "cell_type": "code",
   "execution_count": 25,
   "metadata": {},
   "outputs": [
    {
     "data": {
      "text/plain": [
       "<matplotlib.legend.Legend at 0x1875c6f83c8>"
      ]
     },
     "execution_count": 25,
     "metadata": {},
     "output_type": "execute_result"
    },
    {
     "data": {
      "image/png": "[encoded data removed]",
      "text/plain": [
       "<Figure size 432x288 with 1 Axes>"
      ]
     },
     "metadata": {
      "needs_background": "light"
     },
     "output_type": "display_data"
    }
   ],
   "source": [
    "# for lambda=2, having 2 events is a lot more likely\n",
    "\n",
    "plt.bar(x, f2, label=\"$\\lambda=2$\")\n",
    "plt.legend()"
   ]
  },
  {
   "cell_type": "code",
   "execution_count": 26,
   "metadata": {},
   "outputs": [
    {
     "data": {
      "text/plain": [
       "1.9995251053434777"
      ]
     },
     "execution_count": 26,
     "metadata": {},
     "output_type": "execute_result"
    }
   ],
   "source": [
    "x @ f2"
   ]
  },
  {
   "cell_type": "code",
   "execution_count": 27,
   "metadata": {},
   "outputs": [
    {
     "data": {
      "text/plain": [
       "<matplotlib.legend.Legend at 0x1875c75c518>"
      ]
     },
     "execution_count": 27,
     "metadata": {},
     "output_type": "execute_result"
    },
    {
     "data": {
      "image/png": "[encoded data removed]",
      "text/plain": [
       "<Figure size 432x288 with 1 Axes>"
      ]
     },
     "metadata": {
      "needs_background": "light"
     },
     "output_type": "display_data"
    }
   ],
   "source": [
    "plt.bar(x, f3, label=\"$\\lambda=3$\")\n",
    "plt.legend()"
   ]
  },
  {
   "cell_type": "code",
   "execution_count": 28,
   "metadata": {},
   "outputs": [
    {
     "data": {
      "text/plain": [
       "2.988591023814973"
      ]
     },
     "execution_count": 28,
     "metadata": {},
     "output_type": "execute_result"
    }
   ],
   "source": [
    "x @ f3"
   ]
  },
  {
   "cell_type": "markdown",
   "metadata": {},
   "source": [
    "## Example\n",
    "\n",
    "Suppose emergency calls per hour follow a Poisson distribution and occur at a rate of 5 calls per hour. What is the probability of receiving 3 calls in any given hour? "
   ]
  },
  {
   "cell_type": "code",
   "execution_count": 29,
   "metadata": {},
   "outputs": [
    {
     "data": {
      "text/plain": [
       "0.1403738958142805"
      ]
     },
     "execution_count": 29,
     "metadata": {},
     "output_type": "execute_result"
    }
   ],
   "source": [
    "poisson.pmf(3, 5)"
   ]
  },
  {
   "cell_type": "markdown",
   "metadata": {},
   "source": [
    "# Central Limit Theorem\n",
    "\n",
    "The Central Limit Theorem helps us reason about realisations of sample means. \n",
    "\n",
    "Specifically, it tells us that in many repeated samples, the distribution of the sample means of a random variable is normal regardless of the underlying population distribution. "
   ]
  },
  {
   "cell_type": "code",
   "execution_count": 30,
   "metadata": {},
   "outputs": [],
   "source": [
    "from scipy.stats import poisson"
   ]
  },
  {
   "cell_type": "code",
   "execution_count": 31,
   "metadata": {},
   "outputs": [
    {
     "data": {
      "text/plain": [
       "[<matplotlib.lines.Line2D at 0x1875c8254e0>]"
      ]
     },
     "execution_count": 31,
     "metadata": {},
     "output_type": "execute_result"
    },
    {
     "data": {
      "image/png": "[encoded data removed]",
      "text/plain": [
       "<Figure size 432x288 with 1 Axes>"
      ]
     },
     "metadata": {
      "needs_background": "light"
     },
     "output_type": "display_data"
    }
   ],
   "source": [
    "bins = np.arange(0, 40)\n",
    "p_pois = poisson.pmf(bins, mu = 3)\n",
    "plt.plot(bins, p_pois)"
   ]
  },
  {
   "cell_type": "code",
   "execution_count": 32,
   "metadata": {},
   "outputs": [
    {
     "data": {
      "text/plain": [
       "(array([ 1.,  8., 40., 82., 93., 91., 55., 23.,  5.,  2.]),\n",
       " array([1.85, 2.1 , 2.35, 2.6 , 2.85, 3.1 , 3.35, 3.6 , 3.85, 4.1 , 4.35]),\n",
       " <a list of 10 Patch objects>)"
      ]
     },
     "execution_count": 32,
     "metadata": {},
     "output_type": "execute_result"
    },
    {
     "data": {
      "image/png": "[encoded data removed]",
      "text/plain": [
       "<Figure size 432x288 with 1 Axes>"
      ]
     },
     "metadata": {
      "needs_background": "light"
     },
     "output_type": "display_data"
    }
   ],
   "source": [
    "def sample_pois(_): \n",
    "    samples = poisson.rvs(mu = 3, size = 20)\n",
    "    return np.mean(samples)\n",
    "\n",
    "means = list(map(sample_pois, np.arange(400)))\n",
    "plt.hist(means)"
   ]
  },
  {
   "cell_type": "code",
   "execution_count": null,
   "metadata": {},
   "outputs": [],
   "source": []
  }
 ],
 "metadata": {
  "kernelspec": {
   "display_name": "Python 3",
   "language": "python",
   "name": "python3"
  },
  "language_info": {
   "codemirror_mode": {
    "name": "ipython",
    "version": 3
   },
   "file_extension": ".py",
   "mimetype": "text/x-python",
   "name": "python",
   "nbconvert_exporter": "python",
   "pygments_lexer": "ipython3",
   "version": "3.7.3"
  }
 },
 "nbformat": 4,
 "nbformat_minor": 4
}
