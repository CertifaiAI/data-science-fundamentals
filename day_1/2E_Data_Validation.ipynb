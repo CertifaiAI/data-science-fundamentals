{
 "cells": [
  {
   "cell_type": "markdown",
   "metadata": {},
   "source": [
    "![license_header_logo](https://user-images.githubusercontent.com/59526258/124226124-27125b80-db3b-11eb-8ba1-488d88018ebb.png)\n",
    "> **Copyright (c) 2021 CertifAI Sdn. Bhd.**<br>\n",
    " <br>\n",
    "This program is part of OSRFramework. You can redistribute it and/or modify\n",
    "<br>it under the terms of the GNU Affero General Public License as published by\n",
    "<br>the Free Software Foundation, either version 3 of the License, or\n",
    "<br>(at your option) any later version.\n",
    "<br>\n",
    "<br>This program is distributed in the hope that it will be useful,\n",
    "<br>but WITHOUT ANY WARRANTY; without even the implied warranty of\n",
    "<br>MERCHANTABILITY or FITNESS FOR A PARTICULAR PURPOSE.  See the\n",
    "<br>GNU Affero General Public License for more details.\n",
    "<br>\n",
    "<br>You should have received a copy of the GNU Affero General Public License\n",
    "<br>along with this program.  If not, see <http://www.gnu.org/licenses/>.\n",
    "<br>"
   ]
  },
  {
   "cell_type": "markdown",
   "metadata": {},
   "source": [
    "## Introduction\n",
    "In this tutorial, we will learn on how to automate data validation by using some of the pre-built packages.<br>\n",
    "\n",
    "Spending multiple hour a day and figure out that data came through was incorrect for whatever reasons can be relieving but frustrating at the same time. There are many reasons to have incorrect data such this as text introduced as integer, an integer is probably an outlier or worse-case scenario if entire specific column was not received in the data feed.<br>\n",
    "\n",
    "At the end of this tutorial, you should be able to:\n",
    "1. Automate data validation in your project\n",
    "2. Able to handle issues regarding data type, data format and etc.\n",
    "3. Detect which of column of your dataset give errors\n",
    "\n",
    "## Data Validation Packages : Pandera\n",
    "`pandera` is a statistical data validation library for `pandas` data structures. `pandera`provides a versatile and expressive API for performing data validation on tidy (long-form) and wide data to make data processing pipelines more readable and robust.<br>\n",
    "\n",
    "More information can be retrieved <a href=https://pandera.readthedocs.io/en/stable/>here</a>.\n",
    "## Table of Content\n",
    "* [Data Type and Data Format](#typeformat)\n",
    "* [Data Duplication](#duplicate)\n",
    "* [Exercise ](#exercise)"
   ]
  },
  {
   "cell_type": "code",
   "execution_count": null,
   "metadata": {},
   "outputs": [],
   "source": [
    "#import libraries\n",
    "import pandas as pd\n",
    "import pandera as pa\n",
    "from pandera.errors import SchemaError\n",
    "import numpy as np"
   ]
  },
  {
   "cell_type": "code",
   "execution_count": null,
   "metadata": {},
   "outputs": [],
   "source": [
    "# Create dataframe\n",
    "df = pd.DataFrame({\n",
    "    \"Student ID\": [101, 102, 103, 104, 105, 106, 107, 107, 108, 109],\n",
    "    \"Gender\" : [\"F\", np.nan, \"M\", \"M\", np.nan, \"M\", \"F\", \"F\", \"M\", \"F\"],\n",
    "    \"Grade\" : [54, 85, -15, 20, 60, 96, 84, 84, -25, 17],\n",
    "    \"Student fee\" : [1320.0, 1450.0, 1200.0, 3200.50, 2500.0, 1785.5, 3100.2, 3100.2, 1540.0, 1630.0],\n",
    "    \"Date joined\": pd.to_datetime([\"12/01/2021\", \"02/01/2021\", \"02/02/2021\", \"07/02/2021\", \"28/12/2020\", \n",
    "                    \"07/01/2021\", \"20/11/2019\", \"20/11/2019\", \"01/02/2021\", \"23/01/2021\"], format=\"%d/%m/%Y\")\n",
    "})"
   ]
  },
  {
   "cell_type": "code",
   "execution_count": null,
   "metadata": {},
   "outputs": [],
   "source": [
    "df.head(10)"
   ]
  },
  {
   "cell_type": "code",
   "execution_count": null,
   "metadata": {},
   "outputs": [],
   "source": [
    "df.dtypes"
   ]
  },
  {
   "cell_type": "markdown",
   "metadata": {},
   "source": [
    "## <a name=\"typeformat\">Data Type and Data Format\n",
    "Here we check if our data format fit with the schema that we provided below."
   ]
  },
  {
   "cell_type": "code",
   "execution_count": null,
   "metadata": {},
   "outputs": [],
   "source": [
    "# Define schema\n",
    "schema = pa.DataFrameSchema({\n",
    "    \"Student ID\" : pa.Column(int, nullable=False),\n",
    "    \"Gender\" : pa.Column(str, checks=pa.Check(lambda x: x.isin([\"M\", \"F\"])), nullable=True),\n",
    "    \"Grade\" : pa.Column(int, checks=pa.Check.greater_than(0)),\n",
    "    \"Student fee\" : pa.Column(float, checks=pa.Check.in_range(0.0, 3500.00)),\n",
    "    \"Date joined\" : pa.Column(pa.DateTime, checks=pa.Check.greater_than_or_equal_to(\"2021-01-01\"))\n",
    "})"
   ]
  },
  {
   "cell_type": "code",
   "execution_count": null,
   "metadata": {
    "scrolled": true
   },
   "outputs": [],
   "source": [
    "schema.validate(df, lazy=True)"
   ]
  },
  {
   "cell_type": "markdown",
   "metadata": {},
   "source": [
    "<b>lazy=True</b> is used to display in details what errors as shown above."
   ]
  },
  {
   "cell_type": "code",
   "execution_count": null,
   "metadata": {},
   "outputs": [],
   "source": [
    "# Display error\n",
    "try:\n",
    "    schema(df)\n",
    "except SchemaError as e:\n",
    "    print(\"Failed check:\", e.check)\n",
    "    print(\"\\nInvalidated dataframe:\\n\", e.data)\n",
    "    print(\"\\nFailure cases:\\n\", e.failure_cases)"
   ]
  },
  {
   "cell_type": "markdown",
   "metadata": {},
   "source": [
    "Catch the exception using try...except pattern to access the data and failure cases as attributes in `SchemaError` object."
   ]
  },
  {
   "cell_type": "markdown",
   "metadata": {},
   "source": [
    "## <a name=\"duplicate\">Data Duplication\n",
    "Question: How can we tell whether we have duplicate values in our dataset? "
   ]
  },
  {
   "cell_type": "code",
   "execution_count": null,
   "metadata": {},
   "outputs": [],
   "source": [
    "schema_duplicate = pa.DataFrameSchema({\n",
    "    \"Student ID\" : pa.Column(int)\n",
    "    },\n",
    "    unique=[\"Student ID\"])"
   ]
  },
  {
   "cell_type": "code",
   "execution_count": null,
   "metadata": {},
   "outputs": [],
   "source": [
    "schema_duplicate.validate(df)"
   ]
  },
  {
   "cell_type": "markdown",
   "metadata": {},
   "source": [
    "## <a name=\"exercise\">Exercise"
   ]
  },
  {
   "cell_type": "markdown",
   "metadata": {},
   "source": [
    "Given dataset based on customer feedback at a shopping mall. You need to perform data validation based on criteria below:\n",
    "1. Customer ID must be unique.\n",
    "2. Gender must be either \"Male\" or \"Female\".\n",
    "3. The annual income must be in valid range(no negative numbers).\n",
    "4. The range of spending score must be between 1 to 100."
   ]
  },
  {
   "cell_type": "code",
   "execution_count": null,
   "metadata": {},
   "outputs": [],
   "source": [
    "shop = pd.read_csv(\"../data/shopping.csv\")"
   ]
  },
  {
   "cell_type": "code",
   "execution_count": null,
   "metadata": {},
   "outputs": [],
   "source": [
    "shop.head()"
   ]
  },
  {
   "cell_type": "code",
   "execution_count": null,
   "metadata": {},
   "outputs": [],
   "source": [
    "# show data types in each columns"
   ]
  },
  {
   "cell_type": "code",
   "execution_count": null,
   "metadata": {},
   "outputs": [],
   "source": [
    "# Define schema"
   ]
  },
  {
   "cell_type": "code",
   "execution_count": null,
   "metadata": {},
   "outputs": [],
   "source": [
    "# Validate schema"
   ]
  },
  {
   "cell_type": "markdown",
   "metadata": {},
   "source": [
    "### <b>Now we should ask ourselves : What is the reason for these errors?\n",
    "* Do we have an improperly defined schema?\n",
    "* Do we expect to have negative values in our data?\n",
    "* Why do we have negative values in **Age** column? Typo?\n",
    "* Why do we have negative values in **Spending Score**? Is it because customer receive poor service?\n",
    "* What should we do with our schema and our failing data points?"
   ]
  }
 ],
 "metadata": {
  "kernelspec": {
   "display_name": "cdle",
   "language": "python",
   "name": "cdle"
  },
  "language_info": {
   "codemirror_mode": {
    "name": "ipython",
    "version": 3
   },
   "file_extension": ".py",
   "mimetype": "text/x-python",
   "name": "python",
   "nbconvert_exporter": "python",
   "pygments_lexer": "ipython3",
   "version": "3.7.3"
  },
  "toc": {
   "base_numbering": 1,
   "nav_menu": {},
   "number_sections": true,
   "sideBar": true,
   "skip_h1_title": false,
   "title_cell": "Table of Contents",
   "title_sidebar": "Contents",
   "toc_cell": false,
   "toc_position": {},
   "toc_section_display": true,
   "toc_window_display": false
  }
 },
 "nbformat": 4,
 "nbformat_minor": 4
}
