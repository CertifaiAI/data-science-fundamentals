{
 "cells": [
  {
   "cell_type": "markdown",
   "id": "aae0e74c",
   "metadata": {},
   "source": [
    "![logo](https://user-images.githubusercontent.com/59526258/124226124-27125b80-db3b-11eb-8ba1-488d88018ebb.png)\n",
    "\n",
    "> **Copyright (c) 2021 CertifAI Sdn. Bhd.**<br>\n",
    " <br>\n",
    "This program is part of OSRFramework. You can redistribute it and/or modify\n",
    "<br>it under the terms of the GNU Affero General Public License as published by\n",
    "<br>the Free Software Foundation, either version 3 of the License, or\n",
    "<br>(at your option) any later version.\n",
    "<br>\n",
    "<br>This program is distributed in the hope that it will be useful,\n",
    "<br>but WITHOUT ANY WARRANTY; without even the implied warranty of\n",
    "<br>MERCHANTABILITY or FITNESS FOR A PARTICULAR PURPOSE.  See the\n",
    "<br>GNU Affero General Public License for more details.\n",
    "<br>\n",
    "<br>You should have received a copy of the GNU Affero General Public License\n",
    "<br>along with this program.  If not, see <http://www.gnu.org/licenses/>.\n",
    "<br>"
   ]
  },
  {
   "cell_type": "markdown",
   "id": "df6d4639",
   "metadata": {},
   "source": [
    "## Table of Content\n",
    "1. [Introduction](#1.0)\n",
    "2. [Loading Data and Some Basic Operations](#2.0)\n",
    "3. [Descriptive Analysis](#3.0)\n",
    "    1. [Measures of Central Tendency](#3.1)\n",
    "    2. [Measures of Dispersion](#3.2)\n",
    "4. [Data Exploration](#4.0)\n",
    "    1. [Univariate Analysis: Continuous Variables](#4.1)\n",
    "        1. [Percentile](#4.1.1)\n",
    "        2. [Interquartile range (IQR)](#4.1.2)\n",
    "        3. [Boxplots](#4.1.3)\n",
    "        4. [Frequency Table](#4.1.4)\n",
    "        5. [Histogram](#4.1.5)\n",
    "        6. [Density Plots and Estimates](#4.1.6)\n",
    "    2. [Univariate Analysis: Binary and Categorical Variables](#4.2)\n",
    "        1. [Mode](#4.2.1)\n",
    "        2. [Bar Plot](#4.2.2)    \n",
    "    3. [Multivariate  Analysis: Continuous Variables vs Categorical Variables](#4.3)\n",
    "        1. [Correlation and Correlation Matrix](#4.3.1)\n",
    "        2. [Scatterplots](#4.3.2)\n",
    "    4. [Multivariate  Analysis: Categorical Variables vs Continuous Variables](#4.4)\n",
    "        1. [Contingency table](#4.4.1)\n",
    "        2. [Side by Side Barplot](#4.4.2)\n",
    "    5. [Multivariate  Analysis: Categorical vs Continuous Variables](#4.5)\n",
    "        1. [Side by Side Boxplot](#4.5.1)\n",
    "        2. [Violin Plot](#4.5.2)\n",
    "    6. [Multivariate  Analysis: Multiple Categorical vs Continuous Variables](#4.6)\n",
    "        1. [Facet Grid](#4.6.1)\n",
    "        2. [Side by Side Histogram](#4.6.2)\n",
    "5. [References](#5.0)"
   ]
  },
  {
   "cell_type": "markdown",
   "id": "34ed2d8d",
   "metadata": {},
   "source": [
    "## Introduction <a name=\"1.0\"></a>\n",
    "In this tutorial, we will learn to use descriptive statistics to analyse our datesets and perform various data exploration techniques on our datasets based on variable type.\n",
    "\n",
    "By the end of the notebook, you should have learned:\n",
    "1. How to load data and do some basic operations.\n",
    "2. How to perform various descriptive statistics.\n",
    "3. How to make data exploration according to the types of variable and how to interpret it."
   ]
  },
  {
   "cell_type": "markdown",
   "id": "a2171d75",
   "metadata": {},
   "source": [
    "#### Importing necessary libraries"
   ]
  },
  {
   "cell_type": "code",
   "execution_count": 1,
   "id": "4fa008ab",
   "metadata": {},
   "outputs": [],
   "source": [
    "# Data wrangling and analysis\n",
    "import pandas as pd\n",
    "import numpy as np\n",
    "from scipy.stats import trim_mean\n",
    "\n",
    "# Visualization\n",
    "%matplotlib inline\n",
    "\n",
    "import seaborn as sns\n",
    "import matplotlib.pyplot as plt"
   ]
  },
  {
   "cell_type": "markdown",
   "id": "cbf344dc",
   "metadata": {},
   "source": [
    "## Loading Data and Some Basic Operations <a name=\"2.0\"></a>"
   ]
  },
  {
   "cell_type": "code",
   "execution_count": 2,
   "id": "6eacad47",
   "metadata": {},
   "outputs": [],
   "source": [
    "# loading structured data into dataframe\n",
    "df = pd.read_csv(\"../data/StudentsPerformance.csv\")"
   ]
  },
  {
   "cell_type": "code",
   "execution_count": 3,
   "id": "ff017098",
   "metadata": {},
   "outputs": [
    {
     "data": {
      "text/html": [
       "<div>\n",
       "<style scoped>\n",
       "    .dataframe tbody tr th:only-of-type {\n",
       "        vertical-align: middle;\n",
       "    }\n",
       "\n",
       "    .dataframe tbody tr th {\n",
       "        vertical-align: top;\n",
       "    }\n",
       "\n",
       "    .dataframe thead th {\n",
       "        text-align: right;\n",
       "    }\n",
       "</style>\n",
       "<table border=\"1\" class=\"dataframe\">\n",
       "  <thead>\n",
       "    <tr style=\"text-align: right;\">\n",
       "      <th></th>\n",
       "      <th>gender</th>\n",
       "      <th>race/ethnicity</th>\n",
       "      <th>parental level of education</th>\n",
       "      <th>lunch</th>\n",
       "      <th>test preparation course</th>\n",
       "      <th>math score</th>\n",
       "      <th>reading score</th>\n",
       "      <th>writing score</th>\n",
       "    </tr>\n",
       "  </thead>\n",
       "  <tbody>\n",
       "    <tr>\n",
       "      <th>0</th>\n",
       "      <td>female</td>\n",
       "      <td>group B</td>\n",
       "      <td>bachelor's degree</td>\n",
       "      <td>standard</td>\n",
       "      <td>none</td>\n",
       "      <td>72</td>\n",
       "      <td>72</td>\n",
       "      <td>74</td>\n",
       "    </tr>\n",
       "    <tr>\n",
       "      <th>1</th>\n",
       "      <td>female</td>\n",
       "      <td>group C</td>\n",
       "      <td>some college</td>\n",
       "      <td>standard</td>\n",
       "      <td>completed</td>\n",
       "      <td>69</td>\n",
       "      <td>90</td>\n",
       "      <td>88</td>\n",
       "    </tr>\n",
       "    <tr>\n",
       "      <th>2</th>\n",
       "      <td>female</td>\n",
       "      <td>group B</td>\n",
       "      <td>master's degree</td>\n",
       "      <td>standard</td>\n",
       "      <td>none</td>\n",
       "      <td>90</td>\n",
       "      <td>95</td>\n",
       "      <td>93</td>\n",
       "    </tr>\n",
       "    <tr>\n",
       "      <th>3</th>\n",
       "      <td>male</td>\n",
       "      <td>group A</td>\n",
       "      <td>associate's degree</td>\n",
       "      <td>free/reduced</td>\n",
       "      <td>none</td>\n",
       "      <td>47</td>\n",
       "      <td>57</td>\n",
       "      <td>44</td>\n",
       "    </tr>\n",
       "    <tr>\n",
       "      <th>4</th>\n",
       "      <td>male</td>\n",
       "      <td>group C</td>\n",
       "      <td>some college</td>\n",
       "      <td>standard</td>\n",
       "      <td>none</td>\n",
       "      <td>76</td>\n",
       "      <td>78</td>\n",
       "      <td>75</td>\n",
       "    </tr>\n",
       "  </tbody>\n",
       "</table>\n",
       "</div>"
      ],
      "text/plain": [
       "   gender race/ethnicity parental level of education         lunch  \\\n",
       "0  female        group B           bachelor's degree      standard   \n",
       "1  female        group C                some college      standard   \n",
       "2  female        group B             master's degree      standard   \n",
       "3    male        group A          associate's degree  free/reduced   \n",
       "4    male        group C                some college      standard   \n",
       "\n",
       "  test preparation course  math score  reading score  writing score  \n",
       "0                    none          72             72             74  \n",
       "1               completed          69             90             88  \n",
       "2                    none          90             95             93  \n",
       "3                    none          47             57             44  \n",
       "4                    none          76             78             75  "
      ]
     },
     "execution_count": 3,
     "metadata": {},
     "output_type": "execute_result"
    }
   ],
   "source": [
    "df.head()"
   ]
  },
  {
   "cell_type": "markdown",
   "id": "d2d54643",
   "metadata": {},
   "source": [
    "The data is about the marks secured by the high school students (with a variety of personal, social, and economic factors) from the United States.\n",
    "\n",
    "`data.head()` shows the first few rows of data (5 rows by default). It enables us to quickly test if our dataset has the correct data in it."
   ]
  },
  {
   "cell_type": "code",
   "execution_count": 4,
   "id": "3b1390c5",
   "metadata": {},
   "outputs": [
    {
     "data": {
      "text/html": [
       "<div>\n",
       "<style scoped>\n",
       "    .dataframe tbody tr th:only-of-type {\n",
       "        vertical-align: middle;\n",
       "    }\n",
       "\n",
       "    .dataframe tbody tr th {\n",
       "        vertical-align: top;\n",
       "    }\n",
       "\n",
       "    .dataframe thead th {\n",
       "        text-align: right;\n",
       "    }\n",
       "</style>\n",
       "<table border=\"1\" class=\"dataframe\">\n",
       "  <thead>\n",
       "    <tr style=\"text-align: right;\">\n",
       "      <th></th>\n",
       "      <th>math score</th>\n",
       "      <th>reading score</th>\n",
       "      <th>writing score</th>\n",
       "    </tr>\n",
       "  </thead>\n",
       "  <tbody>\n",
       "    <tr>\n",
       "      <th>count</th>\n",
       "      <td>1000.00000</td>\n",
       "      <td>1000.000000</td>\n",
       "      <td>1000.000000</td>\n",
       "    </tr>\n",
       "    <tr>\n",
       "      <th>mean</th>\n",
       "      <td>66.08900</td>\n",
       "      <td>69.169000</td>\n",
       "      <td>68.054000</td>\n",
       "    </tr>\n",
       "    <tr>\n",
       "      <th>std</th>\n",
       "      <td>15.16308</td>\n",
       "      <td>14.600192</td>\n",
       "      <td>15.195657</td>\n",
       "    </tr>\n",
       "    <tr>\n",
       "      <th>min</th>\n",
       "      <td>0.00000</td>\n",
       "      <td>17.000000</td>\n",
       "      <td>10.000000</td>\n",
       "    </tr>\n",
       "    <tr>\n",
       "      <th>25%</th>\n",
       "      <td>57.00000</td>\n",
       "      <td>59.000000</td>\n",
       "      <td>57.750000</td>\n",
       "    </tr>\n",
       "    <tr>\n",
       "      <th>50%</th>\n",
       "      <td>66.00000</td>\n",
       "      <td>70.000000</td>\n",
       "      <td>69.000000</td>\n",
       "    </tr>\n",
       "    <tr>\n",
       "      <th>75%</th>\n",
       "      <td>77.00000</td>\n",
       "      <td>79.000000</td>\n",
       "      <td>79.000000</td>\n",
       "    </tr>\n",
       "    <tr>\n",
       "      <th>max</th>\n",
       "      <td>100.00000</td>\n",
       "      <td>100.000000</td>\n",
       "      <td>100.000000</td>\n",
       "    </tr>\n",
       "  </tbody>\n",
       "</table>\n",
       "</div>"
      ],
      "text/plain": [
       "       math score  reading score  writing score\n",
       "count  1000.00000    1000.000000    1000.000000\n",
       "mean     66.08900      69.169000      68.054000\n",
       "std      15.16308      14.600192      15.195657\n",
       "min       0.00000      17.000000      10.000000\n",
       "25%      57.00000      59.000000      57.750000\n",
       "50%      66.00000      70.000000      69.000000\n",
       "75%      77.00000      79.000000      79.000000\n",
       "max     100.00000     100.000000     100.000000"
      ]
     },
     "execution_count": 4,
     "metadata": {},
     "output_type": "execute_result"
    }
   ],
   "source": [
    "df.describe()"
   ]
  },
  {
   "cell_type": "markdown",
   "id": "a2e24e5e",
   "metadata": {},
   "source": [
    "`data.describe()` shows a **basic descriptive analysis** (for numerical variables). It can be used to spot some obvious outliers. For example, if the `max` for `math score` is 1000, we can know that it is an outlier due to data error and need to be handled such as removing the entire record."
   ]
  },
  {
   "cell_type": "code",
   "execution_count": 5,
   "id": "b041c916",
   "metadata": {},
   "outputs": [
    {
     "name": "stdout",
     "output_type": "stream",
     "text": [
      "<class 'pandas.core.frame.DataFrame'>\n",
      "RangeIndex: 1000 entries, 0 to 999\n",
      "Data columns (total 8 columns):\n",
      " #   Column                       Non-Null Count  Dtype \n",
      "---  ------                       --------------  ----- \n",
      " 0   gender                       1000 non-null   object\n",
      " 1   race/ethnicity               1000 non-null   object\n",
      " 2   parental level of education  1000 non-null   object\n",
      " 3   lunch                        1000 non-null   object\n",
      " 4   test preparation course      1000 non-null   object\n",
      " 5   math score                   1000 non-null   int64 \n",
      " 6   reading score                1000 non-null   int64 \n",
      " 7   writing score                1000 non-null   int64 \n",
      "dtypes: int64(3), object(5)\n",
      "memory usage: 62.6+ KB\n"
     ]
    }
   ],
   "source": [
    "df.info()"
   ]
  },
  {
   "cell_type": "markdown",
   "id": "78c69715",
   "metadata": {},
   "source": [
    "`data.info()` can be used to:\n",
    "1. Check the **count number** of the dataset (at `RangeIndex`)\n",
    "2. Check if there are **missing values** or not (by checking if the `Non-Null Count` for each variable is fewer than the number of records or not)\n",
    "3. Check the **data type** of all the variables of the dataset \n",
    "    - `object` are usually **categorical** (sometimes can be other types such as **datetime**)\n",
    "    - `int` and `float` are usually **numerical** (sometimes can be other types such as **boolean** (0/1))"
   ]
  },
  {
   "cell_type": "code",
   "execution_count": 6,
   "id": "f65d15e8",
   "metadata": {
    "scrolled": true
   },
   "outputs": [
    {
     "data": {
      "text/plain": [
       "gender                          2\n",
       "race/ethnicity                  5\n",
       "parental level of education     6\n",
       "lunch                           2\n",
       "test preparation course         2\n",
       "math score                     81\n",
       "reading score                  72\n",
       "writing score                  77\n",
       "dtype: int64"
      ]
     },
     "execution_count": 6,
     "metadata": {},
     "output_type": "execute_result"
    }
   ],
   "source": [
    "df.nunique()"
   ]
  },
  {
   "cell_type": "markdown",
   "id": "28862e70",
   "metadata": {},
   "source": [
    "`data.nunique()` can be used to check the count number of distinct elements for each variables. If the `nunique` of a `numerical` variable is very low (such as fewer than 10), you should check if it is label encoded categorical variable or not.\n"
   ]
  },
  {
   "cell_type": "markdown",
   "id": "7f4edb64",
   "metadata": {},
   "source": [
    "Since our data is clean (no obvious outliers, no missing values etc.), so we can proceed with EDA without going through data cleaning."
   ]
  },
  {
   "cell_type": "markdown",
   "id": "4cb74da7",
   "metadata": {},
   "source": [
    "## Descriptive Analysis<a name=\"3.0\"></a>"
   ]
  },
  {
   "cell_type": "markdown",
   "id": "e2e9ea48",
   "metadata": {},
   "source": [
    "A quick general descriptive analysis can be done using `data.describe()` (as shown in previous section). However, for most of the cases, it is not detailed enough. The following section demonstrates how to perform a more detailed and specific descriptive analysis."
   ]
  },
  {
   "cell_type": "markdown",
   "id": "b35f9a43",
   "metadata": {},
   "source": [
    "### Measures of Central Tendency<a name=\"3.1\"></a>"
   ]
  },
  {
   "cell_type": "markdown",
   "id": "7e04d2e9",
   "metadata": {},
   "source": [
    "**Mean**, **trimmed mean** and **median** are widely used measures of central cendency. The following codes are those measures for the variable `math score`. For **trimmed mean**, we need to specify the **percentage** of the data to be ignored at both ends of sorted data."
   ]
  },
  {
   "cell_type": "code",
   "execution_count": 7,
   "id": "61a43eec",
   "metadata": {},
   "outputs": [
    {
     "data": {
      "text/plain": [
       "66.089"
      ]
     },
     "execution_count": 7,
     "metadata": {},
     "output_type": "execute_result"
    }
   ],
   "source": [
    "# mean\n",
    "df[\"math score\"].mean()"
   ]
  },
  {
   "cell_type": "code",
   "execution_count": 8,
   "id": "44da48ff",
   "metadata": {},
   "outputs": [
    {
     "data": {
      "text/plain": [
       "66.34"
      ]
     },
     "execution_count": 8,
     "metadata": {},
     "output_type": "execute_result"
    }
   ],
   "source": [
    "# trimmed mean\n",
    "trim_mean(df[\"math score\"], 0.05)"
   ]
  },
  {
   "cell_type": "code",
   "execution_count": 9,
   "id": "b379ac6c",
   "metadata": {},
   "outputs": [
    {
     "data": {
      "text/plain": [
       "66.0"
      ]
     },
     "execution_count": 9,
     "metadata": {},
     "output_type": "execute_result"
    }
   ],
   "source": [
    "# median\n",
    "df[\"math score\"].median()"
   ]
  },
  {
   "cell_type": "markdown",
   "id": "739245c9",
   "metadata": {},
   "source": [
    "### Measures of Dispersion<a name=\"3.2\"></a>"
   ]
  },
  {
   "cell_type": "markdown",
   "id": "b6c87d14",
   "metadata": {},
   "source": [
    "**Mean absolute deviation (MAD)**, **standard deviation** and **variance** are commmonly used measures of dispersion. On the other hand, **skewness** and **kurtosis** enable us to have a better understanding of the distribution of data. All of them are avaiable in the `pandas` library."
   ]
  },
  {
   "cell_type": "code",
   "execution_count": 10,
   "id": "066d7fdc",
   "metadata": {},
   "outputs": [
    {
     "data": {
      "text/plain": [
       "12.020245999999998"
      ]
     },
     "execution_count": 10,
     "metadata": {},
     "output_type": "execute_result"
    }
   ],
   "source": [
    "# MAD implementation fromm scratch\n",
    "np.mean(abs(df[\"math score\"] - df[\"math score\"].mean()))"
   ]
  },
  {
   "cell_type": "code",
   "execution_count": 11,
   "id": "c091f41b",
   "metadata": {},
   "outputs": [],
   "source": [
    "# TODO: Use pandas built-in MAD function\n"
   ]
  },
  {
   "cell_type": "markdown",
   "id": "83e49213",
   "metadata": {},
   "source": [
    "We can implement **mean absolute deviation (MAD)** from scratch but obviously it is more convenient to use the pandas built-in function."
   ]
  },
  {
   "cell_type": "code",
   "execution_count": 12,
   "id": "0fcb5530",
   "metadata": {},
   "outputs": [
    {
     "data": {
      "text/plain": [
       "15.16308009600945"
      ]
     },
     "execution_count": 12,
     "metadata": {},
     "output_type": "execute_result"
    }
   ],
   "source": [
    "# standard deviation\n",
    "df[\"math score\"].std()"
   ]
  },
  {
   "cell_type": "code",
   "execution_count": 13,
   "id": "95947b0f",
   "metadata": {},
   "outputs": [
    {
     "data": {
      "text/plain": [
       "229.91899799799796"
      ]
     },
     "execution_count": 13,
     "metadata": {},
     "output_type": "execute_result"
    }
   ],
   "source": [
    "# variance\n",
    "df[\"math score\"].var()"
   ]
  },
  {
   "cell_type": "code",
   "execution_count": 14,
   "id": "87780336",
   "metadata": {},
   "outputs": [],
   "source": [
    "# TODO: Verify if the variance is equal to standard deviation \n",
    "# (Hint: round both numbers to 6 decimal places)"
   ]
  },
  {
   "cell_type": "markdown",
   "id": "ff50cbae",
   "metadata": {},
   "source": [
    "As expected, the **variance** of the `math score` is equal to the **square** of its **standard deviation**."
   ]
  },
  {
   "cell_type": "code",
   "execution_count": 15,
   "id": "7a51ff7a",
   "metadata": {},
   "outputs": [
    {
     "data": {
      "text/plain": [
       "-0.27893514909431694"
      ]
     },
     "execution_count": 15,
     "metadata": {},
     "output_type": "execute_result"
    }
   ],
   "source": [
    "# skewness\n",
    "df[\"math score\"].skew()"
   ]
  },
  {
   "cell_type": "code",
   "execution_count": 16,
   "id": "f846232d",
   "metadata": {},
   "outputs": [
    {
     "data": {
      "text/plain": [
       "0.27496405752108455"
      ]
     },
     "execution_count": 16,
     "metadata": {},
     "output_type": "execute_result"
    }
   ],
   "source": [
    "# kurtosis\n",
    "df[\"math score\"].kurtosis()"
   ]
  },
  {
   "cell_type": "markdown",
   "id": "1e131333",
   "metadata": {},
   "source": [
    "- The **skewness** of `math score` is negative, implies that the distribution of `math score` is negatively skewed (slightly).\n",
    "- The **kurtosis** of `math score` is positive, implies that the distribution of `math score` is slightly leptokurtic (heavy-tailed). Outliers are likely to present."
   ]
  },
  {
   "cell_type": "markdown",
   "id": "d1e82254",
   "metadata": {},
   "source": [
    "## Data Exploration<a name=\"4.0\"></a>"
   ]
  },
  {
   "cell_type": "markdown",
   "id": "aa72306e",
   "metadata": {},
   "source": [
    "### Univariate Analysis: Continuous Variables<a name=\"4.1\"></a>"
   ]
  },
  {
   "cell_type": "markdown",
   "id": "eccd14ac",
   "metadata": {},
   "source": [
    "Univariate analysis techniques for continuous variables includes descriptive analysis, which most of them has been coverred in previous section. Therefore in this section we will cover the rest of the non-graphical techniques and some graphical techniques. "
   ]
  },
  {
   "cell_type": "markdown",
   "id": "48eadec9",
   "metadata": {},
   "source": [
    "#### Percentile<a name=\"4.1.1\"></a>"
   ]
  },
  {
   "cell_type": "markdown",
   "id": "902a02c7",
   "metadata": {},
   "source": [
    "- Percentile can be calculated using `quantile()` in `pandas`.\n",
    "- `quantile()` accepts values between 0 to 1, so if we want obtained value at *k*th percentile, we should divide *k* by 100 before using it as argument in `quantile()` function.\n",
    "- For example, to obtain value at <em>15</em>th percentile we need to use <em>0.15</em> as the argument. \n",
    ">`data.quantile(0.15)`\n"
   ]
  },
  {
   "cell_type": "code",
   "execution_count": 17,
   "id": "715a0a5c",
   "metadata": {},
   "outputs": [
    {
     "data": {
      "text/plain": [
       "0.05    40.95\n",
       "0.25    57.00\n",
       "0.50    66.00\n",
       "0.75    77.00\n",
       "0.95    90.05\n",
       "Name: math score, dtype: float64"
      ]
     },
     "execution_count": 17,
     "metadata": {},
     "output_type": "execute_result"
    }
   ],
   "source": [
    "# Return values at the requested percentiles for a numerical variable\n",
    "df[\"math score\"].quantile([0.05, 0.25, 0.5, 0.75, 0.95])"
   ]
  },
  {
   "cell_type": "code",
   "execution_count": 18,
   "id": "24619df1",
   "metadata": {},
   "outputs": [
    {
     "data": {
      "text/html": [
       "<div>\n",
       "<style scoped>\n",
       "    .dataframe tbody tr th:only-of-type {\n",
       "        vertical-align: middle;\n",
       "    }\n",
       "\n",
       "    .dataframe tbody tr th {\n",
       "        vertical-align: top;\n",
       "    }\n",
       "\n",
       "    .dataframe thead th {\n",
       "        text-align: right;\n",
       "    }\n",
       "</style>\n",
       "<table border=\"1\" class=\"dataframe\">\n",
       "  <thead>\n",
       "    <tr style=\"text-align: right;\">\n",
       "      <th></th>\n",
       "      <th>math score</th>\n",
       "      <th>reading score</th>\n",
       "      <th>writing score</th>\n",
       "    </tr>\n",
       "  </thead>\n",
       "  <tbody>\n",
       "    <tr>\n",
       "      <th>0.05</th>\n",
       "      <td>40.95</td>\n",
       "      <td>44.0</td>\n",
       "      <td>42.95</td>\n",
       "    </tr>\n",
       "    <tr>\n",
       "      <th>0.25</th>\n",
       "      <td>57.00</td>\n",
       "      <td>59.0</td>\n",
       "      <td>57.75</td>\n",
       "    </tr>\n",
       "    <tr>\n",
       "      <th>0.50</th>\n",
       "      <td>66.00</td>\n",
       "      <td>70.0</td>\n",
       "      <td>69.00</td>\n",
       "    </tr>\n",
       "    <tr>\n",
       "      <th>0.75</th>\n",
       "      <td>77.00</td>\n",
       "      <td>79.0</td>\n",
       "      <td>79.00</td>\n",
       "    </tr>\n",
       "    <tr>\n",
       "      <th>0.95</th>\n",
       "      <td>90.05</td>\n",
       "      <td>92.0</td>\n",
       "      <td>92.00</td>\n",
       "    </tr>\n",
       "  </tbody>\n",
       "</table>\n",
       "</div>"
      ],
      "text/plain": [
       "      math score  reading score  writing score\n",
       "0.05       40.95           44.0          42.95\n",
       "0.25       57.00           59.0          57.75\n",
       "0.50       66.00           70.0          69.00\n",
       "0.75       77.00           79.0          79.00\n",
       "0.95       90.05           92.0          92.00"
      ]
     },
     "execution_count": 18,
     "metadata": {},
     "output_type": "execute_result"
    }
   ],
   "source": [
    "# Return values at the requested percentiles\n",
    "# for all numerical variables of a dataframe\n",
    "df.quantile([0.05, 0.25, 0.5, 0.75, 0.95])"
   ]
  },
  {
   "cell_type": "markdown",
   "id": "a68bbe39",
   "metadata": {},
   "source": [
    "#### Interquartile range (IQR)<a name=\"4.1.2\"></a>"
   ]
  },
  {
   "cell_type": "markdown",
   "id": "d1e01ee5",
   "metadata": {},
   "source": [
    "- IQR = Q3 - Q1 (75th percentile - 25th percentile) \n",
    "- **IQR method** can be used to detect outliers, where any data points that are more than 1.5 IQR below Q1 or more than 1.5 IQR above Q3 are outliers. "
   ]
  },
  {
   "cell_type": "code",
   "execution_count": 19,
   "id": "06d8bb88",
   "metadata": {},
   "outputs": [],
   "source": [
    "# TODO: Calculate the IQR for math score"
   ]
  },
  {
   "cell_type": "markdown",
   "id": "57e85c08",
   "metadata": {},
   "source": [
    "#### Boxplots<a name=\"4.1.3\"></a>"
   ]
  },
  {
   "cell_type": "markdown",
   "id": "4c00290e",
   "metadata": {},
   "source": [
    "A single boxplot can be plotted using the codes below:"
   ]
  },
  {
   "cell_type": "code",
   "execution_count": 20,
   "id": "38b612d5",
   "metadata": {},
   "outputs": [
    {
     "data": {
      "image/png": "[encoded data removed]",
      "text/plain": [
       "<Figure size 216x288 with 1 Axes>"
      ]
     },
     "metadata": {
      "needs_background": "light"
     },
     "output_type": "display_data"
    }
   ],
   "source": [
    "ax = df[\"math score\"].plot.box(figsize=(3, 4))\n",
    "\n",
    "plt.tight_layout()\n",
    "plt.show()"
   ]
  },
  {
   "cell_type": "markdown",
   "id": "4cd16cc1",
   "metadata": {},
   "source": [
    "By **IQR method**, the values below Q1 - 1.5IQR = 57 - 30 = 27 are considered as **outliers**, which are indicated as small circles in the boxplot."
   ]
  },
  {
   "cell_type": "markdown",
   "id": "3230812c",
   "metadata": {},
   "source": [
    "#### Frequency Table<a name=\"4.1.4\"></a>"
   ]
  },
  {
   "cell_type": "markdown",
   "id": "b49374b2",
   "metadata": {},
   "source": [
    "- In order to generate a frequency table for a continuous variable, we must divide up the variable range into equal size bins."
   ]
  },
  {
   "cell_type": "code",
   "execution_count": 21,
   "id": "6df46437",
   "metadata": {},
   "outputs": [
    {
     "data": {
      "text/plain": [
       "(-0.1, 10.0]       2\n",
       "(10.0, 20.0]       2\n",
       "(20.0, 30.0]      12\n",
       "(30.0, 40.0]      34\n",
       "(40.0, 50.0]     100\n",
       "(50.0, 60.0]     189\n",
       "(60.0, 70.0]     270\n",
       "(70.0, 80.0]     215\n",
       "(80.0, 90.0]     126\n",
       "(90.0, 100.0]     50\n",
       "Name: math score, dtype: int64"
      ]
     },
     "execution_count": 21,
     "metadata": {},
     "output_type": "execute_result"
    }
   ],
   "source": [
    "# Cut the variable range into 10 bins and calculate the count number for each bins\n",
    "binnedMathScore = pd.cut(df[\"math score\"], 10)\n",
    "binnedMathScore.value_counts().sort_index()"
   ]
  },
  {
   "cell_type": "code",
   "execution_count": 22,
   "id": "1ac5aa92",
   "metadata": {},
   "outputs": [
    {
     "name": "stdout",
     "output_type": "stream",
     "text": [
      "Frequency table for math score:\n"
     ]
    },
    {
     "data": {
      "text/html": [
       "<div>\n",
       "<style scoped>\n",
       "    .dataframe tbody tr th:only-of-type {\n",
       "        vertical-align: middle;\n",
       "    }\n",
       "\n",
       "    .dataframe tbody tr th {\n",
       "        vertical-align: top;\n",
       "    }\n",
       "\n",
       "    .dataframe thead th {\n",
       "        text-align: right;\n",
       "    }\n",
       "</style>\n",
       "<table border=\"1\" class=\"dataframe\">\n",
       "  <thead>\n",
       "    <tr style=\"text-align: right;\">\n",
       "      <th></th>\n",
       "      <th>BinRange</th>\n",
       "      <th>Count</th>\n",
       "    </tr>\n",
       "  </thead>\n",
       "  <tbody>\n",
       "    <tr>\n",
       "      <th>0</th>\n",
       "      <td>(-0.1, 10.0]</td>\n",
       "      <td>2</td>\n",
       "    </tr>\n",
       "    <tr>\n",
       "      <th>1</th>\n",
       "      <td>(10.0, 20.0]</td>\n",
       "      <td>2</td>\n",
       "    </tr>\n",
       "    <tr>\n",
       "      <th>2</th>\n",
       "      <td>(20.0, 30.0]</td>\n",
       "      <td>12</td>\n",
       "    </tr>\n",
       "    <tr>\n",
       "      <th>3</th>\n",
       "      <td>(30.0, 40.0]</td>\n",
       "      <td>34</td>\n",
       "    </tr>\n",
       "    <tr>\n",
       "      <th>4</th>\n",
       "      <td>(40.0, 50.0]</td>\n",
       "      <td>100</td>\n",
       "    </tr>\n",
       "    <tr>\n",
       "      <th>5</th>\n",
       "      <td>(50.0, 60.0]</td>\n",
       "      <td>189</td>\n",
       "    </tr>\n",
       "    <tr>\n",
       "      <th>6</th>\n",
       "      <td>(60.0, 70.0]</td>\n",
       "      <td>270</td>\n",
       "    </tr>\n",
       "    <tr>\n",
       "      <th>7</th>\n",
       "      <td>(70.0, 80.0]</td>\n",
       "      <td>215</td>\n",
       "    </tr>\n",
       "    <tr>\n",
       "      <th>8</th>\n",
       "      <td>(80.0, 90.0]</td>\n",
       "      <td>126</td>\n",
       "    </tr>\n",
       "    <tr>\n",
       "      <th>9</th>\n",
       "      <td>(90.0, 100.0]</td>\n",
       "      <td>50</td>\n",
       "    </tr>\n",
       "  </tbody>\n",
       "</table>\n",
       "</div>"
      ],
      "text/plain": [
       "        BinRange  Count\n",
       "0   (-0.1, 10.0]      2\n",
       "1   (10.0, 20.0]      2\n",
       "2   (20.0, 30.0]     12\n",
       "3   (30.0, 40.0]     34\n",
       "4   (40.0, 50.0]    100\n",
       "5   (50.0, 60.0]    189\n",
       "6   (60.0, 70.0]    270\n",
       "7   (70.0, 80.0]    215\n",
       "8   (80.0, 90.0]    126\n",
       "9  (90.0, 100.0]     50"
      ]
     },
     "execution_count": 22,
     "metadata": {},
     "output_type": "execute_result"
    }
   ],
   "source": [
    "# Generate a frequency table using data from above cell\n",
    "df_binnedMathScore = binnedMathScore.value_counts().sort_index().reset_index()\n",
    "df_binnedMathScore.columns = [\"BinRange\", \"Count\"]\n",
    "print(\"Frequency table for math score:\")\n",
    "df_binnedMathScore"
   ]
  },
  {
   "cell_type": "markdown",
   "id": "2f4ac727",
   "metadata": {},
   "source": [
    "#### Histogram<a name=\"4.1.5\"></a>"
   ]
  },
  {
   "cell_type": "markdown",
   "id": "a1598ea9",
   "metadata": {},
   "source": [
    "- Histogram is a way to visualize a frequency table. \n",
    "- It can be generated using `displot` function from `seaborn` library\n",
    "- The parameter `bins` is used to determine numbers of bins of the histogram."
   ]
  },
  {
   "cell_type": "code",
   "execution_count": 23,
   "id": "c40e08ac",
   "metadata": {},
   "outputs": [
    {
     "data": {
      "text/plain": [
       "<Figure size 432x288 with 0 Axes>"
      ]
     },
     "metadata": {},
     "output_type": "display_data"
    }
   ],
   "source": [
    "# TODO: plot histogram for math score\n",
    "\n",
    "plt.tight_layout()\n",
    "plt.show()"
   ]
  },
  {
   "cell_type": "markdown",
   "id": "b6cd2e96",
   "metadata": {},
   "source": [
    "We can notice that the distribution of the math score is slightly negatively skewed."
   ]
  },
  {
   "cell_type": "markdown",
   "id": "6634c819",
   "metadata": {},
   "source": [
    "#### Density Plots and Estimates<a name=\"4.1.6\"></a>"
   ]
  },
  {
   "cell_type": "markdown",
   "id": "ba64e3c0",
   "metadata": {},
   "source": [
    "- Density plot can be considered as a smoothed histogram, which is typically computed through kernel density estimation (KDE).\n",
    "- For density plot and histogram to be plotted together, we can use the `histplot` function from `seaborn` with parameter `kde` = `True`.\n",
    "- The parameter `bins` is used to determine numbers of bins of the histogram.\n",
    "- If you need only density plot, you may use `kdeplot` instead of `histplot`."
   ]
  },
  {
   "cell_type": "code",
   "execution_count": 24,
   "id": "49a3ae23",
   "metadata": {},
   "outputs": [
    {
     "data": {
      "image/png": "[encoded data removed]",
      "text/plain": [
       "<Figure size 360x288 with 1 Axes>"
      ]
     },
     "metadata": {
      "needs_background": "light"
     },
     "output_type": "display_data"
    }
   ],
   "source": [
    "fig, ax = plt.subplots(figsize=(5, 4))\n",
    "ax = sns.histplot(df[\"math score\"], kde=True, stat=\"density\", bins=10)\n",
    "ax.set(xlim=(0, 100), title=\"Density plot and histogram of math score\")\n",
    "\n",
    "plt.tight_layout()\n",
    "plt.show()"
   ]
  },
  {
   "cell_type": "code",
   "execution_count": 25,
   "id": "de2902db",
   "metadata": {
    "scrolled": true
   },
   "outputs": [
    {
     "data": {
      "image/png": "[encoded data removed]",
      "text/plain": [
       "<Figure size 360x288 with 1 Axes>"
      ]
     },
     "metadata": {
      "needs_background": "light"
     },
     "output_type": "display_data"
    }
   ],
   "source": [
    "fig, ax = plt.subplots(figsize=(5, 4))\n",
    "ax = sns.kdeplot(df[\"math score\"])\n",
    "ax.set(xlim=(0, 100), title=\"Density plot of math score\")\n",
    "\n",
    "plt.tight_layout()\n",
    "plt.show()"
   ]
  },
  {
   "cell_type": "markdown",
   "id": "399fc592",
   "metadata": {},
   "source": [
    "### Univariate Analysis: Binary and Categorical Variables<a name=\"4.2\"></a>"
   ]
  },
  {
   "cell_type": "markdown",
   "id": "ad496e65",
   "metadata": {},
   "source": [
    "For binary and categorical variables, we tend to focus on the frequency of each category for that particular variable."
   ]
  },
  {
   "cell_type": "markdown",
   "id": "4aa7a973",
   "metadata": {},
   "source": [
    "#### Mode<a name=\"4.2.1\"></a>"
   ]
  },
  {
   "cell_type": "markdown",
   "id": "310589e2",
   "metadata": {},
   "source": [
    "Indicate the category which has the maximum frequency for a particular variable"
   ]
  },
  {
   "cell_type": "code",
   "execution_count": 26,
   "id": "bdd5eb3f",
   "metadata": {},
   "outputs": [],
   "source": [
    "# TODO: Find the mode of race/ethnicity"
   ]
  },
  {
   "cell_type": "markdown",
   "id": "db9159a8",
   "metadata": {},
   "source": [
    "#### Bar Plot<a name=\"4.2.2\"></a>"
   ]
  },
  {
   "cell_type": "markdown",
   "id": "a9a1b500",
   "metadata": {},
   "source": [
    "- Visualize the frequency of each category of a selected variable.\n",
    "- Can be plotted using `catplot` function from `seaborn` where the parameter `kind`=`count`."
   ]
  },
  {
   "cell_type": "code",
   "execution_count": 27,
   "id": "ed927737",
   "metadata": {},
   "outputs": [
    {
     "data": {
      "text/plain": [
       "group A     89\n",
       "group B    190\n",
       "group C    319\n",
       "group D    262\n",
       "group E    140\n",
       "Name: race/ethnicity, dtype: int64"
      ]
     },
     "execution_count": 27,
     "metadata": {},
     "output_type": "execute_result"
    }
   ],
   "source": [
    "# Frequency of each category of race/ethnicity\n",
    "df[\"race/ethnicity\"].value_counts().sort_index()"
   ]
  },
  {
   "cell_type": "code",
   "execution_count": 28,
   "id": "7ce59ba5",
   "metadata": {},
   "outputs": [
    {
     "data": {
      "image/png": "[encoded data removed]",
      "text/plain": [
       "<Figure size 345.6x288 with 1 Axes>"
      ]
     },
     "metadata": {
      "needs_background": "light"
     },
     "output_type": "display_data"
    }
   ],
   "source": [
    "fig = sns.catplot(\n",
    "    data=df.sort_values(\"race/ethnicity\"),\n",
    "    x=\"race/ethnicity\",\n",
    "    kind=\"count\",\n",
    "    height=4,\n",
    "    aspect=1.2,\n",
    ")\n",
    "fig.set(title=\"Bar plot of number of students for each race/ethnicity\")\n",
    "plt.tight_layout()\n",
    "plt.show()"
   ]
  },
  {
   "cell_type": "markdown",
   "id": "d8643f1c",
   "metadata": {},
   "source": [
    "Besides **group C** is the **mode**, we can also interpret that **group A** has the **fewest count number**."
   ]
  },
  {
   "cell_type": "markdown",
   "id": "2830d9cd",
   "metadata": {},
   "source": [
    "### Multivariate  Analysis: Continuous Variables vs Continuous Variables<a name=\"4.3\"></a>"
   ]
  },
  {
   "cell_type": "markdown",
   "id": "71c2e637",
   "metadata": {},
   "source": [
    "#### Correlation and Correlation Matrix<a name=\"4.3.1\"></a>"
   ]
  },
  {
   "cell_type": "markdown",
   "id": "06f9c93a",
   "metadata": {},
   "source": [
    "- **Correlation** is the measure of how **two or more continuous variables** are ***linearly* related** to each other.\n",
    "- **Correlation coefficient** is the **metric** that measures the degree of correlation (usually ranges from -1 to +1).\n",
    "- **Correlation matrix** is a **table** that shows the **correlation coefficients** among the variables. "
   ]
  },
  {
   "cell_type": "markdown",
   "id": "ae203074",
   "metadata": {},
   "source": [
    "`corr` from `pandas` library is a straightforward function to generate correlation matrix. The default type of correlation coefficient is `pearson` . You may change it by specifying the parameter`method` = `spearman` or `kendall`."
   ]
  },
  {
   "cell_type": "code",
   "execution_count": 29,
   "id": "6ec74890",
   "metadata": {},
   "outputs": [
    {
     "data": {
      "text/html": [
       "<div>\n",
       "<style scoped>\n",
       "    .dataframe tbody tr th:only-of-type {\n",
       "        vertical-align: middle;\n",
       "    }\n",
       "\n",
       "    .dataframe tbody tr th {\n",
       "        vertical-align: top;\n",
       "    }\n",
       "\n",
       "    .dataframe thead th {\n",
       "        text-align: right;\n",
       "    }\n",
       "</style>\n",
       "<table border=\"1\" class=\"dataframe\">\n",
       "  <thead>\n",
       "    <tr style=\"text-align: right;\">\n",
       "      <th></th>\n",
       "      <th>math score</th>\n",
       "      <th>reading score</th>\n",
       "      <th>writing score</th>\n",
       "    </tr>\n",
       "  </thead>\n",
       "  <tbody>\n",
       "    <tr>\n",
       "      <th>math score</th>\n",
       "      <td>1.000000</td>\n",
       "      <td>0.817580</td>\n",
       "      <td>0.802642</td>\n",
       "    </tr>\n",
       "    <tr>\n",
       "      <th>reading score</th>\n",
       "      <td>0.817580</td>\n",
       "      <td>1.000000</td>\n",
       "      <td>0.954598</td>\n",
       "    </tr>\n",
       "    <tr>\n",
       "      <th>writing score</th>\n",
       "      <td>0.802642</td>\n",
       "      <td>0.954598</td>\n",
       "      <td>1.000000</td>\n",
       "    </tr>\n",
       "  </tbody>\n",
       "</table>\n",
       "</div>"
      ],
      "text/plain": [
       "               math score  reading score  writing score\n",
       "math score       1.000000       0.817580       0.802642\n",
       "reading score    0.817580       1.000000       0.954598\n",
       "writing score    0.802642       0.954598       1.000000"
      ]
     },
     "execution_count": 29,
     "metadata": {},
     "output_type": "execute_result"
    }
   ],
   "source": [
    "df.corr()"
   ]
  },
  {
   "cell_type": "code",
   "execution_count": 30,
   "id": "14281b46",
   "metadata": {},
   "outputs": [
    {
     "data": {
      "image/png": "[encoded data removed]",
      "text/plain": [
       "<Figure size 432x288 with 2 Axes>"
      ]
     },
     "metadata": {
      "needs_background": "light"
     },
     "output_type": "display_data"
    }
   ],
   "source": [
    "# Visualization of correlation matrix\n",
    "ax = sns.heatmap(\n",
    "    df.corr(),\n",
    "    vmin=-1,\n",
    "    vmax=1,\n",
    "    square=True,\n",
    "    linewidth=0.5,\n",
    "    cmap=\"coolwarm_r\",\n",
    "    annot=True,\n",
    ")\n",
    "ax.set_yticklabels(ax.get_yticklabels(), rotation=0)\n",
    "ax.set(title=\"Correlation matrix (Pearson's r)\")\n",
    "\n",
    "plt.tight_layout()\n",
    "plt.show()"
   ]
  },
  {
   "cell_type": "markdown",
   "id": "4f55bda8",
   "metadata": {},
   "source": [
    "#### Scatterplots<a name=\"4.3.2\"></a>"
   ]
  },
  {
   "cell_type": "markdown",
   "id": "f95e2b19",
   "metadata": {},
   "source": [
    "- Visualizes the relationships between two continuous variables.\n",
    "- The x-axis represents one variable and the y-axis represents another variable\n",
    "- `relplot` can be used to plot relationship between two selected variables.\n",
    "- `pairplot` is a convinient function to plot pairwise relationships for all continuous variables"
   ]
  },
  {
   "cell_type": "code",
   "execution_count": 31,
   "id": "019f2efb",
   "metadata": {},
   "outputs": [
    {
     "data": {
      "image/png": "[encoded data removed]",
      "text/plain": [
       "<Figure size 288x288 with 1 Axes>"
      ]
     },
     "metadata": {
      "needs_background": "light"
     },
     "output_type": "display_data"
    }
   ],
   "source": [
    "fig = sns.relplot(data=df, x=\"math score\", y=\"reading score\", height=4)\n",
    "fig.set(title=\"reading score against math score\")\n",
    "\n",
    "plt.tight_layout()\n",
    "plt.show()"
   ]
  },
  {
   "cell_type": "code",
   "execution_count": 32,
   "id": "9fbca053",
   "metadata": {
    "scrolled": true
   },
   "outputs": [
    {
     "data": {
      "image/png": "[encoded data removed]",
      "text/plain": [
       "<Figure size 540x540 with 12 Axes>"
      ]
     },
     "metadata": {
      "needs_background": "light"
     },
     "output_type": "display_data"
    }
   ],
   "source": [
    "fig = sns.pairplot(df)\n",
    "\n",
    "plt.tight_layout()\n",
    "plt.show()"
   ]
  },
  {
   "cell_type": "markdown",
   "id": "e41b0e51",
   "metadata": {},
   "source": [
    "We can observe that `math score`, `reading score` and `writing score` have strong positive correlations among each other."
   ]
  },
  {
   "cell_type": "markdown",
   "id": "d8389549",
   "metadata": {},
   "source": [
    "### Multivariate  Analysis: Categorical Variables vs Categorical Variables<a name=\"4.4\"></a>"
   ]
  },
  {
   "cell_type": "markdown",
   "id": "1932ac07",
   "metadata": {},
   "source": [
    "#### Contingency Table<a name=\"4.4.1\"></a>"
   ]
  },
  {
   "cell_type": "markdown",
   "id": "5fe563b6",
   "metadata": {},
   "source": [
    "- Also known as crosstab in `pandas`\n",
    "- By default computes a **frequency table** of the variables, can be changed to percentage by changing the parameter `normalize` to \n",
    "    - `True`(normalize over all values), \n",
    "    - `index`(normalize over each row) or \n",
    "    - `columns` (normalize over each column) \n",
    "- Can change the parameter `margins` to `True` to add subtotals for each row and column."
   ]
  },
  {
   "cell_type": "code",
   "execution_count": 33,
   "id": "395c0450",
   "metadata": {},
   "outputs": [
    {
     "data": {
      "text/html": [
       "<div>\n",
       "<style scoped>\n",
       "    .dataframe tbody tr th:only-of-type {\n",
       "        vertical-align: middle;\n",
       "    }\n",
       "\n",
       "    .dataframe tbody tr th {\n",
       "        vertical-align: top;\n",
       "    }\n",
       "\n",
       "    .dataframe thead th {\n",
       "        text-align: right;\n",
       "    }\n",
       "</style>\n",
       "<table border=\"1\" class=\"dataframe\">\n",
       "  <thead>\n",
       "    <tr style=\"text-align: right;\">\n",
       "      <th>race/ethnicity</th>\n",
       "      <th>group A</th>\n",
       "      <th>group B</th>\n",
       "      <th>group C</th>\n",
       "      <th>group D</th>\n",
       "      <th>group E</th>\n",
       "      <th>Total</th>\n",
       "    </tr>\n",
       "    <tr>\n",
       "      <th>gender</th>\n",
       "      <th></th>\n",
       "      <th></th>\n",
       "      <th></th>\n",
       "      <th></th>\n",
       "      <th></th>\n",
       "      <th></th>\n",
       "    </tr>\n",
       "  </thead>\n",
       "  <tbody>\n",
       "    <tr>\n",
       "      <th>female</th>\n",
       "      <td>0.036</td>\n",
       "      <td>0.104</td>\n",
       "      <td>0.180</td>\n",
       "      <td>0.129</td>\n",
       "      <td>0.069</td>\n",
       "      <td>0.518</td>\n",
       "    </tr>\n",
       "    <tr>\n",
       "      <th>male</th>\n",
       "      <td>0.053</td>\n",
       "      <td>0.086</td>\n",
       "      <td>0.139</td>\n",
       "      <td>0.133</td>\n",
       "      <td>0.071</td>\n",
       "      <td>0.482</td>\n",
       "    </tr>\n",
       "    <tr>\n",
       "      <th>Total</th>\n",
       "      <td>0.089</td>\n",
       "      <td>0.190</td>\n",
       "      <td>0.319</td>\n",
       "      <td>0.262</td>\n",
       "      <td>0.140</td>\n",
       "      <td>1.000</td>\n",
       "    </tr>\n",
       "  </tbody>\n",
       "</table>\n",
       "</div>"
      ],
      "text/plain": [
       "race/ethnicity  group A  group B  group C  group D  group E  Total\n",
       "gender                                                            \n",
       "female            0.036    0.104    0.180    0.129    0.069  0.518\n",
       "male              0.053    0.086    0.139    0.133    0.071  0.482\n",
       "Total             0.089    0.190    0.319    0.262    0.140  1.000"
      ]
     },
     "execution_count": 33,
     "metadata": {},
     "output_type": "execute_result"
    }
   ],
   "source": [
    "# 2-way table\n",
    "pd.crosstab(\n",
    "    df[\"gender\"],\n",
    "    df[\"race/ethnicity\"],\n",
    "    margins=True,\n",
    "    margins_name=\"Total\",\n",
    "    normalize=True,\n",
    ")"
   ]
  },
  {
   "cell_type": "code",
   "execution_count": 34,
   "id": "4b53c750",
   "metadata": {},
   "outputs": [
    {
     "data": {
      "text/html": [
       "<div>\n",
       "<style scoped>\n",
       "    .dataframe tbody tr th:only-of-type {\n",
       "        vertical-align: middle;\n",
       "    }\n",
       "\n",
       "    .dataframe tbody tr th {\n",
       "        vertical-align: top;\n",
       "    }\n",
       "\n",
       "    .dataframe thead tr th {\n",
       "        text-align: left;\n",
       "    }\n",
       "\n",
       "    .dataframe thead tr:last-of-type th {\n",
       "        text-align: right;\n",
       "    }\n",
       "</style>\n",
       "<table border=\"1\" class=\"dataframe\">\n",
       "  <thead>\n",
       "    <tr>\n",
       "      <th>gender</th>\n",
       "      <th colspan=\"5\" halign=\"left\">female</th>\n",
       "      <th colspan=\"5\" halign=\"left\">male</th>\n",
       "    </tr>\n",
       "    <tr>\n",
       "      <th>race/ethnicity</th>\n",
       "      <th>group A</th>\n",
       "      <th>group B</th>\n",
       "      <th>group C</th>\n",
       "      <th>group D</th>\n",
       "      <th>group E</th>\n",
       "      <th>group A</th>\n",
       "      <th>group B</th>\n",
       "      <th>group C</th>\n",
       "      <th>group D</th>\n",
       "      <th>group E</th>\n",
       "    </tr>\n",
       "    <tr>\n",
       "      <th>parental level of education</th>\n",
       "      <th></th>\n",
       "      <th></th>\n",
       "      <th></th>\n",
       "      <th></th>\n",
       "      <th></th>\n",
       "      <th></th>\n",
       "      <th></th>\n",
       "      <th></th>\n",
       "      <th></th>\n",
       "      <th></th>\n",
       "    </tr>\n",
       "  </thead>\n",
       "  <tbody>\n",
       "    <tr>\n",
       "      <th>associate's degree</th>\n",
       "      <td>6</td>\n",
       "      <td>23</td>\n",
       "      <td>45</td>\n",
       "      <td>24</td>\n",
       "      <td>18</td>\n",
       "      <td>8</td>\n",
       "      <td>18</td>\n",
       "      <td>33</td>\n",
       "      <td>26</td>\n",
       "      <td>21</td>\n",
       "    </tr>\n",
       "    <tr>\n",
       "      <th>bachelor's degree</th>\n",
       "      <td>3</td>\n",
       "      <td>11</td>\n",
       "      <td>26</td>\n",
       "      <td>13</td>\n",
       "      <td>10</td>\n",
       "      <td>9</td>\n",
       "      <td>9</td>\n",
       "      <td>14</td>\n",
       "      <td>15</td>\n",
       "      <td>8</td>\n",
       "    </tr>\n",
       "    <tr>\n",
       "      <th>high school</th>\n",
       "      <td>7</td>\n",
       "      <td>28</td>\n",
       "      <td>30</td>\n",
       "      <td>17</td>\n",
       "      <td>12</td>\n",
       "      <td>11</td>\n",
       "      <td>20</td>\n",
       "      <td>34</td>\n",
       "      <td>27</td>\n",
       "      <td>10</td>\n",
       "    </tr>\n",
       "    <tr>\n",
       "      <th>master's degree</th>\n",
       "      <td>2</td>\n",
       "      <td>5</td>\n",
       "      <td>7</td>\n",
       "      <td>15</td>\n",
       "      <td>7</td>\n",
       "      <td>1</td>\n",
       "      <td>1</td>\n",
       "      <td>12</td>\n",
       "      <td>8</td>\n",
       "      <td>1</td>\n",
       "    </tr>\n",
       "    <tr>\n",
       "      <th>some college</th>\n",
       "      <td>8</td>\n",
       "      <td>15</td>\n",
       "      <td>44</td>\n",
       "      <td>35</td>\n",
       "      <td>16</td>\n",
       "      <td>10</td>\n",
       "      <td>22</td>\n",
       "      <td>25</td>\n",
       "      <td>32</td>\n",
       "      <td>19</td>\n",
       "    </tr>\n",
       "    <tr>\n",
       "      <th>some high school</th>\n",
       "      <td>10</td>\n",
       "      <td>22</td>\n",
       "      <td>28</td>\n",
       "      <td>25</td>\n",
       "      <td>6</td>\n",
       "      <td>14</td>\n",
       "      <td>16</td>\n",
       "      <td>21</td>\n",
       "      <td>25</td>\n",
       "      <td>12</td>\n",
       "    </tr>\n",
       "  </tbody>\n",
       "</table>\n",
       "</div>"
      ],
      "text/plain": [
       "gender                       female                                    male  \\\n",
       "race/ethnicity              group A group B group C group D group E group A   \n",
       "parental level of education                                                   \n",
       "associate's degree                6      23      45      24      18       8   \n",
       "bachelor's degree                 3      11      26      13      10       9   \n",
       "high school                       7      28      30      17      12      11   \n",
       "master's degree                   2       5       7      15       7       1   \n",
       "some college                      8      15      44      35      16      10   \n",
       "some high school                 10      22      28      25       6      14   \n",
       "\n",
       "gender                                                       \n",
       "race/ethnicity              group B group C group D group E  \n",
       "parental level of education                                  \n",
       "associate's degree               18      33      26      21  \n",
       "bachelor's degree                 9      14      15       8  \n",
       "high school                      20      34      27      10  \n",
       "master's degree                   1      12       8       1  \n",
       "some college                     22      25      32      19  \n",
       "some high school                 16      21      25      12  "
      ]
     },
     "execution_count": 34,
     "metadata": {},
     "output_type": "execute_result"
    }
   ],
   "source": [
    "# 3-way table\n",
    "pd.crosstab(df[\"parental level of education\"], [df[\"gender\"], df[\"race/ethnicity\"]])"
   ]
  },
  {
   "cell_type": "markdown",
   "id": "a4bb603b",
   "metadata": {},
   "source": [
    "#### Side by Side Barplot<a name=\"4.4.2\"></a>"
   ]
  },
  {
   "cell_type": "markdown",
   "id": "a6d5d1e0",
   "metadata": {},
   "source": [
    "- Side by side barplot can be used to visualize the contingency table\n",
    "- Can be plotted using `catplot` function from `seaborn` where the parameter `kind`=`count`, and `hue` is specified as another categorical variable"
   ]
  },
  {
   "cell_type": "code",
   "execution_count": 35,
   "id": "b4099e04",
   "metadata": {},
   "outputs": [],
   "source": [
    "# TODO: Plot a side by side barplot of the 2-way contingency table above\n",
    "\n",
    "plt.show()"
   ]
  },
  {
   "cell_type": "markdown",
   "id": "e6e64fa9",
   "metadata": {},
   "source": [
    "We can notice that the students from this high school are mostly comprised of group C female and there are fewest number of group A female."
   ]
  },
  {
   "cell_type": "markdown",
   "id": "b515b3d0",
   "metadata": {},
   "source": [
    "### Multivariate  Analysis: Categorical vs Continuous Variables<a name=\"4.5\"></a>"
   ]
  },
  {
   "cell_type": "markdown",
   "id": "97bcad5a",
   "metadata": {},
   "source": [
    "#### Side by Side Boxplot<a name=\"4.5.1\"></a>"
   ]
  },
  {
   "cell_type": "markdown",
   "id": "c0c43941",
   "metadata": {},
   "source": [
    "- A straightforward way to compare the distributions of a continuous variable grouped by a categorical variable.\n",
    "- Can be plotted using `catplot` function from `seaborn` where the parameter `kind`=`box`"
   ]
  },
  {
   "cell_type": "code",
   "execution_count": 36,
   "id": "9a302174",
   "metadata": {},
   "outputs": [
    {
     "data": {
      "image/png": "[encoded data removed]",
      "text/plain": [
       "<Figure size 345.6x288 with 1 Axes>"
      ]
     },
     "metadata": {
      "needs_background": "light"
     },
     "output_type": "display_data"
    }
   ],
   "source": [
    "fig = sns.catplot(\n",
    "    data=df.sort_values(\"race/ethnicity\"),\n",
    "    x=\"race/ethnicity\",\n",
    "    y=\"math score\",\n",
    "    kind=\"box\",\n",
    "    height=4,\n",
    "    aspect=1.2,\n",
    ")\n",
    "plt.tight_layout()\n",
    "plt.show()"
   ]
  },
  {
   "cell_type": "markdown",
   "id": "1b13fab9",
   "metadata": {},
   "source": [
    "We can interpret that group E obtained the highest math score than other group in a general sense (by comparing the quartile/distribution)."
   ]
  },
  {
   "cell_type": "markdown",
   "id": "d41cea80",
   "metadata": {},
   "source": [
    "#### Violin Plot<a name=\"4.5.2\"></a>"
   ]
  },
  {
   "cell_type": "markdown",
   "id": "193ab974",
   "metadata": {},
   "source": [
    "- A combination of the boxplot with a density estimation plot\n",
    "- Can be plotted using `catplot` function from `seaborn` where the parameter `kind`=`violin`\n",
    "- The parameter `inner` is set as `quartile` to show the quartile (Q1, median, Q3) as horizontal dash lines"
   ]
  },
  {
   "cell_type": "code",
   "execution_count": 37,
   "id": "c09d6678",
   "metadata": {},
   "outputs": [
    {
     "data": {
      "image/png": "[encoded data removed]",
      "text/plain": [
       "<Figure size 360x360 with 1 Axes>"
      ]
     },
     "metadata": {
      "needs_background": "light"
     },
     "output_type": "display_data"
    }
   ],
   "source": [
    "ax = sns.catplot(\n",
    "    x=\"race/ethnicity\",\n",
    "    y=\"math score\",\n",
    "    kind=\"violin\",\n",
    "    cut=0,\n",
    "    inner=\"quartile\",\n",
    "    data=df.sort_values(\"race/ethnicity\"),\n",
    ")\n",
    "\n",
    "plt.tight_layout()\n",
    "plt.show()"
   ]
  },
  {
   "cell_type": "markdown",
   "id": "df3f1b6d",
   "metadata": {},
   "source": [
    "The plot shows a concentration in the distribution near 100 for group E."
   ]
  },
  {
   "cell_type": "markdown",
   "id": "6f519366",
   "metadata": {},
   "source": [
    "### Multivariate  Analysis: Multiple Categorical vs Continuous Variables<a name=\"4.6\"></a>"
   ]
  },
  {
   "cell_type": "markdown",
   "id": "542dd3a6",
   "metadata": {},
   "source": [
    "#### Facet Grid<a name=\"4.6.1\"></a>"
   ]
  },
  {
   "cell_type": "markdown",
   "id": "bce4f471",
   "metadata": {},
   "source": [
    "- Helps in visualizing distribution of one variable as well as the relationship between multiple variables separately within subsets of your dataset using multiple panels.\n",
    "- Can be drawn up to three dimensions − **row, col, and hue** (typically categorical variables).\n",
    "- For `seaborn` library, each of `relplot()`, `displot()`, `catplot()`, and `lmplot()` use Facet Grid internally."
   ]
  },
  {
   "cell_type": "code",
   "execution_count": 38,
   "id": "ce7825be",
   "metadata": {},
   "outputs": [
    {
     "data": {
      "image/png": "[encoded data removed]",
      "text/plain": [
       "<Figure size 358.5x288 with 1 Axes>"
      ]
     },
     "metadata": {
      "needs_background": "light"
     },
     "output_type": "display_data"
    }
   ],
   "source": [
    "# Example 1\n",
    "fig = sns.catplot(\n",
    "    x=\"race/ethnicity\",\n",
    "    y=\"math score\",\n",
    "    hue=\"gender\",\n",
    "    kind=\"box\",\n",
    "    data=df.sort_values(\"race/ethnicity\"),\n",
    "    height=4,\n",
    ")\n",
    "plt.show()"
   ]
  },
  {
   "cell_type": "code",
   "execution_count": 39,
   "id": "e8aec7dd",
   "metadata": {},
   "outputs": [],
   "source": [
    "# TODO: Try plot a Facet Grid using catplot()\n",
    "\n",
    "plt.show()"
   ]
  },
  {
   "cell_type": "code",
   "execution_count": 40,
   "id": "e88886f5",
   "metadata": {},
   "outputs": [],
   "source": [
    "# TODO: Try plot a Facet Grid using relplot()\n",
    "\n",
    "plt.show()"
   ]
  },
  {
   "cell_type": "markdown",
   "id": "3b983167",
   "metadata": {},
   "source": [
    "- We can also use `FacetGrid` function to form dimensions of the grid and then use `map` or `map_dataframe` to visualize data on this grid."
   ]
  },
  {
   "cell_type": "code",
   "execution_count": 41,
   "id": "b6e0fb3a",
   "metadata": {},
   "outputs": [
    {
     "data": {
      "image/png": "[encoded data removed]",
      "text/plain": [
       "<Figure size 648x1080 with 10 Axes>"
      ]
     },
     "metadata": {
      "needs_background": "light"
     },
     "output_type": "display_data"
    }
   ],
   "source": [
    "# Example 2\n",
    "g = sns.FacetGrid(\n",
    "    df.sort_values(\"race/ethnicity\"),\n",
    "    col=\"gender\",\n",
    "    row=\"race/ethnicity\",\n",
    "    height=3,\n",
    "    aspect=1.5,\n",
    "    margin_titles=True,\n",
    ")\n",
    "g.map(sns.histplot, \"math score\", bins=10)\n",
    "\n",
    "plt.tight_layout()\n",
    "plt.show()"
   ]
  },
  {
   "cell_type": "markdown",
   "id": "c029d1f1",
   "metadata": {},
   "source": [
    "#### Side by Side Histogram<a name=\"4.6.2\"></a>"
   ]
  },
  {
   "cell_type": "markdown",
   "id": "65fa321c",
   "metadata": {},
   "source": [
    "- It is possible to plot **two or more histograms** on **one set of axes** and **differentiate** them using different **colours**. \n",
    "- However, **legends** work a little bit differently in the distribution plots and it is **difficult** to **reposition** them. \n",
    "- Therefore, for our cases, we simply **override** the original legends with our own implemented legends. \n",
    "- For more details, you may refer to the [further discussion](#legend) below."
   ]
  },
  {
   "cell_type": "markdown",
   "id": "caadda2a",
   "metadata": {},
   "source": [
    "##### Example 1: Side by Side Histogram with multiple continuous variables"
   ]
  },
  {
   "cell_type": "markdown",
   "id": "b6be9373",
   "metadata": {},
   "source": [
    "- We can plot all the histogram needed side by side **in one go** by configuring `data` = dataframe containing all the needed continuous variables.\n",
    "- `binrange` is optional. By default, it will be a pair of lowest and highest value across all the continuous variables in the dataframe.\n",
    "- `alpha` is the transparency of the plots, ranging between 0 - 1.\n",
    "- `element` is set to `step` to make it easier to see the shapes of histograms. "
   ]
  },
  {
   "cell_type": "code",
   "execution_count": 42,
   "id": "b8f5301e",
   "metadata": {},
   "outputs": [
    {
     "data": {
      "image/png": "[encoded data removed]",
      "text/plain": [
       "<Figure size 432x288 with 1 Axes>"
      ]
     },
     "metadata": {
      "needs_background": "light"
     },
     "output_type": "display_data"
    }
   ],
   "source": [
    "# Approach 1\n",
    "features = [\"reading score\", \"writing score\"]\n",
    "ax = sns.histplot(\n",
    "    data=df[features],\n",
    "    bins=10,\n",
    "    binrange=(0, 100),\n",
    "    alpha=0.1,\n",
    "    element=\"step\",\n",
    ")\n",
    "ax.set(xlim=(0, 100), title=\"Histogram of various scores\")\n",
    "## Uncomment the next line of code to change the location of legend\n",
    "# ax.legend(loc=\"upper left\", labels=features)\n",
    "plt.tight_layout()\n",
    "plt.show()"
   ]
  },
  {
   "cell_type": "markdown",
   "id": "848a4456",
   "metadata": {},
   "source": [
    "- This approach is to plot the histograms **one by one** on the same axes using loops.\n",
    "- `binrange` is configured if you want to have constant bin range across all the continuous variables, else each variable has its own bin range.\n",
    "- `label` for each variable is configured in `sns.histplot` instead of `ax.legend`."
   ]
  },
  {
   "cell_type": "code",
   "execution_count": 43,
   "id": "21426bdc",
   "metadata": {},
   "outputs": [
    {
     "data": {
      "image/png": "[encoded data removed]",
      "text/plain": [
       "<Figure size 432x288 with 1 Axes>"
      ]
     },
     "metadata": {
      "needs_background": "light"
     },
     "output_type": "display_data"
    }
   ],
   "source": [
    "# Approach 2\n",
    "features = [\"reading score\", \"writing score\"]\n",
    "fig, ax = plt.subplots()\n",
    "for i in range(len(features)):\n",
    "    ax = sns.histplot(\n",
    "        data=df,\n",
    "        x=features[i],\n",
    "        bins=10,\n",
    "        binrange=(0, 100),\n",
    "        color=\"C{}\".format(i),\n",
    "        alpha=0.1,\n",
    "        element=\"step\",\n",
    "        label=features[i],\n",
    "        ax=ax,\n",
    "    )\n",
    "ax.set(xlim=(0, 100), title=\"Histogram of various scores\")\n",
    "ax.legend(loc=\"upper left\")\n",
    "\n",
    "plt.tight_layout()\n",
    "plt.show()"
   ]
  },
  {
   "cell_type": "markdown",
   "id": "ec083326",
   "metadata": {},
   "source": [
    "If you prefer to have non-overlapping histograms, you may use `hist()` from `matplotlib.pyplot` instead of `seaborn`."
   ]
  },
  {
   "cell_type": "code",
   "execution_count": 44,
   "id": "5f5cb87d",
   "metadata": {},
   "outputs": [
    {
     "data": {
      "image/png": "[encoded data removed]",
      "text/plain": [
       "<Figure size 360x288 with 1 Axes>"
      ]
     },
     "metadata": {
      "needs_background": "light"
     },
     "output_type": "display_data"
    }
   ],
   "source": [
    "# Approach 3\n",
    "features = [\"reading score\", \"writing score\"]\n",
    "fig, ax = plt.subplots(figsize=(5, 4))\n",
    "ax.hist(df[features], bins=10, label=features)\n",
    "ax.set(xlim=(0, 100), title=\"Histogram of various scores\")\n",
    "ax.legend()\n",
    "\n",
    "plt.tight_layout()\n",
    "plt.show()"
   ]
  },
  {
   "cell_type": "markdown",
   "id": "1dc420cb",
   "metadata": {},
   "source": [
    "##### Example 2: Side by Side Histogram with one continuous variable grouped by one categorical variable"
   ]
  },
  {
   "cell_type": "markdown",
   "id": "ece3ea1e",
   "metadata": {},
   "source": [
    "- We can plot multiple histograms of a continuous variable which categorized by a categorical variable side by side, by configuring the `hue` as that categorical variable in `sns.histplot`.\n",
    "- We also need to configure `hue_order` as the sorted list of unique values of the categorical variable to have a neat legend."
   ]
  },
  {
   "cell_type": "code",
   "execution_count": 45,
   "id": "f608471c",
   "metadata": {},
   "outputs": [
    {
     "data": {
      "image/png": "[encoded data removed]",
      "text/plain": [
       "<Figure size 432x288 with 1 Axes>"
      ]
     },
     "metadata": {
      "needs_background": "light"
     },
     "output_type": "display_data"
    }
   ],
   "source": [
    "# Without moving legend (which blocks the plot)\n",
    "ax = sns.histplot(\n",
    "    data=df,\n",
    "    x=\"math score\",\n",
    "    hue=\"race/ethnicity\",\n",
    "    hue_order=sorted(df[\"race/ethnicity\"].unique()),\n",
    "    bins=10,\n",
    "    alpha=0.1,\n",
    "    element=\"step\",\n",
    ")\n",
    "ax.set(xlim=(0, 100), title=\"Histogram of math scores categorized by race/ethnicity\")\n",
    "\n",
    "plt.tight_layout()\n",
    "plt.show()"
   ]
  },
  {
   "cell_type": "markdown",
   "id": "0a423f70",
   "metadata": {},
   "source": [
    "- To override and reposition the legend, we setup the parameter `labels` for `ax.legend()`. In order to have a neat legend we should sort it.\n",
    "- We also need to configure `hue_order` for `sns.histplot()` to have it tallies with the legends configured above. For some reasons it have to be the opposite ordering to the `labels` in the `ax.legend()`. You may verify it by changing the `reverse` to `False` and compared with the histogram above."
   ]
  },
  {
   "cell_type": "code",
   "execution_count": 46,
   "id": "78277dd3",
   "metadata": {},
   "outputs": [
    {
     "name": "stderr",
     "output_type": "stream",
     "text": [
      "No handles with labels found to put in legend.\n"
     ]
    },
    {
     "data": {
      "image/png": "[encoded data removed]",
      "text/plain": [
       "<Figure size 432x288 with 1 Axes>"
      ]
     },
     "metadata": {
      "needs_background": "light"
     },
     "output_type": "display_data"
    }
   ],
   "source": [
    "# TODO: Try to reposition legend to upper left\n",
    "ax = sns.histplot(\n",
    "    data=df,\n",
    "    x=\"math score\",\n",
    "    hue=\"race/ethnicity\",\n",
    "    hue_order=sorted(df[\"race/ethnicity\"].unique(), reverse=True),\n",
    "    bins=10,\n",
    "    alpha=0.1,\n",
    "    element=\"step\",\n",
    ")\n",
    "ax.set(xlim=(0, 100), title=\"Histogram of math scores categorized by race/ethnicity\")\n",
    "ax.legend(\n",
    "    # Some codes\n",
    ")\n",
    "\n",
    "plt.tight_layout()\n",
    "plt.show()"
   ]
  },
  {
   "cell_type": "markdown",
   "id": "84eea648",
   "metadata": {},
   "source": [
    "If you prefer to have non-overlapping histograms, you may configure `element=bars` and `multiple=dodge` in `sns.histplot`."
   ]
  },
  {
   "cell_type": "code",
   "execution_count": 47,
   "id": "80be7319",
   "metadata": {},
   "outputs": [
    {
     "data": {
      "text/plain": [
       "<Figure size 432x288 with 0 Axes>"
      ]
     },
     "metadata": {},
     "output_type": "display_data"
    }
   ],
   "source": [
    "# TODO: Plot non-overlapping histograms (not need to reposition legend)\n",
    "\n",
    "plt.tight_layout()\n",
    "plt.show()"
   ]
  },
  {
   "cell_type": "markdown",
   "id": "4c77320e",
   "metadata": {},
   "source": [
    "###### Further discussion on `sns.histplot` legend <a name=\"legend\"></a>"
   ]
  },
  {
   "cell_type": "code",
   "execution_count": 48,
   "id": "b5c9dd15",
   "metadata": {},
   "outputs": [
    {
     "data": {
      "text/plain": [
       "'0.11.1'"
      ]
     },
     "execution_count": 48,
     "metadata": {},
     "output_type": "execute_result"
    }
   ],
   "source": [
    "sns.__version__"
   ]
  },
  {
   "cell_type": "markdown",
   "id": "cd8ea3f1",
   "metadata": {},
   "source": [
    "Here are some official discussion on `sns.histplot` legend:\n",
    "- [Notes on ongoing legend challenges](https://github.com/mwaskom/seaborn/issues/2231)\n",
    "- [Not clear how to reposition seaborn.histplot legend](https://github.com/mwaskom/seaborn/issues/2280)\n",
    "\n",
    "And the developers of `seaborn` have implemented a new feature `move_legend` convenience function for repositioning the legend at [`v0.11.2`](https://github.com/mwaskom/seaborn/releases/tag/v0.11.2). You may have a try on it if you have updated `seaborn` to that version and above."
   ]
  },
  {
   "cell_type": "markdown",
   "id": "d1ff658f",
   "metadata": {},
   "source": [
    "## References<a name=\"5.0\"></a>\n",
    "1. https://github.com/gedeck/practical-statistics-for-data-scientists/blob/master/python/notebooks/Chapter%201%20-%20Exploratory%20Data%20Analysis.ipynb\n",
    "2. https://github.com/nitinkaushik01/Data_Science_Bootcamp/blob/master/Uni-Variate_and_Bi-Variate_Analysis_Various_Techniques.ipynb\n",
    "3. https://www.kaggle.com/spscientist/students-performance-in-exams (data source)"
   ]
  }
 ],
 "metadata": {
  "kernelspec": {
   "display_name": "cdle",
   "language": "python",
   "name": "cdle"
  },
  "language_info": {
   "codemirror_mode": {
    "name": "ipython",
    "version": 3
   },
   "file_extension": ".py",
   "mimetype": "text/x-python",
   "name": "python",
   "nbconvert_exporter": "python",
   "pygments_lexer": "ipython3",
   "version": "3.7.3"
  }
 },
 "nbformat": 4,
 "nbformat_minor": 5
}
