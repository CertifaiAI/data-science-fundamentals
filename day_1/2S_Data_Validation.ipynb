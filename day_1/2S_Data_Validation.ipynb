{
 "cells": [
  {
   "cell_type": "markdown",
   "metadata": {},
   "source": [
    "![license_header_logo](https://user-images.githubusercontent.com/59526258/124226124-27125b80-db3b-11eb-8ba1-488d88018ebb.png)\n",
    "> **Copyright (c) 2021 CertifAI Sdn. Bhd.**<br>\n",
    " <br>\n",
    "This program is part of OSRFramework. You can redistribute it and/or modify\n",
    "<br>it under the terms of the GNU Affero General Public License as published by\n",
    "<br>the Free Software Foundation, either version 3 of the License, or\n",
    "<br>(at your option) any later version.\n",
    "<br>\n",
    "<br>This program is distributed in the hope that it will be useful,\n",
    "<br>but WITHOUT ANY WARRANTY; without even the implied warranty of\n",
    "<br>MERCHANTABILITY or FITNESS FOR A PARTICULAR PURPOSE.  See the\n",
    "<br>GNU Affero General Public License for more details.\n",
    "<br>\n",
    "<br>You should have received a copy of the GNU Affero General Public License\n",
    "<br>along with this program.  If not, see <http://www.gnu.org/licenses/>.\n",
    "<br>"
   ]
  },
  {
   "cell_type": "markdown",
   "metadata": {},
   "source": [
    "## Introduction\n",
    "In this tutorial, we will learn on how to automate data validation by using some of the pre-built packages.<br>\n",
    "\n",
    "Spending multiple hour a day and figure out that data came through was incorrect for whatever reasons can be relieving but frustrating at the same time. There are many reasons to have incorrect data such as text introduced as integer, an integer is probably an outlier or worse-case scenario if entire specific column was not received in the data feed.<br>\n",
    "\n",
    "At the end of this tutorial, you should be able to:\n",
    "1. Automate data validation in your project\n",
    "2. Able to handle issues regarding data type, data format and etc.\n",
    "3. Detect which of column of your dataset give errors\n",
    "\n",
    "## Data Validation Packages : Pandera\n",
    "`pandera` is a statistical data validation library for `pandas` data structures. `pandera`provides a versatile and expressive API for performing data validation on tidy (long-form) and wide data to make data processing pipelines more readable and robust.<br>\n",
    "\n",
    "More information can be retrieved <a href=https://pandera.readthedocs.io/en/stable/>here</a>.\n",
    "\n",
    "## Table of Content\n",
    "* [Data Type and Data Format](#typeformat)\n",
    "* [Data Duplication](#duplicate)\n",
    "* [Exercise ](#exercise)"
   ]
  },
  {
   "cell_type": "code",
   "execution_count": 1,
   "metadata": {},
   "outputs": [],
   "source": [
    "# import libraries\n",
    "import pandas as pd\n",
    "import pandera as pa\n",
    "from pandera.errors import SchemaError\n",
    "import numpy as np"
   ]
  },
  {
   "cell_type": "code",
   "execution_count": 2,
   "metadata": {},
   "outputs": [],
   "source": [
    "# Create dataframe\n",
    "df = pd.DataFrame({\n",
    "    \"Student ID\": [101, 102, 103, 104, 105, 106, 107, 107, 108, 109],\n",
    "    \"Gender\" : [\"F\", np.nan, \"M\", \"M\", np.nan, \"M\", \"F\", \"F\", \"M\", \"F\"],\n",
    "    \"Grade\" : [54, 85, -15, 20, 60, 96, 84, 84, -25, 17],\n",
    "    \"Student fee\" : [1320.0, 1450.0, 1200.0, 3200.50, 2500.0, 1785.5, 3100.2, 3100.2, 1540.0, 1630.0],\n",
    "    \"Date joined\": pd.to_datetime([\"12/01/2021\", \"02/01/2021\", \"02/02/2021\", \"07/02/2021\", \"28/12/2020\", \n",
    "                    \"07/01/2021\", \"20/11/2019\", \"20/11/2019\", \"01/02/2021\", \"23/01/2021\"], format=\"%d/%m/%Y\")\n",
    "})"
   ]
  },
  {
   "cell_type": "code",
   "execution_count": 3,
   "metadata": {},
   "outputs": [
    {
     "data": {
      "text/html": [
       "<div>\n",
       "<style scoped>\n",
       "    .dataframe tbody tr th:only-of-type {\n",
       "        vertical-align: middle;\n",
       "    }\n",
       "\n",
       "    .dataframe tbody tr th {\n",
       "        vertical-align: top;\n",
       "    }\n",
       "\n",
       "    .dataframe thead th {\n",
       "        text-align: right;\n",
       "    }\n",
       "</style>\n",
       "<table border=\"1\" class=\"dataframe\">\n",
       "  <thead>\n",
       "    <tr style=\"text-align: right;\">\n",
       "      <th></th>\n",
       "      <th>Student ID</th>\n",
       "      <th>Gender</th>\n",
       "      <th>Grade</th>\n",
       "      <th>Student fee</th>\n",
       "      <th>Date joined</th>\n",
       "    </tr>\n",
       "  </thead>\n",
       "  <tbody>\n",
       "    <tr>\n",
       "      <th>0</th>\n",
       "      <td>101</td>\n",
       "      <td>F</td>\n",
       "      <td>54</td>\n",
       "      <td>1320.0</td>\n",
       "      <td>2021-01-12</td>\n",
       "    </tr>\n",
       "    <tr>\n",
       "      <th>1</th>\n",
       "      <td>102</td>\n",
       "      <td>NaN</td>\n",
       "      <td>85</td>\n",
       "      <td>1450.0</td>\n",
       "      <td>2021-01-02</td>\n",
       "    </tr>\n",
       "    <tr>\n",
       "      <th>2</th>\n",
       "      <td>103</td>\n",
       "      <td>M</td>\n",
       "      <td>-15</td>\n",
       "      <td>1200.0</td>\n",
       "      <td>2021-02-02</td>\n",
       "    </tr>\n",
       "    <tr>\n",
       "      <th>3</th>\n",
       "      <td>104</td>\n",
       "      <td>M</td>\n",
       "      <td>20</td>\n",
       "      <td>3200.5</td>\n",
       "      <td>2021-02-07</td>\n",
       "    </tr>\n",
       "    <tr>\n",
       "      <th>4</th>\n",
       "      <td>105</td>\n",
       "      <td>NaN</td>\n",
       "      <td>60</td>\n",
       "      <td>2500.0</td>\n",
       "      <td>2020-12-28</td>\n",
       "    </tr>\n",
       "    <tr>\n",
       "      <th>5</th>\n",
       "      <td>106</td>\n",
       "      <td>M</td>\n",
       "      <td>96</td>\n",
       "      <td>1785.5</td>\n",
       "      <td>2021-01-07</td>\n",
       "    </tr>\n",
       "    <tr>\n",
       "      <th>6</th>\n",
       "      <td>107</td>\n",
       "      <td>F</td>\n",
       "      <td>84</td>\n",
       "      <td>3100.2</td>\n",
       "      <td>2019-11-20</td>\n",
       "    </tr>\n",
       "    <tr>\n",
       "      <th>7</th>\n",
       "      <td>107</td>\n",
       "      <td>F</td>\n",
       "      <td>84</td>\n",
       "      <td>3100.2</td>\n",
       "      <td>2019-11-20</td>\n",
       "    </tr>\n",
       "    <tr>\n",
       "      <th>8</th>\n",
       "      <td>108</td>\n",
       "      <td>M</td>\n",
       "      <td>-25</td>\n",
       "      <td>1540.0</td>\n",
       "      <td>2021-02-01</td>\n",
       "    </tr>\n",
       "    <tr>\n",
       "      <th>9</th>\n",
       "      <td>109</td>\n",
       "      <td>F</td>\n",
       "      <td>17</td>\n",
       "      <td>1630.0</td>\n",
       "      <td>2021-01-23</td>\n",
       "    </tr>\n",
       "  </tbody>\n",
       "</table>\n",
       "</div>"
      ],
      "text/plain": [
       "   Student ID Gender  Grade  Student fee Date joined\n",
       "0         101      F     54       1320.0  2021-01-12\n",
       "1         102    NaN     85       1450.0  2021-01-02\n",
       "2         103      M    -15       1200.0  2021-02-02\n",
       "3         104      M     20       3200.5  2021-02-07\n",
       "4         105    NaN     60       2500.0  2020-12-28\n",
       "5         106      M     96       1785.5  2021-01-07\n",
       "6         107      F     84       3100.2  2019-11-20\n",
       "7         107      F     84       3100.2  2019-11-20\n",
       "8         108      M    -25       1540.0  2021-02-01\n",
       "9         109      F     17       1630.0  2021-01-23"
      ]
     },
     "execution_count": 3,
     "metadata": {},
     "output_type": "execute_result"
    }
   ],
   "source": [
    "df.head(10)"
   ]
  },
  {
   "cell_type": "code",
   "execution_count": 4,
   "metadata": {},
   "outputs": [
    {
     "data": {
      "text/plain": [
       "Student ID              int64\n",
       "Gender                 object\n",
       "Grade                   int64\n",
       "Student fee           float64\n",
       "Date joined    datetime64[ns]\n",
       "dtype: object"
      ]
     },
     "execution_count": 4,
     "metadata": {},
     "output_type": "execute_result"
    }
   ],
   "source": [
    "df.dtypes"
   ]
  },
  {
   "cell_type": "markdown",
   "metadata": {},
   "source": [
    "## <a name=\"typeformat\">Data Type and Data Format\n",
    "Here we check if our data format fit with the schema that we provided below."
   ]
  },
  {
   "cell_type": "code",
   "execution_count": 5,
   "metadata": {},
   "outputs": [],
   "source": [
    "# Define schema\n",
    "schema = pa.DataFrameSchema({\n",
    "    \"Student ID\" : pa.Column(int, nullable=False),\n",
    "    \"Gender\" : pa.Column(str, checks=pa.Check(lambda x: x.isin([\"M\", \"F\"])), nullable=True),\n",
    "    \"Grade\" : pa.Column(int, checks=pa.Check.greater_than(0)),\n",
    "    \"Student fee\" : pa.Column(float, checks=pa.Check.in_range(0.0, 3500.00)),\n",
    "    \"Date joined\" : pa.Column(pa.DateTime, checks=pa.Check.greater_than_or_equal_to(\"2021-01-01\"))\n",
    "})"
   ]
  },
  {
   "cell_type": "code",
   "execution_count": 6,
   "metadata": {
    "scrolled": true
   },
   "outputs": [
    {
     "ename": "SchemaErrors",
     "evalue": "A total of 2 schema errors were found.\n\nError Counts\n------------\n- schema_component_check: 2\n\nSchema Error Summary\n--------------------\n                                                                                              failure_cases  n_failure_cases\nschema_context column      check                                                                                            \nColumn         Date joined greater_than_or_equal_to(2021-01-01)  [2020-12-28 00:00:00, 2019-11-20 00:00:00]                2\n               Grade       greater_than(0)                                                       [-15, -25]                2\n\nUsage Tip\n---------\n\nDirectly inspect all errors by catching the exception:\n\n```\ntry:\n    schema.validate(dataframe, lazy=True)\nexcept SchemaErrors as err:\n    err.failure_cases  # dataframe of schema errors\n    err.data  # invalid dataframe\n```\n",
     "output_type": "error",
     "traceback": [
      "\u001b[1;31m---------------------------------------------------------------------------\u001b[0m",
      "\u001b[1;31mSchemaErrors\u001b[0m                              Traceback (most recent call last)",
      "\u001b[1;32m<ipython-input-6-f6ae10d7ea6a>\u001b[0m in \u001b[0;36m<module>\u001b[1;34m\u001b[0m\n\u001b[1;32m----> 1\u001b[1;33m \u001b[0mschema\u001b[0m\u001b[1;33m.\u001b[0m\u001b[0mvalidate\u001b[0m\u001b[1;33m(\u001b[0m\u001b[0mdf\u001b[0m\u001b[1;33m,\u001b[0m \u001b[0mlazy\u001b[0m\u001b[1;33m=\u001b[0m\u001b[1;32mTrue\u001b[0m\u001b[1;33m)\u001b[0m\u001b[1;33m\u001b[0m\u001b[1;33m\u001b[0m\u001b[0m\n\u001b[0m",
      "\u001b[1;32mc:\\anaconda\\envs\\machine\\lib\\site-packages\\pandera\\schemas.py\u001b[0m in \u001b[0;36mvalidate\u001b[1;34m(self, check_obj, head, tail, sample, random_state, lazy, inplace)\u001b[0m\n\u001b[0;32m    653\u001b[0m         \u001b[1;32mif\u001b[0m \u001b[0mlazy\u001b[0m \u001b[1;32mand\u001b[0m \u001b[0merror_handler\u001b[0m\u001b[1;33m.\u001b[0m\u001b[0mcollected_errors\u001b[0m\u001b[1;33m:\u001b[0m\u001b[1;33m\u001b[0m\u001b[1;33m\u001b[0m\u001b[0m\n\u001b[0;32m    654\u001b[0m             raise errors.SchemaErrors(\n\u001b[1;32m--> 655\u001b[1;33m                 \u001b[0merror_handler\u001b[0m\u001b[1;33m.\u001b[0m\u001b[0mcollected_errors\u001b[0m\u001b[1;33m,\u001b[0m \u001b[0mcheck_obj\u001b[0m\u001b[1;33m\u001b[0m\u001b[1;33m\u001b[0m\u001b[0m\n\u001b[0m\u001b[0;32m    656\u001b[0m             )\n\u001b[0;32m    657\u001b[0m \u001b[1;33m\u001b[0m\u001b[0m\n",
      "\u001b[1;31mSchemaErrors\u001b[0m: A total of 2 schema errors were found.\n\nError Counts\n------------\n- schema_component_check: 2\n\nSchema Error Summary\n--------------------\n                                                                                              failure_cases  n_failure_cases\nschema_context column      check                                                                                            \nColumn         Date joined greater_than_or_equal_to(2021-01-01)  [2020-12-28 00:00:00, 2019-11-20 00:00:00]                2\n               Grade       greater_than(0)                                                       [-15, -25]                2\n\nUsage Tip\n---------\n\nDirectly inspect all errors by catching the exception:\n\n```\ntry:\n    schema.validate(dataframe, lazy=True)\nexcept SchemaErrors as err:\n    err.failure_cases  # dataframe of schema errors\n    err.data  # invalid dataframe\n```\n"
     ]
    }
   ],
   "source": [
    "schema.validate(df, lazy=True)"
   ]
  },
  {
   "cell_type": "markdown",
   "metadata": {},
   "source": [
    "<b>lazy=True</b> is used to display in details what errors as shown above."
   ]
  },
  {
   "cell_type": "code",
   "execution_count": 7,
   "metadata": {},
   "outputs": [
    {
     "name": "stdout",
     "output_type": "stream",
     "text": [
      "Failed check: <Check greater_than: greater_than(0)>\n",
      "\n",
      "Invalidated dataframe:\n",
      "    Student ID Gender  Grade  Student fee Date joined\n",
      "0         101      F     54       1320.0  2021-01-12\n",
      "1         102    NaN     85       1450.0  2021-01-02\n",
      "2         103      M    -15       1200.0  2021-02-02\n",
      "3         104      M     20       3200.5  2021-02-07\n",
      "4         105    NaN     60       2500.0  2020-12-28\n",
      "5         106      M     96       1785.5  2021-01-07\n",
      "6         107      F     84       3100.2  2019-11-20\n",
      "7         107      F     84       3100.2  2019-11-20\n",
      "8         108      M    -25       1540.0  2021-02-01\n",
      "9         109      F     17       1630.0  2021-01-23\n",
      "\n",
      "Failure cases:\n",
      "    index  failure_case\n",
      "0      2           -15\n",
      "1      8           -25\n"
     ]
    }
   ],
   "source": [
    "# Display error\n",
    "try:\n",
    "    schema(df)\n",
    "except SchemaError as e:\n",
    "    print(\"Failed check:\", e.check)\n",
    "    print(\"\\nInvalidated dataframe:\\n\", e.data)\n",
    "    print(\"\\nFailure cases:\\n\", e.failure_cases)"
   ]
  },
  {
   "cell_type": "markdown",
   "metadata": {},
   "source": [
    "Catch the exception using try...except pattern to access the data and failure cases as attributes in `SchemaError` object."
   ]
  },
  {
   "cell_type": "markdown",
   "metadata": {},
   "source": [
    "## <a name=\"duplicate\">Data Duplication\n",
    "Question: How can we tell whether we have duplicate values in our dataset? "
   ]
  },
  {
   "cell_type": "code",
   "execution_count": 8,
   "metadata": {},
   "outputs": [],
   "source": [
    "schema_duplicate = pa.DataFrameSchema({\n",
    "    \"Student ID\" : pa.Column(int)\n",
    "    },\n",
    "    unique=[\"Student ID\"])"
   ]
  },
  {
   "cell_type": "code",
   "execution_count": 9,
   "metadata": {},
   "outputs": [
    {
     "ename": "SchemaError",
     "evalue": "columns '('Student ID',)' not unique:\n       column  index  failure_case\n0  Student ID      6           107\n1  Student ID      7           107",
     "output_type": "error",
     "traceback": [
      "\u001b[1;31m---------------------------------------------------------------------------\u001b[0m",
      "\u001b[1;31mSchemaError\u001b[0m                               Traceback (most recent call last)",
      "\u001b[1;32m<ipython-input-9-f8f8cdcc835d>\u001b[0m in \u001b[0;36m<module>\u001b[1;34m\u001b[0m\n\u001b[1;32m----> 1\u001b[1;33m \u001b[0mschema_duplicate\u001b[0m\u001b[1;33m.\u001b[0m\u001b[0mvalidate\u001b[0m\u001b[1;33m(\u001b[0m\u001b[0mdf\u001b[0m\u001b[1;33m)\u001b[0m\u001b[1;33m\u001b[0m\u001b[1;33m\u001b[0m\u001b[0m\n\u001b[0m",
      "\u001b[1;32mc:\\anaconda\\envs\\machine\\lib\\site-packages\\pandera\\schemas.py\u001b[0m in \u001b[0;36mvalidate\u001b[1;34m(self, check_obj, head, tail, sample, random_state, lazy, inplace)\u001b[0m\n\u001b[0;32m    647\u001b[0m                             \u001b[1;34mf\"columns '{*lst,}' not unique:\\n{failure_cases}\"\u001b[0m\u001b[1;33m,\u001b[0m\u001b[1;33m\u001b[0m\u001b[1;33m\u001b[0m\u001b[0m\n\u001b[0;32m    648\u001b[0m                             \u001b[0mfailure_cases\u001b[0m\u001b[1;33m=\u001b[0m\u001b[0mfailure_cases\u001b[0m\u001b[1;33m,\u001b[0m\u001b[1;33m\u001b[0m\u001b[1;33m\u001b[0m\u001b[0m\n\u001b[1;32m--> 649\u001b[1;33m                             \u001b[0mcheck\u001b[0m\u001b[1;33m=\u001b[0m\u001b[1;34m\"multiple_fields_uniqueness\"\u001b[0m\u001b[1;33m,\u001b[0m\u001b[1;33m\u001b[0m\u001b[1;33m\u001b[0m\u001b[0m\n\u001b[0m\u001b[0;32m    650\u001b[0m                         ),\n\u001b[0;32m    651\u001b[0m                     )\n",
      "\u001b[1;32mc:\\anaconda\\envs\\machine\\lib\\site-packages\\pandera\\error_handlers.py\u001b[0m in \u001b[0;36mcollect_error\u001b[1;34m(self, reason_code, schema_error, original_exc)\u001b[0m\n\u001b[0;32m     30\u001b[0m         \"\"\"\n\u001b[0;32m     31\u001b[0m         \u001b[1;32mif\u001b[0m \u001b[1;32mnot\u001b[0m \u001b[0mself\u001b[0m\u001b[1;33m.\u001b[0m\u001b[0m_lazy\u001b[0m\u001b[1;33m:\u001b[0m\u001b[1;33m\u001b[0m\u001b[1;33m\u001b[0m\u001b[0m\n\u001b[1;32m---> 32\u001b[1;33m             \u001b[1;32mraise\u001b[0m \u001b[0mschema_error\u001b[0m \u001b[1;32mfrom\u001b[0m \u001b[0moriginal_exc\u001b[0m\u001b[1;33m\u001b[0m\u001b[1;33m\u001b[0m\u001b[0m\n\u001b[0m\u001b[0;32m     33\u001b[0m \u001b[1;33m\u001b[0m\u001b[0m\n\u001b[0;32m     34\u001b[0m         \u001b[1;31m# delete data of validated object from SchemaError object to prevent\u001b[0m\u001b[1;33m\u001b[0m\u001b[1;33m\u001b[0m\u001b[1;33m\u001b[0m\u001b[0m\n",
      "\u001b[1;31mSchemaError\u001b[0m: columns '('Student ID',)' not unique:\n       column  index  failure_case\n0  Student ID      6           107\n1  Student ID      7           107"
     ]
    }
   ],
   "source": [
    "schema_duplicate.validate(df)"
   ]
  },
  {
   "cell_type": "markdown",
   "metadata": {},
   "source": [
    "## <a name=\"exercise\">Exercise"
   ]
  },
  {
   "cell_type": "markdown",
   "metadata": {},
   "source": [
    "Given dataset based on customer feedback at a shopping mall. You need to perform data validation based on criteria below:\n",
    "1. Customer ID must be unique.\n",
    "2. Gender must be either \"Male\" or \"Female\".\n",
    "3. The annual income must be in valid range(no negative numbers).\n",
    "4. The range of spending score must be between 1 to 100."
   ]
  },
  {
   "cell_type": "code",
   "execution_count": 10,
   "metadata": {},
   "outputs": [],
   "source": [
    "shop = pd.read_csv(\"../data/shopping.csv\")"
   ]
  },
  {
   "cell_type": "code",
   "execution_count": 11,
   "metadata": {},
   "outputs": [
    {
     "data": {
      "text/html": [
       "<div>\n",
       "<style scoped>\n",
       "    .dataframe tbody tr th:only-of-type {\n",
       "        vertical-align: middle;\n",
       "    }\n",
       "\n",
       "    .dataframe tbody tr th {\n",
       "        vertical-align: top;\n",
       "    }\n",
       "\n",
       "    .dataframe thead th {\n",
       "        text-align: right;\n",
       "    }\n",
       "</style>\n",
       "<table border=\"1\" class=\"dataframe\">\n",
       "  <thead>\n",
       "    <tr style=\"text-align: right;\">\n",
       "      <th></th>\n",
       "      <th>CustomerID</th>\n",
       "      <th>Gender</th>\n",
       "      <th>Age</th>\n",
       "      <th>Annual Income (k$)</th>\n",
       "      <th>Spending Score</th>\n",
       "    </tr>\n",
       "  </thead>\n",
       "  <tbody>\n",
       "    <tr>\n",
       "      <th>0</th>\n",
       "      <td>2</td>\n",
       "      <td>Male</td>\n",
       "      <td>21</td>\n",
       "      <td>15</td>\n",
       "      <td>81</td>\n",
       "    </tr>\n",
       "    <tr>\n",
       "      <th>1</th>\n",
       "      <td>173</td>\n",
       "      <td>Male</td>\n",
       "      <td>36</td>\n",
       "      <td>87</td>\n",
       "      <td>10</td>\n",
       "    </tr>\n",
       "    <tr>\n",
       "      <th>2</th>\n",
       "      <td>85</td>\n",
       "      <td>Female</td>\n",
       "      <td>21</td>\n",
       "      <td>54</td>\n",
       "      <td>57</td>\n",
       "    </tr>\n",
       "    <tr>\n",
       "      <th>3</th>\n",
       "      <td>109</td>\n",
       "      <td>Male</td>\n",
       "      <td>68</td>\n",
       "      <td>63</td>\n",
       "      <td>43</td>\n",
       "    </tr>\n",
       "    <tr>\n",
       "      <th>4</th>\n",
       "      <td>120</td>\n",
       "      <td>Female</td>\n",
       "      <td>50</td>\n",
       "      <td>67</td>\n",
       "      <td>57</td>\n",
       "    </tr>\n",
       "  </tbody>\n",
       "</table>\n",
       "</div>"
      ],
      "text/plain": [
       "   CustomerID  Gender  Age  Annual Income (k$)  Spending Score\n",
       "0           2    Male   21                  15              81\n",
       "1         173    Male   36                  87              10\n",
       "2          85  Female   21                  54              57\n",
       "3         109    Male   68                  63              43\n",
       "4         120  Female   50                  67              57"
      ]
     },
     "execution_count": 11,
     "metadata": {},
     "output_type": "execute_result"
    }
   ],
   "source": [
    "shop.head()"
   ]
  },
  {
   "cell_type": "code",
   "execution_count": 12,
   "metadata": {},
   "outputs": [
    {
     "data": {
      "text/plain": [
       "CustomerID             int64\n",
       "Gender                object\n",
       "Age                    int64\n",
       "Annual Income (k$)     int64\n",
       "Spending Score         int64\n",
       "dtype: object"
      ]
     },
     "execution_count": 12,
     "metadata": {},
     "output_type": "execute_result"
    }
   ],
   "source": [
    "shop.dtypes"
   ]
  },
  {
   "cell_type": "code",
   "execution_count": 13,
   "metadata": {},
   "outputs": [],
   "source": [
    "# Define schema\n",
    "schema = pa.DataFrameSchema({\n",
    "    \"CustomerID\" : pa.Column(int,nullable=False),\n",
    "    \"Gender\" : pa.Column(str, pa.Check(lambda s:s.isin([\"Female\", \"Male\"])), nullable=True),\n",
    "    \"Age\" : pa.Column(int, checks=pa.Check.greater_than(0), nullable=True),\n",
    "    \"Annual income(k$)\" : pa.Column(int, checks=pa.Check.greater_than_or_equal_to(0), nullable=True),\n",
    "    \"Spending Score\" : pa.Column(int, checks=pa.Check.in_range(1,100), nullable=True)\n",
    "    },\n",
    "    unique = [\"CustomerID\"]\n",
    "    )"
   ]
  },
  {
   "cell_type": "code",
   "execution_count": 14,
   "metadata": {},
   "outputs": [
    {
     "ename": "SchemaErrors",
     "evalue": "A total of 4 schema errors were found.\n\nError Counts\n------------\n- column_not_in_dataframe: 1\n- schema_component_check: 2\n- duplicates: 1\n\nSchema Error Summary\n--------------------\n                                                                  failure_cases  n_failure_cases\nschema_context  column         check                                                            \nDataFrameSchema <NA>           column_in_dataframe          [Annual income(k$)]                1\n                CustomerID     multiple_fields_uniqueness  [57, 58, 59, 60, 61]                5\nColumn          Age            greater_than(0)                       [-19, -26]                2\n                Spending Score in_range(1, 100)                         [0, -5]                2\n\nUsage Tip\n---------\n\nDirectly inspect all errors by catching the exception:\n\n```\ntry:\n    schema.validate(dataframe, lazy=True)\nexcept SchemaErrors as err:\n    err.failure_cases  # dataframe of schema errors\n    err.data  # invalid dataframe\n```\n",
     "output_type": "error",
     "traceback": [
      "\u001b[1;31m---------------------------------------------------------------------------\u001b[0m",
      "\u001b[1;31mSchemaErrors\u001b[0m                              Traceback (most recent call last)",
      "\u001b[1;32m<ipython-input-14-4dfa620d4b7e>\u001b[0m in \u001b[0;36m<module>\u001b[1;34m\u001b[0m\n\u001b[0;32m      1\u001b[0m \u001b[1;31m# Validate schema\u001b[0m\u001b[1;33m\u001b[0m\u001b[1;33m\u001b[0m\u001b[1;33m\u001b[0m\u001b[0m\n\u001b[1;32m----> 2\u001b[1;33m \u001b[0mschema\u001b[0m\u001b[1;33m.\u001b[0m\u001b[0mvalidate\u001b[0m\u001b[1;33m(\u001b[0m\u001b[0mshop\u001b[0m\u001b[1;33m,\u001b[0m \u001b[0mlazy\u001b[0m\u001b[1;33m=\u001b[0m\u001b[1;32mTrue\u001b[0m\u001b[1;33m,\u001b[0m \u001b[0minplace\u001b[0m\u001b[1;33m=\u001b[0m\u001b[1;32mTrue\u001b[0m\u001b[1;33m)\u001b[0m\u001b[1;33m\u001b[0m\u001b[1;33m\u001b[0m\u001b[0m\n\u001b[0m",
      "\u001b[1;32mc:\\anaconda\\envs\\machine\\lib\\site-packages\\pandera\\schemas.py\u001b[0m in \u001b[0;36mvalidate\u001b[1;34m(self, check_obj, head, tail, sample, random_state, lazy, inplace)\u001b[0m\n\u001b[0;32m    653\u001b[0m         \u001b[1;32mif\u001b[0m \u001b[0mlazy\u001b[0m \u001b[1;32mand\u001b[0m \u001b[0merror_handler\u001b[0m\u001b[1;33m.\u001b[0m\u001b[0mcollected_errors\u001b[0m\u001b[1;33m:\u001b[0m\u001b[1;33m\u001b[0m\u001b[1;33m\u001b[0m\u001b[0m\n\u001b[0;32m    654\u001b[0m             raise errors.SchemaErrors(\n\u001b[1;32m--> 655\u001b[1;33m                 \u001b[0merror_handler\u001b[0m\u001b[1;33m.\u001b[0m\u001b[0mcollected_errors\u001b[0m\u001b[1;33m,\u001b[0m \u001b[0mcheck_obj\u001b[0m\u001b[1;33m\u001b[0m\u001b[1;33m\u001b[0m\u001b[0m\n\u001b[0m\u001b[0;32m    656\u001b[0m             )\n\u001b[0;32m    657\u001b[0m \u001b[1;33m\u001b[0m\u001b[0m\n",
      "\u001b[1;31mSchemaErrors\u001b[0m: A total of 4 schema errors were found.\n\nError Counts\n------------\n- column_not_in_dataframe: 1\n- schema_component_check: 2\n- duplicates: 1\n\nSchema Error Summary\n--------------------\n                                                                  failure_cases  n_failure_cases\nschema_context  column         check                                                            \nDataFrameSchema <NA>           column_in_dataframe          [Annual income(k$)]                1\n                CustomerID     multiple_fields_uniqueness  [57, 58, 59, 60, 61]                5\nColumn          Age            greater_than(0)                       [-19, -26]                2\n                Spending Score in_range(1, 100)                         [0, -5]                2\n\nUsage Tip\n---------\n\nDirectly inspect all errors by catching the exception:\n\n```\ntry:\n    schema.validate(dataframe, lazy=True)\nexcept SchemaErrors as err:\n    err.failure_cases  # dataframe of schema errors\n    err.data  # invalid dataframe\n```\n"
     ]
    }
   ],
   "source": [
    "# Validate schema\n",
    "schema.validate(shop, lazy=True, inplace=True)"
   ]
  },
  {
   "cell_type": "markdown",
   "metadata": {},
   "source": [
    "### <b>Now we should ask ourselves : What is the reason for these errors?\n",
    "* Do we have an improperly defined schema?\n",
    "* Do we expect to have negative values in our data?\n",
    "* Why do we have negative values in **Age** column? Typo?\n",
    "* Why do we have negative values in **Spending Score**? Is it because customer receive poor service?\n",
    "* What should we do with our schema and our failing data points?"
   ]
  }
 ],
 "metadata": {
  "kernelspec": {
   "display_name": "cdle",
   "language": "python",
   "name": "cdle"
  },
  "language_info": {
   "codemirror_mode": {
    "name": "ipython",
    "version": 3
   },
   "file_extension": ".py",
   "mimetype": "text/x-python",
   "name": "python",
   "nbconvert_exporter": "python",
   "pygments_lexer": "ipython3",
   "version": "3.7.3"
  },
  "toc": {
   "base_numbering": 1,
   "nav_menu": {},
   "number_sections": true,
   "sideBar": true,
   "skip_h1_title": false,
   "title_cell": "Table of Contents",
   "title_sidebar": "Contents",
   "toc_cell": false,
   "toc_position": {},
   "toc_section_display": true,
   "toc_window_display": false
  }
 },
 "nbformat": 4,
 "nbformat_minor": 4
}
