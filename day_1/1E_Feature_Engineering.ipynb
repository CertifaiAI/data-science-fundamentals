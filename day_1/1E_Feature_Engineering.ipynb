{
 "cells": [
  {
   "cell_type": "markdown",
   "id": "d02f5f33",
   "metadata": {},
   "source": [
    "![license_header_logo](https://user-images.githubusercontent.com/59526258/124226124-27125b80-db3b-11eb-8ba1-488d88018ebb.png)\n",
    "> **Copyright (c) 2020-2021 CertifAI Sdn. Bhd.**<br>\n",
    " <br>\n",
    "This program is part of OSRFramework. You can redistribute it and/or modify\n",
    "<br>it under the terms of the GNU Affero General Public License as published by\n",
    "<br>the Free Software Foundation, either version 3 of the License, or\n",
    "<br>(at your option) any later version.\n",
    "<br>\n",
    "<br>This program is distributed in the hope that it will be useful,\n",
    "<br>but WITHOUT ANY WARRANTY; without even the implied warranty of\n",
    "<br>MERCHANTABILITY or FITNESS FOR A PARTICULAR PURPOSE.  See the\n",
    "<br>GNU Affero General Public License for more details.\n",
    "<br>\n",
    "<br>You should have received a copy of the GNU Affero General Public License\n",
    "<br>along with this program.  If not, see <http://www.gnu.org/licenses/>.\n",
    "<br>"
   ]
  },
  {
   "cell_type": "markdown",
   "id": "bd33e637",
   "metadata": {},
   "source": [
    "# Introduction\n",
    "\n",
    "Feature engineering is a machine learning techniques for extracting new features from raw data.\n",
    "In this notebook, we will explore on different types of feature engineering techniques:\n",
    "1. Imputation\n",
    "2. One-hot encoding for categorical data.\n",
    "3. Categorize numerical data.\n",
    "\n",
    "# Learning Outcome\n",
    "By the end of this notebook, you should be able to know on how to:\n",
    "1. Perform feature engineering for missing values. \n",
    "2. Handling categorical data (binary, nominal, ordinal)\n",
    "3. Implement feature engineering for numerical data.\n",
    "\n",
    "# Table Of Contents\n",
    "* [Missing values](#missing)\n",
    "* [Categorical data](#category)\n",
    "* [Numerical data](#numeric)\n",
    "* [Exercise ](#exercise)"
   ]
  },
  {
   "cell_type": "code",
   "execution_count": 1,
   "id": "bacaa346",
   "metadata": {},
   "outputs": [],
   "source": [
    "import pandas as pd\n",
    "import numpy as np\n",
    "from sklearn import preprocessing"
   ]
  },
  {
   "cell_type": "code",
   "execution_count": 2,
   "id": "6bd87c21",
   "metadata": {},
   "outputs": [],
   "source": [
    "# Dataset of employee\n",
    "df = pd.DataFrame({\n",
    "    \"Employee ID\" : ['100', '101', '102', '103', '104', '105', '106', '107', '108', '109'],\n",
    "    \"Department\" : [\"Finance\", \"IT\", \"Sales\", \"Human Resource\", \"Finance\", \"IT\", \"Sales\", \"Finance\", \"Sales\", \"IT\"],\n",
    "    \"Age\" : [24, np.nan, 18, 28, 29, 28, 30, 35, np.nan, 35],\n",
    "    \"Gender\" : [\"F\", \"M\", \"F\", \"F\", \"F\", \"M\", \"M\", \"M\", \"F\", \"F\"],\n",
    "    \"Education\" : [\"Diploma\", \"Diploma\", \"SPM\", \"Degree\", \"Degree\", \"SPM\", \"Degree\", \"SPM\", \"Diploma\", \"Degree\"]\n",
    "    })"
   ]
  },
  {
   "cell_type": "code",
   "execution_count": 3,
   "id": "4a2fe26b",
   "metadata": {},
   "outputs": [],
   "source": [
    "# Change Employee ID as int data type\n",
    "df['Employee ID'] = df['Employee ID'].astype(int)"
   ]
  },
  {
   "cell_type": "code",
   "execution_count": 4,
   "id": "2079f803",
   "metadata": {},
   "outputs": [
    {
     "data": {
      "text/html": [
       "<div>\n",
       "<style scoped>\n",
       "    .dataframe tbody tr th:only-of-type {\n",
       "        vertical-align: middle;\n",
       "    }\n",
       "\n",
       "    .dataframe tbody tr th {\n",
       "        vertical-align: top;\n",
       "    }\n",
       "\n",
       "    .dataframe thead th {\n",
       "        text-align: right;\n",
       "    }\n",
       "</style>\n",
       "<table border=\"1\" class=\"dataframe\">\n",
       "  <thead>\n",
       "    <tr style=\"text-align: right;\">\n",
       "      <th></th>\n",
       "      <th>Employee ID</th>\n",
       "      <th>Department</th>\n",
       "      <th>Age</th>\n",
       "      <th>Gender</th>\n",
       "      <th>Education</th>\n",
       "    </tr>\n",
       "  </thead>\n",
       "  <tbody>\n",
       "    <tr>\n",
       "      <th>0</th>\n",
       "      <td>100</td>\n",
       "      <td>Finance</td>\n",
       "      <td>24.0</td>\n",
       "      <td>F</td>\n",
       "      <td>Diploma</td>\n",
       "    </tr>\n",
       "    <tr>\n",
       "      <th>1</th>\n",
       "      <td>101</td>\n",
       "      <td>IT</td>\n",
       "      <td>NaN</td>\n",
       "      <td>M</td>\n",
       "      <td>Diploma</td>\n",
       "    </tr>\n",
       "    <tr>\n",
       "      <th>2</th>\n",
       "      <td>102</td>\n",
       "      <td>Sales</td>\n",
       "      <td>18.0</td>\n",
       "      <td>F</td>\n",
       "      <td>SPM</td>\n",
       "    </tr>\n",
       "    <tr>\n",
       "      <th>3</th>\n",
       "      <td>103</td>\n",
       "      <td>Human Resource</td>\n",
       "      <td>28.0</td>\n",
       "      <td>F</td>\n",
       "      <td>Degree</td>\n",
       "    </tr>\n",
       "    <tr>\n",
       "      <th>4</th>\n",
       "      <td>104</td>\n",
       "      <td>Finance</td>\n",
       "      <td>29.0</td>\n",
       "      <td>F</td>\n",
       "      <td>Degree</td>\n",
       "    </tr>\n",
       "  </tbody>\n",
       "</table>\n",
       "</div>"
      ],
      "text/plain": [
       "   Employee ID      Department   Age Gender Education\n",
       "0          100         Finance  24.0      F   Diploma\n",
       "1          101              IT   NaN      M   Diploma\n",
       "2          102           Sales  18.0      F       SPM\n",
       "3          103  Human Resource  28.0      F    Degree\n",
       "4          104         Finance  29.0      F    Degree"
      ]
     },
     "execution_count": 4,
     "metadata": {},
     "output_type": "execute_result"
    }
   ],
   "source": [
    "df.head()"
   ]
  },
  {
   "cell_type": "code",
   "execution_count": 5,
   "id": "25222ce9",
   "metadata": {},
   "outputs": [
    {
     "name": "stdout",
     "output_type": "stream",
     "text": [
      "<class 'pandas.core.frame.DataFrame'>\n",
      "RangeIndex: 10 entries, 0 to 9\n",
      "Data columns (total 5 columns):\n",
      " #   Column       Non-Null Count  Dtype  \n",
      "---  ------       --------------  -----  \n",
      " 0   Employee ID  10 non-null     int32  \n",
      " 1   Department   10 non-null     object \n",
      " 2   Age          8 non-null      float64\n",
      " 3   Gender       10 non-null     object \n",
      " 4   Education    10 non-null     object \n",
      "dtypes: float64(1), int32(1), object(3)\n",
      "memory usage: 488.0+ bytes\n"
     ]
    }
   ],
   "source": [
    "df.info()"
   ]
  },
  {
   "cell_type": "markdown",
   "id": "5588fc78",
   "metadata": {},
   "source": [
    "# <a name=\"typeformat\">Missing Values\n",
    "\n",
    "There are two methods to handle missing values:\n",
    "1. <b>Deleting information</b> that has missing value on it.\n",
    "    * Delete entire column\n",
    "    * Delete entire rows\n",
    "    \n",
    "    \n",
    "2. <b>Imputation</b>\n",
    "    * Impute using mean \n",
    "    * Impute using mode"
   ]
  },
  {
   "cell_type": "code",
   "execution_count": 6,
   "id": "b5e90e56",
   "metadata": {},
   "outputs": [
    {
     "data": {
      "text/plain": [
       "Employee ID    0\n",
       "Department     0\n",
       "Age            2\n",
       "Gender         0\n",
       "Education      0\n",
       "dtype: int64"
      ]
     },
     "execution_count": 6,
     "metadata": {},
     "output_type": "execute_result"
    }
   ],
   "source": [
    "# Print the value that has missing values\n",
    "df.isnull().sum()"
   ]
  },
  {
   "cell_type": "markdown",
   "id": "4bdefb64",
   "metadata": {},
   "source": [
    "## Deleting value\n",
    "Deleting certain row with missing data, or certain column with missing data."
   ]
  },
  {
   "cell_type": "markdown",
   "id": "0a561375",
   "metadata": {},
   "source": [
    "### Column"
   ]
  },
  {
   "cell_type": "code",
   "execution_count": 7,
   "id": "6816277b",
   "metadata": {},
   "outputs": [],
   "source": [
    "del_column = df.dropna(axis=1)"
   ]
  },
  {
   "cell_type": "code",
   "execution_count": 8,
   "id": "f98b08ec",
   "metadata": {},
   "outputs": [
    {
     "data": {
      "text/html": [
       "<div>\n",
       "<style scoped>\n",
       "    .dataframe tbody tr th:only-of-type {\n",
       "        vertical-align: middle;\n",
       "    }\n",
       "\n",
       "    .dataframe tbody tr th {\n",
       "        vertical-align: top;\n",
       "    }\n",
       "\n",
       "    .dataframe thead th {\n",
       "        text-align: right;\n",
       "    }\n",
       "</style>\n",
       "<table border=\"1\" class=\"dataframe\">\n",
       "  <thead>\n",
       "    <tr style=\"text-align: right;\">\n",
       "      <th></th>\n",
       "      <th>Employee ID</th>\n",
       "      <th>Department</th>\n",
       "      <th>Gender</th>\n",
       "      <th>Education</th>\n",
       "    </tr>\n",
       "  </thead>\n",
       "  <tbody>\n",
       "    <tr>\n",
       "      <th>0</th>\n",
       "      <td>100</td>\n",
       "      <td>Finance</td>\n",
       "      <td>F</td>\n",
       "      <td>Diploma</td>\n",
       "    </tr>\n",
       "    <tr>\n",
       "      <th>1</th>\n",
       "      <td>101</td>\n",
       "      <td>IT</td>\n",
       "      <td>M</td>\n",
       "      <td>Diploma</td>\n",
       "    </tr>\n",
       "    <tr>\n",
       "      <th>2</th>\n",
       "      <td>102</td>\n",
       "      <td>Sales</td>\n",
       "      <td>F</td>\n",
       "      <td>SPM</td>\n",
       "    </tr>\n",
       "    <tr>\n",
       "      <th>3</th>\n",
       "      <td>103</td>\n",
       "      <td>Human Resource</td>\n",
       "      <td>F</td>\n",
       "      <td>Degree</td>\n",
       "    </tr>\n",
       "    <tr>\n",
       "      <th>4</th>\n",
       "      <td>104</td>\n",
       "      <td>Finance</td>\n",
       "      <td>F</td>\n",
       "      <td>Degree</td>\n",
       "    </tr>\n",
       "  </tbody>\n",
       "</table>\n",
       "</div>"
      ],
      "text/plain": [
       "   Employee ID      Department Gender Education\n",
       "0          100         Finance      F   Diploma\n",
       "1          101              IT      M   Diploma\n",
       "2          102           Sales      F       SPM\n",
       "3          103  Human Resource      F    Degree\n",
       "4          104         Finance      F    Degree"
      ]
     },
     "execution_count": 8,
     "metadata": {},
     "output_type": "execute_result"
    }
   ],
   "source": [
    "del_column.head()"
   ]
  },
  {
   "cell_type": "markdown",
   "id": "a19dd7df",
   "metadata": {},
   "source": [
    "### Row"
   ]
  },
  {
   "cell_type": "code",
   "execution_count": 9,
   "id": "666f7d6c",
   "metadata": {},
   "outputs": [],
   "source": [
    "del_row = df.dropna(axis=0)"
   ]
  },
  {
   "cell_type": "code",
   "execution_count": 10,
   "id": "4a52b866",
   "metadata": {},
   "outputs": [
    {
     "data": {
      "text/html": [
       "<div>\n",
       "<style scoped>\n",
       "    .dataframe tbody tr th:only-of-type {\n",
       "        vertical-align: middle;\n",
       "    }\n",
       "\n",
       "    .dataframe tbody tr th {\n",
       "        vertical-align: top;\n",
       "    }\n",
       "\n",
       "    .dataframe thead th {\n",
       "        text-align: right;\n",
       "    }\n",
       "</style>\n",
       "<table border=\"1\" class=\"dataframe\">\n",
       "  <thead>\n",
       "    <tr style=\"text-align: right;\">\n",
       "      <th></th>\n",
       "      <th>Employee ID</th>\n",
       "      <th>Department</th>\n",
       "      <th>Age</th>\n",
       "      <th>Gender</th>\n",
       "      <th>Education</th>\n",
       "    </tr>\n",
       "  </thead>\n",
       "  <tbody>\n",
       "    <tr>\n",
       "      <th>0</th>\n",
       "      <td>100</td>\n",
       "      <td>Finance</td>\n",
       "      <td>24.0</td>\n",
       "      <td>F</td>\n",
       "      <td>Diploma</td>\n",
       "    </tr>\n",
       "    <tr>\n",
       "      <th>2</th>\n",
       "      <td>102</td>\n",
       "      <td>Sales</td>\n",
       "      <td>18.0</td>\n",
       "      <td>F</td>\n",
       "      <td>SPM</td>\n",
       "    </tr>\n",
       "    <tr>\n",
       "      <th>3</th>\n",
       "      <td>103</td>\n",
       "      <td>Human Resource</td>\n",
       "      <td>28.0</td>\n",
       "      <td>F</td>\n",
       "      <td>Degree</td>\n",
       "    </tr>\n",
       "    <tr>\n",
       "      <th>4</th>\n",
       "      <td>104</td>\n",
       "      <td>Finance</td>\n",
       "      <td>29.0</td>\n",
       "      <td>F</td>\n",
       "      <td>Degree</td>\n",
       "    </tr>\n",
       "    <tr>\n",
       "      <th>5</th>\n",
       "      <td>105</td>\n",
       "      <td>IT</td>\n",
       "      <td>28.0</td>\n",
       "      <td>M</td>\n",
       "      <td>SPM</td>\n",
       "    </tr>\n",
       "  </tbody>\n",
       "</table>\n",
       "</div>"
      ],
      "text/plain": [
       "   Employee ID      Department   Age Gender Education\n",
       "0          100         Finance  24.0      F   Diploma\n",
       "2          102           Sales  18.0      F       SPM\n",
       "3          103  Human Resource  28.0      F    Degree\n",
       "4          104         Finance  29.0      F    Degree\n",
       "5          105              IT  28.0      M       SPM"
      ]
     },
     "execution_count": 10,
     "metadata": {},
     "output_type": "execute_result"
    }
   ],
   "source": [
    "del_row.head()"
   ]
  },
  {
   "cell_type": "markdown",
   "id": "fc831d7e",
   "metadata": {},
   "source": [
    "## Imputation\n",
    "Replacing missing data with statistical estimates of the missing values. \n",
    "\n",
    "Numerical value:\n",
    "1. Mean\n",
    "2. Mode\n",
    "3. Median\n",
    "\n",
    "Categorical value:\n",
    "1. Frequently use value or mode imputation.\n",
    "2. Adding a \"missing\"/\"unknown\" category.\n",
    "\n",
    "In this exercise we will show on how to imputate missing values by using mean or mode."
   ]
  },
  {
   "cell_type": "markdown",
   "id": "b39674af",
   "metadata": {},
   "source": [
    "### Mean\n",
    "Fills up the missing value by mean."
   ]
  },
  {
   "cell_type": "code",
   "execution_count": 11,
   "id": "b4b7088f",
   "metadata": {},
   "outputs": [],
   "source": [
    "mean = df.fillna(df.mean().astype(int)) "
   ]
  },
  {
   "cell_type": "code",
   "execution_count": 12,
   "id": "136998cc",
   "metadata": {},
   "outputs": [
    {
     "data": {
      "text/html": [
       "<div>\n",
       "<style scoped>\n",
       "    .dataframe tbody tr th:only-of-type {\n",
       "        vertical-align: middle;\n",
       "    }\n",
       "\n",
       "    .dataframe tbody tr th {\n",
       "        vertical-align: top;\n",
       "    }\n",
       "\n",
       "    .dataframe thead th {\n",
       "        text-align: right;\n",
       "    }\n",
       "</style>\n",
       "<table border=\"1\" class=\"dataframe\">\n",
       "  <thead>\n",
       "    <tr style=\"text-align: right;\">\n",
       "      <th></th>\n",
       "      <th>Employee ID</th>\n",
       "      <th>Department</th>\n",
       "      <th>Age</th>\n",
       "      <th>Gender</th>\n",
       "      <th>Education</th>\n",
       "    </tr>\n",
       "  </thead>\n",
       "  <tbody>\n",
       "    <tr>\n",
       "      <th>0</th>\n",
       "      <td>100</td>\n",
       "      <td>Finance</td>\n",
       "      <td>24.0</td>\n",
       "      <td>F</td>\n",
       "      <td>Diploma</td>\n",
       "    </tr>\n",
       "    <tr>\n",
       "      <th>1</th>\n",
       "      <td>101</td>\n",
       "      <td>IT</td>\n",
       "      <td>28.0</td>\n",
       "      <td>M</td>\n",
       "      <td>Diploma</td>\n",
       "    </tr>\n",
       "    <tr>\n",
       "      <th>2</th>\n",
       "      <td>102</td>\n",
       "      <td>Sales</td>\n",
       "      <td>18.0</td>\n",
       "      <td>F</td>\n",
       "      <td>SPM</td>\n",
       "    </tr>\n",
       "    <tr>\n",
       "      <th>3</th>\n",
       "      <td>103</td>\n",
       "      <td>Human Resource</td>\n",
       "      <td>28.0</td>\n",
       "      <td>F</td>\n",
       "      <td>Degree</td>\n",
       "    </tr>\n",
       "    <tr>\n",
       "      <th>4</th>\n",
       "      <td>104</td>\n",
       "      <td>Finance</td>\n",
       "      <td>29.0</td>\n",
       "      <td>F</td>\n",
       "      <td>Degree</td>\n",
       "    </tr>\n",
       "  </tbody>\n",
       "</table>\n",
       "</div>"
      ],
      "text/plain": [
       "   Employee ID      Department   Age Gender Education\n",
       "0          100         Finance  24.0      F   Diploma\n",
       "1          101              IT  28.0      M   Diploma\n",
       "2          102           Sales  18.0      F       SPM\n",
       "3          103  Human Resource  28.0      F    Degree\n",
       "4          104         Finance  29.0      F    Degree"
      ]
     },
     "execution_count": 12,
     "metadata": {},
     "output_type": "execute_result"
    }
   ],
   "source": [
    "mean.head()"
   ]
  },
  {
   "cell_type": "markdown",
   "id": "7b528be2",
   "metadata": {},
   "source": [
    "### Mode\n",
    "Fills up the missing value by mode."
   ]
  },
  {
   "cell_type": "code",
   "execution_count": 13,
   "id": "abec0455",
   "metadata": {},
   "outputs": [],
   "source": [
    "mode = df.fillna(df.mode())"
   ]
  },
  {
   "cell_type": "code",
   "execution_count": 14,
   "id": "9475114d",
   "metadata": {},
   "outputs": [
    {
     "data": {
      "text/html": [
       "<div>\n",
       "<style scoped>\n",
       "    .dataframe tbody tr th:only-of-type {\n",
       "        vertical-align: middle;\n",
       "    }\n",
       "\n",
       "    .dataframe tbody tr th {\n",
       "        vertical-align: top;\n",
       "    }\n",
       "\n",
       "    .dataframe thead th {\n",
       "        text-align: right;\n",
       "    }\n",
       "</style>\n",
       "<table border=\"1\" class=\"dataframe\">\n",
       "  <thead>\n",
       "    <tr style=\"text-align: right;\">\n",
       "      <th></th>\n",
       "      <th>Employee ID</th>\n",
       "      <th>Department</th>\n",
       "      <th>Age</th>\n",
       "      <th>Gender</th>\n",
       "      <th>Education</th>\n",
       "    </tr>\n",
       "  </thead>\n",
       "  <tbody>\n",
       "    <tr>\n",
       "      <th>0</th>\n",
       "      <td>100</td>\n",
       "      <td>Finance</td>\n",
       "      <td>24.0</td>\n",
       "      <td>F</td>\n",
       "      <td>Diploma</td>\n",
       "    </tr>\n",
       "    <tr>\n",
       "      <th>1</th>\n",
       "      <td>101</td>\n",
       "      <td>IT</td>\n",
       "      <td>35.0</td>\n",
       "      <td>M</td>\n",
       "      <td>Diploma</td>\n",
       "    </tr>\n",
       "    <tr>\n",
       "      <th>2</th>\n",
       "      <td>102</td>\n",
       "      <td>Sales</td>\n",
       "      <td>18.0</td>\n",
       "      <td>F</td>\n",
       "      <td>SPM</td>\n",
       "    </tr>\n",
       "    <tr>\n",
       "      <th>3</th>\n",
       "      <td>103</td>\n",
       "      <td>Human Resource</td>\n",
       "      <td>28.0</td>\n",
       "      <td>F</td>\n",
       "      <td>Degree</td>\n",
       "    </tr>\n",
       "    <tr>\n",
       "      <th>4</th>\n",
       "      <td>104</td>\n",
       "      <td>Finance</td>\n",
       "      <td>29.0</td>\n",
       "      <td>F</td>\n",
       "      <td>Degree</td>\n",
       "    </tr>\n",
       "  </tbody>\n",
       "</table>\n",
       "</div>"
      ],
      "text/plain": [
       "   Employee ID      Department   Age Gender Education\n",
       "0          100         Finance  24.0      F   Diploma\n",
       "1          101              IT  35.0      M   Diploma\n",
       "2          102           Sales  18.0      F       SPM\n",
       "3          103  Human Resource  28.0      F    Degree\n",
       "4          104         Finance  29.0      F    Degree"
      ]
     },
     "execution_count": 14,
     "metadata": {},
     "output_type": "execute_result"
    }
   ],
   "source": [
    "mode.head()"
   ]
  },
  {
   "cell_type": "markdown",
   "id": "9f1a232a",
   "metadata": {},
   "source": [
    "# <a name=\"category\">Categorical data\n",
    "Carry out feature engineering process on binary, nominal and ordinal."
   ]
  },
  {
   "cell_type": "code",
   "execution_count": 15,
   "id": "29fbae02",
   "metadata": {},
   "outputs": [
    {
     "name": "stdout",
     "output_type": "stream",
     "text": [
      "Column: Department\n",
      "['Finance' 'IT' 'Sales' 'Human Resource']\n",
      "Column: Gender\n",
      "['F' 'M']\n",
      "Column: Education\n",
      "['Diploma' 'SPM' 'Degree']\n"
     ]
    }
   ],
   "source": [
    "# Print unique value of cat_df\n",
    "for i in df.columns:\n",
    "    if df.dtypes[i] == 'object':\n",
    "        print(\"Column: {}\".format(i))\n",
    "        print(df[i].unique())"
   ]
  },
  {
   "cell_type": "markdown",
   "id": "807b9fc0",
   "metadata": {},
   "source": [
    "From the result above, here is the list of categorical data:\n",
    "* Binary : Gender\n",
    "* Nominal : Department\n",
    "* Ordinal : Education"
   ]
  },
  {
   "cell_type": "markdown",
   "id": "756b6818",
   "metadata": {},
   "source": [
    "## Binary Data\n",
    "Perform one-hot-encoding by using `get_dummies`. The first category of our data will be remove by using the **drop_first=True** because it contain the same information. It will be remove to prevent data redundancy in out dataset."
   ]
  },
  {
   "cell_type": "code",
   "execution_count": 16,
   "id": "a343183c",
   "metadata": {},
   "outputs": [],
   "source": [
    "df = pd.get_dummies(data=df, columns=['Gender'], drop_first=True)"
   ]
  },
  {
   "cell_type": "code",
   "execution_count": 17,
   "id": "293cc321",
   "metadata": {},
   "outputs": [],
   "source": [
    "df = df.rename(columns={\"Gender_M\":\"Gender\"})"
   ]
  },
  {
   "cell_type": "code",
   "execution_count": 18,
   "id": "b0e28947",
   "metadata": {},
   "outputs": [
    {
     "data": {
      "text/html": [
       "<div>\n",
       "<style scoped>\n",
       "    .dataframe tbody tr th:only-of-type {\n",
       "        vertical-align: middle;\n",
       "    }\n",
       "\n",
       "    .dataframe tbody tr th {\n",
       "        vertical-align: top;\n",
       "    }\n",
       "\n",
       "    .dataframe thead th {\n",
       "        text-align: right;\n",
       "    }\n",
       "</style>\n",
       "<table border=\"1\" class=\"dataframe\">\n",
       "  <thead>\n",
       "    <tr style=\"text-align: right;\">\n",
       "      <th></th>\n",
       "      <th>Employee ID</th>\n",
       "      <th>Department</th>\n",
       "      <th>Age</th>\n",
       "      <th>Education</th>\n",
       "      <th>Gender</th>\n",
       "    </tr>\n",
       "  </thead>\n",
       "  <tbody>\n",
       "    <tr>\n",
       "      <th>0</th>\n",
       "      <td>100</td>\n",
       "      <td>Finance</td>\n",
       "      <td>24.0</td>\n",
       "      <td>Diploma</td>\n",
       "      <td>0</td>\n",
       "    </tr>\n",
       "    <tr>\n",
       "      <th>1</th>\n",
       "      <td>101</td>\n",
       "      <td>IT</td>\n",
       "      <td>NaN</td>\n",
       "      <td>Diploma</td>\n",
       "      <td>1</td>\n",
       "    </tr>\n",
       "    <tr>\n",
       "      <th>2</th>\n",
       "      <td>102</td>\n",
       "      <td>Sales</td>\n",
       "      <td>18.0</td>\n",
       "      <td>SPM</td>\n",
       "      <td>0</td>\n",
       "    </tr>\n",
       "    <tr>\n",
       "      <th>3</th>\n",
       "      <td>103</td>\n",
       "      <td>Human Resource</td>\n",
       "      <td>28.0</td>\n",
       "      <td>Degree</td>\n",
       "      <td>0</td>\n",
       "    </tr>\n",
       "    <tr>\n",
       "      <th>4</th>\n",
       "      <td>104</td>\n",
       "      <td>Finance</td>\n",
       "      <td>29.0</td>\n",
       "      <td>Degree</td>\n",
       "      <td>0</td>\n",
       "    </tr>\n",
       "  </tbody>\n",
       "</table>\n",
       "</div>"
      ],
      "text/plain": [
       "   Employee ID      Department   Age Education  Gender\n",
       "0          100         Finance  24.0   Diploma       0\n",
       "1          101              IT   NaN   Diploma       1\n",
       "2          102           Sales  18.0       SPM       0\n",
       "3          103  Human Resource  28.0    Degree       0\n",
       "4          104         Finance  29.0    Degree       0"
      ]
     },
     "execution_count": 18,
     "metadata": {},
     "output_type": "execute_result"
    }
   ],
   "source": [
    "df.head()"
   ]
  },
  {
   "cell_type": "markdown",
   "id": "9aafcbcd",
   "metadata": {},
   "source": [
    "Take a quick look on Gender column, value 1 represent as male and 0 as female."
   ]
  },
  {
   "cell_type": "markdown",
   "id": "9c80fcd4",
   "metadata": {},
   "source": [
    "## Nominal Data\n",
    "They are two method to perform feature engineering for nominal data:\n",
    "### Label Encoder "
   ]
  },
  {
   "cell_type": "code",
   "execution_count": 19,
   "id": "ed84aa28",
   "metadata": {},
   "outputs": [],
   "source": [
    "df_encode = df.copy()"
   ]
  },
  {
   "cell_type": "code",
   "execution_count": 20,
   "id": "61b6accd",
   "metadata": {},
   "outputs": [],
   "source": [
    "label_encoder = preprocessing.LabelEncoder()"
   ]
  },
  {
   "cell_type": "code",
   "execution_count": 21,
   "id": "7d6e76f0",
   "metadata": {},
   "outputs": [],
   "source": [
    "df_encode['Department'] = label_encoder.fit_transform(df_encode['Department'])"
   ]
  },
  {
   "cell_type": "code",
   "execution_count": 22,
   "id": "3d2eac9c",
   "metadata": {},
   "outputs": [
    {
     "data": {
      "text/html": [
       "<div>\n",
       "<style scoped>\n",
       "    .dataframe tbody tr th:only-of-type {\n",
       "        vertical-align: middle;\n",
       "    }\n",
       "\n",
       "    .dataframe tbody tr th {\n",
       "        vertical-align: top;\n",
       "    }\n",
       "\n",
       "    .dataframe thead th {\n",
       "        text-align: right;\n",
       "    }\n",
       "</style>\n",
       "<table border=\"1\" class=\"dataframe\">\n",
       "  <thead>\n",
       "    <tr style=\"text-align: right;\">\n",
       "      <th></th>\n",
       "      <th>Employee ID</th>\n",
       "      <th>Department</th>\n",
       "      <th>Age</th>\n",
       "      <th>Education</th>\n",
       "      <th>Gender</th>\n",
       "    </tr>\n",
       "  </thead>\n",
       "  <tbody>\n",
       "    <tr>\n",
       "      <th>0</th>\n",
       "      <td>100</td>\n",
       "      <td>0</td>\n",
       "      <td>24.0</td>\n",
       "      <td>Diploma</td>\n",
       "      <td>0</td>\n",
       "    </tr>\n",
       "    <tr>\n",
       "      <th>1</th>\n",
       "      <td>101</td>\n",
       "      <td>2</td>\n",
       "      <td>NaN</td>\n",
       "      <td>Diploma</td>\n",
       "      <td>1</td>\n",
       "    </tr>\n",
       "    <tr>\n",
       "      <th>2</th>\n",
       "      <td>102</td>\n",
       "      <td>3</td>\n",
       "      <td>18.0</td>\n",
       "      <td>SPM</td>\n",
       "      <td>0</td>\n",
       "    </tr>\n",
       "    <tr>\n",
       "      <th>3</th>\n",
       "      <td>103</td>\n",
       "      <td>1</td>\n",
       "      <td>28.0</td>\n",
       "      <td>Degree</td>\n",
       "      <td>0</td>\n",
       "    </tr>\n",
       "    <tr>\n",
       "      <th>4</th>\n",
       "      <td>104</td>\n",
       "      <td>0</td>\n",
       "      <td>29.0</td>\n",
       "      <td>Degree</td>\n",
       "      <td>0</td>\n",
       "    </tr>\n",
       "  </tbody>\n",
       "</table>\n",
       "</div>"
      ],
      "text/plain": [
       "   Employee ID  Department   Age Education  Gender\n",
       "0          100           0  24.0   Diploma       0\n",
       "1          101           2   NaN   Diploma       1\n",
       "2          102           3  18.0       SPM       0\n",
       "3          103           1  28.0    Degree       0\n",
       "4          104           0  29.0    Degree       0"
      ]
     },
     "execution_count": 22,
     "metadata": {},
     "output_type": "execute_result"
    }
   ],
   "source": [
    "df_encode.head()"
   ]
  },
  {
   "cell_type": "markdown",
   "id": "e7c040be",
   "metadata": {},
   "source": [
    "Label encoding use alphabetical ordering. Thus the values in Department column will resulted in the following order :<br>\n",
    "<b>Finance > Human Resource > IT > Sales</b><br>\n",
    "\n",
    "Department names do not have an order or rank. When label encoding is performed, it will create order relationship between the categories."
   ]
  },
  {
   "cell_type": "markdown",
   "id": "c9b67b5d",
   "metadata": {},
   "source": [
    "### One-Hot Encoding"
   ]
  },
  {
   "cell_type": "code",
   "execution_count": 23,
   "id": "95273cb5",
   "metadata": {},
   "outputs": [],
   "source": [
    "df = pd.get_dummies(data=df, columns=['Department'])"
   ]
  },
  {
   "cell_type": "code",
   "execution_count": 24,
   "id": "c830d0d1",
   "metadata": {},
   "outputs": [
    {
     "data": {
      "text/html": [
       "<div>\n",
       "<style scoped>\n",
       "    .dataframe tbody tr th:only-of-type {\n",
       "        vertical-align: middle;\n",
       "    }\n",
       "\n",
       "    .dataframe tbody tr th {\n",
       "        vertical-align: top;\n",
       "    }\n",
       "\n",
       "    .dataframe thead th {\n",
       "        text-align: right;\n",
       "    }\n",
       "</style>\n",
       "<table border=\"1\" class=\"dataframe\">\n",
       "  <thead>\n",
       "    <tr style=\"text-align: right;\">\n",
       "      <th></th>\n",
       "      <th>Employee ID</th>\n",
       "      <th>Age</th>\n",
       "      <th>Education</th>\n",
       "      <th>Gender</th>\n",
       "      <th>Department_Finance</th>\n",
       "      <th>Department_Human Resource</th>\n",
       "      <th>Department_IT</th>\n",
       "      <th>Department_Sales</th>\n",
       "    </tr>\n",
       "  </thead>\n",
       "  <tbody>\n",
       "    <tr>\n",
       "      <th>0</th>\n",
       "      <td>100</td>\n",
       "      <td>24.0</td>\n",
       "      <td>Diploma</td>\n",
       "      <td>0</td>\n",
       "      <td>1</td>\n",
       "      <td>0</td>\n",
       "      <td>0</td>\n",
       "      <td>0</td>\n",
       "    </tr>\n",
       "    <tr>\n",
       "      <th>1</th>\n",
       "      <td>101</td>\n",
       "      <td>NaN</td>\n",
       "      <td>Diploma</td>\n",
       "      <td>1</td>\n",
       "      <td>0</td>\n",
       "      <td>0</td>\n",
       "      <td>1</td>\n",
       "      <td>0</td>\n",
       "    </tr>\n",
       "    <tr>\n",
       "      <th>2</th>\n",
       "      <td>102</td>\n",
       "      <td>18.0</td>\n",
       "      <td>SPM</td>\n",
       "      <td>0</td>\n",
       "      <td>0</td>\n",
       "      <td>0</td>\n",
       "      <td>0</td>\n",
       "      <td>1</td>\n",
       "    </tr>\n",
       "    <tr>\n",
       "      <th>3</th>\n",
       "      <td>103</td>\n",
       "      <td>28.0</td>\n",
       "      <td>Degree</td>\n",
       "      <td>0</td>\n",
       "      <td>0</td>\n",
       "      <td>1</td>\n",
       "      <td>0</td>\n",
       "      <td>0</td>\n",
       "    </tr>\n",
       "    <tr>\n",
       "      <th>4</th>\n",
       "      <td>104</td>\n",
       "      <td>29.0</td>\n",
       "      <td>Degree</td>\n",
       "      <td>0</td>\n",
       "      <td>1</td>\n",
       "      <td>0</td>\n",
       "      <td>0</td>\n",
       "      <td>0</td>\n",
       "    </tr>\n",
       "  </tbody>\n",
       "</table>\n",
       "</div>"
      ],
      "text/plain": [
       "   Employee ID   Age Education  Gender  Department_Finance  \\\n",
       "0          100  24.0   Diploma       0                   1   \n",
       "1          101   NaN   Diploma       1                   0   \n",
       "2          102  18.0       SPM       0                   0   \n",
       "3          103  28.0    Degree       0                   0   \n",
       "4          104  29.0    Degree       0                   1   \n",
       "\n",
       "   Department_Human Resource  Department_IT  Department_Sales  \n",
       "0                          0              0                 0  \n",
       "1                          0              1                 0  \n",
       "2                          0              0                 1  \n",
       "3                          1              0                 0  \n",
       "4                          0              0                 0  "
      ]
     },
     "execution_count": 24,
     "metadata": {},
     "output_type": "execute_result"
    }
   ],
   "source": [
    "df.head()"
   ]
  },
  {
   "cell_type": "markdown",
   "id": "18b7e572",
   "metadata": {},
   "source": [
    "**Challenges of One-Hot Encoding**\n",
    "* Expands feature space\n",
    "* Many features may look identical, this will leads to redundant information."
   ]
  },
  {
   "cell_type": "markdown",
   "id": "1f6b61a0",
   "metadata": {},
   "source": [
    "## Ordinal data"
   ]
  },
  {
   "cell_type": "code",
   "execution_count": 25,
   "id": "411d5b64",
   "metadata": {},
   "outputs": [],
   "source": [
    "# Creating dictionary for mapping the ordinal numerical value\n",
    "education_dict = {'SPM':1, 'Diploma':2, 'Degree':3}\n",
    "\n",
    "# Assigning ordinal numerical value to all types of education\n",
    "df['Education'] = df['Education'].map(education_dict)"
   ]
  },
  {
   "cell_type": "code",
   "execution_count": 26,
   "id": "80d2861c",
   "metadata": {},
   "outputs": [
    {
     "data": {
      "text/html": [
       "<div>\n",
       "<style scoped>\n",
       "    .dataframe tbody tr th:only-of-type {\n",
       "        vertical-align: middle;\n",
       "    }\n",
       "\n",
       "    .dataframe tbody tr th {\n",
       "        vertical-align: top;\n",
       "    }\n",
       "\n",
       "    .dataframe thead th {\n",
       "        text-align: right;\n",
       "    }\n",
       "</style>\n",
       "<table border=\"1\" class=\"dataframe\">\n",
       "  <thead>\n",
       "    <tr style=\"text-align: right;\">\n",
       "      <th></th>\n",
       "      <th>Employee ID</th>\n",
       "      <th>Age</th>\n",
       "      <th>Education</th>\n",
       "      <th>Gender</th>\n",
       "      <th>Department_Finance</th>\n",
       "      <th>Department_Human Resource</th>\n",
       "      <th>Department_IT</th>\n",
       "      <th>Department_Sales</th>\n",
       "    </tr>\n",
       "  </thead>\n",
       "  <tbody>\n",
       "    <tr>\n",
       "      <th>0</th>\n",
       "      <td>100</td>\n",
       "      <td>24.0</td>\n",
       "      <td>2</td>\n",
       "      <td>0</td>\n",
       "      <td>1</td>\n",
       "      <td>0</td>\n",
       "      <td>0</td>\n",
       "      <td>0</td>\n",
       "    </tr>\n",
       "    <tr>\n",
       "      <th>1</th>\n",
       "      <td>101</td>\n",
       "      <td>NaN</td>\n",
       "      <td>2</td>\n",
       "      <td>1</td>\n",
       "      <td>0</td>\n",
       "      <td>0</td>\n",
       "      <td>1</td>\n",
       "      <td>0</td>\n",
       "    </tr>\n",
       "    <tr>\n",
       "      <th>2</th>\n",
       "      <td>102</td>\n",
       "      <td>18.0</td>\n",
       "      <td>1</td>\n",
       "      <td>0</td>\n",
       "      <td>0</td>\n",
       "      <td>0</td>\n",
       "      <td>0</td>\n",
       "      <td>1</td>\n",
       "    </tr>\n",
       "    <tr>\n",
       "      <th>3</th>\n",
       "      <td>103</td>\n",
       "      <td>28.0</td>\n",
       "      <td>3</td>\n",
       "      <td>0</td>\n",
       "      <td>0</td>\n",
       "      <td>1</td>\n",
       "      <td>0</td>\n",
       "      <td>0</td>\n",
       "    </tr>\n",
       "    <tr>\n",
       "      <th>4</th>\n",
       "      <td>104</td>\n",
       "      <td>29.0</td>\n",
       "      <td>3</td>\n",
       "      <td>0</td>\n",
       "      <td>1</td>\n",
       "      <td>0</td>\n",
       "      <td>0</td>\n",
       "      <td>0</td>\n",
       "    </tr>\n",
       "  </tbody>\n",
       "</table>\n",
       "</div>"
      ],
      "text/plain": [
       "   Employee ID   Age  Education  Gender  Department_Finance  \\\n",
       "0          100  24.0          2       0                   1   \n",
       "1          101   NaN          2       1                   0   \n",
       "2          102  18.0          1       0                   0   \n",
       "3          103  28.0          3       0                   0   \n",
       "4          104  29.0          3       0                   1   \n",
       "\n",
       "   Department_Human Resource  Department_IT  Department_Sales  \n",
       "0                          0              0                 0  \n",
       "1                          0              1                 0  \n",
       "2                          0              0                 1  \n",
       "3                          1              0                 0  \n",
       "4                          0              0                 0  "
      ]
     },
     "execution_count": 26,
     "metadata": {},
     "output_type": "execute_result"
    }
   ],
   "source": [
    "df.head()"
   ]
  },
  {
   "cell_type": "markdown",
   "id": "7ef875ee",
   "metadata": {},
   "source": [
    "Best practice by mapping them into a new numeric value. "
   ]
  },
  {
   "cell_type": "markdown",
   "id": "7d61f3ef",
   "metadata": {},
   "source": [
    "# <a name=\"numeric\">Numeric data\n",
    "Categorize values in Age columns according to their age stages."
   ]
  },
  {
   "cell_type": "code",
   "execution_count": 27,
   "id": "abc1e7a1",
   "metadata": {},
   "outputs": [],
   "source": [
    "# Slice age values\n",
    "df['Age_Group'] = pd.cut(df['Age'], bins=[0, 18, 25, 30, 35, 40])"
   ]
  },
  {
   "cell_type": "code",
   "execution_count": 28,
   "id": "655d7daf",
   "metadata": {},
   "outputs": [
    {
     "data": {
      "text/html": [
       "<div>\n",
       "<style scoped>\n",
       "    .dataframe tbody tr th:only-of-type {\n",
       "        vertical-align: middle;\n",
       "    }\n",
       "\n",
       "    .dataframe tbody tr th {\n",
       "        vertical-align: top;\n",
       "    }\n",
       "\n",
       "    .dataframe thead th {\n",
       "        text-align: right;\n",
       "    }\n",
       "</style>\n",
       "<table border=\"1\" class=\"dataframe\">\n",
       "  <thead>\n",
       "    <tr style=\"text-align: right;\">\n",
       "      <th></th>\n",
       "      <th>Employee ID</th>\n",
       "      <th>Age</th>\n",
       "      <th>Education</th>\n",
       "      <th>Gender</th>\n",
       "      <th>Department_Finance</th>\n",
       "      <th>Department_Human Resource</th>\n",
       "      <th>Department_IT</th>\n",
       "      <th>Department_Sales</th>\n",
       "      <th>Age_Group</th>\n",
       "    </tr>\n",
       "  </thead>\n",
       "  <tbody>\n",
       "    <tr>\n",
       "      <th>0</th>\n",
       "      <td>100</td>\n",
       "      <td>24.0</td>\n",
       "      <td>2</td>\n",
       "      <td>0</td>\n",
       "      <td>1</td>\n",
       "      <td>0</td>\n",
       "      <td>0</td>\n",
       "      <td>0</td>\n",
       "      <td>(18.0, 25.0]</td>\n",
       "    </tr>\n",
       "    <tr>\n",
       "      <th>1</th>\n",
       "      <td>101</td>\n",
       "      <td>NaN</td>\n",
       "      <td>2</td>\n",
       "      <td>1</td>\n",
       "      <td>0</td>\n",
       "      <td>0</td>\n",
       "      <td>1</td>\n",
       "      <td>0</td>\n",
       "      <td>NaN</td>\n",
       "    </tr>\n",
       "    <tr>\n",
       "      <th>2</th>\n",
       "      <td>102</td>\n",
       "      <td>18.0</td>\n",
       "      <td>1</td>\n",
       "      <td>0</td>\n",
       "      <td>0</td>\n",
       "      <td>0</td>\n",
       "      <td>0</td>\n",
       "      <td>1</td>\n",
       "      <td>(0.0, 18.0]</td>\n",
       "    </tr>\n",
       "    <tr>\n",
       "      <th>3</th>\n",
       "      <td>103</td>\n",
       "      <td>28.0</td>\n",
       "      <td>3</td>\n",
       "      <td>0</td>\n",
       "      <td>0</td>\n",
       "      <td>1</td>\n",
       "      <td>0</td>\n",
       "      <td>0</td>\n",
       "      <td>(25.0, 30.0]</td>\n",
       "    </tr>\n",
       "    <tr>\n",
       "      <th>4</th>\n",
       "      <td>104</td>\n",
       "      <td>29.0</td>\n",
       "      <td>3</td>\n",
       "      <td>0</td>\n",
       "      <td>1</td>\n",
       "      <td>0</td>\n",
       "      <td>0</td>\n",
       "      <td>0</td>\n",
       "      <td>(25.0, 30.0]</td>\n",
       "    </tr>\n",
       "  </tbody>\n",
       "</table>\n",
       "</div>"
      ],
      "text/plain": [
       "   Employee ID   Age  Education  Gender  Department_Finance  \\\n",
       "0          100  24.0          2       0                   1   \n",
       "1          101   NaN          2       1                   0   \n",
       "2          102  18.0          1       0                   0   \n",
       "3          103  28.0          3       0                   0   \n",
       "4          104  29.0          3       0                   1   \n",
       "\n",
       "   Department_Human Resource  Department_IT  Department_Sales     Age_Group  \n",
       "0                          0              0                 0  (18.0, 25.0]  \n",
       "1                          0              1                 0           NaN  \n",
       "2                          0              0                 1   (0.0, 18.0]  \n",
       "3                          1              0                 0  (25.0, 30.0]  \n",
       "4                          0              0                 0  (25.0, 30.0]  "
      ]
     },
     "execution_count": 28,
     "metadata": {},
     "output_type": "execute_result"
    }
   ],
   "source": [
    "df.head()"
   ]
  },
  {
   "cell_type": "markdown",
   "id": "7bb8dd1e",
   "metadata": {},
   "source": [
    "# <a name=\"exercise\">Exercise\n",
    "Perform feature engineering based on dataset given below."
   ]
  },
  {
   "cell_type": "code",
   "execution_count": 29,
   "id": "fb1710d7",
   "metadata": {},
   "outputs": [],
   "source": [
    "food = pd.read_csv('../data/food_preference.csv')"
   ]
  },
  {
   "cell_type": "code",
   "execution_count": 30,
   "id": "db703a80",
   "metadata": {},
   "outputs": [
    {
     "data": {
      "text/html": [
       "<div>\n",
       "<style scoped>\n",
       "    .dataframe tbody tr th:only-of-type {\n",
       "        vertical-align: middle;\n",
       "    }\n",
       "\n",
       "    .dataframe tbody tr th {\n",
       "        vertical-align: top;\n",
       "    }\n",
       "\n",
       "    .dataframe thead th {\n",
       "        text-align: right;\n",
       "    }\n",
       "</style>\n",
       "<table border=\"1\" class=\"dataframe\">\n",
       "  <thead>\n",
       "    <tr style=\"text-align: right;\">\n",
       "      <th></th>\n",
       "      <th>Timestamp</th>\n",
       "      <th>Participant_ID</th>\n",
       "      <th>Gender</th>\n",
       "      <th>Nationality</th>\n",
       "      <th>Age</th>\n",
       "      <th>Food</th>\n",
       "      <th>Juice</th>\n",
       "      <th>Dessert</th>\n",
       "    </tr>\n",
       "  </thead>\n",
       "  <tbody>\n",
       "    <tr>\n",
       "      <th>0</th>\n",
       "      <td>2019/05/07 2:59:13 PM GMT+8</td>\n",
       "      <td>FPS001</td>\n",
       "      <td>Male</td>\n",
       "      <td>Indian</td>\n",
       "      <td>24</td>\n",
       "      <td>Traditional food</td>\n",
       "      <td>Fresh Juice</td>\n",
       "      <td>Maybe</td>\n",
       "    </tr>\n",
       "    <tr>\n",
       "      <th>1</th>\n",
       "      <td>2019/05/07 2:59:45 PM GMT+8</td>\n",
       "      <td>FPS002</td>\n",
       "      <td>Female</td>\n",
       "      <td>Indian</td>\n",
       "      <td>22</td>\n",
       "      <td>Western Food</td>\n",
       "      <td>Carbonated drinks</td>\n",
       "      <td>Yes</td>\n",
       "    </tr>\n",
       "    <tr>\n",
       "      <th>2</th>\n",
       "      <td>2019/05/07 3:00:05 PM GMT+8</td>\n",
       "      <td>FPS003</td>\n",
       "      <td>Male</td>\n",
       "      <td>Indian</td>\n",
       "      <td>31</td>\n",
       "      <td>Western Food</td>\n",
       "      <td>Fresh Juice</td>\n",
       "      <td>Maybe</td>\n",
       "    </tr>\n",
       "    <tr>\n",
       "      <th>3</th>\n",
       "      <td>2019/05/07 3:00:11 PM GMT+8</td>\n",
       "      <td>FPS004</td>\n",
       "      <td>Female</td>\n",
       "      <td>Indian</td>\n",
       "      <td>25</td>\n",
       "      <td>Traditional food</td>\n",
       "      <td>Fresh Juice</td>\n",
       "      <td>Maybe</td>\n",
       "    </tr>\n",
       "    <tr>\n",
       "      <th>4</th>\n",
       "      <td>2019/05/07 3:02:50 PM GMT+8</td>\n",
       "      <td>FPS005</td>\n",
       "      <td>Male</td>\n",
       "      <td>Indian</td>\n",
       "      <td>27</td>\n",
       "      <td>Traditional food</td>\n",
       "      <td>Fresh Juice</td>\n",
       "      <td>Maybe</td>\n",
       "    </tr>\n",
       "  </tbody>\n",
       "</table>\n",
       "</div>"
      ],
      "text/plain": [
       "                     Timestamp Participant_ID  Gender Nationality  Age  \\\n",
       "0  2019/05/07 2:59:13 PM GMT+8         FPS001    Male      Indian   24   \n",
       "1  2019/05/07 2:59:45 PM GMT+8         FPS002  Female      Indian   22   \n",
       "2  2019/05/07 3:00:05 PM GMT+8         FPS003    Male      Indian   31   \n",
       "3  2019/05/07 3:00:11 PM GMT+8         FPS004  Female      Indian   25   \n",
       "4  2019/05/07 3:02:50 PM GMT+8         FPS005    Male      Indian   27   \n",
       "\n",
       "               Food              Juice Dessert  \n",
       "0  Traditional food        Fresh Juice   Maybe  \n",
       "1      Western Food  Carbonated drinks     Yes  \n",
       "2      Western Food        Fresh Juice   Maybe  \n",
       "3  Traditional food        Fresh Juice   Maybe  \n",
       "4  Traditional food        Fresh Juice   Maybe  "
      ]
     },
     "execution_count": 30,
     "metadata": {},
     "output_type": "execute_result"
    }
   ],
   "source": [
    "food.head()"
   ]
  },
  {
   "cell_type": "markdown",
   "id": "c39b02d9",
   "metadata": {},
   "source": [
    "<b>You may follow guidelines below to begin this exercise. Good luck! "
   ]
  },
  {
   "cell_type": "code",
   "execution_count": 31,
   "id": "675f4b21",
   "metadata": {},
   "outputs": [],
   "source": [
    "# Step 1 : Check if there is missing value\n"
   ]
  },
  {
   "cell_type": "code",
   "execution_count": 32,
   "id": "1aceb735",
   "metadata": {},
   "outputs": [],
   "source": [
    "# Step 2 : Deleting row that contain null value\n"
   ]
  },
  {
   "cell_type": "code",
   "execution_count": 33,
   "id": "ff1d5b76",
   "metadata": {},
   "outputs": [],
   "source": [
    "# Step 3 : Find unique values for categorical columns only\n",
    "\n",
    "# remove 'Timestamp' and 'Participant_ID' columns\n",
    "cat_df = food[food.columns.difference(['Timestamp', 'Participant_ID'])]\n",
    "\n",
    "# Print unique value of cat_df"
   ]
  },
  {
   "cell_type": "code",
   "execution_count": 34,
   "id": "f3aec5d3",
   "metadata": {},
   "outputs": [],
   "source": [
    "# Step 4 : Standardize Nationality values to malaysian and non-malaysian\n",
    "\n",
    "# Hint : use this values\n",
    "nationality = {\n",
    "    \"malaysian\" : \"malaysian\",\n",
    "    \"indian\" : \"non-malaysian\",\n",
    "    \"pakistani\" : \"non-malaysian\",\n",
    "    \"tanzanian\" : \"non-malaysian\",\n",
    "    \"indonesia\" : \"non-malaysian\",\n",
    "    \"pakistan\" : \"non-malaysian\",\n",
    "    \"maldivian\" : \"non-malaysian\",\n",
    "    \"my\" : \"malaysian\",\n",
    "    \"indonesian\" : \"non-malaysian\",\n",
    "    \"malaysia\" : \"malaysian\",\n",
    "    \"canadian\" : \"non-malaysian\",\n",
    "    \"nigerian\" : \"non-malaysian\",\n",
    "    \"algerian\" : \"non-malaysian\",\n",
    "    \"korean\" : \"non-malaysian\",\n",
    "    \"seychellois\" : \"non-malaysian\",\n",
    "    \"indonesain\" : \"non-malaysian\",\n",
    "    \"japan\" : \"non-malaysian\",\n",
    "    \"china\" : \"non-malaysian\",\n",
    "    \"mauritian\" : \"non-malaysian\",\n",
    "    \"yemen\" : \"non-malaysian\"\n",
    "}\n"
   ]
  },
  {
   "cell_type": "code",
   "execution_count": 35,
   "id": "6e7338d3",
   "metadata": {},
   "outputs": [],
   "source": [
    "# Step 5 : Perform feature engineering for the rest of categorical data\n",
    "\n",
    "cat_df = food[food.columns.difference(['Timestamp', 'Participant_ID', 'Age'])]\n",
    "\n"
   ]
  },
  {
   "cell_type": "code",
   "execution_count": 38,
   "id": "9482225c",
   "metadata": {},
   "outputs": [],
   "source": [
    "# Step 6(Bonus) : Extract date from 'Timestamp column'\n",
    "\n",
    "import datetime\n",
    "\n",
    "# Hint : New date format %d%m%Y\n",
    "def date_convert(date_to_convert):\n",
    "    try:\n",
    "        return datetime.datetime.strptime(date_to_convert, \"%Y/%m/%d %H:%M:%S %p GMT+8\").strftime('%d/%m/%Y')\n",
    "    except:\n",
    "        return \"Error\"\n",
    "    \n"
   ]
  },
  {
   "cell_type": "code",
   "execution_count": 40,
   "id": "bf7af699",
   "metadata": {},
   "outputs": [],
   "source": [
    "# food.head()"
   ]
  },
  {
   "cell_type": "markdown",
   "id": "b3e6d648",
   "metadata": {},
   "source": [
    "Congratulations, now you have a better understanding of how to include feature engineering into your project."
   ]
  },
  {
   "cell_type": "markdown",
   "id": "4b4183f4",
   "metadata": {},
   "source": [
    "# Further Readings\n",
    "* <a href=https://heartbeat.comet.ml/hands-on-with-feature-engineering-techniques-encoding-categorical-variables-be4bc0715394>More feature engineering techniques</a>"
   ]
  }
 ],
 "metadata": {
  "kernelspec": {
   "display_name": "Python 3",
   "language": "python",
   "name": "python3"
  },
  "language_info": {
   "codemirror_mode": {
    "name": "ipython",
    "version": 3
   },
   "file_extension": ".py",
   "mimetype": "text/x-python",
   "name": "python",
   "nbconvert_exporter": "python",
   "pygments_lexer": "ipython3",
   "version": "3.7.3"
  },
  "toc": {
   "base_numbering": 1,
   "nav_menu": {},
   "number_sections": true,
   "sideBar": true,
   "skip_h1_title": false,
   "title_cell": "Table of Contents",
   "title_sidebar": "Contents",
   "toc_cell": false,
   "toc_position": {},
   "toc_section_display": true,
   "toc_window_display": false
  }
 },
 "nbformat": 4,
 "nbformat_minor": 5
}
