{
 "cells": [
  {
   "cell_type": "markdown",
   "id": "d02f5f33",
   "metadata": {},
   "source": [
    "![license_header_logo](https://user-images.githubusercontent.com/59526258/124226124-27125b80-db3b-11eb-8ba1-488d88018ebb.png)\n",
    "> **Copyright (c) 2020-2021 CertifAI Sdn. Bhd.**<br>\n",
    " <br>\n",
    "This program is part of OSRFramework. You can redistribute it and/or modify\n",
    "<br>it under the terms of the GNU Affero General Public License as published by\n",
    "<br>the Free Software Foundation, either version 3 of the License, or\n",
    "<br>(at your option) any later version.\n",
    "<br>\n",
    "<br>This program is distributed in the hope that it will be useful,\n",
    "<br>but WITHOUT ANY WARRANTY; without even the implied warranty of\n",
    "<br>MERCHANTABILITY or FITNESS FOR A PARTICULAR PURPOSE.  See the\n",
    "<br>GNU Affero General Public License for more details.\n",
    "<br>\n",
    "<br>You should have received a copy of the GNU Affero General Public License\n",
    "<br>along with this program.  If not, see <http://www.gnu.org/licenses/>.\n",
    "<br>"
   ]
  },
  {
   "cell_type": "markdown",
   "id": "bd33e637",
   "metadata": {},
   "source": [
    "# Introduction\n",
    "\n",
    "Feature engineering is a machine learning techniques for extracting new features from raw data.\n",
    "In this notebook, we will explore on different types of feature engineering techniques:\n",
    "1. Imputation\n",
    "2. One-hot encoding for categorical data.\n",
    "3. Categorize numerical data.\n",
    "4. Engineer outlier\n",
    "\n",
    "# Learning Outcome\n",
    "By the end of this notebook, you should be able to know on how to:\n",
    "1. Perform feature engineering for missing values. \n",
    "2. Handling categorical data (binary, nominal, ordinal)\n",
    "3. Implement feature engineering for numerical data.\n",
    "4. Handling outlier values\n",
    "\n",
    "# Table Of Contents\n",
    "* [Missing values](#missing)\n",
    "* [Categorical data](#category)\n",
    "* [Numerical data](#numeric)\n",
    "* [Outlier](#outlier)\n",
    "* [Exercise ](#exercise)"
   ]
  },
  {
   "cell_type": "code",
   "execution_count": null,
   "id": "bacaa346",
   "metadata": {},
   "outputs": [],
   "source": [
    "import pandas as pd\n",
    "import numpy as np\n",
    "from sklearn import preprocessing"
   ]
  },
  {
   "cell_type": "code",
   "execution_count": null,
   "id": "6bd87c21",
   "metadata": {},
   "outputs": [],
   "source": [
    "# Dataset of employee\n",
    "df = pd.DataFrame({\n",
    "    \"Employee ID\" : ['100', '101', '102', '103', '104', '105', '106', '107', '108', '109'],\n",
    "    \"Department\" : [\"Finance\", \"IT\", \"Sales\", \"Human Resource\", \"Finance\", \"IT\", \"Sales\", \"Finance\", \"Sales\", \"IT\"],\n",
    "    \"Age\" : [24, np.nan, 18, 28, 29, 28, 30, 35, np.nan, 35],\n",
    "    \"Gender\" : [\"F\", \"M\", \"F\", \"F\", \"F\", \"M\", \"M\", \"M\", \"F\", \"F\"],\n",
    "    \"Education\" : [\"Diploma\", \"Diploma\", \"SPM\", \"Degree\", \"Degree\", \"SPM\", \"Degree\", \"SPM\", \"Diploma\", \"Degree\"]\n",
    "    })"
   ]
  },
  {
   "cell_type": "code",
   "execution_count": null,
   "id": "4a2fe26b",
   "metadata": {},
   "outputs": [],
   "source": [
    "# Change Employee ID as int data type\n",
    "df['Employee ID'] = df['Employee ID'].astype(int)"
   ]
  },
  {
   "cell_type": "code",
   "execution_count": null,
   "id": "2079f803",
   "metadata": {},
   "outputs": [],
   "source": [
    "df.head()"
   ]
  },
  {
   "cell_type": "code",
   "execution_count": null,
   "id": "25222ce9",
   "metadata": {},
   "outputs": [],
   "source": [
    "df.info()"
   ]
  },
  {
   "cell_type": "markdown",
   "id": "5588fc78",
   "metadata": {},
   "source": [
    "# <a name=\"typeformat\">Missing Values\n",
    "\n",
    "There are two methods to handle missing values:\n",
    "1. <b>Deleting information</b> that has missing value on it.\n",
    "    * Delete entire column\n",
    "    * Delete entire rows\n",
    "    \n",
    "    \n",
    "2. <b>Imputation</b>\n",
    "    * Impute using mean \n",
    "    * Impute using mode"
   ]
  },
  {
   "cell_type": "code",
   "execution_count": null,
   "id": "b5e90e56",
   "metadata": {},
   "outputs": [],
   "source": [
    "# Print the value that has missing values\n",
    "df.isnull().sum()"
   ]
  },
  {
   "cell_type": "markdown",
   "id": "4bdefb64",
   "metadata": {},
   "source": [
    "## Deleting value\n",
    "Deleting certain row with missing data, or certain column with missing data."
   ]
  },
  {
   "cell_type": "markdown",
   "id": "0a561375",
   "metadata": {},
   "source": [
    "### Column"
   ]
  },
  {
   "cell_type": "code",
   "execution_count": null,
   "id": "6816277b",
   "metadata": {},
   "outputs": [],
   "source": [
    "del_column = df.dropna(axis=1)"
   ]
  },
  {
   "cell_type": "code",
   "execution_count": null,
   "id": "f98b08ec",
   "metadata": {},
   "outputs": [],
   "source": [
    "del_column.head()"
   ]
  },
  {
   "cell_type": "markdown",
   "id": "a19dd7df",
   "metadata": {},
   "source": [
    "### Row"
   ]
  },
  {
   "cell_type": "code",
   "execution_count": null,
   "id": "666f7d6c",
   "metadata": {},
   "outputs": [],
   "source": [
    "del_row = df.dropna(axis=0)"
   ]
  },
  {
   "cell_type": "code",
   "execution_count": null,
   "id": "4a52b866",
   "metadata": {},
   "outputs": [],
   "source": [
    "del_row.head()"
   ]
  },
  {
   "cell_type": "markdown",
   "id": "fc831d7e",
   "metadata": {},
   "source": [
    "## Imputation\n",
    "Replacing missing data with statistical estimates of the missing values. \n",
    "\n",
    "Numerical value:\n",
    "1. Mean\n",
    "2. Mode\n",
    "3. Median\n",
    "\n",
    "Categorical value:\n",
    "1. Frequently use value or mode imputation.\n",
    "2. Adding a \"missing\"/\"unknown\" category.\n",
    "\n",
    "In this exercise we will show on how to imputate missing values by using mean or mode."
   ]
  },
  {
   "cell_type": "markdown",
   "id": "b39674af",
   "metadata": {},
   "source": [
    "### Mean\n",
    "Fills up the missing value by mean."
   ]
  },
  {
   "cell_type": "code",
   "execution_count": null,
   "id": "b4b7088f",
   "metadata": {},
   "outputs": [],
   "source": [
    "mean = df.fillna(df.mean().astype(int)) "
   ]
  },
  {
   "cell_type": "code",
   "execution_count": null,
   "id": "136998cc",
   "metadata": {},
   "outputs": [],
   "source": [
    "mean.head()"
   ]
  },
  {
   "cell_type": "markdown",
   "id": "7b528be2",
   "metadata": {},
   "source": [
    "### Mode\n",
    "Fills up the missing value by mode."
   ]
  },
  {
   "cell_type": "code",
   "execution_count": null,
   "id": "abec0455",
   "metadata": {},
   "outputs": [],
   "source": [
    "mode = df.fillna(df.mode())"
   ]
  },
  {
   "cell_type": "code",
   "execution_count": null,
   "id": "9475114d",
   "metadata": {},
   "outputs": [],
   "source": [
    "mode.head()"
   ]
  },
  {
   "cell_type": "markdown",
   "id": "9f1a232a",
   "metadata": {},
   "source": [
    "# <a name=\"category\">Categorical data\n",
    "Carry out feature engineering process on binary, nominal and ordinal."
   ]
  },
  {
   "cell_type": "code",
   "execution_count": null,
   "id": "29fbae02",
   "metadata": {},
   "outputs": [],
   "source": [
    "# Print unique value of cat_df\n",
    "for i in df.columns:\n",
    "    if df.dtypes[i] == 'object':\n",
    "        print(\"Column: {}\".format(i))\n",
    "        print(df[i].unique())"
   ]
  },
  {
   "cell_type": "markdown",
   "id": "807b9fc0",
   "metadata": {},
   "source": [
    "From the result above, here is the list of categorical data:\n",
    "* Binary : Gender\n",
    "* Nominal : Department\n",
    "* Ordinal : Education"
   ]
  },
  {
   "cell_type": "markdown",
   "id": "756b6818",
   "metadata": {},
   "source": [
    "## Binary Data\n",
    "Perform one-hot-encoding by using `get_dummies`. The first category of our data will be remove by using the **drop_first=True** because it contain the same information. It will be remove to prevent data redundancy in out dataset."
   ]
  },
  {
   "cell_type": "code",
   "execution_count": null,
   "id": "a343183c",
   "metadata": {},
   "outputs": [],
   "source": [
    "df = pd.get_dummies(data=df, columns=['Gender'], drop_first=True)"
   ]
  },
  {
   "cell_type": "code",
   "execution_count": null,
   "id": "293cc321",
   "metadata": {},
   "outputs": [],
   "source": [
    "df = df.rename(columns={\"Gender_M\":\"Gender\"})"
   ]
  },
  {
   "cell_type": "code",
   "execution_count": null,
   "id": "b0e28947",
   "metadata": {},
   "outputs": [],
   "source": [
    "df.head()"
   ]
  },
  {
   "cell_type": "markdown",
   "id": "9aafcbcd",
   "metadata": {},
   "source": [
    "Take a quick look on Gender column, value 1 represent as male and 0 as female."
   ]
  },
  {
   "cell_type": "markdown",
   "id": "9c80fcd4",
   "metadata": {},
   "source": [
    "## Nominal Data\n",
    "They are two method to perform feature engineering for nominal data:\n",
    "### Label Encoder "
   ]
  },
  {
   "cell_type": "code",
   "execution_count": null,
   "id": "ed84aa28",
   "metadata": {},
   "outputs": [],
   "source": [
    "# make a copy of our data\n",
    "df_encode = df.copy()"
   ]
  },
  {
   "cell_type": "code",
   "execution_count": null,
   "id": "61b6accd",
   "metadata": {},
   "outputs": [],
   "source": [
    "label_encoder = preprocessing.LabelEncoder()"
   ]
  },
  {
   "cell_type": "code",
   "execution_count": null,
   "id": "7d6e76f0",
   "metadata": {},
   "outputs": [],
   "source": [
    "df_encode['Department'] = label_encoder.fit_transform(df_encode['Department'])"
   ]
  },
  {
   "cell_type": "code",
   "execution_count": null,
   "id": "3d2eac9c",
   "metadata": {},
   "outputs": [],
   "source": [
    "df_encode.head()"
   ]
  },
  {
   "cell_type": "markdown",
   "id": "e7c040be",
   "metadata": {},
   "source": [
    "Label encoding use alphabetical ordering. Thus the values in Department column will resulted in the following order :<br>\n",
    "<b>Finance > Human Resource > IT > Sales</b><br>\n",
    "\n",
    "Department names do not have an order or rank. When label encoding is performed, it will create order relationship between the categories."
   ]
  },
  {
   "cell_type": "markdown",
   "id": "c9b67b5d",
   "metadata": {},
   "source": [
    "### One-Hot Encoding"
   ]
  },
  {
   "cell_type": "code",
   "execution_count": null,
   "id": "95273cb5",
   "metadata": {},
   "outputs": [],
   "source": [
    "df = pd.get_dummies(data=df, columns=['Department'])"
   ]
  },
  {
   "cell_type": "code",
   "execution_count": null,
   "id": "c830d0d1",
   "metadata": {},
   "outputs": [],
   "source": [
    "df.head()"
   ]
  },
  {
   "cell_type": "markdown",
   "id": "18b7e572",
   "metadata": {},
   "source": [
    "**Challenges of One-Hot Encoding**\n",
    "* Expands feature space\n",
    "* Many features may look identical, this will leads to redundant information."
   ]
  },
  {
   "cell_type": "markdown",
   "id": "1f6b61a0",
   "metadata": {},
   "source": [
    "## Ordinal data\n",
    "Data that introduce an order between them for example grade, review or ranking."
   ]
  },
  {
   "cell_type": "code",
   "execution_count": null,
   "id": "411d5b64",
   "metadata": {},
   "outputs": [],
   "source": [
    "# Creating dictionary for mapping the ordinal numerical value\n",
    "education_dict = {'SPM':1, 'Diploma':2, 'Degree':3}\n",
    "\n",
    "# Assigning ordinal numerical value to all types of education\n",
    "df['Education'] = df['Education'].map(education_dict)"
   ]
  },
  {
   "cell_type": "code",
   "execution_count": null,
   "id": "80d2861c",
   "metadata": {},
   "outputs": [],
   "source": [
    "df.head()"
   ]
  },
  {
   "cell_type": "markdown",
   "id": "7ef875ee",
   "metadata": {},
   "source": [
    "Best practice by mapping them into a new numeric value. "
   ]
  },
  {
   "cell_type": "markdown",
   "id": "7d61f3ef",
   "metadata": {},
   "source": [
    "# <a name=\"numeric\">Numeric data\n",
    "Categorize values in Age columns according to their age stages."
   ]
  },
  {
   "cell_type": "code",
   "execution_count": null,
   "id": "abc1e7a1",
   "metadata": {},
   "outputs": [],
   "source": [
    "# Slice age values\n",
    "df['Age_Group'] = pd.cut(df['Age'], bins=[0, 18, 25, 30, 35, 40])"
   ]
  },
  {
   "cell_type": "code",
   "execution_count": null,
   "id": "655d7daf",
   "metadata": {
    "scrolled": true
   },
   "outputs": [],
   "source": [
    "df.head()"
   ]
  },
  {
   "cell_type": "markdown",
   "id": "f71a9cdc",
   "metadata": {},
   "source": [
    "# <a name=\"outlier\">Handling Outlier</a>\n",
    "## Outlier?\n",
    "Mathematically, outlier is a significant greater or lower than other data values.\n",
    "\n",
    "## Finding Outlier - Boxplot\n",
    "<img src=\"https://matplotlib.org/3.2.2/_images/boxplot_explanation.png\" width=\"500\"/>\n",
    "\n",
    "[Image Source: Matplotlib](https://matplotlib.org/3.2.2/faq/howto_faq.html)\n",
    "\n",
    "## Understanding boxplot\n",
    "- Boxplot is a method to display the distribution of data\n",
    "- The Interquartile Range(IQR) indicates the range where most data is spread. We can use this to observe the spread of data. In other words, the data is concentrated in the IQR. "
   ]
  },
  {
   "cell_type": "code",
   "execution_count": null,
   "id": "e589c6e4",
   "metadata": {},
   "outputs": [],
   "source": [
    "student = df = pd.DataFrame({\n",
    "    \"Student ID\" : ['100', '101', '102', '103', '104', '105', '106', '107', '108', '109'],\n",
    "    \"Marks\" : [75, 62, 1, 66, 80, 194, 80, 90, 2, 65]\n",
    "#     \"Marks\" : [0.1, 60, 62, 65, 66, 70, 75, 80, 90, 194]\n",
    "    })"
   ]
  },
  {
   "cell_type": "code",
   "execution_count": null,
   "id": "84403392",
   "metadata": {},
   "outputs": [],
   "source": [
    "student"
   ]
  },
  {
   "cell_type": "markdown",
   "id": "388e0fca",
   "metadata": {},
   "source": [
    "## Interquartile range (IQR)\n",
    "Interquartile range, Q3-Q1"
   ]
  },
  {
   "cell_type": "code",
   "execution_count": null,
   "id": "734d3d48",
   "metadata": {},
   "outputs": [],
   "source": [
    "# sort in increasing order\n",
    "sorted(student['Marks'])"
   ]
  },
  {
   "cell_type": "code",
   "execution_count": null,
   "id": "ba9ae379",
   "metadata": {},
   "outputs": [],
   "source": [
    "# find q1(25%) and q3(75%)\n",
    "q1, q3 = np.percentile(student['Marks'],[25,75])\n",
    "print(q1, q3)"
   ]
  },
  {
   "cell_type": "code",
   "execution_count": null,
   "id": "8f3073b4",
   "metadata": {},
   "outputs": [],
   "source": [
    "# find IQR\n",
    "IQR = q3 - q1\n",
    "print(IQR)"
   ]
  },
  {
   "cell_type": "code",
   "execution_count": null,
   "id": "0d61d6c4",
   "metadata": {},
   "outputs": [],
   "source": [
    "# find lower bound and upper bound\n",
    "lower_bound = q1 - (1.5 * IQR)\n",
    "upper_bound = q3 + (1.5 * IQR)\n",
    "\n",
    "print(lower_bound, upper_bound)"
   ]
  },
  {
   "cell_type": "markdown",
   "id": "87132703",
   "metadata": {},
   "source": [
    "As you can see from the example above, if the marks are below the lower boundary and above the upper boundary, they are considered outliers."
   ]
  },
  {
   "cell_type": "code",
   "execution_count": null,
   "id": "1bba6c51",
   "metadata": {
    "scrolled": true
   },
   "outputs": [],
   "source": [
    "student.boxplot()"
   ]
  },
  {
   "cell_type": "markdown",
   "id": "1c173ba1",
   "metadata": {},
   "source": [
    "Visualize outlier in boxplot."
   ]
  },
  {
   "cell_type": "markdown",
   "id": "5e6feacf",
   "metadata": {},
   "source": [
    "## Trimming"
   ]
  },
  {
   "cell_type": "code",
   "execution_count": null,
   "id": "d4dd85ad",
   "metadata": {},
   "outputs": [],
   "source": [
    "stud_trim = student.copy() # copy as we does not make change to original dataset"
   ]
  },
  {
   "cell_type": "code",
   "execution_count": null,
   "id": "2bc51441",
   "metadata": {},
   "outputs": [],
   "source": [
    "# remove the outlier value in \"Marks\" column\n",
    "for x in ['Marks']:\n",
    "    stud_trim.loc[stud_trim[x] < lower_bound,x] = np.nan\n",
    "    stud_trim.loc[stud_trim[x] > upper_bound,x] = np.nan"
   ]
  },
  {
   "cell_type": "code",
   "execution_count": null,
   "id": "eb7e18cf",
   "metadata": {},
   "outputs": [],
   "source": [
    "stud_trim.boxplot()"
   ]
  },
  {
   "cell_type": "markdown",
   "id": "feeabd80",
   "metadata": {},
   "source": [
    "The outlier has been successfully removed from the Marks column."
   ]
  },
  {
   "cell_type": "markdown",
   "id": "9e4efe38",
   "metadata": {},
   "source": [
    "## Winsorizing"
   ]
  },
  {
   "cell_type": "code",
   "execution_count": null,
   "id": "63792547",
   "metadata": {},
   "outputs": [],
   "source": [
    "stud_winsor = student.copy()"
   ]
  },
  {
   "cell_type": "code",
   "execution_count": null,
   "id": "995985bd",
   "metadata": {},
   "outputs": [],
   "source": [
    "from scipy.stats.mstats import winsorize"
   ]
  },
  {
   "cell_type": "code",
   "execution_count": null,
   "id": "0116a7c9",
   "metadata": {},
   "outputs": [],
   "source": [
    "stud_winsor"
   ]
  },
  {
   "cell_type": "code",
   "execution_count": null,
   "id": "adcd8913",
   "metadata": {},
   "outputs": [],
   "source": [
    "stud_winsor['Marks'] = winsorize(stud_winsor['Marks'], limits=[0.25, 0.1])"
   ]
  },
  {
   "cell_type": "code",
   "execution_count": null,
   "id": "8585b7e5",
   "metadata": {},
   "outputs": [],
   "source": [
    "stud_winsor.boxplot()"
   ]
  },
  {
   "cell_type": "code",
   "execution_count": null,
   "id": "e5e525da",
   "metadata": {},
   "outputs": [],
   "source": [
    "stud_winsor"
   ]
  },
  {
   "cell_type": "markdown",
   "id": "d43273ec",
   "metadata": {},
   "source": [
    "As you can see from the above, the dataset has been winsorize such that the extreme values(outlier) is being replaced by the lowest and highest value of our dataset."
   ]
  },
  {
   "cell_type": "markdown",
   "id": "7bb8dd1e",
   "metadata": {},
   "source": [
    "# <a name=\"exercise\">Exercise\n",
    "Perform feature engineering based on dataset given below."
   ]
  },
  {
   "cell_type": "code",
   "execution_count": null,
   "id": "fb1710d7",
   "metadata": {},
   "outputs": [],
   "source": [
    "food = pd.read_csv('../data/food_preference.csv')"
   ]
  },
  {
   "cell_type": "code",
   "execution_count": null,
   "id": "db703a80",
   "metadata": {},
   "outputs": [],
   "source": [
    "food.head()"
   ]
  },
  {
   "cell_type": "markdown",
   "id": "c39b02d9",
   "metadata": {},
   "source": [
    "<b>You may follow guidelines below to begin this exercise. Good luck! "
   ]
  },
  {
   "cell_type": "code",
   "execution_count": null,
   "id": "675f4b21",
   "metadata": {},
   "outputs": [],
   "source": [
    "# Step 1 : Check if there is missing value\n"
   ]
  },
  {
   "cell_type": "code",
   "execution_count": null,
   "id": "1aceb735",
   "metadata": {},
   "outputs": [],
   "source": [
    "# Step 2 : Deleting row that contain null value\n"
   ]
  },
  {
   "cell_type": "code",
   "execution_count": null,
   "id": "ff1d5b76",
   "metadata": {},
   "outputs": [],
   "source": [
    "# Step 3 : Find unique values for categorical columns only\n",
    "\n",
    "# remove 'Timestamp' and 'Participant_ID' columns\n",
    "cat_df = food[food.columns.difference(['Timestamp', 'Participant_ID'])]\n",
    "\n",
    "# Print unique value of cat_df"
   ]
  },
  {
   "cell_type": "code",
   "execution_count": null,
   "id": "f3aec5d3",
   "metadata": {},
   "outputs": [],
   "source": [
    "# Step 4 : Standardize Nationality values to malaysian and non-malaysian\n",
    "\n",
    "# Hint : use this values\n",
    "nationality = {\n",
    "    \"malaysian\" : \"malaysian\",\n",
    "    \"indian\" : \"non-malaysian\",\n",
    "    \"pakistani\" : \"non-malaysian\",\n",
    "    \"tanzanian\" : \"non-malaysian\",\n",
    "    \"indonesia\" : \"non-malaysian\",\n",
    "    \"pakistan\" : \"non-malaysian\",\n",
    "    \"maldivian\" : \"non-malaysian\",\n",
    "    \"my\" : \"malaysian\",\n",
    "    \"indonesian\" : \"non-malaysian\",\n",
    "    \"malaysia\" : \"malaysian\",\n",
    "    \"canadian\" : \"non-malaysian\",\n",
    "    \"nigerian\" : \"non-malaysian\",\n",
    "    \"algerian\" : \"non-malaysian\",\n",
    "    \"korean\" : \"non-malaysian\",\n",
    "    \"seychellois\" : \"non-malaysian\",\n",
    "    \"indonesain\" : \"non-malaysian\",\n",
    "    \"japan\" : \"non-malaysian\",\n",
    "    \"china\" : \"non-malaysian\",\n",
    "    \"mauritian\" : \"non-malaysian\",\n",
    "    \"yemen\" : \"non-malaysian\"\n",
    "}\n",
    "\n",
    "food[\"Nationality\"] = food[\"Nationality\"].apply(str.lower).apply(str.strip).apply(lambda x:nationality[x])"
   ]
  },
  {
   "cell_type": "code",
   "execution_count": null,
   "id": "6e7338d3",
   "metadata": {},
   "outputs": [],
   "source": [
    "# Step 5 : Perform feature engineering for the rest of categorical data\n",
    "\n",
    "cat_df = food[food.columns.difference(['Timestamp', 'Participant_ID', 'Age'])]\n",
    "\n",
    "# Enter your solution here"
   ]
  },
  {
   "cell_type": "code",
   "execution_count": null,
   "id": "9482225c",
   "metadata": {},
   "outputs": [],
   "source": [
    "# Step 6(Bonus) : Extract date from 'Timestamp column'\n",
    "\n",
    "import datetime\n",
    "# Hint : New date format %d%m%Y\n",
    "\n",
    "def date_convert(date_to_convert):\n",
    "    try:\n",
    "        return datetime.datetime.strptime(date_to_convert, \"%Y/%m/%d %H:%M:%S %p GMT+8\").strftime('%d/%m/%Y')\n",
    "    except:\n",
    "        return \"Error\"\n",
    "    \n",
    "# Enter your solution here"
   ]
  },
  {
   "cell_type": "code",
   "execution_count": null,
   "id": "bf7af699",
   "metadata": {},
   "outputs": [],
   "source": [
    "food.head()"
   ]
  },
  {
   "cell_type": "markdown",
   "id": "b3e6d648",
   "metadata": {},
   "source": [
    "Congratulations, now you have a better understanding of how to include feature engineering into your project."
   ]
  },
  {
   "cell_type": "markdown",
   "id": "4b4183f4",
   "metadata": {},
   "source": [
    "# Further Readings\n",
    "* <a href=https://heartbeat.comet.ml/hands-on-with-feature-engineering-techniques-encoding-categorical-variables-be4bc0715394>More feature engineering techniques</a>"
   ]
  }
 ],
 "metadata": {
  "kernelspec": {
   "display_name": "Python 3",
   "language": "python",
   "name": "python3"
  },
  "language_info": {
   "codemirror_mode": {
    "name": "ipython",
    "version": 3
   },
   "file_extension": ".py",
   "mimetype": "text/x-python",
   "name": "python",
   "nbconvert_exporter": "python",
   "pygments_lexer": "ipython3",
   "version": "3.7.3"
  },
  "toc": {
   "base_numbering": 1,
   "nav_menu": {},
   "number_sections": true,
   "sideBar": true,
   "skip_h1_title": false,
   "title_cell": "Table of Contents",
   "title_sidebar": "Contents",
   "toc_cell": false,
   "toc_position": {},
   "toc_section_display": true,
   "toc_window_display": true
  }
 },
 "nbformat": 4,
 "nbformat_minor": 5
}
