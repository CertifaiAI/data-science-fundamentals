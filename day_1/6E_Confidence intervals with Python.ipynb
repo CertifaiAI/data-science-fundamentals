{
 "cells": [
  {
   "cell_type": "markdown",
   "metadata": {},
   "source": [
    "![license_header_logo](https://user-images.githubusercontent.com/59526258/124226124-27125b80-db3b-11eb-8ba1-488d88018ebb.png)\n",
    "> **Copyright (c) 2020-2021 CertifAI Sdn. Bhd.**<br>\n",
    " <br>\n",
    "This program is part of OSRFramework. You can redistribute it and/or modify\n",
    "<br>it under the terms of the GNU Affero General Public License as published by\n",
    "<br>the Free Software Foundation, either version 3 of the License, or\n",
    "<br>(at your option) any later version.\n",
    "<br>\n",
    "<br>This program is distributed in the hope that it will be useful,\n",
    "<br>but WITHOUT ANY WARRANTY; without even the implied warranty of\n",
    "<br>MERCHANTABILITY or FITNESS FOR A PARTICULAR PURPOSE.  See the\n",
    "<br>GNU Affero General Public License for more details.\n",
    "<br>\n",
    "<br>You should have received a copy of the GNU Affero General Public License\n",
    "<br>along with this program.  If not, see <http://www.gnu.org/licenses/>.\n",
    "<br>"
   ]
  },
  {
   "cell_type": "markdown",
   "metadata": {},
   "source": [
    "## Introduction \n",
    "\n",
    "In this task we will be looking at diffrent type of confident interval and see how to do confident interval using python \n",
    "\n",
    "## What will we accomplish?\n",
    "\n",
    "By the end of the notebook we will be able to :\n",
    "1. Know diffrent type of confident interval\n",
    "2. How and when to use the different confident interval\n",
    "3. Use the formulas of the confident interval\n",
    "\n",
    "## Notebook Content\n",
    "* [Part 1 :Propotion Population Confident Interval](#propotion)\n",
    "    * [Confidence Interval for female population proportion that has heart disease.](#femalepropotion)\n",
    "    * [Confidence Interval for difference in population propotion .](#diffpropotion)\n",
    "* [Part 2 :Population Mean Confidence Interval](#meaninterval)\n",
    "    * [Confidence of the female cholesterol level mean.](#femalemeaninterval)\n",
    "    * [Confidence Interval for difference in population mean.](#diffmeaninterval)"
   ]
  },
  {
   "cell_type": "markdown",
   "metadata": {},
   "source": [
    "We will be using mainly pandas and numpy"
   ]
  },
  {
   "cell_type": "code",
   "execution_count": null,
   "metadata": {},
   "outputs": [],
   "source": [
    "import pandas as pd\n",
    "import numpy as np"
   ]
  },
  {
   "cell_type": "markdown",
   "metadata": {},
   "source": [
    "Dataset can be downloaded at https://www.kaggle.com/johnsmith88/heart-disease-dataset"
   ]
  },
  {
   "cell_type": "code",
   "execution_count": null,
   "metadata": {},
   "outputs": [],
   "source": [
    "df = pd.read_csv('..//Heart.csv')\n",
    "df"
   ]
  },
  {
   "cell_type": "markdown",
   "metadata": {},
   "source": [
    "<a name=\"propotion\"><h3><b>Propotion Population Confident Interval "
   ]
  },
  {
   "cell_type": "markdown",
   "metadata": {},
   "source": [
    "We create the population propotion data frame which is person with the heart disease and differentiated by gender"
   ]
  },
  {
   "cell_type": "code",
   "execution_count": null,
   "metadata": {},
   "outputs": [],
   "source": [
    "df['gender'] = df.sex.replace({1: \"Male\", 0: \"Female\"})"
   ]
  },
  {
   "cell_type": "markdown",
   "metadata": {},
   "source": [
    "Drop all not available data"
   ]
  },
  {
   "cell_type": "code",
   "execution_count": null,
   "metadata": {},
   "outputs": [],
   "source": [
    "data = df[[\"target\", \"gender\"]].dropna()"
   ]
  },
  {
   "cell_type": "code",
   "execution_count": null,
   "metadata": {},
   "outputs": [],
   "source": [
    "pd.crosstab(data.target, data.gender)"
   ]
  },
  {
   "cell_type": "markdown",
   "metadata": {},
   "source": [
    "<a name=\"femalepropotion\"><h4><b>Confidence Interval for female population proportion that has heart disease."
   ]
  },
  {
   "cell_type": "markdown",
   "metadata": {},
   "source": [
    "Get the female number and its propotion that have heart disease to get its confidence interval"
   ]
  },
  {
   "cell_type": "code",
   "execution_count": null,
   "metadata": {},
   "outputs": [],
   "source": [
    "f=86+226\n",
    "f_propotion = 226/(f)"
   ]
  },
  {
   "cell_type": "markdown",
   "metadata": {},
   "source": [
    "Get the standard error of the female propotion that have heart disease ( see the Confidence interval for proportions\n",
    "formula )"
   ]
  },
  {
   "cell_type": "code",
   "execution_count": null,
   "metadata": {},
   "outputs": [],
   "source": [
    "se_female = np.sqrt(f_propotion * (1 - f_propotion) / f)\n",
    "se_female"
   ]
  },
  {
   "cell_type": "markdown",
   "metadata": {},
   "source": [
    "Get the 95% confidence level ( the z_score is 1.96 which is available in the table) and use the formula get the interval"
   ]
  },
  {
   "cell_type": "code",
   "execution_count": null,
   "metadata": {},
   "outputs": [],
   "source": [
    "z_score = 1.96\n",
    "\n",
    "lower_interval_FP = f_propotion - z_score* se_female\n",
    "upper_interval_FP = f_propotion + z_score* se_female\n",
    "\n",
    "(lower_interval_FP, upper_interval_FP)"
   ]
  },
  {
   "cell_type": "markdown",
   "metadata": {},
   "source": [
    "For the female having heart disease: the lower and upper bounds of the 95% confidence interval are 0.675 and 0.774."
   ]
  },
  {
   "cell_type": "markdown",
   "metadata": {},
   "source": [
    "There is multiple method on getting the 95% confidence score and using the stasmodels is on of them"
   ]
  },
  {
   "cell_type": "code",
   "execution_count": null,
   "metadata": {},
   "outputs": [],
   "source": [
    "import statsmodels.api as sm\n",
    "sm.stats.proportion_confint(f * f_propotion, f)"
   ]
  },
  {
   "cell_type": "markdown",
   "metadata": {},
   "source": [
    "<a name=\"diffpropotion\"><h4><b>Confidence Interval for difference in population propotion "
   ]
  },
  {
   "cell_type": "code",
   "execution_count": null,
   "metadata": {},
   "outputs": [],
   "source": [
    "m = 399+413 \n",
    "m_propotion = 399/(m) "
   ]
  },
  {
   "cell_type": "markdown",
   "metadata": {},
   "source": [
    "Get the standard error of the male propotion that have heart disease ( see the Confidence interval for proportions\n",
    "formula )"
   ]
  },
  {
   "cell_type": "code",
   "execution_count": null,
   "metadata": {},
   "outputs": [],
   "source": [
    "se_male = np.sqrt(m_propotion * (1 - m_propotion) / m)\n",
    "se_male"
   ]
  },
  {
   "cell_type": "markdown",
   "metadata": {},
   "source": [
    "Get the diffrence in standard error between the female and male  "
   ]
  },
  {
   "cell_type": "code",
   "execution_count": null,
   "metadata": {},
   "outputs": [],
   "source": [
    "se_diff = np.sqrt(se_female**2 + se_male**2)"
   ]
  },
  {
   "cell_type": "markdown",
   "metadata": {},
   "source": [
    "Get the proption difference"
   ]
  },
  {
   "cell_type": "code",
   "execution_count": null,
   "metadata": {},
   "outputs": [],
   "source": [
    "d_propotion = f_propotion - m_propotion "
   ]
  },
  {
   "cell_type": "markdown",
   "metadata": {},
   "source": [
    "The upper and lower interval of the diffrence"
   ]
  },
  {
   "cell_type": "code",
   "execution_count": null,
   "metadata": {},
   "outputs": [],
   "source": [
    "lower_interval_DP = d_propotion - z_score* se_diff\n",
    "upper_interval_DP = d_propotion + z_score* se_diff\n",
    "\n",
    "(lower_interval_DP, upper_interval_DP)"
   ]
  },
  {
   "cell_type": "markdown",
   "metadata": {},
   "source": [
    "For the gender difference having heart disease: the lower and upper bounds of the 95% confidence interval are 0.173 and 0.293.\n"
   ]
  },
  {
   "cell_type": "markdown",
   "metadata": {},
   "source": [
    "<a name=\"meaninterval\"><h3><b>Population Mean Confidence Interval</h3></a>\n",
    "\n",
    "<a name=\"femalemeaninterval\"><h4>Confidence of the female cholesterol level mean"
   ]
  },
  {
   "cell_type": "markdown",
   "metadata": {},
   "source": [
    "Here we get the mean ,size and standard devation of level of cholestrol between gender"
   ]
  },
  {
   "cell_type": "code",
   "execution_count": null,
   "metadata": {},
   "outputs": [],
   "source": [
    "df.groupby(\"gender\").agg({\"chol\": [np.mean, np.std, np.size]})"
   ]
  },
  {
   "cell_type": "markdown",
   "metadata": {},
   "source": [
    "Get the needed data for the mean confidence interval ( see the formula of the Confidence interval for the mean of normally-distributed data)"
   ]
  },
  {
   "cell_type": "code",
   "execution_count": null,
   "metadata": {},
   "outputs": [],
   "source": [
    "z = 1.96\n",
    "mean_f = 261.455128  \n",
    "sd_f = 64.466781     \n",
    "n_f = 312\n",
    "se_f = sd_f /np.sqrt(n_f)"
   ]
  },
  {
   "cell_type": "markdown",
   "metadata": {},
   "source": [
    "Get the intervals for 95% confidence level"
   ]
  },
  {
   "cell_type": "code",
   "execution_count": null,
   "metadata": {},
   "outputs": [],
   "source": [
    "lower_interval_FM = mean_f - z* se_f  \n",
    "upper_interval_FM = mean_f + z* se_f  \n",
    "(lower_interval_FM, upper_interval_FM)"
   ]
  },
  {
   "cell_type": "markdown",
   "metadata": {},
   "source": [
    "For the female cholesterol level: the lower and upper bounds of the 95% confidence interval are 254.302 and 268.609."
   ]
  },
  {
   "cell_type": "markdown",
   "metadata": {},
   "source": [
    "<a name=\"diffmeaninterval\"><h4><b>Confidence Interval for difference in population mean "
   ]
  },
  {
   "cell_type": "markdown",
   "metadata": {},
   "source": [
    "Get the needed data from above for male population"
   ]
  },
  {
   "cell_type": "code",
   "execution_count": null,
   "metadata": {},
   "outputs": [],
   "source": [
    "mean_m = 239.237027  \n",
    "sd_m = 43.155535     \n",
    "n_m = 713\n",
    "se_m = sd_m /np.sqrt(n_m)"
   ]
  },
  {
   "cell_type": "markdown",
   "metadata": {},
   "source": [
    "Find the standard error using the unpooled approach ( we use the unpooled because the variance between male and women not the same )( see the standard deviation to estimate the variance) "
   ]
  },
  {
   "cell_type": "code",
   "execution_count": null,
   "metadata": {},
   "outputs": [],
   "source": [
    "mean_d = mean_f - mean_m\n",
    "\n",
    "se_d = (np.sqrt((n_f-1)*se_f**2 + (n_m-1)*se_m**2)/(n_f+n_m-2))*(np.sqrt(1/n_f + 1/n_m))"
   ]
  },
  {
   "cell_type": "markdown",
   "metadata": {},
   "source": [
    "Calculate the interval difference "
   ]
  },
  {
   "cell_type": "code",
   "execution_count": null,
   "metadata": {},
   "outputs": [],
   "source": [
    "lower_interval_DM = mean_d - 1.96*se_d  \n",
    "upper_interval_DM = mean_d + 1.96*se_d  \n",
    "(lower_interval_DM, upper_interval_DM)"
   ]
  }
 ],
 "metadata": {
  "kernelspec": {
   "display_name": "Python 3",
   "language": "python",
   "name": "python3"
  },
  "language_info": {
   "codemirror_mode": {
    "name": "ipython",
    "version": 3
   },
   "file_extension": ".py",
   "mimetype": "text/x-python",
   "name": "python",
   "nbconvert_exporter": "python",
   "pygments_lexer": "ipython3",
   "version": "3.7.9"
  }
 },
 "nbformat": 4,
 "nbformat_minor": 4
}
